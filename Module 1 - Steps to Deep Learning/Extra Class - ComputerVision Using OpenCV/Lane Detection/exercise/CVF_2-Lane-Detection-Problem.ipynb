{
 "cells": [
  {
   "cell_type": "code",
   "execution_count": null,
   "id": "dfd36814",
   "metadata": {},
   "outputs": [],
   "source": [
    "#### Lane Detection Algorithm"
   ]
  },
  {
   "cell_type": "code",
   "execution_count": 14,
   "id": "95134588",
   "metadata": {},
   "outputs": [],
   "source": [
    "import numpy as np\n",
    "import cv2"
   ]
  },
  {
   "cell_type": "code",
   "execution_count": 15,
   "id": "dbaa0e55",
   "metadata": {},
   "outputs": [
    {
     "name": "stdout",
     "output_type": "stream",
     "text": [
      "total intensities:  162333\n"
     ]
    }
   ],
   "source": [
    "#Question 1\n",
    "image = cv2.imread(\"/Users/nguyendinhvinh2004gmail.com/Desktop/New_Data/De Cuong mon học/Machine Learning Course - VinhND/Week 4/QSTC/Computer Vision Foundation/Computer Vision Foundation - Session 2 - LD/dataset/test_image.jpg\")\n",
    "grayscale = # ************** your code here *******************\n",
    "print(\"total intensities: \", sum(sum(grayscale)))"
   ]
  },
  {
   "cell_type": "code",
   "execution_count": 16,
   "id": "3e06377b",
   "metadata": {},
   "outputs": [
    {
     "name": "stdout",
     "output_type": "stream",
     "text": [
      "total intensities:  159945\n"
     ]
    }
   ],
   "source": [
    "# Question 2\n",
    "kernel_size = 5\n",
    "blur = # ************** your code here *******************\n",
    "print(\"total intensities: \", sum(sum(blur)))"
   ]
  },
  {
   "cell_type": "code",
   "execution_count": 17,
   "id": "04eb2940",
   "metadata": {},
   "outputs": [
    {
     "name": "stdout",
     "output_type": "stream",
     "text": [
      "total intensities:  318588\n"
     ]
    }
   ],
   "source": [
    "# Question 3\n",
    "low_t = 50\n",
    "high_t = 150\n",
    "edges = # ************** your code here *******************\n",
    "print(\"total intensities: \", sum(sum(edges)))"
   ]
  },
  {
   "cell_type": "code",
   "execution_count": 18,
   "id": "83782081",
   "metadata": {},
   "outputs": [
    {
     "name": "stdout",
     "output_type": "stream",
     "text": [
      "total intensities:  104652\n"
     ]
    }
   ],
   "source": [
    "# Question 4\n",
    "def limit_research_space(image):\n",
    "\tmask = np.zeros_like(image)\n",
    "\tignore_mask_color = 255\n",
    "\t# creating a polygon to focus only on the road in the picture\n",
    "\t# we have created this polygon in accordance to how the camera was placed\n",
    "\trows, cols = image.shape[:2]\n",
    "\tbottom_left = [cols * 0.1, rows * 0.95]\n",
    "\ttop_left\t = [cols * 0.4, rows * 0.6]\n",
    "\tbottom_right = [cols * 0.9, rows * 0.95]\n",
    "\ttop_right = [cols * 0.6, rows * 0.6]\n",
    "\tvertices = np.array([[bottom_left, top_left, top_right, bottom_right]], dtype=np.int32)\n",
    "\t# filling the polygon with white color and generating the final mask\n",
    "\tcv2.fillPoly(mask, vertices, ignore_mask_color)\n",
    "\t# performing Bitwise AND on the input image and mask to get only the edges on the road\n",
    "\tmasked_image = cv2.bitwise_and(image, mask)\n",
    "\treturn masked_image\n",
    "region = limit_research_space(edges)\n",
    "print(\"total intensities: \", sum(sum(region)))"
   ]
  },
  {
   "cell_type": "code",
   "execution_count": null,
   "id": "1e64a645",
   "metadata": {},
   "outputs": [],
   "source": []
  },
  {
   "cell_type": "code",
   "execution_count": 19,
   "id": "216be45b",
   "metadata": {},
   "outputs": [
    {
     "name": "stdout",
     "output_type": "stream",
     "text": [
      "Dimensions of straight lines (17, 1, 4)\n"
     ]
    }
   ],
   "source": [
    "# Question 5: Use hough transform to detect left and right lane\n",
    "def hough_transform(image):\n",
    "\t\"\"\"\n",
    "\tDetermine and cut the region of interest in the input image.\n",
    "\tParameter:\n",
    "\t\timage: grayscale image which should be an output from the edge detector\n",
    "\t\"\"\"\n",
    "\t# Distance resolution of the accumulator in pixels.\n",
    "\trho = 1\n",
    "\t# Angle resolution of the accumulator in radians.\n",
    "\ttheta = np.pi/180\n",
    "\t# Only lines that are greater than threshold will be returned.\n",
    "\tthreshold = 20\n",
    "\t# Line segments shorter than that are rejected.\n",
    "\tminLineLength = 20\n",
    "\t# Maximum allowed gap between points on the same line to link them\n",
    "\tmaxLineGap = 500\n",
    "\t# function returns an array containing dimensions of straight lines\n",
    "\t# appearing in the input image\n",
    "\treturn cv2.HoughLinesP(image, rho = rho, theta = theta, threshold = threshold,\n",
    "\t\t\t\t\t\tminLineLength = minLineLength, maxLineGap = maxLineGap)\n",
    "\n",
    "hough = hough_transform(region)\n",
    "print(\"Dimensions of straight lines\", hough.shape)"
   ]
  },
  {
   "cell_type": "code",
   "execution_count": 20,
   "id": "7acd5872",
   "metadata": {},
   "outputs": [
    {
     "name": "stdout",
     "output_type": "stream",
     "text": [
      "Image result's resolution (704, 1279, 3)\n"
     ]
    }
   ],
   "source": [
    "# Question 6: Draw the left and right lane to the screen\n",
    "\n",
    "def average_slope_intercept(lines):\n",
    "\t\"\"\"\n",
    "\tFind the slope and intercept of the left and right lanes of each image.\n",
    "\tParameters:\n",
    "\t\tlines: output from Hough Transform\n",
    "\t\"\"\"\n",
    "\tleft_lines = [] #(slope, intercept)\n",
    "\tleft_weights = [] #(length,)\n",
    "\tright_lines = [] #(slope, intercept)\n",
    "\tright_weights = [] #(length,)\n",
    "\n",
    "\tfor line in lines:\n",
    "\t\tfor x1, y1, x2, y2 in line:\n",
    "\t\t\tif x1 == x2:\n",
    "\t\t\t\tcontinue\n",
    "\t\t\t# calculating slope of a line\n",
    "\t\t\tslope = (y2 - y1) / (x2 - x1)\n",
    "\t\t\t# calculating intercept of a line\n",
    "\t\t\tintercept = y1 - (slope * x1)\n",
    "\t\t\t# calculating length of a line\n",
    "\t\t\tlength = np.sqrt(((y2 - y1) ** 2) + ((x2 - x1) ** 2))\n",
    "\t\t\t# slope of left lane is negative and for right lane slope is positive\n",
    "\t\t\tif slope < 0:\n",
    "\t\t\t\tleft_lines.append((slope, intercept))\n",
    "\t\t\t\tleft_weights.append((length))\n",
    "\t\t\telse:\n",
    "\t\t\t\tright_lines.append((slope, intercept))\n",
    "\t\t\t\tright_weights.append((length))\n",
    "\t#\n",
    "\tleft_lane = np.dot(left_weights, left_lines) / np.sum(left_weights) if len(left_weights) > 0 else None\n",
    "\tright_lane = np.dot(right_weights, right_lines) / np.sum(right_weights) if len(right_weights) > 0 else None\n",
    "\treturn left_lane, right_lane\n",
    "\n",
    "\n",
    "def pixel_points(y1, y2, line):\n",
    "\t\"\"\"\n",
    "\tConverts the slope and intercept of each line into pixel points.\n",
    "\t\tParameters:\n",
    "\t\t\ty1: y-value of the line's starting point.\n",
    "\t\t\ty2: y-value of the line's end point.\n",
    "\t\t\tline: The slope and intercept of the line.\n",
    "\t\"\"\"\n",
    "\tif line is None:\n",
    "\t\treturn None\n",
    "\tslope, intercept = line\n",
    "\tx1 = int((y1 - intercept)/slope)\n",
    "\tx2 = int((y2 - intercept)/slope)\n",
    "\ty1 = int(y1)\n",
    "\ty2 = int(y2)\n",
    "\treturn ((x1, y1), (x2, y2))\n",
    "\n",
    "def lane_lines(image, lines):\n",
    "\t\"\"\"\n",
    "\tCreate full lenght lines from pixel points.\n",
    "\t\tParameters:\n",
    "\t\t\timage: The input test image.\n",
    "\t\t\tlines: The output lines from Hough Transform.\n",
    "\t\"\"\"\n",
    "\tleft_lane, right_lane = average_slope_intercept(lines)\n",
    "\ty1 = image.shape[0]\n",
    "\ty2 = y1 * 0.6\n",
    "\tleft_line = pixel_points(y1, y2, left_lane)\n",
    "\tright_line = pixel_points(y1, y2, right_lane)\n",
    "\treturn left_line, right_line\n",
    "\n",
    "\n",
    "def draw_lane_lines(image, lines, color=[0, 255, 0], thickness=12):\n",
    "\t\"\"\"\n",
    "\tDraw lines onto the input image.\n",
    "\t\tParameters:\n",
    "\t\t\timage: The input test image (video frame in our case).\n",
    "\t\t\tlines: The output lines from Hough Transform.\n",
    "\t\t\tcolor (Default = red): Line color.\n",
    "\t\t\tthickness (Default = 12): Line thickness.\n",
    "\t\"\"\"\n",
    "\tline_image = np.zeros_like(image)\n",
    "\tfor line in lines:\n",
    "\t\tif line is not None:\n",
    "\t\t\tcv2.line(line_image, *line, color, thickness)\n",
    "\treturn cv2.addWeighted(image, 1.0, line_image, 1.0, 0.0)\n",
    "\n",
    "result = draw_lane_lines(image, lane_lines(image, hough))\n",
    "cv2.imshow(\"result\",result)\n",
    "cv2.waitKey(0)\n",
    "close_window_os()\n",
    "print(\"Image result's resolution\", result.shape)"
   ]
  },
  {
   "cell_type": "code",
   "execution_count": null,
   "id": "14e3e8a3",
   "metadata": {},
   "outputs": [],
   "source": [
    "#Question 7\n",
    "#Lane detection for video image\n",
    "import cv2\n",
    "cap = cv2.VideoCapture(\"/Users/nguyendinhvinh2004gmail.com/Desktop/New_Data/De Cuong mon học/Machine Learning Course - VinhND/Week 4/QSTC/Computer Vision Foundation/Computer Vision Foundation - Session 2 - LD/dataset/test2.mp4\")\n",
    "\n",
    "while True:\n",
    "    # Capture frame-by-frame\n",
    "    ret, frame = cap.read()\n",
    "    # if frame is read correctly ret is True\n",
    "    \n",
    "    if not ret:\n",
    "        print(\"Can't receive frame (stream end?). Exiting ...\")\n",
    "        break\n",
    "        \n",
    "    # ************** your code here *******************\n",
    "    \n",
    "    if cv2.waitKey(1) == ord('q'):\n",
    "        break\n",
    "    \n",
    "close_window_os()"
   ]
  },
  {
   "cell_type": "code",
   "execution_count": 4,
   "id": "45e8406f",
   "metadata": {},
   "outputs": [],
   "source": [
    "def close_window_os():\n",
    "    cv2.destroyAllWindows()\n",
    "    for i in range (1,5): #trick for closing the display window on macos\n",
    "        cv2.waitKey(1)"
   ]
  },
  {
   "cell_type": "code",
   "execution_count": null,
   "id": "ffc77cc0",
   "metadata": {},
   "outputs": [],
   "source": []
  }
 ],
 "metadata": {
  "kernelspec": {
   "display_name": "Python 3 (ipykernel)",
   "language": "python",
   "name": "python3"
  },
  "language_info": {
   "codemirror_mode": {
    "name": "ipython",
    "version": 3
   },
   "file_extension": ".py",
   "mimetype": "text/x-python",
   "name": "python",
   "nbconvert_exporter": "python",
   "pygments_lexer": "ipython3",
   "version": "3.8.2"
  }
 },
 "nbformat": 4,
 "nbformat_minor": 5
}
