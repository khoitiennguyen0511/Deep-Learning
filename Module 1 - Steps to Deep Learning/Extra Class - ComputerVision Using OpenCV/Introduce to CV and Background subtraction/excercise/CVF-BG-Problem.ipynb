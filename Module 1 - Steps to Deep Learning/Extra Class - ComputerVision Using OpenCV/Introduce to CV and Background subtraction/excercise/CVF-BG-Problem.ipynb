{
 "cells": [
  {
   "cell_type": "code",
   "execution_count": 13,
   "id": "bece11cb",
   "metadata": {},
   "outputs": [
    {
     "name": "stdout",
     "output_type": "stream",
     "text": [
      "Sum of intensities in fgMask is : 38110\n"
     ]
    }
   ],
   "source": [
    "#Bài tập 1\n",
    "import cv2\n",
    "path_to_video = \"/Users/nguyendinhvinh2004gmail.com/Downloads/peopleCount.mp4\"\n",
    "fgbg = cv2.createBackgroundSubtractorMOG2()\n",
    "capture = cv2.VideoCapture(path_to_video)\n",
    "\n",
    "# **************Your code here ********************\n",
    "\n",
    "cv2.imshow('Frame', frame)\n",
    "cv2.imshow('FG Mask', fgMask)\n",
    "cv2.waitKey(0)\n",
    "capture.release()\n",
    "cv2.destroyAllWindows()\n",
    "for i in range (1,5): #trick for closing the display window on macos\n",
    "        cv2.waitKey(1)\n",
    "\n",
    "#Question 1\n",
    "print(\"Sum of intensities in fgMask is :\", sum(sum(fgMask)))"
   ]
  },
  {
   "cell_type": "code",
   "execution_count": 15,
   "id": "ff63e116",
   "metadata": {},
   "outputs": [
    {
     "name": "stdout",
     "output_type": "stream",
     "text": [
      "Sum of intensities in fgMask is : 54829\n"
     ]
    }
   ],
   "source": [
    "#Bài tập 2\n",
    "import cv2\n",
    "path_to_video = \"/Users/nguyendinhvinh2004gmail.com/Downloads/peopleCount.mp4\"\n",
    "fgbg = cv2.createBackgroundSubtractorMOG2()\n",
    "capture = cv2.VideoCapture(path_to_video)\n",
    "\n",
    "for i in range(6):\n",
    "    (grabbed, frame) = capture.read()\n",
    "    fgMask = fgbg.apply(frame)\n",
    "\n",
    "\n",
    "cv2.imshow('Frame', frame)\n",
    "cv2.imshow('FG Mask', fgMask)\n",
    "cv2.waitKey(0)\n",
    "capture.release()\n",
    "cv2.destroyAllWindows()\n",
    "for i in range (1,5): #trick for closing the display window on macos\n",
    "        cv2.waitKey(1)\n",
    "\n",
    "#Question 2\n",
    "# Sử dụng kỹ thuật Dilation\n",
    "fgMask = cv2.dilate(fgMask, None, iterations=2)\n",
    "print(\"Sum of intensities in fgMask is :\", sum(sum(fgMask)))"
   ]
  },
  {
   "cell_type": "code",
   "execution_count": 17,
   "id": "f2a4620b",
   "metadata": {},
   "outputs": [
    {
     "name": "stdout",
     "output_type": "stream",
     "text": [
      "Sum of intensities in fgMask is : 17280\n"
     ]
    }
   ],
   "source": [
    "#Bài tập 3\n",
    "import cv2\n",
    "path_to_video = \"/Users/nguyendinhvinh2004gmail.com/Downloads/peopleCount.mp4\"\n",
    "fgbg = cv2.createBackgroundSubtractorMOG2()\n",
    "capture = cv2.VideoCapture(path_to_video)\n",
    "\n",
    "for i in range(6):\n",
    "    (grabbed, frame) = capture.read()\n",
    "    fgMask = fgbg.apply(frame)\n",
    "\n",
    "#Question 3\n",
    "# Sử dụng kỹ thuật Dilation\n",
    "fgMask = cv2.erode(fgMask, None, iterations=2)\n",
    "print(\"Sum of intensities in fgMask is :\", sum(sum(fgMask)))\n",
    "\n",
    "cv2.imshow('Frame', frame)\n",
    "cv2.imshow('FG Mask', fgMask)\n",
    "cv2.waitKey(0)\n",
    "capture.release()\n",
    "cv2.destroyAllWindows()\n",
    "for i in range (1,5): #trick for closing the display window on macos\n",
    "        cv2.waitKey(1)"
   ]
  },
  {
   "cell_type": "code",
   "execution_count": 18,
   "id": "0d754807",
   "metadata": {},
   "outputs": [
    {
     "name": "stdout",
     "output_type": "stream",
     "text": [
      "Sum of intensities in fgMask is : 16047\n"
     ]
    }
   ],
   "source": [
    "#Bài tập 4\n",
    "import cv2\n",
    "path_to_video = \"/Users/nguyendinhvinh2004gmail.com/Downloads/peopleCount.mp4\"\n",
    "fgbg = cv2.createBackgroundSubtractorMOG2()\n",
    "capture = cv2.VideoCapture(path_to_video)\n",
    "\n",
    "for i in range(6):\n",
    "    (grabbed, frame) = capture.read()\n",
    "    fgMask = fgbg.apply(frame)\n",
    "\n",
    "#Question 4\n",
    "# Sử dụng kỹ thuật Dilation\n",
    "fgMask = cv2.erode(fgMask, None, iterations=2)\n",
    "fgMask = cv2.dilate(fgMask, None, iterations=2)\n",
    "print(\"Sum of intensities in fgMask is :\", sum(sum(fgMask)))\n",
    "\n",
    "cv2.imshow('Frame', frame)\n",
    "cv2.imshow('FG Mask', fgMask)\n",
    "cv2.waitKey(0)\n",
    "capture.release()\n",
    "cv2.destroyAllWindows()\n",
    "for i in range (1,5): #trick for closing the display window on macos\n",
    "        cv2.waitKey(1)"
   ]
  },
  {
   "cell_type": "code",
   "execution_count": 24,
   "id": "de862e7b",
   "metadata": {},
   "outputs": [
    {
     "name": "stdout",
     "output_type": "stream",
     "text": [
      "The locations of the foreground objects are:  [[319, 178]]\n"
     ]
    }
   ],
   "source": [
    "#Bài tập 5\n",
    "import cv2\n",
    "path_to_video = \"/Users/nguyendinhvinh2004gmail.com/Downloads/peopleCount.mp4\"\n",
    "fgbg = cv2.createBackgroundSubtractorMOG2()\n",
    "capture = cv2.VideoCapture(path_to_video)\n",
    "\n",
    "for i in range(100):\n",
    "    (grabbed, frame) = capture.read()\n",
    "    fgMask = fgbg.apply(frame)\n",
    "\n",
    "#Question 5\n",
    "# Sử dụng kỹ thuật Dilation\n",
    "fgMask = cv2.threshold(fgMask, 200, 255, cv2.THRESH_BINARY)[1]\n",
    "fgMask = cv2.dilate(fgMask, None, iterations=2)\n",
    "fgMask = cv2.erode(fgMask, None, iterations=2)\n",
    "\n",
    "# **************Your code here ********************\n",
    "\n",
    "\n",
    "#Question 5\n",
    "print(\"The locations of the foreground objects are: \", (contours_result))\n",
    "    \n",
    "cv2.imshow('Frame', frame)\n",
    "cv2.imshow('FG Mask', fgMask)\n",
    "cv2.waitKey(0)\n",
    "capture.release()\n",
    "cv2.destroyAllWindows()\n",
    "for i in range (1,5): #trick for closing the display window on macos\n",
    "        cv2.waitKey(1)"
   ]
  },
  {
   "cell_type": "code",
   "execution_count": null,
   "id": "0ce674a3",
   "metadata": {},
   "outputs": [],
   "source": [
    "#Question 6\n",
    "import cv2\n",
    "path_to_video = \"/Users/nguyendinhvinh2004gmail.com/Downloads/peopleCount.mp4\"\n",
    "fgbg = cv2.createBackgroundSubtractorMOG2()\n",
    "capture = cv2.VideoCapture(path_to_video)\n",
    "\n",
    "(grabbed, frame) = capture.read()\n",
    "fgMask = fgbg.apply(frame)\n",
    "line = 280\n",
    "\n",
    "contours_previous  = []\n",
    "people_out = 0\n",
    "people_in = 0\n",
    "contours_now  = []\n",
    "\n",
    "while True:\n",
    "    \n",
    "    contours_now  = []\n",
    "    (grabbed, frame) = capture.read()\n",
    "  \n",
    "    if not grabbed:\n",
    "        break\n",
    "   \n",
    "    fgMask = fgbg.apply(frame)\n",
    "    \n",
    "    cv2.putText(frame, str(capture.get(cv2.CAP_PROP_POS_FRAMES)) + \"/433\", (15, 15),\n",
    "               cv2.FONT_HERSHEY_SIMPLEX, 0.5 , (255,0,0))\n",
    "    \n",
    "    fgMask = cv2.threshold(fgMask, 200, 255, cv2.THRESH_BINARY)[1]\n",
    "\n",
    "    fgMask = cv2.dilate(fgMask, None, iterations=2)\n",
    "    fgMask = cv2.erode(fgMask, None, iterations=2)\n",
    "    \n",
    "    contours_list, hierarchy = cv2.findContours(fgMask,\n",
    "                                       cv2.RETR_TREE ,\n",
    "                                       cv2.CHAIN_APPROX_SIMPLE) # Find contours\n",
    "    for c in contours_list:\n",
    "        if cv2.contourArea(c) < 1000:\n",
    "            continue\n",
    "            \n",
    "        (x,y,w,h) = cv2.boundingRect(c)\n",
    "        cv2.rectangle(frame, (x, y), (x+w,y+h), (0,255,0), 2)\n",
    "        contours_now.append([x,y])\n",
    "    \n",
    "    if len(contours_previous) == 0:\n",
    "        contours_previous = contours_now\n",
    "        continue\n",
    "        \n",
    "    closest_contour_list = []\n",
    "    \n",
    "\n",
    "    # **************Your code here ********************\n",
    "\n",
    "        \n",
    "    contours_previous = contours_now\n",
    "    \n",
    "                        \n",
    "    cv2.line(frame, (0,line), (frame.shape[1], line), (0,255,255), 2)\n",
    "    cv2.putText(frame,\"People out: \" +str(people_out), (15,40), cv2.FONT_HERSHEY_SIMPLEX, 0.8, (0,0,255), 2)\n",
    "    cv2.putText(frame,\"People in: \" +str(people_in), (14,80), cv2.FONT_HERSHEY_SIMPLEX, 0.8, (0,0,255),2 )\n",
    "\n",
    "    #show the current frame and the fg masks\n",
    "    cv2.imshow('Frame', frame)\n",
    "    cv2.imshow('FG Mask', fgMask)\n",
    "    ## [show]\n",
    "\n",
    "    keyboard = cv2.waitKey(0)\n",
    "    if keyboard == 'q' or keyboard == 27:\n",
    "        break\n",
    "        \n",
    "capture.release()\n",
    "cv2.destroyAllWindows()\n",
    "for i in range (1,5): #trick for closing the display window on macos\n",
    "        cv2.waitKey(1)"
   ]
  },
  {
   "cell_type": "code",
   "execution_count": null,
   "id": "462fb23e",
   "metadata": {},
   "outputs": [],
   "source": []
  }
 ],
 "metadata": {
  "kernelspec": {
   "display_name": "Python 3 (ipykernel)",
   "language": "python",
   "name": "python3"
  },
  "language_info": {
   "codemirror_mode": {
    "name": "ipython",
    "version": 3
   },
   "file_extension": ".py",
   "mimetype": "text/x-python",
   "name": "python",
   "nbconvert_exporter": "python",
   "pygments_lexer": "ipython3",
   "version": "3.8.2"
  }
 },
 "nbformat": 4,
 "nbformat_minor": 5
}
