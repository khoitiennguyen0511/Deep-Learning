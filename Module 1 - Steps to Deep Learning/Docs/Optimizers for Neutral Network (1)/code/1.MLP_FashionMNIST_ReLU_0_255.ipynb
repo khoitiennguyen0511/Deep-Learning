{
 "cells": [
  {
   "cell_type": "code",
   "execution_count": 1,
   "metadata": {},
   "outputs": [],
   "source": [
    "import torch\n",
    "import torch.nn as nn\n",
    "import torch.optim as optim\n",
    "import torchvision\n",
    "import torchvision.transforms as transforms\n",
    "\n",
    "# Check if GPU is available\n",
    "device = torch.device(\"cuda:0\" if torch.cuda.is_available() else \"cpu\")"
   ]
  },
  {
   "cell_type": "code",
   "execution_count": null,
   "metadata": {},
   "outputs": [],
   "source": []
  },
  {
   "cell_type": "markdown",
   "metadata": {},
   "source": [
    "#### Data"
   ]
  },
  {
   "cell_type": "code",
   "execution_count": 2,
   "metadata": {},
   "outputs": [],
   "source": [
    "# Load CFashionMNIST dataset\n",
    "transform = transforms.Compose([transforms.ToTensor(), transforms.Normalize((0,), (1.0/255,))])\n",
    "\n",
    "trainset = torchvision.datasets.FashionMNIST(root='data', train=True, download=True, transform=transform)\n",
    "trainloader = torch.utils.data.DataLoader(trainset, batch_size=512, num_workers=3, shuffle=True)\n",
    "\n",
    "testset = torchvision.datasets.FashionMNIST(root='data', train=False, download=True, transform=transform)\n",
    "testloader = torch.utils.data.DataLoader(testset, batch_size=512, num_workers=3, shuffle=False)"
   ]
  },
  {
   "cell_type": "code",
   "execution_count": 3,
   "metadata": {},
   "outputs": [
    {
     "data": {
      "image/png": "[encoded data removed]",
      "text/plain": [
       "<Figure size 640x480 with 1 Axes>"
      ]
     },
     "metadata": {},
     "output_type": "display_data"
    }
   ],
   "source": [
    "import matplotlib.pyplot as plt\n",
    "import numpy as np\n",
    "\n",
    "# Function to display the images\n",
    "def imshow(img):\n",
    "    img = img/255.0\n",
    "    np_img = img.numpy()\n",
    "    plt.imshow(np.transpose(np_img, (1, 2, 0)))\n",
    "    plt.show()\n",
    "\n",
    "for i, (images, labels) in enumerate(trainloader, 0):\n",
    "    # Plot some images\n",
    "    imshow(torchvision.utils.make_grid(images[:8]))  # Display 8 images from the batch\n",
    "    break"
   ]
  },
  {
   "cell_type": "code",
   "execution_count": null,
   "metadata": {},
   "outputs": [],
   "source": []
  },
  {
   "cell_type": "markdown",
   "metadata": {},
   "source": [
    "#### Model"
   ]
  },
  {
   "cell_type": "code",
   "execution_count": 4,
   "metadata": {},
   "outputs": [
    {
     "name": "stdout",
     "output_type": "stream",
     "text": [
      "Sequential(\n",
      "  (0): Flatten(start_dim=1, end_dim=-1)\n",
      "  (1): Linear(in_features=784, out_features=256, bias=True)\n",
      "  (2): ReLU()\n",
      "  (3): Linear(in_features=256, out_features=10, bias=True)\n",
      ")\n"
     ]
    }
   ],
   "source": [
    "model = nn.Sequential(\n",
    "    nn.Flatten(), \n",
    "    nn.Linear(784, 256),\n",
    "    nn.ReLU(),\n",
    "    nn.Linear(256, 10)\n",
    ")\n",
    "model = model.to(device)\n",
    "\n",
    "print(model)"
   ]
  },
  {
   "cell_type": "code",
   "execution_count": 5,
   "metadata": {},
   "outputs": [
    {
     "name": "stdout",
     "output_type": "stream",
     "text": [
      "torch.Size([5, 10])\n"
     ]
    }
   ],
   "source": [
    "# Generating a random tensor\n",
    "input_tensor = torch.rand(5, 28, 28).to(device)\n",
    "\n",
    "# Feeding the tensor into the model\n",
    "output = model(input_tensor)\n",
    "print(output.shape)"
   ]
  },
  {
   "cell_type": "code",
   "execution_count": null,
   "metadata": {},
   "outputs": [],
   "source": []
  },
  {
   "cell_type": "markdown",
   "metadata": {},
   "source": [
    "#### Loss, Optimizer, and Evaluation Function"
   ]
  },
  {
   "cell_type": "code",
   "execution_count": 6,
   "metadata": {},
   "outputs": [],
   "source": [
    "criterion = nn.CrossEntropyLoss()\n",
    "optimizer = optim.SGD(model.parameters(), lr=0.01)"
   ]
  },
  {
   "cell_type": "code",
   "execution_count": 7,
   "metadata": {},
   "outputs": [],
   "source": [
    "# Function to compute loss and accuracy for test set\n",
    "def evaluate(model, testloader, criterion):\n",
    "    model.eval()\n",
    "    test_loss = 0.0\n",
    "    correct = 0\n",
    "    total = 0\n",
    "    with torch.no_grad():\n",
    "        for images, labels in testloader:\n",
    "            # Move inputs and labels to the device\n",
    "            images, labels = images.to(device), labels.to(device)\n",
    "\n",
    "            outputs = model(images)\n",
    "            loss = criterion(outputs, labels)\n",
    "            test_loss += loss.item()\n",
    "            \n",
    "            _, predicted = torch.max(outputs.data, 1)\n",
    "            total += labels.size(0)\n",
    "            correct += (predicted == labels).sum().item()\n",
    "\n",
    "    accuracy = 100 * correct / total\n",
    "    test_loss = test_loss / len(testloader)\n",
    "    return test_loss, accuracy"
   ]
  },
  {
   "cell_type": "code",
   "execution_count": 8,
   "metadata": {},
   "outputs": [
    {
     "name": "stdout",
     "output_type": "stream",
     "text": [
      "test_loss: 45.79042491912842\n",
      "test_accuracy: 5.06\n"
     ]
    }
   ],
   "source": [
    "test_loss, test_accuracy = evaluate(model, testloader, criterion)\n",
    "print(f'test_loss: {test_loss}')\n",
    "print(f'test_accuracy: {test_accuracy}')"
   ]
  },
  {
   "cell_type": "code",
   "execution_count": null,
   "metadata": {},
   "outputs": [],
   "source": []
  },
  {
   "cell_type": "markdown",
   "metadata": {},
   "source": [
    "#### Train"
   ]
  },
  {
   "cell_type": "code",
   "execution_count": 9,
   "metadata": {},
   "outputs": [],
   "source": [
    "# some parameter\n",
    "train_losses = []\n",
    "train_accuracies = []\n",
    "test_losses = []\n",
    "test_accuracies = []\n",
    "max_epoch = 400"
   ]
  },
  {
   "cell_type": "code",
   "execution_count": 10,
   "metadata": {
    "colab": {
     "base_uri": "https://localhost:8080/"
    },
    "id": "tYwXeSOOF_4Z",
    "outputId": "a4c62a4a-267f-4101-ce96-662cc23cdbe0"
   },
   "outputs": [
    {
     "name": "stdout",
     "output_type": "stream",
     "text": [
      "Epoch [1/400], Loss: 209.9641, Accuracy: 19.63%, Test Loss: 2.1537, Test Accuracy: 21.42%\n",
      "Epoch [2/400], Loss: 2.0722, Accuracy: 22.66%, Test Loss: 1.8733, Test Accuracy: 30.16%\n",
      "Epoch [3/400], Loss: 2.1140, Accuracy: 23.03%, Test Loss: 2.1873, Test Accuracy: 15.63%\n",
      "Epoch [4/400], Loss: 2.2323, Accuracy: 15.69%, Test Loss: 2.2803, Test Accuracy: 11.90%\n",
      "Epoch [5/400], Loss: 2.2687, Accuracy: 13.09%, Test Loss: 2.3028, Test Accuracy: 10.31%\n",
      "Epoch [6/400], Loss: 2.2258, Accuracy: 15.30%, Test Loss: 2.1461, Test Accuracy: 18.05%\n",
      "Epoch [7/400], Loss: 2.0698, Accuracy: 21.59%, Test Loss: 2.1783, Test Accuracy: 18.62%\n",
      "Epoch [8/400], Loss: 2.0473, Accuracy: 22.41%, Test Loss: 2.0909, Test Accuracy: 19.64%\n",
      "Epoch [9/400], Loss: 2.2643, Accuracy: 12.72%, Test Loss: 2.3092, Test Accuracy: 10.01%\n",
      "Epoch [10/400], Loss: 2.2473, Accuracy: 13.55%, Test Loss: 2.2060, Test Accuracy: 15.51%\n",
      "Epoch [11/400], Loss: 2.2330, Accuracy: 14.64%, Test Loss: 2.3866, Test Accuracy: 20.27%\n",
      "Epoch [12/400], Loss: 2.3075, Accuracy: 10.15%, Test Loss: 2.3092, Test Accuracy: 10.03%\n",
      "Epoch [13/400], Loss: 2.3059, Accuracy: 10.07%, Test Loss: 2.3078, Test Accuracy: 10.05%\n",
      "Epoch [14/400], Loss: 2.1348, Accuracy: 18.04%, Test Loss: 2.0040, Test Accuracy: 24.20%\n",
      "Epoch [15/400], Loss: 1.9837, Accuracy: 25.33%, Test Loss: 2.1300, Test Accuracy: 18.40%\n",
      "Epoch [16/400], Loss: 2.2990, Accuracy: 11.07%, Test Loss: 2.3101, Test Accuracy: 10.02%\n",
      "Epoch [17/400], Loss: 2.3064, Accuracy: 10.06%, Test Loss: 2.3089, Test Accuracy: 10.02%\n",
      "Epoch [18/400], Loss: 2.2641, Accuracy: 12.40%, Test Loss: 2.3087, Test Accuracy: 10.03%\n",
      "Epoch [19/400], Loss: 2.3052, Accuracy: 10.07%, Test Loss: 2.3077, Test Accuracy: 10.04%\n",
      "Epoch [20/400], Loss: 2.3044, Accuracy: 10.07%, Test Loss: 2.3070, Test Accuracy: 10.06%\n",
      "Epoch [21/400], Loss: 2.3038, Accuracy: 10.08%, Test Loss: 2.3061, Test Accuracy: 10.08%\n",
      "Epoch [22/400], Loss: 2.2785, Accuracy: 11.79%, Test Loss: 2.3082, Test Accuracy: 22.34%\n",
      "Epoch [23/400], Loss: 2.1922, Accuracy: 16.22%, Test Loss: 2.1728, Test Accuracy: 16.55%\n",
      "Epoch [24/400], Loss: 2.1060, Accuracy: 20.26%, Test Loss: 2.3409, Test Accuracy: 11.29%\n",
      "Epoch [25/400], Loss: 2.2958, Accuracy: 10.88%, Test Loss: 2.3043, Test Accuracy: 10.32%\n",
      "Epoch [26/400], Loss: 2.2647, Accuracy: 12.77%, Test Loss: 2.2050, Test Accuracy: 17.15%\n",
      "Epoch [27/400], Loss: 2.1991, Accuracy: 15.39%, Test Loss: 2.0991, Test Accuracy: 18.97%\n",
      "Epoch [28/400], Loss: 2.1636, Accuracy: 16.62%, Test Loss: 2.1547, Test Accuracy: 16.39%\n",
      "Epoch [29/400], Loss: 2.1807, Accuracy: 16.23%, Test Loss: 2.2999, Test Accuracy: 10.00%\n",
      "Epoch [30/400], Loss: 2.2506, Accuracy: 13.25%, Test Loss: 2.3092, Test Accuracy: 10.00%\n",
      "Epoch [31/400], Loss: 2.3062, Accuracy: 9.95%, Test Loss: 2.3083, Test Accuracy: 10.00%\n",
      "Epoch [32/400], Loss: 2.3051, Accuracy: 9.97%, Test Loss: 2.3064, Test Accuracy: 10.00%\n",
      "Epoch [33/400], Loss: 2.2743, Accuracy: 12.00%, Test Loss: 2.1960, Test Accuracy: 14.12%\n",
      "Epoch [34/400], Loss: 2.2471, Accuracy: 13.17%, Test Loss: 2.2750, Test Accuracy: 11.78%\n",
      "Epoch [35/400], Loss: 2.1615, Accuracy: 17.16%, Test Loss: 2.0882, Test Accuracy: 21.19%\n",
      "Epoch [36/400], Loss: 2.2632, Accuracy: 13.23%, Test Loss: 2.3084, Test Accuracy: 9.99%\n",
      "Epoch [37/400], Loss: 2.3053, Accuracy: 9.96%, Test Loss: 2.3076, Test Accuracy: 9.99%\n",
      "Epoch [38/400], Loss: 2.2972, Accuracy: 10.26%, Test Loss: 2.2612, Test Accuracy: 12.38%\n",
      "Epoch [39/400], Loss: 2.2441, Accuracy: 13.46%, Test Loss: 2.2588, Test Accuracy: 12.00%\n",
      "Epoch [40/400], Loss: 2.2544, Accuracy: 13.03%, Test Loss: 2.2830, Test Accuracy: 11.02%\n",
      "Epoch [41/400], Loss: 2.2329, Accuracy: 13.00%, Test Loss: 2.1984, Test Accuracy: 14.72%\n",
      "Epoch [42/400], Loss: 2.1828, Accuracy: 15.84%, Test Loss: 2.4482, Test Accuracy: 18.97%\n",
      "Epoch [43/400], Loss: 2.1067, Accuracy: 19.26%, Test Loss: 1.9730, Test Accuracy: 25.91%\n",
      "Epoch [44/400], Loss: 2.1606, Accuracy: 16.71%, Test Loss: 2.1444, Test Accuracy: 16.68%\n",
      "Epoch [45/400], Loss: 2.2064, Accuracy: 14.80%, Test Loss: 2.3116, Test Accuracy: 10.02%\n",
      "Epoch [46/400], Loss: 2.3069, Accuracy: 10.06%, Test Loss: 2.2983, Test Accuracy: 10.54%\n",
      "Epoch [47/400], Loss: 2.3002, Accuracy: 11.18%, Test Loss: 2.3090, Test Accuracy: 10.00%\n",
      "Epoch [48/400], Loss: 2.2783, Accuracy: 11.58%, Test Loss: 2.3091, Test Accuracy: 10.00%\n",
      "Epoch [49/400], Loss: 2.3065, Accuracy: 9.90%, Test Loss: 2.3081, Test Accuracy: 10.00%\n",
      "Epoch [50/400], Loss: 2.3053, Accuracy: 9.90%, Test Loss: 2.3072, Test Accuracy: 10.00%\n",
      "Epoch [51/400], Loss: 2.3043, Accuracy: 9.86%, Test Loss: 2.3049, Test Accuracy: 10.00%\n",
      "Epoch [52/400], Loss: 2.2526, Accuracy: 12.16%, Test Loss: 2.6240, Test Accuracy: 11.16%\n",
      "Epoch [53/400], Loss: 2.2140, Accuracy: 14.45%, Test Loss: 2.1770, Test Accuracy: 16.10%\n",
      "Epoch [54/400], Loss: 2.1432, Accuracy: 17.03%, Test Loss: 2.1329, Test Accuracy: 17.43%\n",
      "Epoch [55/400], Loss: 2.2722, Accuracy: 12.01%, Test Loss: 2.3085, Test Accuracy: 10.00%\n",
      "Epoch [56/400], Loss: 2.3058, Accuracy: 9.99%, Test Loss: 2.3077, Test Accuracy: 10.00%\n",
      "Epoch [57/400], Loss: 2.3051, Accuracy: 9.92%, Test Loss: 2.3071, Test Accuracy: 10.00%\n",
      "Epoch [58/400], Loss: 2.3046, Accuracy: 9.81%, Test Loss: 2.3066, Test Accuracy: 10.00%\n",
      "Epoch [59/400], Loss: 2.3042, Accuracy: 9.83%, Test Loss: 2.3062, Test Accuracy: 10.00%\n",
      "Epoch [60/400], Loss: 2.3038, Accuracy: 9.92%, Test Loss: 2.3059, Test Accuracy: 10.00%\n",
      "Epoch [61/400], Loss: 2.3034, Accuracy: 9.78%, Test Loss: 2.3056, Test Accuracy: 10.00%\n",
      "Epoch [62/400], Loss: 2.3032, Accuracy: 9.85%, Test Loss: 2.3054, Test Accuracy: 10.00%\n",
      "Epoch [63/400], Loss: 2.3031, Accuracy: 9.81%, Test Loss: 2.3052, Test Accuracy: 10.00%\n",
      "Epoch [64/400], Loss: 2.3029, Accuracy: 9.89%, Test Loss: 2.3051, Test Accuracy: 10.00%\n",
      "Epoch [65/400], Loss: 2.3027, Accuracy: 9.84%, Test Loss: 2.3050, Test Accuracy: 10.01%\n",
      "Epoch [66/400], Loss: 2.3026, Accuracy: 9.78%, Test Loss: 2.3049, Test Accuracy: 10.00%\n",
      "Epoch [67/400], Loss: 2.3026, Accuracy: 9.91%, Test Loss: 2.3048, Test Accuracy: 10.00%\n",
      "Epoch [68/400], Loss: 2.3025, Accuracy: 9.84%, Test Loss: 2.3047, Test Accuracy: 10.01%\n",
      "Epoch [69/400], Loss: 2.3024, Accuracy: 9.87%, Test Loss: 2.3047, Test Accuracy: 10.01%\n",
      "Epoch [70/400], Loss: 2.3024, Accuracy: 9.93%, Test Loss: 2.3047, Test Accuracy: 10.01%\n",
      "Epoch [71/400], Loss: 2.3023, Accuracy: 9.98%, Test Loss: 2.3046, Test Accuracy: 10.01%\n",
      "Epoch [72/400], Loss: 2.3023, Accuracy: 9.99%, Test Loss: 2.3046, Test Accuracy: 10.01%\n",
      "Epoch [73/400], Loss: 2.3022, Accuracy: 9.71%, Test Loss: 2.3046, Test Accuracy: 10.01%\n",
      "Epoch [74/400], Loss: 2.3022, Accuracy: 9.90%, Test Loss: 2.3046, Test Accuracy: 10.01%\n",
      "Epoch [75/400], Loss: 2.3022, Accuracy: 9.77%, Test Loss: 2.3045, Test Accuracy: 10.01%\n",
      "Epoch [76/400], Loss: 2.3021, Accuracy: 9.77%, Test Loss: 2.3045, Test Accuracy: 10.01%\n",
      "Epoch [77/400], Loss: 2.3021, Accuracy: 9.76%, Test Loss: 2.3045, Test Accuracy: 10.01%\n",
      "Epoch [78/400], Loss: 2.3021, Accuracy: 9.94%, Test Loss: 2.3045, Test Accuracy: 10.02%\n",
      "Epoch [79/400], Loss: 2.3020, Accuracy: 9.81%, Test Loss: 2.3045, Test Accuracy: 10.03%\n",
      "Epoch [80/400], Loss: 2.3020, Accuracy: 9.92%, Test Loss: 2.3044, Test Accuracy: 10.03%\n",
      "Epoch [81/400], Loss: 2.3019, Accuracy: 9.99%, Test Loss: 2.3042, Test Accuracy: 10.08%\n",
      "Epoch [82/400], Loss: 2.3018, Accuracy: 9.91%, Test Loss: 2.3057, Test Accuracy: 10.40%\n",
      "Epoch [83/400], Loss: 2.3033, Accuracy: 10.05%, Test Loss: 2.3044, Test Accuracy: 10.01%\n",
      "Epoch [84/400], Loss: 2.3022, Accuracy: 9.75%, Test Loss: 2.3044, Test Accuracy: 10.01%\n",
      "Epoch [85/400], Loss: 2.3022, Accuracy: 9.64%, Test Loss: 2.3044, Test Accuracy: 10.01%\n",
      "Epoch [86/400], Loss: 2.3022, Accuracy: 9.95%, Test Loss: 2.3044, Test Accuracy: 10.01%\n",
      "Epoch [87/400], Loss: 2.3022, Accuracy: 9.85%, Test Loss: 2.3044, Test Accuracy: 10.01%\n",
      "Epoch [88/400], Loss: 2.3022, Accuracy: 9.74%, Test Loss: 2.3044, Test Accuracy: 10.01%\n",
      "Epoch [89/400], Loss: 2.3022, Accuracy: 9.94%, Test Loss: 2.3044, Test Accuracy: 10.01%\n",
      "Epoch [90/400], Loss: 2.3022, Accuracy: 9.86%, Test Loss: 2.3044, Test Accuracy: 10.01%\n",
      "Epoch [91/400], Loss: 2.3022, Accuracy: 9.83%, Test Loss: 2.3044, Test Accuracy: 10.01%\n",
      "Epoch [92/400], Loss: 2.3020, Accuracy: 9.87%, Test Loss: 2.3044, Test Accuracy: 10.01%\n",
      "Epoch [93/400], Loss: 2.3021, Accuracy: 9.87%, Test Loss: 2.3044, Test Accuracy: 10.01%\n",
      "Epoch [94/400], Loss: 2.3021, Accuracy: 9.95%, Test Loss: 2.3043, Test Accuracy: 10.01%\n",
      "Epoch [95/400], Loss: 2.3021, Accuracy: 9.80%, Test Loss: 2.3043, Test Accuracy: 10.01%\n",
      "Epoch [96/400], Loss: 2.3019, Accuracy: 9.89%, Test Loss: 2.3043, Test Accuracy: 10.01%\n",
      "Epoch [97/400], Loss: 2.3018, Accuracy: 9.82%, Test Loss: 2.3035, Test Accuracy: 10.01%\n",
      "Epoch [98/400], Loss: 2.2984, Accuracy: 10.12%, Test Loss: 2.2867, Test Accuracy: 10.92%\n",
      "Epoch [99/400], Loss: 2.2450, Accuracy: 14.18%, Test Loss: 2.2834, Test Accuracy: 16.95%\n",
      "Epoch [100/400], Loss: 2.2334, Accuracy: 14.35%, Test Loss: 2.2636, Test Accuracy: 12.15%\n",
      "Epoch [101/400], Loss: 2.2042, Accuracy: 15.20%, Test Loss: 2.2001, Test Accuracy: 14.71%\n",
      "Epoch [102/400], Loss: 2.1641, Accuracy: 16.53%, Test Loss: 2.1446, Test Accuracy: 16.99%\n",
      "Epoch [103/400], Loss: 2.1613, Accuracy: 17.10%, Test Loss: 2.3076, Test Accuracy: 10.02%\n",
      "Epoch [104/400], Loss: 2.3052, Accuracy: 9.79%, Test Loss: 2.3070, Test Accuracy: 9.99%\n",
      "Epoch [105/400], Loss: 2.3046, Accuracy: 9.73%, Test Loss: 2.3066, Test Accuracy: 9.99%\n",
      "Epoch [106/400], Loss: 2.3043, Accuracy: 9.86%, Test Loss: 2.3061, Test Accuracy: 10.02%\n",
      "Epoch [107/400], Loss: 2.3039, Accuracy: 9.84%, Test Loss: 2.3058, Test Accuracy: 10.01%\n",
      "Epoch [108/400], Loss: 2.3036, Accuracy: 9.84%, Test Loss: 2.3055, Test Accuracy: 10.02%\n",
      "Epoch [109/400], Loss: 2.3033, Accuracy: 9.83%, Test Loss: 2.3053, Test Accuracy: 10.02%\n",
      "Epoch [110/400], Loss: 2.3032, Accuracy: 9.71%, Test Loss: 2.3051, Test Accuracy: 10.00%\n",
      "Epoch [111/400], Loss: 2.3030, Accuracy: 9.86%, Test Loss: 2.3050, Test Accuracy: 10.01%\n",
      "Epoch [112/400], Loss: 2.3029, Accuracy: 9.74%, Test Loss: 2.3049, Test Accuracy: 10.00%\n",
      "Epoch [113/400], Loss: 2.3028, Accuracy: 9.82%, Test Loss: 2.3048, Test Accuracy: 10.01%\n",
      "Epoch [114/400], Loss: 2.3027, Accuracy: 9.77%, Test Loss: 2.3047, Test Accuracy: 10.00%\n",
      "Epoch [115/400], Loss: 2.3026, Accuracy: 9.78%, Test Loss: 2.3047, Test Accuracy: 10.00%\n",
      "Epoch [116/400], Loss: 2.3025, Accuracy: 9.87%, Test Loss: 2.3046, Test Accuracy: 10.01%\n",
      "Epoch [117/400], Loss: 2.3025, Accuracy: 9.83%, Test Loss: 2.3046, Test Accuracy: 10.01%\n",
      "Epoch [118/400], Loss: 2.3025, Accuracy: 10.01%, Test Loss: 2.3046, Test Accuracy: 10.01%\n",
      "Epoch [119/400], Loss: 2.3024, Accuracy: 9.81%, Test Loss: 2.3045, Test Accuracy: 10.01%\n",
      "Epoch [120/400], Loss: 2.3024, Accuracy: 9.80%, Test Loss: 2.3045, Test Accuracy: 9.99%\n",
      "Epoch [121/400], Loss: 2.3024, Accuracy: 9.87%, Test Loss: 2.3045, Test Accuracy: 10.00%\n",
      "Epoch [122/400], Loss: 2.3024, Accuracy: 9.74%, Test Loss: 2.3045, Test Accuracy: 9.98%\n",
      "Epoch [123/400], Loss: 2.3024, Accuracy: 9.79%, Test Loss: 2.3045, Test Accuracy: 9.98%\n",
      "Epoch [124/400], Loss: 2.3023, Accuracy: 9.74%, Test Loss: 2.3045, Test Accuracy: 9.97%\n",
      "Epoch [125/400], Loss: 2.3023, Accuracy: 9.73%, Test Loss: 2.3045, Test Accuracy: 10.01%\n",
      "Epoch [126/400], Loss: 2.3023, Accuracy: 9.72%, Test Loss: 2.3045, Test Accuracy: 10.01%\n",
      "Epoch [127/400], Loss: 2.3023, Accuracy: 9.81%, Test Loss: 2.3045, Test Accuracy: 10.01%\n",
      "Epoch [128/400], Loss: 2.3023, Accuracy: 9.88%, Test Loss: 2.3044, Test Accuracy: 10.01%\n",
      "Epoch [129/400], Loss: 2.3023, Accuracy: 9.76%, Test Loss: 2.3044, Test Accuracy: 10.01%\n",
      "Epoch [130/400], Loss: 2.3023, Accuracy: 9.96%, Test Loss: 2.3044, Test Accuracy: 10.01%\n",
      "Epoch [131/400], Loss: 2.3023, Accuracy: 9.93%, Test Loss: 2.3044, Test Accuracy: 10.01%\n",
      "Epoch [132/400], Loss: 2.3023, Accuracy: 9.80%, Test Loss: 2.3044, Test Accuracy: 10.01%\n",
      "Epoch [133/400], Loss: 2.3023, Accuracy: 9.97%, Test Loss: 2.3044, Test Accuracy: 10.01%\n",
      "Epoch [134/400], Loss: 2.3023, Accuracy: 9.95%, Test Loss: 2.3044, Test Accuracy: 10.01%\n",
      "Epoch [135/400], Loss: 2.3023, Accuracy: 9.97%, Test Loss: 2.3044, Test Accuracy: 10.01%\n",
      "Epoch [136/400], Loss: 2.3023, Accuracy: 9.90%, Test Loss: 2.3044, Test Accuracy: 10.02%\n",
      "Epoch [137/400], Loss: 2.3023, Accuracy: 9.89%, Test Loss: 2.3044, Test Accuracy: 10.03%\n",
      "Epoch [138/400], Loss: 2.3023, Accuracy: 9.96%, Test Loss: 2.3044, Test Accuracy: 10.03%\n",
      "Epoch [139/400], Loss: 2.3023, Accuracy: 9.91%, Test Loss: 2.3044, Test Accuracy: 10.03%\n",
      "Epoch [140/400], Loss: 2.3023, Accuracy: 9.65%, Test Loss: 2.3044, Test Accuracy: 10.03%\n",
      "Epoch [141/400], Loss: 2.3023, Accuracy: 9.70%, Test Loss: 2.3043, Test Accuracy: 10.03%\n",
      "Epoch [142/400], Loss: 2.3022, Accuracy: 9.84%, Test Loss: 2.3043, Test Accuracy: 10.04%\n",
      "Epoch [143/400], Loss: 2.3019, Accuracy: 9.98%, Test Loss: 2.2834, Test Accuracy: 12.82%\n",
      "Epoch [144/400], Loss: 2.3043, Accuracy: 10.03%, Test Loss: 2.3044, Test Accuracy: 10.01%\n",
      "Epoch [145/400], Loss: 2.3023, Accuracy: 9.98%, Test Loss: 2.3044, Test Accuracy: 10.01%\n",
      "Epoch [146/400], Loss: 2.3023, Accuracy: 9.80%, Test Loss: 2.3044, Test Accuracy: 10.01%\n",
      "Epoch [147/400], Loss: 2.3023, Accuracy: 9.86%, Test Loss: 2.3044, Test Accuracy: 10.01%\n",
      "Epoch [148/400], Loss: 2.3023, Accuracy: 9.81%, Test Loss: 2.3044, Test Accuracy: 10.01%\n",
      "Epoch [149/400], Loss: 2.3023, Accuracy: 9.77%, Test Loss: 2.3044, Test Accuracy: 10.01%\n",
      "Epoch [150/400], Loss: 2.3023, Accuracy: 9.83%, Test Loss: 2.3044, Test Accuracy: 10.01%\n",
      "Epoch [151/400], Loss: 2.3023, Accuracy: 9.86%, Test Loss: 2.3044, Test Accuracy: 10.00%\n",
      "Epoch [152/400], Loss: 2.3023, Accuracy: 9.77%, Test Loss: 2.3044, Test Accuracy: 10.00%\n",
      "Epoch [153/400], Loss: 2.3023, Accuracy: 9.92%, Test Loss: 2.3044, Test Accuracy: 10.00%\n",
      "Epoch [154/400], Loss: 2.3023, Accuracy: 9.71%, Test Loss: 2.3044, Test Accuracy: 10.01%\n",
      "Epoch [155/400], Loss: 2.3021, Accuracy: 9.82%, Test Loss: 2.3044, Test Accuracy: 10.00%\n",
      "Epoch [156/400], Loss: 2.3023, Accuracy: 9.75%, Test Loss: 2.3044, Test Accuracy: 10.01%\n",
      "Epoch [157/400], Loss: 2.3023, Accuracy: 9.73%, Test Loss: 2.3044, Test Accuracy: 10.01%\n",
      "Epoch [158/400], Loss: 2.3023, Accuracy: 9.60%, Test Loss: 2.3044, Test Accuracy: 10.01%\n",
      "Epoch [159/400], Loss: 2.3023, Accuracy: 9.72%, Test Loss: 2.3044, Test Accuracy: 9.97%\n",
      "Epoch [160/400], Loss: 2.3023, Accuracy: 9.65%, Test Loss: 2.3044, Test Accuracy: 10.01%\n",
      "Epoch [161/400], Loss: 2.3023, Accuracy: 9.76%, Test Loss: 2.3044, Test Accuracy: 10.01%\n",
      "Epoch [162/400], Loss: 2.3023, Accuracy: 9.65%, Test Loss: 2.3044, Test Accuracy: 10.01%\n",
      "Epoch [163/400], Loss: 2.3023, Accuracy: 9.81%, Test Loss: 2.3044, Test Accuracy: 10.01%\n",
      "Epoch [164/400], Loss: 2.3023, Accuracy: 9.78%, Test Loss: 2.3044, Test Accuracy: 10.01%\n",
      "Epoch [165/400], Loss: 2.3023, Accuracy: 9.93%, Test Loss: 2.3044, Test Accuracy: 10.01%\n",
      "Epoch [166/400], Loss: 2.3023, Accuracy: 9.96%, Test Loss: 2.3044, Test Accuracy: 10.01%\n",
      "Epoch [167/400], Loss: 2.3023, Accuracy: 9.90%, Test Loss: 2.3044, Test Accuracy: 10.01%\n",
      "Epoch [168/400], Loss: 2.3023, Accuracy: 9.77%, Test Loss: 2.3044, Test Accuracy: 9.99%\n",
      "Epoch [169/400], Loss: 2.3023, Accuracy: 9.78%, Test Loss: 2.3044, Test Accuracy: 10.01%\n",
      "Epoch [170/400], Loss: 2.3023, Accuracy: 9.74%, Test Loss: 2.3044, Test Accuracy: 10.00%\n",
      "Epoch [171/400], Loss: 2.3023, Accuracy: 9.79%, Test Loss: 2.3044, Test Accuracy: 10.02%\n",
      "Epoch [172/400], Loss: 2.3023, Accuracy: 9.87%, Test Loss: 2.3044, Test Accuracy: 10.00%\n",
      "Epoch [173/400], Loss: 2.3023, Accuracy: 9.96%, Test Loss: 2.3044, Test Accuracy: 10.02%\n",
      "Epoch [174/400], Loss: 2.3023, Accuracy: 9.73%, Test Loss: 2.3044, Test Accuracy: 10.03%\n",
      "Epoch [175/400], Loss: 2.3023, Accuracy: 9.75%, Test Loss: 2.3044, Test Accuracy: 10.04%\n",
      "Epoch [176/400], Loss: 2.3023, Accuracy: 9.89%, Test Loss: 2.3044, Test Accuracy: 10.04%\n",
      "Epoch [177/400], Loss: 2.3023, Accuracy: 9.95%, Test Loss: 2.3044, Test Accuracy: 10.04%\n",
      "Epoch [178/400], Loss: 2.3023, Accuracy: 9.80%, Test Loss: 2.3043, Test Accuracy: 10.04%\n",
      "Epoch [179/400], Loss: 2.3023, Accuracy: 9.94%, Test Loss: 2.3043, Test Accuracy: 10.03%\n",
      "Epoch [180/400], Loss: 2.3023, Accuracy: 9.86%, Test Loss: 2.3043, Test Accuracy: 10.04%\n",
      "Epoch [181/400], Loss: 2.3023, Accuracy: 9.81%, Test Loss: 2.3043, Test Accuracy: 10.04%\n",
      "Epoch [182/400], Loss: 2.3023, Accuracy: 9.88%, Test Loss: 2.3043, Test Accuracy: 10.03%\n",
      "Epoch [183/400], Loss: 2.3022, Accuracy: 9.80%, Test Loss: 2.3043, Test Accuracy: 10.03%\n",
      "Epoch [184/400], Loss: 2.3022, Accuracy: 9.80%, Test Loss: 2.3043, Test Accuracy: 10.03%\n",
      "Epoch [185/400], Loss: 2.3022, Accuracy: 9.95%, Test Loss: 2.3042, Test Accuracy: 10.04%\n",
      "Epoch [186/400], Loss: 2.3022, Accuracy: 9.89%, Test Loss: 2.3042, Test Accuracy: 10.04%\n",
      "Epoch [187/400], Loss: 2.3029, Accuracy: 10.05%, Test Loss: 2.3042, Test Accuracy: 10.03%\n",
      "Epoch [188/400], Loss: 2.3023, Accuracy: 9.95%, Test Loss: 2.3042, Test Accuracy: 10.04%\n",
      "Epoch [189/400], Loss: 2.3023, Accuracy: 9.81%, Test Loss: 2.3041, Test Accuracy: 10.03%\n",
      "Epoch [190/400], Loss: 2.3023, Accuracy: 9.86%, Test Loss: 2.3042, Test Accuracy: 10.03%\n",
      "Epoch [191/400], Loss: 2.3022, Accuracy: 9.82%, Test Loss: 2.3039, Test Accuracy: 10.01%\n",
      "Epoch [192/400], Loss: 2.3022, Accuracy: 9.76%, Test Loss: 2.3036, Test Accuracy: 10.07%\n",
      "Epoch [193/400], Loss: 2.3021, Accuracy: 9.71%, Test Loss: 2.3031, Test Accuracy: 10.11%\n",
      "Epoch [194/400], Loss: 2.3021, Accuracy: 9.93%, Test Loss: 2.3044, Test Accuracy: 10.00%\n",
      "Epoch [195/400], Loss: 2.3024, Accuracy: 9.73%, Test Loss: 2.3044, Test Accuracy: 10.00%\n",
      "Epoch [196/400], Loss: 2.3024, Accuracy: 9.91%, Test Loss: 2.3044, Test Accuracy: 10.00%\n",
      "Epoch [197/400], Loss: 2.3024, Accuracy: 10.01%, Test Loss: 2.3044, Test Accuracy: 10.00%\n",
      "Epoch [198/400], Loss: 2.3022, Accuracy: 9.72%, Test Loss: 2.3027, Test Accuracy: 10.00%\n",
      "Epoch [199/400], Loss: 2.2441, Accuracy: 13.62%, Test Loss: 2.3045, Test Accuracy: 10.01%\n",
      "Epoch [200/400], Loss: 2.3025, Accuracy: 9.80%, Test Loss: 2.3044, Test Accuracy: 10.01%\n",
      "Epoch [201/400], Loss: 2.3025, Accuracy: 9.99%, Test Loss: 2.3044, Test Accuracy: 10.01%\n",
      "Epoch [202/400], Loss: 2.3025, Accuracy: 9.86%, Test Loss: 2.3044, Test Accuracy: 10.01%\n",
      "Epoch [203/400], Loss: 2.3025, Accuracy: 9.90%, Test Loss: 2.3044, Test Accuracy: 10.00%\n",
      "Epoch [204/400], Loss: 2.3024, Accuracy: 9.91%, Test Loss: 2.3044, Test Accuracy: 10.00%\n",
      "Epoch [205/400], Loss: 2.3024, Accuracy: 9.96%, Test Loss: 2.3044, Test Accuracy: 10.00%\n",
      "Epoch [206/400], Loss: 2.3024, Accuracy: 9.89%, Test Loss: 2.3044, Test Accuracy: 10.01%\n",
      "Epoch [207/400], Loss: 2.3024, Accuracy: 9.79%, Test Loss: 2.3044, Test Accuracy: 10.01%\n",
      "Epoch [208/400], Loss: 2.3024, Accuracy: 10.01%, Test Loss: 2.3044, Test Accuracy: 10.01%\n",
      "Epoch [209/400], Loss: 2.3024, Accuracy: 9.96%, Test Loss: 2.3044, Test Accuracy: 10.01%\n",
      "Epoch [210/400], Loss: 2.3024, Accuracy: 9.90%, Test Loss: 2.3044, Test Accuracy: 10.01%\n",
      "Epoch [211/400], Loss: 2.3024, Accuracy: 9.85%, Test Loss: 2.3044, Test Accuracy: 10.01%\n",
      "Epoch [212/400], Loss: 2.3024, Accuracy: 10.01%, Test Loss: 2.3044, Test Accuracy: 10.01%\n",
      "Epoch [213/400], Loss: 2.3024, Accuracy: 9.78%, Test Loss: 2.3044, Test Accuracy: 10.01%\n",
      "Epoch [214/400], Loss: 2.3024, Accuracy: 9.79%, Test Loss: 2.3044, Test Accuracy: 10.01%\n",
      "Epoch [215/400], Loss: 2.3024, Accuracy: 9.73%, Test Loss: 2.3044, Test Accuracy: 10.01%\n",
      "Epoch [216/400], Loss: 2.3024, Accuracy: 9.96%, Test Loss: 2.3044, Test Accuracy: 10.01%\n",
      "Epoch [217/400], Loss: 2.3024, Accuracy: 9.96%, Test Loss: 2.3044, Test Accuracy: 10.01%\n",
      "Epoch [218/400], Loss: 2.3023, Accuracy: 9.84%, Test Loss: 2.3044, Test Accuracy: 10.01%\n",
      "Epoch [219/400], Loss: 2.3023, Accuracy: 9.95%, Test Loss: 2.3044, Test Accuracy: 10.01%\n",
      "Epoch [220/400], Loss: 2.3023, Accuracy: 9.88%, Test Loss: 2.3044, Test Accuracy: 10.01%\n",
      "Epoch [221/400], Loss: 2.3023, Accuracy: 9.82%, Test Loss: 2.3044, Test Accuracy: 10.01%\n",
      "Epoch [222/400], Loss: 2.3023, Accuracy: 9.94%, Test Loss: 2.3044, Test Accuracy: 10.01%\n",
      "Epoch [223/400], Loss: 2.3023, Accuracy: 9.88%, Test Loss: 2.3044, Test Accuracy: 10.01%\n",
      "Epoch [224/400], Loss: 2.3023, Accuracy: 9.92%, Test Loss: 2.3044, Test Accuracy: 10.01%\n",
      "Epoch [225/400], Loss: 2.3023, Accuracy: 9.72%, Test Loss: 2.3044, Test Accuracy: 10.00%\n",
      "Epoch [226/400], Loss: 2.3023, Accuracy: 9.86%, Test Loss: 2.3044, Test Accuracy: 10.01%\n",
      "Epoch [227/400], Loss: 2.3023, Accuracy: 9.76%, Test Loss: 2.3044, Test Accuracy: 10.01%\n",
      "Epoch [228/400], Loss: 2.3023, Accuracy: 9.90%, Test Loss: 2.3044, Test Accuracy: 10.01%\n",
      "Epoch [229/400], Loss: 2.3021, Accuracy: 9.88%, Test Loss: 2.3042, Test Accuracy: 10.01%\n",
      "Epoch [230/400], Loss: 2.2947, Accuracy: 10.46%, Test Loss: 2.3045, Test Accuracy: 10.01%\n",
      "Epoch [231/400], Loss: 2.3025, Accuracy: 9.81%, Test Loss: 2.3045, Test Accuracy: 10.01%\n",
      "Epoch [232/400], Loss: 2.3024, Accuracy: 9.94%, Test Loss: 2.3044, Test Accuracy: 10.01%\n",
      "Epoch [233/400], Loss: 2.3023, Accuracy: 9.71%, Test Loss: 2.3044, Test Accuracy: 10.01%\n",
      "Epoch [234/400], Loss: 2.3023, Accuracy: 9.79%, Test Loss: 2.3045, Test Accuracy: 10.01%\n",
      "Epoch [235/400], Loss: 2.3023, Accuracy: 9.81%, Test Loss: 2.3044, Test Accuracy: 10.01%\n",
      "Epoch [236/400], Loss: 2.3023, Accuracy: 9.93%, Test Loss: 2.3044, Test Accuracy: 10.01%\n",
      "Epoch [237/400], Loss: 2.3023, Accuracy: 9.81%, Test Loss: 2.3045, Test Accuracy: 10.01%\n",
      "Epoch [238/400], Loss: 2.3022, Accuracy: 9.93%, Test Loss: 2.3045, Test Accuracy: 10.01%\n",
      "Epoch [239/400], Loss: 2.3023, Accuracy: 10.00%, Test Loss: 2.3044, Test Accuracy: 10.01%\n",
      "Epoch [240/400], Loss: 2.3023, Accuracy: 9.86%, Test Loss: 2.3045, Test Accuracy: 10.01%\n",
      "Epoch [241/400], Loss: 2.3023, Accuracy: 9.86%, Test Loss: 2.3045, Test Accuracy: 10.01%\n",
      "Epoch [242/400], Loss: 2.3023, Accuracy: 10.00%, Test Loss: 2.3045, Test Accuracy: 10.01%\n",
      "Epoch [243/400], Loss: 2.3023, Accuracy: 9.99%, Test Loss: 2.3044, Test Accuracy: 10.01%\n",
      "Epoch [244/400], Loss: 2.3023, Accuracy: 9.93%, Test Loss: 2.3044, Test Accuracy: 10.01%\n",
      "Epoch [245/400], Loss: 2.3023, Accuracy: 9.96%, Test Loss: 2.3044, Test Accuracy: 10.01%\n",
      "Epoch [246/400], Loss: 2.3023, Accuracy: 9.90%, Test Loss: 2.3043, Test Accuracy: 10.01%\n",
      "Epoch [247/400], Loss: 2.3021, Accuracy: 9.87%, Test Loss: 2.3031, Test Accuracy: 10.10%\n",
      "Epoch [248/400], Loss: 2.3042, Accuracy: 9.93%, Test Loss: 2.3045, Test Accuracy: 10.00%\n",
      "Epoch [249/400], Loss: 2.3024, Accuracy: 9.70%, Test Loss: 2.3045, Test Accuracy: 10.00%\n",
      "Epoch [250/400], Loss: 2.3024, Accuracy: 9.90%, Test Loss: 2.3045, Test Accuracy: 10.00%\n",
      "Epoch [251/400], Loss: 2.3024, Accuracy: 9.99%, Test Loss: 2.3044, Test Accuracy: 10.00%\n",
      "Epoch [252/400], Loss: 2.3024, Accuracy: 9.82%, Test Loss: 2.3044, Test Accuracy: 10.00%\n",
      "Epoch [253/400], Loss: 2.3024, Accuracy: 9.80%, Test Loss: 2.3044, Test Accuracy: 10.00%\n",
      "Epoch [254/400], Loss: 2.3024, Accuracy: 9.68%, Test Loss: 2.3045, Test Accuracy: 10.00%\n",
      "Epoch [255/400], Loss: 2.3024, Accuracy: 9.83%, Test Loss: 2.3045, Test Accuracy: 10.01%\n",
      "Epoch [256/400], Loss: 2.3024, Accuracy: 9.84%, Test Loss: 2.3044, Test Accuracy: 10.01%\n",
      "Epoch [257/400], Loss: 2.3024, Accuracy: 9.88%, Test Loss: 2.3044, Test Accuracy: 10.01%\n",
      "Epoch [258/400], Loss: 2.3024, Accuracy: 9.90%, Test Loss: 2.3044, Test Accuracy: 10.01%\n",
      "Epoch [259/400], Loss: 2.3024, Accuracy: 9.95%, Test Loss: 2.3044, Test Accuracy: 10.01%\n",
      "Epoch [260/400], Loss: 2.3024, Accuracy: 10.01%, Test Loss: 2.3044, Test Accuracy: 10.01%\n",
      "Epoch [261/400], Loss: 2.3022, Accuracy: 9.78%, Test Loss: 2.3044, Test Accuracy: 10.00%\n",
      "Epoch [262/400], Loss: 2.3024, Accuracy: 10.00%, Test Loss: 2.3045, Test Accuracy: 10.01%\n",
      "Epoch [263/400], Loss: 2.3024, Accuracy: 9.87%, Test Loss: 2.3044, Test Accuracy: 10.01%\n",
      "Epoch [264/400], Loss: 2.3024, Accuracy: 9.87%, Test Loss: 2.3044, Test Accuracy: 10.01%\n",
      "Epoch [265/400], Loss: 2.3024, Accuracy: 9.86%, Test Loss: 2.3044, Test Accuracy: 10.01%\n",
      "Epoch [266/400], Loss: 2.3024, Accuracy: 9.77%, Test Loss: 2.3044, Test Accuracy: 10.01%\n",
      "Epoch [267/400], Loss: 2.3024, Accuracy: 9.99%, Test Loss: 2.3044, Test Accuracy: 10.01%\n",
      "Epoch [268/400], Loss: 2.3024, Accuracy: 9.82%, Test Loss: 2.3044, Test Accuracy: 10.02%\n",
      "Epoch [269/400], Loss: 2.3024, Accuracy: 9.84%, Test Loss: 2.3044, Test Accuracy: 10.01%\n",
      "Epoch [270/400], Loss: 2.3024, Accuracy: 9.88%, Test Loss: 2.3044, Test Accuracy: 10.01%\n",
      "Epoch [271/400], Loss: 2.3024, Accuracy: 9.90%, Test Loss: 2.3044, Test Accuracy: 10.00%\n",
      "Epoch [272/400], Loss: 2.3024, Accuracy: 9.94%, Test Loss: 2.3044, Test Accuracy: 10.01%\n",
      "Epoch [273/400], Loss: 2.3024, Accuracy: 9.82%, Test Loss: 2.3044, Test Accuracy: 10.02%\n",
      "Epoch [274/400], Loss: 2.3024, Accuracy: 9.89%, Test Loss: 2.3044, Test Accuracy: 10.02%\n",
      "Epoch [275/400], Loss: 2.3024, Accuracy: 9.85%, Test Loss: 2.3044, Test Accuracy: 10.02%\n",
      "Epoch [276/400], Loss: 2.3024, Accuracy: 10.00%, Test Loss: 2.3044, Test Accuracy: 10.02%\n",
      "Epoch [277/400], Loss: 2.3024, Accuracy: 9.89%, Test Loss: 2.3044, Test Accuracy: 10.02%\n",
      "Epoch [278/400], Loss: 2.3023, Accuracy: 9.85%, Test Loss: 2.3044, Test Accuracy: 10.02%\n",
      "Epoch [279/400], Loss: 2.3024, Accuracy: 10.00%, Test Loss: 2.3044, Test Accuracy: 10.02%\n",
      "Epoch [280/400], Loss: 2.3023, Accuracy: 9.94%, Test Loss: 2.3044, Test Accuracy: 10.02%\n",
      "Epoch [281/400], Loss: 2.3023, Accuracy: 9.93%, Test Loss: 2.3044, Test Accuracy: 10.01%\n",
      "Epoch [282/400], Loss: 2.3023, Accuracy: 9.78%, Test Loss: 2.3044, Test Accuracy: 10.02%\n",
      "Epoch [283/400], Loss: 2.3023, Accuracy: 9.92%, Test Loss: 2.3044, Test Accuracy: 10.02%\n",
      "Epoch [284/400], Loss: 2.3023, Accuracy: 9.85%, Test Loss: 2.3044, Test Accuracy: 10.02%\n",
      "Epoch [285/400], Loss: 2.3023, Accuracy: 9.89%, Test Loss: 2.3044, Test Accuracy: 10.02%\n",
      "Epoch [286/400], Loss: 2.3023, Accuracy: 9.89%, Test Loss: 2.3044, Test Accuracy: 10.02%\n",
      "Epoch [287/400], Loss: 2.3023, Accuracy: 9.93%, Test Loss: 2.3044, Test Accuracy: 10.02%\n",
      "Epoch [288/400], Loss: 2.3023, Accuracy: 9.81%, Test Loss: 2.3044, Test Accuracy: 10.01%\n",
      "Epoch [289/400], Loss: 2.3023, Accuracy: 9.79%, Test Loss: 2.3044, Test Accuracy: 10.01%\n",
      "Epoch [290/400], Loss: 2.3023, Accuracy: 9.86%, Test Loss: 2.3044, Test Accuracy: 10.01%\n",
      "Epoch [291/400], Loss: 2.3023, Accuracy: 9.90%, Test Loss: 2.3044, Test Accuracy: 10.01%\n",
      "Epoch [292/400], Loss: 2.3023, Accuracy: 9.78%, Test Loss: 2.3044, Test Accuracy: 10.02%\n",
      "Epoch [293/400], Loss: 2.3023, Accuracy: 9.87%, Test Loss: 2.3045, Test Accuracy: 10.03%\n",
      "Epoch [294/400], Loss: 2.3023, Accuracy: 9.87%, Test Loss: 2.3045, Test Accuracy: 10.04%\n",
      "Epoch [295/400], Loss: 2.3022, Accuracy: 9.92%, Test Loss: 2.3044, Test Accuracy: 10.04%\n",
      "Epoch [296/400], Loss: 2.3022, Accuracy: 9.81%, Test Loss: 2.3044, Test Accuracy: 10.04%\n",
      "Epoch [297/400], Loss: 2.3022, Accuracy: 9.72%, Test Loss: 2.3044, Test Accuracy: 10.04%\n",
      "Epoch [298/400], Loss: 2.3022, Accuracy: 9.83%, Test Loss: 2.3044, Test Accuracy: 10.03%\n",
      "Epoch [299/400], Loss: 2.3022, Accuracy: 9.82%, Test Loss: 2.3044, Test Accuracy: 10.04%\n",
      "Epoch [300/400], Loss: 2.3022, Accuracy: 9.84%, Test Loss: 2.3043, Test Accuracy: 10.05%\n",
      "Epoch [301/400], Loss: 2.3022, Accuracy: 9.79%, Test Loss: 2.3043, Test Accuracy: 10.04%\n",
      "Epoch [302/400], Loss: 2.3021, Accuracy: 9.99%, Test Loss: 2.3042, Test Accuracy: 10.05%\n",
      "Epoch [303/400], Loss: 2.3009, Accuracy: 10.09%, Test Loss: 4.4487, Test Accuracy: 14.97%\n",
      "Epoch [304/400], Loss: 2.3228, Accuracy: 9.97%, Test Loss: 2.3043, Test Accuracy: 10.01%\n",
      "Epoch [305/400], Loss: 2.3024, Accuracy: 9.93%, Test Loss: 2.3043, Test Accuracy: 10.01%\n",
      "Epoch [306/400], Loss: 2.3024, Accuracy: 9.94%, Test Loss: 2.3043, Test Accuracy: 10.01%\n",
      "Epoch [307/400], Loss: 2.3024, Accuracy: 9.87%, Test Loss: 2.3043, Test Accuracy: 10.01%\n",
      "Epoch [308/400], Loss: 2.3024, Accuracy: 9.79%, Test Loss: 2.3043, Test Accuracy: 9.94%\n",
      "Epoch [309/400], Loss: 2.3024, Accuracy: 9.64%, Test Loss: 2.3043, Test Accuracy: 10.01%\n",
      "Epoch [310/400], Loss: 2.3024, Accuracy: 9.77%, Test Loss: 2.3043, Test Accuracy: 10.01%\n",
      "Epoch [311/400], Loss: 2.3024, Accuracy: 9.93%, Test Loss: 2.3043, Test Accuracy: 10.01%\n",
      "Epoch [312/400], Loss: 2.3024, Accuracy: 9.69%, Test Loss: 2.3043, Test Accuracy: 10.01%\n",
      "Epoch [313/400], Loss: 2.3022, Accuracy: 9.88%, Test Loss: 2.3032, Test Accuracy: 10.01%\n",
      "Epoch [314/400], Loss: 2.2805, Accuracy: 11.13%, Test Loss: 2.3757, Test Accuracy: 12.40%\n",
      "Epoch [315/400], Loss: 2.1586, Accuracy: 17.18%, Test Loss: 2.1375, Test Accuracy: 17.76%\n",
      "Epoch [316/400], Loss: 2.2267, Accuracy: 13.75%, Test Loss: 2.3051, Test Accuracy: 10.01%\n",
      "Epoch [317/400], Loss: 2.2856, Accuracy: 10.60%, Test Loss: 2.1201, Test Accuracy: 18.62%\n",
      "Epoch [318/400], Loss: 2.3067, Accuracy: 10.27%, Test Loss: 2.3049, Test Accuracy: 10.01%\n",
      "Epoch [319/400], Loss: 2.3029, Accuracy: 9.77%, Test Loss: 2.3048, Test Accuracy: 10.00%\n",
      "Epoch [320/400], Loss: 2.3027, Accuracy: 9.89%, Test Loss: 2.3047, Test Accuracy: 10.01%\n",
      "Epoch [321/400], Loss: 2.2464, Accuracy: 13.05%, Test Loss: 2.3051, Test Accuracy: 10.00%\n",
      "Epoch [322/400], Loss: 2.2945, Accuracy: 10.55%, Test Loss: 2.3051, Test Accuracy: 10.00%\n",
      "Epoch [323/400], Loss: 2.3030, Accuracy: 9.91%, Test Loss: 2.3050, Test Accuracy: 10.00%\n",
      "Epoch [324/400], Loss: 2.3029, Accuracy: 9.90%, Test Loss: 2.3049, Test Accuracy: 10.00%\n",
      "Epoch [325/400], Loss: 2.3028, Accuracy: 9.85%, Test Loss: 2.3048, Test Accuracy: 10.00%\n",
      "Epoch [326/400], Loss: 2.3027, Accuracy: 9.82%, Test Loss: 2.3047, Test Accuracy: 10.00%\n",
      "Epoch [327/400], Loss: 2.3026, Accuracy: 9.83%, Test Loss: 2.3047, Test Accuracy: 9.99%\n",
      "Epoch [328/400], Loss: 2.3026, Accuracy: 9.81%, Test Loss: 2.3046, Test Accuracy: 9.99%\n",
      "Epoch [329/400], Loss: 2.3025, Accuracy: 10.01%, Test Loss: 2.3046, Test Accuracy: 9.99%\n",
      "Epoch [330/400], Loss: 2.3025, Accuracy: 9.90%, Test Loss: 2.3046, Test Accuracy: 9.99%\n",
      "Epoch [331/400], Loss: 2.3025, Accuracy: 9.91%, Test Loss: 2.3045, Test Accuracy: 10.00%\n",
      "Epoch [332/400], Loss: 2.3024, Accuracy: 9.85%, Test Loss: 2.3045, Test Accuracy: 9.99%\n",
      "Epoch [333/400], Loss: 2.2717, Accuracy: 11.60%, Test Loss: 2.3046, Test Accuracy: 10.00%\n",
      "Epoch [334/400], Loss: 2.3025, Accuracy: 9.84%, Test Loss: 2.3046, Test Accuracy: 10.00%\n",
      "Epoch [335/400], Loss: 2.3024, Accuracy: 9.69%, Test Loss: 2.3046, Test Accuracy: 10.00%\n",
      "Epoch [336/400], Loss: 2.2825, Accuracy: 10.77%, Test Loss: 2.0861, Test Accuracy: 19.38%\n",
      "Epoch [337/400], Loss: 2.2595, Accuracy: 12.46%, Test Loss: 2.3047, Test Accuracy: 10.00%\n",
      "Epoch [338/400], Loss: 2.3027, Accuracy: 9.81%, Test Loss: 2.3047, Test Accuracy: 10.00%\n",
      "Epoch [339/400], Loss: 2.3026, Accuracy: 9.56%, Test Loss: 2.3046, Test Accuracy: 10.00%\n",
      "Epoch [340/400], Loss: 2.3026, Accuracy: 9.85%, Test Loss: 2.3046, Test Accuracy: 10.00%\n",
      "Epoch [341/400], Loss: 2.3025, Accuracy: 9.91%, Test Loss: 2.3046, Test Accuracy: 10.00%\n",
      "Epoch [342/400], Loss: 2.3025, Accuracy: 9.75%, Test Loss: 2.3045, Test Accuracy: 10.00%\n",
      "Epoch [343/400], Loss: 2.3025, Accuracy: 9.97%, Test Loss: 2.3045, Test Accuracy: 10.00%\n",
      "Epoch [344/400], Loss: 2.3025, Accuracy: 10.01%, Test Loss: 2.3045, Test Accuracy: 10.00%\n",
      "Epoch [345/400], Loss: 2.3025, Accuracy: 9.89%, Test Loss: 2.3045, Test Accuracy: 10.00%\n",
      "Epoch [346/400], Loss: 2.3023, Accuracy: 9.67%, Test Loss: 2.3045, Test Accuracy: 10.00%\n",
      "Epoch [347/400], Loss: 2.3025, Accuracy: 9.89%, Test Loss: 2.3045, Test Accuracy: 10.00%\n",
      "Epoch [348/400], Loss: 2.3024, Accuracy: 9.91%, Test Loss: 2.3045, Test Accuracy: 10.00%\n",
      "Epoch [349/400], Loss: 2.3024, Accuracy: 9.76%, Test Loss: 2.3045, Test Accuracy: 10.00%\n",
      "Epoch [350/400], Loss: 2.3024, Accuracy: 9.91%, Test Loss: 2.3045, Test Accuracy: 10.00%\n",
      "Epoch [351/400], Loss: 2.3024, Accuracy: 9.78%, Test Loss: 2.3045, Test Accuracy: 10.00%\n",
      "Epoch [352/400], Loss: 2.3024, Accuracy: 9.97%, Test Loss: 2.3045, Test Accuracy: 10.00%\n",
      "Epoch [353/400], Loss: 2.3024, Accuracy: 9.88%, Test Loss: 2.3045, Test Accuracy: 9.99%\n",
      "Epoch [354/400], Loss: 2.3023, Accuracy: 9.80%, Test Loss: 2.3045, Test Accuracy: 10.00%\n",
      "Epoch [355/400], Loss: 2.3024, Accuracy: 9.83%, Test Loss: 2.3045, Test Accuracy: 10.00%\n",
      "Epoch [356/400], Loss: 2.3024, Accuracy: 9.82%, Test Loss: 2.3045, Test Accuracy: 10.00%\n",
      "Epoch [357/400], Loss: 2.3024, Accuracy: 9.77%, Test Loss: 2.3045, Test Accuracy: 10.00%\n",
      "Epoch [358/400], Loss: 2.3024, Accuracy: 9.82%, Test Loss: 2.3045, Test Accuracy: 10.00%\n",
      "Epoch [359/400], Loss: 2.3024, Accuracy: 9.67%, Test Loss: 2.3045, Test Accuracy: 10.00%\n",
      "Epoch [360/400], Loss: 2.3024, Accuracy: 9.86%, Test Loss: 2.3045, Test Accuracy: 10.00%\n",
      "Epoch [361/400], Loss: 2.3024, Accuracy: 9.70%, Test Loss: 2.3045, Test Accuracy: 10.00%\n",
      "Epoch [362/400], Loss: 2.3024, Accuracy: 9.78%, Test Loss: 2.3045, Test Accuracy: 10.00%\n",
      "Epoch [363/400], Loss: 2.3024, Accuracy: 9.85%, Test Loss: 2.3045, Test Accuracy: 10.00%\n",
      "Epoch [364/400], Loss: 2.3024, Accuracy: 9.94%, Test Loss: 2.3045, Test Accuracy: 10.00%\n",
      "Epoch [365/400], Loss: 2.3024, Accuracy: 9.91%, Test Loss: 2.3045, Test Accuracy: 10.00%\n",
      "Epoch [366/400], Loss: 2.3024, Accuracy: 9.80%, Test Loss: 2.3045, Test Accuracy: 10.00%\n",
      "Epoch [367/400], Loss: 2.3024, Accuracy: 9.90%, Test Loss: 2.3045, Test Accuracy: 10.00%\n",
      "Epoch [368/400], Loss: 2.3024, Accuracy: 9.88%, Test Loss: 2.3045, Test Accuracy: 10.00%\n",
      "Epoch [369/400], Loss: 2.3024, Accuracy: 9.87%, Test Loss: 2.3045, Test Accuracy: 10.00%\n",
      "Epoch [370/400], Loss: 2.3024, Accuracy: 9.92%, Test Loss: 2.3045, Test Accuracy: 10.00%\n",
      "Epoch [371/400], Loss: 2.3024, Accuracy: 9.90%, Test Loss: 2.3045, Test Accuracy: 10.00%\n",
      "Epoch [372/400], Loss: 2.3024, Accuracy: 9.96%, Test Loss: 2.3045, Test Accuracy: 10.00%\n",
      "Epoch [373/400], Loss: 2.3024, Accuracy: 9.95%, Test Loss: 2.3045, Test Accuracy: 10.00%\n",
      "Epoch [374/400], Loss: 2.3024, Accuracy: 10.01%, Test Loss: 2.3045, Test Accuracy: 10.00%\n",
      "Epoch [375/400], Loss: 2.3024, Accuracy: 9.92%, Test Loss: 2.3045, Test Accuracy: 10.00%\n",
      "Epoch [376/400], Loss: 2.3024, Accuracy: 9.93%, Test Loss: 2.3045, Test Accuracy: 10.00%\n",
      "Epoch [377/400], Loss: 2.3024, Accuracy: 10.01%, Test Loss: 2.3045, Test Accuracy: 10.00%\n",
      "Epoch [378/400], Loss: 2.3024, Accuracy: 10.01%, Test Loss: 2.3045, Test Accuracy: 10.00%\n",
      "Epoch [379/400], Loss: 2.3024, Accuracy: 10.01%, Test Loss: 2.3045, Test Accuracy: 10.00%\n",
      "Epoch [380/400], Loss: 2.3024, Accuracy: 10.01%, Test Loss: 2.3045, Test Accuracy: 10.00%\n",
      "Epoch [381/400], Loss: 2.3024, Accuracy: 9.88%, Test Loss: 2.3045, Test Accuracy: 10.00%\n",
      "Epoch [382/400], Loss: 2.3024, Accuracy: 9.86%, Test Loss: 2.3045, Test Accuracy: 10.00%\n",
      "Epoch [383/400], Loss: 2.3024, Accuracy: 9.95%, Test Loss: 2.3045, Test Accuracy: 10.00%\n",
      "Epoch [384/400], Loss: 2.3024, Accuracy: 9.88%, Test Loss: 2.3045, Test Accuracy: 10.00%\n",
      "Epoch [385/400], Loss: 2.3024, Accuracy: 9.98%, Test Loss: 2.3045, Test Accuracy: 10.00%\n",
      "Epoch [386/400], Loss: 2.3024, Accuracy: 9.73%, Test Loss: 2.3045, Test Accuracy: 10.00%\n",
      "Epoch [387/400], Loss: 2.3024, Accuracy: 9.93%, Test Loss: 2.3045, Test Accuracy: 10.00%\n",
      "Epoch [388/400], Loss: 2.3024, Accuracy: 9.80%, Test Loss: 2.3045, Test Accuracy: 10.00%\n",
      "Epoch [389/400], Loss: 2.3024, Accuracy: 9.73%, Test Loss: 2.3045, Test Accuracy: 10.00%\n",
      "Epoch [390/400], Loss: 2.3024, Accuracy: 9.84%, Test Loss: 2.3045, Test Accuracy: 10.00%\n",
      "Epoch [391/400], Loss: 2.3024, Accuracy: 9.72%, Test Loss: 2.3045, Test Accuracy: 10.00%\n",
      "Epoch [392/400], Loss: 2.3024, Accuracy: 9.81%, Test Loss: 2.3045, Test Accuracy: 10.00%\n",
      "Epoch [393/400], Loss: 2.3024, Accuracy: 9.76%, Test Loss: 2.3045, Test Accuracy: 10.00%\n",
      "Epoch [394/400], Loss: 2.3024, Accuracy: 9.68%, Test Loss: 2.3045, Test Accuracy: 10.00%\n",
      "Epoch [395/400], Loss: 2.3024, Accuracy: 9.95%, Test Loss: 2.3045, Test Accuracy: 10.00%\n",
      "Epoch [396/400], Loss: 2.3024, Accuracy: 9.76%, Test Loss: 2.3045, Test Accuracy: 10.00%\n",
      "Epoch [397/400], Loss: 2.3024, Accuracy: 9.86%, Test Loss: 2.3045, Test Accuracy: 10.00%\n",
      "Epoch [398/400], Loss: 2.3024, Accuracy: 9.84%, Test Loss: 2.3045, Test Accuracy: 10.00%\n",
      "Epoch [399/400], Loss: 2.3024, Accuracy: 9.76%, Test Loss: 2.3045, Test Accuracy: 10.00%\n",
      "Epoch [400/400], Loss: 2.3024, Accuracy: 9.86%, Test Loss: 2.3045, Test Accuracy: 10.00%\n"
     ]
    }
   ],
   "source": [
    "# train\n",
    "for epoch in range(max_epoch):\n",
    "    running_loss = 0.0\n",
    "    running_correct = 0   # to track number of correct predictions\n",
    "    total = 0             # to track total number of samples\n",
    "\n",
    "    for i, (inputs, labels) in enumerate(trainloader, 0):\n",
    "        # Move inputs and labels to the device\n",
    "        inputs, labels = inputs.to(device), labels.to(device)\n",
    "\n",
    "        # Zero the parameter gradients\n",
    "        optimizer.zero_grad()\n",
    "\n",
    "        # Forward pass\n",
    "        outputs = model(inputs)\n",
    "        loss = criterion(outputs, labels)\n",
    "        running_loss += loss.item()\n",
    "\n",
    "        # Determine class predictions and track accuracy\n",
    "        _, predicted = torch.max(outputs.data, 1)\n",
    "        total += labels.size(0)\n",
    "        running_correct += (predicted == labels).sum().item()\n",
    "\n",
    "        # Backward pass and optimization\n",
    "        loss.backward()\n",
    "        optimizer.step()        \n",
    "\n",
    "    epoch_accuracy = 100 * running_correct / total\n",
    "    epoch_loss = running_loss / (i + 1)\n",
    "    test_loss, test_accuracy = evaluate(model, testloader, criterion)\n",
    "    print(f\"Epoch [{epoch + 1}/{max_epoch}], Loss: {epoch_loss:.4f}, Accuracy: {epoch_accuracy:.2f}%, Test Loss: {test_loss:.4f}, Test Accuracy: {test_accuracy:.2f}%\")\n",
    "    \n",
    "    # save for plot\n",
    "    train_losses.append(epoch_loss)\n",
    "    train_accuracies.append(epoch_accuracy)\n",
    "    test_losses.append(test_loss)\n",
    "    test_accuracies.append(test_accuracy)"
   ]
  },
  {
   "cell_type": "code",
   "execution_count": null,
   "metadata": {
    "id": "QKFbl4unF_6t"
   },
   "outputs": [],
   "source": []
  },
  {
   "cell_type": "code",
   "execution_count": 11,
   "metadata": {
    "id": "AwIj3vrnF_8_"
   },
   "outputs": [
    {
     "data": {
      "text/plain": [
       "<matplotlib.legend.Legend at 0x7f0cbe3f2830>"
      ]
     },
     "execution_count": 11,
     "metadata": {},
     "output_type": "execute_result"
    },
    {
     "data": {
      "image/png": "[encoded data removed]",
      "text/plain": [
       "<Figure size 640x480 with 1 Axes>"
      ]
     },
     "metadata": {},
     "output_type": "display_data"
    }
   ],
   "source": [
    "import matplotlib.pyplot as plt\n",
    "\n",
    "plt.plot(train_losses, label='train_losses')\n",
    "plt.plot(test_losses, label='test_losses')\n",
    "plt.legend()"
   ]
  },
  {
   "cell_type": "code",
   "execution_count": 12,
   "metadata": {
    "id": "eh3iDa8lF__H"
   },
   "outputs": [
    {
     "data": {
      "text/plain": [
       "<matplotlib.legend.Legend at 0x7f0cbfdb9de0>"
      ]
     },
     "execution_count": 12,
     "metadata": {},
     "output_type": "execute_result"
    },
    {
     "data": {
      "image/png": "[encoded data removed]",
      "text/plain": [
       "<Figure size 640x480 with 1 Axes>"
      ]
     },
     "metadata": {},
     "output_type": "display_data"
    }
   ],
   "source": [
    "import matplotlib.pyplot as plt\n",
    "\n",
    "plt.plot(train_accuracies, label='train_accuracy')\n",
    "plt.plot(test_accuracies, label='test_accuracy')\n",
    "plt.legend()"
   ]
  },
  {
   "cell_type": "code",
   "execution_count": null,
   "metadata": {},
   "outputs": [],
   "source": []
  },
  {
   "cell_type": "code",
   "execution_count": 13,
   "metadata": {},
   "outputs": [
    {
     "data": {
      "text/plain": [
       "<matplotlib.legend.Legend at 0x7f0c56e5b940>"
      ]
     },
     "execution_count": 13,
     "metadata": {},
     "output_type": "execute_result"
    }
   ],
   "source": [
    "import matplotlib.pyplot as plt\n",
    "%matplotlib qt\n",
    "\n",
    "plt.plot(train_losses, label='train_losses')\n",
    "plt.plot(test_losses, label='test_losses')\n",
    "plt.legend()"
   ]
  },
  {
   "cell_type": "code",
   "execution_count": 14,
   "metadata": {},
   "outputs": [
    {
     "data": {
      "text/plain": [
       "<matplotlib.legend.Legend at 0x7f0c56ef6e90>"
      ]
     },
     "execution_count": 14,
     "metadata": {},
     "output_type": "execute_result"
    }
   ],
   "source": [
    "import matplotlib.pyplot as plt\n",
    "%matplotlib qt\n",
    "\n",
    "plt.plot(train_accuracies, label='train_accuracy')\n",
    "plt.plot(test_accuracies, label='test_accuracy')\n",
    "plt.legend()"
   ]
  },
  {
   "cell_type": "code",
   "execution_count": null,
   "metadata": {},
   "outputs": [],
   "source": []
  }
 ],
 "metadata": {
  "accelerator": "GPU",
  "colab": {
   "gpuType": "T4",
   "provenance": []
  },
  "kernelspec": {
   "display_name": "Python 3 (ipykernel)",
   "language": "python",
   "name": "python3"
  },
  "language_info": {
   "codemirror_mode": {
    "name": "ipython",
    "version": 3
   },
   "file_extension": ".py",
   "mimetype": "text/x-python",
   "name": "python",
   "nbconvert_exporter": "python",
   "pygments_lexer": "ipython3",
   "version": "3.9.18"
  }
 },
 "nbformat": 4,
 "nbformat_minor": 4
}
