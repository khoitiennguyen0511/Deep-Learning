{
 "cells": [
  {
   "cell_type": "code",
   "execution_count": 1,
   "metadata": {},
   "outputs": [],
   "source": [
    "import torch\n",
    "import torch.nn as nn\n",
    "import torch.optim as optim\n",
    "import torchvision\n",
    "import torchvision.transforms as transforms\n",
    "\n",
    "# Check if GPU is available\n",
    "device = torch.device(\"cuda:0\" if torch.cuda.is_available() else \"cpu\")"
   ]
  },
  {
   "cell_type": "code",
   "execution_count": null,
   "metadata": {},
   "outputs": [],
   "source": []
  },
  {
   "cell_type": "markdown",
   "metadata": {},
   "source": [
    "#### Data"
   ]
  },
  {
   "cell_type": "code",
   "execution_count": 2,
   "metadata": {},
   "outputs": [],
   "source": [
    "# Load CFashionMNIST dataset\n",
    "transform = transforms.Compose([transforms.ToTensor(), transforms.Normalize((0.5,), (0.5,))])\n",
    "\n",
    "trainset = torchvision.datasets.FashionMNIST(root='data', train=True, download=True, transform=transform)\n",
    "trainloader = torch.utils.data.DataLoader(trainset, batch_size=512, num_workers=3, shuffle=True)\n",
    "\n",
    "testset = torchvision.datasets.FashionMNIST(root='data', train=False, download=True, transform=transform)\n",
    "testloader = torch.utils.data.DataLoader(testset, batch_size=512, num_workers=3, shuffle=False)"
   ]
  },
  {
   "cell_type": "code",
   "execution_count": 3,
   "metadata": {},
   "outputs": [
    {
     "data": {
      "image/png": "[encoded data removed]",
      "text/plain": [
       "<Figure size 640x480 with 1 Axes>"
      ]
     },
     "metadata": {},
     "output_type": "display_data"
    }
   ],
   "source": [
    "import matplotlib.pyplot as plt\n",
    "import numpy as np\n",
    "\n",
    "# Function to display the images\n",
    "def imshow(img):\n",
    "    img = img*0.5 + 0.5\n",
    "    np_img = img.numpy()\n",
    "    plt.imshow(np.transpose(np_img, (1, 2, 0)))\n",
    "    plt.show()\n",
    "\n",
    "for i, (images, labels) in enumerate(trainloader, 0):\n",
    "    # Plot some images\n",
    "    imshow(torchvision.utils.make_grid(images[:8]))  # Display 8 images from the batch\n",
    "    break"
   ]
  },
  {
   "cell_type": "code",
   "execution_count": null,
   "metadata": {},
   "outputs": [],
   "source": []
  },
  {
   "cell_type": "markdown",
   "metadata": {},
   "source": [
    "#### Model"
   ]
  },
  {
   "cell_type": "code",
   "execution_count": 4,
   "metadata": {},
   "outputs": [
    {
     "name": "stdout",
     "output_type": "stream",
     "text": [
      "Sequential(\n",
      "  (0): Flatten(start_dim=1, end_dim=-1)\n",
      "  (1): Linear(in_features=784, out_features=256, bias=True)\n",
      "  (2): Sigmoid()\n",
      "  (3): Linear(in_features=256, out_features=10, bias=True)\n",
      ")\n"
     ]
    }
   ],
   "source": [
    "model = nn.Sequential(\n",
    "    nn.Flatten(), \n",
    "    nn.Linear(784, 256),\n",
    "    nn.Sigmoid(),\n",
    "    nn.Linear(256, 10)\n",
    ")\n",
    "model = model.to(device)\n",
    "\n",
    "print(model)"
   ]
  },
  {
   "cell_type": "code",
   "execution_count": 5,
   "metadata": {},
   "outputs": [
    {
     "name": "stdout",
     "output_type": "stream",
     "text": [
      "torch.Size([5, 10])\n"
     ]
    }
   ],
   "source": [
    "# Generating a random tensor\n",
    "input_tensor = torch.rand(5, 28, 28).to(device)\n",
    "\n",
    "# Feeding the tensor into the model\n",
    "output = model(input_tensor)\n",
    "print(output.shape)"
   ]
  },
  {
   "cell_type": "code",
   "execution_count": null,
   "metadata": {},
   "outputs": [],
   "source": []
  },
  {
   "cell_type": "markdown",
   "metadata": {},
   "source": [
    "#### Loss, Optimizer, and Evaluation Function"
   ]
  },
  {
   "cell_type": "code",
   "execution_count": 6,
   "metadata": {},
   "outputs": [],
   "source": [
    "criterion = nn.CrossEntropyLoss()\n",
    "optimizer = optim.SGD(model.parameters(), lr=0.01)"
   ]
  },
  {
   "cell_type": "code",
   "execution_count": 7,
   "metadata": {},
   "outputs": [],
   "source": [
    "# Function to compute loss and accuracy for test set\n",
    "def evaluate(model, testloader, criterion):\n",
    "    model.eval()\n",
    "    test_loss = 0.0\n",
    "    correct = 0\n",
    "    total = 0\n",
    "    with torch.no_grad():\n",
    "        for images, labels in testloader:\n",
    "            # Move inputs and labels to the device\n",
    "            images, labels = images.to(device), labels.to(device)\n",
    "\n",
    "            outputs = model(images)\n",
    "            loss = criterion(outputs, labels)\n",
    "            test_loss += loss.item()\n",
    "            \n",
    "            _, predicted = torch.max(outputs.data, 1)\n",
    "            total += labels.size(0)\n",
    "            correct += (predicted == labels).sum().item()\n",
    "\n",
    "    accuracy = 100 * correct / total\n",
    "    test_loss = test_loss / len(testloader)\n",
    "    return test_loss, accuracy"
   ]
  },
  {
   "cell_type": "code",
   "execution_count": 8,
   "metadata": {},
   "outputs": [
    {
     "name": "stdout",
     "output_type": "stream",
     "text": [
      "test_loss: 2.3935012221336365\n",
      "test_accuracy: 9.95\n"
     ]
    }
   ],
   "source": [
    "test_loss, test_accuracy = evaluate(model, testloader, criterion)\n",
    "print(f'test_loss: {test_loss}')\n",
    "print(f'test_accuracy: {test_accuracy}')"
   ]
  },
  {
   "cell_type": "code",
   "execution_count": null,
   "metadata": {},
   "outputs": [],
   "source": []
  },
  {
   "cell_type": "markdown",
   "metadata": {},
   "source": [
    "#### Train"
   ]
  },
  {
   "cell_type": "code",
   "execution_count": 9,
   "metadata": {},
   "outputs": [],
   "source": [
    "# some parameter\n",
    "train_losses = []\n",
    "train_accuracies = []\n",
    "test_losses = []\n",
    "test_accuracies = []\n",
    "max_epoch = 400"
   ]
  },
  {
   "cell_type": "code",
   "execution_count": 10,
   "metadata": {
    "colab": {
     "base_uri": "https://localhost:8080/"
    },
    "id": "tYwXeSOOF_4Z",
    "outputId": "a4c62a4a-267f-4101-ce96-662cc23cdbe0"
   },
   "outputs": [
    {
     "name": "stdout",
     "output_type": "stream",
     "text": [
      "Epoch [1/400], Loss: 2.1695, Accuracy: 42.75%, Test Loss: 2.0125, Test Accuracy: 56.31%\n",
      "Epoch [2/400], Loss: 1.8619, Accuracy: 61.31%, Test Loss: 1.7177, Test Accuracy: 62.13%\n",
      "Epoch [3/400], Loss: 1.5930, Accuracy: 64.41%, Test Loss: 1.4831, Test Accuracy: 66.04%\n",
      "Epoch [4/400], Loss: 1.3922, Accuracy: 67.00%, Test Loss: 1.3160, Test Accuracy: 68.59%\n",
      "Epoch [5/400], Loss: 1.2479, Accuracy: 69.03%, Test Loss: 1.1948, Test Accuracy: 69.37%\n",
      "Epoch [6/400], Loss: 1.1424, Accuracy: 70.11%, Test Loss: 1.1035, Test Accuracy: 70.23%\n",
      "Epoch [7/400], Loss: 1.0605, Accuracy: 71.02%, Test Loss: 1.0324, Test Accuracy: 71.07%\n",
      "Epoch [8/400], Loss: 0.9960, Accuracy: 71.73%, Test Loss: 0.9743, Test Accuracy: 71.32%\n",
      "Epoch [9/400], Loss: 0.9431, Accuracy: 72.24%, Test Loss: 0.9277, Test Accuracy: 71.85%\n",
      "Epoch [10/400], Loss: 0.8992, Accuracy: 72.72%, Test Loss: 0.8892, Test Accuracy: 72.04%\n",
      "Epoch [11/400], Loss: 0.8633, Accuracy: 73.14%, Test Loss: 0.8562, Test Accuracy: 72.60%\n",
      "Epoch [12/400], Loss: 0.8327, Accuracy: 73.56%, Test Loss: 0.8292, Test Accuracy: 72.89%\n",
      "Epoch [13/400], Loss: 0.8079, Accuracy: 73.83%, Test Loss: 0.8058, Test Accuracy: 73.61%\n",
      "Epoch [14/400], Loss: 0.7863, Accuracy: 74.17%, Test Loss: 0.7853, Test Accuracy: 73.61%\n",
      "Epoch [15/400], Loss: 0.7653, Accuracy: 74.44%, Test Loss: 0.7681, Test Accuracy: 74.20%\n",
      "Epoch [16/400], Loss: 0.7484, Accuracy: 74.77%, Test Loss: 0.7526, Test Accuracy: 74.00%\n",
      "Epoch [17/400], Loss: 0.7336, Accuracy: 75.00%, Test Loss: 0.7390, Test Accuracy: 74.55%\n",
      "Epoch [18/400], Loss: 0.7218, Accuracy: 75.28%, Test Loss: 0.7265, Test Accuracy: 74.69%\n",
      "Epoch [19/400], Loss: 0.7083, Accuracy: 75.52%, Test Loss: 0.7153, Test Accuracy: 74.96%\n",
      "Epoch [20/400], Loss: 0.6962, Accuracy: 75.74%, Test Loss: 0.7053, Test Accuracy: 75.23%\n",
      "Epoch [21/400], Loss: 0.6868, Accuracy: 75.95%, Test Loss: 0.6960, Test Accuracy: 75.40%\n",
      "Epoch [22/400], Loss: 0.6788, Accuracy: 76.14%, Test Loss: 0.6880, Test Accuracy: 75.42%\n",
      "Epoch [23/400], Loss: 0.6683, Accuracy: 76.36%, Test Loss: 0.6797, Test Accuracy: 75.67%\n",
      "Epoch [24/400], Loss: 0.6619, Accuracy: 76.61%, Test Loss: 0.6719, Test Accuracy: 75.84%\n",
      "Epoch [25/400], Loss: 0.6543, Accuracy: 76.84%, Test Loss: 0.6651, Test Accuracy: 75.99%\n",
      "Epoch [26/400], Loss: 0.6481, Accuracy: 77.08%, Test Loss: 0.6587, Test Accuracy: 76.17%\n",
      "Epoch [27/400], Loss: 0.6395, Accuracy: 77.33%, Test Loss: 0.6525, Test Accuracy: 76.27%\n",
      "Epoch [28/400], Loss: 0.6341, Accuracy: 77.48%, Test Loss: 0.6468, Test Accuracy: 76.53%\n",
      "Epoch [29/400], Loss: 0.6282, Accuracy: 77.73%, Test Loss: 0.6410, Test Accuracy: 76.63%\n",
      "Epoch [30/400], Loss: 0.6218, Accuracy: 77.88%, Test Loss: 0.6357, Test Accuracy: 76.91%\n",
      "Epoch [31/400], Loss: 0.6172, Accuracy: 78.11%, Test Loss: 0.6308, Test Accuracy: 76.96%\n",
      "Epoch [32/400], Loss: 0.6118, Accuracy: 78.28%, Test Loss: 0.6263, Test Accuracy: 77.29%\n",
      "Epoch [33/400], Loss: 0.6071, Accuracy: 78.44%, Test Loss: 0.6213, Test Accuracy: 77.48%\n",
      "Epoch [34/400], Loss: 0.6013, Accuracy: 78.63%, Test Loss: 0.6167, Test Accuracy: 77.50%\n",
      "Epoch [35/400], Loss: 0.5968, Accuracy: 78.84%, Test Loss: 0.6133, Test Accuracy: 77.89%\n",
      "Epoch [36/400], Loss: 0.5930, Accuracy: 79.02%, Test Loss: 0.6086, Test Accuracy: 77.97%\n",
      "Epoch [37/400], Loss: 0.5878, Accuracy: 79.17%, Test Loss: 0.6048, Test Accuracy: 78.08%\n",
      "Epoch [38/400], Loss: 0.5838, Accuracy: 79.27%, Test Loss: 0.6009, Test Accuracy: 78.32%\n",
      "Epoch [39/400], Loss: 0.5802, Accuracy: 79.47%, Test Loss: 0.5974, Test Accuracy: 78.52%\n",
      "Epoch [40/400], Loss: 0.5764, Accuracy: 79.65%, Test Loss: 0.5937, Test Accuracy: 78.65%\n",
      "Epoch [41/400], Loss: 0.5723, Accuracy: 79.76%, Test Loss: 0.5902, Test Accuracy: 78.76%\n",
      "Epoch [42/400], Loss: 0.5689, Accuracy: 79.91%, Test Loss: 0.5869, Test Accuracy: 78.94%\n",
      "Epoch [43/400], Loss: 0.5658, Accuracy: 80.03%, Test Loss: 0.5837, Test Accuracy: 78.93%\n",
      "Epoch [44/400], Loss: 0.5628, Accuracy: 80.17%, Test Loss: 0.5808, Test Accuracy: 79.07%\n",
      "Epoch [45/400], Loss: 0.5602, Accuracy: 80.27%, Test Loss: 0.5780, Test Accuracy: 79.36%\n",
      "Epoch [46/400], Loss: 0.5565, Accuracy: 80.44%, Test Loss: 0.5753, Test Accuracy: 79.45%\n",
      "Epoch [47/400], Loss: 0.5540, Accuracy: 80.49%, Test Loss: 0.5725, Test Accuracy: 79.56%\n",
      "Epoch [48/400], Loss: 0.5505, Accuracy: 80.64%, Test Loss: 0.5697, Test Accuracy: 79.75%\n",
      "Epoch [49/400], Loss: 0.5488, Accuracy: 80.75%, Test Loss: 0.5672, Test Accuracy: 79.73%\n",
      "Epoch [50/400], Loss: 0.5452, Accuracy: 80.86%, Test Loss: 0.5644, Test Accuracy: 79.73%\n",
      "Epoch [51/400], Loss: 0.5420, Accuracy: 80.89%, Test Loss: 0.5622, Test Accuracy: 79.81%\n",
      "Epoch [52/400], Loss: 0.5397, Accuracy: 81.05%, Test Loss: 0.5600, Test Accuracy: 80.04%\n",
      "Epoch [53/400], Loss: 0.5365, Accuracy: 81.13%, Test Loss: 0.5576, Test Accuracy: 80.01%\n",
      "Epoch [54/400], Loss: 0.5345, Accuracy: 81.28%, Test Loss: 0.5557, Test Accuracy: 80.11%\n",
      "Epoch [55/400], Loss: 0.5333, Accuracy: 81.35%, Test Loss: 0.5534, Test Accuracy: 80.17%\n",
      "Epoch [56/400], Loss: 0.5300, Accuracy: 81.42%, Test Loss: 0.5511, Test Accuracy: 80.19%\n",
      "Epoch [57/400], Loss: 0.5272, Accuracy: 81.52%, Test Loss: 0.5492, Test Accuracy: 80.43%\n",
      "Epoch [58/400], Loss: 0.5264, Accuracy: 81.64%, Test Loss: 0.5478, Test Accuracy: 80.37%\n",
      "Epoch [59/400], Loss: 0.5239, Accuracy: 81.70%, Test Loss: 0.5457, Test Accuracy: 80.46%\n",
      "Epoch [60/400], Loss: 0.5213, Accuracy: 81.74%, Test Loss: 0.5435, Test Accuracy: 80.51%\n",
      "Epoch [61/400], Loss: 0.5199, Accuracy: 81.79%, Test Loss: 0.5418, Test Accuracy: 80.52%\n",
      "Epoch [62/400], Loss: 0.5174, Accuracy: 81.82%, Test Loss: 0.5399, Test Accuracy: 80.68%\n",
      "Epoch [63/400], Loss: 0.5168, Accuracy: 81.92%, Test Loss: 0.5383, Test Accuracy: 80.79%\n",
      "Epoch [64/400], Loss: 0.5145, Accuracy: 81.99%, Test Loss: 0.5368, Test Accuracy: 80.75%\n",
      "Epoch [65/400], Loss: 0.5125, Accuracy: 82.05%, Test Loss: 0.5354, Test Accuracy: 80.83%\n",
      "Epoch [66/400], Loss: 0.5106, Accuracy: 82.14%, Test Loss: 0.5335, Test Accuracy: 80.80%\n",
      "Epoch [67/400], Loss: 0.5088, Accuracy: 82.16%, Test Loss: 0.5322, Test Accuracy: 80.95%\n",
      "Epoch [68/400], Loss: 0.5068, Accuracy: 82.25%, Test Loss: 0.5308, Test Accuracy: 80.85%\n",
      "Epoch [69/400], Loss: 0.5055, Accuracy: 82.28%, Test Loss: 0.5291, Test Accuracy: 81.03%\n",
      "Epoch [70/400], Loss: 0.5039, Accuracy: 82.41%, Test Loss: 0.5276, Test Accuracy: 81.05%\n",
      "Epoch [71/400], Loss: 0.5034, Accuracy: 82.44%, Test Loss: 0.5263, Test Accuracy: 81.22%\n",
      "Epoch [72/400], Loss: 0.5003, Accuracy: 82.48%, Test Loss: 0.5250, Test Accuracy: 81.12%\n",
      "Epoch [73/400], Loss: 0.4985, Accuracy: 82.53%, Test Loss: 0.5236, Test Accuracy: 81.14%\n",
      "Epoch [74/400], Loss: 0.4977, Accuracy: 82.60%, Test Loss: 0.5227, Test Accuracy: 81.19%\n",
      "Epoch [75/400], Loss: 0.4961, Accuracy: 82.66%, Test Loss: 0.5211, Test Accuracy: 81.31%\n",
      "Epoch [76/400], Loss: 0.4952, Accuracy: 82.66%, Test Loss: 0.5199, Test Accuracy: 81.42%\n",
      "Epoch [77/400], Loss: 0.4949, Accuracy: 82.70%, Test Loss: 0.5188, Test Accuracy: 81.40%\n",
      "Epoch [78/400], Loss: 0.4917, Accuracy: 82.75%, Test Loss: 0.5173, Test Accuracy: 81.43%\n",
      "Epoch [79/400], Loss: 0.4909, Accuracy: 82.80%, Test Loss: 0.5164, Test Accuracy: 81.40%\n",
      "Epoch [80/400], Loss: 0.4903, Accuracy: 82.87%, Test Loss: 0.5150, Test Accuracy: 81.45%\n",
      "Epoch [81/400], Loss: 0.4883, Accuracy: 82.89%, Test Loss: 0.5138, Test Accuracy: 81.58%\n",
      "Epoch [82/400], Loss: 0.4872, Accuracy: 82.94%, Test Loss: 0.5131, Test Accuracy: 81.67%\n",
      "Epoch [83/400], Loss: 0.4868, Accuracy: 82.96%, Test Loss: 0.5130, Test Accuracy: 81.53%\n",
      "Epoch [84/400], Loss: 0.4840, Accuracy: 83.06%, Test Loss: 0.5107, Test Accuracy: 81.68%\n",
      "Epoch [85/400], Loss: 0.4830, Accuracy: 83.06%, Test Loss: 0.5099, Test Accuracy: 81.57%\n",
      "Epoch [86/400], Loss: 0.4817, Accuracy: 83.10%, Test Loss: 0.5086, Test Accuracy: 81.73%\n",
      "Epoch [87/400], Loss: 0.4815, Accuracy: 83.14%, Test Loss: 0.5080, Test Accuracy: 81.81%\n",
      "Epoch [88/400], Loss: 0.4809, Accuracy: 83.18%, Test Loss: 0.5066, Test Accuracy: 81.77%\n",
      "Epoch [89/400], Loss: 0.4799, Accuracy: 83.22%, Test Loss: 0.5059, Test Accuracy: 81.73%\n",
      "Epoch [90/400], Loss: 0.4789, Accuracy: 83.29%, Test Loss: 0.5051, Test Accuracy: 81.69%\n",
      "Epoch [91/400], Loss: 0.4779, Accuracy: 83.35%, Test Loss: 0.5041, Test Accuracy: 81.74%\n",
      "Epoch [92/400], Loss: 0.4760, Accuracy: 83.36%, Test Loss: 0.5032, Test Accuracy: 81.80%\n",
      "Epoch [93/400], Loss: 0.4749, Accuracy: 83.42%, Test Loss: 0.5028, Test Accuracy: 81.80%\n",
      "Epoch [94/400], Loss: 0.4741, Accuracy: 83.43%, Test Loss: 0.5015, Test Accuracy: 81.96%\n",
      "Epoch [95/400], Loss: 0.4727, Accuracy: 83.44%, Test Loss: 0.5004, Test Accuracy: 82.03%\n",
      "Epoch [96/400], Loss: 0.4717, Accuracy: 83.51%, Test Loss: 0.4995, Test Accuracy: 82.01%\n",
      "Epoch [97/400], Loss: 0.4711, Accuracy: 83.55%, Test Loss: 0.4992, Test Accuracy: 82.05%\n",
      "Epoch [98/400], Loss: 0.4696, Accuracy: 83.56%, Test Loss: 0.4979, Test Accuracy: 82.09%\n",
      "Epoch [99/400], Loss: 0.4693, Accuracy: 83.59%, Test Loss: 0.4969, Test Accuracy: 82.12%\n",
      "Epoch [100/400], Loss: 0.4677, Accuracy: 83.62%, Test Loss: 0.4966, Test Accuracy: 82.16%\n",
      "Epoch [101/400], Loss: 0.4675, Accuracy: 83.65%, Test Loss: 0.4955, Test Accuracy: 82.14%\n",
      "Epoch [102/400], Loss: 0.4674, Accuracy: 83.67%, Test Loss: 0.4948, Test Accuracy: 82.11%\n",
      "Epoch [103/400], Loss: 0.4662, Accuracy: 83.70%, Test Loss: 0.4940, Test Accuracy: 82.30%\n",
      "Epoch [104/400], Loss: 0.4652, Accuracy: 83.77%, Test Loss: 0.4932, Test Accuracy: 82.27%\n",
      "Epoch [105/400], Loss: 0.4642, Accuracy: 83.78%, Test Loss: 0.4926, Test Accuracy: 82.10%\n",
      "Epoch [106/400], Loss: 0.4633, Accuracy: 83.78%, Test Loss: 0.4916, Test Accuracy: 82.23%\n",
      "Epoch [107/400], Loss: 0.4621, Accuracy: 83.82%, Test Loss: 0.4912, Test Accuracy: 82.23%\n",
      "Epoch [108/400], Loss: 0.4616, Accuracy: 83.86%, Test Loss: 0.4909, Test Accuracy: 82.25%\n",
      "Epoch [109/400], Loss: 0.4615, Accuracy: 83.89%, Test Loss: 0.4896, Test Accuracy: 82.34%\n",
      "Epoch [110/400], Loss: 0.4603, Accuracy: 83.92%, Test Loss: 0.4891, Test Accuracy: 82.47%\n",
      "Epoch [111/400], Loss: 0.4590, Accuracy: 83.99%, Test Loss: 0.4882, Test Accuracy: 82.33%\n",
      "Epoch [112/400], Loss: 0.4593, Accuracy: 83.99%, Test Loss: 0.4877, Test Accuracy: 82.42%\n",
      "Epoch [113/400], Loss: 0.4569, Accuracy: 83.95%, Test Loss: 0.4870, Test Accuracy: 82.44%\n",
      "Epoch [114/400], Loss: 0.4572, Accuracy: 84.05%, Test Loss: 0.4865, Test Accuracy: 82.39%\n",
      "Epoch [115/400], Loss: 0.4562, Accuracy: 84.08%, Test Loss: 0.4858, Test Accuracy: 82.37%\n",
      "Epoch [116/400], Loss: 0.4554, Accuracy: 84.08%, Test Loss: 0.4851, Test Accuracy: 82.50%\n",
      "Epoch [117/400], Loss: 0.4543, Accuracy: 84.14%, Test Loss: 0.4844, Test Accuracy: 82.47%\n",
      "Epoch [118/400], Loss: 0.4544, Accuracy: 84.17%, Test Loss: 0.4837, Test Accuracy: 82.47%\n",
      "Epoch [119/400], Loss: 0.4531, Accuracy: 84.13%, Test Loss: 0.4833, Test Accuracy: 82.52%\n",
      "Epoch [120/400], Loss: 0.4525, Accuracy: 84.18%, Test Loss: 0.4824, Test Accuracy: 82.63%\n",
      "Epoch [121/400], Loss: 0.4515, Accuracy: 84.19%, Test Loss: 0.4821, Test Accuracy: 82.57%\n",
      "Epoch [122/400], Loss: 0.4513, Accuracy: 84.23%, Test Loss: 0.4816, Test Accuracy: 82.57%\n",
      "Epoch [123/400], Loss: 0.4503, Accuracy: 84.22%, Test Loss: 0.4809, Test Accuracy: 82.57%\n",
      "Epoch [124/400], Loss: 0.4493, Accuracy: 84.31%, Test Loss: 0.4804, Test Accuracy: 82.72%\n",
      "Epoch [125/400], Loss: 0.4487, Accuracy: 84.27%, Test Loss: 0.4799, Test Accuracy: 82.69%\n",
      "Epoch [126/400], Loss: 0.4482, Accuracy: 84.34%, Test Loss: 0.4791, Test Accuracy: 82.73%\n",
      "Epoch [127/400], Loss: 0.4471, Accuracy: 84.37%, Test Loss: 0.4787, Test Accuracy: 82.68%\n",
      "Epoch [128/400], Loss: 0.4474, Accuracy: 84.38%, Test Loss: 0.4779, Test Accuracy: 82.81%\n",
      "Epoch [129/400], Loss: 0.4463, Accuracy: 84.37%, Test Loss: 0.4775, Test Accuracy: 82.81%\n",
      "Epoch [130/400], Loss: 0.4461, Accuracy: 84.45%, Test Loss: 0.4769, Test Accuracy: 82.82%\n",
      "Epoch [131/400], Loss: 0.4448, Accuracy: 84.43%, Test Loss: 0.4767, Test Accuracy: 82.70%\n",
      "Epoch [132/400], Loss: 0.4447, Accuracy: 84.47%, Test Loss: 0.4759, Test Accuracy: 82.75%\n",
      "Epoch [133/400], Loss: 0.4442, Accuracy: 84.48%, Test Loss: 0.4752, Test Accuracy: 82.84%\n",
      "Epoch [134/400], Loss: 0.4440, Accuracy: 84.50%, Test Loss: 0.4748, Test Accuracy: 82.92%\n",
      "Epoch [135/400], Loss: 0.4427, Accuracy: 84.48%, Test Loss: 0.4746, Test Accuracy: 82.86%\n",
      "Epoch [136/400], Loss: 0.4434, Accuracy: 84.55%, Test Loss: 0.4737, Test Accuracy: 82.93%\n",
      "Epoch [137/400], Loss: 0.4417, Accuracy: 84.56%, Test Loss: 0.4731, Test Accuracy: 82.88%\n",
      "Epoch [138/400], Loss: 0.4408, Accuracy: 84.58%, Test Loss: 0.4727, Test Accuracy: 82.99%\n",
      "Epoch [139/400], Loss: 0.4406, Accuracy: 84.58%, Test Loss: 0.4723, Test Accuracy: 82.97%\n",
      "Epoch [140/400], Loss: 0.4393, Accuracy: 84.64%, Test Loss: 0.4721, Test Accuracy: 82.95%\n",
      "Epoch [141/400], Loss: 0.4403, Accuracy: 84.63%, Test Loss: 0.4712, Test Accuracy: 82.95%\n",
      "Epoch [142/400], Loss: 0.4391, Accuracy: 84.60%, Test Loss: 0.4710, Test Accuracy: 83.02%\n",
      "Epoch [143/400], Loss: 0.4388, Accuracy: 84.65%, Test Loss: 0.4703, Test Accuracy: 83.03%\n",
      "Epoch [144/400], Loss: 0.4368, Accuracy: 84.70%, Test Loss: 0.4702, Test Accuracy: 83.06%\n",
      "Epoch [145/400], Loss: 0.4373, Accuracy: 84.71%, Test Loss: 0.4693, Test Accuracy: 83.05%\n",
      "Epoch [146/400], Loss: 0.4366, Accuracy: 84.70%, Test Loss: 0.4691, Test Accuracy: 83.05%\n",
      "Epoch [147/400], Loss: 0.4363, Accuracy: 84.72%, Test Loss: 0.4685, Test Accuracy: 83.18%\n",
      "Epoch [148/400], Loss: 0.4355, Accuracy: 84.75%, Test Loss: 0.4684, Test Accuracy: 83.07%\n",
      "Epoch [149/400], Loss: 0.4352, Accuracy: 84.74%, Test Loss: 0.4676, Test Accuracy: 83.02%\n",
      "Epoch [150/400], Loss: 0.4342, Accuracy: 84.76%, Test Loss: 0.4672, Test Accuracy: 83.06%\n",
      "Epoch [151/400], Loss: 0.4344, Accuracy: 84.81%, Test Loss: 0.4667, Test Accuracy: 83.23%\n",
      "Epoch [152/400], Loss: 0.4331, Accuracy: 84.77%, Test Loss: 0.4667, Test Accuracy: 83.08%\n",
      "Epoch [153/400], Loss: 0.4330, Accuracy: 84.79%, Test Loss: 0.4658, Test Accuracy: 83.14%\n",
      "Epoch [154/400], Loss: 0.4331, Accuracy: 84.86%, Test Loss: 0.4656, Test Accuracy: 83.10%\n",
      "Epoch [155/400], Loss: 0.4317, Accuracy: 84.83%, Test Loss: 0.4648, Test Accuracy: 83.23%\n",
      "Epoch [156/400], Loss: 0.4319, Accuracy: 84.83%, Test Loss: 0.4648, Test Accuracy: 83.20%\n",
      "Epoch [157/400], Loss: 0.4311, Accuracy: 84.88%, Test Loss: 0.4642, Test Accuracy: 83.24%\n",
      "Epoch [158/400], Loss: 0.4317, Accuracy: 84.90%, Test Loss: 0.4639, Test Accuracy: 83.20%\n",
      "Epoch [159/400], Loss: 0.4309, Accuracy: 84.91%, Test Loss: 0.4639, Test Accuracy: 83.38%\n",
      "Epoch [160/400], Loss: 0.4308, Accuracy: 84.90%, Test Loss: 0.4627, Test Accuracy: 83.28%\n",
      "Epoch [161/400], Loss: 0.4297, Accuracy: 84.92%, Test Loss: 0.4626, Test Accuracy: 83.24%\n",
      "Epoch [162/400], Loss: 0.4286, Accuracy: 84.95%, Test Loss: 0.4621, Test Accuracy: 83.30%\n",
      "Epoch [163/400], Loss: 0.4283, Accuracy: 84.93%, Test Loss: 0.4618, Test Accuracy: 83.22%\n",
      "Epoch [164/400], Loss: 0.4271, Accuracy: 84.94%, Test Loss: 0.4611, Test Accuracy: 83.26%\n",
      "Epoch [165/400], Loss: 0.4268, Accuracy: 85.01%, Test Loss: 0.4612, Test Accuracy: 83.27%\n",
      "Epoch [166/400], Loss: 0.4275, Accuracy: 84.99%, Test Loss: 0.4605, Test Accuracy: 83.33%\n",
      "Epoch [167/400], Loss: 0.4261, Accuracy: 85.01%, Test Loss: 0.4601, Test Accuracy: 83.39%\n",
      "Epoch [168/400], Loss: 0.4263, Accuracy: 85.00%, Test Loss: 0.4600, Test Accuracy: 83.35%\n",
      "Epoch [169/400], Loss: 0.4260, Accuracy: 85.02%, Test Loss: 0.4594, Test Accuracy: 83.42%\n",
      "Epoch [170/400], Loss: 0.4259, Accuracy: 85.07%, Test Loss: 0.4589, Test Accuracy: 83.45%\n",
      "Epoch [171/400], Loss: 0.4244, Accuracy: 85.06%, Test Loss: 0.4586, Test Accuracy: 83.41%\n",
      "Epoch [172/400], Loss: 0.4244, Accuracy: 85.11%, Test Loss: 0.4582, Test Accuracy: 83.43%\n",
      "Epoch [173/400], Loss: 0.4238, Accuracy: 85.09%, Test Loss: 0.4580, Test Accuracy: 83.43%\n",
      "Epoch [174/400], Loss: 0.4241, Accuracy: 85.13%, Test Loss: 0.4577, Test Accuracy: 83.59%\n",
      "Epoch [175/400], Loss: 0.4233, Accuracy: 85.12%, Test Loss: 0.4573, Test Accuracy: 83.41%\n",
      "Epoch [176/400], Loss: 0.4225, Accuracy: 85.15%, Test Loss: 0.4567, Test Accuracy: 83.53%\n",
      "Epoch [177/400], Loss: 0.4228, Accuracy: 85.17%, Test Loss: 0.4564, Test Accuracy: 83.55%\n",
      "Epoch [178/400], Loss: 0.4240, Accuracy: 85.17%, Test Loss: 0.4563, Test Accuracy: 83.52%\n",
      "Epoch [179/400], Loss: 0.4216, Accuracy: 85.19%, Test Loss: 0.4559, Test Accuracy: 83.61%\n",
      "Epoch [180/400], Loss: 0.4209, Accuracy: 85.18%, Test Loss: 0.4555, Test Accuracy: 83.64%\n",
      "Epoch [181/400], Loss: 0.4204, Accuracy: 85.22%, Test Loss: 0.4550, Test Accuracy: 83.62%\n",
      "Epoch [182/400], Loss: 0.4202, Accuracy: 85.21%, Test Loss: 0.4547, Test Accuracy: 83.56%\n",
      "Epoch [183/400], Loss: 0.4204, Accuracy: 85.22%, Test Loss: 0.4544, Test Accuracy: 83.62%\n",
      "Epoch [184/400], Loss: 0.4195, Accuracy: 85.23%, Test Loss: 0.4540, Test Accuracy: 83.67%\n",
      "Epoch [185/400], Loss: 0.4205, Accuracy: 85.25%, Test Loss: 0.4537, Test Accuracy: 83.56%\n",
      "Epoch [186/400], Loss: 0.4192, Accuracy: 85.24%, Test Loss: 0.4536, Test Accuracy: 83.64%\n",
      "Epoch [187/400], Loss: 0.4180, Accuracy: 85.28%, Test Loss: 0.4533, Test Accuracy: 83.63%\n",
      "Epoch [188/400], Loss: 0.4178, Accuracy: 85.30%, Test Loss: 0.4528, Test Accuracy: 83.68%\n",
      "Epoch [189/400], Loss: 0.4179, Accuracy: 85.29%, Test Loss: 0.4524, Test Accuracy: 83.69%\n",
      "Epoch [190/400], Loss: 0.4184, Accuracy: 85.29%, Test Loss: 0.4522, Test Accuracy: 83.64%\n",
      "Epoch [191/400], Loss: 0.4164, Accuracy: 85.34%, Test Loss: 0.4517, Test Accuracy: 83.69%\n",
      "Epoch [192/400], Loss: 0.4159, Accuracy: 85.32%, Test Loss: 0.4514, Test Accuracy: 83.76%\n",
      "Epoch [193/400], Loss: 0.4164, Accuracy: 85.31%, Test Loss: 0.4514, Test Accuracy: 83.79%\n",
      "Epoch [194/400], Loss: 0.4157, Accuracy: 85.36%, Test Loss: 0.4513, Test Accuracy: 83.67%\n",
      "Epoch [195/400], Loss: 0.4157, Accuracy: 85.34%, Test Loss: 0.4505, Test Accuracy: 83.79%\n",
      "Epoch [196/400], Loss: 0.4138, Accuracy: 85.38%, Test Loss: 0.4501, Test Accuracy: 83.77%\n",
      "Epoch [197/400], Loss: 0.4145, Accuracy: 85.41%, Test Loss: 0.4503, Test Accuracy: 83.69%\n",
      "Epoch [198/400], Loss: 0.4139, Accuracy: 85.40%, Test Loss: 0.4498, Test Accuracy: 83.81%\n",
      "Epoch [199/400], Loss: 0.4145, Accuracy: 85.44%, Test Loss: 0.4493, Test Accuracy: 83.80%\n",
      "Epoch [200/400], Loss: 0.4129, Accuracy: 85.43%, Test Loss: 0.4488, Test Accuracy: 83.87%\n",
      "Epoch [201/400], Loss: 0.4142, Accuracy: 85.45%, Test Loss: 0.4486, Test Accuracy: 83.87%\n",
      "Epoch [202/400], Loss: 0.4125, Accuracy: 85.45%, Test Loss: 0.4487, Test Accuracy: 83.79%\n",
      "Epoch [203/400], Loss: 0.4126, Accuracy: 85.47%, Test Loss: 0.4483, Test Accuracy: 83.81%\n",
      "Epoch [204/400], Loss: 0.4124, Accuracy: 85.45%, Test Loss: 0.4478, Test Accuracy: 83.90%\n",
      "Epoch [205/400], Loss: 0.4121, Accuracy: 85.47%, Test Loss: 0.4475, Test Accuracy: 83.81%\n",
      "Epoch [206/400], Loss: 0.4108, Accuracy: 85.50%, Test Loss: 0.4473, Test Accuracy: 83.81%\n",
      "Epoch [207/400], Loss: 0.4112, Accuracy: 85.54%, Test Loss: 0.4467, Test Accuracy: 83.87%\n",
      "Epoch [208/400], Loss: 0.4112, Accuracy: 85.52%, Test Loss: 0.4467, Test Accuracy: 83.92%\n",
      "Epoch [209/400], Loss: 0.4103, Accuracy: 85.55%, Test Loss: 0.4467, Test Accuracy: 83.86%\n",
      "Epoch [210/400], Loss: 0.4103, Accuracy: 85.53%, Test Loss: 0.4469, Test Accuracy: 83.68%\n",
      "Epoch [211/400], Loss: 0.4097, Accuracy: 85.56%, Test Loss: 0.4463, Test Accuracy: 83.91%\n",
      "Epoch [212/400], Loss: 0.4098, Accuracy: 85.58%, Test Loss: 0.4452, Test Accuracy: 83.90%\n",
      "Epoch [213/400], Loss: 0.4099, Accuracy: 85.56%, Test Loss: 0.4451, Test Accuracy: 83.84%\n",
      "Epoch [214/400], Loss: 0.4091, Accuracy: 85.59%, Test Loss: 0.4448, Test Accuracy: 83.90%\n",
      "Epoch [215/400], Loss: 0.4091, Accuracy: 85.62%, Test Loss: 0.4449, Test Accuracy: 83.97%\n",
      "Epoch [216/400], Loss: 0.4078, Accuracy: 85.59%, Test Loss: 0.4442, Test Accuracy: 83.92%\n",
      "Epoch [217/400], Loss: 0.4080, Accuracy: 85.65%, Test Loss: 0.4443, Test Accuracy: 83.87%\n",
      "Epoch [218/400], Loss: 0.4065, Accuracy: 85.63%, Test Loss: 0.4438, Test Accuracy: 83.93%\n",
      "Epoch [219/400], Loss: 0.4071, Accuracy: 85.66%, Test Loss: 0.4434, Test Accuracy: 83.98%\n",
      "Epoch [220/400], Loss: 0.4076, Accuracy: 85.69%, Test Loss: 0.4433, Test Accuracy: 83.94%\n",
      "Epoch [221/400], Loss: 0.4079, Accuracy: 85.68%, Test Loss: 0.4431, Test Accuracy: 83.96%\n",
      "Epoch [222/400], Loss: 0.4057, Accuracy: 85.64%, Test Loss: 0.4427, Test Accuracy: 83.99%\n",
      "Epoch [223/400], Loss: 0.4053, Accuracy: 85.72%, Test Loss: 0.4424, Test Accuracy: 83.98%\n",
      "Epoch [224/400], Loss: 0.4056, Accuracy: 85.72%, Test Loss: 0.4422, Test Accuracy: 84.04%\n",
      "Epoch [225/400], Loss: 0.4060, Accuracy: 85.71%, Test Loss: 0.4423, Test Accuracy: 83.94%\n",
      "Epoch [226/400], Loss: 0.4059, Accuracy: 85.74%, Test Loss: 0.4415, Test Accuracy: 84.10%\n",
      "Epoch [227/400], Loss: 0.4039, Accuracy: 85.74%, Test Loss: 0.4413, Test Accuracy: 84.04%\n",
      "Epoch [228/400], Loss: 0.4042, Accuracy: 85.74%, Test Loss: 0.4413, Test Accuracy: 84.02%\n",
      "Epoch [229/400], Loss: 0.4043, Accuracy: 85.74%, Test Loss: 0.4408, Test Accuracy: 84.13%\n",
      "Epoch [230/400], Loss: 0.4033, Accuracy: 85.79%, Test Loss: 0.4408, Test Accuracy: 84.00%\n",
      "Epoch [231/400], Loss: 0.4043, Accuracy: 85.77%, Test Loss: 0.4404, Test Accuracy: 84.03%\n",
      "Epoch [232/400], Loss: 0.4029, Accuracy: 85.82%, Test Loss: 0.4401, Test Accuracy: 83.99%\n",
      "Epoch [233/400], Loss: 0.4031, Accuracy: 85.79%, Test Loss: 0.4401, Test Accuracy: 83.98%\n",
      "Epoch [234/400], Loss: 0.4016, Accuracy: 85.81%, Test Loss: 0.4394, Test Accuracy: 84.03%\n",
      "Epoch [235/400], Loss: 0.4024, Accuracy: 85.83%, Test Loss: 0.4395, Test Accuracy: 83.98%\n",
      "Epoch [236/400], Loss: 0.4017, Accuracy: 85.83%, Test Loss: 0.4388, Test Accuracy: 84.13%\n",
      "Epoch [237/400], Loss: 0.4022, Accuracy: 85.83%, Test Loss: 0.4394, Test Accuracy: 83.95%\n",
      "Epoch [238/400], Loss: 0.4016, Accuracy: 85.83%, Test Loss: 0.4385, Test Accuracy: 84.04%\n",
      "Epoch [239/400], Loss: 0.4010, Accuracy: 85.85%, Test Loss: 0.4381, Test Accuracy: 84.16%\n",
      "Epoch [240/400], Loss: 0.4023, Accuracy: 85.85%, Test Loss: 0.4383, Test Accuracy: 84.07%\n",
      "Epoch [241/400], Loss: 0.4000, Accuracy: 85.88%, Test Loss: 0.4377, Test Accuracy: 84.11%\n",
      "Epoch [242/400], Loss: 0.4002, Accuracy: 85.86%, Test Loss: 0.4374, Test Accuracy: 84.22%\n",
      "Epoch [243/400], Loss: 0.4018, Accuracy: 85.92%, Test Loss: 0.4374, Test Accuracy: 84.12%\n",
      "Epoch [244/400], Loss: 0.4001, Accuracy: 85.88%, Test Loss: 0.4369, Test Accuracy: 84.23%\n",
      "Epoch [245/400], Loss: 0.3988, Accuracy: 85.91%, Test Loss: 0.4373, Test Accuracy: 84.12%\n",
      "Epoch [246/400], Loss: 0.3994, Accuracy: 85.92%, Test Loss: 0.4364, Test Accuracy: 84.22%\n",
      "Epoch [247/400], Loss: 0.3982, Accuracy: 85.88%, Test Loss: 0.4364, Test Accuracy: 84.24%\n",
      "Epoch [248/400], Loss: 0.3979, Accuracy: 85.92%, Test Loss: 0.4361, Test Accuracy: 84.18%\n",
      "Epoch [249/400], Loss: 0.3989, Accuracy: 85.94%, Test Loss: 0.4361, Test Accuracy: 84.13%\n",
      "Epoch [250/400], Loss: 0.3975, Accuracy: 85.93%, Test Loss: 0.4355, Test Accuracy: 84.26%\n",
      "Epoch [251/400], Loss: 0.3984, Accuracy: 85.92%, Test Loss: 0.4358, Test Accuracy: 84.15%\n",
      "Epoch [252/400], Loss: 0.3972, Accuracy: 85.97%, Test Loss: 0.4348, Test Accuracy: 84.27%\n",
      "Epoch [253/400], Loss: 0.3974, Accuracy: 85.98%, Test Loss: 0.4349, Test Accuracy: 84.16%\n",
      "Epoch [254/400], Loss: 0.3963, Accuracy: 85.99%, Test Loss: 0.4345, Test Accuracy: 84.39%\n",
      "Epoch [255/400], Loss: 0.3964, Accuracy: 86.00%, Test Loss: 0.4344, Test Accuracy: 84.26%\n",
      "Epoch [256/400], Loss: 0.3970, Accuracy: 85.99%, Test Loss: 0.4342, Test Accuracy: 84.30%\n",
      "Epoch [257/400], Loss: 0.3960, Accuracy: 86.05%, Test Loss: 0.4341, Test Accuracy: 84.34%\n",
      "Epoch [258/400], Loss: 0.3954, Accuracy: 86.03%, Test Loss: 0.4340, Test Accuracy: 84.24%\n",
      "Epoch [259/400], Loss: 0.3958, Accuracy: 85.99%, Test Loss: 0.4335, Test Accuracy: 84.31%\n",
      "Epoch [260/400], Loss: 0.3966, Accuracy: 86.06%, Test Loss: 0.4331, Test Accuracy: 84.29%\n",
      "Epoch [261/400], Loss: 0.3951, Accuracy: 86.05%, Test Loss: 0.4341, Test Accuracy: 84.21%\n",
      "Epoch [262/400], Loss: 0.3955, Accuracy: 86.09%, Test Loss: 0.4328, Test Accuracy: 84.39%\n",
      "Epoch [263/400], Loss: 0.3947, Accuracy: 86.03%, Test Loss: 0.4324, Test Accuracy: 84.35%\n",
      "Epoch [264/400], Loss: 0.3945, Accuracy: 86.08%, Test Loss: 0.4325, Test Accuracy: 84.30%\n",
      "Epoch [265/400], Loss: 0.3942, Accuracy: 86.10%, Test Loss: 0.4319, Test Accuracy: 84.37%\n",
      "Epoch [266/400], Loss: 0.3929, Accuracy: 86.07%, Test Loss: 0.4318, Test Accuracy: 84.36%\n",
      "Epoch [267/400], Loss: 0.3928, Accuracy: 86.11%, Test Loss: 0.4318, Test Accuracy: 84.32%\n",
      "Epoch [268/400], Loss: 0.3935, Accuracy: 86.12%, Test Loss: 0.4315, Test Accuracy: 84.37%\n",
      "Epoch [269/400], Loss: 0.3929, Accuracy: 86.11%, Test Loss: 0.4313, Test Accuracy: 84.40%\n",
      "Epoch [270/400], Loss: 0.3938, Accuracy: 86.14%, Test Loss: 0.4310, Test Accuracy: 84.35%\n",
      "Epoch [271/400], Loss: 0.3926, Accuracy: 86.14%, Test Loss: 0.4308, Test Accuracy: 84.39%\n",
      "Epoch [272/400], Loss: 0.3924, Accuracy: 86.12%, Test Loss: 0.4306, Test Accuracy: 84.38%\n",
      "Epoch [273/400], Loss: 0.3918, Accuracy: 86.14%, Test Loss: 0.4307, Test Accuracy: 84.37%\n",
      "Epoch [274/400], Loss: 0.3914, Accuracy: 86.17%, Test Loss: 0.4304, Test Accuracy: 84.31%\n",
      "Epoch [275/400], Loss: 0.3914, Accuracy: 86.14%, Test Loss: 0.4302, Test Accuracy: 84.38%\n",
      "Epoch [276/400], Loss: 0.3917, Accuracy: 86.21%, Test Loss: 0.4300, Test Accuracy: 84.38%\n",
      "Epoch [277/400], Loss: 0.3904, Accuracy: 86.17%, Test Loss: 0.4294, Test Accuracy: 84.37%\n",
      "Epoch [278/400], Loss: 0.3909, Accuracy: 86.23%, Test Loss: 0.4294, Test Accuracy: 84.35%\n",
      "Epoch [279/400], Loss: 0.3904, Accuracy: 86.17%, Test Loss: 0.4290, Test Accuracy: 84.39%\n",
      "Epoch [280/400], Loss: 0.3896, Accuracy: 86.22%, Test Loss: 0.4290, Test Accuracy: 84.39%\n",
      "Epoch [281/400], Loss: 0.3906, Accuracy: 86.20%, Test Loss: 0.4286, Test Accuracy: 84.43%\n",
      "Epoch [282/400], Loss: 0.3888, Accuracy: 86.22%, Test Loss: 0.4285, Test Accuracy: 84.46%\n",
      "Epoch [283/400], Loss: 0.3896, Accuracy: 86.27%, Test Loss: 0.4284, Test Accuracy: 84.39%\n",
      "Epoch [284/400], Loss: 0.3895, Accuracy: 86.27%, Test Loss: 0.4283, Test Accuracy: 84.43%\n",
      "Epoch [285/400], Loss: 0.3883, Accuracy: 86.26%, Test Loss: 0.4279, Test Accuracy: 84.34%\n",
      "Epoch [286/400], Loss: 0.3882, Accuracy: 86.25%, Test Loss: 0.4276, Test Accuracy: 84.38%\n",
      "Epoch [287/400], Loss: 0.3882, Accuracy: 86.31%, Test Loss: 0.4274, Test Accuracy: 84.46%\n",
      "Epoch [288/400], Loss: 0.3886, Accuracy: 86.31%, Test Loss: 0.4275, Test Accuracy: 84.46%\n",
      "Epoch [289/400], Loss: 0.3877, Accuracy: 86.32%, Test Loss: 0.4273, Test Accuracy: 84.48%\n",
      "Epoch [290/400], Loss: 0.3881, Accuracy: 86.32%, Test Loss: 0.4270, Test Accuracy: 84.43%\n",
      "Epoch [291/400], Loss: 0.3866, Accuracy: 86.35%, Test Loss: 0.4266, Test Accuracy: 84.50%\n",
      "Epoch [292/400], Loss: 0.3881, Accuracy: 86.33%, Test Loss: 0.4266, Test Accuracy: 84.47%\n",
      "Epoch [293/400], Loss: 0.3871, Accuracy: 86.34%, Test Loss: 0.4260, Test Accuracy: 84.55%\n",
      "Epoch [294/400], Loss: 0.3861, Accuracy: 86.34%, Test Loss: 0.4261, Test Accuracy: 84.48%\n",
      "Epoch [295/400], Loss: 0.3859, Accuracy: 86.33%, Test Loss: 0.4260, Test Accuracy: 84.45%\n",
      "Epoch [296/400], Loss: 0.3863, Accuracy: 86.37%, Test Loss: 0.4257, Test Accuracy: 84.42%\n",
      "Epoch [297/400], Loss: 0.3862, Accuracy: 86.38%, Test Loss: 0.4253, Test Accuracy: 84.59%\n",
      "Epoch [298/400], Loss: 0.3855, Accuracy: 86.38%, Test Loss: 0.4252, Test Accuracy: 84.56%\n",
      "Epoch [299/400], Loss: 0.3875, Accuracy: 86.40%, Test Loss: 0.4247, Test Accuracy: 84.56%\n",
      "Epoch [300/400], Loss: 0.3850, Accuracy: 86.39%, Test Loss: 0.4251, Test Accuracy: 84.55%\n",
      "Epoch [301/400], Loss: 0.3846, Accuracy: 86.42%, Test Loss: 0.4247, Test Accuracy: 84.52%\n",
      "Epoch [302/400], Loss: 0.3853, Accuracy: 86.41%, Test Loss: 0.4247, Test Accuracy: 84.52%\n",
      "Epoch [303/400], Loss: 0.3846, Accuracy: 86.42%, Test Loss: 0.4245, Test Accuracy: 84.47%\n",
      "Epoch [304/400], Loss: 0.3841, Accuracy: 86.43%, Test Loss: 0.4244, Test Accuracy: 84.63%\n",
      "Epoch [305/400], Loss: 0.3842, Accuracy: 86.42%, Test Loss: 0.4240, Test Accuracy: 84.64%\n",
      "Epoch [306/400], Loss: 0.3841, Accuracy: 86.41%, Test Loss: 0.4234, Test Accuracy: 84.67%\n",
      "Epoch [307/400], Loss: 0.3835, Accuracy: 86.50%, Test Loss: 0.4235, Test Accuracy: 84.59%\n",
      "Epoch [308/400], Loss: 0.3824, Accuracy: 86.47%, Test Loss: 0.4234, Test Accuracy: 84.57%\n",
      "Epoch [309/400], Loss: 0.3830, Accuracy: 86.50%, Test Loss: 0.4229, Test Accuracy: 84.61%\n",
      "Epoch [310/400], Loss: 0.3836, Accuracy: 86.49%, Test Loss: 0.4227, Test Accuracy: 84.63%\n",
      "Epoch [311/400], Loss: 0.3834, Accuracy: 86.50%, Test Loss: 0.4226, Test Accuracy: 84.67%\n",
      "Epoch [312/400], Loss: 0.3824, Accuracy: 86.50%, Test Loss: 0.4227, Test Accuracy: 84.61%\n",
      "Epoch [313/400], Loss: 0.3823, Accuracy: 86.53%, Test Loss: 0.4222, Test Accuracy: 84.68%\n",
      "Epoch [314/400], Loss: 0.3819, Accuracy: 86.54%, Test Loss: 0.4219, Test Accuracy: 84.63%\n",
      "Epoch [315/400], Loss: 0.3829, Accuracy: 86.57%, Test Loss: 0.4221, Test Accuracy: 84.63%\n",
      "Epoch [316/400], Loss: 0.3813, Accuracy: 86.56%, Test Loss: 0.4218, Test Accuracy: 84.62%\n",
      "Epoch [317/400], Loss: 0.3810, Accuracy: 86.57%, Test Loss: 0.4220, Test Accuracy: 84.57%\n",
      "Epoch [318/400], Loss: 0.3810, Accuracy: 86.56%, Test Loss: 0.4218, Test Accuracy: 84.62%\n",
      "Epoch [319/400], Loss: 0.3816, Accuracy: 86.59%, Test Loss: 0.4218, Test Accuracy: 84.72%\n",
      "Epoch [320/400], Loss: 0.3806, Accuracy: 86.56%, Test Loss: 0.4210, Test Accuracy: 84.61%\n",
      "Epoch [321/400], Loss: 0.3806, Accuracy: 86.62%, Test Loss: 0.4214, Test Accuracy: 84.71%\n",
      "Epoch [322/400], Loss: 0.3798, Accuracy: 86.61%, Test Loss: 0.4207, Test Accuracy: 84.66%\n",
      "Epoch [323/400], Loss: 0.3804, Accuracy: 86.66%, Test Loss: 0.4203, Test Accuracy: 84.76%\n",
      "Epoch [324/400], Loss: 0.3801, Accuracy: 86.65%, Test Loss: 0.4202, Test Accuracy: 84.77%\n",
      "Epoch [325/400], Loss: 0.3798, Accuracy: 86.64%, Test Loss: 0.4200, Test Accuracy: 84.80%\n",
      "Epoch [326/400], Loss: 0.3790, Accuracy: 86.61%, Test Loss: 0.4197, Test Accuracy: 84.77%\n",
      "Epoch [327/400], Loss: 0.3793, Accuracy: 86.62%, Test Loss: 0.4195, Test Accuracy: 84.72%\n",
      "Epoch [328/400], Loss: 0.3787, Accuracy: 86.65%, Test Loss: 0.4197, Test Accuracy: 84.72%\n",
      "Epoch [329/400], Loss: 0.3785, Accuracy: 86.62%, Test Loss: 0.4193, Test Accuracy: 84.79%\n",
      "Epoch [330/400], Loss: 0.3784, Accuracy: 86.64%, Test Loss: 0.4192, Test Accuracy: 84.75%\n",
      "Epoch [331/400], Loss: 0.3776, Accuracy: 86.70%, Test Loss: 0.4188, Test Accuracy: 84.79%\n",
      "Epoch [332/400], Loss: 0.3785, Accuracy: 86.66%, Test Loss: 0.4188, Test Accuracy: 84.75%\n",
      "Epoch [333/400], Loss: 0.3778, Accuracy: 86.67%, Test Loss: 0.4185, Test Accuracy: 84.75%\n",
      "Epoch [334/400], Loss: 0.3767, Accuracy: 86.69%, Test Loss: 0.4187, Test Accuracy: 84.75%\n",
      "Epoch [335/400], Loss: 0.3769, Accuracy: 86.70%, Test Loss: 0.4181, Test Accuracy: 84.81%\n",
      "Epoch [336/400], Loss: 0.3765, Accuracy: 86.72%, Test Loss: 0.4179, Test Accuracy: 84.86%\n",
      "Epoch [337/400], Loss: 0.3765, Accuracy: 86.73%, Test Loss: 0.4178, Test Accuracy: 84.82%\n",
      "Epoch [338/400], Loss: 0.3762, Accuracy: 86.70%, Test Loss: 0.4177, Test Accuracy: 84.81%\n",
      "Epoch [339/400], Loss: 0.3760, Accuracy: 86.74%, Test Loss: 0.4175, Test Accuracy: 84.81%\n",
      "Epoch [340/400], Loss: 0.3754, Accuracy: 86.69%, Test Loss: 0.4175, Test Accuracy: 84.85%\n",
      "Epoch [341/400], Loss: 0.3759, Accuracy: 86.75%, Test Loss: 0.4172, Test Accuracy: 84.89%\n",
      "Epoch [342/400], Loss: 0.3754, Accuracy: 86.77%, Test Loss: 0.4168, Test Accuracy: 84.92%\n",
      "Epoch [343/400], Loss: 0.3754, Accuracy: 86.76%, Test Loss: 0.4171, Test Accuracy: 84.84%\n",
      "Epoch [344/400], Loss: 0.3757, Accuracy: 86.73%, Test Loss: 0.4165, Test Accuracy: 84.86%\n",
      "Epoch [345/400], Loss: 0.3746, Accuracy: 86.75%, Test Loss: 0.4166, Test Accuracy: 84.89%\n",
      "Epoch [346/400], Loss: 0.3755, Accuracy: 86.77%, Test Loss: 0.4163, Test Accuracy: 84.88%\n",
      "Epoch [347/400], Loss: 0.3752, Accuracy: 86.80%, Test Loss: 0.4161, Test Accuracy: 84.89%\n",
      "Epoch [348/400], Loss: 0.3742, Accuracy: 86.75%, Test Loss: 0.4159, Test Accuracy: 84.89%\n",
      "Epoch [349/400], Loss: 0.3740, Accuracy: 86.79%, Test Loss: 0.4167, Test Accuracy: 84.94%\n",
      "Epoch [350/400], Loss: 0.3740, Accuracy: 86.83%, Test Loss: 0.4157, Test Accuracy: 84.95%\n",
      "Epoch [351/400], Loss: 0.3749, Accuracy: 86.77%, Test Loss: 0.4156, Test Accuracy: 84.97%\n",
      "Epoch [352/400], Loss: 0.3738, Accuracy: 86.81%, Test Loss: 0.4152, Test Accuracy: 85.02%\n",
      "Epoch [353/400], Loss: 0.3730, Accuracy: 86.81%, Test Loss: 0.4152, Test Accuracy: 84.99%\n",
      "Epoch [354/400], Loss: 0.3733, Accuracy: 86.84%, Test Loss: 0.4150, Test Accuracy: 85.01%\n",
      "Epoch [355/400], Loss: 0.3724, Accuracy: 86.85%, Test Loss: 0.4149, Test Accuracy: 85.01%\n",
      "Epoch [356/400], Loss: 0.3727, Accuracy: 86.85%, Test Loss: 0.4144, Test Accuracy: 85.01%\n",
      "Epoch [357/400], Loss: 0.3727, Accuracy: 86.86%, Test Loss: 0.4148, Test Accuracy: 85.06%\n",
      "Epoch [358/400], Loss: 0.3724, Accuracy: 86.83%, Test Loss: 0.4153, Test Accuracy: 84.90%\n",
      "Epoch [359/400], Loss: 0.3725, Accuracy: 86.85%, Test Loss: 0.4141, Test Accuracy: 85.05%\n",
      "Epoch [360/400], Loss: 0.3723, Accuracy: 86.88%, Test Loss: 0.4137, Test Accuracy: 85.08%\n",
      "Epoch [361/400], Loss: 0.3724, Accuracy: 86.91%, Test Loss: 0.4137, Test Accuracy: 84.96%\n",
      "Epoch [362/400], Loss: 0.3726, Accuracy: 86.89%, Test Loss: 0.4137, Test Accuracy: 85.00%\n",
      "Epoch [363/400], Loss: 0.3708, Accuracy: 86.87%, Test Loss: 0.4133, Test Accuracy: 85.02%\n",
      "Epoch [364/400], Loss: 0.3717, Accuracy: 86.88%, Test Loss: 0.4137, Test Accuracy: 84.94%\n",
      "Epoch [365/400], Loss: 0.3706, Accuracy: 86.91%, Test Loss: 0.4132, Test Accuracy: 84.95%\n",
      "Epoch [366/400], Loss: 0.3714, Accuracy: 86.91%, Test Loss: 0.4131, Test Accuracy: 84.96%\n",
      "Epoch [367/400], Loss: 0.3723, Accuracy: 86.90%, Test Loss: 0.4130, Test Accuracy: 85.02%\n",
      "Epoch [368/400], Loss: 0.3700, Accuracy: 86.94%, Test Loss: 0.4126, Test Accuracy: 85.08%\n",
      "Epoch [369/400], Loss: 0.3704, Accuracy: 86.92%, Test Loss: 0.4125, Test Accuracy: 85.08%\n",
      "Epoch [370/400], Loss: 0.3709, Accuracy: 86.91%, Test Loss: 0.4120, Test Accuracy: 85.08%\n",
      "Epoch [371/400], Loss: 0.3700, Accuracy: 86.96%, Test Loss: 0.4121, Test Accuracy: 85.12%\n",
      "Epoch [372/400], Loss: 0.3708, Accuracy: 86.94%, Test Loss: 0.4126, Test Accuracy: 85.13%\n",
      "Epoch [373/400], Loss: 0.3694, Accuracy: 87.01%, Test Loss: 0.4121, Test Accuracy: 85.14%\n",
      "Epoch [374/400], Loss: 0.3688, Accuracy: 86.97%, Test Loss: 0.4116, Test Accuracy: 85.10%\n",
      "Epoch [375/400], Loss: 0.3689, Accuracy: 86.96%, Test Loss: 0.4115, Test Accuracy: 85.14%\n",
      "Epoch [376/400], Loss: 0.3692, Accuracy: 87.00%, Test Loss: 0.4118, Test Accuracy: 85.24%\n",
      "Epoch [377/400], Loss: 0.3682, Accuracy: 86.95%, Test Loss: 0.4110, Test Accuracy: 85.19%\n",
      "Epoch [378/400], Loss: 0.3687, Accuracy: 86.97%, Test Loss: 0.4111, Test Accuracy: 85.15%\n",
      "Epoch [379/400], Loss: 0.3684, Accuracy: 87.01%, Test Loss: 0.4111, Test Accuracy: 85.11%\n",
      "Epoch [380/400], Loss: 0.3697, Accuracy: 87.02%, Test Loss: 0.4106, Test Accuracy: 85.21%\n",
      "Epoch [381/400], Loss: 0.3686, Accuracy: 87.00%, Test Loss: 0.4115, Test Accuracy: 85.11%\n",
      "Epoch [382/400], Loss: 0.3678, Accuracy: 87.01%, Test Loss: 0.4104, Test Accuracy: 85.22%\n",
      "Epoch [383/400], Loss: 0.3685, Accuracy: 87.04%, Test Loss: 0.4102, Test Accuracy: 85.19%\n",
      "Epoch [384/400], Loss: 0.3664, Accuracy: 87.06%, Test Loss: 0.4102, Test Accuracy: 85.18%\n",
      "Epoch [385/400], Loss: 0.3682, Accuracy: 87.03%, Test Loss: 0.4103, Test Accuracy: 85.09%\n",
      "Epoch [386/400], Loss: 0.3668, Accuracy: 87.01%, Test Loss: 0.4095, Test Accuracy: 85.22%\n",
      "Epoch [387/400], Loss: 0.3666, Accuracy: 87.03%, Test Loss: 0.4095, Test Accuracy: 85.25%\n",
      "Epoch [388/400], Loss: 0.3663, Accuracy: 87.05%, Test Loss: 0.4096, Test Accuracy: 85.25%\n",
      "Epoch [389/400], Loss: 0.3663, Accuracy: 87.06%, Test Loss: 0.4090, Test Accuracy: 85.23%\n",
      "Epoch [390/400], Loss: 0.3666, Accuracy: 87.06%, Test Loss: 0.4093, Test Accuracy: 85.15%\n",
      "Epoch [391/400], Loss: 0.3651, Accuracy: 87.10%, Test Loss: 0.4091, Test Accuracy: 85.32%\n",
      "Epoch [392/400], Loss: 0.3659, Accuracy: 87.10%, Test Loss: 0.4087, Test Accuracy: 85.26%\n",
      "Epoch [393/400], Loss: 0.3651, Accuracy: 87.06%, Test Loss: 0.4085, Test Accuracy: 85.26%\n",
      "Epoch [394/400], Loss: 0.3648, Accuracy: 87.10%, Test Loss: 0.4088, Test Accuracy: 85.25%\n",
      "Epoch [395/400], Loss: 0.3661, Accuracy: 87.07%, Test Loss: 0.4084, Test Accuracy: 85.28%\n",
      "Epoch [396/400], Loss: 0.3651, Accuracy: 87.14%, Test Loss: 0.4082, Test Accuracy: 85.32%\n",
      "Epoch [397/400], Loss: 0.3645, Accuracy: 87.13%, Test Loss: 0.4078, Test Accuracy: 85.28%\n",
      "Epoch [398/400], Loss: 0.3655, Accuracy: 87.09%, Test Loss: 0.4081, Test Accuracy: 85.18%\n",
      "Epoch [399/400], Loss: 0.3641, Accuracy: 87.13%, Test Loss: 0.4083, Test Accuracy: 85.28%\n",
      "Epoch [400/400], Loss: 0.3639, Accuracy: 87.12%, Test Loss: 0.4075, Test Accuracy: 85.34%\n"
     ]
    }
   ],
   "source": [
    "# train\n",
    "for epoch in range(max_epoch):\n",
    "    running_loss = 0.0\n",
    "    running_correct = 0   # to track number of correct predictions\n",
    "    total = 0             # to track total number of samples\n",
    "\n",
    "    for i, (inputs, labels) in enumerate(trainloader, 0):\n",
    "        # Move inputs and labels to the device\n",
    "        inputs, labels = inputs.to(device), labels.to(device)\n",
    "\n",
    "        # Zero the parameter gradients\n",
    "        optimizer.zero_grad()\n",
    "\n",
    "        # Forward pass\n",
    "        outputs = model(inputs)\n",
    "        loss = criterion(outputs, labels)\n",
    "        running_loss += loss.item()\n",
    "\n",
    "        # Determine class predictions and track accuracy\n",
    "        _, predicted = torch.max(outputs.data, 1)\n",
    "        total += labels.size(0)\n",
    "        running_correct += (predicted == labels).sum().item()\n",
    "\n",
    "        # Backward pass and optimization\n",
    "        loss.backward()\n",
    "        optimizer.step()        \n",
    "\n",
    "    epoch_accuracy = 100 * running_correct / total\n",
    "    epoch_loss = running_loss / (i + 1)\n",
    "    test_loss, test_accuracy = evaluate(model, testloader, criterion)\n",
    "    print(f\"Epoch [{epoch + 1}/{max_epoch}], Loss: {epoch_loss:.4f}, Accuracy: {epoch_accuracy:.2f}%, Test Loss: {test_loss:.4f}, Test Accuracy: {test_accuracy:.2f}%\")\n",
    "    \n",
    "    # save for plot\n",
    "    train_losses.append(epoch_loss)\n",
    "    train_accuracies.append(epoch_accuracy)\n",
    "    test_losses.append(test_loss)\n",
    "    test_accuracies.append(test_accuracy)"
   ]
  },
  {
   "cell_type": "code",
   "execution_count": null,
   "metadata": {
    "id": "QKFbl4unF_6t"
   },
   "outputs": [],
   "source": []
  },
  {
   "cell_type": "code",
   "execution_count": 13,
   "metadata": {
    "id": "AwIj3vrnF_8_"
   },
   "outputs": [
    {
     "data": {
      "text/plain": [
       "<matplotlib.legend.Legend at 0x7f65bd5baa70>"
      ]
     },
     "execution_count": 13,
     "metadata": {},
     "output_type": "execute_result"
    },
    {
     "data": {
      "image/png": "[encoded data removed]",
      "text/plain": [
       "<Figure size 640x480 with 1 Axes>"
      ]
     },
     "metadata": {},
     "output_type": "display_data"
    }
   ],
   "source": [
    "import matplotlib.pyplot as plt\n",
    "\n",
    "plt.plot(train_losses, label='train_losses')\n",
    "plt.plot(test_losses, label='test_losses')\n",
    "plt.legend()"
   ]
  },
  {
   "cell_type": "code",
   "execution_count": 12,
   "metadata": {
    "id": "eh3iDa8lF__H"
   },
   "outputs": [
    {
     "data": {
      "text/plain": [
       "<matplotlib.legend.Legend at 0x7f65bd52b1c0>"
      ]
     },
     "execution_count": 12,
     "metadata": {},
     "output_type": "execute_result"
    },
    {
     "data": {
      "image/png": "[encoded data removed]",
      "text/plain": [
       "<Figure size 640x480 with 1 Axes>"
      ]
     },
     "metadata": {},
     "output_type": "display_data"
    }
   ],
   "source": [
    "import matplotlib.pyplot as plt\n",
    "\n",
    "plt.plot(train_accuracies, label='train_accuracy')\n",
    "plt.plot(test_accuracies, label='test_accuracy')\n",
    "plt.legend()"
   ]
  },
  {
   "cell_type": "code",
   "execution_count": null,
   "metadata": {},
   "outputs": [],
   "source": []
  },
  {
   "cell_type": "code",
   "execution_count": 14,
   "metadata": {},
   "outputs": [
    {
     "data": {
      "text/plain": [
       "<matplotlib.legend.Legend at 0x7f659914a920>"
      ]
     },
     "execution_count": 14,
     "metadata": {},
     "output_type": "execute_result"
    }
   ],
   "source": [
    "import matplotlib.pyplot as plt\n",
    "%matplotlib qt\n",
    "\n",
    "plt.plot(train_losses, label='train_losses')\n",
    "plt.plot(test_losses, label='test_losses')\n",
    "plt.legend()"
   ]
  },
  {
   "cell_type": "code",
   "execution_count": 15,
   "metadata": {},
   "outputs": [
    {
     "data": {
      "text/plain": [
       "<matplotlib.legend.Legend at 0x7f659921df60>"
      ]
     },
     "execution_count": 15,
     "metadata": {},
     "output_type": "execute_result"
    }
   ],
   "source": [
    "import matplotlib.pyplot as plt\n",
    "%matplotlib qt\n",
    "\n",
    "plt.plot(train_accuracies, label='train_accuracy')\n",
    "plt.plot(test_accuracies, label='test_accuracy')\n",
    "plt.legend()"
   ]
  },
  {
   "cell_type": "code",
   "execution_count": null,
   "metadata": {},
   "outputs": [],
   "source": []
  }
 ],
 "metadata": {
  "accelerator": "GPU",
  "colab": {
   "gpuType": "T4",
   "provenance": []
  },
  "kernelspec": {
   "display_name": "Python 3 (ipykernel)",
   "language": "python",
   "name": "python3"
  },
  "language_info": {
   "codemirror_mode": {
    "name": "ipython",
    "version": 3
   },
   "file_extension": ".py",
   "mimetype": "text/x-python",
   "name": "python",
   "nbconvert_exporter": "python",
   "pygments_lexer": "ipython3",
   "version": "3.10.13"
  }
 },
 "nbformat": 4,
 "nbformat_minor": 4
}
