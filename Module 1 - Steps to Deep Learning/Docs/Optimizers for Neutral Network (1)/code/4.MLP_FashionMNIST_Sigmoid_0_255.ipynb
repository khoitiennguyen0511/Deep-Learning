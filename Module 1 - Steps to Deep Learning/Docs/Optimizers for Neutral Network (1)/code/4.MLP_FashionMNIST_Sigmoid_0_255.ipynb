{
 "cells": [
  {
   "cell_type": "code",
   "execution_count": 1,
   "metadata": {},
   "outputs": [],
   "source": [
    "import torch\n",
    "import torch.nn as nn\n",
    "import torch.optim as optim\n",
    "import torchvision\n",
    "import torchvision.transforms as transforms\n",
    "\n",
    "# Check if GPU is available\n",
    "device = torch.device(\"cuda:0\" if torch.cuda.is_available() else \"cpu\")"
   ]
  },
  {
   "cell_type": "code",
   "execution_count": null,
   "metadata": {},
   "outputs": [],
   "source": []
  },
  {
   "cell_type": "markdown",
   "metadata": {},
   "source": [
    "#### Data"
   ]
  },
  {
   "cell_type": "code",
   "execution_count": 2,
   "metadata": {},
   "outputs": [],
   "source": [
    "# Load CFashionMNIST dataset\n",
    "transform = transforms.Compose([transforms.ToTensor(), transforms.Normalize((0,), (1.0/255,))])\n",
    "\n",
    "trainset = torchvision.datasets.FashionMNIST(root='data', train=True, download=True, transform=transform)\n",
    "trainloader = torch.utils.data.DataLoader(trainset, batch_size=512, num_workers=3, shuffle=True)\n",
    "\n",
    "testset = torchvision.datasets.FashionMNIST(root='data', train=False, download=True, transform=transform)\n",
    "testloader = torch.utils.data.DataLoader(testset, batch_size=512, num_workers=3, shuffle=False)"
   ]
  },
  {
   "cell_type": "code",
   "execution_count": 3,
   "metadata": {},
   "outputs": [
    {
     "data": {
      "image/png": "[encoded data removed]",
      "text/plain": [
       "<Figure size 640x480 with 1 Axes>"
      ]
     },
     "metadata": {},
     "output_type": "display_data"
    }
   ],
   "source": [
    "import matplotlib.pyplot as plt\n",
    "import numpy as np\n",
    "\n",
    "# Function to display the images\n",
    "def imshow(img):\n",
    "    img = img/255.0\n",
    "    np_img = img.numpy()\n",
    "    plt.imshow(np.transpose(np_img, (1, 2, 0)))\n",
    "    plt.show()\n",
    "\n",
    "for i, (images, labels) in enumerate(trainloader, 0):\n",
    "    # Plot some images\n",
    "    imshow(torchvision.utils.make_grid(images[:8]))  # Display 8 images from the batch\n",
    "    break"
   ]
  },
  {
   "cell_type": "code",
   "execution_count": null,
   "metadata": {},
   "outputs": [],
   "source": []
  },
  {
   "cell_type": "markdown",
   "metadata": {},
   "source": [
    "#### Model"
   ]
  },
  {
   "cell_type": "code",
   "execution_count": 4,
   "metadata": {},
   "outputs": [
    {
     "name": "stdout",
     "output_type": "stream",
     "text": [
      "Sequential(\n",
      "  (0): Flatten(start_dim=1, end_dim=-1)\n",
      "  (1): Linear(in_features=784, out_features=256, bias=True)\n",
      "  (2): Sigmoid()\n",
      "  (3): Linear(in_features=256, out_features=10, bias=True)\n",
      ")\n"
     ]
    }
   ],
   "source": [
    "model = nn.Sequential(\n",
    "    nn.Flatten(), \n",
    "    nn.Linear(784, 256),\n",
    "    nn.Sigmoid(),\n",
    "    nn.Linear(256, 10)\n",
    ")\n",
    "model = model.to(device)\n",
    "\n",
    "print(model)"
   ]
  },
  {
   "cell_type": "code",
   "execution_count": 5,
   "metadata": {},
   "outputs": [
    {
     "name": "stdout",
     "output_type": "stream",
     "text": [
      "torch.Size([5, 10])\n"
     ]
    }
   ],
   "source": [
    "# Generating a random tensor\n",
    "input_tensor = torch.rand(5, 28, 28).to(device)\n",
    "\n",
    "# Feeding the tensor into the model\n",
    "output = model(input_tensor)\n",
    "print(output.shape)"
   ]
  },
  {
   "cell_type": "code",
   "execution_count": null,
   "metadata": {},
   "outputs": [],
   "source": []
  },
  {
   "cell_type": "markdown",
   "metadata": {},
   "source": [
    "#### Loss, Optimizer, and Evaluation Function"
   ]
  },
  {
   "cell_type": "code",
   "execution_count": 6,
   "metadata": {},
   "outputs": [],
   "source": [
    "criterion = nn.CrossEntropyLoss()\n",
    "optimizer = optim.SGD(model.parameters(), lr=0.01)"
   ]
  },
  {
   "cell_type": "code",
   "execution_count": 7,
   "metadata": {},
   "outputs": [],
   "source": [
    "# Function to compute loss and accuracy for test set\n",
    "def evaluate(model, testloader, criterion):\n",
    "    model.eval()\n",
    "    test_loss = 0.0\n",
    "    correct = 0\n",
    "    total = 0\n",
    "    with torch.no_grad():\n",
    "        for images, labels in testloader:\n",
    "            # Move inputs and labels to the device\n",
    "            images, labels = images.to(device), labels.to(device)\n",
    "\n",
    "            outputs = model(images)\n",
    "            loss = criterion(outputs, labels)\n",
    "            test_loss += loss.item()\n",
    "            \n",
    "            _, predicted = torch.max(outputs.data, 1)\n",
    "            total += labels.size(0)\n",
    "            correct += (predicted == labels).sum().item()\n",
    "\n",
    "    accuracy = 100 * correct / total\n",
    "    test_loss = test_loss / len(testloader)\n",
    "    return test_loss, accuracy"
   ]
  },
  {
   "cell_type": "code",
   "execution_count": 8,
   "metadata": {},
   "outputs": [
    {
     "name": "stdout",
     "output_type": "stream",
     "text": [
      "test_loss: 2.32201110124588\n",
      "test_accuracy: 11.42\n"
     ]
    }
   ],
   "source": [
    "test_loss, test_accuracy = evaluate(model, testloader, criterion)\n",
    "print(f'test_loss: {test_loss}')\n",
    "print(f'test_accuracy: {test_accuracy}')"
   ]
  },
  {
   "cell_type": "code",
   "execution_count": null,
   "metadata": {},
   "outputs": [],
   "source": []
  },
  {
   "cell_type": "markdown",
   "metadata": {},
   "source": [
    "#### Train"
   ]
  },
  {
   "cell_type": "code",
   "execution_count": 9,
   "metadata": {},
   "outputs": [],
   "source": [
    "# some parameter\n",
    "train_losses = []\n",
    "train_accuracies = []\n",
    "test_losses = []\n",
    "test_accuracies = []\n",
    "max_epoch = 400"
   ]
  },
  {
   "cell_type": "code",
   "execution_count": 10,
   "metadata": {
    "colab": {
     "base_uri": "https://localhost:8080/"
    },
    "id": "tYwXeSOOF_4Z",
    "outputId": "a4c62a4a-267f-4101-ce96-662cc23cdbe0"
   },
   "outputs": [
    {
     "name": "stdout",
     "output_type": "stream",
     "text": [
      "Epoch [1/400], Loss: 1.3505, Accuracy: 66.08%, Test Loss: 1.0034, Test Accuracy: 72.11%\n",
      "Epoch [2/400], Loss: 0.8515, Accuracy: 76.72%, Test Loss: 0.7823, Test Accuracy: 77.42%\n",
      "Epoch [3/400], Loss: 0.6986, Accuracy: 79.53%, Test Loss: 0.6803, Test Accuracy: 78.73%\n",
      "Epoch [4/400], Loss: 0.6202, Accuracy: 81.01%, Test Loss: 0.6304, Test Accuracy: 79.19%\n",
      "Epoch [5/400], Loss: 0.5699, Accuracy: 82.00%, Test Loss: 0.5793, Test Accuracy: 80.78%\n",
      "Epoch [6/400], Loss: 0.5349, Accuracy: 82.86%, Test Loss: 0.5576, Test Accuracy: 81.87%\n",
      "Epoch [7/400], Loss: 0.5114, Accuracy: 83.31%, Test Loss: 0.5311, Test Accuracy: 82.20%\n",
      "Epoch [8/400], Loss: 0.4903, Accuracy: 83.81%, Test Loss: 0.5166, Test Accuracy: 82.24%\n",
      "Epoch [9/400], Loss: 0.4735, Accuracy: 84.20%, Test Loss: 0.5070, Test Accuracy: 82.93%\n",
      "Epoch [10/400], Loss: 0.4609, Accuracy: 84.51%, Test Loss: 0.5027, Test Accuracy: 82.39%\n",
      "Epoch [11/400], Loss: 0.4492, Accuracy: 84.80%, Test Loss: 0.4812, Test Accuracy: 83.46%\n",
      "Epoch [12/400], Loss: 0.4378, Accuracy: 85.17%, Test Loss: 0.4859, Test Accuracy: 82.66%\n",
      "Epoch [13/400], Loss: 0.4313, Accuracy: 85.36%, Test Loss: 0.4663, Test Accuracy: 83.49%\n",
      "Epoch [14/400], Loss: 0.4234, Accuracy: 85.60%, Test Loss: 0.4695, Test Accuracy: 83.91%\n",
      "Epoch [15/400], Loss: 0.4167, Accuracy: 85.68%, Test Loss: 0.4574, Test Accuracy: 84.26%\n",
      "Epoch [16/400], Loss: 0.4100, Accuracy: 86.01%, Test Loss: 0.4552, Test Accuracy: 84.44%\n",
      "Epoch [17/400], Loss: 0.4061, Accuracy: 86.16%, Test Loss: 0.4558, Test Accuracy: 83.91%\n",
      "Epoch [18/400], Loss: 0.3997, Accuracy: 86.16%, Test Loss: 0.4477, Test Accuracy: 84.02%\n",
      "Epoch [19/400], Loss: 0.3948, Accuracy: 86.44%, Test Loss: 0.4482, Test Accuracy: 84.49%\n",
      "Epoch [20/400], Loss: 0.3903, Accuracy: 86.50%, Test Loss: 0.4467, Test Accuracy: 84.39%\n",
      "Epoch [21/400], Loss: 0.3846, Accuracy: 86.69%, Test Loss: 0.4375, Test Accuracy: 84.44%\n",
      "Epoch [22/400], Loss: 0.3803, Accuracy: 86.86%, Test Loss: 0.4323, Test Accuracy: 85.11%\n",
      "Epoch [23/400], Loss: 0.3795, Accuracy: 86.90%, Test Loss: 0.4460, Test Accuracy: 83.86%\n",
      "Epoch [24/400], Loss: 0.3752, Accuracy: 86.94%, Test Loss: 0.4254, Test Accuracy: 84.97%\n",
      "Epoch [25/400], Loss: 0.3715, Accuracy: 87.22%, Test Loss: 0.4414, Test Accuracy: 84.15%\n",
      "Epoch [26/400], Loss: 0.3683, Accuracy: 87.25%, Test Loss: 0.4354, Test Accuracy: 84.67%\n",
      "Epoch [27/400], Loss: 0.3663, Accuracy: 87.29%, Test Loss: 0.4277, Test Accuracy: 85.09%\n",
      "Epoch [28/400], Loss: 0.3624, Accuracy: 87.56%, Test Loss: 0.4295, Test Accuracy: 84.91%\n",
      "Epoch [29/400], Loss: 0.3602, Accuracy: 87.56%, Test Loss: 0.4191, Test Accuracy: 85.27%\n",
      "Epoch [30/400], Loss: 0.3575, Accuracy: 87.68%, Test Loss: 0.4268, Test Accuracy: 84.64%\n",
      "Epoch [31/400], Loss: 0.3550, Accuracy: 87.69%, Test Loss: 0.4153, Test Accuracy: 85.30%\n",
      "Epoch [32/400], Loss: 0.3530, Accuracy: 87.90%, Test Loss: 0.4190, Test Accuracy: 85.24%\n",
      "Epoch [33/400], Loss: 0.3510, Accuracy: 87.96%, Test Loss: 0.4175, Test Accuracy: 85.07%\n",
      "Epoch [34/400], Loss: 0.3503, Accuracy: 87.77%, Test Loss: 0.4152, Test Accuracy: 85.30%\n",
      "Epoch [35/400], Loss: 0.3476, Accuracy: 88.06%, Test Loss: 0.4280, Test Accuracy: 84.77%\n",
      "Epoch [36/400], Loss: 0.3451, Accuracy: 88.00%, Test Loss: 0.4183, Test Accuracy: 85.18%\n",
      "Epoch [37/400], Loss: 0.3445, Accuracy: 88.18%, Test Loss: 0.4285, Test Accuracy: 84.50%\n",
      "Epoch [38/400], Loss: 0.3422, Accuracy: 88.20%, Test Loss: 0.4206, Test Accuracy: 85.00%\n",
      "Epoch [39/400], Loss: 0.3412, Accuracy: 88.31%, Test Loss: 0.4118, Test Accuracy: 85.23%\n",
      "Epoch [40/400], Loss: 0.3355, Accuracy: 88.44%, Test Loss: 0.4087, Test Accuracy: 85.63%\n",
      "Epoch [41/400], Loss: 0.3364, Accuracy: 88.33%, Test Loss: 0.4084, Test Accuracy: 85.17%\n",
      "Epoch [42/400], Loss: 0.3325, Accuracy: 88.51%, Test Loss: 0.4131, Test Accuracy: 85.52%\n",
      "Epoch [43/400], Loss: 0.3328, Accuracy: 88.48%, Test Loss: 0.4027, Test Accuracy: 85.72%\n",
      "Epoch [44/400], Loss: 0.3309, Accuracy: 88.62%, Test Loss: 0.4046, Test Accuracy: 85.70%\n",
      "Epoch [45/400], Loss: 0.3266, Accuracy: 88.70%, Test Loss: 0.4071, Test Accuracy: 85.72%\n",
      "Epoch [46/400], Loss: 0.3261, Accuracy: 88.72%, Test Loss: 0.4038, Test Accuracy: 85.95%\n",
      "Epoch [47/400], Loss: 0.3257, Accuracy: 88.75%, Test Loss: 0.3979, Test Accuracy: 85.85%\n",
      "Epoch [48/400], Loss: 0.3228, Accuracy: 88.77%, Test Loss: 0.4034, Test Accuracy: 85.44%\n",
      "Epoch [49/400], Loss: 0.3228, Accuracy: 88.82%, Test Loss: 0.4023, Test Accuracy: 85.54%\n",
      "Epoch [50/400], Loss: 0.3209, Accuracy: 88.84%, Test Loss: 0.4007, Test Accuracy: 85.46%\n",
      "Epoch [51/400], Loss: 0.3204, Accuracy: 88.89%, Test Loss: 0.4082, Test Accuracy: 85.68%\n",
      "Epoch [52/400], Loss: 0.3216, Accuracy: 88.99%, Test Loss: 0.3981, Test Accuracy: 85.66%\n",
      "Epoch [53/400], Loss: 0.3174, Accuracy: 88.99%, Test Loss: 0.4042, Test Accuracy: 85.37%\n",
      "Epoch [54/400], Loss: 0.3156, Accuracy: 89.16%, Test Loss: 0.3964, Test Accuracy: 85.72%\n",
      "Epoch [55/400], Loss: 0.3151, Accuracy: 89.15%, Test Loss: 0.3928, Test Accuracy: 85.76%\n",
      "Epoch [56/400], Loss: 0.3128, Accuracy: 89.19%, Test Loss: 0.4011, Test Accuracy: 85.72%\n",
      "Epoch [57/400], Loss: 0.3126, Accuracy: 89.17%, Test Loss: 0.3904, Test Accuracy: 85.87%\n",
      "Epoch [58/400], Loss: 0.3114, Accuracy: 89.37%, Test Loss: 0.3991, Test Accuracy: 85.86%\n",
      "Epoch [59/400], Loss: 0.3132, Accuracy: 89.18%, Test Loss: 0.4019, Test Accuracy: 85.75%\n",
      "Epoch [60/400], Loss: 0.3109, Accuracy: 89.25%, Test Loss: 0.4006, Test Accuracy: 85.60%\n",
      "Epoch [61/400], Loss: 0.3096, Accuracy: 89.33%, Test Loss: 0.4053, Test Accuracy: 85.09%\n",
      "Epoch [62/400], Loss: 0.3099, Accuracy: 89.30%, Test Loss: 0.3946, Test Accuracy: 85.86%\n",
      "Epoch [63/400], Loss: 0.3079, Accuracy: 89.45%, Test Loss: 0.3895, Test Accuracy: 86.21%\n",
      "Epoch [64/400], Loss: 0.3042, Accuracy: 89.44%, Test Loss: 0.4063, Test Accuracy: 84.96%\n",
      "Epoch [65/400], Loss: 0.3069, Accuracy: 89.35%, Test Loss: 0.3895, Test Accuracy: 86.01%\n",
      "Epoch [66/400], Loss: 0.3048, Accuracy: 89.48%, Test Loss: 0.3938, Test Accuracy: 85.88%\n",
      "Epoch [67/400], Loss: 0.3026, Accuracy: 89.57%, Test Loss: 0.3861, Test Accuracy: 86.06%\n",
      "Epoch [68/400], Loss: 0.3013, Accuracy: 89.69%, Test Loss: 0.3954, Test Accuracy: 85.78%\n",
      "Epoch [69/400], Loss: 0.3046, Accuracy: 89.60%, Test Loss: 0.3962, Test Accuracy: 85.57%\n",
      "Epoch [70/400], Loss: 0.3013, Accuracy: 89.54%, Test Loss: 0.3928, Test Accuracy: 86.01%\n",
      "Epoch [71/400], Loss: 0.3010, Accuracy: 89.59%, Test Loss: 0.3971, Test Accuracy: 85.57%\n",
      "Epoch [72/400], Loss: 0.2992, Accuracy: 89.60%, Test Loss: 0.4013, Test Accuracy: 85.75%\n",
      "Epoch [73/400], Loss: 0.3003, Accuracy: 89.54%, Test Loss: 0.3953, Test Accuracy: 85.68%\n",
      "Epoch [74/400], Loss: 0.2987, Accuracy: 89.76%, Test Loss: 0.3885, Test Accuracy: 85.89%\n",
      "Epoch [75/400], Loss: 0.2965, Accuracy: 89.72%, Test Loss: 0.3871, Test Accuracy: 86.17%\n",
      "Epoch [76/400], Loss: 0.2953, Accuracy: 89.80%, Test Loss: 0.3942, Test Accuracy: 85.79%\n",
      "Epoch [77/400], Loss: 0.2939, Accuracy: 89.95%, Test Loss: 0.3946, Test Accuracy: 86.01%\n",
      "Epoch [78/400], Loss: 0.2936, Accuracy: 89.83%, Test Loss: 0.3876, Test Accuracy: 86.06%\n",
      "Epoch [79/400], Loss: 0.2896, Accuracy: 90.04%, Test Loss: 0.4087, Test Accuracy: 85.38%\n",
      "Epoch [80/400], Loss: 0.2956, Accuracy: 89.88%, Test Loss: 0.3904, Test Accuracy: 85.93%\n",
      "Epoch [81/400], Loss: 0.2952, Accuracy: 89.88%, Test Loss: 0.3843, Test Accuracy: 86.13%\n",
      "Epoch [82/400], Loss: 0.2947, Accuracy: 89.98%, Test Loss: 0.3856, Test Accuracy: 85.95%\n",
      "Epoch [83/400], Loss: 0.2922, Accuracy: 90.00%, Test Loss: 0.3867, Test Accuracy: 86.14%\n",
      "Epoch [84/400], Loss: 0.2902, Accuracy: 90.06%, Test Loss: 0.3828, Test Accuracy: 86.10%\n",
      "Epoch [85/400], Loss: 0.2910, Accuracy: 89.93%, Test Loss: 0.3886, Test Accuracy: 85.96%\n",
      "Epoch [86/400], Loss: 0.2923, Accuracy: 89.97%, Test Loss: 0.3867, Test Accuracy: 85.94%\n",
      "Epoch [87/400], Loss: 0.2901, Accuracy: 90.11%, Test Loss: 0.3848, Test Accuracy: 86.14%\n",
      "Epoch [88/400], Loss: 0.2896, Accuracy: 90.01%, Test Loss: 0.3890, Test Accuracy: 86.40%\n",
      "Epoch [89/400], Loss: 0.2903, Accuracy: 90.08%, Test Loss: 0.3853, Test Accuracy: 86.31%\n",
      "Epoch [90/400], Loss: 0.2901, Accuracy: 90.06%, Test Loss: 0.3917, Test Accuracy: 86.25%\n",
      "Epoch [91/400], Loss: 0.2866, Accuracy: 90.09%, Test Loss: 0.3843, Test Accuracy: 86.42%\n",
      "Epoch [92/400], Loss: 0.2830, Accuracy: 90.11%, Test Loss: 0.3915, Test Accuracy: 85.77%\n",
      "Epoch [93/400], Loss: 0.2838, Accuracy: 90.18%, Test Loss: 0.3876, Test Accuracy: 85.86%\n",
      "Epoch [94/400], Loss: 0.2842, Accuracy: 90.25%, Test Loss: 0.3790, Test Accuracy: 86.33%\n",
      "Epoch [95/400], Loss: 0.2834, Accuracy: 90.30%, Test Loss: 0.3956, Test Accuracy: 85.48%\n",
      "Epoch [96/400], Loss: 0.2803, Accuracy: 90.37%, Test Loss: 0.3758, Test Accuracy: 86.40%\n",
      "Epoch [97/400], Loss: 0.2778, Accuracy: 90.52%, Test Loss: 0.3782, Test Accuracy: 86.19%\n",
      "Epoch [98/400], Loss: 0.2783, Accuracy: 90.40%, Test Loss: 0.3822, Test Accuracy: 86.22%\n",
      "Epoch [99/400], Loss: 0.2784, Accuracy: 90.42%, Test Loss: 0.3831, Test Accuracy: 86.16%\n",
      "Epoch [100/400], Loss: 0.2751, Accuracy: 90.59%, Test Loss: 0.3795, Test Accuracy: 86.49%\n",
      "Epoch [101/400], Loss: 0.2786, Accuracy: 90.52%, Test Loss: 0.3829, Test Accuracy: 86.10%\n",
      "Epoch [102/400], Loss: 0.2786, Accuracy: 90.62%, Test Loss: 0.3806, Test Accuracy: 85.98%\n",
      "Epoch [103/400], Loss: 0.2765, Accuracy: 90.62%, Test Loss: 0.3869, Test Accuracy: 85.99%\n",
      "Epoch [104/400], Loss: 0.2769, Accuracy: 90.41%, Test Loss: 0.3905, Test Accuracy: 86.26%\n",
      "Epoch [105/400], Loss: 0.2773, Accuracy: 90.44%, Test Loss: 0.3881, Test Accuracy: 85.86%\n",
      "Epoch [106/400], Loss: 0.2765, Accuracy: 90.65%, Test Loss: 0.3903, Test Accuracy: 86.15%\n",
      "Epoch [107/400], Loss: 0.2797, Accuracy: 90.47%, Test Loss: 0.3854, Test Accuracy: 86.14%\n",
      "Epoch [108/400], Loss: 0.2790, Accuracy: 90.50%, Test Loss: 0.3832, Test Accuracy: 86.29%\n",
      "Epoch [109/400], Loss: 0.2794, Accuracy: 90.50%, Test Loss: 0.3799, Test Accuracy: 86.57%\n",
      "Epoch [110/400], Loss: 0.2789, Accuracy: 90.56%, Test Loss: 0.3878, Test Accuracy: 86.16%\n",
      "Epoch [111/400], Loss: 0.2827, Accuracy: 90.35%, Test Loss: 0.3990, Test Accuracy: 85.60%\n",
      "Epoch [112/400], Loss: 0.2843, Accuracy: 90.34%, Test Loss: 0.3892, Test Accuracy: 85.79%\n",
      "Epoch [113/400], Loss: 0.2781, Accuracy: 90.48%, Test Loss: 0.3815, Test Accuracy: 86.64%\n",
      "Epoch [114/400], Loss: 0.2766, Accuracy: 90.65%, Test Loss: 0.3826, Test Accuracy: 86.26%\n",
      "Epoch [115/400], Loss: 0.2781, Accuracy: 90.58%, Test Loss: 0.3834, Test Accuracy: 86.37%\n",
      "Epoch [116/400], Loss: 0.2785, Accuracy: 90.56%, Test Loss: 0.3832, Test Accuracy: 86.07%\n",
      "Epoch [117/400], Loss: 0.2784, Accuracy: 90.58%, Test Loss: 0.3846, Test Accuracy: 86.46%\n",
      "Epoch [118/400], Loss: 0.2795, Accuracy: 90.65%, Test Loss: 0.3860, Test Accuracy: 86.31%\n",
      "Epoch [119/400], Loss: 0.2748, Accuracy: 90.62%, Test Loss: 0.3887, Test Accuracy: 86.17%\n",
      "Epoch [120/400], Loss: 0.2804, Accuracy: 90.56%, Test Loss: 0.3831, Test Accuracy: 86.44%\n",
      "Epoch [121/400], Loss: 0.2778, Accuracy: 90.56%, Test Loss: 0.3849, Test Accuracy: 86.34%\n",
      "Epoch [122/400], Loss: 0.2772, Accuracy: 90.54%, Test Loss: 0.3852, Test Accuracy: 86.35%\n",
      "Epoch [123/400], Loss: 0.2770, Accuracy: 90.59%, Test Loss: 0.3931, Test Accuracy: 86.02%\n",
      "Epoch [124/400], Loss: 0.2789, Accuracy: 90.63%, Test Loss: 0.3937, Test Accuracy: 85.86%\n",
      "Epoch [125/400], Loss: 0.2771, Accuracy: 90.64%, Test Loss: 0.3817, Test Accuracy: 86.44%\n",
      "Epoch [126/400], Loss: 0.2754, Accuracy: 90.72%, Test Loss: 0.3976, Test Accuracy: 85.99%\n",
      "Epoch [127/400], Loss: 0.2784, Accuracy: 90.55%, Test Loss: 0.3821, Test Accuracy: 86.36%\n",
      "Epoch [128/400], Loss: 0.2747, Accuracy: 90.61%, Test Loss: 0.3830, Test Accuracy: 86.58%\n",
      "Epoch [129/400], Loss: 0.2767, Accuracy: 90.81%, Test Loss: 0.3980, Test Accuracy: 85.98%\n",
      "Epoch [130/400], Loss: 0.2825, Accuracy: 90.43%, Test Loss: 0.3878, Test Accuracy: 86.48%\n",
      "Epoch [131/400], Loss: 0.2766, Accuracy: 90.69%, Test Loss: 0.3986, Test Accuracy: 85.63%\n",
      "Epoch [132/400], Loss: 0.2771, Accuracy: 90.62%, Test Loss: 0.3885, Test Accuracy: 86.15%\n",
      "Epoch [133/400], Loss: 0.2761, Accuracy: 90.69%, Test Loss: 0.3969, Test Accuracy: 85.99%\n",
      "Epoch [134/400], Loss: 0.2735, Accuracy: 90.81%, Test Loss: 0.3960, Test Accuracy: 85.84%\n",
      "Epoch [135/400], Loss: 0.2724, Accuracy: 90.80%, Test Loss: 0.3781, Test Accuracy: 86.54%\n",
      "Epoch [136/400], Loss: 0.2730, Accuracy: 90.78%, Test Loss: 0.3942, Test Accuracy: 85.66%\n",
      "Epoch [137/400], Loss: 0.2712, Accuracy: 90.79%, Test Loss: 0.3822, Test Accuracy: 86.27%\n",
      "Epoch [138/400], Loss: 0.2722, Accuracy: 90.75%, Test Loss: 0.3806, Test Accuracy: 86.41%\n",
      "Epoch [139/400], Loss: 0.2697, Accuracy: 90.81%, Test Loss: 0.3816, Test Accuracy: 86.25%\n",
      "Epoch [140/400], Loss: 0.2701, Accuracy: 90.79%, Test Loss: 0.3879, Test Accuracy: 86.00%\n",
      "Epoch [141/400], Loss: 0.2711, Accuracy: 90.82%, Test Loss: 0.3874, Test Accuracy: 86.25%\n",
      "Epoch [142/400], Loss: 0.2685, Accuracy: 90.86%, Test Loss: 0.3766, Test Accuracy: 86.51%\n",
      "Epoch [143/400], Loss: 0.2704, Accuracy: 90.78%, Test Loss: 0.3801, Test Accuracy: 86.55%\n",
      "Epoch [144/400], Loss: 0.2709, Accuracy: 90.81%, Test Loss: 0.3923, Test Accuracy: 86.00%\n",
      "Epoch [145/400], Loss: 0.2727, Accuracy: 90.68%, Test Loss: 0.4073, Test Accuracy: 85.41%\n",
      "Epoch [146/400], Loss: 0.2730, Accuracy: 90.73%, Test Loss: 0.3871, Test Accuracy: 86.41%\n",
      "Epoch [147/400], Loss: 0.2721, Accuracy: 90.77%, Test Loss: 0.3847, Test Accuracy: 86.23%\n",
      "Epoch [148/400], Loss: 0.2707, Accuracy: 90.92%, Test Loss: 0.3828, Test Accuracy: 86.47%\n",
      "Epoch [149/400], Loss: 0.2752, Accuracy: 90.67%, Test Loss: 0.4090, Test Accuracy: 85.16%\n",
      "Epoch [150/400], Loss: 0.2730, Accuracy: 90.78%, Test Loss: 0.3967, Test Accuracy: 85.67%\n",
      "Epoch [151/400], Loss: 0.2764, Accuracy: 90.71%, Test Loss: 0.3830, Test Accuracy: 86.55%\n",
      "Epoch [152/400], Loss: 0.2782, Accuracy: 90.64%, Test Loss: 0.4039, Test Accuracy: 85.80%\n",
      "Epoch [153/400], Loss: 0.2769, Accuracy: 90.65%, Test Loss: 0.3962, Test Accuracy: 85.82%\n",
      "Epoch [154/400], Loss: 0.2774, Accuracy: 90.55%, Test Loss: 0.3950, Test Accuracy: 86.01%\n",
      "Epoch [155/400], Loss: 0.2747, Accuracy: 90.73%, Test Loss: 0.3811, Test Accuracy: 86.50%\n",
      "Epoch [156/400], Loss: 0.2741, Accuracy: 90.69%, Test Loss: 0.3884, Test Accuracy: 86.08%\n",
      "Epoch [157/400], Loss: 0.2735, Accuracy: 90.79%, Test Loss: 0.3846, Test Accuracy: 86.30%\n",
      "Epoch [158/400], Loss: 0.2726, Accuracy: 90.75%, Test Loss: 0.3884, Test Accuracy: 86.05%\n",
      "Epoch [159/400], Loss: 0.2695, Accuracy: 90.84%, Test Loss: 0.3788, Test Accuracy: 86.41%\n",
      "Epoch [160/400], Loss: 0.2713, Accuracy: 90.89%, Test Loss: 0.3810, Test Accuracy: 86.47%\n",
      "Epoch [161/400], Loss: 0.2674, Accuracy: 90.84%, Test Loss: 0.4043, Test Accuracy: 85.42%\n",
      "Epoch [162/400], Loss: 0.2692, Accuracy: 90.83%, Test Loss: 0.3845, Test Accuracy: 86.30%\n",
      "Epoch [163/400], Loss: 0.2690, Accuracy: 90.92%, Test Loss: 0.3854, Test Accuracy: 85.98%\n",
      "Epoch [164/400], Loss: 0.2730, Accuracy: 90.77%, Test Loss: 0.3883, Test Accuracy: 86.19%\n",
      "Epoch [165/400], Loss: 0.2702, Accuracy: 90.83%, Test Loss: 0.3921, Test Accuracy: 85.93%\n",
      "Epoch [166/400], Loss: 0.2700, Accuracy: 90.69%, Test Loss: 0.3924, Test Accuracy: 85.98%\n",
      "Epoch [167/400], Loss: 0.2778, Accuracy: 90.57%, Test Loss: 0.3978, Test Accuracy: 85.83%\n",
      "Epoch [168/400], Loss: 0.2761, Accuracy: 90.55%, Test Loss: 0.3970, Test Accuracy: 86.09%\n",
      "Epoch [169/400], Loss: 0.2776, Accuracy: 90.50%, Test Loss: 0.4052, Test Accuracy: 85.89%\n",
      "Epoch [170/400], Loss: 0.2772, Accuracy: 90.63%, Test Loss: 0.3933, Test Accuracy: 85.89%\n",
      "Epoch [171/400], Loss: 0.2749, Accuracy: 90.61%, Test Loss: 0.3940, Test Accuracy: 85.90%\n",
      "Epoch [172/400], Loss: 0.2760, Accuracy: 90.71%, Test Loss: 0.3921, Test Accuracy: 86.41%\n",
      "Epoch [173/400], Loss: 0.2727, Accuracy: 90.84%, Test Loss: 0.4006, Test Accuracy: 85.69%\n",
      "Epoch [174/400], Loss: 0.2717, Accuracy: 90.88%, Test Loss: 0.3834, Test Accuracy: 86.19%\n",
      "Epoch [175/400], Loss: 0.2718, Accuracy: 90.77%, Test Loss: 0.3909, Test Accuracy: 86.12%\n",
      "Epoch [176/400], Loss: 0.2712, Accuracy: 90.82%, Test Loss: 0.3852, Test Accuracy: 86.42%\n",
      "Epoch [177/400], Loss: 0.2737, Accuracy: 90.78%, Test Loss: 0.3894, Test Accuracy: 86.23%\n",
      "Epoch [178/400], Loss: 0.2715, Accuracy: 90.82%, Test Loss: 0.3895, Test Accuracy: 86.12%\n",
      "Epoch [179/400], Loss: 0.2729, Accuracy: 90.75%, Test Loss: 0.3889, Test Accuracy: 85.99%\n",
      "Epoch [180/400], Loss: 0.2711, Accuracy: 90.66%, Test Loss: 0.3836, Test Accuracy: 86.14%\n",
      "Epoch [181/400], Loss: 0.2686, Accuracy: 90.89%, Test Loss: 0.3800, Test Accuracy: 86.36%\n",
      "Epoch [182/400], Loss: 0.2742, Accuracy: 90.70%, Test Loss: 0.3992, Test Accuracy: 85.51%\n",
      "Epoch [183/400], Loss: 0.2721, Accuracy: 90.77%, Test Loss: 0.3902, Test Accuracy: 85.93%\n",
      "Epoch [184/400], Loss: 0.2728, Accuracy: 90.75%, Test Loss: 0.3863, Test Accuracy: 86.39%\n",
      "Epoch [185/400], Loss: 0.2730, Accuracy: 90.70%, Test Loss: 0.3919, Test Accuracy: 86.04%\n",
      "Epoch [186/400], Loss: 0.2716, Accuracy: 90.75%, Test Loss: 0.3962, Test Accuracy: 85.80%\n",
      "Epoch [187/400], Loss: 0.2711, Accuracy: 90.80%, Test Loss: 0.3977, Test Accuracy: 85.86%\n",
      "Epoch [188/400], Loss: 0.2668, Accuracy: 90.85%, Test Loss: 0.3859, Test Accuracy: 86.07%\n",
      "Epoch [189/400], Loss: 0.2717, Accuracy: 90.96%, Test Loss: 0.3828, Test Accuracy: 86.15%\n",
      "Epoch [190/400], Loss: 0.2698, Accuracy: 90.89%, Test Loss: 0.3834, Test Accuracy: 86.37%\n",
      "Epoch [191/400], Loss: 0.2710, Accuracy: 90.87%, Test Loss: 0.4102, Test Accuracy: 85.11%\n",
      "Epoch [192/400], Loss: 0.2697, Accuracy: 90.81%, Test Loss: 0.3865, Test Accuracy: 86.03%\n",
      "Epoch [193/400], Loss: 0.2719, Accuracy: 90.84%, Test Loss: 0.4090, Test Accuracy: 85.46%\n",
      "Epoch [194/400], Loss: 0.2735, Accuracy: 90.70%, Test Loss: 0.3830, Test Accuracy: 86.39%\n",
      "Epoch [195/400], Loss: 0.2730, Accuracy: 90.82%, Test Loss: 0.3987, Test Accuracy: 85.89%\n",
      "Epoch [196/400], Loss: 0.2713, Accuracy: 90.93%, Test Loss: 0.4055, Test Accuracy: 85.15%\n",
      "Epoch [197/400], Loss: 0.2709, Accuracy: 90.78%, Test Loss: 0.4043, Test Accuracy: 85.15%\n",
      "Epoch [198/400], Loss: 0.2767, Accuracy: 90.73%, Test Loss: 0.3903, Test Accuracy: 86.37%\n",
      "Epoch [199/400], Loss: 0.2758, Accuracy: 90.72%, Test Loss: 0.3909, Test Accuracy: 86.21%\n",
      "Epoch [200/400], Loss: 0.2789, Accuracy: 90.60%, Test Loss: 0.3994, Test Accuracy: 85.73%\n",
      "Epoch [201/400], Loss: 0.2787, Accuracy: 90.57%, Test Loss: 0.3942, Test Accuracy: 85.94%\n",
      "Epoch [202/400], Loss: 0.2768, Accuracy: 90.57%, Test Loss: 0.4053, Test Accuracy: 85.46%\n",
      "Epoch [203/400], Loss: 0.2781, Accuracy: 90.56%, Test Loss: 0.3871, Test Accuracy: 86.52%\n",
      "Epoch [204/400], Loss: 0.2723, Accuracy: 90.79%, Test Loss: 0.3946, Test Accuracy: 86.26%\n",
      "Epoch [205/400], Loss: 0.2758, Accuracy: 90.59%, Test Loss: 0.3925, Test Accuracy: 86.15%\n",
      "Epoch [206/400], Loss: 0.2741, Accuracy: 90.69%, Test Loss: 0.3837, Test Accuracy: 86.31%\n",
      "Epoch [207/400], Loss: 0.2789, Accuracy: 90.42%, Test Loss: 0.4002, Test Accuracy: 85.31%\n",
      "Epoch [208/400], Loss: 0.2773, Accuracy: 90.41%, Test Loss: 0.4190, Test Accuracy: 84.89%\n",
      "Epoch [209/400], Loss: 0.2747, Accuracy: 90.73%, Test Loss: 0.3931, Test Accuracy: 86.27%\n",
      "Epoch [210/400], Loss: 0.2736, Accuracy: 90.71%, Test Loss: 0.4019, Test Accuracy: 85.34%\n",
      "Epoch [211/400], Loss: 0.2735, Accuracy: 90.77%, Test Loss: 0.3839, Test Accuracy: 86.25%\n",
      "Epoch [212/400], Loss: 0.2701, Accuracy: 90.78%, Test Loss: 0.4001, Test Accuracy: 85.53%\n",
      "Epoch [213/400], Loss: 0.2763, Accuracy: 90.66%, Test Loss: 0.3904, Test Accuracy: 86.16%\n",
      "Epoch [214/400], Loss: 0.2736, Accuracy: 90.74%, Test Loss: 0.4034, Test Accuracy: 85.75%\n",
      "Epoch [215/400], Loss: 0.2726, Accuracy: 90.88%, Test Loss: 0.3921, Test Accuracy: 86.11%\n",
      "Epoch [216/400], Loss: 0.2706, Accuracy: 90.67%, Test Loss: 0.4060, Test Accuracy: 85.36%\n",
      "Epoch [217/400], Loss: 0.2712, Accuracy: 90.78%, Test Loss: 0.3935, Test Accuracy: 86.16%\n",
      "Epoch [218/400], Loss: 0.2726, Accuracy: 90.78%, Test Loss: 0.4334, Test Accuracy: 84.47%\n",
      "Epoch [219/400], Loss: 0.2716, Accuracy: 90.81%, Test Loss: 0.3845, Test Accuracy: 86.38%\n",
      "Epoch [220/400], Loss: 0.2730, Accuracy: 90.80%, Test Loss: 0.3976, Test Accuracy: 85.77%\n",
      "Epoch [221/400], Loss: 0.2764, Accuracy: 90.68%, Test Loss: 0.3934, Test Accuracy: 85.82%\n",
      "Epoch [222/400], Loss: 0.2735, Accuracy: 90.84%, Test Loss: 0.4032, Test Accuracy: 85.56%\n",
      "Epoch [223/400], Loss: 0.2757, Accuracy: 90.72%, Test Loss: 0.4092, Test Accuracy: 85.46%\n",
      "Epoch [224/400], Loss: 0.2780, Accuracy: 90.65%, Test Loss: 0.3900, Test Accuracy: 85.57%\n",
      "Epoch [225/400], Loss: 0.2749, Accuracy: 90.74%, Test Loss: 0.4113, Test Accuracy: 85.10%\n",
      "Epoch [226/400], Loss: 0.2784, Accuracy: 90.58%, Test Loss: 0.3998, Test Accuracy: 85.45%\n",
      "Epoch [227/400], Loss: 0.2745, Accuracy: 90.64%, Test Loss: 0.3944, Test Accuracy: 86.20%\n",
      "Epoch [228/400], Loss: 0.2764, Accuracy: 90.67%, Test Loss: 0.3942, Test Accuracy: 85.97%\n",
      "Epoch [229/400], Loss: 0.2721, Accuracy: 90.80%, Test Loss: 0.3961, Test Accuracy: 85.82%\n",
      "Epoch [230/400], Loss: 0.2751, Accuracy: 90.73%, Test Loss: 0.3966, Test Accuracy: 86.02%\n",
      "Epoch [231/400], Loss: 0.2737, Accuracy: 90.75%, Test Loss: 0.4000, Test Accuracy: 85.50%\n",
      "Epoch [232/400], Loss: 0.2733, Accuracy: 90.72%, Test Loss: 0.3907, Test Accuracy: 85.98%\n",
      "Epoch [233/400], Loss: 0.2692, Accuracy: 90.88%, Test Loss: 0.3928, Test Accuracy: 85.83%\n",
      "Epoch [234/400], Loss: 0.2695, Accuracy: 90.83%, Test Loss: 0.3950, Test Accuracy: 86.03%\n",
      "Epoch [235/400], Loss: 0.2704, Accuracy: 90.66%, Test Loss: 0.3872, Test Accuracy: 86.27%\n",
      "Epoch [236/400], Loss: 0.2709, Accuracy: 90.73%, Test Loss: 0.3986, Test Accuracy: 85.63%\n",
      "Epoch [237/400], Loss: 0.2715, Accuracy: 90.86%, Test Loss: 0.4013, Test Accuracy: 85.59%\n",
      "Epoch [238/400], Loss: 0.2757, Accuracy: 90.62%, Test Loss: 0.4136, Test Accuracy: 84.92%\n",
      "Epoch [239/400], Loss: 0.2783, Accuracy: 90.62%, Test Loss: 0.3974, Test Accuracy: 85.91%\n",
      "Epoch [240/400], Loss: 0.2764, Accuracy: 90.63%, Test Loss: 0.3891, Test Accuracy: 86.29%\n",
      "Epoch [241/400], Loss: 0.2699, Accuracy: 90.67%, Test Loss: 0.4063, Test Accuracy: 85.38%\n",
      "Epoch [242/400], Loss: 0.2755, Accuracy: 90.57%, Test Loss: 0.3915, Test Accuracy: 86.19%\n",
      "Epoch [243/400], Loss: 0.2747, Accuracy: 90.56%, Test Loss: 0.4098, Test Accuracy: 85.53%\n",
      "Epoch [244/400], Loss: 0.2752, Accuracy: 90.51%, Test Loss: 0.4089, Test Accuracy: 85.10%\n",
      "Epoch [245/400], Loss: 0.2712, Accuracy: 90.65%, Test Loss: 0.3856, Test Accuracy: 86.11%\n",
      "Epoch [246/400], Loss: 0.2677, Accuracy: 90.77%, Test Loss: 0.3894, Test Accuracy: 85.84%\n",
      "Epoch [247/400], Loss: 0.2715, Accuracy: 90.55%, Test Loss: 0.3918, Test Accuracy: 85.87%\n",
      "Epoch [248/400], Loss: 0.2675, Accuracy: 90.75%, Test Loss: 0.3894, Test Accuracy: 86.03%\n",
      "Epoch [249/400], Loss: 0.2686, Accuracy: 90.79%, Test Loss: 0.3926, Test Accuracy: 85.88%\n",
      "Epoch [250/400], Loss: 0.2655, Accuracy: 90.79%, Test Loss: 0.3887, Test Accuracy: 86.21%\n",
      "Epoch [251/400], Loss: 0.2684, Accuracy: 90.84%, Test Loss: 0.3946, Test Accuracy: 86.01%\n",
      "Epoch [252/400], Loss: 0.2688, Accuracy: 90.84%, Test Loss: 0.3904, Test Accuracy: 86.10%\n",
      "Epoch [253/400], Loss: 0.2678, Accuracy: 90.78%, Test Loss: 0.4035, Test Accuracy: 85.66%\n",
      "Epoch [254/400], Loss: 0.2694, Accuracy: 90.81%, Test Loss: 0.3951, Test Accuracy: 85.99%\n",
      "Epoch [255/400], Loss: 0.2701, Accuracy: 90.70%, Test Loss: 0.3940, Test Accuracy: 86.22%\n",
      "Epoch [256/400], Loss: 0.2672, Accuracy: 90.78%, Test Loss: 0.4041, Test Accuracy: 85.93%\n",
      "Epoch [257/400], Loss: 0.2716, Accuracy: 90.55%, Test Loss: 0.3975, Test Accuracy: 85.73%\n",
      "Epoch [258/400], Loss: 0.2681, Accuracy: 90.83%, Test Loss: 0.3876, Test Accuracy: 86.13%\n",
      "Epoch [259/400], Loss: 0.2686, Accuracy: 90.76%, Test Loss: 0.3896, Test Accuracy: 85.73%\n",
      "Epoch [260/400], Loss: 0.2699, Accuracy: 90.75%, Test Loss: 0.4091, Test Accuracy: 85.52%\n",
      "Epoch [261/400], Loss: 0.2779, Accuracy: 90.48%, Test Loss: 0.3808, Test Accuracy: 86.57%\n",
      "Epoch [262/400], Loss: 0.2729, Accuracy: 90.64%, Test Loss: 0.3914, Test Accuracy: 85.88%\n",
      "Epoch [263/400], Loss: 0.2701, Accuracy: 90.75%, Test Loss: 0.3930, Test Accuracy: 85.58%\n",
      "Epoch [264/400], Loss: 0.2709, Accuracy: 90.51%, Test Loss: 0.3943, Test Accuracy: 85.79%\n",
      "Epoch [265/400], Loss: 0.2738, Accuracy: 90.51%, Test Loss: 0.4012, Test Accuracy: 85.72%\n",
      "Epoch [266/400], Loss: 0.2742, Accuracy: 90.67%, Test Loss: 0.4046, Test Accuracy: 85.59%\n",
      "Epoch [267/400], Loss: 0.2732, Accuracy: 90.62%, Test Loss: 0.3999, Test Accuracy: 86.04%\n",
      "Epoch [268/400], Loss: 0.2751, Accuracy: 90.60%, Test Loss: 0.3864, Test Accuracy: 86.17%\n",
      "Epoch [269/400], Loss: 0.2686, Accuracy: 90.78%, Test Loss: 0.3891, Test Accuracy: 86.34%\n",
      "Epoch [270/400], Loss: 0.2696, Accuracy: 90.79%, Test Loss: 0.4088, Test Accuracy: 85.11%\n",
      "Epoch [271/400], Loss: 0.2688, Accuracy: 90.72%, Test Loss: 0.3834, Test Accuracy: 86.25%\n",
      "Epoch [272/400], Loss: 0.2669, Accuracy: 90.75%, Test Loss: 0.3836, Test Accuracy: 86.38%\n",
      "Epoch [273/400], Loss: 0.2669, Accuracy: 90.83%, Test Loss: 0.3957, Test Accuracy: 85.79%\n",
      "Epoch [274/400], Loss: 0.2713, Accuracy: 90.60%, Test Loss: 0.3924, Test Accuracy: 85.98%\n",
      "Epoch [275/400], Loss: 0.2703, Accuracy: 90.69%, Test Loss: 0.3966, Test Accuracy: 85.85%\n",
      "Epoch [276/400], Loss: 0.2717, Accuracy: 90.65%, Test Loss: 0.4041, Test Accuracy: 85.52%\n",
      "Epoch [277/400], Loss: 0.2784, Accuracy: 90.44%, Test Loss: 0.4179, Test Accuracy: 84.94%\n",
      "Epoch [278/400], Loss: 0.2761, Accuracy: 90.57%, Test Loss: 0.3981, Test Accuracy: 85.89%\n",
      "Epoch [279/400], Loss: 0.2742, Accuracy: 90.69%, Test Loss: 0.4237, Test Accuracy: 84.52%\n",
      "Epoch [280/400], Loss: 0.2828, Accuracy: 90.53%, Test Loss: 0.3983, Test Accuracy: 85.75%\n",
      "Epoch [281/400], Loss: 0.2762, Accuracy: 90.66%, Test Loss: 0.3907, Test Accuracy: 85.97%\n",
      "Epoch [282/400], Loss: 0.2711, Accuracy: 90.87%, Test Loss: 0.4105, Test Accuracy: 85.54%\n",
      "Epoch [283/400], Loss: 0.2820, Accuracy: 90.63%, Test Loss: 0.4052, Test Accuracy: 85.72%\n",
      "Epoch [284/400], Loss: 0.2820, Accuracy: 90.46%, Test Loss: 0.4161, Test Accuracy: 85.14%\n",
      "Epoch [285/400], Loss: 0.2803, Accuracy: 90.48%, Test Loss: 0.4007, Test Accuracy: 86.00%\n",
      "Epoch [286/400], Loss: 0.2799, Accuracy: 90.44%, Test Loss: 0.4059, Test Accuracy: 85.45%\n",
      "Epoch [287/400], Loss: 0.2809, Accuracy: 90.36%, Test Loss: 0.4084, Test Accuracy: 85.61%\n",
      "Epoch [288/400], Loss: 0.2782, Accuracy: 90.58%, Test Loss: 0.4043, Test Accuracy: 85.82%\n",
      "Epoch [289/400], Loss: 0.2773, Accuracy: 90.54%, Test Loss: 0.3981, Test Accuracy: 85.91%\n",
      "Epoch [290/400], Loss: 0.2748, Accuracy: 90.51%, Test Loss: 0.4270, Test Accuracy: 84.18%\n",
      "Epoch [291/400], Loss: 0.2779, Accuracy: 90.56%, Test Loss: 0.3944, Test Accuracy: 85.98%\n",
      "Epoch [292/400], Loss: 0.2761, Accuracy: 90.58%, Test Loss: 0.3950, Test Accuracy: 86.07%\n",
      "Epoch [293/400], Loss: 0.2708, Accuracy: 90.86%, Test Loss: 0.4092, Test Accuracy: 85.63%\n",
      "Epoch [294/400], Loss: 0.2777, Accuracy: 90.62%, Test Loss: 0.3993, Test Accuracy: 85.67%\n",
      "Epoch [295/400], Loss: 0.2730, Accuracy: 90.67%, Test Loss: 0.4070, Test Accuracy: 85.58%\n",
      "Epoch [296/400], Loss: 0.2749, Accuracy: 90.61%, Test Loss: 0.4199, Test Accuracy: 85.06%\n",
      "Epoch [297/400], Loss: 0.2805, Accuracy: 90.61%, Test Loss: 0.4063, Test Accuracy: 85.66%\n",
      "Epoch [298/400], Loss: 0.2758, Accuracy: 90.67%, Test Loss: 0.3929, Test Accuracy: 86.03%\n",
      "Epoch [299/400], Loss: 0.2759, Accuracy: 90.57%, Test Loss: 0.3945, Test Accuracy: 85.98%\n",
      "Epoch [300/400], Loss: 0.2707, Accuracy: 90.66%, Test Loss: 0.3876, Test Accuracy: 86.46%\n",
      "Epoch [301/400], Loss: 0.2683, Accuracy: 90.83%, Test Loss: 0.3932, Test Accuracy: 86.25%\n",
      "Epoch [302/400], Loss: 0.2693, Accuracy: 90.86%, Test Loss: 0.3936, Test Accuracy: 86.13%\n",
      "Epoch [303/400], Loss: 0.2676, Accuracy: 90.84%, Test Loss: 0.4103, Test Accuracy: 85.38%\n",
      "Epoch [304/400], Loss: 0.2750, Accuracy: 90.64%, Test Loss: 0.3877, Test Accuracy: 86.08%\n",
      "Epoch [305/400], Loss: 0.2656, Accuracy: 90.98%, Test Loss: 0.3866, Test Accuracy: 86.17%\n",
      "Epoch [306/400], Loss: 0.2706, Accuracy: 90.72%, Test Loss: 0.4002, Test Accuracy: 85.63%\n",
      "Epoch [307/400], Loss: 0.2774, Accuracy: 90.59%, Test Loss: 0.3993, Test Accuracy: 85.91%\n",
      "Epoch [308/400], Loss: 0.2780, Accuracy: 90.44%, Test Loss: 0.4015, Test Accuracy: 85.54%\n",
      "Epoch [309/400], Loss: 0.2810, Accuracy: 90.42%, Test Loss: 0.4034, Test Accuracy: 85.31%\n",
      "Epoch [310/400], Loss: 0.2790, Accuracy: 90.43%, Test Loss: 0.4043, Test Accuracy: 85.63%\n",
      "Epoch [311/400], Loss: 0.2719, Accuracy: 90.70%, Test Loss: 0.4020, Test Accuracy: 85.66%\n",
      "Epoch [312/400], Loss: 0.2773, Accuracy: 90.49%, Test Loss: 0.4154, Test Accuracy: 85.00%\n",
      "Epoch [313/400], Loss: 0.2749, Accuracy: 90.61%, Test Loss: 0.4034, Test Accuracy: 85.47%\n",
      "Epoch [314/400], Loss: 0.2740, Accuracy: 90.57%, Test Loss: 0.3883, Test Accuracy: 86.24%\n",
      "Epoch [315/400], Loss: 0.2719, Accuracy: 90.69%, Test Loss: 0.4406, Test Accuracy: 84.03%\n",
      "Epoch [316/400], Loss: 0.2776, Accuracy: 90.39%, Test Loss: 0.3994, Test Accuracy: 85.93%\n",
      "Epoch [317/400], Loss: 0.2765, Accuracy: 90.47%, Test Loss: 0.4355, Test Accuracy: 83.78%\n",
      "Epoch [318/400], Loss: 0.2783, Accuracy: 90.55%, Test Loss: 0.4104, Test Accuracy: 85.46%\n",
      "Epoch [319/400], Loss: 0.2789, Accuracy: 90.50%, Test Loss: 0.4139, Test Accuracy: 85.15%\n",
      "Epoch [320/400], Loss: 0.2756, Accuracy: 90.42%, Test Loss: 0.3977, Test Accuracy: 85.92%\n",
      "Epoch [321/400], Loss: 0.2728, Accuracy: 90.69%, Test Loss: 0.4021, Test Accuracy: 85.76%\n",
      "Epoch [322/400], Loss: 0.2741, Accuracy: 90.61%, Test Loss: 0.3950, Test Accuracy: 85.91%\n",
      "Epoch [323/400], Loss: 0.2734, Accuracy: 90.70%, Test Loss: 0.3940, Test Accuracy: 86.30%\n",
      "Epoch [324/400], Loss: 0.2741, Accuracy: 90.51%, Test Loss: 0.4090, Test Accuracy: 85.14%\n",
      "Epoch [325/400], Loss: 0.2697, Accuracy: 90.77%, Test Loss: 0.4087, Test Accuracy: 85.49%\n",
      "Epoch [326/400], Loss: 0.2743, Accuracy: 90.62%, Test Loss: 0.4125, Test Accuracy: 85.61%\n",
      "Epoch [327/400], Loss: 0.2762, Accuracy: 90.63%, Test Loss: 0.4148, Test Accuracy: 85.16%\n",
      "Epoch [328/400], Loss: 0.2775, Accuracy: 90.50%, Test Loss: 0.4050, Test Accuracy: 85.28%\n",
      "Epoch [329/400], Loss: 0.2762, Accuracy: 90.49%, Test Loss: 0.4050, Test Accuracy: 85.52%\n",
      "Epoch [330/400], Loss: 0.2741, Accuracy: 90.61%, Test Loss: 0.4162, Test Accuracy: 85.12%\n",
      "Epoch [331/400], Loss: 0.2751, Accuracy: 90.46%, Test Loss: 0.3939, Test Accuracy: 85.94%\n",
      "Epoch [332/400], Loss: 0.2724, Accuracy: 90.67%, Test Loss: 0.3999, Test Accuracy: 85.92%\n",
      "Epoch [333/400], Loss: 0.2730, Accuracy: 90.72%, Test Loss: 0.3977, Test Accuracy: 85.87%\n",
      "Epoch [334/400], Loss: 0.2718, Accuracy: 90.68%, Test Loss: 0.3967, Test Accuracy: 85.79%\n",
      "Epoch [335/400], Loss: 0.2703, Accuracy: 90.69%, Test Loss: 0.4037, Test Accuracy: 85.84%\n",
      "Epoch [336/400], Loss: 0.2698, Accuracy: 90.74%, Test Loss: 0.3909, Test Accuracy: 85.98%\n",
      "Epoch [337/400], Loss: 0.2680, Accuracy: 90.75%, Test Loss: 0.3894, Test Accuracy: 86.29%\n",
      "Epoch [338/400], Loss: 0.2695, Accuracy: 90.74%, Test Loss: 0.4049, Test Accuracy: 85.77%\n",
      "Epoch [339/400], Loss: 0.2733, Accuracy: 90.67%, Test Loss: 0.3902, Test Accuracy: 86.42%\n",
      "Epoch [340/400], Loss: 0.2679, Accuracy: 90.72%, Test Loss: 0.3989, Test Accuracy: 85.56%\n",
      "Epoch [341/400], Loss: 0.2700, Accuracy: 90.60%, Test Loss: 0.4040, Test Accuracy: 85.60%\n",
      "Epoch [342/400], Loss: 0.2763, Accuracy: 90.47%, Test Loss: 0.3978, Test Accuracy: 85.81%\n",
      "Epoch [343/400], Loss: 0.2693, Accuracy: 90.69%, Test Loss: 0.3982, Test Accuracy: 85.81%\n",
      "Epoch [344/400], Loss: 0.2669, Accuracy: 90.92%, Test Loss: 0.3966, Test Accuracy: 85.77%\n",
      "Epoch [345/400], Loss: 0.2726, Accuracy: 90.62%, Test Loss: 0.4042, Test Accuracy: 85.47%\n",
      "Epoch [346/400], Loss: 0.2743, Accuracy: 90.52%, Test Loss: 0.4185, Test Accuracy: 84.70%\n",
      "Epoch [347/400], Loss: 0.2710, Accuracy: 90.59%, Test Loss: 0.3869, Test Accuracy: 86.29%\n",
      "Epoch [348/400], Loss: 0.2705, Accuracy: 90.64%, Test Loss: 0.3913, Test Accuracy: 86.22%\n",
      "Epoch [349/400], Loss: 0.2672, Accuracy: 90.76%, Test Loss: 0.4019, Test Accuracy: 85.54%\n",
      "Epoch [350/400], Loss: 0.2667, Accuracy: 90.75%, Test Loss: 0.4014, Test Accuracy: 85.41%\n",
      "Epoch [351/400], Loss: 0.2688, Accuracy: 90.81%, Test Loss: 0.4022, Test Accuracy: 85.88%\n",
      "Epoch [352/400], Loss: 0.2716, Accuracy: 90.78%, Test Loss: 0.4108, Test Accuracy: 85.54%\n",
      "Epoch [353/400], Loss: 0.2728, Accuracy: 90.67%, Test Loss: 0.4089, Test Accuracy: 85.45%\n",
      "Epoch [354/400], Loss: 0.2743, Accuracy: 90.67%, Test Loss: 0.4105, Test Accuracy: 85.91%\n",
      "Epoch [355/400], Loss: 0.2768, Accuracy: 90.60%, Test Loss: 0.4009, Test Accuracy: 85.81%\n",
      "Epoch [356/400], Loss: 0.2748, Accuracy: 90.59%, Test Loss: 0.4138, Test Accuracy: 85.48%\n",
      "Epoch [357/400], Loss: 0.2773, Accuracy: 90.57%, Test Loss: 0.4015, Test Accuracy: 85.88%\n",
      "Epoch [358/400], Loss: 0.2768, Accuracy: 90.41%, Test Loss: 0.4047, Test Accuracy: 85.50%\n",
      "Epoch [359/400], Loss: 0.2734, Accuracy: 90.70%, Test Loss: 0.4060, Test Accuracy: 85.73%\n",
      "Epoch [360/400], Loss: 0.2724, Accuracy: 90.58%, Test Loss: 0.4164, Test Accuracy: 85.16%\n",
      "Epoch [361/400], Loss: 0.2758, Accuracy: 90.42%, Test Loss: 0.3972, Test Accuracy: 85.65%\n",
      "Epoch [362/400], Loss: 0.2708, Accuracy: 90.59%, Test Loss: 0.4127, Test Accuracy: 85.38%\n",
      "Epoch [363/400], Loss: 0.2695, Accuracy: 90.77%, Test Loss: 0.4116, Test Accuracy: 85.00%\n",
      "Epoch [364/400], Loss: 0.2704, Accuracy: 90.67%, Test Loss: 0.3971, Test Accuracy: 86.02%\n",
      "Epoch [365/400], Loss: 0.2656, Accuracy: 90.86%, Test Loss: 0.3923, Test Accuracy: 86.16%\n",
      "Epoch [366/400], Loss: 0.2697, Accuracy: 90.73%, Test Loss: 0.4185, Test Accuracy: 84.88%\n",
      "Epoch [367/400], Loss: 0.2718, Accuracy: 90.50%, Test Loss: 0.4060, Test Accuracy: 85.68%\n",
      "Epoch [368/400], Loss: 0.2710, Accuracy: 90.66%, Test Loss: 0.4047, Test Accuracy: 85.38%\n",
      "Epoch [369/400], Loss: 0.2667, Accuracy: 90.84%, Test Loss: 0.3966, Test Accuracy: 85.48%\n",
      "Epoch [370/400], Loss: 0.2686, Accuracy: 90.72%, Test Loss: 0.4367, Test Accuracy: 83.89%\n",
      "Epoch [371/400], Loss: 0.2724, Accuracy: 90.59%, Test Loss: 0.3985, Test Accuracy: 86.03%\n",
      "Epoch [372/400], Loss: 0.2720, Accuracy: 90.64%, Test Loss: 0.3967, Test Accuracy: 85.84%\n",
      "Epoch [373/400], Loss: 0.2707, Accuracy: 90.68%, Test Loss: 0.4161, Test Accuracy: 85.27%\n",
      "Epoch [374/400], Loss: 0.2751, Accuracy: 90.48%, Test Loss: 0.4216, Test Accuracy: 85.12%\n",
      "Epoch [375/400], Loss: 0.2712, Accuracy: 90.72%, Test Loss: 0.3966, Test Accuracy: 85.93%\n",
      "Epoch [376/400], Loss: 0.2692, Accuracy: 90.55%, Test Loss: 0.3985, Test Accuracy: 85.80%\n",
      "Epoch [377/400], Loss: 0.2787, Accuracy: 90.37%, Test Loss: 0.4015, Test Accuracy: 85.56%\n",
      "Epoch [378/400], Loss: 0.2680, Accuracy: 90.67%, Test Loss: 0.4051, Test Accuracy: 85.21%\n",
      "Epoch [379/400], Loss: 0.2706, Accuracy: 90.59%, Test Loss: 0.4003, Test Accuracy: 85.44%\n",
      "Epoch [380/400], Loss: 0.2629, Accuracy: 91.00%, Test Loss: 0.3939, Test Accuracy: 86.08%\n",
      "Epoch [381/400], Loss: 0.2660, Accuracy: 90.85%, Test Loss: 0.4006, Test Accuracy: 85.52%\n",
      "Epoch [382/400], Loss: 0.2686, Accuracy: 90.75%, Test Loss: 0.4134, Test Accuracy: 84.93%\n",
      "Epoch [383/400], Loss: 0.2705, Accuracy: 90.75%, Test Loss: 0.4108, Test Accuracy: 85.33%\n",
      "Epoch [384/400], Loss: 0.2683, Accuracy: 90.73%, Test Loss: 0.3930, Test Accuracy: 85.76%\n",
      "Epoch [385/400], Loss: 0.2685, Accuracy: 90.84%, Test Loss: 0.4019, Test Accuracy: 85.54%\n",
      "Epoch [386/400], Loss: 0.2749, Accuracy: 90.58%, Test Loss: 0.4110, Test Accuracy: 85.13%\n",
      "Epoch [387/400], Loss: 0.2765, Accuracy: 90.47%, Test Loss: 0.4033, Test Accuracy: 85.64%\n",
      "Epoch [388/400], Loss: 0.2736, Accuracy: 90.50%, Test Loss: 0.3943, Test Accuracy: 85.97%\n",
      "Epoch [389/400], Loss: 0.2764, Accuracy: 90.45%, Test Loss: 0.3993, Test Accuracy: 85.44%\n",
      "Epoch [390/400], Loss: 0.2728, Accuracy: 90.67%, Test Loss: 0.3915, Test Accuracy: 85.89%\n",
      "Epoch [391/400], Loss: 0.2713, Accuracy: 90.66%, Test Loss: 0.4030, Test Accuracy: 85.73%\n",
      "Epoch [392/400], Loss: 0.2700, Accuracy: 90.72%, Test Loss: 0.3929, Test Accuracy: 85.96%\n",
      "Epoch [393/400], Loss: 0.2738, Accuracy: 90.55%, Test Loss: 0.4087, Test Accuracy: 85.61%\n",
      "Epoch [394/400], Loss: 0.2711, Accuracy: 90.73%, Test Loss: 0.3891, Test Accuracy: 85.92%\n",
      "Epoch [395/400], Loss: 0.2666, Accuracy: 90.81%, Test Loss: 0.4002, Test Accuracy: 85.53%\n",
      "Epoch [396/400], Loss: 0.2755, Accuracy: 90.47%, Test Loss: 0.4148, Test Accuracy: 85.27%\n",
      "Epoch [397/400], Loss: 0.2804, Accuracy: 90.53%, Test Loss: 0.4170, Test Accuracy: 85.21%\n",
      "Epoch [398/400], Loss: 0.2834, Accuracy: 90.42%, Test Loss: 0.4109, Test Accuracy: 85.82%\n",
      "Epoch [399/400], Loss: 0.2831, Accuracy: 90.45%, Test Loss: 0.4559, Test Accuracy: 82.47%\n",
      "Epoch [400/400], Loss: 0.2872, Accuracy: 90.21%, Test Loss: 0.4237, Test Accuracy: 84.86%\n"
     ]
    }
   ],
   "source": [
    "# train\n",
    "for epoch in range(max_epoch):\n",
    "    running_loss = 0.0\n",
    "    running_correct = 0   # to track number of correct predictions\n",
    "    total = 0             # to track total number of samples\n",
    "\n",
    "    for i, (inputs, labels) in enumerate(trainloader, 0):\n",
    "        # Move inputs and labels to the device\n",
    "        inputs, labels = inputs.to(device), labels.to(device)\n",
    "\n",
    "        # Zero the parameter gradients\n",
    "        optimizer.zero_grad()\n",
    "\n",
    "        # Forward pass\n",
    "        outputs = model(inputs)\n",
    "        loss = criterion(outputs, labels)\n",
    "        running_loss += loss.item()\n",
    "\n",
    "        # Determine class predictions and track accuracy\n",
    "        _, predicted = torch.max(outputs.data, 1)\n",
    "        total += labels.size(0)\n",
    "        running_correct += (predicted == labels).sum().item()\n",
    "\n",
    "        # Backward pass and optimization\n",
    "        loss.backward()\n",
    "        optimizer.step()        \n",
    "\n",
    "    epoch_accuracy = 100 * running_correct / total\n",
    "    epoch_loss = running_loss / (i + 1)\n",
    "    test_loss, test_accuracy = evaluate(model, testloader, criterion)\n",
    "    print(f\"Epoch [{epoch + 1}/{max_epoch}], Loss: {epoch_loss:.4f}, Accuracy: {epoch_accuracy:.2f}%, Test Loss: {test_loss:.4f}, Test Accuracy: {test_accuracy:.2f}%\")\n",
    "    \n",
    "    # save for plot\n",
    "    train_losses.append(epoch_loss)\n",
    "    train_accuracies.append(epoch_accuracy)\n",
    "    test_losses.append(test_loss)\n",
    "    test_accuracies.append(test_accuracy)"
   ]
  },
  {
   "cell_type": "code",
   "execution_count": null,
   "metadata": {
    "id": "QKFbl4unF_6t"
   },
   "outputs": [],
   "source": []
  },
  {
   "cell_type": "code",
   "execution_count": 11,
   "metadata": {
    "id": "AwIj3vrnF_8_"
   },
   "outputs": [
    {
     "data": {
      "text/plain": [
       "<matplotlib.legend.Legend at 0x7f97c12e31c0>"
      ]
     },
     "execution_count": 11,
     "metadata": {},
     "output_type": "execute_result"
    },
    {
     "data": {
      "image/png": "[encoded data removed]",
      "text/plain": [
       "<Figure size 640x480 with 1 Axes>"
      ]
     },
     "metadata": {},
     "output_type": "display_data"
    }
   ],
   "source": [
    "import matplotlib.pyplot as plt\n",
    "\n",
    "plt.plot(train_losses, label='train_losses')\n",
    "plt.plot(test_losses, label='test_losses')\n",
    "plt.legend()"
   ]
  },
  {
   "cell_type": "code",
   "execution_count": 12,
   "metadata": {
    "id": "eh3iDa8lF__H"
   },
   "outputs": [
    {
     "data": {
      "text/plain": [
       "<matplotlib.legend.Legend at 0x7f97b026ec20>"
      ]
     },
     "execution_count": 12,
     "metadata": {},
     "output_type": "execute_result"
    },
    {
     "data": {
      "image/png": "[encoded data removed]",
      "text/plain": [
       "<Figure size 640x480 with 1 Axes>"
      ]
     },
     "metadata": {},
     "output_type": "display_data"
    }
   ],
   "source": [
    "import matplotlib.pyplot as plt\n",
    "\n",
    "plt.plot(train_accuracies, label='train_accuracy')\n",
    "plt.plot(test_accuracies, label='test_accuracy')\n",
    "plt.legend()"
   ]
  },
  {
   "cell_type": "code",
   "execution_count": null,
   "metadata": {},
   "outputs": [],
   "source": []
  },
  {
   "cell_type": "code",
   "execution_count": 13,
   "metadata": {},
   "outputs": [
    {
     "data": {
      "text/plain": [
       "<matplotlib.legend.Legend at 0x7f974429a6b0>"
      ]
     },
     "execution_count": 13,
     "metadata": {},
     "output_type": "execute_result"
    }
   ],
   "source": [
    "import matplotlib.pyplot as plt\n",
    "%matplotlib qt\n",
    "\n",
    "plt.plot(train_losses, label='train_losses')\n",
    "plt.plot(test_losses, label='test_losses')\n",
    "plt.legend()"
   ]
  },
  {
   "cell_type": "code",
   "execution_count": 14,
   "metadata": {},
   "outputs": [
    {
     "data": {
      "text/plain": [
       "<matplotlib.legend.Legend at 0x7f97326f30d0>"
      ]
     },
     "execution_count": 14,
     "metadata": {},
     "output_type": "execute_result"
    }
   ],
   "source": [
    "import matplotlib.pyplot as plt\n",
    "%matplotlib qt\n",
    "\n",
    "plt.plot(train_accuracies, label='train_accuracy')\n",
    "plt.plot(test_accuracies, label='test_accuracy')\n",
    "plt.legend()"
   ]
  },
  {
   "cell_type": "code",
   "execution_count": null,
   "metadata": {},
   "outputs": [],
   "source": []
  }
 ],
 "metadata": {
  "accelerator": "GPU",
  "colab": {
   "gpuType": "T4",
   "provenance": []
  },
  "kernelspec": {
   "display_name": "Python 3 (ipykernel)",
   "language": "python",
   "name": "python3"
  },
  "language_info": {
   "codemirror_mode": {
    "name": "ipython",
    "version": 3
   },
   "file_extension": ".py",
   "mimetype": "text/x-python",
   "name": "python",
   "nbconvert_exporter": "python",
   "pygments_lexer": "ipython3",
   "version": "3.9.18"
  }
 },
 "nbformat": 4,
 "nbformat_minor": 4
}
