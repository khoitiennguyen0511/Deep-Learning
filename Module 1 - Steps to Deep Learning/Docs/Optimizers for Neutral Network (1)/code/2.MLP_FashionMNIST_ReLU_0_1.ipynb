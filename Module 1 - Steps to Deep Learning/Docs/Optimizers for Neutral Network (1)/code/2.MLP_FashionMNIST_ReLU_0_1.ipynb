{
 "cells": [
  {
   "cell_type": "code",
   "execution_count": 1,
   "metadata": {},
   "outputs": [],
   "source": [
    "import torch\n",
    "import torch.nn as nn\n",
    "import torch.optim as optim\n",
    "import torchvision\n",
    "import torchvision.transforms as transforms\n",
    "\n",
    "# Check if GPU is available\n",
    "device = torch.device(\"cuda:0\" if torch.cuda.is_available() else \"cpu\")"
   ]
  },
  {
   "cell_type": "code",
   "execution_count": null,
   "metadata": {},
   "outputs": [],
   "source": []
  },
  {
   "cell_type": "markdown",
   "metadata": {},
   "source": [
    "#### Data"
   ]
  },
  {
   "cell_type": "code",
   "execution_count": 2,
   "metadata": {},
   "outputs": [],
   "source": [
    "# Load CFashionMNIST dataset\n",
    "transform = transforms.Compose([transforms.ToTensor()])\n",
    "\n",
    "trainset = torchvision.datasets.FashionMNIST(root='data', train=True, download=True, transform=transform)\n",
    "trainloader = torch.utils.data.DataLoader(trainset, batch_size=512, num_workers=3, shuffle=True)\n",
    "\n",
    "testset = torchvision.datasets.FashionMNIST(root='data', train=False, download=True, transform=transform)\n",
    "testloader = torch.utils.data.DataLoader(testset, batch_size=512, num_workers=3, shuffle=False)"
   ]
  },
  {
   "cell_type": "code",
   "execution_count": 3,
   "metadata": {},
   "outputs": [
    {
     "data": {
      "image/png": "[encoded data removed]",
      "text/plain": [
       "<Figure size 640x480 with 1 Axes>"
      ]
     },
     "metadata": {},
     "output_type": "display_data"
    }
   ],
   "source": [
    "import matplotlib.pyplot as plt\n",
    "import numpy as np\n",
    "\n",
    "# Function to display the images\n",
    "def imshow(img):\n",
    "    img = img*0.5 + 0.5\n",
    "    np_img = img.numpy()\n",
    "    plt.imshow(np.transpose(np_img, (1, 2, 0)))\n",
    "    plt.show()\n",
    "\n",
    "for i, (images, labels) in enumerate(trainloader, 0):\n",
    "    # Plot some images\n",
    "    imshow(torchvision.utils.make_grid(images[:8]))  # Display 8 images from the batch\n",
    "    break"
   ]
  },
  {
   "cell_type": "code",
   "execution_count": null,
   "metadata": {},
   "outputs": [],
   "source": []
  },
  {
   "cell_type": "markdown",
   "metadata": {},
   "source": [
    "#### Model"
   ]
  },
  {
   "cell_type": "code",
   "execution_count": 4,
   "metadata": {},
   "outputs": [
    {
     "name": "stdout",
     "output_type": "stream",
     "text": [
      "Sequential(\n",
      "  (0): Flatten(start_dim=1, end_dim=-1)\n",
      "  (1): Linear(in_features=784, out_features=256, bias=True)\n",
      "  (2): ReLU()\n",
      "  (3): Linear(in_features=256, out_features=10, bias=True)\n",
      ")\n"
     ]
    }
   ],
   "source": [
    "model = nn.Sequential(\n",
    "    nn.Flatten(), \n",
    "    nn.Linear(784, 256),\n",
    "    nn.ReLU(),\n",
    "    nn.Linear(256, 10)\n",
    ")\n",
    "model = model.to(device)\n",
    "\n",
    "print(model)"
   ]
  },
  {
   "cell_type": "code",
   "execution_count": 5,
   "metadata": {},
   "outputs": [
    {
     "name": "stdout",
     "output_type": "stream",
     "text": [
      "torch.Size([5, 10])\n"
     ]
    }
   ],
   "source": [
    "# Generating a random tensor\n",
    "input_tensor = torch.rand(5, 28, 28).to(device)\n",
    "\n",
    "# Feeding the tensor into the model\n",
    "output = model(input_tensor)\n",
    "print(output.shape)"
   ]
  },
  {
   "cell_type": "code",
   "execution_count": null,
   "metadata": {},
   "outputs": [],
   "source": []
  },
  {
   "cell_type": "markdown",
   "metadata": {},
   "source": [
    "#### Loss, Optimizer, and Evaluation Function"
   ]
  },
  {
   "cell_type": "code",
   "execution_count": 6,
   "metadata": {},
   "outputs": [],
   "source": [
    "criterion = nn.CrossEntropyLoss()\n",
    "optimizer = optim.SGD(model.parameters(), lr=0.01)"
   ]
  },
  {
   "cell_type": "code",
   "execution_count": 7,
   "metadata": {},
   "outputs": [],
   "source": [
    "# Function to compute loss and accuracy for test set\n",
    "def evaluate(model, testloader, criterion):\n",
    "    model.eval()\n",
    "    test_loss = 0.0\n",
    "    correct = 0\n",
    "    total = 0\n",
    "    with torch.no_grad():\n",
    "        for images, labels in testloader:\n",
    "            # Move inputs and labels to the device\n",
    "            images, labels = images.to(device), labels.to(device)\n",
    "\n",
    "            outputs = model(images)\n",
    "            loss = criterion(outputs, labels)\n",
    "            test_loss += loss.item()\n",
    "            \n",
    "            _, predicted = torch.max(outputs.data, 1)\n",
    "            total += labels.size(0)\n",
    "            correct += (predicted == labels).sum().item()\n",
    "\n",
    "    accuracy = 100 * correct / total\n",
    "    test_loss = test_loss / len(testloader)\n",
    "    return test_loss, accuracy"
   ]
  },
  {
   "cell_type": "code",
   "execution_count": 8,
   "metadata": {},
   "outputs": [
    {
     "name": "stdout",
     "output_type": "stream",
     "text": [
      "test_loss: 2.3219356298446656\n",
      "test_accuracy: 12.55\n"
     ]
    }
   ],
   "source": [
    "test_loss, test_accuracy = evaluate(model, testloader, criterion)\n",
    "print(f'test_loss: {test_loss}')\n",
    "print(f'test_accuracy: {test_accuracy}')"
   ]
  },
  {
   "cell_type": "code",
   "execution_count": null,
   "metadata": {},
   "outputs": [],
   "source": []
  },
  {
   "cell_type": "markdown",
   "metadata": {},
   "source": [
    "#### Train"
   ]
  },
  {
   "cell_type": "code",
   "execution_count": 9,
   "metadata": {},
   "outputs": [],
   "source": [
    "# some parameter\n",
    "train_losses = []\n",
    "train_accuracies = []\n",
    "test_losses = []\n",
    "test_accuracies = []\n",
    "max_epoch = 400"
   ]
  },
  {
   "cell_type": "code",
   "execution_count": 10,
   "metadata": {
    "colab": {
     "base_uri": "https://localhost:8080/"
    },
    "id": "tYwXeSOOF_4Z",
    "outputId": "a4c62a4a-267f-4101-ce96-662cc23cdbe0"
   },
   "outputs": [
    {
     "name": "stdout",
     "output_type": "stream",
     "text": [
      "Epoch [1/400], Loss: 2.0201, Accuracy: 44.39%, Test Loss: 1.7289, Test Accuracy: 62.76%\n",
      "Epoch [2/400], Loss: 1.4756, Accuracy: 64.86%, Test Loss: 1.2782, Test Accuracy: 64.93%\n",
      "Epoch [3/400], Loss: 1.1468, Accuracy: 66.21%, Test Loss: 1.0582, Test Accuracy: 66.01%\n",
      "Epoch [4/400], Loss: 0.9841, Accuracy: 67.73%, Test Loss: 0.9424, Test Accuracy: 67.31%\n",
      "Epoch [5/400], Loss: 0.8921, Accuracy: 69.34%, Test Loss: 0.8724, Test Accuracy: 69.21%\n",
      "Epoch [6/400], Loss: 0.8311, Accuracy: 71.29%, Test Loss: 0.8216, Test Accuracy: 71.01%\n",
      "Epoch [7/400], Loss: 0.7873, Accuracy: 72.91%, Test Loss: 0.7848, Test Accuracy: 72.48%\n",
      "Epoch [8/400], Loss: 0.7528, Accuracy: 74.25%, Test Loss: 0.7551, Test Accuracy: 72.83%\n",
      "Epoch [9/400], Loss: 0.7244, Accuracy: 75.27%, Test Loss: 0.7285, Test Accuracy: 74.19%\n",
      "Epoch [10/400], Loss: 0.7015, Accuracy: 76.24%, Test Loss: 0.7068, Test Accuracy: 75.31%\n",
      "Epoch [11/400], Loss: 0.6799, Accuracy: 76.94%, Test Loss: 0.6895, Test Accuracy: 76.44%\n",
      "Epoch [12/400], Loss: 0.6615, Accuracy: 77.63%, Test Loss: 0.6723, Test Accuracy: 76.85%\n",
      "Epoch [13/400], Loss: 0.6455, Accuracy: 78.37%, Test Loss: 0.6567, Test Accuracy: 76.96%\n",
      "Epoch [14/400], Loss: 0.6309, Accuracy: 78.86%, Test Loss: 0.6438, Test Accuracy: 77.72%\n",
      "Epoch [15/400], Loss: 0.6176, Accuracy: 79.32%, Test Loss: 0.6316, Test Accuracy: 78.14%\n",
      "Epoch [16/400], Loss: 0.6068, Accuracy: 79.75%, Test Loss: 0.6215, Test Accuracy: 78.58%\n",
      "Epoch [17/400], Loss: 0.5951, Accuracy: 80.17%, Test Loss: 0.6106, Test Accuracy: 78.98%\n",
      "Epoch [18/400], Loss: 0.5855, Accuracy: 80.46%, Test Loss: 0.6034, Test Accuracy: 79.35%\n",
      "Epoch [19/400], Loss: 0.5763, Accuracy: 80.74%, Test Loss: 0.5964, Test Accuracy: 79.39%\n",
      "Epoch [20/400], Loss: 0.5681, Accuracy: 80.97%, Test Loss: 0.5868, Test Accuracy: 79.79%\n",
      "Epoch [21/400], Loss: 0.5609, Accuracy: 81.28%, Test Loss: 0.5825, Test Accuracy: 79.80%\n",
      "Epoch [22/400], Loss: 0.5544, Accuracy: 81.45%, Test Loss: 0.5733, Test Accuracy: 80.23%\n",
      "Epoch [23/400], Loss: 0.5477, Accuracy: 81.69%, Test Loss: 0.5684, Test Accuracy: 80.20%\n",
      "Epoch [24/400], Loss: 0.5412, Accuracy: 81.89%, Test Loss: 0.5650, Test Accuracy: 80.33%\n",
      "Epoch [25/400], Loss: 0.5362, Accuracy: 82.01%, Test Loss: 0.5565, Test Accuracy: 80.76%\n",
      "Epoch [26/400], Loss: 0.5303, Accuracy: 82.20%, Test Loss: 0.5529, Test Accuracy: 80.84%\n",
      "Epoch [27/400], Loss: 0.5262, Accuracy: 82.27%, Test Loss: 0.5480, Test Accuracy: 80.97%\n",
      "Epoch [28/400], Loss: 0.5207, Accuracy: 82.48%, Test Loss: 0.5443, Test Accuracy: 81.18%\n",
      "Epoch [29/400], Loss: 0.5173, Accuracy: 82.53%, Test Loss: 0.5406, Test Accuracy: 81.46%\n",
      "Epoch [30/400], Loss: 0.5143, Accuracy: 82.65%, Test Loss: 0.5368, Test Accuracy: 81.38%\n",
      "Epoch [31/400], Loss: 0.5094, Accuracy: 82.80%, Test Loss: 0.5343, Test Accuracy: 81.40%\n",
      "Epoch [32/400], Loss: 0.5058, Accuracy: 82.89%, Test Loss: 0.5296, Test Accuracy: 81.74%\n",
      "Epoch [33/400], Loss: 0.5021, Accuracy: 83.02%, Test Loss: 0.5271, Test Accuracy: 81.74%\n",
      "Epoch [34/400], Loss: 0.4992, Accuracy: 83.12%, Test Loss: 0.5249, Test Accuracy: 81.91%\n",
      "Epoch [35/400], Loss: 0.4956, Accuracy: 83.19%, Test Loss: 0.5207, Test Accuracy: 81.86%\n",
      "Epoch [36/400], Loss: 0.4926, Accuracy: 83.29%, Test Loss: 0.5185, Test Accuracy: 82.08%\n",
      "Epoch [37/400], Loss: 0.4901, Accuracy: 83.37%, Test Loss: 0.5169, Test Accuracy: 81.74%\n",
      "Epoch [38/400], Loss: 0.4867, Accuracy: 83.41%, Test Loss: 0.5144, Test Accuracy: 81.95%\n",
      "Epoch [39/400], Loss: 0.4846, Accuracy: 83.52%, Test Loss: 0.5111, Test Accuracy: 82.07%\n",
      "Epoch [40/400], Loss: 0.4821, Accuracy: 83.56%, Test Loss: 0.5096, Test Accuracy: 82.01%\n",
      "Epoch [41/400], Loss: 0.4801, Accuracy: 83.65%, Test Loss: 0.5071, Test Accuracy: 82.30%\n",
      "Epoch [42/400], Loss: 0.4777, Accuracy: 83.72%, Test Loss: 0.5059, Test Accuracy: 82.14%\n",
      "Epoch [43/400], Loss: 0.4752, Accuracy: 83.81%, Test Loss: 0.5020, Test Accuracy: 82.41%\n",
      "Epoch [44/400], Loss: 0.4743, Accuracy: 83.83%, Test Loss: 0.5006, Test Accuracy: 82.45%\n",
      "Epoch [45/400], Loss: 0.4710, Accuracy: 83.89%, Test Loss: 0.4982, Test Accuracy: 82.65%\n",
      "Epoch [46/400], Loss: 0.4703, Accuracy: 83.93%, Test Loss: 0.4970, Test Accuracy: 82.63%\n",
      "Epoch [47/400], Loss: 0.4679, Accuracy: 84.05%, Test Loss: 0.4959, Test Accuracy: 82.56%\n",
      "Epoch [48/400], Loss: 0.4656, Accuracy: 84.10%, Test Loss: 0.4936, Test Accuracy: 82.67%\n",
      "Epoch [49/400], Loss: 0.4643, Accuracy: 84.21%, Test Loss: 0.4913, Test Accuracy: 82.90%\n",
      "Epoch [50/400], Loss: 0.4615, Accuracy: 84.18%, Test Loss: 0.4922, Test Accuracy: 82.63%\n",
      "Epoch [51/400], Loss: 0.4601, Accuracy: 84.26%, Test Loss: 0.4918, Test Accuracy: 82.84%\n",
      "Epoch [52/400], Loss: 0.4590, Accuracy: 84.32%, Test Loss: 0.4881, Test Accuracy: 82.93%\n",
      "Epoch [53/400], Loss: 0.4572, Accuracy: 84.35%, Test Loss: 0.4878, Test Accuracy: 82.99%\n",
      "Epoch [54/400], Loss: 0.4555, Accuracy: 84.36%, Test Loss: 0.4843, Test Accuracy: 83.06%\n",
      "Epoch [55/400], Loss: 0.4539, Accuracy: 84.54%, Test Loss: 0.4831, Test Accuracy: 83.07%\n",
      "Epoch [56/400], Loss: 0.4541, Accuracy: 84.51%, Test Loss: 0.4821, Test Accuracy: 83.05%\n",
      "Epoch [57/400], Loss: 0.4515, Accuracy: 84.52%, Test Loss: 0.4821, Test Accuracy: 83.01%\n",
      "Epoch [58/400], Loss: 0.4492, Accuracy: 84.67%, Test Loss: 0.4814, Test Accuracy: 83.02%\n",
      "Epoch [59/400], Loss: 0.4489, Accuracy: 84.59%, Test Loss: 0.4786, Test Accuracy: 83.27%\n",
      "Epoch [60/400], Loss: 0.4470, Accuracy: 84.73%, Test Loss: 0.4768, Test Accuracy: 83.20%\n",
      "Epoch [61/400], Loss: 0.4457, Accuracy: 84.70%, Test Loss: 0.4780, Test Accuracy: 83.12%\n",
      "Epoch [62/400], Loss: 0.4458, Accuracy: 84.76%, Test Loss: 0.4743, Test Accuracy: 83.40%\n",
      "Epoch [63/400], Loss: 0.4427, Accuracy: 84.78%, Test Loss: 0.4764, Test Accuracy: 83.26%\n",
      "Epoch [64/400], Loss: 0.4422, Accuracy: 84.80%, Test Loss: 0.4744, Test Accuracy: 83.13%\n",
      "Epoch [65/400], Loss: 0.4416, Accuracy: 84.83%, Test Loss: 0.4724, Test Accuracy: 83.31%\n",
      "Epoch [66/400], Loss: 0.4392, Accuracy: 84.90%, Test Loss: 0.4709, Test Accuracy: 83.46%\n",
      "Epoch [67/400], Loss: 0.4395, Accuracy: 84.90%, Test Loss: 0.4714, Test Accuracy: 83.38%\n",
      "Epoch [68/400], Loss: 0.4370, Accuracy: 84.96%, Test Loss: 0.4701, Test Accuracy: 83.49%\n",
      "Epoch [69/400], Loss: 0.4363, Accuracy: 85.02%, Test Loss: 0.4672, Test Accuracy: 83.64%\n",
      "Epoch [70/400], Loss: 0.4358, Accuracy: 85.00%, Test Loss: 0.4664, Test Accuracy: 83.74%\n",
      "Epoch [71/400], Loss: 0.4339, Accuracy: 85.07%, Test Loss: 0.4660, Test Accuracy: 83.60%\n",
      "Epoch [72/400], Loss: 0.4332, Accuracy: 85.06%, Test Loss: 0.4671, Test Accuracy: 83.65%\n",
      "Epoch [73/400], Loss: 0.4323, Accuracy: 85.09%, Test Loss: 0.4638, Test Accuracy: 83.70%\n",
      "Epoch [74/400], Loss: 0.4313, Accuracy: 85.18%, Test Loss: 0.4632, Test Accuracy: 83.73%\n",
      "Epoch [75/400], Loss: 0.4290, Accuracy: 85.19%, Test Loss: 0.4664, Test Accuracy: 83.66%\n",
      "Epoch [76/400], Loss: 0.4287, Accuracy: 85.26%, Test Loss: 0.4612, Test Accuracy: 83.84%\n",
      "Epoch [77/400], Loss: 0.4274, Accuracy: 85.24%, Test Loss: 0.4597, Test Accuracy: 83.79%\n",
      "Epoch [78/400], Loss: 0.4272, Accuracy: 85.29%, Test Loss: 0.4590, Test Accuracy: 83.97%\n",
      "Epoch [79/400], Loss: 0.4254, Accuracy: 85.31%, Test Loss: 0.4581, Test Accuracy: 83.90%\n",
      "Epoch [80/400], Loss: 0.4263, Accuracy: 85.36%, Test Loss: 0.4577, Test Accuracy: 83.85%\n",
      "Epoch [81/400], Loss: 0.4251, Accuracy: 85.39%, Test Loss: 0.4570, Test Accuracy: 84.02%\n",
      "Epoch [82/400], Loss: 0.4231, Accuracy: 85.41%, Test Loss: 0.4557, Test Accuracy: 83.96%\n",
      "Epoch [83/400], Loss: 0.4231, Accuracy: 85.44%, Test Loss: 0.4603, Test Accuracy: 83.45%\n",
      "Epoch [84/400], Loss: 0.4217, Accuracy: 85.48%, Test Loss: 0.4578, Test Accuracy: 83.72%\n",
      "Epoch [85/400], Loss: 0.4203, Accuracy: 85.51%, Test Loss: 0.4542, Test Accuracy: 84.06%\n",
      "Epoch [86/400], Loss: 0.4194, Accuracy: 85.49%, Test Loss: 0.4542, Test Accuracy: 84.02%\n",
      "Epoch [87/400], Loss: 0.4190, Accuracy: 85.59%, Test Loss: 0.4550, Test Accuracy: 83.95%\n",
      "Epoch [88/400], Loss: 0.4176, Accuracy: 85.60%, Test Loss: 0.4517, Test Accuracy: 83.94%\n",
      "Epoch [89/400], Loss: 0.4172, Accuracy: 85.62%, Test Loss: 0.4513, Test Accuracy: 84.02%\n",
      "Epoch [90/400], Loss: 0.4167, Accuracy: 85.62%, Test Loss: 0.4493, Test Accuracy: 84.09%\n",
      "Epoch [91/400], Loss: 0.4158, Accuracy: 85.65%, Test Loss: 0.4495, Test Accuracy: 84.16%\n",
      "Epoch [92/400], Loss: 0.4152, Accuracy: 85.69%, Test Loss: 0.4489, Test Accuracy: 84.05%\n",
      "Epoch [93/400], Loss: 0.4138, Accuracy: 85.73%, Test Loss: 0.4485, Test Accuracy: 84.21%\n",
      "Epoch [94/400], Loss: 0.4133, Accuracy: 85.76%, Test Loss: 0.4476, Test Accuracy: 84.08%\n",
      "Epoch [95/400], Loss: 0.4130, Accuracy: 85.80%, Test Loss: 0.4498, Test Accuracy: 83.87%\n",
      "Epoch [96/400], Loss: 0.4122, Accuracy: 85.81%, Test Loss: 0.4520, Test Accuracy: 84.14%\n",
      "Epoch [97/400], Loss: 0.4102, Accuracy: 85.81%, Test Loss: 0.4456, Test Accuracy: 84.10%\n",
      "Epoch [98/400], Loss: 0.4114, Accuracy: 85.86%, Test Loss: 0.4451, Test Accuracy: 84.19%\n",
      "Epoch [99/400], Loss: 0.4089, Accuracy: 85.88%, Test Loss: 0.4484, Test Accuracy: 83.89%\n",
      "Epoch [100/400], Loss: 0.4092, Accuracy: 85.93%, Test Loss: 0.4477, Test Accuracy: 84.24%\n",
      "Epoch [101/400], Loss: 0.4080, Accuracy: 85.97%, Test Loss: 0.4435, Test Accuracy: 84.27%\n",
      "Epoch [102/400], Loss: 0.4080, Accuracy: 85.99%, Test Loss: 0.4420, Test Accuracy: 84.19%\n",
      "Epoch [103/400], Loss: 0.4064, Accuracy: 86.01%, Test Loss: 0.4462, Test Accuracy: 84.37%\n",
      "Epoch [104/400], Loss: 0.4067, Accuracy: 86.01%, Test Loss: 0.4409, Test Accuracy: 84.31%\n",
      "Epoch [105/400], Loss: 0.4065, Accuracy: 86.07%, Test Loss: 0.4415, Test Accuracy: 84.40%\n",
      "Epoch [106/400], Loss: 0.4044, Accuracy: 86.08%, Test Loss: 0.4405, Test Accuracy: 84.15%\n",
      "Epoch [107/400], Loss: 0.4032, Accuracy: 86.09%, Test Loss: 0.4398, Test Accuracy: 84.25%\n",
      "Epoch [108/400], Loss: 0.4038, Accuracy: 86.17%, Test Loss: 0.4410, Test Accuracy: 84.17%\n",
      "Epoch [109/400], Loss: 0.4027, Accuracy: 86.14%, Test Loss: 0.4414, Test Accuracy: 84.37%\n",
      "Epoch [110/400], Loss: 0.4017, Accuracy: 86.25%, Test Loss: 0.4370, Test Accuracy: 84.33%\n",
      "Epoch [111/400], Loss: 0.4020, Accuracy: 86.25%, Test Loss: 0.4376, Test Accuracy: 84.41%\n",
      "Epoch [112/400], Loss: 0.4006, Accuracy: 86.23%, Test Loss: 0.4364, Test Accuracy: 84.64%\n",
      "Epoch [113/400], Loss: 0.3996, Accuracy: 86.21%, Test Loss: 0.4355, Test Accuracy: 84.47%\n",
      "Epoch [114/400], Loss: 0.3985, Accuracy: 86.24%, Test Loss: 0.4362, Test Accuracy: 84.52%\n",
      "Epoch [115/400], Loss: 0.3991, Accuracy: 86.27%, Test Loss: 0.4448, Test Accuracy: 84.33%\n",
      "Epoch [116/400], Loss: 0.3978, Accuracy: 86.35%, Test Loss: 0.4352, Test Accuracy: 84.61%\n",
      "Epoch [117/400], Loss: 0.3968, Accuracy: 86.29%, Test Loss: 0.4337, Test Accuracy: 84.61%\n",
      "Epoch [118/400], Loss: 0.3976, Accuracy: 86.33%, Test Loss: 0.4368, Test Accuracy: 84.53%\n",
      "Epoch [119/400], Loss: 0.3951, Accuracy: 86.40%, Test Loss: 0.4315, Test Accuracy: 84.61%\n",
      "Epoch [120/400], Loss: 0.3954, Accuracy: 86.41%, Test Loss: 0.4327, Test Accuracy: 84.47%\n",
      "Epoch [121/400], Loss: 0.3950, Accuracy: 86.42%, Test Loss: 0.4308, Test Accuracy: 84.78%\n",
      "Epoch [122/400], Loss: 0.3937, Accuracy: 86.45%, Test Loss: 0.4299, Test Accuracy: 84.74%\n",
      "Epoch [123/400], Loss: 0.3935, Accuracy: 86.45%, Test Loss: 0.4308, Test Accuracy: 84.68%\n",
      "Epoch [124/400], Loss: 0.3927, Accuracy: 86.45%, Test Loss: 0.4390, Test Accuracy: 84.24%\n",
      "Epoch [125/400], Loss: 0.3923, Accuracy: 86.55%, Test Loss: 0.4336, Test Accuracy: 84.66%\n",
      "Epoch [126/400], Loss: 0.3908, Accuracy: 86.47%, Test Loss: 0.4289, Test Accuracy: 84.95%\n",
      "Epoch [127/400], Loss: 0.3913, Accuracy: 86.53%, Test Loss: 0.4296, Test Accuracy: 84.74%\n",
      "Epoch [128/400], Loss: 0.3911, Accuracy: 86.52%, Test Loss: 0.4310, Test Accuracy: 84.82%\n",
      "Epoch [129/400], Loss: 0.3894, Accuracy: 86.59%, Test Loss: 0.4297, Test Accuracy: 84.94%\n",
      "Epoch [130/400], Loss: 0.3896, Accuracy: 86.56%, Test Loss: 0.4289, Test Accuracy: 84.84%\n",
      "Epoch [131/400], Loss: 0.3889, Accuracy: 86.60%, Test Loss: 0.4296, Test Accuracy: 84.65%\n",
      "Epoch [132/400], Loss: 0.3880, Accuracy: 86.58%, Test Loss: 0.4251, Test Accuracy: 85.05%\n",
      "Epoch [133/400], Loss: 0.3872, Accuracy: 86.61%, Test Loss: 0.4257, Test Accuracy: 85.03%\n",
      "Epoch [134/400], Loss: 0.3863, Accuracy: 86.68%, Test Loss: 0.4253, Test Accuracy: 85.05%\n",
      "Epoch [135/400], Loss: 0.3868, Accuracy: 86.64%, Test Loss: 0.4318, Test Accuracy: 84.61%\n",
      "Epoch [136/400], Loss: 0.3851, Accuracy: 86.70%, Test Loss: 0.4298, Test Accuracy: 84.89%\n",
      "Epoch [137/400], Loss: 0.3864, Accuracy: 86.67%, Test Loss: 0.4237, Test Accuracy: 85.07%\n",
      "Epoch [138/400], Loss: 0.3844, Accuracy: 86.69%, Test Loss: 0.4253, Test Accuracy: 85.06%\n",
      "Epoch [139/400], Loss: 0.3836, Accuracy: 86.73%, Test Loss: 0.4242, Test Accuracy: 85.05%\n",
      "Epoch [140/400], Loss: 0.3839, Accuracy: 86.73%, Test Loss: 0.4228, Test Accuracy: 84.93%\n",
      "Epoch [141/400], Loss: 0.3831, Accuracy: 86.77%, Test Loss: 0.4254, Test Accuracy: 85.00%\n",
      "Epoch [142/400], Loss: 0.3825, Accuracy: 86.75%, Test Loss: 0.4210, Test Accuracy: 85.03%\n",
      "Epoch [143/400], Loss: 0.3823, Accuracy: 86.80%, Test Loss: 0.4217, Test Accuracy: 85.26%\n",
      "Epoch [144/400], Loss: 0.3821, Accuracy: 86.75%, Test Loss: 0.4214, Test Accuracy: 85.11%\n",
      "Epoch [145/400], Loss: 0.3806, Accuracy: 86.84%, Test Loss: 0.4245, Test Accuracy: 84.97%\n",
      "Epoch [146/400], Loss: 0.3800, Accuracy: 86.84%, Test Loss: 0.4197, Test Accuracy: 85.24%\n",
      "Epoch [147/400], Loss: 0.3793, Accuracy: 86.88%, Test Loss: 0.4202, Test Accuracy: 85.24%\n",
      "Epoch [148/400], Loss: 0.3782, Accuracy: 86.88%, Test Loss: 0.4189, Test Accuracy: 85.26%\n",
      "Epoch [149/400], Loss: 0.3795, Accuracy: 86.86%, Test Loss: 0.4196, Test Accuracy: 85.22%\n",
      "Epoch [150/400], Loss: 0.3787, Accuracy: 86.95%, Test Loss: 0.4211, Test Accuracy: 84.99%\n",
      "Epoch [151/400], Loss: 0.3780, Accuracy: 86.91%, Test Loss: 0.4176, Test Accuracy: 85.44%\n",
      "Epoch [152/400], Loss: 0.3775, Accuracy: 86.95%, Test Loss: 0.4198, Test Accuracy: 85.27%\n",
      "Epoch [153/400], Loss: 0.3765, Accuracy: 86.95%, Test Loss: 0.4205, Test Accuracy: 85.20%\n",
      "Epoch [154/400], Loss: 0.3761, Accuracy: 87.03%, Test Loss: 0.4294, Test Accuracy: 84.58%\n",
      "Epoch [155/400], Loss: 0.3758, Accuracy: 87.00%, Test Loss: 0.4187, Test Accuracy: 85.34%\n",
      "Epoch [156/400], Loss: 0.3750, Accuracy: 87.05%, Test Loss: 0.4153, Test Accuracy: 85.41%\n",
      "Epoch [157/400], Loss: 0.3750, Accuracy: 87.05%, Test Loss: 0.4166, Test Accuracy: 85.34%\n",
      "Epoch [158/400], Loss: 0.3752, Accuracy: 87.02%, Test Loss: 0.4162, Test Accuracy: 85.44%\n",
      "Epoch [159/400], Loss: 0.3732, Accuracy: 87.14%, Test Loss: 0.4139, Test Accuracy: 85.45%\n",
      "Epoch [160/400], Loss: 0.3731, Accuracy: 87.09%, Test Loss: 0.4160, Test Accuracy: 85.49%\n",
      "Epoch [161/400], Loss: 0.3727, Accuracy: 87.08%, Test Loss: 0.4156, Test Accuracy: 85.62%\n",
      "Epoch [162/400], Loss: 0.3732, Accuracy: 87.11%, Test Loss: 0.4138, Test Accuracy: 85.50%\n",
      "Epoch [163/400], Loss: 0.3723, Accuracy: 87.18%, Test Loss: 0.4143, Test Accuracy: 85.52%\n",
      "Epoch [164/400], Loss: 0.3717, Accuracy: 87.20%, Test Loss: 0.4125, Test Accuracy: 85.46%\n",
      "Epoch [165/400], Loss: 0.3720, Accuracy: 87.20%, Test Loss: 0.4122, Test Accuracy: 85.50%\n",
      "Epoch [166/400], Loss: 0.3703, Accuracy: 87.20%, Test Loss: 0.4127, Test Accuracy: 85.47%\n",
      "Epoch [167/400], Loss: 0.3700, Accuracy: 87.21%, Test Loss: 0.4117, Test Accuracy: 85.67%\n",
      "Epoch [168/400], Loss: 0.3703, Accuracy: 87.20%, Test Loss: 0.4103, Test Accuracy: 85.48%\n",
      "Epoch [169/400], Loss: 0.3683, Accuracy: 87.26%, Test Loss: 0.4098, Test Accuracy: 85.57%\n",
      "Epoch [170/400], Loss: 0.3688, Accuracy: 87.26%, Test Loss: 0.4110, Test Accuracy: 85.58%\n",
      "Epoch [171/400], Loss: 0.3692, Accuracy: 87.26%, Test Loss: 0.4117, Test Accuracy: 85.37%\n",
      "Epoch [172/400], Loss: 0.3684, Accuracy: 87.33%, Test Loss: 0.4100, Test Accuracy: 85.59%\n",
      "Epoch [173/400], Loss: 0.3685, Accuracy: 87.33%, Test Loss: 0.4122, Test Accuracy: 85.64%\n",
      "Epoch [174/400], Loss: 0.3678, Accuracy: 87.27%, Test Loss: 0.4096, Test Accuracy: 85.47%\n",
      "Epoch [175/400], Loss: 0.3670, Accuracy: 87.35%, Test Loss: 0.4076, Test Accuracy: 85.63%\n",
      "Epoch [176/400], Loss: 0.3663, Accuracy: 87.30%, Test Loss: 0.4083, Test Accuracy: 85.63%\n",
      "Epoch [177/400], Loss: 0.3662, Accuracy: 87.39%, Test Loss: 0.4093, Test Accuracy: 85.59%\n",
      "Epoch [178/400], Loss: 0.3648, Accuracy: 87.32%, Test Loss: 0.4069, Test Accuracy: 85.75%\n",
      "Epoch [179/400], Loss: 0.3648, Accuracy: 87.45%, Test Loss: 0.4072, Test Accuracy: 85.52%\n",
      "Epoch [180/400], Loss: 0.3639, Accuracy: 87.43%, Test Loss: 0.4064, Test Accuracy: 85.77%\n",
      "Epoch [181/400], Loss: 0.3651, Accuracy: 87.42%, Test Loss: 0.4097, Test Accuracy: 85.60%\n",
      "Epoch [182/400], Loss: 0.3643, Accuracy: 87.52%, Test Loss: 0.4107, Test Accuracy: 85.63%\n",
      "Epoch [183/400], Loss: 0.3633, Accuracy: 87.45%, Test Loss: 0.4058, Test Accuracy: 85.83%\n",
      "Epoch [184/400], Loss: 0.3625, Accuracy: 87.45%, Test Loss: 0.4045, Test Accuracy: 85.71%\n",
      "Epoch [185/400], Loss: 0.3639, Accuracy: 87.47%, Test Loss: 0.4051, Test Accuracy: 85.69%\n",
      "Epoch [186/400], Loss: 0.3623, Accuracy: 87.55%, Test Loss: 0.4068, Test Accuracy: 85.72%\n",
      "Epoch [187/400], Loss: 0.3611, Accuracy: 87.47%, Test Loss: 0.4072, Test Accuracy: 85.58%\n",
      "Epoch [188/400], Loss: 0.3618, Accuracy: 87.52%, Test Loss: 0.4043, Test Accuracy: 85.78%\n",
      "Epoch [189/400], Loss: 0.3614, Accuracy: 87.63%, Test Loss: 0.4037, Test Accuracy: 85.77%\n",
      "Epoch [190/400], Loss: 0.3603, Accuracy: 87.56%, Test Loss: 0.4029, Test Accuracy: 85.96%\n",
      "Epoch [191/400], Loss: 0.3604, Accuracy: 87.56%, Test Loss: 0.4039, Test Accuracy: 86.07%\n",
      "Epoch [192/400], Loss: 0.3594, Accuracy: 87.59%, Test Loss: 0.4200, Test Accuracy: 85.38%\n",
      "Epoch [193/400], Loss: 0.3605, Accuracy: 87.57%, Test Loss: 0.4031, Test Accuracy: 85.77%\n",
      "Epoch [194/400], Loss: 0.3587, Accuracy: 87.61%, Test Loss: 0.4050, Test Accuracy: 85.95%\n",
      "Epoch [195/400], Loss: 0.3592, Accuracy: 87.60%, Test Loss: 0.4068, Test Accuracy: 85.75%\n",
      "Epoch [196/400], Loss: 0.3585, Accuracy: 87.64%, Test Loss: 0.4037, Test Accuracy: 85.83%\n",
      "Epoch [197/400], Loss: 0.3579, Accuracy: 87.62%, Test Loss: 0.4016, Test Accuracy: 85.83%\n",
      "Epoch [198/400], Loss: 0.3566, Accuracy: 87.67%, Test Loss: 0.4020, Test Accuracy: 86.04%\n",
      "Epoch [199/400], Loss: 0.3565, Accuracy: 87.68%, Test Loss: 0.4020, Test Accuracy: 85.82%\n",
      "Epoch [200/400], Loss: 0.3575, Accuracy: 87.68%, Test Loss: 0.4002, Test Accuracy: 85.89%\n",
      "Epoch [201/400], Loss: 0.3556, Accuracy: 87.66%, Test Loss: 0.3994, Test Accuracy: 85.98%\n",
      "Epoch [202/400], Loss: 0.3562, Accuracy: 87.69%, Test Loss: 0.4002, Test Accuracy: 85.92%\n",
      "Epoch [203/400], Loss: 0.3561, Accuracy: 87.71%, Test Loss: 0.4088, Test Accuracy: 85.88%\n",
      "Epoch [204/400], Loss: 0.3553, Accuracy: 87.69%, Test Loss: 0.4025, Test Accuracy: 86.09%\n",
      "Epoch [205/400], Loss: 0.3549, Accuracy: 87.77%, Test Loss: 0.3994, Test Accuracy: 86.12%\n",
      "Epoch [206/400], Loss: 0.3545, Accuracy: 87.78%, Test Loss: 0.4008, Test Accuracy: 85.96%\n",
      "Epoch [207/400], Loss: 0.3535, Accuracy: 87.80%, Test Loss: 0.3982, Test Accuracy: 86.14%\n",
      "Epoch [208/400], Loss: 0.3531, Accuracy: 87.76%, Test Loss: 0.3986, Test Accuracy: 86.06%\n",
      "Epoch [209/400], Loss: 0.3535, Accuracy: 87.81%, Test Loss: 0.3994, Test Accuracy: 85.95%\n",
      "Epoch [210/400], Loss: 0.3528, Accuracy: 87.84%, Test Loss: 0.3985, Test Accuracy: 86.03%\n",
      "Epoch [211/400], Loss: 0.3529, Accuracy: 87.82%, Test Loss: 0.4007, Test Accuracy: 85.93%\n",
      "Epoch [212/400], Loss: 0.3513, Accuracy: 87.88%, Test Loss: 0.3982, Test Accuracy: 86.15%\n",
      "Epoch [213/400], Loss: 0.3522, Accuracy: 87.80%, Test Loss: 0.3993, Test Accuracy: 86.04%\n",
      "Epoch [214/400], Loss: 0.3515, Accuracy: 87.84%, Test Loss: 0.3975, Test Accuracy: 86.18%\n",
      "Epoch [215/400], Loss: 0.3515, Accuracy: 87.90%, Test Loss: 0.3968, Test Accuracy: 86.08%\n",
      "Epoch [216/400], Loss: 0.3508, Accuracy: 87.86%, Test Loss: 0.3958, Test Accuracy: 86.09%\n",
      "Epoch [217/400], Loss: 0.3506, Accuracy: 87.86%, Test Loss: 0.3960, Test Accuracy: 86.22%\n",
      "Epoch [218/400], Loss: 0.3501, Accuracy: 87.92%, Test Loss: 0.3986, Test Accuracy: 86.04%\n",
      "Epoch [219/400], Loss: 0.3495, Accuracy: 87.86%, Test Loss: 0.4009, Test Accuracy: 86.00%\n",
      "Epoch [220/400], Loss: 0.3491, Accuracy: 87.92%, Test Loss: 0.3968, Test Accuracy: 86.22%\n",
      "Epoch [221/400], Loss: 0.3492, Accuracy: 87.90%, Test Loss: 0.3940, Test Accuracy: 86.38%\n",
      "Epoch [222/400], Loss: 0.3486, Accuracy: 87.97%, Test Loss: 0.3950, Test Accuracy: 86.15%\n",
      "Epoch [223/400], Loss: 0.3483, Accuracy: 87.90%, Test Loss: 0.3944, Test Accuracy: 86.17%\n",
      "Epoch [224/400], Loss: 0.3481, Accuracy: 88.00%, Test Loss: 0.3944, Test Accuracy: 86.30%\n",
      "Epoch [225/400], Loss: 0.3479, Accuracy: 87.95%, Test Loss: 0.3973, Test Accuracy: 86.10%\n",
      "Epoch [226/400], Loss: 0.3483, Accuracy: 88.02%, Test Loss: 0.3941, Test Accuracy: 86.18%\n",
      "Epoch [227/400], Loss: 0.3462, Accuracy: 88.06%, Test Loss: 0.3936, Test Accuracy: 86.25%\n",
      "Epoch [228/400], Loss: 0.3471, Accuracy: 87.97%, Test Loss: 0.3953, Test Accuracy: 86.22%\n",
      "Epoch [229/400], Loss: 0.3464, Accuracy: 88.04%, Test Loss: 0.3962, Test Accuracy: 86.10%\n",
      "Epoch [230/400], Loss: 0.3455, Accuracy: 88.03%, Test Loss: 0.3990, Test Accuracy: 85.98%\n",
      "Epoch [231/400], Loss: 0.3454, Accuracy: 88.05%, Test Loss: 0.3924, Test Accuracy: 86.37%\n",
      "Epoch [232/400], Loss: 0.3445, Accuracy: 88.03%, Test Loss: 0.3947, Test Accuracy: 86.22%\n",
      "Epoch [233/400], Loss: 0.3445, Accuracy: 88.07%, Test Loss: 0.3915, Test Accuracy: 86.24%\n",
      "Epoch [234/400], Loss: 0.3445, Accuracy: 88.06%, Test Loss: 0.3950, Test Accuracy: 86.08%\n",
      "Epoch [235/400], Loss: 0.3433, Accuracy: 88.14%, Test Loss: 0.3906, Test Accuracy: 86.41%\n",
      "Epoch [236/400], Loss: 0.3444, Accuracy: 88.12%, Test Loss: 0.3908, Test Accuracy: 86.41%\n",
      "Epoch [237/400], Loss: 0.3432, Accuracy: 88.15%, Test Loss: 0.3904, Test Accuracy: 86.47%\n",
      "Epoch [238/400], Loss: 0.3443, Accuracy: 88.11%, Test Loss: 0.3912, Test Accuracy: 86.37%\n",
      "Epoch [239/400], Loss: 0.3422, Accuracy: 88.14%, Test Loss: 0.3933, Test Accuracy: 86.30%\n",
      "Epoch [240/400], Loss: 0.3421, Accuracy: 88.13%, Test Loss: 0.3904, Test Accuracy: 86.44%\n",
      "Epoch [241/400], Loss: 0.3415, Accuracy: 88.17%, Test Loss: 0.3902, Test Accuracy: 86.46%\n",
      "Epoch [242/400], Loss: 0.3422, Accuracy: 88.14%, Test Loss: 0.3916, Test Accuracy: 86.26%\n",
      "Epoch [243/400], Loss: 0.3408, Accuracy: 88.18%, Test Loss: 0.3906, Test Accuracy: 86.28%\n",
      "Epoch [244/400], Loss: 0.3413, Accuracy: 88.19%, Test Loss: 0.3889, Test Accuracy: 86.46%\n",
      "Epoch [245/400], Loss: 0.3399, Accuracy: 88.17%, Test Loss: 0.3889, Test Accuracy: 86.46%\n",
      "Epoch [246/400], Loss: 0.3410, Accuracy: 88.20%, Test Loss: 0.3890, Test Accuracy: 86.49%\n",
      "Epoch [247/400], Loss: 0.3399, Accuracy: 88.22%, Test Loss: 0.3889, Test Accuracy: 86.47%\n",
      "Epoch [248/400], Loss: 0.3402, Accuracy: 88.21%, Test Loss: 0.3900, Test Accuracy: 86.41%\n",
      "Epoch [249/400], Loss: 0.3400, Accuracy: 88.27%, Test Loss: 0.3920, Test Accuracy: 86.33%\n",
      "Epoch [250/400], Loss: 0.3392, Accuracy: 88.21%, Test Loss: 0.3883, Test Accuracy: 86.57%\n",
      "Epoch [251/400], Loss: 0.3381, Accuracy: 88.32%, Test Loss: 0.3890, Test Accuracy: 86.35%\n",
      "Epoch [252/400], Loss: 0.3392, Accuracy: 88.28%, Test Loss: 0.3878, Test Accuracy: 86.42%\n",
      "Epoch [253/400], Loss: 0.3374, Accuracy: 88.30%, Test Loss: 0.3865, Test Accuracy: 86.61%\n",
      "Epoch [254/400], Loss: 0.3384, Accuracy: 88.28%, Test Loss: 0.3865, Test Accuracy: 86.66%\n",
      "Epoch [255/400], Loss: 0.3371, Accuracy: 88.27%, Test Loss: 0.3882, Test Accuracy: 86.46%\n",
      "Epoch [256/400], Loss: 0.3373, Accuracy: 88.33%, Test Loss: 0.3917, Test Accuracy: 86.34%\n",
      "Epoch [257/400], Loss: 0.3367, Accuracy: 88.35%, Test Loss: 0.3875, Test Accuracy: 86.47%\n",
      "Epoch [258/400], Loss: 0.3378, Accuracy: 88.30%, Test Loss: 0.3900, Test Accuracy: 86.40%\n",
      "Epoch [259/400], Loss: 0.3362, Accuracy: 88.33%, Test Loss: 0.3856, Test Accuracy: 86.63%\n",
      "Epoch [260/400], Loss: 0.3359, Accuracy: 88.28%, Test Loss: 0.3867, Test Accuracy: 86.45%\n",
      "Epoch [261/400], Loss: 0.3365, Accuracy: 88.39%, Test Loss: 0.4047, Test Accuracy: 85.46%\n",
      "Epoch [262/400], Loss: 0.3350, Accuracy: 88.37%, Test Loss: 0.3859, Test Accuracy: 86.54%\n",
      "Epoch [263/400], Loss: 0.3358, Accuracy: 88.38%, Test Loss: 0.3894, Test Accuracy: 86.40%\n",
      "Epoch [264/400], Loss: 0.3342, Accuracy: 88.42%, Test Loss: 0.3885, Test Accuracy: 86.41%\n",
      "Epoch [265/400], Loss: 0.3353, Accuracy: 88.37%, Test Loss: 0.3856, Test Accuracy: 86.66%\n",
      "Epoch [266/400], Loss: 0.3344, Accuracy: 88.47%, Test Loss: 0.3866, Test Accuracy: 86.38%\n",
      "Epoch [267/400], Loss: 0.3334, Accuracy: 88.45%, Test Loss: 0.3855, Test Accuracy: 86.55%\n",
      "Epoch [268/400], Loss: 0.3349, Accuracy: 88.44%, Test Loss: 0.3840, Test Accuracy: 86.67%\n",
      "Epoch [269/400], Loss: 0.3335, Accuracy: 88.44%, Test Loss: 0.3842, Test Accuracy: 86.71%\n",
      "Epoch [270/400], Loss: 0.3324, Accuracy: 88.43%, Test Loss: 0.3843, Test Accuracy: 86.50%\n",
      "Epoch [271/400], Loss: 0.3333, Accuracy: 88.47%, Test Loss: 0.3823, Test Accuracy: 86.72%\n",
      "Epoch [272/400], Loss: 0.3326, Accuracy: 88.44%, Test Loss: 0.3899, Test Accuracy: 86.30%\n",
      "Epoch [273/400], Loss: 0.3322, Accuracy: 88.51%, Test Loss: 0.3853, Test Accuracy: 86.47%\n",
      "Epoch [274/400], Loss: 0.3316, Accuracy: 88.52%, Test Loss: 0.3825, Test Accuracy: 86.77%\n",
      "Epoch [275/400], Loss: 0.3313, Accuracy: 88.52%, Test Loss: 0.3857, Test Accuracy: 86.49%\n",
      "Epoch [276/400], Loss: 0.3321, Accuracy: 88.50%, Test Loss: 0.3955, Test Accuracy: 85.76%\n",
      "Epoch [277/400], Loss: 0.3319, Accuracy: 88.53%, Test Loss: 0.3876, Test Accuracy: 86.50%\n",
      "Epoch [278/400], Loss: 0.3305, Accuracy: 88.50%, Test Loss: 0.3825, Test Accuracy: 86.58%\n",
      "Epoch [279/400], Loss: 0.3296, Accuracy: 88.56%, Test Loss: 0.3820, Test Accuracy: 86.60%\n",
      "Epoch [280/400], Loss: 0.3294, Accuracy: 88.51%, Test Loss: 0.3844, Test Accuracy: 86.52%\n",
      "Epoch [281/400], Loss: 0.3298, Accuracy: 88.56%, Test Loss: 0.3819, Test Accuracy: 86.73%\n",
      "Epoch [282/400], Loss: 0.3297, Accuracy: 88.54%, Test Loss: 0.3856, Test Accuracy: 86.46%\n",
      "Epoch [283/400], Loss: 0.3300, Accuracy: 88.56%, Test Loss: 0.3803, Test Accuracy: 86.79%\n",
      "Epoch [284/400], Loss: 0.3300, Accuracy: 88.59%, Test Loss: 0.3864, Test Accuracy: 86.25%\n",
      "Epoch [285/400], Loss: 0.3285, Accuracy: 88.67%, Test Loss: 0.3814, Test Accuracy: 86.76%\n",
      "Epoch [286/400], Loss: 0.3284, Accuracy: 88.61%, Test Loss: 0.3811, Test Accuracy: 86.58%\n",
      "Epoch [287/400], Loss: 0.3282, Accuracy: 88.60%, Test Loss: 0.3832, Test Accuracy: 86.53%\n",
      "Epoch [288/400], Loss: 0.3275, Accuracy: 88.68%, Test Loss: 0.3792, Test Accuracy: 86.75%\n",
      "Epoch [289/400], Loss: 0.3285, Accuracy: 88.64%, Test Loss: 0.3796, Test Accuracy: 86.70%\n",
      "Epoch [290/400], Loss: 0.3268, Accuracy: 88.66%, Test Loss: 0.3863, Test Accuracy: 86.29%\n",
      "Epoch [291/400], Loss: 0.3263, Accuracy: 88.65%, Test Loss: 0.3789, Test Accuracy: 86.73%\n",
      "Epoch [292/400], Loss: 0.3270, Accuracy: 88.72%, Test Loss: 0.3793, Test Accuracy: 86.85%\n",
      "Epoch [293/400], Loss: 0.3265, Accuracy: 88.67%, Test Loss: 0.3803, Test Accuracy: 86.60%\n",
      "Epoch [294/400], Loss: 0.3248, Accuracy: 88.71%, Test Loss: 0.3796, Test Accuracy: 86.55%\n",
      "Epoch [295/400], Loss: 0.3258, Accuracy: 88.70%, Test Loss: 0.3786, Test Accuracy: 86.67%\n",
      "Epoch [296/400], Loss: 0.3246, Accuracy: 88.69%, Test Loss: 0.3777, Test Accuracy: 86.78%\n",
      "Epoch [297/400], Loss: 0.3251, Accuracy: 88.70%, Test Loss: 0.3778, Test Accuracy: 86.79%\n",
      "Epoch [298/400], Loss: 0.3245, Accuracy: 88.72%, Test Loss: 0.3787, Test Accuracy: 86.71%\n",
      "Epoch [299/400], Loss: 0.3242, Accuracy: 88.78%, Test Loss: 0.3769, Test Accuracy: 86.80%\n",
      "Epoch [300/400], Loss: 0.3246, Accuracy: 88.76%, Test Loss: 0.3853, Test Accuracy: 86.26%\n",
      "Epoch [301/400], Loss: 0.3241, Accuracy: 88.75%, Test Loss: 0.3767, Test Accuracy: 86.85%\n",
      "Epoch [302/400], Loss: 0.3241, Accuracy: 88.76%, Test Loss: 0.3788, Test Accuracy: 86.75%\n",
      "Epoch [303/400], Loss: 0.3235, Accuracy: 88.76%, Test Loss: 0.3764, Test Accuracy: 86.81%\n",
      "Epoch [304/400], Loss: 0.3231, Accuracy: 88.78%, Test Loss: 0.3766, Test Accuracy: 86.70%\n",
      "Epoch [305/400], Loss: 0.3232, Accuracy: 88.72%, Test Loss: 0.3807, Test Accuracy: 86.50%\n",
      "Epoch [306/400], Loss: 0.3225, Accuracy: 88.81%, Test Loss: 0.3782, Test Accuracy: 86.66%\n",
      "Epoch [307/400], Loss: 0.3229, Accuracy: 88.80%, Test Loss: 0.3841, Test Accuracy: 86.56%\n",
      "Epoch [308/400], Loss: 0.3215, Accuracy: 88.79%, Test Loss: 0.3763, Test Accuracy: 86.71%\n",
      "Epoch [309/400], Loss: 0.3214, Accuracy: 88.79%, Test Loss: 0.3759, Test Accuracy: 86.76%\n",
      "Epoch [310/400], Loss: 0.3218, Accuracy: 88.87%, Test Loss: 0.3911, Test Accuracy: 85.90%\n",
      "Epoch [311/400], Loss: 0.3208, Accuracy: 88.80%, Test Loss: 0.3758, Test Accuracy: 86.69%\n",
      "Epoch [312/400], Loss: 0.3210, Accuracy: 88.89%, Test Loss: 0.3746, Test Accuracy: 86.84%\n",
      "Epoch [313/400], Loss: 0.3209, Accuracy: 88.89%, Test Loss: 0.3755, Test Accuracy: 86.87%\n",
      "Epoch [314/400], Loss: 0.3213, Accuracy: 88.93%, Test Loss: 0.3805, Test Accuracy: 86.56%\n",
      "Epoch [315/400], Loss: 0.3214, Accuracy: 88.84%, Test Loss: 0.3795, Test Accuracy: 86.55%\n",
      "Epoch [316/400], Loss: 0.3200, Accuracy: 88.89%, Test Loss: 0.3778, Test Accuracy: 86.51%\n",
      "Epoch [317/400], Loss: 0.3194, Accuracy: 88.88%, Test Loss: 0.3735, Test Accuracy: 86.85%\n",
      "Epoch [318/400], Loss: 0.3195, Accuracy: 88.87%, Test Loss: 0.3742, Test Accuracy: 86.76%\n",
      "Epoch [319/400], Loss: 0.3201, Accuracy: 88.92%, Test Loss: 0.3751, Test Accuracy: 86.78%\n",
      "Epoch [320/400], Loss: 0.3191, Accuracy: 88.95%, Test Loss: 0.3872, Test Accuracy: 85.95%\n",
      "Epoch [321/400], Loss: 0.3188, Accuracy: 88.89%, Test Loss: 0.3735, Test Accuracy: 86.87%\n",
      "Epoch [322/400], Loss: 0.3182, Accuracy: 88.97%, Test Loss: 0.3755, Test Accuracy: 86.82%\n",
      "Epoch [323/400], Loss: 0.3176, Accuracy: 88.98%, Test Loss: 0.3734, Test Accuracy: 86.69%\n",
      "Epoch [324/400], Loss: 0.3177, Accuracy: 88.98%, Test Loss: 0.3722, Test Accuracy: 86.94%\n",
      "Epoch [325/400], Loss: 0.3179, Accuracy: 88.96%, Test Loss: 0.3748, Test Accuracy: 86.73%\n",
      "Epoch [326/400], Loss: 0.3174, Accuracy: 89.01%, Test Loss: 0.3740, Test Accuracy: 86.83%\n",
      "Epoch [327/400], Loss: 0.3181, Accuracy: 89.02%, Test Loss: 0.3738, Test Accuracy: 86.90%\n",
      "Epoch [328/400], Loss: 0.3161, Accuracy: 89.07%, Test Loss: 0.3741, Test Accuracy: 86.64%\n",
      "Epoch [329/400], Loss: 0.3157, Accuracy: 88.99%, Test Loss: 0.3734, Test Accuracy: 86.95%\n",
      "Epoch [330/400], Loss: 0.3166, Accuracy: 88.98%, Test Loss: 0.3788, Test Accuracy: 86.47%\n",
      "Epoch [331/400], Loss: 0.3165, Accuracy: 89.03%, Test Loss: 0.3774, Test Accuracy: 86.74%\n",
      "Epoch [332/400], Loss: 0.3162, Accuracy: 89.06%, Test Loss: 0.3774, Test Accuracy: 86.58%\n",
      "Epoch [333/400], Loss: 0.3151, Accuracy: 89.03%, Test Loss: 0.3783, Test Accuracy: 86.62%\n",
      "Epoch [334/400], Loss: 0.3151, Accuracy: 89.04%, Test Loss: 0.3706, Test Accuracy: 86.97%\n",
      "Epoch [335/400], Loss: 0.3144, Accuracy: 89.07%, Test Loss: 0.3729, Test Accuracy: 86.86%\n",
      "Epoch [336/400], Loss: 0.3144, Accuracy: 89.10%, Test Loss: 0.3720, Test Accuracy: 86.84%\n",
      "Epoch [337/400], Loss: 0.3144, Accuracy: 89.12%, Test Loss: 0.3697, Test Accuracy: 87.03%\n",
      "Epoch [338/400], Loss: 0.3145, Accuracy: 89.05%, Test Loss: 0.3787, Test Accuracy: 86.68%\n",
      "Epoch [339/400], Loss: 0.3141, Accuracy: 89.09%, Test Loss: 0.3703, Test Accuracy: 86.83%\n",
      "Epoch [340/400], Loss: 0.3141, Accuracy: 89.06%, Test Loss: 0.3789, Test Accuracy: 86.46%\n",
      "Epoch [341/400], Loss: 0.3130, Accuracy: 89.08%, Test Loss: 0.3747, Test Accuracy: 86.66%\n",
      "Epoch [342/400], Loss: 0.3130, Accuracy: 89.08%, Test Loss: 0.3739, Test Accuracy: 86.61%\n",
      "Epoch [343/400], Loss: 0.3127, Accuracy: 89.12%, Test Loss: 0.3734, Test Accuracy: 86.77%\n",
      "Epoch [344/400], Loss: 0.3130, Accuracy: 89.17%, Test Loss: 0.3686, Test Accuracy: 86.91%\n",
      "Epoch [345/400], Loss: 0.3119, Accuracy: 89.18%, Test Loss: 0.3704, Test Accuracy: 86.93%\n",
      "Epoch [346/400], Loss: 0.3120, Accuracy: 89.16%, Test Loss: 0.3707, Test Accuracy: 86.94%\n",
      "Epoch [347/400], Loss: 0.3113, Accuracy: 89.14%, Test Loss: 0.3697, Test Accuracy: 86.90%\n",
      "Epoch [348/400], Loss: 0.3113, Accuracy: 89.16%, Test Loss: 0.3726, Test Accuracy: 86.70%\n",
      "Epoch [349/400], Loss: 0.3112, Accuracy: 89.19%, Test Loss: 0.3707, Test Accuracy: 86.90%\n",
      "Epoch [350/400], Loss: 0.3109, Accuracy: 89.22%, Test Loss: 0.3716, Test Accuracy: 86.87%\n",
      "Epoch [351/400], Loss: 0.3112, Accuracy: 89.22%, Test Loss: 0.3769, Test Accuracy: 86.61%\n",
      "Epoch [352/400], Loss: 0.3110, Accuracy: 89.17%, Test Loss: 0.3700, Test Accuracy: 86.94%\n",
      "Epoch [353/400], Loss: 0.3106, Accuracy: 89.23%, Test Loss: 0.3713, Test Accuracy: 86.84%\n",
      "Epoch [354/400], Loss: 0.3107, Accuracy: 89.19%, Test Loss: 0.3680, Test Accuracy: 86.96%\n",
      "Epoch [355/400], Loss: 0.3105, Accuracy: 89.26%, Test Loss: 0.3673, Test Accuracy: 86.99%\n",
      "Epoch [356/400], Loss: 0.3092, Accuracy: 89.25%, Test Loss: 0.3709, Test Accuracy: 86.79%\n",
      "Epoch [357/400], Loss: 0.3090, Accuracy: 89.26%, Test Loss: 0.3670, Test Accuracy: 86.99%\n",
      "Epoch [358/400], Loss: 0.3096, Accuracy: 89.28%, Test Loss: 0.3687, Test Accuracy: 86.87%\n",
      "Epoch [359/400], Loss: 0.3091, Accuracy: 89.22%, Test Loss: 0.3670, Test Accuracy: 87.08%\n",
      "Epoch [360/400], Loss: 0.3081, Accuracy: 89.30%, Test Loss: 0.3675, Test Accuracy: 86.86%\n",
      "Epoch [361/400], Loss: 0.3078, Accuracy: 89.25%, Test Loss: 0.3699, Test Accuracy: 86.93%\n",
      "Epoch [362/400], Loss: 0.3080, Accuracy: 89.27%, Test Loss: 0.3666, Test Accuracy: 87.02%\n",
      "Epoch [363/400], Loss: 0.3095, Accuracy: 89.32%, Test Loss: 0.3666, Test Accuracy: 86.91%\n",
      "Epoch [364/400], Loss: 0.3073, Accuracy: 89.29%, Test Loss: 0.3669, Test Accuracy: 87.04%\n",
      "Epoch [365/400], Loss: 0.3078, Accuracy: 89.29%, Test Loss: 0.3660, Test Accuracy: 87.07%\n",
      "Epoch [366/400], Loss: 0.3074, Accuracy: 89.31%, Test Loss: 0.3704, Test Accuracy: 86.77%\n",
      "Epoch [367/400], Loss: 0.3071, Accuracy: 89.31%, Test Loss: 0.3660, Test Accuracy: 87.03%\n",
      "Epoch [368/400], Loss: 0.3068, Accuracy: 89.33%, Test Loss: 0.3678, Test Accuracy: 87.06%\n",
      "Epoch [369/400], Loss: 0.3063, Accuracy: 89.38%, Test Loss: 0.3680, Test Accuracy: 86.78%\n",
      "Epoch [370/400], Loss: 0.3058, Accuracy: 89.39%, Test Loss: 0.3650, Test Accuracy: 87.00%\n",
      "Epoch [371/400], Loss: 0.3060, Accuracy: 89.35%, Test Loss: 0.3655, Test Accuracy: 87.04%\n",
      "Epoch [372/400], Loss: 0.3057, Accuracy: 89.41%, Test Loss: 0.3664, Test Accuracy: 86.96%\n",
      "Epoch [373/400], Loss: 0.3058, Accuracy: 89.33%, Test Loss: 0.3641, Test Accuracy: 87.09%\n",
      "Epoch [374/400], Loss: 0.3060, Accuracy: 89.41%, Test Loss: 0.3695, Test Accuracy: 86.66%\n",
      "Epoch [375/400], Loss: 0.3052, Accuracy: 89.44%, Test Loss: 0.3652, Test Accuracy: 86.98%\n",
      "Epoch [376/400], Loss: 0.3055, Accuracy: 89.41%, Test Loss: 0.3677, Test Accuracy: 86.90%\n",
      "Epoch [377/400], Loss: 0.3050, Accuracy: 89.42%, Test Loss: 0.3710, Test Accuracy: 86.61%\n",
      "Epoch [378/400], Loss: 0.3046, Accuracy: 89.46%, Test Loss: 0.3685, Test Accuracy: 86.88%\n",
      "Epoch [379/400], Loss: 0.3042, Accuracy: 89.42%, Test Loss: 0.3638, Test Accuracy: 87.01%\n",
      "Epoch [380/400], Loss: 0.3037, Accuracy: 89.49%, Test Loss: 0.3640, Test Accuracy: 87.05%\n",
      "Epoch [381/400], Loss: 0.3035, Accuracy: 89.47%, Test Loss: 0.3673, Test Accuracy: 87.01%\n",
      "Epoch [382/400], Loss: 0.3034, Accuracy: 89.45%, Test Loss: 0.3670, Test Accuracy: 87.04%\n",
      "Epoch [383/400], Loss: 0.3025, Accuracy: 89.47%, Test Loss: 0.3637, Test Accuracy: 87.10%\n",
      "Epoch [384/400], Loss: 0.3024, Accuracy: 89.48%, Test Loss: 0.3685, Test Accuracy: 86.70%\n",
      "Epoch [385/400], Loss: 0.3024, Accuracy: 89.49%, Test Loss: 0.3644, Test Accuracy: 87.12%\n",
      "Epoch [386/400], Loss: 0.3031, Accuracy: 89.54%, Test Loss: 0.3646, Test Accuracy: 87.00%\n",
      "Epoch [387/400], Loss: 0.3020, Accuracy: 89.49%, Test Loss: 0.3668, Test Accuracy: 87.02%\n",
      "Epoch [388/400], Loss: 0.3013, Accuracy: 89.53%, Test Loss: 0.3643, Test Accuracy: 86.89%\n",
      "Epoch [389/400], Loss: 0.3011, Accuracy: 89.60%, Test Loss: 0.3644, Test Accuracy: 87.02%\n",
      "Epoch [390/400], Loss: 0.3023, Accuracy: 89.61%, Test Loss: 0.3675, Test Accuracy: 86.89%\n",
      "Epoch [391/400], Loss: 0.3015, Accuracy: 89.58%, Test Loss: 0.3791, Test Accuracy: 86.25%\n",
      "Epoch [392/400], Loss: 0.3010, Accuracy: 89.51%, Test Loss: 0.3640, Test Accuracy: 87.04%\n",
      "Epoch [393/400], Loss: 0.3016, Accuracy: 89.54%, Test Loss: 0.3665, Test Accuracy: 86.63%\n",
      "Epoch [394/400], Loss: 0.3004, Accuracy: 89.56%, Test Loss: 0.3631, Test Accuracy: 86.96%\n",
      "Epoch [395/400], Loss: 0.3002, Accuracy: 89.59%, Test Loss: 0.3622, Test Accuracy: 86.98%\n",
      "Epoch [396/400], Loss: 0.3004, Accuracy: 89.59%, Test Loss: 0.3665, Test Accuracy: 87.04%\n",
      "Epoch [397/400], Loss: 0.2993, Accuracy: 89.58%, Test Loss: 0.3622, Test Accuracy: 87.04%\n",
      "Epoch [398/400], Loss: 0.3013, Accuracy: 89.60%, Test Loss: 0.3618, Test Accuracy: 86.88%\n",
      "Epoch [399/400], Loss: 0.3005, Accuracy: 89.67%, Test Loss: 0.3662, Test Accuracy: 86.80%\n",
      "Epoch [400/400], Loss: 0.2992, Accuracy: 89.66%, Test Loss: 0.3607, Test Accuracy: 87.07%\n"
     ]
    }
   ],
   "source": [
    "# train\n",
    "for epoch in range(max_epoch):\n",
    "    running_loss = 0.0\n",
    "    running_correct = 0   # to track number of correct predictions\n",
    "    total = 0             # to track total number of samples\n",
    "\n",
    "    for i, (inputs, labels) in enumerate(trainloader, 0):\n",
    "        # Move inputs and labels to the device\n",
    "        inputs, labels = inputs.to(device), labels.to(device)\n",
    "\n",
    "        # Zero the parameter gradients\n",
    "        optimizer.zero_grad()\n",
    "\n",
    "        # Forward pass\n",
    "        outputs = model(inputs)\n",
    "        loss = criterion(outputs, labels)\n",
    "        running_loss += loss.item()\n",
    "\n",
    "        # Determine class predictions and track accuracy\n",
    "        _, predicted = torch.max(outputs.data, 1)\n",
    "        total += labels.size(0)\n",
    "        running_correct += (predicted == labels).sum().item()\n",
    "\n",
    "        # Backward pass and optimization\n",
    "        loss.backward()\n",
    "        optimizer.step()        \n",
    "\n",
    "    epoch_accuracy = 100 * running_correct / total\n",
    "    epoch_loss = running_loss / (i + 1)\n",
    "    test_loss, test_accuracy = evaluate(model, testloader, criterion)\n",
    "    print(f\"Epoch [{epoch + 1}/{max_epoch}], Loss: {epoch_loss:.4f}, Accuracy: {epoch_accuracy:.2f}%, Test Loss: {test_loss:.4f}, Test Accuracy: {test_accuracy:.2f}%\")\n",
    "    \n",
    "    # save for plot\n",
    "    train_losses.append(epoch_loss)\n",
    "    train_accuracies.append(epoch_accuracy)\n",
    "    test_losses.append(test_loss)\n",
    "    test_accuracies.append(test_accuracy)"
   ]
  },
  {
   "cell_type": "code",
   "execution_count": null,
   "metadata": {
    "id": "QKFbl4unF_6t"
   },
   "outputs": [],
   "source": []
  },
  {
   "cell_type": "code",
   "execution_count": 11,
   "metadata": {
    "id": "AwIj3vrnF_8_"
   },
   "outputs": [
    {
     "data": {
      "text/plain": [
       "<matplotlib.legend.Legend at 0x7f36f303feb0>"
      ]
     },
     "execution_count": 11,
     "metadata": {},
     "output_type": "execute_result"
    },
    {
     "data": {
      "image/png": "[encoded data removed]",
      "text/plain": [
       "<Figure size 640x480 with 1 Axes>"
      ]
     },
     "metadata": {},
     "output_type": "display_data"
    }
   ],
   "source": [
    "import matplotlib.pyplot as plt\n",
    "\n",
    "plt.plot(train_losses, label='train_losses')\n",
    "plt.plot(test_losses, label='test_losses')\n",
    "plt.legend()"
   ]
  },
  {
   "cell_type": "code",
   "execution_count": 12,
   "metadata": {
    "id": "eh3iDa8lF__H"
   },
   "outputs": [
    {
     "data": {
      "text/plain": [
       "<matplotlib.legend.Legend at 0x7f36cfc52980>"
      ]
     },
     "execution_count": 12,
     "metadata": {},
     "output_type": "execute_result"
    },
    {
     "data": {
      "image/png": "[encoded data removed]",
      "text/plain": [
       "<Figure size 640x480 with 1 Axes>"
      ]
     },
     "metadata": {},
     "output_type": "display_data"
    }
   ],
   "source": [
    "import matplotlib.pyplot as plt\n",
    "\n",
    "plt.plot(train_accuracies, label='train_accuracy')\n",
    "plt.plot(test_accuracies, label='test_accuracy')\n",
    "plt.legend()"
   ]
  },
  {
   "cell_type": "code",
   "execution_count": null,
   "metadata": {},
   "outputs": [],
   "source": []
  },
  {
   "cell_type": "code",
   "execution_count": 13,
   "metadata": {},
   "outputs": [
    {
     "data": {
      "text/plain": [
       "<matplotlib.legend.Legend at 0x7f36941eb250>"
      ]
     },
     "execution_count": 13,
     "metadata": {},
     "output_type": "execute_result"
    }
   ],
   "source": [
    "import matplotlib.pyplot as plt\n",
    "%matplotlib qt\n",
    "\n",
    "plt.plot(train_losses, label='train_losses')\n",
    "plt.plot(test_losses, label='test_losses')\n",
    "plt.legend()"
   ]
  },
  {
   "cell_type": "code",
   "execution_count": 14,
   "metadata": {},
   "outputs": [
    {
     "data": {
      "text/plain": [
       "<matplotlib.legend.Legend at 0x7f366377ed70>"
      ]
     },
     "execution_count": 14,
     "metadata": {},
     "output_type": "execute_result"
    }
   ],
   "source": [
    "import matplotlib.pyplot as plt\n",
    "%matplotlib qt\n",
    "\n",
    "plt.plot(train_accuracies, label='train_accuracy')\n",
    "plt.plot(test_accuracies, label='test_accuracy')\n",
    "plt.legend()"
   ]
  },
  {
   "cell_type": "code",
   "execution_count": null,
   "metadata": {},
   "outputs": [],
   "source": []
  }
 ],
 "metadata": {
  "accelerator": "GPU",
  "colab": {
   "gpuType": "T4",
   "provenance": []
  },
  "kernelspec": {
   "display_name": "Python 3 (ipykernel)",
   "language": "python",
   "name": "python3"
  },
  "language_info": {
   "codemirror_mode": {
    "name": "ipython",
    "version": 3
   },
   "file_extension": ".py",
   "mimetype": "text/x-python",
   "name": "python",
   "nbconvert_exporter": "python",
   "pygments_lexer": "ipython3",
   "version": "3.10.13"
  }
 },
 "nbformat": 4,
 "nbformat_minor": 4
}
