{
 "cells": [
  {
   "cell_type": "code",
   "execution_count": 1,
   "metadata": {},
   "outputs": [],
   "source": [
    "import torch\n",
    "import torch.nn as nn\n",
    "import torch.optim as optim\n",
    "import torchvision\n",
    "import torchvision.transforms as transforms\n",
    "\n",
    "# Check if GPU is available\n",
    "device = torch.device(\"cuda:0\" if torch.cuda.is_available() else \"cpu\")"
   ]
  },
  {
   "cell_type": "code",
   "execution_count": null,
   "metadata": {},
   "outputs": [],
   "source": []
  },
  {
   "cell_type": "markdown",
   "metadata": {},
   "source": [
    "#### Data"
   ]
  },
  {
   "cell_type": "code",
   "execution_count": 2,
   "metadata": {},
   "outputs": [],
   "source": [
    "# Load CFashionMNIST dataset\n",
    "transform = transforms.Compose([transforms.ToTensor(), transforms.Normalize((0.5,), (0.5,))])\n",
    "\n",
    "trainset = torchvision.datasets.FashionMNIST(root='data', train=True, download=True, transform=transform)\n",
    "trainloader = torch.utils.data.DataLoader(trainset, batch_size=512, num_workers=3, shuffle=True)\n",
    "\n",
    "testset = torchvision.datasets.FashionMNIST(root='data', train=False, download=True, transform=transform)\n",
    "testloader = torch.utils.data.DataLoader(testset, batch_size=512, num_workers=3, shuffle=False)"
   ]
  },
  {
   "cell_type": "code",
   "execution_count": 3,
   "metadata": {},
   "outputs": [
    {
     "data": {
      "image/png": "[encoded data removed]",
      "text/plain": [
       "<Figure size 640x480 with 1 Axes>"
      ]
     },
     "metadata": {},
     "output_type": "display_data"
    }
   ],
   "source": [
    "import matplotlib.pyplot as plt\n",
    "import numpy as np\n",
    "\n",
    "# Function to display the images\n",
    "def imshow(img):\n",
    "    img = img*0.5 + 0.5\n",
    "    np_img = img.numpy()\n",
    "    plt.imshow(np.transpose(np_img, (1, 2, 0)))\n",
    "    plt.show()\n",
    "\n",
    "for i, (images, labels) in enumerate(trainloader, 0):\n",
    "    # Plot some images\n",
    "    imshow(torchvision.utils.make_grid(images[:8]))  # Display 8 images from the batch\n",
    "    break"
   ]
  },
  {
   "cell_type": "code",
   "execution_count": null,
   "metadata": {},
   "outputs": [],
   "source": []
  },
  {
   "cell_type": "markdown",
   "metadata": {},
   "source": [
    "#### Model"
   ]
  },
  {
   "cell_type": "code",
   "execution_count": 4,
   "metadata": {},
   "outputs": [
    {
     "name": "stdout",
     "output_type": "stream",
     "text": [
      "Sequential(\n",
      "  (0): Flatten(start_dim=1, end_dim=-1)\n",
      "  (1): Linear(in_features=784, out_features=256, bias=True)\n",
      "  (2): Sigmoid()\n",
      "  (3): Linear(in_features=256, out_features=10, bias=True)\n",
      ")\n"
     ]
    }
   ],
   "source": [
    "model = nn.Sequential(\n",
    "    nn.Flatten(), \n",
    "    nn.Linear(784, 256),\n",
    "    nn.Sigmoid(),\n",
    "    nn.Linear(256, 10)\n",
    ")\n",
    "model = model.to(device)\n",
    "\n",
    "print(model)"
   ]
  },
  {
   "cell_type": "code",
   "execution_count": 5,
   "metadata": {},
   "outputs": [
    {
     "name": "stdout",
     "output_type": "stream",
     "text": [
      "torch.Size([5, 10])\n"
     ]
    }
   ],
   "source": [
    "# Generating a random tensor\n",
    "input_tensor = torch.rand(5, 28, 28).to(device)\n",
    "\n",
    "# Feeding the tensor into the model\n",
    "output = model(input_tensor)\n",
    "print(output.shape)"
   ]
  },
  {
   "cell_type": "code",
   "execution_count": null,
   "metadata": {},
   "outputs": [],
   "source": []
  },
  {
   "cell_type": "markdown",
   "metadata": {},
   "source": [
    "#### Loss, Optimizer, and Evaluation Function"
   ]
  },
  {
   "cell_type": "code",
   "execution_count": 6,
   "metadata": {},
   "outputs": [],
   "source": [
    "criterion = nn.CrossEntropyLoss()\n",
    "optimizer = optim.SGD(model.parameters(), lr=0.01)"
   ]
  },
  {
   "cell_type": "code",
   "execution_count": 7,
   "metadata": {},
   "outputs": [],
   "source": [
    "# Function to compute loss and accuracy for test set\n",
    "def evaluate(model, testloader, criterion):\n",
    "    model.eval()\n",
    "    test_loss = 0.0\n",
    "    correct = 0\n",
    "    total = 0\n",
    "    with torch.no_grad():\n",
    "        for images, labels in testloader:\n",
    "            # Move inputs and labels to the device\n",
    "            images, labels = images.to(device), labels.to(device)\n",
    "\n",
    "            outputs = model(images)\n",
    "            loss = criterion(outputs, labels)\n",
    "            test_loss += loss.item()\n",
    "            \n",
    "            _, predicted = torch.max(outputs.data, 1)\n",
    "            total += labels.size(0)\n",
    "            correct += (predicted == labels).sum().item()\n",
    "\n",
    "    accuracy = 100 * correct / total\n",
    "    test_loss = test_loss / len(testloader)\n",
    "    return test_loss, accuracy"
   ]
  },
  {
   "cell_type": "code",
   "execution_count": 8,
   "metadata": {},
   "outputs": [
    {
     "name": "stdout",
     "output_type": "stream",
     "text": [
      "test_loss: 2.3661913752555845\n",
      "test_accuracy: 10.0\n"
     ]
    }
   ],
   "source": [
    "test_loss, test_accuracy = evaluate(model, testloader, criterion)\n",
    "print(f'test_loss: {test_loss}')\n",
    "print(f'test_accuracy: {test_accuracy}')"
   ]
  },
  {
   "cell_type": "code",
   "execution_count": null,
   "metadata": {},
   "outputs": [],
   "source": []
  },
  {
   "cell_type": "markdown",
   "metadata": {},
   "source": [
    "#### Train"
   ]
  },
  {
   "cell_type": "code",
   "execution_count": 9,
   "metadata": {},
   "outputs": [],
   "source": [
    "# some parameter\n",
    "train_losses = []\n",
    "train_accuracies = []\n",
    "test_losses = []\n",
    "test_accuracies = []\n",
    "max_epoch = 400"
   ]
  },
  {
   "cell_type": "code",
   "execution_count": 10,
   "metadata": {
    "colab": {
     "base_uri": "https://localhost:8080/"
    },
    "id": "tYwXeSOOF_4Z",
    "outputId": "a4c62a4a-267f-4101-ce96-662cc23cdbe0"
   },
   "outputs": [
    {
     "name": "stdout",
     "output_type": "stream",
     "text": [
      "Epoch [1/400], Loss: 2.1880, Accuracy: 40.17%, Test Loss: 2.0462, Test Accuracy: 58.84%\n",
      "Epoch [2/400], Loss: 1.9034, Accuracy: 60.12%, Test Loss: 1.7623, Test Accuracy: 63.97%\n",
      "Epoch [3/400], Loss: 1.6341, Accuracy: 64.38%, Test Loss: 1.5214, Test Accuracy: 62.73%\n",
      "Epoch [4/400], Loss: 1.4248, Accuracy: 66.82%, Test Loss: 1.3452, Test Accuracy: 66.60%\n",
      "Epoch [5/400], Loss: 1.2750, Accuracy: 68.64%, Test Loss: 1.2187, Test Accuracy: 68.55%\n",
      "Epoch [6/400], Loss: 1.1648, Accuracy: 69.89%, Test Loss: 1.1236, Test Accuracy: 70.02%\n",
      "Epoch [7/400], Loss: 1.0795, Accuracy: 70.98%, Test Loss: 1.0488, Test Accuracy: 70.77%\n",
      "Epoch [8/400], Loss: 1.0106, Accuracy: 71.72%, Test Loss: 0.9886, Test Accuracy: 71.54%\n",
      "Epoch [9/400], Loss: 0.9565, Accuracy: 72.34%, Test Loss: 0.9395, Test Accuracy: 71.85%\n",
      "Epoch [10/400], Loss: 0.9108, Accuracy: 72.89%, Test Loss: 0.8990, Test Accuracy: 72.39%\n",
      "Epoch [11/400], Loss: 0.8727, Accuracy: 73.31%, Test Loss: 0.8648, Test Accuracy: 72.97%\n",
      "Epoch [12/400], Loss: 0.8408, Accuracy: 73.77%, Test Loss: 0.8363, Test Accuracy: 73.36%\n",
      "Epoch [13/400], Loss: 0.8126, Accuracy: 74.11%, Test Loss: 0.8113, Test Accuracy: 73.89%\n",
      "Epoch [14/400], Loss: 0.7894, Accuracy: 74.44%, Test Loss: 0.7902, Test Accuracy: 74.03%\n",
      "Epoch [15/400], Loss: 0.7695, Accuracy: 74.83%, Test Loss: 0.7716, Test Accuracy: 74.19%\n",
      "Epoch [16/400], Loss: 0.7518, Accuracy: 75.04%, Test Loss: 0.7555, Test Accuracy: 74.70%\n",
      "Epoch [17/400], Loss: 0.7362, Accuracy: 75.33%, Test Loss: 0.7410, Test Accuracy: 74.76%\n",
      "Epoch [18/400], Loss: 0.7224, Accuracy: 75.58%, Test Loss: 0.7280, Test Accuracy: 74.96%\n",
      "Epoch [19/400], Loss: 0.7083, Accuracy: 75.81%, Test Loss: 0.7163, Test Accuracy: 75.25%\n",
      "Epoch [20/400], Loss: 0.6973, Accuracy: 76.03%, Test Loss: 0.7061, Test Accuracy: 75.54%\n",
      "Epoch [21/400], Loss: 0.6865, Accuracy: 76.27%, Test Loss: 0.6959, Test Accuracy: 75.63%\n",
      "Epoch [22/400], Loss: 0.6776, Accuracy: 76.51%, Test Loss: 0.6869, Test Accuracy: 75.89%\n",
      "Epoch [23/400], Loss: 0.6685, Accuracy: 76.70%, Test Loss: 0.6786, Test Accuracy: 76.08%\n",
      "Epoch [24/400], Loss: 0.6594, Accuracy: 76.94%, Test Loss: 0.6707, Test Accuracy: 76.26%\n",
      "Epoch [25/400], Loss: 0.6520, Accuracy: 77.17%, Test Loss: 0.6636, Test Accuracy: 76.44%\n",
      "Epoch [26/400], Loss: 0.6450, Accuracy: 77.41%, Test Loss: 0.6569, Test Accuracy: 76.58%\n",
      "Epoch [27/400], Loss: 0.6380, Accuracy: 77.58%, Test Loss: 0.6503, Test Accuracy: 76.84%\n",
      "Epoch [28/400], Loss: 0.6309, Accuracy: 77.79%, Test Loss: 0.6443, Test Accuracy: 77.15%\n",
      "Epoch [29/400], Loss: 0.6253, Accuracy: 78.02%, Test Loss: 0.6386, Test Accuracy: 77.26%\n",
      "Epoch [30/400], Loss: 0.6200, Accuracy: 78.18%, Test Loss: 0.6332, Test Accuracy: 77.42%\n",
      "Epoch [31/400], Loss: 0.6140, Accuracy: 78.42%, Test Loss: 0.6280, Test Accuracy: 77.53%\n",
      "Epoch [32/400], Loss: 0.6086, Accuracy: 78.58%, Test Loss: 0.6231, Test Accuracy: 77.75%\n",
      "Epoch [33/400], Loss: 0.6049, Accuracy: 78.80%, Test Loss: 0.6183, Test Accuracy: 77.94%\n",
      "Epoch [34/400], Loss: 0.5990, Accuracy: 78.94%, Test Loss: 0.6136, Test Accuracy: 78.11%\n",
      "Epoch [35/400], Loss: 0.5932, Accuracy: 79.16%, Test Loss: 0.6094, Test Accuracy: 78.25%\n",
      "Epoch [36/400], Loss: 0.5891, Accuracy: 79.27%, Test Loss: 0.6054, Test Accuracy: 78.47%\n",
      "Epoch [37/400], Loss: 0.5849, Accuracy: 79.42%, Test Loss: 0.6016, Test Accuracy: 78.65%\n",
      "Epoch [38/400], Loss: 0.5820, Accuracy: 79.62%, Test Loss: 0.5977, Test Accuracy: 78.76%\n",
      "Epoch [39/400], Loss: 0.5767, Accuracy: 79.79%, Test Loss: 0.5938, Test Accuracy: 78.92%\n",
      "Epoch [40/400], Loss: 0.5729, Accuracy: 79.86%, Test Loss: 0.5904, Test Accuracy: 79.02%\n",
      "Epoch [41/400], Loss: 0.5709, Accuracy: 80.07%, Test Loss: 0.5870, Test Accuracy: 79.16%\n",
      "Epoch [42/400], Loss: 0.5663, Accuracy: 80.16%, Test Loss: 0.5837, Test Accuracy: 79.25%\n",
      "Epoch [43/400], Loss: 0.5626, Accuracy: 80.31%, Test Loss: 0.5806, Test Accuracy: 79.33%\n",
      "Epoch [44/400], Loss: 0.5597, Accuracy: 80.41%, Test Loss: 0.5777, Test Accuracy: 79.54%\n",
      "Epoch [45/400], Loss: 0.5562, Accuracy: 80.53%, Test Loss: 0.5748, Test Accuracy: 79.65%\n",
      "Epoch [46/400], Loss: 0.5532, Accuracy: 80.60%, Test Loss: 0.5721, Test Accuracy: 79.63%\n",
      "Epoch [47/400], Loss: 0.5492, Accuracy: 80.76%, Test Loss: 0.5693, Test Accuracy: 79.85%\n",
      "Epoch [48/400], Loss: 0.5477, Accuracy: 80.89%, Test Loss: 0.5665, Test Accuracy: 79.82%\n",
      "Epoch [49/400], Loss: 0.5452, Accuracy: 80.97%, Test Loss: 0.5641, Test Accuracy: 79.91%\n",
      "Epoch [50/400], Loss: 0.5425, Accuracy: 81.03%, Test Loss: 0.5619, Test Accuracy: 80.01%\n",
      "Epoch [51/400], Loss: 0.5389, Accuracy: 81.16%, Test Loss: 0.5596, Test Accuracy: 80.14%\n",
      "Epoch [52/400], Loss: 0.5359, Accuracy: 81.24%, Test Loss: 0.5570, Test Accuracy: 80.23%\n",
      "Epoch [53/400], Loss: 0.5353, Accuracy: 81.34%, Test Loss: 0.5551, Test Accuracy: 80.24%\n",
      "Epoch [54/400], Loss: 0.5314, Accuracy: 81.47%, Test Loss: 0.5528, Test Accuracy: 80.40%\n",
      "Epoch [55/400], Loss: 0.5300, Accuracy: 81.56%, Test Loss: 0.5509, Test Accuracy: 80.48%\n",
      "Epoch [56/400], Loss: 0.5280, Accuracy: 81.63%, Test Loss: 0.5488, Test Accuracy: 80.52%\n",
      "Epoch [57/400], Loss: 0.5254, Accuracy: 81.69%, Test Loss: 0.5467, Test Accuracy: 80.52%\n",
      "Epoch [58/400], Loss: 0.5238, Accuracy: 81.76%, Test Loss: 0.5449, Test Accuracy: 80.61%\n",
      "Epoch [59/400], Loss: 0.5211, Accuracy: 81.85%, Test Loss: 0.5435, Test Accuracy: 80.73%\n",
      "Epoch [60/400], Loss: 0.5189, Accuracy: 81.88%, Test Loss: 0.5411, Test Accuracy: 80.58%\n",
      "Epoch [61/400], Loss: 0.5175, Accuracy: 81.97%, Test Loss: 0.5394, Test Accuracy: 80.74%\n",
      "Epoch [62/400], Loss: 0.5152, Accuracy: 82.07%, Test Loss: 0.5380, Test Accuracy: 80.82%\n",
      "Epoch [63/400], Loss: 0.5138, Accuracy: 82.08%, Test Loss: 0.5363, Test Accuracy: 80.89%\n",
      "Epoch [64/400], Loss: 0.5114, Accuracy: 82.13%, Test Loss: 0.5347, Test Accuracy: 80.90%\n",
      "Epoch [65/400], Loss: 0.5091, Accuracy: 82.23%, Test Loss: 0.5334, Test Accuracy: 80.95%\n",
      "Epoch [66/400], Loss: 0.5084, Accuracy: 82.28%, Test Loss: 0.5321, Test Accuracy: 81.08%\n",
      "Epoch [67/400], Loss: 0.5060, Accuracy: 82.31%, Test Loss: 0.5303, Test Accuracy: 81.05%\n",
      "Epoch [68/400], Loss: 0.5056, Accuracy: 82.39%, Test Loss: 0.5289, Test Accuracy: 81.03%\n",
      "Epoch [69/400], Loss: 0.5028, Accuracy: 82.42%, Test Loss: 0.5272, Test Accuracy: 81.16%\n",
      "Epoch [70/400], Loss: 0.5026, Accuracy: 82.50%, Test Loss: 0.5259, Test Accuracy: 81.22%\n",
      "Epoch [71/400], Loss: 0.5007, Accuracy: 82.58%, Test Loss: 0.5247, Test Accuracy: 81.19%\n",
      "Epoch [72/400], Loss: 0.4989, Accuracy: 82.60%, Test Loss: 0.5241, Test Accuracy: 81.27%\n",
      "Epoch [73/400], Loss: 0.4972, Accuracy: 82.62%, Test Loss: 0.5221, Test Accuracy: 81.29%\n",
      "Epoch [74/400], Loss: 0.4957, Accuracy: 82.66%, Test Loss: 0.5208, Test Accuracy: 81.22%\n",
      "Epoch [75/400], Loss: 0.4946, Accuracy: 82.79%, Test Loss: 0.5194, Test Accuracy: 81.42%\n",
      "Epoch [76/400], Loss: 0.4931, Accuracy: 82.78%, Test Loss: 0.5184, Test Accuracy: 81.32%\n",
      "Epoch [77/400], Loss: 0.4922, Accuracy: 82.78%, Test Loss: 0.5175, Test Accuracy: 81.58%\n",
      "Epoch [78/400], Loss: 0.4896, Accuracy: 82.82%, Test Loss: 0.5161, Test Accuracy: 81.57%\n",
      "Epoch [79/400], Loss: 0.4889, Accuracy: 82.92%, Test Loss: 0.5153, Test Accuracy: 81.54%\n",
      "Epoch [80/400], Loss: 0.4900, Accuracy: 82.92%, Test Loss: 0.5147, Test Accuracy: 81.61%\n",
      "Epoch [81/400], Loss: 0.4875, Accuracy: 82.95%, Test Loss: 0.5128, Test Accuracy: 81.59%\n",
      "Epoch [82/400], Loss: 0.4855, Accuracy: 83.00%, Test Loss: 0.5121, Test Accuracy: 81.66%\n",
      "Epoch [83/400], Loss: 0.4844, Accuracy: 83.07%, Test Loss: 0.5107, Test Accuracy: 81.75%\n",
      "Epoch [84/400], Loss: 0.4833, Accuracy: 83.10%, Test Loss: 0.5098, Test Accuracy: 81.70%\n",
      "Epoch [85/400], Loss: 0.4823, Accuracy: 83.18%, Test Loss: 0.5090, Test Accuracy: 81.80%\n",
      "Epoch [86/400], Loss: 0.4810, Accuracy: 83.15%, Test Loss: 0.5081, Test Accuracy: 81.69%\n",
      "Epoch [87/400], Loss: 0.4807, Accuracy: 83.22%, Test Loss: 0.5071, Test Accuracy: 81.74%\n",
      "Epoch [88/400], Loss: 0.4795, Accuracy: 83.25%, Test Loss: 0.5059, Test Accuracy: 81.80%\n",
      "Epoch [89/400], Loss: 0.4776, Accuracy: 83.30%, Test Loss: 0.5050, Test Accuracy: 81.89%\n",
      "Epoch [90/400], Loss: 0.4775, Accuracy: 83.33%, Test Loss: 0.5046, Test Accuracy: 81.96%\n",
      "Epoch [91/400], Loss: 0.4768, Accuracy: 83.38%, Test Loss: 0.5037, Test Accuracy: 81.87%\n",
      "Epoch [92/400], Loss: 0.4743, Accuracy: 83.40%, Test Loss: 0.5023, Test Accuracy: 81.86%\n",
      "Epoch [93/400], Loss: 0.4743, Accuracy: 83.44%, Test Loss: 0.5012, Test Accuracy: 82.08%\n",
      "Epoch [94/400], Loss: 0.4727, Accuracy: 83.48%, Test Loss: 0.5005, Test Accuracy: 82.05%\n",
      "Epoch [95/400], Loss: 0.4709, Accuracy: 83.50%, Test Loss: 0.4996, Test Accuracy: 82.12%\n",
      "Epoch [96/400], Loss: 0.4723, Accuracy: 83.53%, Test Loss: 0.4991, Test Accuracy: 82.09%\n",
      "Epoch [97/400], Loss: 0.4707, Accuracy: 83.60%, Test Loss: 0.4978, Test Accuracy: 82.01%\n",
      "Epoch [98/400], Loss: 0.4688, Accuracy: 83.63%, Test Loss: 0.4972, Test Accuracy: 82.15%\n",
      "Epoch [99/400], Loss: 0.4683, Accuracy: 83.66%, Test Loss: 0.4966, Test Accuracy: 82.40%\n",
      "Epoch [100/400], Loss: 0.4676, Accuracy: 83.72%, Test Loss: 0.4959, Test Accuracy: 82.32%\n",
      "Epoch [101/400], Loss: 0.4664, Accuracy: 83.74%, Test Loss: 0.4951, Test Accuracy: 82.23%\n",
      "Epoch [102/400], Loss: 0.4657, Accuracy: 83.75%, Test Loss: 0.4940, Test Accuracy: 82.37%\n",
      "Epoch [103/400], Loss: 0.4656, Accuracy: 83.76%, Test Loss: 0.4934, Test Accuracy: 82.29%\n",
      "Epoch [104/400], Loss: 0.4632, Accuracy: 83.84%, Test Loss: 0.4928, Test Accuracy: 82.33%\n",
      "Epoch [105/400], Loss: 0.4625, Accuracy: 83.83%, Test Loss: 0.4920, Test Accuracy: 82.38%\n",
      "Epoch [106/400], Loss: 0.4627, Accuracy: 83.88%, Test Loss: 0.4913, Test Accuracy: 82.29%\n",
      "Epoch [107/400], Loss: 0.4613, Accuracy: 83.87%, Test Loss: 0.4909, Test Accuracy: 82.47%\n",
      "Epoch [108/400], Loss: 0.4619, Accuracy: 83.88%, Test Loss: 0.4897, Test Accuracy: 82.48%\n",
      "Epoch [109/400], Loss: 0.4598, Accuracy: 83.97%, Test Loss: 0.4889, Test Accuracy: 82.47%\n",
      "Epoch [110/400], Loss: 0.4600, Accuracy: 83.95%, Test Loss: 0.4884, Test Accuracy: 82.49%\n",
      "Epoch [111/400], Loss: 0.4586, Accuracy: 84.02%, Test Loss: 0.4890, Test Accuracy: 82.50%\n",
      "Epoch [112/400], Loss: 0.4584, Accuracy: 84.03%, Test Loss: 0.4873, Test Accuracy: 82.48%\n",
      "Epoch [113/400], Loss: 0.4582, Accuracy: 84.07%, Test Loss: 0.4864, Test Accuracy: 82.62%\n",
      "Epoch [114/400], Loss: 0.4565, Accuracy: 84.11%, Test Loss: 0.4857, Test Accuracy: 82.65%\n",
      "Epoch [115/400], Loss: 0.4556, Accuracy: 84.12%, Test Loss: 0.4851, Test Accuracy: 82.54%\n",
      "Epoch [116/400], Loss: 0.4552, Accuracy: 84.16%, Test Loss: 0.4844, Test Accuracy: 82.66%\n",
      "Epoch [117/400], Loss: 0.4558, Accuracy: 84.18%, Test Loss: 0.4841, Test Accuracy: 82.69%\n",
      "Epoch [118/400], Loss: 0.4535, Accuracy: 84.15%, Test Loss: 0.4830, Test Accuracy: 82.67%\n",
      "Epoch [119/400], Loss: 0.4532, Accuracy: 84.22%, Test Loss: 0.4825, Test Accuracy: 82.59%\n",
      "Epoch [120/400], Loss: 0.4517, Accuracy: 84.24%, Test Loss: 0.4821, Test Accuracy: 82.72%\n",
      "Epoch [121/400], Loss: 0.4504, Accuracy: 84.25%, Test Loss: 0.4814, Test Accuracy: 82.74%\n",
      "Epoch [122/400], Loss: 0.4504, Accuracy: 84.23%, Test Loss: 0.4806, Test Accuracy: 82.78%\n",
      "Epoch [123/400], Loss: 0.4509, Accuracy: 84.31%, Test Loss: 0.4801, Test Accuracy: 82.79%\n",
      "Epoch [124/400], Loss: 0.4498, Accuracy: 84.32%, Test Loss: 0.4795, Test Accuracy: 82.71%\n",
      "Epoch [125/400], Loss: 0.4481, Accuracy: 84.33%, Test Loss: 0.4792, Test Accuracy: 82.83%\n",
      "Epoch [126/400], Loss: 0.4485, Accuracy: 84.36%, Test Loss: 0.4789, Test Accuracy: 82.80%\n",
      "Epoch [127/400], Loss: 0.4478, Accuracy: 84.39%, Test Loss: 0.4783, Test Accuracy: 82.92%\n",
      "Epoch [128/400], Loss: 0.4473, Accuracy: 84.37%, Test Loss: 0.4775, Test Accuracy: 82.91%\n",
      "Epoch [129/400], Loss: 0.4459, Accuracy: 84.44%, Test Loss: 0.4769, Test Accuracy: 82.86%\n",
      "Epoch [130/400], Loss: 0.4455, Accuracy: 84.40%, Test Loss: 0.4767, Test Accuracy: 82.91%\n",
      "Epoch [131/400], Loss: 0.4454, Accuracy: 84.44%, Test Loss: 0.4761, Test Accuracy: 82.94%\n",
      "Epoch [132/400], Loss: 0.4452, Accuracy: 84.48%, Test Loss: 0.4751, Test Accuracy: 83.00%\n",
      "Epoch [133/400], Loss: 0.4445, Accuracy: 84.53%, Test Loss: 0.4747, Test Accuracy: 82.95%\n",
      "Epoch [134/400], Loss: 0.4436, Accuracy: 84.53%, Test Loss: 0.4741, Test Accuracy: 82.89%\n",
      "Epoch [135/400], Loss: 0.4420, Accuracy: 84.51%, Test Loss: 0.4737, Test Accuracy: 82.99%\n",
      "Epoch [136/400], Loss: 0.4423, Accuracy: 84.53%, Test Loss: 0.4735, Test Accuracy: 83.02%\n",
      "Epoch [137/400], Loss: 0.4418, Accuracy: 84.57%, Test Loss: 0.4730, Test Accuracy: 82.98%\n",
      "Epoch [138/400], Loss: 0.4410, Accuracy: 84.58%, Test Loss: 0.4721, Test Accuracy: 83.03%\n",
      "Epoch [139/400], Loss: 0.4413, Accuracy: 84.60%, Test Loss: 0.4720, Test Accuracy: 83.06%\n",
      "Epoch [140/400], Loss: 0.4394, Accuracy: 84.64%, Test Loss: 0.4710, Test Accuracy: 83.09%\n",
      "Epoch [141/400], Loss: 0.4382, Accuracy: 84.65%, Test Loss: 0.4707, Test Accuracy: 83.20%\n",
      "Epoch [142/400], Loss: 0.4375, Accuracy: 84.65%, Test Loss: 0.4702, Test Accuracy: 83.09%\n",
      "Epoch [143/400], Loss: 0.4375, Accuracy: 84.65%, Test Loss: 0.4696, Test Accuracy: 83.18%\n",
      "Epoch [144/400], Loss: 0.4375, Accuracy: 84.70%, Test Loss: 0.4691, Test Accuracy: 83.08%\n",
      "Epoch [145/400], Loss: 0.4366, Accuracy: 84.68%, Test Loss: 0.4688, Test Accuracy: 83.16%\n",
      "Epoch [146/400], Loss: 0.4355, Accuracy: 84.72%, Test Loss: 0.4684, Test Accuracy: 83.24%\n",
      "Epoch [147/400], Loss: 0.4356, Accuracy: 84.77%, Test Loss: 0.4680, Test Accuracy: 83.20%\n",
      "Epoch [148/400], Loss: 0.4353, Accuracy: 84.78%, Test Loss: 0.4682, Test Accuracy: 83.12%\n",
      "Epoch [149/400], Loss: 0.4347, Accuracy: 84.83%, Test Loss: 0.4671, Test Accuracy: 83.35%\n",
      "Epoch [150/400], Loss: 0.4340, Accuracy: 84.80%, Test Loss: 0.4666, Test Accuracy: 83.23%\n",
      "Epoch [151/400], Loss: 0.4336, Accuracy: 84.80%, Test Loss: 0.4659, Test Accuracy: 83.27%\n",
      "Epoch [152/400], Loss: 0.4339, Accuracy: 84.81%, Test Loss: 0.4660, Test Accuracy: 83.31%\n",
      "Epoch [153/400], Loss: 0.4328, Accuracy: 84.83%, Test Loss: 0.4651, Test Accuracy: 83.28%\n",
      "Epoch [154/400], Loss: 0.4324, Accuracy: 84.84%, Test Loss: 0.4650, Test Accuracy: 83.25%\n",
      "Epoch [155/400], Loss: 0.4325, Accuracy: 84.84%, Test Loss: 0.4644, Test Accuracy: 83.33%\n",
      "Epoch [156/400], Loss: 0.4315, Accuracy: 84.91%, Test Loss: 0.4646, Test Accuracy: 83.29%\n",
      "Epoch [157/400], Loss: 0.4315, Accuracy: 84.89%, Test Loss: 0.4635, Test Accuracy: 83.41%\n",
      "Epoch [158/400], Loss: 0.4315, Accuracy: 84.89%, Test Loss: 0.4631, Test Accuracy: 83.34%\n",
      "Epoch [159/400], Loss: 0.4292, Accuracy: 84.94%, Test Loss: 0.4626, Test Accuracy: 83.40%\n",
      "Epoch [160/400], Loss: 0.4294, Accuracy: 84.96%, Test Loss: 0.4622, Test Accuracy: 83.31%\n",
      "Epoch [161/400], Loss: 0.4291, Accuracy: 84.97%, Test Loss: 0.4621, Test Accuracy: 83.43%\n",
      "Epoch [162/400], Loss: 0.4293, Accuracy: 84.98%, Test Loss: 0.4618, Test Accuracy: 83.45%\n",
      "Epoch [163/400], Loss: 0.4285, Accuracy: 85.00%, Test Loss: 0.4611, Test Accuracy: 83.41%\n",
      "Epoch [164/400], Loss: 0.4275, Accuracy: 85.03%, Test Loss: 0.4606, Test Accuracy: 83.36%\n",
      "Epoch [165/400], Loss: 0.4270, Accuracy: 85.07%, Test Loss: 0.4604, Test Accuracy: 83.54%\n",
      "Epoch [166/400], Loss: 0.4273, Accuracy: 85.04%, Test Loss: 0.4598, Test Accuracy: 83.42%\n",
      "Epoch [167/400], Loss: 0.4268, Accuracy: 85.04%, Test Loss: 0.4595, Test Accuracy: 83.41%\n",
      "Epoch [168/400], Loss: 0.4264, Accuracy: 85.08%, Test Loss: 0.4592, Test Accuracy: 83.57%\n",
      "Epoch [169/400], Loss: 0.4263, Accuracy: 85.09%, Test Loss: 0.4597, Test Accuracy: 83.36%\n",
      "Epoch [170/400], Loss: 0.4246, Accuracy: 85.11%, Test Loss: 0.4586, Test Accuracy: 83.54%\n",
      "Epoch [171/400], Loss: 0.4243, Accuracy: 85.14%, Test Loss: 0.4585, Test Accuracy: 83.46%\n",
      "Epoch [172/400], Loss: 0.4241, Accuracy: 85.16%, Test Loss: 0.4574, Test Accuracy: 83.52%\n",
      "Epoch [173/400], Loss: 0.4241, Accuracy: 85.17%, Test Loss: 0.4572, Test Accuracy: 83.61%\n",
      "Epoch [174/400], Loss: 0.4249, Accuracy: 85.17%, Test Loss: 0.4570, Test Accuracy: 83.50%\n",
      "Epoch [175/400], Loss: 0.4231, Accuracy: 85.21%, Test Loss: 0.4565, Test Accuracy: 83.57%\n",
      "Epoch [176/400], Loss: 0.4218, Accuracy: 85.17%, Test Loss: 0.4562, Test Accuracy: 83.60%\n",
      "Epoch [177/400], Loss: 0.4216, Accuracy: 85.19%, Test Loss: 0.4559, Test Accuracy: 83.55%\n",
      "Epoch [178/400], Loss: 0.4215, Accuracy: 85.25%, Test Loss: 0.4555, Test Accuracy: 83.63%\n",
      "Epoch [179/400], Loss: 0.4209, Accuracy: 85.25%, Test Loss: 0.4554, Test Accuracy: 83.56%\n",
      "Epoch [180/400], Loss: 0.4201, Accuracy: 85.25%, Test Loss: 0.4546, Test Accuracy: 83.62%\n",
      "Epoch [181/400], Loss: 0.4209, Accuracy: 85.30%, Test Loss: 0.4546, Test Accuracy: 83.65%\n",
      "Epoch [182/400], Loss: 0.4201, Accuracy: 85.25%, Test Loss: 0.4537, Test Accuracy: 83.64%\n",
      "Epoch [183/400], Loss: 0.4187, Accuracy: 85.30%, Test Loss: 0.4535, Test Accuracy: 83.68%\n",
      "Epoch [184/400], Loss: 0.4183, Accuracy: 85.31%, Test Loss: 0.4531, Test Accuracy: 83.70%\n",
      "Epoch [185/400], Loss: 0.4182, Accuracy: 85.36%, Test Loss: 0.4528, Test Accuracy: 83.70%\n",
      "Epoch [186/400], Loss: 0.4180, Accuracy: 85.30%, Test Loss: 0.4525, Test Accuracy: 83.70%\n",
      "Epoch [187/400], Loss: 0.4179, Accuracy: 85.33%, Test Loss: 0.4521, Test Accuracy: 83.72%\n",
      "Epoch [188/400], Loss: 0.4178, Accuracy: 85.34%, Test Loss: 0.4517, Test Accuracy: 83.70%\n",
      "Epoch [189/400], Loss: 0.4181, Accuracy: 85.37%, Test Loss: 0.4515, Test Accuracy: 83.69%\n",
      "Epoch [190/400], Loss: 0.4163, Accuracy: 85.35%, Test Loss: 0.4511, Test Accuracy: 83.76%\n",
      "Epoch [191/400], Loss: 0.4163, Accuracy: 85.37%, Test Loss: 0.4508, Test Accuracy: 83.70%\n",
      "Epoch [192/400], Loss: 0.4165, Accuracy: 85.39%, Test Loss: 0.4511, Test Accuracy: 83.77%\n",
      "Epoch [193/400], Loss: 0.4164, Accuracy: 85.46%, Test Loss: 0.4504, Test Accuracy: 83.81%\n",
      "Epoch [194/400], Loss: 0.4151, Accuracy: 85.44%, Test Loss: 0.4498, Test Accuracy: 83.81%\n",
      "Epoch [195/400], Loss: 0.4147, Accuracy: 85.46%, Test Loss: 0.4496, Test Accuracy: 83.77%\n",
      "Epoch [196/400], Loss: 0.4141, Accuracy: 85.47%, Test Loss: 0.4493, Test Accuracy: 83.80%\n",
      "Epoch [197/400], Loss: 0.4142, Accuracy: 85.44%, Test Loss: 0.4489, Test Accuracy: 83.81%\n",
      "Epoch [198/400], Loss: 0.4140, Accuracy: 85.48%, Test Loss: 0.4488, Test Accuracy: 83.87%\n",
      "Epoch [199/400], Loss: 0.4132, Accuracy: 85.52%, Test Loss: 0.4481, Test Accuracy: 83.84%\n",
      "Epoch [200/400], Loss: 0.4133, Accuracy: 85.52%, Test Loss: 0.4484, Test Accuracy: 83.79%\n",
      "Epoch [201/400], Loss: 0.4128, Accuracy: 85.55%, Test Loss: 0.4476, Test Accuracy: 83.79%\n",
      "Epoch [202/400], Loss: 0.4121, Accuracy: 85.54%, Test Loss: 0.4475, Test Accuracy: 83.78%\n",
      "Epoch [203/400], Loss: 0.4114, Accuracy: 85.56%, Test Loss: 0.4470, Test Accuracy: 83.91%\n",
      "Epoch [204/400], Loss: 0.4108, Accuracy: 85.56%, Test Loss: 0.4466, Test Accuracy: 83.91%\n",
      "Epoch [205/400], Loss: 0.4114, Accuracy: 85.58%, Test Loss: 0.4466, Test Accuracy: 83.91%\n",
      "Epoch [206/400], Loss: 0.4109, Accuracy: 85.57%, Test Loss: 0.4464, Test Accuracy: 83.94%\n",
      "Epoch [207/400], Loss: 0.4107, Accuracy: 85.57%, Test Loss: 0.4458, Test Accuracy: 83.91%\n",
      "Epoch [208/400], Loss: 0.4095, Accuracy: 85.60%, Test Loss: 0.4455, Test Accuracy: 83.87%\n",
      "Epoch [209/400], Loss: 0.4093, Accuracy: 85.63%, Test Loss: 0.4454, Test Accuracy: 83.79%\n",
      "Epoch [210/400], Loss: 0.4095, Accuracy: 85.64%, Test Loss: 0.4451, Test Accuracy: 83.91%\n",
      "Epoch [211/400], Loss: 0.4097, Accuracy: 85.67%, Test Loss: 0.4447, Test Accuracy: 83.89%\n",
      "Epoch [212/400], Loss: 0.4084, Accuracy: 85.64%, Test Loss: 0.4445, Test Accuracy: 83.87%\n",
      "Epoch [213/400], Loss: 0.4086, Accuracy: 85.67%, Test Loss: 0.4439, Test Accuracy: 83.93%\n",
      "Epoch [214/400], Loss: 0.4078, Accuracy: 85.72%, Test Loss: 0.4439, Test Accuracy: 83.94%\n",
      "Epoch [215/400], Loss: 0.4074, Accuracy: 85.72%, Test Loss: 0.4435, Test Accuracy: 84.01%\n",
      "Epoch [216/400], Loss: 0.4073, Accuracy: 85.71%, Test Loss: 0.4432, Test Accuracy: 84.02%\n",
      "Epoch [217/400], Loss: 0.4072, Accuracy: 85.71%, Test Loss: 0.4430, Test Accuracy: 83.94%\n",
      "Epoch [218/400], Loss: 0.4071, Accuracy: 85.74%, Test Loss: 0.4428, Test Accuracy: 83.95%\n",
      "Epoch [219/400], Loss: 0.4074, Accuracy: 85.72%, Test Loss: 0.4424, Test Accuracy: 83.95%\n",
      "Epoch [220/400], Loss: 0.4057, Accuracy: 85.75%, Test Loss: 0.4421, Test Accuracy: 84.10%\n",
      "Epoch [221/400], Loss: 0.4058, Accuracy: 85.73%, Test Loss: 0.4421, Test Accuracy: 83.94%\n",
      "Epoch [222/400], Loss: 0.4060, Accuracy: 85.77%, Test Loss: 0.4417, Test Accuracy: 84.07%\n",
      "Epoch [223/400], Loss: 0.4047, Accuracy: 85.79%, Test Loss: 0.4413, Test Accuracy: 84.03%\n",
      "Epoch [224/400], Loss: 0.4056, Accuracy: 85.76%, Test Loss: 0.4409, Test Accuracy: 84.09%\n",
      "Epoch [225/400], Loss: 0.4040, Accuracy: 85.81%, Test Loss: 0.4410, Test Accuracy: 84.06%\n",
      "Epoch [226/400], Loss: 0.4042, Accuracy: 85.79%, Test Loss: 0.4404, Test Accuracy: 84.11%\n",
      "Epoch [227/400], Loss: 0.4046, Accuracy: 85.84%, Test Loss: 0.4401, Test Accuracy: 84.07%\n",
      "Epoch [228/400], Loss: 0.4043, Accuracy: 85.84%, Test Loss: 0.4402, Test Accuracy: 84.08%\n",
      "Epoch [229/400], Loss: 0.4029, Accuracy: 85.83%, Test Loss: 0.4397, Test Accuracy: 84.16%\n",
      "Epoch [230/400], Loss: 0.4031, Accuracy: 85.84%, Test Loss: 0.4396, Test Accuracy: 84.05%\n",
      "Epoch [231/400], Loss: 0.4029, Accuracy: 85.89%, Test Loss: 0.4394, Test Accuracy: 84.12%\n",
      "Epoch [232/400], Loss: 0.4023, Accuracy: 85.86%, Test Loss: 0.4394, Test Accuracy: 84.11%\n",
      "Epoch [233/400], Loss: 0.4016, Accuracy: 85.88%, Test Loss: 0.4389, Test Accuracy: 84.11%\n",
      "Epoch [234/400], Loss: 0.4012, Accuracy: 85.92%, Test Loss: 0.4383, Test Accuracy: 84.11%\n",
      "Epoch [235/400], Loss: 0.4017, Accuracy: 85.90%, Test Loss: 0.4381, Test Accuracy: 84.17%\n",
      "Epoch [236/400], Loss: 0.4015, Accuracy: 85.89%, Test Loss: 0.4381, Test Accuracy: 84.15%\n",
      "Epoch [237/400], Loss: 0.4010, Accuracy: 85.93%, Test Loss: 0.4376, Test Accuracy: 84.15%\n",
      "Epoch [238/400], Loss: 0.4006, Accuracy: 85.92%, Test Loss: 0.4371, Test Accuracy: 84.19%\n",
      "Epoch [239/400], Loss: 0.3996, Accuracy: 85.98%, Test Loss: 0.4371, Test Accuracy: 84.13%\n",
      "Epoch [240/400], Loss: 0.3996, Accuracy: 86.00%, Test Loss: 0.4369, Test Accuracy: 84.15%\n",
      "Epoch [241/400], Loss: 0.4000, Accuracy: 85.96%, Test Loss: 0.4365, Test Accuracy: 84.23%\n",
      "Epoch [242/400], Loss: 0.4000, Accuracy: 86.03%, Test Loss: 0.4360, Test Accuracy: 84.26%\n",
      "Epoch [243/400], Loss: 0.3987, Accuracy: 85.99%, Test Loss: 0.4363, Test Accuracy: 84.18%\n",
      "Epoch [244/400], Loss: 0.3997, Accuracy: 85.94%, Test Loss: 0.4360, Test Accuracy: 84.21%\n",
      "Epoch [245/400], Loss: 0.3989, Accuracy: 86.03%, Test Loss: 0.4359, Test Accuracy: 84.25%\n",
      "Epoch [246/400], Loss: 0.3979, Accuracy: 86.03%, Test Loss: 0.4354, Test Accuracy: 84.29%\n",
      "Epoch [247/400], Loss: 0.3985, Accuracy: 86.00%, Test Loss: 0.4350, Test Accuracy: 84.29%\n",
      "Epoch [248/400], Loss: 0.3985, Accuracy: 86.06%, Test Loss: 0.4351, Test Accuracy: 84.27%\n",
      "Epoch [249/400], Loss: 0.3968, Accuracy: 86.05%, Test Loss: 0.4343, Test Accuracy: 84.35%\n",
      "Epoch [250/400], Loss: 0.3971, Accuracy: 86.07%, Test Loss: 0.4343, Test Accuracy: 84.22%\n",
      "Epoch [251/400], Loss: 0.3966, Accuracy: 86.11%, Test Loss: 0.4340, Test Accuracy: 84.29%\n",
      "Epoch [252/400], Loss: 0.3975, Accuracy: 86.08%, Test Loss: 0.4342, Test Accuracy: 84.39%\n",
      "Epoch [253/400], Loss: 0.3969, Accuracy: 86.09%, Test Loss: 0.4337, Test Accuracy: 84.39%\n",
      "Epoch [254/400], Loss: 0.3961, Accuracy: 86.07%, Test Loss: 0.4330, Test Accuracy: 84.33%\n",
      "Epoch [255/400], Loss: 0.3951, Accuracy: 86.08%, Test Loss: 0.4334, Test Accuracy: 84.35%\n",
      "Epoch [256/400], Loss: 0.3954, Accuracy: 86.12%, Test Loss: 0.4329, Test Accuracy: 84.24%\n",
      "Epoch [257/400], Loss: 0.3942, Accuracy: 86.11%, Test Loss: 0.4326, Test Accuracy: 84.33%\n",
      "Epoch [258/400], Loss: 0.3949, Accuracy: 86.14%, Test Loss: 0.4326, Test Accuracy: 84.28%\n",
      "Epoch [259/400], Loss: 0.3941, Accuracy: 86.15%, Test Loss: 0.4321, Test Accuracy: 84.36%\n",
      "Epoch [260/400], Loss: 0.3944, Accuracy: 86.15%, Test Loss: 0.4319, Test Accuracy: 84.32%\n",
      "Epoch [261/400], Loss: 0.3936, Accuracy: 86.18%, Test Loss: 0.4316, Test Accuracy: 84.41%\n",
      "Epoch [262/400], Loss: 0.3931, Accuracy: 86.19%, Test Loss: 0.4316, Test Accuracy: 84.35%\n",
      "Epoch [263/400], Loss: 0.3931, Accuracy: 86.19%, Test Loss: 0.4309, Test Accuracy: 84.35%\n",
      "Epoch [264/400], Loss: 0.3924, Accuracy: 86.16%, Test Loss: 0.4311, Test Accuracy: 84.38%\n",
      "Epoch [265/400], Loss: 0.3938, Accuracy: 86.18%, Test Loss: 0.4306, Test Accuracy: 84.42%\n",
      "Epoch [266/400], Loss: 0.3927, Accuracy: 86.20%, Test Loss: 0.4305, Test Accuracy: 84.36%\n",
      "Epoch [267/400], Loss: 0.3923, Accuracy: 86.21%, Test Loss: 0.4301, Test Accuracy: 84.37%\n",
      "Epoch [268/400], Loss: 0.3934, Accuracy: 86.22%, Test Loss: 0.4304, Test Accuracy: 84.41%\n",
      "Epoch [269/400], Loss: 0.3913, Accuracy: 86.20%, Test Loss: 0.4296, Test Accuracy: 84.46%\n",
      "Epoch [270/400], Loss: 0.3917, Accuracy: 86.22%, Test Loss: 0.4303, Test Accuracy: 84.34%\n",
      "Epoch [271/400], Loss: 0.3907, Accuracy: 86.27%, Test Loss: 0.4293, Test Accuracy: 84.40%\n",
      "Epoch [272/400], Loss: 0.3904, Accuracy: 86.30%, Test Loss: 0.4293, Test Accuracy: 84.48%\n",
      "Epoch [273/400], Loss: 0.3908, Accuracy: 86.28%, Test Loss: 0.4291, Test Accuracy: 84.43%\n",
      "Epoch [274/400], Loss: 0.3896, Accuracy: 86.31%, Test Loss: 0.4289, Test Accuracy: 84.43%\n",
      "Epoch [275/400], Loss: 0.3913, Accuracy: 86.30%, Test Loss: 0.4286, Test Accuracy: 84.47%\n",
      "Epoch [276/400], Loss: 0.3900, Accuracy: 86.29%, Test Loss: 0.4282, Test Accuracy: 84.46%\n",
      "Epoch [277/400], Loss: 0.3897, Accuracy: 86.33%, Test Loss: 0.4283, Test Accuracy: 84.54%\n",
      "Epoch [278/400], Loss: 0.3891, Accuracy: 86.33%, Test Loss: 0.4279, Test Accuracy: 84.47%\n",
      "Epoch [279/400], Loss: 0.3887, Accuracy: 86.33%, Test Loss: 0.4277, Test Accuracy: 84.46%\n",
      "Epoch [280/400], Loss: 0.3885, Accuracy: 86.37%, Test Loss: 0.4278, Test Accuracy: 84.47%\n",
      "Epoch [281/400], Loss: 0.3881, Accuracy: 86.38%, Test Loss: 0.4271, Test Accuracy: 84.54%\n",
      "Epoch [282/400], Loss: 0.3886, Accuracy: 86.34%, Test Loss: 0.4267, Test Accuracy: 84.47%\n",
      "Epoch [283/400], Loss: 0.3874, Accuracy: 86.36%, Test Loss: 0.4267, Test Accuracy: 84.55%\n",
      "Epoch [284/400], Loss: 0.3874, Accuracy: 86.42%, Test Loss: 0.4268, Test Accuracy: 84.56%\n",
      "Epoch [285/400], Loss: 0.3870, Accuracy: 86.39%, Test Loss: 0.4264, Test Accuracy: 84.52%\n",
      "Epoch [286/400], Loss: 0.3870, Accuracy: 86.41%, Test Loss: 0.4262, Test Accuracy: 84.59%\n",
      "Epoch [287/400], Loss: 0.3871, Accuracy: 86.42%, Test Loss: 0.4260, Test Accuracy: 84.59%\n",
      "Epoch [288/400], Loss: 0.3864, Accuracy: 86.39%, Test Loss: 0.4258, Test Accuracy: 84.67%\n",
      "Epoch [289/400], Loss: 0.3866, Accuracy: 86.46%, Test Loss: 0.4254, Test Accuracy: 84.56%\n",
      "Epoch [290/400], Loss: 0.3861, Accuracy: 86.45%, Test Loss: 0.4254, Test Accuracy: 84.60%\n",
      "Epoch [291/400], Loss: 0.3856, Accuracy: 86.43%, Test Loss: 0.4252, Test Accuracy: 84.68%\n",
      "Epoch [292/400], Loss: 0.3859, Accuracy: 86.47%, Test Loss: 0.4251, Test Accuracy: 84.60%\n",
      "Epoch [293/400], Loss: 0.3853, Accuracy: 86.47%, Test Loss: 0.4248, Test Accuracy: 84.47%\n",
      "Epoch [294/400], Loss: 0.3849, Accuracy: 86.47%, Test Loss: 0.4247, Test Accuracy: 84.73%\n",
      "Epoch [295/400], Loss: 0.3848, Accuracy: 86.47%, Test Loss: 0.4240, Test Accuracy: 84.61%\n",
      "Epoch [296/400], Loss: 0.3843, Accuracy: 86.47%, Test Loss: 0.4239, Test Accuracy: 84.57%\n",
      "Epoch [297/400], Loss: 0.3847, Accuracy: 86.53%, Test Loss: 0.4238, Test Accuracy: 84.70%\n",
      "Epoch [298/400], Loss: 0.3855, Accuracy: 86.51%, Test Loss: 0.4240, Test Accuracy: 84.67%\n",
      "Epoch [299/400], Loss: 0.3839, Accuracy: 86.47%, Test Loss: 0.4232, Test Accuracy: 84.62%\n",
      "Epoch [300/400], Loss: 0.3826, Accuracy: 86.47%, Test Loss: 0.4231, Test Accuracy: 84.80%\n",
      "Epoch [301/400], Loss: 0.3824, Accuracy: 86.55%, Test Loss: 0.4234, Test Accuracy: 84.67%\n",
      "Epoch [302/400], Loss: 0.3831, Accuracy: 86.51%, Test Loss: 0.4227, Test Accuracy: 84.72%\n",
      "Epoch [303/400], Loss: 0.3827, Accuracy: 86.56%, Test Loss: 0.4235, Test Accuracy: 84.52%\n",
      "Epoch [304/400], Loss: 0.3830, Accuracy: 86.54%, Test Loss: 0.4225, Test Accuracy: 84.62%\n",
      "Epoch [305/400], Loss: 0.3826, Accuracy: 86.55%, Test Loss: 0.4226, Test Accuracy: 84.67%\n",
      "Epoch [306/400], Loss: 0.3828, Accuracy: 86.58%, Test Loss: 0.4220, Test Accuracy: 84.71%\n",
      "Epoch [307/400], Loss: 0.3824, Accuracy: 86.58%, Test Loss: 0.4221, Test Accuracy: 84.71%\n",
      "Epoch [308/400], Loss: 0.3826, Accuracy: 86.60%, Test Loss: 0.4216, Test Accuracy: 84.72%\n",
      "Epoch [309/400], Loss: 0.3804, Accuracy: 86.60%, Test Loss: 0.4219, Test Accuracy: 84.71%\n",
      "Epoch [310/400], Loss: 0.3813, Accuracy: 86.62%, Test Loss: 0.4210, Test Accuracy: 84.77%\n",
      "Epoch [311/400], Loss: 0.3806, Accuracy: 86.61%, Test Loss: 0.4211, Test Accuracy: 84.81%\n",
      "Epoch [312/400], Loss: 0.3805, Accuracy: 86.56%, Test Loss: 0.4211, Test Accuracy: 84.68%\n",
      "Epoch [313/400], Loss: 0.3808, Accuracy: 86.62%, Test Loss: 0.4205, Test Accuracy: 84.76%\n",
      "Epoch [314/400], Loss: 0.3805, Accuracy: 86.61%, Test Loss: 0.4206, Test Accuracy: 84.72%\n",
      "Epoch [315/400], Loss: 0.3801, Accuracy: 86.63%, Test Loss: 0.4202, Test Accuracy: 84.88%\n",
      "Epoch [316/400], Loss: 0.3800, Accuracy: 86.61%, Test Loss: 0.4201, Test Accuracy: 84.82%\n",
      "Epoch [317/400], Loss: 0.3792, Accuracy: 86.66%, Test Loss: 0.4198, Test Accuracy: 84.82%\n",
      "Epoch [318/400], Loss: 0.3789, Accuracy: 86.66%, Test Loss: 0.4198, Test Accuracy: 84.76%\n",
      "Epoch [319/400], Loss: 0.3793, Accuracy: 86.65%, Test Loss: 0.4196, Test Accuracy: 84.82%\n",
      "Epoch [320/400], Loss: 0.3800, Accuracy: 86.70%, Test Loss: 0.4197, Test Accuracy: 84.85%\n",
      "Epoch [321/400], Loss: 0.3787, Accuracy: 86.66%, Test Loss: 0.4194, Test Accuracy: 84.62%\n",
      "Epoch [322/400], Loss: 0.3786, Accuracy: 86.64%, Test Loss: 0.4192, Test Accuracy: 84.81%\n",
      "Epoch [323/400], Loss: 0.3784, Accuracy: 86.71%, Test Loss: 0.4186, Test Accuracy: 84.83%\n",
      "Epoch [324/400], Loss: 0.3776, Accuracy: 86.72%, Test Loss: 0.4184, Test Accuracy: 84.82%\n",
      "Epoch [325/400], Loss: 0.3779, Accuracy: 86.68%, Test Loss: 0.4184, Test Accuracy: 84.78%\n",
      "Epoch [326/400], Loss: 0.3770, Accuracy: 86.73%, Test Loss: 0.4182, Test Accuracy: 84.87%\n",
      "Epoch [327/400], Loss: 0.3775, Accuracy: 86.73%, Test Loss: 0.4191, Test Accuracy: 84.89%\n",
      "Epoch [328/400], Loss: 0.3775, Accuracy: 86.69%, Test Loss: 0.4181, Test Accuracy: 84.90%\n",
      "Epoch [329/400], Loss: 0.3774, Accuracy: 86.76%, Test Loss: 0.4176, Test Accuracy: 84.89%\n",
      "Epoch [330/400], Loss: 0.3770, Accuracy: 86.76%, Test Loss: 0.4174, Test Accuracy: 84.88%\n",
      "Epoch [331/400], Loss: 0.3762, Accuracy: 86.77%, Test Loss: 0.4171, Test Accuracy: 84.92%\n",
      "Epoch [332/400], Loss: 0.3767, Accuracy: 86.76%, Test Loss: 0.4171, Test Accuracy: 84.90%\n",
      "Epoch [333/400], Loss: 0.3749, Accuracy: 86.75%, Test Loss: 0.4168, Test Accuracy: 84.81%\n",
      "Epoch [334/400], Loss: 0.3763, Accuracy: 86.78%, Test Loss: 0.4166, Test Accuracy: 84.97%\n",
      "Epoch [335/400], Loss: 0.3762, Accuracy: 86.76%, Test Loss: 0.4169, Test Accuracy: 84.95%\n",
      "Epoch [336/400], Loss: 0.3752, Accuracy: 86.79%, Test Loss: 0.4165, Test Accuracy: 84.90%\n",
      "Epoch [337/400], Loss: 0.3749, Accuracy: 86.80%, Test Loss: 0.4163, Test Accuracy: 84.88%\n",
      "Epoch [338/400], Loss: 0.3749, Accuracy: 86.80%, Test Loss: 0.4160, Test Accuracy: 84.85%\n",
      "Epoch [339/400], Loss: 0.3749, Accuracy: 86.83%, Test Loss: 0.4161, Test Accuracy: 84.88%\n",
      "Epoch [340/400], Loss: 0.3746, Accuracy: 86.82%, Test Loss: 0.4158, Test Accuracy: 84.87%\n",
      "Epoch [341/400], Loss: 0.3738, Accuracy: 86.82%, Test Loss: 0.4157, Test Accuracy: 84.98%\n",
      "Epoch [342/400], Loss: 0.3740, Accuracy: 86.87%, Test Loss: 0.4155, Test Accuracy: 84.95%\n",
      "Epoch [343/400], Loss: 0.3736, Accuracy: 86.87%, Test Loss: 0.4152, Test Accuracy: 84.89%\n",
      "Epoch [344/400], Loss: 0.3729, Accuracy: 86.86%, Test Loss: 0.4148, Test Accuracy: 84.93%\n",
      "Epoch [345/400], Loss: 0.3730, Accuracy: 86.89%, Test Loss: 0.4153, Test Accuracy: 84.72%\n",
      "Epoch [346/400], Loss: 0.3729, Accuracy: 86.88%, Test Loss: 0.4147, Test Accuracy: 84.93%\n",
      "Epoch [347/400], Loss: 0.3730, Accuracy: 86.89%, Test Loss: 0.4150, Test Accuracy: 84.94%\n",
      "Epoch [348/400], Loss: 0.3730, Accuracy: 86.89%, Test Loss: 0.4142, Test Accuracy: 84.89%\n",
      "Epoch [349/400], Loss: 0.3723, Accuracy: 86.86%, Test Loss: 0.4140, Test Accuracy: 84.91%\n",
      "Epoch [350/400], Loss: 0.3728, Accuracy: 86.89%, Test Loss: 0.4138, Test Accuracy: 85.00%\n",
      "Epoch [351/400], Loss: 0.3720, Accuracy: 86.87%, Test Loss: 0.4138, Test Accuracy: 85.07%\n",
      "Epoch [352/400], Loss: 0.3722, Accuracy: 86.95%, Test Loss: 0.4140, Test Accuracy: 85.03%\n",
      "Epoch [353/400], Loss: 0.3729, Accuracy: 86.90%, Test Loss: 0.4135, Test Accuracy: 84.95%\n",
      "Epoch [354/400], Loss: 0.3717, Accuracy: 86.91%, Test Loss: 0.4136, Test Accuracy: 85.13%\n",
      "Epoch [355/400], Loss: 0.3716, Accuracy: 86.99%, Test Loss: 0.4132, Test Accuracy: 85.10%\n",
      "Epoch [356/400], Loss: 0.3715, Accuracy: 86.93%, Test Loss: 0.4131, Test Accuracy: 84.98%\n",
      "Epoch [357/400], Loss: 0.3708, Accuracy: 86.94%, Test Loss: 0.4125, Test Accuracy: 85.10%\n",
      "Epoch [358/400], Loss: 0.3703, Accuracy: 86.98%, Test Loss: 0.4126, Test Accuracy: 85.10%\n",
      "Epoch [359/400], Loss: 0.3701, Accuracy: 86.91%, Test Loss: 0.4123, Test Accuracy: 84.88%\n",
      "Epoch [360/400], Loss: 0.3705, Accuracy: 86.93%, Test Loss: 0.4124, Test Accuracy: 85.11%\n",
      "Epoch [361/400], Loss: 0.3704, Accuracy: 86.98%, Test Loss: 0.4121, Test Accuracy: 84.91%\n",
      "Epoch [362/400], Loss: 0.3718, Accuracy: 87.00%, Test Loss: 0.4120, Test Accuracy: 85.09%\n",
      "Epoch [363/400], Loss: 0.3704, Accuracy: 87.00%, Test Loss: 0.4118, Test Accuracy: 85.07%\n",
      "Epoch [364/400], Loss: 0.3697, Accuracy: 86.98%, Test Loss: 0.4114, Test Accuracy: 85.09%\n",
      "Epoch [365/400], Loss: 0.3700, Accuracy: 86.97%, Test Loss: 0.4119, Test Accuracy: 85.02%\n",
      "Epoch [366/400], Loss: 0.3693, Accuracy: 87.01%, Test Loss: 0.4113, Test Accuracy: 85.00%\n",
      "Epoch [367/400], Loss: 0.3693, Accuracy: 87.01%, Test Loss: 0.4115, Test Accuracy: 85.07%\n",
      "Epoch [368/400], Loss: 0.3691, Accuracy: 87.03%, Test Loss: 0.4111, Test Accuracy: 85.02%\n",
      "Epoch [369/400], Loss: 0.3691, Accuracy: 87.04%, Test Loss: 0.4118, Test Accuracy: 85.13%\n",
      "Epoch [370/400], Loss: 0.3683, Accuracy: 87.04%, Test Loss: 0.4112, Test Accuracy: 85.25%\n",
      "Epoch [371/400], Loss: 0.3677, Accuracy: 87.04%, Test Loss: 0.4103, Test Accuracy: 85.18%\n",
      "Epoch [372/400], Loss: 0.3683, Accuracy: 87.01%, Test Loss: 0.4105, Test Accuracy: 85.11%\n",
      "Epoch [373/400], Loss: 0.3678, Accuracy: 87.06%, Test Loss: 0.4101, Test Accuracy: 85.13%\n",
      "Epoch [374/400], Loss: 0.3677, Accuracy: 87.04%, Test Loss: 0.4103, Test Accuracy: 85.19%\n",
      "Epoch [375/400], Loss: 0.3674, Accuracy: 87.04%, Test Loss: 0.4099, Test Accuracy: 85.31%\n",
      "Epoch [376/400], Loss: 0.3670, Accuracy: 87.05%, Test Loss: 0.4098, Test Accuracy: 85.14%\n",
      "Epoch [377/400], Loss: 0.3662, Accuracy: 87.07%, Test Loss: 0.4094, Test Accuracy: 85.17%\n",
      "Epoch [378/400], Loss: 0.3667, Accuracy: 87.08%, Test Loss: 0.4092, Test Accuracy: 85.12%\n",
      "Epoch [379/400], Loss: 0.3664, Accuracy: 87.10%, Test Loss: 0.4092, Test Accuracy: 85.16%\n",
      "Epoch [380/400], Loss: 0.3668, Accuracy: 87.09%, Test Loss: 0.4092, Test Accuracy: 85.16%\n",
      "Epoch [381/400], Loss: 0.3661, Accuracy: 87.10%, Test Loss: 0.4090, Test Accuracy: 85.14%\n",
      "Epoch [382/400], Loss: 0.3657, Accuracy: 87.14%, Test Loss: 0.4090, Test Accuracy: 85.11%\n",
      "Epoch [383/400], Loss: 0.3662, Accuracy: 87.08%, Test Loss: 0.4084, Test Accuracy: 85.16%\n",
      "Epoch [384/400], Loss: 0.3654, Accuracy: 87.10%, Test Loss: 0.4091, Test Accuracy: 85.10%\n",
      "Epoch [385/400], Loss: 0.3665, Accuracy: 87.13%, Test Loss: 0.4081, Test Accuracy: 85.14%\n",
      "Epoch [386/400], Loss: 0.3647, Accuracy: 87.12%, Test Loss: 0.4082, Test Accuracy: 85.27%\n",
      "Epoch [387/400], Loss: 0.3649, Accuracy: 87.14%, Test Loss: 0.4077, Test Accuracy: 85.20%\n",
      "Epoch [388/400], Loss: 0.3645, Accuracy: 87.13%, Test Loss: 0.4076, Test Accuracy: 85.22%\n",
      "Epoch [389/400], Loss: 0.3654, Accuracy: 87.14%, Test Loss: 0.4077, Test Accuracy: 85.13%\n",
      "Epoch [390/400], Loss: 0.3651, Accuracy: 87.19%, Test Loss: 0.4074, Test Accuracy: 85.07%\n",
      "Epoch [391/400], Loss: 0.3642, Accuracy: 87.19%, Test Loss: 0.4073, Test Accuracy: 85.29%\n",
      "Epoch [392/400], Loss: 0.3643, Accuracy: 87.17%, Test Loss: 0.4074, Test Accuracy: 85.23%\n",
      "Epoch [393/400], Loss: 0.3645, Accuracy: 87.15%, Test Loss: 0.4069, Test Accuracy: 85.36%\n",
      "Epoch [394/400], Loss: 0.3652, Accuracy: 87.22%, Test Loss: 0.4070, Test Accuracy: 85.33%\n",
      "Epoch [395/400], Loss: 0.3634, Accuracy: 87.18%, Test Loss: 0.4066, Test Accuracy: 85.32%\n",
      "Epoch [396/400], Loss: 0.3635, Accuracy: 87.16%, Test Loss: 0.4066, Test Accuracy: 85.23%\n",
      "Epoch [397/400], Loss: 0.3633, Accuracy: 87.20%, Test Loss: 0.4064, Test Accuracy: 85.29%\n",
      "Epoch [398/400], Loss: 0.3628, Accuracy: 87.22%, Test Loss: 0.4067, Test Accuracy: 85.36%\n",
      "Epoch [399/400], Loss: 0.3624, Accuracy: 87.21%, Test Loss: 0.4067, Test Accuracy: 85.25%\n",
      "Epoch [400/400], Loss: 0.3630, Accuracy: 87.24%, Test Loss: 0.4063, Test Accuracy: 85.32%\n"
     ]
    }
   ],
   "source": [
    "# train\n",
    "for epoch in range(max_epoch):\n",
    "    running_loss = 0.0\n",
    "    running_correct = 0   # to track number of correct predictions\n",
    "    total = 0             # to track total number of samples\n",
    "\n",
    "    for i, (inputs, labels) in enumerate(trainloader, 0):\n",
    "        # Move inputs and labels to the device\n",
    "        inputs, labels = inputs.to(device), labels.to(device)\n",
    "\n",
    "        # Zero the parameter gradients\n",
    "        optimizer.zero_grad()\n",
    "\n",
    "        # Forward pass\n",
    "        outputs = model(inputs)\n",
    "        loss = criterion(outputs, labels)\n",
    "        running_loss += loss.item()\n",
    "\n",
    "        # Determine class predictions and track accuracy\n",
    "        _, predicted = torch.max(outputs.data, 1)\n",
    "        total += labels.size(0)\n",
    "        running_correct += (predicted == labels).sum().item()\n",
    "\n",
    "        # Backward pass and optimization\n",
    "        loss.backward()\n",
    "        optimizer.step()        \n",
    "\n",
    "    epoch_accuracy = 100 * running_correct / total\n",
    "    epoch_loss = running_loss / (i + 1)\n",
    "    test_loss, test_accuracy = evaluate(model, testloader, criterion)\n",
    "    print(f\"Epoch [{epoch + 1}/{max_epoch}], Loss: {epoch_loss:.4f}, Accuracy: {epoch_accuracy:.2f}%, Test Loss: {test_loss:.4f}, Test Accuracy: {test_accuracy:.2f}%\")\n",
    "    \n",
    "    # save for plot\n",
    "    train_losses.append(epoch_loss)\n",
    "    train_accuracies.append(epoch_accuracy)\n",
    "    test_losses.append(test_loss)\n",
    "    test_accuracies.append(test_accuracy)"
   ]
  },
  {
   "cell_type": "code",
   "execution_count": null,
   "metadata": {
    "id": "QKFbl4unF_6t"
   },
   "outputs": [],
   "source": []
  },
  {
   "cell_type": "code",
   "execution_count": 11,
   "metadata": {
    "id": "AwIj3vrnF_8_"
   },
   "outputs": [
    {
     "data": {
      "text/plain": [
       "<matplotlib.legend.Legend at 0x7f0a1d20e2f0>"
      ]
     },
     "execution_count": 11,
     "metadata": {},
     "output_type": "execute_result"
    },
    {
     "data": {
      "image/png": "[encoded data removed]",
      "text/plain": [
       "<Figure size 640x480 with 1 Axes>"
      ]
     },
     "metadata": {},
     "output_type": "display_data"
    }
   ],
   "source": [
    "import matplotlib.pyplot as plt\n",
    "\n",
    "plt.plot(train_losses, label='train_losses')\n",
    "plt.plot(test_losses, label='test_losses')\n",
    "plt.legend()"
   ]
  },
  {
   "cell_type": "code",
   "execution_count": 12,
   "metadata": {
    "id": "eh3iDa8lF__H"
   },
   "outputs": [
    {
     "data": {
      "text/plain": [
       "<matplotlib.legend.Legend at 0x7f092c82baf0>"
      ]
     },
     "execution_count": 12,
     "metadata": {},
     "output_type": "execute_result"
    },
    {
     "data": {
      "image/png": "[encoded data removed]",
      "text/plain": [
       "<Figure size 640x480 with 1 Axes>"
      ]
     },
     "metadata": {},
     "output_type": "display_data"
    }
   ],
   "source": [
    "import matplotlib.pyplot as plt\n",
    "\n",
    "plt.plot(train_accuracies, label='train_accuracy')\n",
    "plt.plot(test_accuracies, label='test_accuracy')\n",
    "plt.legend()"
   ]
  },
  {
   "cell_type": "code",
   "execution_count": null,
   "metadata": {},
   "outputs": [],
   "source": []
  },
  {
   "cell_type": "code",
   "execution_count": 13,
   "metadata": {},
   "outputs": [
    {
     "data": {
      "text/plain": [
       "<matplotlib.legend.Legend at 0x7f09200cfcd0>"
      ]
     },
     "execution_count": 13,
     "metadata": {},
     "output_type": "execute_result"
    }
   ],
   "source": [
    "import matplotlib.pyplot as plt\n",
    "%matplotlib qt\n",
    "\n",
    "plt.plot(train_losses, label='train_losses')\n",
    "plt.plot(test_losses, label='test_losses')\n",
    "plt.legend()"
   ]
  },
  {
   "cell_type": "code",
   "execution_count": 14,
   "metadata": {},
   "outputs": [
    {
     "data": {
      "text/plain": [
       "<matplotlib.legend.Legend at 0x7f08bb917670>"
      ]
     },
     "execution_count": 14,
     "metadata": {},
     "output_type": "execute_result"
    }
   ],
   "source": [
    "import matplotlib.pyplot as plt\n",
    "%matplotlib qt\n",
    "\n",
    "plt.plot(train_accuracies, label='train_accuracy')\n",
    "plt.plot(test_accuracies, label='test_accuracy')\n",
    "plt.legend()"
   ]
  },
  {
   "cell_type": "code",
   "execution_count": null,
   "metadata": {},
   "outputs": [],
   "source": []
  }
 ],
 "metadata": {
  "accelerator": "GPU",
  "colab": {
   "gpuType": "T4",
   "provenance": []
  },
  "kernelspec": {
   "display_name": "Python 3 (ipykernel)",
   "language": "python",
   "name": "python3"
  },
  "language_info": {
   "codemirror_mode": {
    "name": "ipython",
    "version": 3
   },
   "file_extension": ".py",
   "mimetype": "text/x-python",
   "name": "python",
   "nbconvert_exporter": "python",
   "pygments_lexer": "ipython3",
   "version": "3.9.18"
  }
 },
 "nbformat": 4,
 "nbformat_minor": 4
}
