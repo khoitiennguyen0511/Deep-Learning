{
 "cells": [
  {
   "cell_type": "markdown",
   "id": "6febf0a7",
   "metadata": {},
   "source": [
    "# One sample"
   ]
  },
  {
   "cell_type": "code",
   "execution_count": 1,
   "id": "c880195a",
   "metadata": {},
   "outputs": [
    {
     "name": "stdout",
     "output_type": "stream",
     "text": [
      "[[1.  5.7 2.6 3.5 1. ]\n",
      " [1.  6.  2.7 5.1 1.6]\n",
      " [1.  5.9 3.2 4.8 1.8]\n",
      " [1.  6.5 2.8 4.6 1.5]\n",
      " [1.  5.  3.4 1.6 0.4]]\n",
      "[[1.]\n",
      " [1.]\n",
      " [1.]\n",
      " [1.]\n",
      " [0.]]\n"
     ]
    }
   ],
   "source": [
    "import numpy as np\n",
    "import tensorflow as tf\n",
    "\n",
    "# Data preparation\n",
    "data = np.genfromtxt('iris_full.csv', \n",
    "                     delimiter=',', \n",
    "                     skip_header=1)\n",
    "X = data[:,0:4]\n",
    "y = data[:,4:]\n",
    "N = X.shape[0]\n",
    "\n",
    "X = np.c_[np.ones((N, 1)), X]\n",
    "\n",
    "# shuffle\n",
    "inds = np.arange(N)\n",
    "np.random.shuffle(inds)\n",
    "\n",
    "X = X[inds]\n",
    "y = y[inds]\n",
    "\n",
    "print(X[:5])\n",
    "print(y[:5])"
   ]
  },
  {
   "cell_type": "code",
   "execution_count": null,
   "id": "386da487",
   "metadata": {},
   "outputs": [],
   "source": []
  },
  {
   "cell_type": "code",
   "execution_count": 3,
   "id": "e4d5b85b",
   "metadata": {},
   "outputs": [],
   "source": [
    "# theta\n",
    "theta = tf.Variable([[0.01],\n",
    "                     [-0.04], \n",
    "                     [0.02], \n",
    "                     [-0.03], \n",
    "                     [0.001]], dtype=tf.float64)\n",
    " \n",
    "# forward\n",
    "def compute_output(theta, X):\n",
    "    return tf.math.sigmoid(tf.transpose(theta)@X)"
   ]
  },
  {
   "cell_type": "code",
   "execution_count": null,
   "id": "6b86e9d8",
   "metadata": {},
   "outputs": [],
   "source": []
  },
  {
   "cell_type": "code",
   "execution_count": 4,
   "id": "e12d6362",
   "metadata": {},
   "outputs": [],
   "source": [
    "# parameters\n",
    "lr = 0.1\n",
    "num_epochs = 5\n",
    "loss_fn = tf.keras.losses.BinaryCrossentropy()\n",
    "\n",
    "losses = []"
   ]
  },
  {
   "cell_type": "code",
   "execution_count": null,
   "id": "30080992",
   "metadata": {},
   "outputs": [],
   "source": []
  },
  {
   "cell_type": "code",
   "execution_count": 5,
   "id": "6eaf0b14",
   "metadata": {},
   "outputs": [],
   "source": [
    "# training\n",
    "for epoch in range(num_epochs):\n",
    "    for x_data, y_data in zip(X, y):\n",
    "        # reshape -> (5,1)\n",
    "        x_data = tf.reshape(x_data, (-1,1))\n",
    "        \n",
    "        with tf.GradientTape() as t:\n",
    "            # y_hat\n",
    "            y_hat = compute_output(theta, x_data)\n",
    "            \n",
    "            # loss\n",
    "            loss = loss_fn(y_data, y_hat)\n",
    "            \n",
    "        losses.append(loss.numpy())            \n",
    "\n",
    "        # gradient\n",
    "        dtheta = t.gradient(loss, theta)\n",
    "\n",
    "        # update\n",
    "        theta.assign_sub(lr*dtheta)"
   ]
  },
  {
   "cell_type": "code",
   "execution_count": null,
   "id": "e4a2cbfa",
   "metadata": {},
   "outputs": [],
   "source": []
  },
  {
   "cell_type": "code",
   "execution_count": 6,
   "id": "608b6ad0",
   "metadata": {},
   "outputs": [
    {
     "data": {
      "image/png": "[encoded data removed]",
      "text/plain": [
       "<Figure size 432x288 with 1 Axes>"
      ]
     },
     "metadata": {
      "needs_background": "light"
     },
     "output_type": "display_data"
    }
   ],
   "source": [
    "import matplotlib.pyplot as plt\n",
    "\n",
    "plt.plot(losses)\n",
    "plt.xlabel('iteration')\n",
    "plt.ylabel('Loss')\n",
    "plt.show()"
   ]
  },
  {
   "cell_type": "code",
   "execution_count": null,
   "id": "adc12217",
   "metadata": {},
   "outputs": [],
   "source": []
  },
  {
   "cell_type": "code",
   "execution_count": null,
   "id": "62ca5268",
   "metadata": {},
   "outputs": [],
   "source": []
  },
  {
   "cell_type": "markdown",
   "id": "2e9b26e0",
   "metadata": {},
   "source": [
    "# N samples"
   ]
  },
  {
   "cell_type": "code",
   "execution_count": 8,
   "id": "eed158da",
   "metadata": {},
   "outputs": [
    {
     "name": "stdout",
     "output_type": "stream",
     "text": [
      "[[1.  5.1 3.5 1.4 0.2]\n",
      " [1.  4.9 3.  1.4 0.2]\n",
      " [1.  4.7 3.2 1.3 0.2]\n",
      " [1.  4.6 3.1 1.5 0.2]\n",
      " [1.  5.  3.6 1.4 0.2]\n",
      " [1.  5.4 3.9 1.7 0.4]\n",
      " [1.  4.6 3.4 1.4 0.3]\n",
      " [1.  5.  3.4 1.5 0.2]\n",
      " [1.  4.4 2.9 1.4 0.2]\n",
      " [1.  4.9 3.1 1.5 0.1]]\n"
     ]
    }
   ],
   "source": [
    "import numpy as np\n",
    "import tensorflow as tf\n",
    "\n",
    "# Data preparation\n",
    "data = np.genfromtxt('iris_full.csv', \n",
    "                     delimiter=',', \n",
    "                     skip_header=1)\n",
    "X = data[:,0:4]\n",
    "y = data[:,4:]\n",
    "N = X.shape[0]\n",
    "\n",
    "X = np.c_[np.ones((N, 1)), X]\n",
    "\n",
    "print(X[:10])"
   ]
  },
  {
   "cell_type": "code",
   "execution_count": null,
   "id": "cc63de6f",
   "metadata": {},
   "outputs": [],
   "source": []
  },
  {
   "cell_type": "code",
   "execution_count": 13,
   "id": "bce8de74",
   "metadata": {},
   "outputs": [],
   "source": [
    "# theta\n",
    "theta = tf.Variable([[0.01],\n",
    "                     [-0.04], \n",
    "                     [0.02], \n",
    "                     [-0.03], \n",
    "                     [0.001]], dtype=tf.float64)\n",
    " \n",
    "# forward\n",
    "def compute_output(theta, X):\n",
    "    return tf.math.sigmoid(X@theta)"
   ]
  },
  {
   "cell_type": "code",
   "execution_count": null,
   "id": "8cd32058",
   "metadata": {},
   "outputs": [],
   "source": []
  },
  {
   "cell_type": "code",
   "execution_count": 14,
   "id": "51f2d30c",
   "metadata": {},
   "outputs": [],
   "source": [
    "# parameters\n",
    "lr = 0.01\n",
    "num_epochs = 1000\n",
    "loss_fn = tf.keras.losses.BinaryCrossentropy()\n",
    "\n",
    "losses = []"
   ]
  },
  {
   "cell_type": "code",
   "execution_count": null,
   "id": "a7ac2817",
   "metadata": {},
   "outputs": [],
   "source": []
  },
  {
   "cell_type": "code",
   "execution_count": 15,
   "id": "b1368ee3",
   "metadata": {},
   "outputs": [],
   "source": [
    "# training\n",
    "for epoch in range(num_epochs):\n",
    "    with tf.GradientTape() as t:\n",
    "        # y_hat\n",
    "        y_hat = compute_output(theta, X)\n",
    "        \n",
    "        # loss\n",
    "        loss = loss_fn(y, y_hat)\n",
    "        \n",
    "    losses.append(loss.numpy())\n",
    "\n",
    "    # gradient\n",
    "    dtheta = t.gradient(loss, theta)\n",
    "\n",
    "    # update\n",
    "    theta.assign_sub(lr*dtheta)"
   ]
  },
  {
   "cell_type": "code",
   "execution_count": null,
   "id": "a977a766",
   "metadata": {},
   "outputs": [],
   "source": []
  },
  {
   "cell_type": "code",
   "execution_count": 16,
   "id": "50b4b4ad",
   "metadata": {},
   "outputs": [
    {
     "data": {
      "image/png": "[encoded data removed]",
      "text/plain": [
       "<Figure size 432x288 with 1 Axes>"
      ]
     },
     "metadata": {
      "needs_background": "light"
     },
     "output_type": "display_data"
    }
   ],
   "source": [
    "import matplotlib.pyplot as plt\n",
    "\n",
    "plt.plot(losses)\n",
    "plt.xlabel('iteration')\n",
    "plt.ylabel('Loss')\n",
    "plt.show()"
   ]
  },
  {
   "cell_type": "code",
   "execution_count": null,
   "id": "8f167e0d",
   "metadata": {},
   "outputs": [],
   "source": []
  }
 ],
 "metadata": {
  "kernelspec": {
   "display_name": "Python 3 (ipykernel)",
   "language": "python",
   "name": "python3"
  },
  "language_info": {
   "codemirror_mode": {
    "name": "ipython",
    "version": 3
   },
   "file_extension": ".py",
   "mimetype": "text/x-python",
   "name": "python",
   "nbconvert_exporter": "python",
   "pygments_lexer": "ipython3",
   "version": "3.9.13"
  }
 },
 "nbformat": 4,
 "nbformat_minor": 5
}
