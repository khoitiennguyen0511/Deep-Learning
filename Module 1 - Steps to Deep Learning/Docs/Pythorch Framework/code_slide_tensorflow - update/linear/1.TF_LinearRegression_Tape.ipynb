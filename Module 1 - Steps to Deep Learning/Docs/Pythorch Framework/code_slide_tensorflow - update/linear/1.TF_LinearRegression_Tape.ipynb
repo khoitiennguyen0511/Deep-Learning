{
 "cells": [
  {
   "cell_type": "code",
   "execution_count": 1,
   "id": "d502a3a7",
   "metadata": {},
   "outputs": [
    {
     "name": "stdout",
     "output_type": "stream",
     "text": [
      "X\n",
      " [[6.7]\n",
      " [4.6]\n",
      " [3.5]\n",
      " [5.5]]\n",
      "y\n",
      " [[9.1]\n",
      " [5.9]\n",
      " [4.6]\n",
      " [6.7]]\n"
     ]
    }
   ],
   "source": [
    "import numpy as np\n",
    "import tensorflow as tf\n",
    "\n",
    "### Data preparation\n",
    "data = np.genfromtxt('data.csv', delimiter=',')\n",
    "X = data[:,0:1]\n",
    "y = data[:,1:]\n",
    "\n",
    "print('X\\n', X)\n",
    "print('y\\n', y)"
   ]
  },
  {
   "cell_type": "code",
   "execution_count": null,
   "id": "93422714",
   "metadata": {},
   "outputs": [],
   "source": []
  },
  {
   "cell_type": "markdown",
   "id": "fd7b7308",
   "metadata": {},
   "source": [
    "# Tracing - One sample"
   ]
  },
  {
   "cell_type": "code",
   "execution_count": 10,
   "id": "2a0679ba",
   "metadata": {},
   "outputs": [],
   "source": [
    "# theta\n",
    "W = tf.Variable(-0.34)\n",
    "b = tf.Variable(0.04)\n",
    "\n",
    "# forward\n",
    "def compute_output(X, W, b):\n",
    "    return W*X + b\n",
    "\n",
    "# some params\n",
    "lr = 0.01\n",
    "epochs = 2"
   ]
  },
  {
   "cell_type": "code",
   "execution_count": null,
   "id": "08899573",
   "metadata": {},
   "outputs": [],
   "source": []
  },
  {
   "cell_type": "code",
   "execution_count": 11,
   "id": "2c637fbe",
   "metadata": {},
   "outputs": [
    {
     "name": "stdout",
     "output_type": "stream",
     "text": [
      "y_hat\n",
      " tf.Tensor([-2.238], shape=(1,), dtype=float32)\n",
      "loss\n",
      " tf.Tensor([128.55025], shape=(1,), dtype=float32)\n",
      "dW\n",
      " tf.Tensor(-151.9292, shape=(), dtype=float32)\n",
      "db\n",
      " tf.Tensor(-22.676, shape=(), dtype=float32)\n",
      "W\n",
      " <tf.Variable 'Variable:0' shape=() dtype=float32, numpy=1.179292>\n",
      "b\n",
      " <tf.Variable 'Variable:0' shape=() dtype=float32, numpy=0.26676>\n",
      "y_hat\n",
      " tf.Tensor([8.168016], shape=(1,), dtype=float32)\n",
      "loss\n",
      " tf.Tensor([0.86859405], shape=(1,), dtype=float32)\n",
      "dW\n",
      " tf.Tensor(-12.4885845, shape=(), dtype=float32)\n",
      "db\n",
      " tf.Tensor(-1.8639679, shape=(), dtype=float32)\n",
      "W\n",
      " <tf.Variable 'Variable:0' shape=() dtype=float32, numpy=1.3041778>\n",
      "b\n",
      " <tf.Variable 'Variable:0' shape=() dtype=float32, numpy=0.28539968>\n"
     ]
    }
   ],
   "source": [
    "# training\n",
    "for epoch in range(epochs):\n",
    "    x_data = X[0]\n",
    "    y_data = y[0]\n",
    "    \n",
    "    with tf.GradientTape() as t:\n",
    "        # y_hat\n",
    "        y_hat = compute_output(x_data, W, b)\n",
    "        print('y_hat\\n', y_hat)\n",
    "        \n",
    "        # loss        \n",
    "        loss = tf.square(y_hat - y_data)\n",
    "        print('loss\\n', loss)\n",
    "                \n",
    "    # gradient        \n",
    "    dW, db = t.gradient(loss, [W, b])\n",
    "    print('dW\\n', dW)    \n",
    "    print('db\\n', db) \n",
    "\n",
    "    # update\n",
    "    W.assign_sub(lr*dW)\n",
    "    b.assign_sub(lr*db)        \n",
    "    print('W\\n', W) \n",
    "    print('b\\n', b)"
   ]
  },
  {
   "cell_type": "code",
   "execution_count": null,
   "id": "dbb22f21",
   "metadata": {},
   "outputs": [],
   "source": []
  },
  {
   "cell_type": "code",
   "execution_count": null,
   "id": "6b3da5b4",
   "metadata": {},
   "outputs": [],
   "source": []
  },
  {
   "cell_type": "markdown",
   "id": "b3ff7980",
   "metadata": {},
   "source": [
    "# Training - One sample"
   ]
  },
  {
   "cell_type": "code",
   "execution_count": 2,
   "id": "2b2199b7",
   "metadata": {},
   "outputs": [
    {
     "name": "stdout",
     "output_type": "stream",
     "text": [
      "[[6.7]\n",
      " [4.6]\n",
      " [3.5]\n",
      " [5.5]]\n",
      "[[9.1]\n",
      " [5.9]\n",
      " [4.6]\n",
      " [6.7]]\n"
     ]
    }
   ],
   "source": [
    "import numpy as np\n",
    "import tensorflow as tf\n",
    "\n",
    "### Data preparation\n",
    "data = np.genfromtxt('data.csv', delimiter=',')\n",
    "X = data[:,0:1]\n",
    "y = data[:,1:]\n",
    "\n",
    "print(X)\n",
    "print(y)"
   ]
  },
  {
   "cell_type": "code",
   "execution_count": null,
   "id": "d8f38c60",
   "metadata": {},
   "outputs": [],
   "source": []
  },
  {
   "cell_type": "code",
   "execution_count": 3,
   "id": "571c1bf5",
   "metadata": {},
   "outputs": [],
   "source": [
    "# theta\n",
    "W = tf.Variable(-0.34)\n",
    "b = tf.Variable(0.04)\n",
    "\n",
    "# forward\n",
    "def compute_output(X, W, b):\n",
    "    return W*X + b\n",
    "\n",
    "# some params\n",
    "lr = 0.01\n",
    "epochs = 20\n",
    "losses = []\n",
    "\n",
    "# forward\n",
    "def compute_output(X, W, b):\n",
    "    return W*X + b\n",
    "\n",
    "# training\n",
    "for epoch in range(epochs):\n",
    "    for x_data, y_data in zip(X, y):\n",
    "        with tf.GradientTape() as t:\n",
    "            # y_hat\n",
    "            y_hat = compute_output(x_data, W, b)\n",
    "\n",
    "            # loss       \n",
    "            loss = tf.square(y_hat - y_data)\n",
    "\n",
    "        # debug\n",
    "        losses.append(loss.numpy())\n",
    "\n",
    "        # gradient        \n",
    "        dW, db = t.gradient(loss, [W, b])\n",
    "\n",
    "        # update\n",
    "        W.assign_sub(lr*dW)\n",
    "        b.assign_sub(lr*db)"
   ]
  },
  {
   "cell_type": "code",
   "execution_count": null,
   "id": "633e8f93",
   "metadata": {},
   "outputs": [],
   "source": []
  },
  {
   "cell_type": "code",
   "execution_count": 4,
   "id": "cda4a65b",
   "metadata": {},
   "outputs": [
    {
     "data": {
      "image/png": "[encoded data removed]",
      "text/plain": [
       "<Figure size 640x480 with 1 Axes>"
      ]
     },
     "metadata": {},
     "output_type": "display_data"
    }
   ],
   "source": [
    "import matplotlib.pyplot as plt\n",
    "\n",
    "# plot losses\n",
    "plt.plot(losses)\n",
    "plt.xlabel('iteration')\n",
    "plt.ylabel('Loss')\n",
    "plt.show()"
   ]
  },
  {
   "cell_type": "code",
   "execution_count": null,
   "id": "c9d68abd",
   "metadata": {},
   "outputs": [],
   "source": []
  },
  {
   "cell_type": "code",
   "execution_count": 5,
   "id": "7c879cc0",
   "metadata": {},
   "outputs": [
    {
     "data": {
      "text/plain": [
       "<tf.Variable 'Variable:0' shape=() dtype=float32, numpy=1.2221994>"
      ]
     },
     "execution_count": 5,
     "metadata": {},
     "output_type": "execute_result"
    }
   ],
   "source": [
    "W"
   ]
  },
  {
   "cell_type": "code",
   "execution_count": 6,
   "id": "74977bdc",
   "metadata": {},
   "outputs": [
    {
     "data": {
      "text/plain": [
       "<tf.Variable 'Variable:0' shape=() dtype=float32, numpy=0.17510723>"
      ]
     },
     "execution_count": 6,
     "metadata": {},
     "output_type": "execute_result"
    }
   ],
   "source": [
    "b"
   ]
  },
  {
   "cell_type": "code",
   "execution_count": null,
   "id": "072c2f79",
   "metadata": {},
   "outputs": [],
   "source": []
  },
  {
   "cell_type": "markdown",
   "id": "2adf04f9",
   "metadata": {},
   "source": [
    "# Training - N samples"
   ]
  },
  {
   "cell_type": "code",
   "execution_count": 9,
   "id": "ab960760",
   "metadata": {},
   "outputs": [],
   "source": [
    "# theta\n",
    "W = tf.Variable(-0.34)\n",
    "b = tf.Variable(0.04)\n",
    "\n",
    "# forward\n",
    "def compute_output(X, W, b):\n",
    "    return W*X + b\n",
    "\n",
    "# some params\n",
    "lr = 0.01\n",
    "epochs = 100\n",
    "losses = []\n",
    "\n",
    "# training\n",
    "for epoch in range(epochs):\n",
    "    with tf.GradientTape() as t:\n",
    "        # y_hat\n",
    "        y_hat = compute_output(X, W, b)\n",
    "        \n",
    "        # loss\n",
    "        loss = tf.reduce_mean(tf.square(y_hat - y))\n",
    "                \n",
    "    # debug\n",
    "    losses.append(loss.numpy())\n",
    "\n",
    "    # gradient        \n",
    "    dW, db = t.gradient(loss, [W, b])\n",
    "\n",
    "    # update\n",
    "    W.assign_sub(lr*dW)\n",
    "    b.assign_sub(lr*db)"
   ]
  },
  {
   "cell_type": "code",
   "execution_count": null,
   "id": "f89d3728",
   "metadata": {},
   "outputs": [],
   "source": []
  },
  {
   "cell_type": "code",
   "execution_count": 10,
   "id": "9a86f564",
   "metadata": {},
   "outputs": [
    {
     "data": {
      "image/png": "[encoded data removed]",
      "text/plain": [
       "<Figure size 640x480 with 1 Axes>"
      ]
     },
     "metadata": {},
     "output_type": "display_data"
    }
   ],
   "source": [
    "import matplotlib.pyplot as plt\n",
    "\n",
    "# plot losses\n",
    "plt.plot(losses)\n",
    "plt.xlabel('iteration')\n",
    "plt.ylabel('Loss')\n",
    "plt.show()"
   ]
  },
  {
   "cell_type": "code",
   "execution_count": null,
   "id": "4f2efe06",
   "metadata": {},
   "outputs": [],
   "source": []
  }
 ],
 "metadata": {
  "kernelspec": {
   "display_name": "Python 3 (ipykernel)",
   "language": "python",
   "name": "python3"
  },
  "language_info": {
   "codemirror_mode": {
    "name": "ipython",
    "version": 3
   },
   "file_extension": ".py",
   "mimetype": "text/x-python",
   "name": "python",
   "nbconvert_exporter": "python",
   "pygments_lexer": "ipython3",
   "version": "3.9.13"
  }
 },
 "nbformat": 4,
 "nbformat_minor": 5
}
