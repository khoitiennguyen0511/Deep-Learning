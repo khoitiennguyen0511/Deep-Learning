{
 "cells": [
  {
   "cell_type": "code",
   "execution_count": 1,
   "metadata": {},
   "outputs": [
    {
     "name": "stdout",
     "output_type": "stream",
     "text": [
      "[[6.7]\n",
      " [4.6]\n",
      " [3.5]\n",
      " [5.5]]\n",
      "[[9.1]\n",
      " [5.9]\n",
      " [4.6]\n",
      " [6.7]]\n"
     ]
    }
   ],
   "source": [
    "import numpy as np\n",
    "import tensorflow as tf\n",
    "\n",
    "# Data Preparation\n",
    "data = np.genfromtxt('data.csv', delimiter=',')\n",
    "X = data[:,0:1]\n",
    "y = data[:,1:]\n",
    "\n",
    "print(X)\n",
    "print(y)"
   ]
  },
  {
   "cell_type": "code",
   "execution_count": null,
   "metadata": {},
   "outputs": [],
   "source": []
  },
  {
   "cell_type": "code",
   "execution_count": 10,
   "metadata": {},
   "outputs": [
    {
     "name": "stdout",
     "output_type": "stream",
     "text": [
      "Model: \"sequential_2\"\n",
      "_________________________________________________________________\n",
      " Layer (type)                Output Shape              Param #   \n",
      "=================================================================\n",
      " dense_2 (Dense)             (None, 1)                 2         \n",
      "                                                                 \n",
      "=================================================================\n",
      "Total params: 2\n",
      "Trainable params: 2\n",
      "Non-trainable params: 0\n",
      "_________________________________________________________________\n"
     ]
    }
   ],
   "source": [
    "# create model\n"
   ]
  },
  {
   "cell_type": "code",
   "execution_count": null,
   "metadata": {},
   "outputs": [],
   "source": []
  },
  {
   "cell_type": "code",
   "execution_count": 13,
   "metadata": {},
   "outputs": [
    {
     "name": "stdout",
     "output_type": "stream",
     "text": [
      "Epoch 1/100\n",
      "1/1 [==============================] - 0s 318ms/step - loss: 11.5760\n",
      "Epoch 2/100\n",
      "1/1 [==============================] - 0s 10ms/step - loss: 2.3009\n",
      "Epoch 3/100\n",
      "1/1 [==============================] - 0s 10ms/step - loss: 0.5196\n",
      "Epoch 4/100\n",
      "1/1 [==============================] - 0s 12ms/step - loss: 0.1775\n",
      "Epoch 5/100\n",
      "1/1 [==============================] - 0s 12ms/step - loss: 0.1118\n",
      "Epoch 6/100\n",
      "1/1 [==============================] - 0s 11ms/step - loss: 0.0991\n",
      "Epoch 7/100\n",
      "1/1 [==============================] - 0s 9ms/step - loss: 0.0967\n",
      "Epoch 8/100\n",
      "1/1 [==============================] - 0s 9ms/step - loss: 0.0962\n",
      "Epoch 9/100\n",
      "1/1 [==============================] - 0s 20ms/step - loss: 0.0961\n",
      "Epoch 10/100\n",
      "1/1 [==============================] - 0s 6ms/step - loss: 0.0960\n",
      "Epoch 11/100\n",
      "1/1 [==============================] - 0s 7ms/step - loss: 0.0960\n",
      "Epoch 12/100\n",
      "1/1 [==============================] - 0s 10ms/step - loss: 0.0960\n",
      "Epoch 13/100\n",
      "1/1 [==============================] - 0s 6ms/step - loss: 0.0960\n",
      "Epoch 14/100\n",
      "1/1 [==============================] - 0s 7ms/step - loss: 0.0959\n",
      "Epoch 15/100\n",
      "1/1 [==============================] - 0s 7ms/step - loss: 0.0959\n",
      "Epoch 16/100\n",
      "1/1 [==============================] - 0s 5ms/step - loss: 0.0959\n",
      "Epoch 17/100\n",
      "1/1 [==============================] - 0s 6ms/step - loss: 0.0959\n",
      "Epoch 18/100\n",
      "1/1 [==============================] - 0s 6ms/step - loss: 0.0958\n",
      "Epoch 19/100\n",
      "1/1 [==============================] - 0s 10ms/step - loss: 0.0958\n",
      "Epoch 20/100\n",
      "1/1 [==============================] - 0s 12ms/step - loss: 0.0958\n",
      "Epoch 21/100\n",
      "1/1 [==============================] - 0s 8ms/step - loss: 0.0958\n",
      "Epoch 22/100\n",
      "1/1 [==============================] - 0s 6ms/step - loss: 0.0957\n",
      "Epoch 23/100\n",
      "1/1 [==============================] - 0s 8ms/step - loss: 0.0957\n",
      "Epoch 24/100\n",
      "1/1 [==============================] - 0s 9ms/step - loss: 0.0957\n",
      "Epoch 25/100\n",
      "1/1 [==============================] - 0s 11ms/step - loss: 0.0957\n",
      "Epoch 26/100\n",
      "1/1 [==============================] - 0s 7ms/step - loss: 0.0956\n",
      "Epoch 27/100\n",
      "1/1 [==============================] - 0s 5ms/step - loss: 0.0956\n",
      "Epoch 28/100\n",
      "1/1 [==============================] - 0s 7ms/step - loss: 0.0956\n",
      "Epoch 29/100\n",
      "1/1 [==============================] - 0s 11ms/step - loss: 0.0956\n",
      "Epoch 30/100\n",
      "1/1 [==============================] - 0s 4ms/step - loss: 0.0955\n",
      "Epoch 31/100\n",
      "1/1 [==============================] - 0s 7ms/step - loss: 0.0955\n",
      "Epoch 32/100\n",
      "1/1 [==============================] - 0s 12ms/step - loss: 0.0955\n",
      "Epoch 33/100\n",
      "1/1 [==============================] - 0s 7ms/step - loss: 0.0955\n",
      "Epoch 34/100\n",
      "1/1 [==============================] - 0s 10ms/step - loss: 0.0954\n",
      "Epoch 35/100\n",
      "1/1 [==============================] - 0s 5ms/step - loss: 0.0954\n",
      "Epoch 36/100\n",
      "1/1 [==============================] - 0s 7ms/step - loss: 0.0954\n",
      "Epoch 37/100\n",
      "1/1 [==============================] - 0s 8ms/step - loss: 0.0954\n",
      "Epoch 38/100\n",
      "1/1 [==============================] - 0s 10ms/step - loss: 0.0953\n",
      "Epoch 39/100\n",
      "1/1 [==============================] - 0s 5ms/step - loss: 0.0953\n",
      "Epoch 40/100\n",
      "1/1 [==============================] - 0s 9ms/step - loss: 0.0953\n",
      "Epoch 41/100\n",
      "1/1 [==============================] - 0s 10ms/step - loss: 0.0953\n",
      "Epoch 42/100\n",
      "1/1 [==============================] - 0s 5ms/step - loss: 0.0952\n",
      "Epoch 43/100\n",
      "1/1 [==============================] - 0s 17ms/step - loss: 0.0952\n",
      "Epoch 44/100\n",
      "1/1 [==============================] - 0s 8ms/step - loss: 0.0952\n",
      "Epoch 45/100\n",
      "1/1 [==============================] - 0s 5ms/step - loss: 0.0952\n",
      "Epoch 46/100\n",
      "1/1 [==============================] - 0s 5ms/step - loss: 0.0951\n",
      "Epoch 47/100\n",
      "1/1 [==============================] - 0s 7ms/step - loss: 0.0951\n",
      "Epoch 48/100\n",
      "1/1 [==============================] - 0s 8ms/step - loss: 0.0951\n",
      "Epoch 49/100\n",
      "1/1 [==============================] - 0s 6ms/step - loss: 0.0951\n",
      "Epoch 50/100\n",
      "1/1 [==============================] - 0s 10ms/step - loss: 0.0951\n",
      "Epoch 51/100\n",
      "1/1 [==============================] - 0s 5ms/step - loss: 0.0950\n",
      "Epoch 52/100\n",
      "1/1 [==============================] - 0s 5ms/step - loss: 0.0950\n",
      "Epoch 53/100\n",
      "1/1 [==============================] - 0s 9ms/step - loss: 0.0950\n",
      "Epoch 54/100\n",
      "1/1 [==============================] - 0s 20ms/step - loss: 0.0950\n",
      "Epoch 55/100\n",
      "1/1 [==============================] - 0s 6ms/step - loss: 0.0949\n",
      "Epoch 56/100\n",
      "1/1 [==============================] - 0s 7ms/step - loss: 0.0949\n",
      "Epoch 57/100\n",
      "1/1 [==============================] - 0s 5ms/step - loss: 0.0949\n",
      "Epoch 58/100\n",
      "1/1 [==============================] - 0s 7ms/step - loss: 0.0949\n",
      "Epoch 59/100\n",
      "1/1 [==============================] - 0s 12ms/step - loss: 0.0948\n",
      "Epoch 60/100\n",
      "1/1 [==============================] - 0s 7ms/step - loss: 0.0948\n",
      "Epoch 61/100\n",
      "1/1 [==============================] - 0s 4ms/step - loss: 0.0948\n",
      "Epoch 62/100\n",
      "1/1 [==============================] - 0s 11ms/step - loss: 0.0948\n",
      "Epoch 63/100\n",
      "1/1 [==============================] - 0s 4ms/step - loss: 0.0948\n",
      "Epoch 64/100\n",
      "1/1 [==============================] - 0s 10ms/step - loss: 0.0947\n",
      "Epoch 65/100\n",
      "1/1 [==============================] - 0s 6ms/step - loss: 0.0947\n",
      "Epoch 66/100\n",
      "1/1 [==============================] - 0s 7ms/step - loss: 0.0947\n",
      "Epoch 67/100\n",
      "1/1 [==============================] - 0s 7ms/step - loss: 0.0947\n",
      "Epoch 68/100\n",
      "1/1 [==============================] - 0s 13ms/step - loss: 0.0946\n",
      "Epoch 69/100\n",
      "1/1 [==============================] - 0s 13ms/step - loss: 0.0946\n",
      "Epoch 70/100\n",
      "1/1 [==============================] - 0s 8ms/step - loss: 0.0946\n",
      "Epoch 71/100\n",
      "1/1 [==============================] - 0s 5ms/step - loss: 0.0946\n",
      "Epoch 72/100\n",
      "1/1 [==============================] - 0s 12ms/step - loss: 0.0945\n",
      "Epoch 73/100\n",
      "1/1 [==============================] - 0s 13ms/step - loss: 0.0945\n",
      "Epoch 74/100\n",
      "1/1 [==============================] - 0s 8ms/step - loss: 0.0945\n",
      "Epoch 75/100\n",
      "1/1 [==============================] - 0s 9ms/step - loss: 0.0945\n",
      "Epoch 76/100\n",
      "1/1 [==============================] - 0s 10ms/step - loss: 0.0945\n",
      "Epoch 77/100\n",
      "1/1 [==============================] - 0s 8ms/step - loss: 0.0944\n",
      "Epoch 78/100\n",
      "1/1 [==============================] - 0s 6ms/step - loss: 0.0944\n",
      "Epoch 79/100\n",
      "1/1 [==============================] - 0s 6ms/step - loss: 0.0944\n",
      "Epoch 80/100\n",
      "1/1 [==============================] - 0s 4ms/step - loss: 0.0944\n",
      "Epoch 81/100\n",
      "1/1 [==============================] - 0s 8ms/step - loss: 0.0943\n",
      "Epoch 82/100\n",
      "1/1 [==============================] - 0s 12ms/step - loss: 0.0943\n",
      "Epoch 83/100\n",
      "1/1 [==============================] - 0s 10ms/step - loss: 0.0943\n",
      "Epoch 84/100\n",
      "1/1 [==============================] - 0s 6ms/step - loss: 0.0943\n",
      "Epoch 85/100\n",
      "1/1 [==============================] - 0s 7ms/step - loss: 0.0943\n",
      "Epoch 86/100\n",
      "1/1 [==============================] - 0s 7ms/step - loss: 0.0942\n",
      "Epoch 87/100\n",
      "1/1 [==============================] - 0s 7ms/step - loss: 0.0942\n",
      "Epoch 88/100\n",
      "1/1 [==============================] - 0s 7ms/step - loss: 0.0942\n",
      "Epoch 89/100\n",
      "1/1 [==============================] - 0s 8ms/step - loss: 0.0942\n",
      "Epoch 90/100\n",
      "1/1 [==============================] - 0s 11ms/step - loss: 0.0941\n",
      "Epoch 91/100\n",
      "1/1 [==============================] - 0s 4ms/step - loss: 0.0941\n",
      "Epoch 92/100\n",
      "1/1 [==============================] - 0s 8ms/step - loss: 0.0941\n",
      "Epoch 93/100\n",
      "1/1 [==============================] - 0s 16ms/step - loss: 0.0941\n",
      "Epoch 94/100\n",
      "1/1 [==============================] - 0s 17ms/step - loss: 0.0941\n",
      "Epoch 95/100\n",
      "1/1 [==============================] - 0s 5ms/step - loss: 0.0940\n",
      "Epoch 96/100\n",
      "1/1 [==============================] - 0s 16ms/step - loss: 0.0940\n",
      "Epoch 97/100\n",
      "1/1 [==============================] - 0s 4ms/step - loss: 0.0940\n",
      "Epoch 98/100\n",
      "1/1 [==============================] - 0s 12ms/step - loss: 0.0940\n",
      "Epoch 99/100\n",
      "1/1 [==============================] - 0s 11ms/step - loss: 0.0940\n",
      "Epoch 100/100\n",
      "1/1 [==============================] - 0s 10ms/step - loss: 0.0939\n"
     ]
    }
   ],
   "source": [
    "model = tf.keras.Sequential()\n",
    "model.add(tf.keras.Input(shape=(1,)))\n",
    "model.add(tf.keras.layers.Dense(1))\n",
    "\n",
    "model.compile(optimizer='sgd', loss='mse')\n",
    "history = model.fit(X, y, 4, epochs=100)"
   ]
  },
  {
   "cell_type": "code",
   "execution_count": null,
   "metadata": {},
   "outputs": [],
   "source": []
  },
  {
   "cell_type": "code",
   "execution_count": 12,
   "metadata": {},
   "outputs": [
    {
     "data": {
      "image/png": "[encoded data removed]",
      "text/plain": [
       "<Figure size 640x480 with 1 Axes>"
      ]
     },
     "metadata": {},
     "output_type": "display_data"
    }
   ],
   "source": [
    "import matplotlib.pyplot as plt\n",
    "\n",
    "# plot losses\n",
    "plt.plot(history.history['loss'])\n",
    "plt.xlabel('iteration')\n",
    "plt.ylabel('Loss')\n",
    "plt.show()"
   ]
  },
  {
   "cell_type": "code",
   "execution_count": null,
   "metadata": {},
   "outputs": [],
   "source": []
  },
  {
   "cell_type": "code",
   "execution_count": null,
   "metadata": {},
   "outputs": [],
   "source": []
  },
  {
   "cell_type": "code",
   "execution_count": null,
   "metadata": {},
   "outputs": [],
   "source": []
  },
  {
   "cell_type": "code",
   "execution_count": 5,
   "metadata": {},
   "outputs": [
    {
     "data": {
      "text/plain": [
       "{'loss': [46.54228973388672,\n",
       "  9.021710395812988,\n",
       "  1.8158888816833496,\n",
       "  0.4319867491722107,\n",
       "  0.1661769598722458,\n",
       "  0.11509725451469421,\n",
       "  0.1052556186914444,\n",
       "  0.1033342182636261,\n",
       "  0.10293342918157578,\n",
       "  0.10282538086175919,\n",
       "  0.10277311503887177,\n",
       "  0.1027316302061081,\n",
       "  0.10269244760274887,\n",
       "  0.10265402495861053,\n",
       "  0.10261526703834534,\n",
       "  0.10257677733898163,\n",
       "  0.10253845155239105,\n",
       "  0.10250028967857361,\n",
       "  0.10246208310127258,\n",
       "  0.10242383182048798,\n",
       "  0.10238578915596008,\n",
       "  0.10234766453504562,\n",
       "  0.10231002420186996,\n",
       "  0.10227185487747192,\n",
       "  0.10223431140184402,\n",
       "  0.1021965742111206,\n",
       "  0.10215900838375092,\n",
       "  0.10212142020463943,\n",
       "  0.10208382457494736,\n",
       "  0.10204647481441498,\n",
       "  0.10200904309749603,\n",
       "  0.10197212547063828,\n",
       "  0.10193479061126709,\n",
       "  0.1018977165222168,\n",
       "  0.10186037421226501,\n",
       "  0.10182362049818039,\n",
       "  0.1017865389585495,\n",
       "  0.10174998641014099,\n",
       "  0.10171312838792801,\n",
       "  0.10167647153139114,\n",
       "  0.1016400009393692,\n",
       "  0.10160347074270248,\n",
       "  0.10156691819429398,\n",
       "  0.10153064876794815,\n",
       "  0.10149414837360382,\n",
       "  0.10145795345306396,\n",
       "  0.10142174363136292,\n",
       "  0.10138559341430664,\n",
       "  0.10134970396757126,\n",
       "  0.10131368786096573,\n",
       "  0.1012779101729393,\n",
       "  0.10124204307794571,\n",
       "  0.10120624303817749,\n",
       "  0.101170614361763,\n",
       "  0.10113506764173508,\n",
       "  0.10109967738389969,\n",
       "  0.10106382519006729,\n",
       "  0.1010286882519722,\n",
       "  0.10099324584007263,\n",
       "  0.10095822811126709,\n",
       "  0.10092290490865707,\n",
       "  0.10088787972927094,\n",
       "  0.10085254907608032,\n",
       "  0.10081778466701508,\n",
       "  0.10078276693820953,\n",
       "  0.1007479876279831,\n",
       "  0.10071323812007904,\n",
       "  0.1006784439086914,\n",
       "  0.10064399987459183,\n",
       "  0.10060951858758926,\n",
       "  0.10057468712329865,\n",
       "  0.10054028779268265,\n",
       "  0.10050615668296814,\n",
       "  0.10047169774770737,\n",
       "  0.10043750703334808,\n",
       "  0.10040321946144104,\n",
       "  0.1003691777586937,\n",
       "  0.10033513605594635,\n",
       "  0.10030127316713333,\n",
       "  0.10026738792657852,\n",
       "  0.10023345798254013,\n",
       "  0.10019975155591965,\n",
       "  0.1001662015914917,\n",
       "  0.10013242810964584,\n",
       "  0.10009893029928207,\n",
       "  0.10006532073020935,\n",
       "  0.10003193467855453,\n",
       "  0.099998340010643,\n",
       "  0.0999651551246643,\n",
       "  0.09993219375610352,\n",
       "  0.0998985767364502,\n",
       "  0.09986567497253418,\n",
       "  0.0998326763510704,\n",
       "  0.09979971498250961,\n",
       "  0.09976667165756226,\n",
       "  0.09973393380641937,\n",
       "  0.09970115125179291,\n",
       "  0.09966856986284256,\n",
       "  0.09963580220937729,\n",
       "  0.09960329532623291]}"
      ]
     },
     "execution_count": 5,
     "metadata": {},
     "output_type": "execute_result"
    }
   ],
   "source": []
  },
  {
   "cell_type": "code",
   "execution_count": null,
   "metadata": {},
   "outputs": [],
   "source": []
  },
  {
   "cell_type": "code",
   "execution_count": 8,
   "metadata": {},
   "outputs": [
    {
     "name": "stdout",
     "output_type": "stream",
     "text": [
      "[array([[1.2660329]], dtype=float32), array([0.1778885], dtype=float32)]\n"
     ]
    }
   ],
   "source": [
    "# parameters after one epoch\n",
    "print(model.layers[0].get_weights())"
   ]
  },
  {
   "cell_type": "code",
   "execution_count": null,
   "metadata": {},
   "outputs": [],
   "source": []
  },
  {
   "cell_type": "code",
   "execution_count": 9,
   "metadata": {},
   "outputs": [
    {
     "name": "stdout",
     "output_type": "stream",
     "text": [
      "(1, 1)\n",
      "tf.Tensor([[9.040119]], shape=(1, 1), dtype=float32)\n"
     ]
    }
   ],
   "source": [
    "x_new = [[7.0]]\n",
    "x_new = np.array(x_new)\n",
    "print(x_new.shape)\n",
    "\n",
    "y_hat = model(x_new)\n",
    "print(y_hat)"
   ]
  },
  {
   "cell_type": "code",
   "execution_count": null,
   "metadata": {},
   "outputs": [],
   "source": []
  },
  {
   "cell_type": "code",
   "execution_count": 9,
   "metadata": {},
   "outputs": [
    {
     "data": {
      "image/png": "[encoded data removed]",
      "text/plain": [
       "<Figure size 640x480 with 1 Axes>"
      ]
     },
     "metadata": {},
     "output_type": "display_data"
    }
   ],
   "source": [
    "import matplotlib.pyplot as plt\n",
    "\n",
    "# plot losses\n",
    "plt.plot(history.history['loss'])\n",
    "plt.xlabel('iteration')\n",
    "plt.ylabel('Loss')\n",
    "plt.show()"
   ]
  },
  {
   "cell_type": "code",
   "execution_count": null,
   "metadata": {},
   "outputs": [],
   "source": []
  },
  {
   "cell_type": "code",
   "execution_count": null,
   "metadata": {},
   "outputs": [],
   "source": []
  },
  {
   "cell_type": "code",
   "execution_count": null,
   "metadata": {},
   "outputs": [],
   "source": []
  },
  {
   "cell_type": "code",
   "execution_count": null,
   "metadata": {},
   "outputs": [],
   "source": []
  },
  {
   "cell_type": "code",
   "execution_count": null,
   "metadata": {},
   "outputs": [],
   "source": []
  },
  {
   "cell_type": "code",
   "execution_count": null,
   "metadata": {},
   "outputs": [],
   "source": []
  },
  {
   "cell_type": "code",
   "execution_count": null,
   "metadata": {},
   "outputs": [],
   "source": []
  },
  {
   "cell_type": "code",
   "execution_count": null,
   "metadata": {},
   "outputs": [],
   "source": []
  },
  {
   "cell_type": "code",
   "execution_count": null,
   "metadata": {},
   "outputs": [],
   "source": []
  },
  {
   "cell_type": "code",
   "execution_count": null,
   "metadata": {},
   "outputs": [],
   "source": []
  },
  {
   "cell_type": "code",
   "execution_count": null,
   "metadata": {},
   "outputs": [],
   "source": []
  },
  {
   "cell_type": "code",
   "execution_count": null,
   "metadata": {},
   "outputs": [],
   "source": []
  },
  {
   "cell_type": "code",
   "execution_count": null,
   "metadata": {},
   "outputs": [],
   "source": [
    "import numpy as np\n",
    "import tensorflow as tf\n",
    "import tensorflow.keras as keras\n",
    "\n",
    "batch_size = 4\n",
    "epochs = 10\n",
    "\n",
    "# Data Preparation\n",
    "data = np.genfromtxt('data.csv', delimiter=',')\n",
    "X = data[:,0:1]\n",
    "y = data[:,1:]\n",
    "\n",
    "print(X.shape)\n",
    "print(y.shape)\n",
    "\n",
    "\n",
    "\n",
    "\n",
    "\n",
    "\n",
    "# create model\n",
    "model = tf.keras.Sequential( [tf.keras.layers.Dense(units=1, input_shape=[1])])\n",
    "\n",
    "# declare optimization method and loss function\n",
    "model.compile(optimizer=keras.optimizers.SGD(learning_rate=0.01), loss='mse')\n",
    "\n",
    "# training\n",
    "history = model.fit(X, y, batch_size, epochs)"
   ]
  },
  {
   "cell_type": "code",
   "execution_count": null,
   "metadata": {},
   "outputs": [],
   "source": [
    "import matplotlib.pyplot as plt\n",
    "\n",
    "# plot losses\n",
    "plt.plot(history.history['loss'])\n",
    "plt.xlabel('iteration')\n",
    "plt.ylabel('Loss')\n",
    "plt.show()"
   ]
  },
  {
   "cell_type": "code",
   "execution_count": null,
   "metadata": {},
   "outputs": [],
   "source": []
  },
  {
   "cell_type": "code",
   "execution_count": null,
   "metadata": {},
   "outputs": [],
   "source": [
    "# testing\n",
    "X_testing = [[5.0]]\n",
    "y_hat = model.predict(X_testing)\n",
    "print(y_hat)  # [[6.51236]]"
   ]
  },
  {
   "cell_type": "code",
   "execution_count": null,
   "metadata": {},
   "outputs": [],
   "source": [
    "import numpy as np\n",
    "import tensorflow as tf\n",
    "import tensorflow.keras as keras\n",
    "\n",
    "batch_size = 4\n",
    "epochs = 10\n",
    "\n",
    "# Data Preparation\n",
    "data = np.genfromtxt('data.csv', delimiter=',')\n",
    "X = data[:,0:1]\n",
    "y = data[:,1:]\n",
    "\n",
    "# create model\n",
    "model = tf.keras.Sequential(\n",
    "    [tf.keras.layers.Dense(units=1, input_shape=[1])])\n",
    "\n",
    "# declare optimization method and loss function\n",
    "opt = keras.optimizers.SGD(learning_rate=0.01)\n",
    "model.compile(optimizer=opt, loss='mse')\n",
    "\n",
    "# training\n",
    "history = model.fit(X, y, batch_size, epochs)\n",
    "\n",
    "# save model\n",
    "checkpoint_path = \"my_model/model.ckpt\"\n",
    "model.save_weights(checkpoint_path)"
   ]
  },
  {
   "cell_type": "code",
   "execution_count": null,
   "metadata": {},
   "outputs": [],
   "source": [
    "import tensorflow as tf\n",
    "import tensorflow.keras as keras\n",
    "\n",
    "# create model\n",
    "model = tf.keras.Sequential(\n",
    "    [tf.keras.layers.Dense(units=1, input_shape=[1])])\n",
    "\n",
    "# load model\n",
    "model.load_weights('my_model/model.ckpt')\n",
    "\n",
    "X_testing = [[5.0]]\n",
    "y_hat = model.predict(X_testing)\n",
    "print(y_hat)"
   ]
  },
  {
   "cell_type": "code",
   "execution_count": null,
   "metadata": {},
   "outputs": [],
   "source": []
  },
  {
   "cell_type": "code",
   "execution_count": null,
   "metadata": {},
   "outputs": [],
   "source": [
    "import numpy as np\n",
    "import tensorflow as tf\n",
    "import tensorflow.keras as keras\n",
    "\n",
    "batch_size = 4\n",
    "epochs = 10\n",
    "\n",
    "# Data Preparation\n",
    "data = np.genfromtxt('data.csv', delimiter=',')\n",
    "X = data[:,0:1]\n",
    "y = data[:,1:]\n",
    "\n",
    "# create model\n",
    "model = tf.keras.Sequential(\n",
    "    [tf.keras.layers.Dense(units=1, input_shape=[1])])\n",
    "\n",
    "# declare optimization method and loss function\n",
    "opt = keras.optimizers.SGD(learning_rate=0.01)\n",
    "model.compile(optimizer=opt, loss='mse')\n",
    "\n",
    "# training\n",
    "history = model.fit(X, y, batch_size, epochs)\n",
    "\n",
    "# save entire model\n",
    "model.save('my_model/model.h5') "
   ]
  },
  {
   "cell_type": "code",
   "execution_count": null,
   "metadata": {},
   "outputs": [],
   "source": [
    "import tensorflow as tf\n",
    "import tensorflow.keras as keras\n",
    "\n",
    "# load model\n",
    "model = tf.keras.models.load_model('my_model/model.h5')\n",
    "\n",
    "# testing\n",
    "X_testing = [[5.0]]\n",
    "y_hat = model.predict(X_testing)\n",
    "print(y_hat)"
   ]
  },
  {
   "cell_type": "code",
   "execution_count": null,
   "metadata": {},
   "outputs": [],
   "source": []
  },
  {
   "cell_type": "code",
   "execution_count": null,
   "metadata": {},
   "outputs": [],
   "source": [
    "\n",
    "\n",
    "# initialize parameters\n",
    "model.layers[0].set_weights([np.array([[-0.34]]), np.array([0.04])])\n",
    "\n",
    "\n",
    "\n",
    "\n",
    "\n",
    "# declare optimization method and loss function\n",
    "model.compile(optimizer='adam', loss='mean_squared_error')\n",
    "\n",
    "# training\n",
    "model.fit(X, y, 4, epochs=100)\n",
    "\n",
    "# parameters after one epoch\n",
    "print('weight-bias: \\n', model.layers[0].get_weights())"
   ]
  },
  {
   "cell_type": "code",
   "execution_count": null,
   "metadata": {},
   "outputs": [],
   "source": []
  }
 ],
 "metadata": {
  "kernelspec": {
   "display_name": "Python 3 (ipykernel)",
   "language": "python",
   "name": "python3"
  },
  "language_info": {
   "codemirror_mode": {
    "name": "ipython",
    "version": 3
   },
   "file_extension": ".py",
   "mimetype": "text/x-python",
   "name": "python",
   "nbconvert_exporter": "python",
   "pygments_lexer": "ipython3",
   "version": "3.9.13"
  }
 },
 "nbformat": 4,
 "nbformat_minor": 2
}
