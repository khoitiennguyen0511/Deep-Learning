{
 "cells": [
  {
   "cell_type": "markdown",
   "id": "37aa95eb",
   "metadata": {},
   "source": [
    "# N samples"
   ]
  },
  {
   "cell_type": "code",
   "execution_count": 1,
   "id": "c0d10420",
   "metadata": {},
   "outputs": [
    {
     "name": "stdout",
     "output_type": "stream",
     "text": [
      "[[1.  5.  3.2 1.2 0.2]\n",
      " [1.  6.1 2.9 4.7 1.4]\n",
      " [1.  6.3 2.7 4.9 1.8]\n",
      " [1.  6.  3.  4.8 1.8]\n",
      " [1.  5.6 2.9 3.6 1.3]\n",
      " [1.  5.6 3.  4.5 1.5]\n",
      " [1.  6.4 3.2 5.3 2.3]]\n",
      "[[0.]\n",
      " [1.]\n",
      " [2.]\n",
      " [2.]\n",
      " [1.]\n",
      " [1.]\n",
      " [2.]]\n"
     ]
    }
   ],
   "source": [
    "import numpy as np\n",
    "import tensorflow as tf\n",
    "\n",
    "# Data preparation\n",
    "data = np.genfromtxt('iris_full.csv', delimiter=',', skip_header=1)\n",
    "X = data[:,0:4]\n",
    "y = data[:,4:]\n",
    "N = X.shape[0]\n",
    "\n",
    "# add 1\n",
    "X = np.c_[np.ones((N, 1)), X]\n",
    "\n",
    "# shuffle\n",
    "inds = np.arange(N)\n",
    "np.random.shuffle(inds)\n",
    "\n",
    "X = X[inds]\n",
    "y = y[inds]\n",
    "\n",
    "print(X[:7])\n",
    "print(y[:7])"
   ]
  },
  {
   "cell_type": "code",
   "execution_count": null,
   "id": "9770020c",
   "metadata": {},
   "outputs": [],
   "source": []
  },
  {
   "cell_type": "code",
   "execution_count": 2,
   "id": "d654915b",
   "metadata": {},
   "outputs": [],
   "source": [
    "# theta\n",
    "D = 4 + 1\n",
    "K = 3\n",
    "theta = tf.Variable(tf.random.normal((D, K), dtype=tf.float64))\n",
    " \n",
    "# forward\n",
    "def compute_output(theta, X):\n",
    "    return tf.math.softmax(X@theta)"
   ]
  },
  {
   "cell_type": "code",
   "execution_count": null,
   "id": "37bcefa7",
   "metadata": {},
   "outputs": [],
   "source": []
  },
  {
   "cell_type": "code",
   "execution_count": 3,
   "id": "8f593053",
   "metadata": {},
   "outputs": [],
   "source": [
    "# parameters\n",
    "lr = 0.01\n",
    "num_epochs = 1000\n",
    "losses = [] # for debug\n",
    "\n",
    "loss_fn = tf.keras.losses.SparseCategoricalCrossentropy()"
   ]
  },
  {
   "cell_type": "code",
   "execution_count": null,
   "id": "50a16d6e",
   "metadata": {},
   "outputs": [],
   "source": []
  },
  {
   "cell_type": "code",
   "execution_count": 4,
   "id": "3ba08f2a",
   "metadata": {},
   "outputs": [],
   "source": [
    "for epoch in range(num_epochs):\n",
    "    with tf.GradientTape() as t:\n",
    "        # output\n",
    "        output = compute_output(theta, X)\n",
    "        \n",
    "        # loss\n",
    "        loss = loss_fn(y, output)\n",
    "        \n",
    "    losses.append(loss.numpy())\n",
    "\n",
    "    # gradient\n",
    "    dtheta = t.gradient(loss, theta)\n",
    "\n",
    "    # update\n",
    "    theta.assign_sub(lr * dtheta)"
   ]
  },
  {
   "cell_type": "code",
   "execution_count": null,
   "id": "f84d2bd8",
   "metadata": {},
   "outputs": [],
   "source": []
  },
  {
   "cell_type": "code",
   "execution_count": null,
   "id": "f8bb2f13",
   "metadata": {},
   "outputs": [],
   "source": [
    "for epoch in range(num_epochs):\n",
    "    with tf.GradientTape() as t:\n",
    "        # output\n",
    "        z = theta.T@x\n",
    "        y_hat = softmax(z)\n",
    "        \n",
    "        # loss\n",
    "        loss = loss_fn(y, y_hat)\n",
    "        \n",
    "    losses.append(loss.numpy())\n",
    "\n",
    "    # gradient\n",
    "    dtheta = t.gradient(loss, theta)\n",
    "\n",
    "    # update\n",
    "    theta.assign_sub(lr * dtheta)"
   ]
  },
  {
   "cell_type": "code",
   "execution_count": null,
   "id": "4997cf04",
   "metadata": {},
   "outputs": [],
   "source": []
  },
  {
   "cell_type": "code",
   "execution_count": null,
   "id": "9625fdff",
   "metadata": {},
   "outputs": [],
   "source": []
  },
  {
   "cell_type": "code",
   "execution_count": null,
   "id": "05f3c285",
   "metadata": {},
   "outputs": [],
   "source": []
  },
  {
   "cell_type": "code",
   "execution_count": 5,
   "id": "7b5f8c80",
   "metadata": {},
   "outputs": [
    {
     "data": {
      "image/png": "[encoded data removed]",
      "text/plain": [
       "<Figure size 432x288 with 1 Axes>"
      ]
     },
     "metadata": {
      "needs_background": "light"
     },
     "output_type": "display_data"
    }
   ],
   "source": [
    "import matplotlib.pyplot as plt\n",
    "\n",
    "plt.plot(losses)\n",
    "plt.xlabel('iteration')\n",
    "plt.ylabel('Loss')\n",
    "plt.show()"
   ]
  },
  {
   "cell_type": "code",
   "execution_count": null,
   "id": "ab233da4",
   "metadata": {},
   "outputs": [],
   "source": []
  }
 ],
 "metadata": {
  "kernelspec": {
   "display_name": "Python 3 (ipykernel)",
   "language": "python",
   "name": "python3"
  },
  "language_info": {
   "codemirror_mode": {
    "name": "ipython",
    "version": 3
   },
   "file_extension": ".py",
   "mimetype": "text/x-python",
   "name": "python",
   "nbconvert_exporter": "python",
   "pygments_lexer": "ipython3",
   "version": "3.9.13"
  }
 },
 "nbformat": 4,
 "nbformat_minor": 5
}
