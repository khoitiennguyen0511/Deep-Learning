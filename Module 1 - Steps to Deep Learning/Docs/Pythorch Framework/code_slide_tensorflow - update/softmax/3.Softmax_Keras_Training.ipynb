{
 "cells": [
  {
   "cell_type": "code",
   "execution_count": 4,
   "id": "5644eb84",
   "metadata": {},
   "outputs": [
    {
     "name": "stdout",
     "output_type": "stream",
     "text": [
      "(150, 4)\n"
     ]
    }
   ],
   "source": [
    "import numpy as np\n",
    "import tensorflow as tf\n",
    "import tensorflow.keras as keras\n",
    "\n",
    "# Data Preparation\n",
    "data = np.genfromtxt('iris_full.csv', \n",
    "                     delimiter=',', \n",
    "                     skip_header=1)\n",
    "x = data[:,0:4]\n",
    "y = data[:,4:]\n",
    "\n",
    "print(x.shape)"
   ]
  },
  {
   "cell_type": "code",
   "execution_count": null,
   "id": "1b2c626a",
   "metadata": {},
   "outputs": [],
   "source": []
  },
  {
   "cell_type": "code",
   "execution_count": 5,
   "id": "e1ca3601",
   "metadata": {},
   "outputs": [
    {
     "name": "stdout",
     "output_type": "stream",
     "text": [
      "Model: \"sequential\"\n",
      "_________________________________________________________________\n",
      " Layer (type)                Output Shape              Param #   \n",
      "=================================================================\n",
      " dense (Dense)               (None, 3)                 15        \n",
      "                                                                 \n",
      "=================================================================\n",
      "Total params: 15\n",
      "Trainable params: 15\n",
      "Non-trainable params: 0\n",
      "_________________________________________________________________\n"
     ]
    }
   ],
   "source": [
    "# create model\n",
    "model = tf.keras.Sequential()\n",
    "model.add(tf.keras.Input(shape=(4,)))\n",
    "model.add(tf.keras.layers.Dense(units=3, activation='softmax'))\n",
    "\n",
    "model.summary()"
   ]
  },
  {
   "cell_type": "code",
   "execution_count": null,
   "id": "d4d48c29",
   "metadata": {},
   "outputs": [],
   "source": []
  },
  {
   "cell_type": "markdown",
   "id": "595c29f6",
   "metadata": {},
   "source": [
    "# metrics"
   ]
  },
  {
   "cell_type": "code",
   "execution_count": 7,
   "id": "5d630dea",
   "metadata": {},
   "outputs": [
    {
     "name": "stdout",
     "output_type": "stream",
     "text": [
      "Epoch 1/5\n",
      "5/5 [==============================] - 0s 1ms/step - loss: 1.4104 - sparse_categorical_accuracy: 0.3333\n",
      "Epoch 2/5\n",
      "5/5 [==============================] - 0s 1ms/step - loss: 1.0865 - sparse_categorical_accuracy: 0.2733\n",
      "Epoch 3/5\n",
      "5/5 [==============================] - 0s 1ms/step - loss: 0.9814 - sparse_categorical_accuracy: 0.1733\n",
      "Epoch 4/5\n",
      "5/5 [==============================] - 0s 2ms/step - loss: 0.9386 - sparse_categorical_accuracy: 0.3933\n",
      "Epoch 5/5\n",
      "5/5 [==============================] - 0s 2ms/step - loss: 0.9134 - sparse_categorical_accuracy: 0.6000\n"
     ]
    }
   ],
   "source": [
    "# create model\n",
    "model = tf.keras.Sequential()\n",
    "model.add(tf.keras.Input(shape=(4,)))\n",
    "model.add(tf.keras.layers.Dense(units=3, activation='softmax'))\n",
    "\n",
    "# compile\n",
    "opt = tf.keras.optimizers.SGD(0.01)\n",
    "model.compile(optimizer=opt, \n",
    "              loss='sparse_categorical_crossentropy',\n",
    "              metrics=[keras.metrics.SparseCategoricalAccuracy()])\n",
    "\n",
    "# training\n",
    "batch_size = 32\n",
    "epochs = 5\n",
    "history = model.fit(x, y, batch_size, epochs=epochs)"
   ]
  },
  {
   "cell_type": "code",
   "execution_count": null,
   "id": "3d1be158",
   "metadata": {},
   "outputs": [],
   "source": []
  },
  {
   "cell_type": "code",
   "execution_count": null,
   "id": "fda0d4b1",
   "metadata": {},
   "outputs": [],
   "source": [
    "# create model\n",
    "model = tf.keras.Sequential()\n",
    "model.add(tf.keras.Input(shape=(4,)))\n",
    "model.add(tf.keras.layers.Dense(units=3, activation='softmax'))\n",
    "\n",
    "# compile\n",
    "model.compile(optimizer='sgd', \n",
    "              loss='sparse_categorical_crossentropy',\n",
    "              metrics=['sparse_categorical_accuracy'])\n",
    "\n",
    "# training\n",
    "batch_size = 32\n",
    "epochs = 5\n",
    "history = model.fit(x, y, batch_size,\n",
    "                    epochs=epochs, verbose=2)"
   ]
  },
  {
   "cell_type": "code",
   "execution_count": null,
   "id": "31bf9751",
   "metadata": {},
   "outputs": [],
   "source": []
  },
  {
   "cell_type": "code",
   "execution_count": null,
   "id": "72d97de3",
   "metadata": {},
   "outputs": [],
   "source": []
  },
  {
   "cell_type": "markdown",
   "id": "202980cb",
   "metadata": {},
   "source": [
    "# model.fit"
   ]
  },
  {
   "cell_type": "code",
   "execution_count": null,
   "id": "83acaa26",
   "metadata": {},
   "outputs": [],
   "source": [
    "# compile\n",
    "model.compile(optimizer='sgd', \n",
    "              loss='sparse_categorical_crossentropy')\n",
    "\n",
    "# training\n",
    "batch_size = 32\n",
    "epochs = 10\n",
    "history = model.fit(X, y, batch_size, epochs)"
   ]
  },
  {
   "cell_type": "code",
   "execution_count": null,
   "id": "40f5211d",
   "metadata": {},
   "outputs": [],
   "source": []
  },
  {
   "cell_type": "code",
   "execution_count": null,
   "id": "3e1518f2",
   "metadata": {},
   "outputs": [],
   "source": [
    "# compile\n",
    "model.compile(optimizer='sgd', \n",
    "              loss='sparse_categorical_crossentropy')\n",
    "\n",
    "# training\n",
    "batch_size = 32\n",
    "epochs = 10\n",
    "history = model.fit(X, y, batch_size, \n",
    "                    epochs=epochs, initial_epoch=5)"
   ]
  },
  {
   "cell_type": "code",
   "execution_count": null,
   "id": "db290bf0",
   "metadata": {},
   "outputs": [],
   "source": []
  },
  {
   "cell_type": "code",
   "execution_count": null,
   "id": "4f989d41",
   "metadata": {},
   "outputs": [],
   "source": [
    "# compile\n",
    "model.compile(optimizer='sgd', \n",
    "              loss='sparse_categorical_crossentropy')\n",
    "\n",
    "# training\n",
    "batch_size = 32\n",
    "epochs = 6\n",
    "history = model.fit(X, y, batch_size, \n",
    "                    epochs=epochs, verbose=2)"
   ]
  },
  {
   "cell_type": "code",
   "execution_count": null,
   "id": "42b9fbe0",
   "metadata": {},
   "outputs": [],
   "source": []
  },
  {
   "cell_type": "code",
   "execution_count": null,
   "id": "1a69e47a",
   "metadata": {},
   "outputs": [],
   "source": [
    "# compile\n",
    "model.compile(optimizer='sgd', \n",
    "              loss='sparse_categorical_crossentropy')\n",
    "\n",
    "# training\n",
    "batch_size = 32\n",
    "epochs = 6\n",
    "history = model.fit(X, y, batch_size, \n",
    "                    epochs=epochs, verbose=2,\n",
    "                    validation_split=0.2)"
   ]
  },
  {
   "cell_type": "code",
   "execution_count": null,
   "id": "2fc652a3",
   "metadata": {},
   "outputs": [],
   "source": []
  },
  {
   "cell_type": "code",
   "execution_count": null,
   "id": "97ac235d",
   "metadata": {},
   "outputs": [],
   "source": []
  },
  {
   "cell_type": "markdown",
   "id": "42b45c12",
   "metadata": {},
   "source": [
    "# validation_data"
   ]
  },
  {
   "cell_type": "code",
   "execution_count": 15,
   "id": "cc5a79d3",
   "metadata": {},
   "outputs": [
    {
     "name": "stdout",
     "output_type": "stream",
     "text": [
      "Train data\n",
      "(120, 4)\n",
      "(120, 1)\n",
      "Validation data\n",
      "(30, 4)\n",
      "(30, 1)\n"
     ]
    }
   ],
   "source": [
    "# validation_data\n",
    "\n",
    "import numpy as np\n",
    "import tensorflow as tf\n",
    "import tensorflow.keras as keras\n",
    "\n",
    "# Data Preparation\n",
    "data = np.genfromtxt('iris_full.csv', \n",
    "                     delimiter=',', \n",
    "                     skip_header=1)\n",
    "x = data[:,0:4]\n",
    "y = data[:,4:]\n",
    "N = x.shape[0]\n",
    "\n",
    "# shuffle\n",
    "inds = np.arange(N)\n",
    "np.random.shuffle(inds)\n",
    "\n",
    "x = x[inds]\n",
    "y = y[inds]\n",
    "\n",
    "# prepare train and val data\n",
    "N_train = 120\n",
    "x_train = x[:N_train]\n",
    "y_train = y[:N_train]\n",
    "\n",
    "x_val = x[N_train:]\n",
    "y_val = y[N_train:]\n",
    "\n",
    "print('Train data')\n",
    "print(x_train.shape)\n",
    "print(y_train.shape)\n",
    "\n",
    "print('Validation data')\n",
    "print(x_val.shape)\n",
    "print(y_val.shape)"
   ]
  },
  {
   "cell_type": "code",
   "execution_count": 16,
   "id": "41b86ebc",
   "metadata": {},
   "outputs": [
    {
     "name": "stdout",
     "output_type": "stream",
     "text": [
      "Model: \"sequential_4\"\n",
      "_________________________________________________________________\n",
      " Layer (type)                Output Shape              Param #   \n",
      "=================================================================\n",
      " dense_4 (Dense)             (None, 3)                 15        \n",
      "                                                                 \n",
      "=================================================================\n",
      "Total params: 15\n",
      "Trainable params: 15\n",
      "Non-trainable params: 0\n",
      "_________________________________________________________________\n"
     ]
    }
   ],
   "source": [
    "# create model\n",
    "model = tf.keras.Sequential()\n",
    "model.add(tf.keras.Input(shape=(4,)))\n",
    "model.add(tf.keras.layers.Dense(units=3, activation='softmax'))\n",
    "\n",
    "model.summary()"
   ]
  },
  {
   "cell_type": "code",
   "execution_count": 20,
   "id": "4421fc54",
   "metadata": {},
   "outputs": [
    {
     "name": "stdout",
     "output_type": "stream",
     "text": [
      "Epoch 1/6\n",
      "3/3 - 0s - loss: 0.8276 - val_loss: 0.8518 - 274ms/epoch - 91ms/step\n",
      "Epoch 2/6\n",
      "3/3 - 0s - loss: 0.8117 - val_loss: 0.8561 - 28ms/epoch - 9ms/step\n",
      "Epoch 3/6\n",
      "3/3 - 0s - loss: 0.8003 - val_loss: 0.8448 - 31ms/epoch - 10ms/step\n",
      "Epoch 4/6\n",
      "3/3 - 0s - loss: 0.7875 - val_loss: 0.8352 - 36ms/epoch - 12ms/step\n",
      "Epoch 5/6\n",
      "3/3 - 0s - loss: 0.7849 - val_loss: 0.8358 - 36ms/epoch - 12ms/step\n",
      "Epoch 6/6\n",
      "3/3 - 0s - loss: 0.7747 - val_loss: 0.8047 - 33ms/epoch - 11ms/step\n"
     ]
    }
   ],
   "source": [
    "# compile\n",
    "model.compile(optimizer='sgd', \n",
    "              loss='sparse_categorical_crossentropy')\n",
    "\n",
    "# training\n",
    "batch_size = 32\n",
    "epochs = 6\n",
    "history = model.fit(x_train, y_train, batch_size,\n",
    "                    validation_data=(x_val, y_val),\n",
    "                    validation_split=0.4,\n",
    "                    epochs=epochs, verbose=2)"
   ]
  },
  {
   "cell_type": "code",
   "execution_count": null,
   "id": "fffd21ab",
   "metadata": {},
   "outputs": [],
   "source": []
  },
  {
   "cell_type": "code",
   "execution_count": 21,
   "id": "48b63f5c",
   "metadata": {},
   "outputs": [
    {
     "name": "stdout",
     "output_type": "stream",
     "text": [
      "Epoch 1/5\n",
      "\n",
      "Epoch 00001: val_loss improved from inf to 0.73682, saving model to models\\model_1\n",
      "INFO:tensorflow:Assets written to: models\\model_1\\assets\n",
      "4/4 - 1s - loss: 0.7733 - sparse_categorical_accuracy: 0.6083 - val_loss: 0.7368 - val_sparse_categorical_accuracy: 0.7667 - 830ms/epoch - 207ms/step\n",
      "Epoch 2/5\n",
      "\n",
      "Epoch 00002: val_loss improved from 0.73682 to 0.72471, saving model to models\\model_2\n",
      "INFO:tensorflow:Assets written to: models\\model_2\\assets\n",
      "4/4 - 0s - loss: 0.7648 - sparse_categorical_accuracy: 0.6833 - val_loss: 0.7247 - val_sparse_categorical_accuracy: 0.7667 - 333ms/epoch - 83ms/step\n",
      "Epoch 3/5\n",
      "\n",
      "Epoch 00003: val_loss improved from 0.72471 to 0.71506, saving model to models\\model_3\n",
      "INFO:tensorflow:Assets written to: models\\model_3\\assets\n",
      "4/4 - 0s - loss: 0.7502 - sparse_categorical_accuracy: 0.6500 - val_loss: 0.7151 - val_sparse_categorical_accuracy: 0.8000 - 363ms/epoch - 91ms/step\n",
      "Epoch 4/5\n",
      "\n",
      "Epoch 00004: val_loss improved from 0.71506 to 0.70227, saving model to models\\model_4\n",
      "INFO:tensorflow:Assets written to: models\\model_4\\assets\n",
      "4/4 - 0s - loss: 0.7410 - sparse_categorical_accuracy: 0.7250 - val_loss: 0.7023 - val_sparse_categorical_accuracy: 0.7667 - 401ms/epoch - 100ms/step\n",
      "Epoch 5/5\n",
      "\n",
      "Epoch 00005: val_loss improved from 0.70227 to 0.69271, saving model to models\\model_5\n",
      "INFO:tensorflow:Assets written to: models\\model_5\\assets\n",
      "4/4 - 0s - loss: 0.7318 - sparse_categorical_accuracy: 0.7333 - val_loss: 0.6927 - val_sparse_categorical_accuracy: 0.8000 - 494ms/epoch - 124ms/step\n"
     ]
    }
   ],
   "source": [
    "# callbacks\n",
    "\n",
    "# compile\n",
    "model.compile(optimizer='sgd', \n",
    "              loss='sparse_categorical_crossentropy',\n",
    "              metrics=[keras.metrics.SparseCategoricalAccuracy()])\n",
    "\n",
    "# training\n",
    "callbacks = [\n",
    "    keras.callbacks.ModelCheckpoint(\n",
    "        filepath=\"models/model_{epoch}\",\n",
    "        save_best_only=True,\n",
    "        monitor=\"val_loss\",\n",
    "        verbose=1\n",
    "    )\n",
    "]\n",
    "\n",
    "batch_size = 32\n",
    "epochs = 5\n",
    "history = model.fit(x_train, y_train, batch_size,\n",
    "                    validation_data=(x_val, y_val),\n",
    "                    epochs=epochs, verbose=2,\n",
    "                    callbacks=callbacks)"
   ]
  },
  {
   "cell_type": "code",
   "execution_count": null,
   "id": "d7ee4cd3",
   "metadata": {},
   "outputs": [],
   "source": []
  },
  {
   "cell_type": "code",
   "execution_count": 22,
   "id": "aeb9650e",
   "metadata": {},
   "outputs": [
    {
     "name": "stdout",
     "output_type": "stream",
     "text": [
      "[array([[ 0.8278836 ,  0.15694113,  0.10617789],\n",
      "       [ 0.39183405,  0.97241807,  0.44096005],\n",
      "       [-0.57299066,  0.17617385,  0.5004528 ],\n",
      "       [ 0.07288971, -0.16781543,  0.34193543]], dtype=float32), array([ 0.06390784,  0.05046509, -0.11437292], dtype=float32)]\n",
      "Model: \"sequential_4\"\n",
      "_________________________________________________________________\n",
      " Layer (type)                Output Shape              Param #   \n",
      "=================================================================\n",
      " dense_4 (Dense)             (None, 3)                 15        \n",
      "                                                                 \n",
      "=================================================================\n",
      "Total params: 15\n",
      "Trainable params: 15\n",
      "Non-trainable params: 0\n",
      "_________________________________________________________________\n"
     ]
    }
   ],
   "source": [
    "model = keras.models.load_model('models/model_5')\n",
    "print(model.layers[0].get_weights())\n",
    "model.summary()"
   ]
  },
  {
   "cell_type": "code",
   "execution_count": null,
   "id": "4d40aafa",
   "metadata": {},
   "outputs": [],
   "source": []
  },
  {
   "cell_type": "code",
   "execution_count": null,
   "id": "54f8244f",
   "metadata": {},
   "outputs": [],
   "source": []
  },
  {
   "cell_type": "markdown",
   "id": "62e4bd0c",
   "metadata": {},
   "source": [
    "# Evaluate"
   ]
  },
  {
   "cell_type": "code",
   "execution_count": 8,
   "id": "a7e56ab6",
   "metadata": {},
   "outputs": [
    {
     "name": "stdout",
     "output_type": "stream",
     "text": [
      "Train data\n",
      "(120, 4)\n",
      "(120, 1)\n",
      "Validation data\n",
      "(30, 4)\n",
      "(30, 1)\n"
     ]
    }
   ],
   "source": [
    "# validation_data\n",
    "\n",
    "import numpy as np\n",
    "import tensorflow as tf\n",
    "import tensorflow.keras as keras\n",
    "\n",
    "# Data Preparation\n",
    "data = np.genfromtxt('iris_full.csv', \n",
    "                     delimiter=',', \n",
    "                     skip_header=1)\n",
    "x = data[:,0:4]\n",
    "y = data[:,4:]\n",
    "N = x.shape[0]\n",
    "\n",
    "# shuffle\n",
    "inds = np.arange(N)\n",
    "np.random.shuffle(inds)\n",
    "\n",
    "x = x[inds]\n",
    "y = y[inds]\n",
    "\n",
    "# prepare train and val data\n",
    "N_train = 120\n",
    "x_train = x[:N_train]\n",
    "y_train = y[:N_train]\n",
    "\n",
    "x_val = x[N_train:]\n",
    "y_val = y[N_train:]\n",
    "\n",
    "print('Train data')\n",
    "print(x_train.shape)\n",
    "print(y_train.shape)\n",
    "\n",
    "print('Validation data')\n",
    "print(x_val.shape)\n",
    "print(y_val.shape)"
   ]
  },
  {
   "cell_type": "code",
   "execution_count": 9,
   "id": "6c2b1787",
   "metadata": {},
   "outputs": [
    {
     "name": "stdout",
     "output_type": "stream",
     "text": [
      "Model: \"sequential_3\"\n",
      "_________________________________________________________________\n",
      " Layer (type)                Output Shape              Param #   \n",
      "=================================================================\n",
      " dense_3 (Dense)             (None, 3)                 15        \n",
      "                                                                 \n",
      "=================================================================\n",
      "Total params: 15\n",
      "Trainable params: 15\n",
      "Non-trainable params: 0\n",
      "_________________________________________________________________\n"
     ]
    }
   ],
   "source": [
    "# create model\n",
    "model = tf.keras.Sequential()\n",
    "model.add(tf.keras.Input(shape=(4,)))\n",
    "model.add(tf.keras.layers.Dense(units=3, activation='softmax'))\n",
    "\n",
    "model.summary()"
   ]
  },
  {
   "cell_type": "code",
   "execution_count": 10,
   "id": "b441bc7c",
   "metadata": {},
   "outputs": [
    {
     "name": "stdout",
     "output_type": "stream",
     "text": [
      "1/1 - 0s - loss: 0.2516 - sparse_categorical_accuracy: 0.9667 - 19ms/epoch - 19ms/step\n"
     ]
    },
    {
     "data": {
      "text/plain": [
       "[0.25156229734420776, 0.9666666388511658]"
      ]
     },
     "execution_count": 10,
     "metadata": {},
     "output_type": "execute_result"
    }
   ],
   "source": [
    "# compile\n",
    "model.compile(optimizer='sgd', \n",
    "              loss='sparse_categorical_crossentropy',\n",
    "              metrics=[keras.metrics.SparseCategoricalAccuracy()])\n",
    "\n",
    "# training\n",
    "batch_size = 32\n",
    "epochs = 500\n",
    "history = model.fit(x_train, y_train, batch_size,\n",
    "                    validation_data=(x_val, y_val),\n",
    "                    epochs=epochs, verbose=0)\n",
    "\n",
    "model.evaluate(x_val, y_val, batch_size, verbose=2)"
   ]
  },
  {
   "cell_type": "code",
   "execution_count": null,
   "id": "f184e987",
   "metadata": {},
   "outputs": [],
   "source": []
  },
  {
   "cell_type": "code",
   "execution_count": 11,
   "id": "feb634b6",
   "metadata": {},
   "outputs": [
    {
     "name": "stdout",
     "output_type": "stream",
     "text": [
      "Model: \"sequential_3\"\n",
      "_________________________________________________________________\n",
      " Layer (type)                Output Shape              Param #   \n",
      "=================================================================\n",
      " dense_3 (Dense)             (None, 3)                 15        \n",
      "                                                                 \n",
      "=================================================================\n",
      "Total params: 15\n",
      "Trainable params: 15\n",
      "Non-trainable params: 0\n",
      "_________________________________________________________________\n"
     ]
    }
   ],
   "source": [
    "model.summary()"
   ]
  },
  {
   "cell_type": "code",
   "execution_count": 12,
   "id": "a732cbb6",
   "metadata": {},
   "outputs": [
    {
     "data": {
      "text/plain": [
       "[array([[ 0.9670242 ,  0.6254535 , -0.8640642 ],\n",
       "        [ 1.1533298 ,  0.03081081, -0.6487642 ],\n",
       "        [-1.8494781 , -0.30738413,  2.046294  ],\n",
       "        [-1.0319993 ,  0.17036627,  0.33826047]], dtype=float32),\n",
       " array([ 0.16049658,  0.0873967 , -0.2478936 ], dtype=float32)]"
      ]
     },
     "execution_count": 12,
     "metadata": {},
     "output_type": "execute_result"
    }
   ],
   "source": [
    "model.layers[0].get_weights()"
   ]
  },
  {
   "cell_type": "code",
   "execution_count": null,
   "id": "7987eda4",
   "metadata": {},
   "outputs": [],
   "source": []
  },
  {
   "cell_type": "code",
   "execution_count": 13,
   "id": "6c49562a",
   "metadata": {},
   "outputs": [
    {
     "name": "stdout",
     "output_type": "stream",
     "text": [
      "(30, 4)\n"
     ]
    }
   ],
   "source": [
    "print(x_val.shape)"
   ]
  },
  {
   "cell_type": "code",
   "execution_count": 14,
   "id": "e6b817b0",
   "metadata": {},
   "outputs": [
    {
     "name": "stdout",
     "output_type": "stream",
     "text": [
      "(30, 3)\n"
     ]
    }
   ],
   "source": [
    "output = model.predict(x_val)\n",
    "print(output.shape)"
   ]
  },
  {
   "cell_type": "code",
   "execution_count": null,
   "id": "776003db",
   "metadata": {},
   "outputs": [],
   "source": []
  },
  {
   "cell_type": "code",
   "execution_count": null,
   "id": "c0514152",
   "metadata": {},
   "outputs": [],
   "source": []
  },
  {
   "cell_type": "code",
   "execution_count": null,
   "id": "86be6006",
   "metadata": {},
   "outputs": [],
   "source": []
  },
  {
   "cell_type": "code",
   "execution_count": null,
   "id": "99e1d00d",
   "metadata": {},
   "outputs": [],
   "source": []
  },
  {
   "cell_type": "code",
   "execution_count": null,
   "id": "63e7d1ca",
   "metadata": {},
   "outputs": [],
   "source": []
  },
  {
   "cell_type": "code",
   "execution_count": null,
   "id": "55c74655",
   "metadata": {},
   "outputs": [],
   "source": [
    "import matplotlib.pyplot as plt\n",
    "\n",
    "plt.plot(history.history['loss'])\n",
    "plt.xlabel('iteration')\n",
    "plt.ylabel('Loss')\n",
    "plt.show()"
   ]
  },
  {
   "cell_type": "code",
   "execution_count": null,
   "id": "11947060",
   "metadata": {},
   "outputs": [],
   "source": []
  },
  {
   "cell_type": "code",
   "execution_count": null,
   "id": "b56db254",
   "metadata": {},
   "outputs": [],
   "source": []
  }
 ],
 "metadata": {
  "kernelspec": {
   "display_name": "Python 3 (ipykernel)",
   "language": "python",
   "name": "python3"
  },
  "language_info": {
   "codemirror_mode": {
    "name": "ipython",
    "version": 3
   },
   "file_extension": ".py",
   "mimetype": "text/x-python",
   "name": "python",
   "nbconvert_exporter": "python",
   "pygments_lexer": "ipython3",
   "version": "3.9.13"
  }
 },
 "nbformat": 4,
 "nbformat_minor": 5
}
