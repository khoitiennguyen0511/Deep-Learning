{
 "cells": [
  {
   "cell_type": "markdown",
   "id": "6febf0a7",
   "metadata": {
    "id": "6febf0a7"
   },
   "source": [
    "# One sample"
   ]
  },
  {
   "cell_type": "code",
   "execution_count": null,
   "id": "USYC7qxb2x_X",
   "metadata": {
    "colab": {
     "base_uri": "https://localhost:8080/"
    },
    "executionInfo": {
     "elapsed": 3156,
     "status": "ok",
     "timestamp": 1667269613748,
     "user": {
      "displayName": "Tiềm Đình",
      "userId": "05726324356439983752"
     },
     "user_tz": -420
    },
    "id": "USYC7qxb2x_X",
    "outputId": "38f802ab-ca4f-4168-bb25-1dd18b7c2291"
   },
   "outputs": [
    {
     "name": "stdout",
     "output_type": "stream",
     "text": [
      "/usr/local/lib/python3.7/dist-packages/gdown/cli.py:131: FutureWarning: Option `--id` was deprecated in version 4.3.1 and will be removed in 5.0. You don't need to pass it anymore to use a file ID.\n",
      "  category=FutureWarning,\n",
      "Downloading...\n",
      "From: https://drive.google.com/uc?id=1BOgseHn1k2WH10A1f2L__GtyhMsMXCfl\n",
      "To: /content/iris_full.csv\n",
      "100% 2.06k/2.06k [00:00<00:00, 2.08MB/s]\n"
     ]
    }
   ],
   "source": [
    "!gdown --id 1BOgseHn1k2WH10A1f2L__GtyhMsMXCfl"
   ]
  },
  {
   "cell_type": "code",
   "execution_count": null,
   "id": "c880195a",
   "metadata": {
    "colab": {
     "base_uri": "https://localhost:8080/"
    },
    "executionInfo": {
     "elapsed": 927,
     "status": "ok",
     "timestamp": 1667272291224,
     "user": {
      "displayName": "Tiềm Đình",
      "userId": "05726324356439983752"
     },
     "user_tz": -420
    },
    "id": "c880195a",
    "outputId": "e00f539e-2dd7-4ce3-f255-50a3dbe1814e"
   },
   "outputs": [
    {
     "name": "stdout",
     "output_type": "stream",
     "text": [
      "tensor([[1.0000, 5.1000, 3.5000, 1.4000, 0.2000],\n",
      "        [1.0000, 4.9000, 3.0000, 1.4000, 0.2000],\n",
      "        [1.0000, 4.7000, 3.2000, 1.3000, 0.2000],\n",
      "        [1.0000, 4.6000, 3.1000, 1.5000, 0.2000],\n",
      "        [1.0000, 5.0000, 3.6000, 1.4000, 0.2000]], grad_fn=<SliceBackward0>)\n",
      "tensor([[0.],\n",
      "        [0.],\n",
      "        [0.],\n",
      "        [0.],\n",
      "        [0.]], grad_fn=<SliceBackward0>)\n"
     ]
    }
   ],
   "source": [
    "import numpy as np\n",
    "#import tensorflow as tf\n",
    "import torch\n",
    "\n",
    "# Data preparation\n",
    "data = np.genfromtxt('iris_full.csv', \n",
    "                     delimiter=',', \n",
    "                     skip_header=1)\n",
    "X = torch.tensor(data[:,0:4], requires_grad=True, dtype = torch.float)\n",
    "y = torch.tensor(data[:,4:], requires_grad=True, dtype = torch.float)\n",
    "N = X.shape[0]\n",
    "\n",
    "X = torch.cat((torch.ones((N, 1)), X), dim=1)\n",
    "\n",
    "print(X[:5])\n",
    "print(y[:5])"
   ]
  },
  {
   "cell_type": "code",
   "execution_count": null,
   "id": "e4d5b85b",
   "metadata": {
    "id": "e4d5b85b"
   },
   "outputs": [],
   "source": [
    "# theta\n",
    "theta = torch.tensor([[0.01],\n",
    "                     [-0.04], \n",
    "                     [0.02], \n",
    "                     [-0.03], \n",
    "                     [0.001]], requires_grad=True, dtype = torch.float)\n",
    " \n",
    "# forward\n",
    "def compute_output(theta, X):\n",
    "    z = theta.T @X\n",
    "    return torch.sigmoid(z)"
   ]
  },
  {
   "cell_type": "code",
   "execution_count": null,
   "id": "e12d6362",
   "metadata": {
    "id": "e12d6362"
   },
   "outputs": [],
   "source": [
    "# parameters\n",
    "lr = 0.001\n",
    "num_epochs = 100\n",
    "loss_fn = torch.nn.BCELoss()\n",
    "\n",
    "losses = []"
   ]
  },
  {
   "cell_type": "code",
   "execution_count": null,
   "id": "6eaf0b14",
   "metadata": {
    "id": "6eaf0b14"
   },
   "outputs": [],
   "source": [
    "# training\n",
    "for epoch in range(num_epochs):\n",
    "    for x_data, y_data in zip(X, y):\n",
    "        # reshape -> (5,1)\n",
    "        x_data = torch.reshape(x_data, (-1,1))\n",
    "        \n",
    "        # y_hat\n",
    "        y_hat = compute_output(theta, x_data)\n",
    "        #print(y_data, y_hat)\n",
    "        #break\n",
    "        # loss\n",
    "        loss = loss_fn(y_hat.reshape(-1,), y_data)\n",
    "            \n",
    "        losses.append(loss.item())            \n",
    "\n",
    "        # gradient\n",
    "        loss.backward()\n",
    "        # update\n",
    "        with torch.no_grad():\n",
    "          theta -= lr*theta.grad\n",
    "          theta.grad.zero_()"
   ]
  },
  {
   "cell_type": "code",
   "execution_count": null,
   "id": "608b6ad0",
   "metadata": {
    "colab": {
     "base_uri": "https://localhost:8080/",
     "height": 279
    },
    "executionInfo": {
     "elapsed": 792,
     "status": "ok",
     "timestamp": 1667272372277,
     "user": {
      "displayName": "Tiềm Đình",
      "userId": "05726324356439983752"
     },
     "user_tz": -420
    },
    "id": "608b6ad0",
    "outputId": "046bf8cf-7a32-47a4-8979-0b3e23be7361"
   },
   "outputs": [
    {
     "data": {
      "image/png": "[encoded data removed]",
      "text/plain": [
       "<Figure size 432x288 with 1 Axes>"
      ]
     },
     "metadata": {
      "needs_background": "light"
     },
     "output_type": "display_data"
    }
   ],
   "source": [
    "import matplotlib.pyplot as plt\n",
    "\n",
    "plt.plot(losses)\n",
    "plt.xlabel('iteration')\n",
    "plt.ylabel('Loss')\n",
    "plt.show()"
   ]
  },
  {
   "cell_type": "code",
   "execution_count": null,
   "id": "adc12217",
   "metadata": {
    "id": "adc12217"
   },
   "outputs": [],
   "source": []
  }
 ],
 "metadata": {
  "colab": {
   "collapsed_sections": [],
   "provenance": []
  },
  "kernelspec": {
   "display_name": "Python 3 (ipykernel)",
   "language": "python",
   "name": "python3"
  },
  "language_info": {
   "codemirror_mode": {
    "name": "ipython",
    "version": 3
   },
   "file_extension": ".py",
   "mimetype": "text/x-python",
   "name": "python",
   "nbconvert_exporter": "python",
   "pygments_lexer": "ipython3",
   "version": "3.9.18"
  }
 },
 "nbformat": 4,
 "nbformat_minor": 5
}
