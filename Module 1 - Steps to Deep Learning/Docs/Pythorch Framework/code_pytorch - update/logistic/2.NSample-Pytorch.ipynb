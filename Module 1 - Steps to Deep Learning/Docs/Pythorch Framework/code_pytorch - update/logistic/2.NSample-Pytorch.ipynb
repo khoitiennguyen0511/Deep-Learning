{
 "cells": [
  {
   "cell_type": "code",
   "execution_count": 2,
   "metadata": {},
   "outputs": [
    {
     "name": "stdout",
     "output_type": "stream",
     "text": [
      "X\n",
      " tensor([[1.4000, 0.2000],\n",
      "        [1.5000, 0.2000],\n",
      "        [3.0000, 1.1000],\n",
      "        [4.1000, 1.3000]])\n",
      "y\n",
      " tensor([[0.],\n",
      "        [0.],\n",
      "        [1.],\n",
      "        [1.]])\n"
     ]
    }
   ],
   "source": [
    "import numpy as np\n",
    "import torch\n",
    "import torch.nn as nn\n",
    "\n",
    "### Data preparation\n",
    "data = np.genfromtxt('iris_2D_demo.csv', delimiter=',', skip_header=1)\n",
    "X = torch.from_numpy(data[:,0:2]).float()\n",
    "y = torch.from_numpy(data[:,2:]).float()\n",
    "\n",
    "print('X\\n', X)\n",
    "print('y\\n', y)"
   ]
  },
  {
   "cell_type": "code",
   "execution_count": 6,
   "metadata": {},
   "outputs": [
    {
     "name": "stdout",
     "output_type": "stream",
     "text": [
      "Parameter containing:\n",
      "tensor([[ 0.5000, -0.1000]], requires_grad=True)\n",
      "Parameter containing:\n",
      "tensor([0.1000], requires_grad=True)\n"
     ]
    }
   ],
   "source": [
    "# Create a linear layer\n",
    "linear = nn.Linear(2, 1)\n",
    "\n",
    "# set value (for illustration)\n",
    "linear.weight.data = torch.Tensor([[0.5, -0.1]])\n",
    "linear.bias.data = torch.Tensor([0.1])\n",
    "\n",
    "# print\n",
    "print(linear.weight)\n",
    "print(linear.bias)"
   ]
  },
  {
   "cell_type": "code",
   "execution_count": 3,
   "metadata": {},
   "outputs": [],
   "source": [
    "# some params\n",
    "loss_fn = torch.nn.BCELoss()\n",
    "optimizer = torch.optim.SGD(linear.parameters(), \n",
    "                            lr=0.01)\n",
    "epochs = 1"
   ]
  },
  {
   "cell_type": "code",
   "execution_count": 4,
   "metadata": {},
   "outputs": [
    {
     "name": "stdout",
     "output_type": "stream",
     "text": [
      "y_hat: tensor([[0.6857],\n",
      "        [0.6964],\n",
      "        [0.8161],\n",
      "        [0.8829]], grad_fn=<SigmoidBackward0>)\n",
      "loss: 0.6692625880241394\n",
      "(db, dw): (tensor([0.2702]), tensor([[ 0.2431, -0.0195]]))\n",
      "(b, w): (tensor([0.0973]), tensor([[ 0.4976, -0.0998]]) \n",
      "\n",
      "\n"
     ]
    }
   ],
   "source": [
    "# training\n",
    "for epoch in range(epochs):        \n",
    "    # y_hat\n",
    "    y_hat = torch.sigmoid(linear(X))\n",
    "    print(f'y_hat: {y_hat}')\n",
    "    \n",
    "    # loss        \n",
    "    loss = loss_fn(y_hat, y)\n",
    "    print(f'loss: {loss.item()}')\n",
    "                \n",
    "    # compute gradient\n",
    "    loss.backward()\n",
    "    print(f'(db, dw): ({linear.bias.grad.data}, {linear.weight.grad.data})')\n",
    "\n",
    "    # update\n",
    "    optimizer.step()\n",
    "    optimizer.zero_grad()\n",
    "    print(f'(b, w): ({linear.bias.data}, {linear.weight.data} \\n\\n')"
   ]
  },
  {
   "cell_type": "code",
   "execution_count": null,
   "metadata": {},
   "outputs": [],
   "source": [
    "data = np.genfromtxt('iris_2D_demo.csv', \n",
    "                     delimiter=',', skip_header=1)\n",
    "X = torch.from_numpy(data[:,0:2]).float()\n",
    "y = torch.from_numpy(data[:,2:]).float()"
   ]
  },
  {
   "cell_type": "code",
   "execution_count": null,
   "metadata": {},
   "outputs": [],
   "source": [
    "# Create a linear layer\n",
    "linear = nn.Linear(2, 1)\n",
    "\n",
    "# loss and optimizer\n",
    "loss_fn = torch.nn.BCELoss()\n",
    "optimizer = torch.optim.SGD(linear.parameters(), \n",
    "                            lr=0.01)"
   ]
  },
  {
   "cell_type": "code",
   "execution_count": null,
   "metadata": {},
   "outputs": [],
   "source": [
    "# training\n",
    "for epoch in range(epochs):    \n",
    "    y_hat = torch.sigmoid(linear(X))\n",
    "    loss = loss_fn(y_hat, y)\n",
    "    optimizer.zero_grad()\n",
    "    loss.backward()\n",
    "    optimizer.step()    "
   ]
  }
 ],
 "metadata": {
  "colab": {
   "collapsed_sections": [],
   "provenance": []
  },
  "kernelspec": {
   "display_name": "Python 3 (ipykernel)",
   "language": "python",
   "name": "python3"
  },
  "language_info": {
   "codemirror_mode": {
    "name": "ipython",
    "version": 3
   },
   "file_extension": ".py",
   "mimetype": "text/x-python",
   "name": "python",
   "nbconvert_exporter": "python",
   "pygments_lexer": "ipython3",
   "version": "3.9.18"
  }
 },
 "nbformat": 4,
 "nbformat_minor": 4
}
