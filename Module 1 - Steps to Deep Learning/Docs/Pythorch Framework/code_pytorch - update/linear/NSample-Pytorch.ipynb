{
 "cells": [
  {
   "cell_type": "code",
   "execution_count": 1,
   "metadata": {},
   "outputs": [
    {
     "name": "stdout",
     "output_type": "stream",
     "text": [
      "X\n",
      " tensor([[6.7000],\n",
      "        [4.6000],\n",
      "        [3.5000],\n",
      "        [5.5000]])\n",
      "y\n",
      " tensor([[9.1000],\n",
      "        [5.9000],\n",
      "        [4.6000],\n",
      "        [6.7000]])\n"
     ]
    }
   ],
   "source": [
    "import numpy as np\n",
    "import torch\n",
    "import torch.nn as nn\n",
    "\n",
    "### Data preparation\n",
    "data = np.genfromtxt('data.csv', delimiter=',')\n",
    "x_data = torch.from_numpy(data[:,0:1]).float()\n",
    "y_data = torch.from_numpy(data[:,1:]).float()\n",
    "\n",
    "print('X\\n', x_data)\n",
    "print('y\\n', y_data)"
   ]
  },
  {
   "cell_type": "code",
   "execution_count": 2,
   "metadata": {},
   "outputs": [
    {
     "name": "stdout",
     "output_type": "stream",
     "text": [
      "Parameter containing:\n",
      "tensor([[-0.3400]], requires_grad=True)\n",
      "Parameter containing:\n",
      "tensor([0.0400], requires_grad=True)\n"
     ]
    }
   ],
   "source": [
    "# Create a linear layer\n",
    "linear = nn.Linear(1, 1)\n",
    "\n",
    "# set value (for illustration)\n",
    "linear.weight.data = torch.Tensor([[-0.34]])\n",
    "linear.bias.data = torch.Tensor([0.04])\n",
    "\n",
    "# print\n",
    "print(linear.weight)\n",
    "print(linear.bias)"
   ]
  },
  {
   "cell_type": "code",
   "execution_count": 3,
   "metadata": {},
   "outputs": [],
   "source": [
    "# some params\n",
    "loss_fn = torch.nn.MSELoss()\n",
    "optimizer = torch.optim.SGD(linear.parameters(), \n",
    "                            lr=0.01)\n",
    "epochs = 1"
   ]
  },
  {
   "cell_type": "code",
   "execution_count": 4,
   "metadata": {},
   "outputs": [
    {
     "name": "stdout",
     "output_type": "stream",
     "text": [
      "y_hat: tensor([[-2.2380],\n",
      "        [-1.5240],\n",
      "        [-1.1500],\n",
      "        [-1.8300]], grad_fn=<AddmmBackward0>)\n",
      "loss: 72.37236022949219\n",
      "(db, dw): (tensor([-16.5210]), tensor([[-88.5775]]))\n",
      "(b, w): (tensor([0.2052]), tensor([[0.5458]])\n"
     ]
    }
   ],
   "source": [
    "# training\n",
    "for epoch in range(epochs):\n",
    "    # y_hat\n",
    "    y_hat = linear(x_data)\n",
    "    print(f'y_hat: {y_hat}')\n",
    "    \n",
    "    # loss        \n",
    "    loss = loss_fn(y_hat, y_data)\n",
    "    print(f'loss: {loss}')\n",
    "                \n",
    "    # compute gradient\n",
    "    loss.backward()\n",
    "    print(f'(db, dw): ({linear.bias.grad.data}, {linear.weight.grad.data})')\n",
    "\n",
    "    # update\n",
    "    optimizer.step()\n",
    "    optimizer.zero_grad()\n",
    "    print(f'(b, w): ({linear.bias.data}, {linear.weight.data}')"
   ]
  },
  {
   "cell_type": "code",
   "execution_count": null,
   "metadata": {},
   "outputs": [],
   "source": []
  },
  {
   "cell_type": "code",
   "execution_count": null,
   "metadata": {},
   "outputs": [],
   "source": [
    "import numpy as np\n",
    "import torch\n",
    "import torch.nn as nn\n",
    "\n",
    "### Data preparation\n",
    "data = np.genfromtxt('data.csv', delimiter=',')\n",
    "x_data = torch.from_numpy(data[:, 0:1]).float()\n",
    "y_data = torch.from_numpy(data[:, 1:]).float()\n",
    "\n",
    "# Create model, loss and optimizer\n",
    "linear = nn.Linear(1, 1)\n",
    "loss_fn = torch.nn.MSELoss()\n",
    "optimizer = torch.optim.SGD(linear.parameters(), \n",
    "                            lr=0.01)\n",
    "\n",
    "# training\n",
    "epochs = 100\n",
    "for epoch in range(epochs):\n",
    "    y_hat = linear(x_data)\n",
    "    loss = loss_fn(y_hat, y_data)\n",
    "    optimizer.zero_grad()\n",
    "    loss.backward()\n",
    "    optimizer.step()    "
   ]
  }
 ],
 "metadata": {
  "colab": {
   "collapsed_sections": [],
   "provenance": []
  },
  "kernelspec": {
   "display_name": "Python 3 (ipykernel)",
   "language": "python",
   "name": "python3"
  },
  "language_info": {
   "codemirror_mode": {
    "name": "ipython",
    "version": 3
   },
   "file_extension": ".py",
   "mimetype": "text/x-python",
   "name": "python",
   "nbconvert_exporter": "python",
   "pygments_lexer": "ipython3",
   "version": "3.9.18"
  }
 },
 "nbformat": 4,
 "nbformat_minor": 4
}
