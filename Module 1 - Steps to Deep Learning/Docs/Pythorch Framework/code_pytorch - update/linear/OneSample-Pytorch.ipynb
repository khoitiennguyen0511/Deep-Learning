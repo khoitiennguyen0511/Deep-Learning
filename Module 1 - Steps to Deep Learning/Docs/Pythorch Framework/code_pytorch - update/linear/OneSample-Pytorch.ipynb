{
 "cells": [
  {
   "cell_type": "code",
   "execution_count": 9,
   "metadata": {},
   "outputs": [
    {
     "name": "stdout",
     "output_type": "stream",
     "text": [
      "X\n",
      " tensor([[6.7000],\n",
      "        [4.6000],\n",
      "        [3.5000],\n",
      "        [5.5000]], dtype=torch.float64)\n",
      "y\n",
      " tensor([9.1000, 5.9000, 4.6000, 6.7000], dtype=torch.float64)\n"
     ]
    }
   ],
   "source": [
    "import numpy as np\n",
    "import torch\n",
    "import torch.nn as nn\n",
    "\n",
    "### Data preparation\n",
    "data = np.genfromtxt('data.csv', delimiter=',')\n",
    "x_data = torch.from_numpy(data[:,0:1])\n",
    "y_data = torch.from_numpy(data[:,1])\n",
    "\n",
    "print('X\\n', x_data)\n",
    "print('y\\n', y_data)"
   ]
  },
  {
   "cell_type": "code",
   "execution_count": 13,
   "metadata": {},
   "outputs": [
    {
     "name": "stdout",
     "output_type": "stream",
     "text": [
      "Parameter containing:\n",
      "tensor([[-0.3400]], requires_grad=True)\n",
      "Parameter containing:\n",
      "tensor([0.0400], requires_grad=True)\n"
     ]
    }
   ],
   "source": [
    "# Create a linear layer\n",
    "linear = nn.Linear(1, 1)\n",
    "\n",
    "# set value (for illustration)\n",
    "linear.weight.data = torch.Tensor([[-0.34]])\n",
    "linear.bias.data = torch.Tensor([0.04])\n",
    "\n",
    "# print\n",
    "print(linear.weight)\n",
    "print(linear.bias)"
   ]
  },
  {
   "cell_type": "code",
   "execution_count": 14,
   "metadata": {},
   "outputs": [],
   "source": [
    "# some params\n",
    "loss_fn = torch.nn.MSELoss()\n",
    "optimizer = torch.optim.SGD(linear.parameters(), \n",
    "                            lr=0.01)\n",
    "epochs = 1"
   ]
  },
  {
   "cell_type": "code",
   "execution_count": 15,
   "metadata": {},
   "outputs": [
    {
     "name": "stdout",
     "output_type": "stream",
     "text": [
      "y_hat: -2.23799991607666\n",
      "loss: 128.5502471923828\n",
      "(db, dw): (tensor([-22.6760]), tensor([[-151.9292]]))\n",
      "(b, w): (tensor([0.2668]), tensor([[1.1793]]) \n",
      "\n",
      "\n",
      "y_hat: 5.691502571105957\n",
      "loss: 0.04347121715545654\n",
      "(db, dw): (tensor([-0.4170]), tensor([[-1.9182]]))\n",
      "(b, w): (tensor([0.2709]), tensor([[1.1985]]) \n",
      "\n",
      "\n",
      "y_hat: 4.465587615966797\n",
      "loss: 0.018066663295030594\n",
      "(db, dw): (tensor([-0.2688]), tensor([[-0.9409]]))\n",
      "(b, w): (tensor([0.2736]), tensor([[1.2079]]) \n",
      "\n",
      "\n",
      "y_hat: 6.9169721603393555\n",
      "loss: 0.0470770001411438\n",
      "(db, dw): (tensor([0.4339]), tensor([[2.3867]]))\n",
      "(b, w): (tensor([0.2693]), tensor([[1.1840]]) \n",
      "\n",
      "\n"
     ]
    }
   ],
   "source": [
    "# training\n",
    "for epoch in range(epochs):\n",
    "    for i in range(4):\n",
    "        x = x_data[i].float()\n",
    "        y = y_data[i:i+1].float()\n",
    "        \n",
    "        # y_hat\n",
    "        y_hat = linear(x)\n",
    "        print(f'y_hat: {y_hat.item()}')\n",
    "        \n",
    "        # loss        \n",
    "        loss = loss_fn(y_hat, y)\n",
    "        print(f'loss: {loss.item()}')\n",
    "                    \n",
    "        # compute gradient\n",
    "        loss.backward()\n",
    "        print(f'(db, dw): ({linear.bias.grad.data}, {linear.weight.grad.data})')\n",
    "    \n",
    "        # update\n",
    "        optimizer.step()\n",
    "        optimizer.zero_grad()\n",
    "        print(f'(b, w): ({linear.bias.data}, {linear.weight.data} \\n\\n')"
   ]
  },
  {
   "cell_type": "code",
   "execution_count": null,
   "metadata": {},
   "outputs": [],
   "source": []
  },
  {
   "cell_type": "code",
   "execution_count": null,
   "metadata": {},
   "outputs": [],
   "source": []
  }
 ],
 "metadata": {
  "colab": {
   "collapsed_sections": [],
   "provenance": []
  },
  "kernelspec": {
   "display_name": "Python 3 (ipykernel)",
   "language": "python",
   "name": "python3"
  },
  "language_info": {
   "codemirror_mode": {
    "name": "ipython",
    "version": 3
   },
   "file_extension": ".py",
   "mimetype": "text/x-python",
   "name": "python",
   "nbconvert_exporter": "python",
   "pygments_lexer": "ipython3",
   "version": "3.9.18"
  }
 },
 "nbformat": 4,
 "nbformat_minor": 4
}
