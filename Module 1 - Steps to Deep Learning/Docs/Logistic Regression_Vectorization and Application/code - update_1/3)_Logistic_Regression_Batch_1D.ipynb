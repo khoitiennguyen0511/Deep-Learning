{
  "cells": [
    {
      "cell_type": "code",
      "execution_count": 2,
      "metadata": {
        "colab": {
          "base_uri": "https://localhost:8080/"
        },
        "id": "lt0TB3N58usm",
        "outputId": "27f55583-600a-4872-ce47-ee46f773182f"
      },
      "outputs": [
        {
          "output_type": "stream",
          "name": "stdout",
          "text": [
            "(6, 2)\n",
            "(6,)\n"
          ]
        }
      ],
      "source": [
        "import numpy as np\n",
        "import matplotlib.pyplot as plt\n",
        "\n",
        "iris = np.genfromtxt('iris_1D.csv',\n",
        "                     dtype=None,\n",
        "                     delimiter=',',\n",
        "                     skip_header=1)\n",
        "X = iris[:, :1]\n",
        "y = iris[:, 1]\n",
        "\n",
        "intercept = np.ones((X.shape[0], 1))\n",
        "X = np.concatenate((intercept, X), axis=1)\n",
        "\n",
        "# shuffle\n",
        "inds = np.arange(X.shape[0])\n",
        "np.random.shuffle(inds)\n",
        "\n",
        "X = X[inds]\n",
        "y = y[inds]\n",
        "\n",
        "print(X.shape)\n",
        "print(y.shape)"
      ]
    },
    {
      "cell_type": "code",
      "execution_count": 2,
      "metadata": {
        "id": "Z4pGzos_8uso"
      },
      "outputs": [],
      "source": []
    },
    {
      "cell_type": "code",
      "execution_count": 3,
      "metadata": {
        "id": "7lyTyllQ8uso"
      },
      "outputs": [],
      "source": [
        "def sigmoid_function(z):\n",
        "    return 1 / (1 + np.exp(-z))\n",
        "\n",
        "def predict(X, theta):\n",
        "    y_hat = sigmoid_function(np.dot(X, theta))\n",
        "    return y_hat\n",
        "\n",
        "# def loss_function_1(h, y):\n",
        "#     return (-y*np.log(h) - (1-y)*np.log(1-h)).mean()\n",
        "\n",
        "def loss_function_2(h, y):\n",
        "    return ((-y.T.dot(np.log(h)) - (1-y).T.dot(np.log(1-h)))) / y.size\n",
        "\n",
        "def compute_gradient(X, y_hat, y):\n",
        "    return np.dot(X.T, (y_hat - y)) / y.size"
      ]
    },
    {
      "cell_type": "code",
      "execution_count": 3,
      "metadata": {
        "id": "YBPDaJOU8usp"
      },
      "outputs": [],
      "source": []
    },
    {
      "cell_type": "code",
      "execution_count": 4,
      "metadata": {
        "id": "ckOwYVwF8usp"
      },
      "outputs": [],
      "source": [
        "# training\n",
        "lr=0.1\n",
        "num_iter=50000\n",
        "\n",
        "theta = np.array([0.1,5])\n",
        "#theta = np.array([0.1,-5])\n",
        "losses = []\n",
        "accs   = []\n",
        "\n",
        "for i in range(num_iter):\n",
        "    # predict z\n",
        "    y_hat = predict(X, theta)\n",
        "\n",
        "    # compute loss\n",
        "    loss = loss_function_2(y_hat, y)\n",
        "\n",
        "    # compute mean of gradient\n",
        "    gradient = compute_gradient(X, y_hat, y)\n",
        "\n",
        "    # update\n",
        "    theta -= lr*gradient\n",
        "\n",
        "\n",
        "\n",
        "    # ==========for debug\n",
        "    # loss\n",
        "    losses.append(loss)\n",
        "\n",
        "    # accuracy for training\n",
        "    preds = predict(X, theta).round()\n",
        "    acc = (preds == y).mean()\n",
        "    accs.append(acc)"
      ]
    },
    {
      "cell_type": "code",
      "execution_count": 4,
      "metadata": {
        "id": "qvXRXHjk8usp"
      },
      "outputs": [],
      "source": []
    },
    {
      "cell_type": "code",
      "execution_count": 5,
      "metadata": {
        "colab": {
          "base_uri": "https://localhost:8080/",
          "height": 430
        },
        "id": "HrTxiVEo8usp",
        "outputId": "816d5a42-8815-46fc-bcb0-2d192378a276"
      },
      "outputs": [
        {
          "output_type": "display_data",
          "data": {
            "text/plain": [
              "<Figure size 640x480 with 1 Axes>"
            ],
            "image/png": "[encoded data removed]"
          },
          "metadata": {}
        }
      ],
      "source": [
        "# show figures\n",
        "plt.plot(losses)\n",
        "plt.show()"
      ]
    },
    {
      "cell_type": "code",
      "execution_count": 5,
      "metadata": {
        "id": "lEOaeXU18usq"
      },
      "outputs": [],
      "source": []
    },
    {
      "cell_type": "code",
      "execution_count": 6,
      "metadata": {
        "colab": {
          "base_uri": "https://localhost:8080/",
          "height": 430
        },
        "id": "StdceNzD8usq",
        "outputId": "fcf4f411-0482-4a11-c586-bb4d0306b68d"
      },
      "outputs": [
        {
          "output_type": "display_data",
          "data": {
            "text/plain": [
              "<Figure size 640x480 with 1 Axes>"
            ],
            "image/png": "[encoded data removed]"
          },
          "metadata": {}
        }
      ],
      "source": [
        "plt.plot(accs)\n",
        "plt.show()"
      ]
    },
    {
      "cell_type": "code",
      "execution_count": 6,
      "metadata": {
        "id": "YO2-r0KB8usq"
      },
      "outputs": [],
      "source": []
    },
    {
      "cell_type": "code",
      "execution_count": 7,
      "metadata": {
        "colab": {
          "base_uri": "https://localhost:8080/"
        },
        "id": "M6eWYlpN8usq",
        "outputId": "ec1f57d4-ce63-4b9f-8ed9-6169a44b5f44"
      },
      "outputs": [
        {
          "output_type": "stream",
          "name": "stdout",
          "text": [
            "[1. 0. 1. 0. 0. 1.]\n",
            "[1. 0. 1. 0. 0. 1.]\n"
          ]
        }
      ],
      "source": [
        "preds = predict(X, theta).round()\n",
        "print(preds)\n",
        "print(y)"
      ]
    },
    {
      "cell_type": "code",
      "execution_count": 7,
      "metadata": {
        "id": "5dc-oew_8usr"
      },
      "outputs": [],
      "source": []
    }
  ],
  "metadata": {
    "kernelspec": {
      "display_name": "Python 3 (ipykernel)",
      "language": "python",
      "name": "python3"
    },
    "language_info": {
      "codemirror_mode": {
        "name": "ipython",
        "version": 3
      },
      "file_extension": ".py",
      "mimetype": "text/x-python",
      "name": "python",
      "nbconvert_exporter": "python",
      "pygments_lexer": "ipython3",
      "version": "3.9.18"
    },
    "colab": {
      "provenance": []
    }
  },
  "nbformat": 4,
  "nbformat_minor": 0
}