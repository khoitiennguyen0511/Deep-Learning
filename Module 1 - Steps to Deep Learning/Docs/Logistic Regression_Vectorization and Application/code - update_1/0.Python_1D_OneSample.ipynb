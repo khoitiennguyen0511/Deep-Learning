{
 "cells": [
  {
   "cell_type": "code",
   "execution_count": 1,
   "metadata": {},
   "outputs": [
    {
     "name": "stdout",
     "output_type": "stream",
     "text": [
      "[1.4 1.  1.5 3.  3.8 4.1]\n",
      "[0. 0. 0. 1. 1. 1.]\n"
     ]
    }
   ],
   "source": [
    "import numpy as np\n",
    "import matplotlib.pyplot as plt\n",
    "import math\n",
    "#%matplotlib qt\n",
    "\n",
    "iris = np.genfromtxt('iris_1D.csv', \n",
    "                     dtype=None, \n",
    "                     delimiter=',', \n",
    "                     skip_header=1) \n",
    "x_data = iris[:, 0]\n",
    "y_data = iris[:, 1]\n",
    "\n",
    "print(x_data)\n",
    "print(y_data)"
   ]
  },
  {
   "cell_type": "code",
   "execution_count": null,
   "metadata": {},
   "outputs": [],
   "source": []
  },
  {
   "cell_type": "code",
   "execution_count": 2,
   "metadata": {},
   "outputs": [],
   "source": [
    "def sigmoid_function(z):\n",
    "    return 1 / (1 + math.exp(-z))\n",
    "\n",
    "def loss_function(y_hat, y):\n",
    "    return -y*math.log(y_hat) - (1 - y)*math.log(1 - y_hat)\n",
    "\n",
    "def predict(x, w, b):\n",
    "    z = w*x + b\n",
    "    print('z: ', z)\n",
    "    y_hat = sigmoid_function(z)\n",
    "    \n",
    "    return y_hat\n",
    "\n",
    "def compute_gradient(x, y_hat, y):    \n",
    "    db = (y_hat - y)\n",
    "    dw = x*(y_hat - y)\n",
    "    \n",
    "    return db, dw\n",
    "\n",
    "def update(b, w, lr, db, dw):\n",
    "    b = b - lr*db\n",
    "    w = w - lr*dw    \n",
    "    \n",
    "    return b, w"
   ]
  },
  {
   "cell_type": "code",
   "execution_count": null,
   "metadata": {},
   "outputs": [],
   "source": []
  },
  {
   "cell_type": "code",
   "execution_count": 3,
   "metadata": {},
   "outputs": [
    {
     "name": "stdout",
     "output_type": "stream",
     "text": [
      "x, y: 1.4 0.0\n",
      "z:  0.03999999999999998\n",
      "y_hat: 0.5099986668799655\n",
      "loss: 0.7133471672280342\n",
      "db, dw: 0.5099986668799655 0.7139981336319517\n",
      "b, w: -0.10713998133631952 0.09490001333120035\n"
     ]
    }
   ],
   "source": [
    "# some parameters\n",
    "lr = 0.01\n",
    "num_epochs = 1\n",
    "\n",
    "w = -0.1\n",
    "b = 0.1\n",
    "\n",
    "# for monitoring\n",
    "losses = []\n",
    "\n",
    "for _ in range(num_epochs):\n",
    "    for i in range(4):\n",
    "        # get data\n",
    "        x = x_data[i]\n",
    "        y = y_data[i]\n",
    "        print('x, y:', x, y)\n",
    "                    \n",
    "        # predict\n",
    "        y_hat = predict(x, b, w)\n",
    "        print('y_hat:', y_hat)\n",
    "    \n",
    "        # compute loss\n",
    "        loss = loss_function(y_hat, y)\n",
    "        print('loss:', loss)\n",
    "        losses.append(loss)\n",
    "    \n",
    "        # compute gradient\n",
    "        db, dw = compute_gradient(x, y_hat, y)\n",
    "        print('db, dw:', db, dw)\n",
    "    \n",
    "        # update\n",
    "        b, w = update(b, w, lr, db, dw)\n",
    "        print('b, w:', b, w)\n",
    "        #print('----------')\n",
    "        break"
   ]
  },
  {
   "cell_type": "code",
   "execution_count": null,
   "metadata": {},
   "outputs": [],
   "source": []
  }
 ],
 "metadata": {
  "kernelspec": {
   "display_name": "Python 3 (ipykernel)",
   "language": "python",
   "name": "python3"
  },
  "language_info": {
   "codemirror_mode": {
    "name": "ipython",
    "version": 3
   },
   "file_extension": ".py",
   "mimetype": "text/x-python",
   "name": "python",
   "nbconvert_exporter": "python",
   "pygments_lexer": "ipython3",
   "version": "3.9.18"
  }
 },
 "nbformat": 4,
 "nbformat_minor": 4
}
