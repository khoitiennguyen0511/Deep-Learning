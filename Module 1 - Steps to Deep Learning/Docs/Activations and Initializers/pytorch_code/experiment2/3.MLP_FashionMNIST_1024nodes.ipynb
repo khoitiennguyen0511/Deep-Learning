{
 "cells": [
  {
   "cell_type": "code",
   "execution_count": 1,
   "metadata": {},
   "outputs": [],
   "source": [
    "import torch\n",
    "import torch.nn as nn\n",
    "import torch.optim as optim\n",
    "import torchvision\n",
    "import torchvision.transforms as transforms\n",
    "\n",
    "# Check if GPU is available\n",
    "device = torch.device(\"cuda:0\" if torch.cuda.is_available() else \"cpu\")"
   ]
  },
  {
   "cell_type": "code",
   "execution_count": null,
   "metadata": {},
   "outputs": [],
   "source": []
  },
  {
   "cell_type": "markdown",
   "metadata": {},
   "source": [
    "#### Data"
   ]
  },
  {
   "cell_type": "code",
   "execution_count": 2,
   "metadata": {},
   "outputs": [],
   "source": [
    "# Load CFashionMNIST dataset\n",
    "transform = transforms.Compose([transforms.ToTensor(), transforms.Normalize((0.5,), (0.5,))])\n",
    "\n",
    "trainset = torchvision.datasets.FashionMNIST(root='data', train=True, download=True, transform=transform)\n",
    "trainloader = torch.utils.data.DataLoader(trainset, batch_size=1024, num_workers=10, shuffle=True)\n",
    "\n",
    "testset = torchvision.datasets.FashionMNIST(root='data', train=False, download=True, transform=transform)\n",
    "testloader = torch.utils.data.DataLoader(testset, batch_size=1024, num_workers=10, shuffle=False)"
   ]
  },
  {
   "cell_type": "code",
   "execution_count": 3,
   "metadata": {},
   "outputs": [
    {
     "data": {
      "image/png": "[encoded data removed]",
      "text/plain": [
       "<Figure size 640x480 with 1 Axes>"
      ]
     },
     "metadata": {},
     "output_type": "display_data"
    }
   ],
   "source": [
    "import matplotlib.pyplot as plt\n",
    "import numpy as np\n",
    "\n",
    "# Function to display the images\n",
    "def imshow(img):\n",
    "    img = img*0.5 + 0.5\n",
    "    np_img = img.numpy()\n",
    "    plt.imshow(np.transpose(np_img, (1, 2, 0)))\n",
    "    plt.show()\n",
    "\n",
    "for i, (images, labels) in enumerate(trainloader, 0):\n",
    "    # Plot some images\n",
    "    imshow(torchvision.utils.make_grid(images[:8]))  # Display 8 images from the batch\n",
    "    break"
   ]
  },
  {
   "cell_type": "code",
   "execution_count": null,
   "metadata": {},
   "outputs": [],
   "source": []
  },
  {
   "cell_type": "markdown",
   "metadata": {},
   "source": [
    "#### Model"
   ]
  },
  {
   "cell_type": "code",
   "execution_count": 4,
   "metadata": {},
   "outputs": [
    {
     "name": "stdout",
     "output_type": "stream",
     "text": [
      "Sequential(\n",
      "  (0): Flatten(start_dim=1, end_dim=-1)\n",
      "  (1): Linear(in_features=784, out_features=1024, bias=True)\n",
      "  (2): ReLU()\n",
      "  (3): Linear(in_features=1024, out_features=10, bias=True)\n",
      ")\n"
     ]
    }
   ],
   "source": [
    "model = nn.Sequential(\n",
    "    nn.Flatten(), \n",
    "    nn.Linear(784, 1024),\n",
    "    nn.ReLU(),\n",
    "    nn.Linear(1024, 10)\n",
    ")\n",
    "model = model.to(device)\n",
    "\n",
    "print(model)"
   ]
  },
  {
   "cell_type": "code",
   "execution_count": 5,
   "metadata": {},
   "outputs": [
    {
     "name": "stdout",
     "output_type": "stream",
     "text": [
      "torch.Size([5, 10])\n"
     ]
    }
   ],
   "source": [
    "# Generating a random tensor\n",
    "input_tensor = torch.rand(5, 28, 28).to(device)\n",
    "\n",
    "# Feeding the tensor into the model\n",
    "output = model(input_tensor)\n",
    "print(output.shape)"
   ]
  },
  {
   "cell_type": "code",
   "execution_count": null,
   "metadata": {},
   "outputs": [],
   "source": []
  },
  {
   "cell_type": "markdown",
   "metadata": {},
   "source": [
    "#### Loss, Optimizer, and Evaluation Function"
   ]
  },
  {
   "cell_type": "code",
   "execution_count": 6,
   "metadata": {},
   "outputs": [],
   "source": [
    "criterion = nn.CrossEntropyLoss()\n",
    "optimizer = optim.SGD(model.parameters(), lr=0.01)"
   ]
  },
  {
   "cell_type": "code",
   "execution_count": 7,
   "metadata": {},
   "outputs": [],
   "source": [
    "# Function to compute loss and accuracy for test set\n",
    "def evaluate(model, testloader, criterion):\n",
    "    model.eval()\n",
    "    test_loss = 0.0\n",
    "    correct = 0\n",
    "    total = 0\n",
    "    with torch.no_grad():\n",
    "        for images, labels in testloader:\n",
    "            # Move inputs and labels to the device\n",
    "            images, labels = images.to(device), labels.to(device)\n",
    "\n",
    "            outputs = model(images)\n",
    "            loss = criterion(outputs, labels)\n",
    "            test_loss += loss.item()\n",
    "            \n",
    "            _, predicted = torch.max(outputs.data, 1)\n",
    "            total += labels.size(0)\n",
    "            correct += (predicted == labels).sum().item()\n",
    "\n",
    "    accuracy = 100 * correct / total\n",
    "    test_loss = test_loss / len(testloader)\n",
    "    return test_loss, accuracy"
   ]
  },
  {
   "cell_type": "code",
   "execution_count": 8,
   "metadata": {},
   "outputs": [
    {
     "name": "stdout",
     "output_type": "stream",
     "text": [
      "test_loss: 2.365133786201477\n",
      "test_accuracy: 9.95\n"
     ]
    }
   ],
   "source": [
    "test_loss, test_accuracy = evaluate(model, testloader, criterion)\n",
    "print(f'test_loss: {test_loss}')\n",
    "print(f'test_accuracy: {test_accuracy}')"
   ]
  },
  {
   "cell_type": "code",
   "execution_count": null,
   "metadata": {},
   "outputs": [],
   "source": []
  },
  {
   "cell_type": "markdown",
   "metadata": {},
   "source": [
    "#### Train"
   ]
  },
  {
   "cell_type": "code",
   "execution_count": 9,
   "metadata": {},
   "outputs": [],
   "source": [
    "# some parameter\n",
    "train_losses = []\n",
    "train_accuracies = []\n",
    "test_losses = []\n",
    "test_accuracies = []\n",
    "max_epoch = 400"
   ]
  },
  {
   "cell_type": "code",
   "execution_count": 10,
   "metadata": {
    "colab": {
     "base_uri": "https://localhost:8080/"
    },
    "id": "tYwXeSOOF_4Z",
    "outputId": "a4c62a4a-267f-4101-ce96-662cc23cdbe0"
   },
   "outputs": [
    {
     "name": "stdout",
     "output_type": "stream",
     "text": [
      "Epoch [1/400], Loss: 1.7205, Accuracy: 55.53%, Test Loss: 1.2936, Test Accuracy: 67.84%\n",
      "Epoch [2/400], Loss: 1.0979, Accuracy: 70.78%, Test Loss: 0.9699, Test Accuracy: 71.82%\n",
      "Epoch [3/400], Loss: 0.8843, Accuracy: 73.43%, Test Loss: 0.8363, Test Accuracy: 73.63%\n",
      "Epoch [4/400], Loss: 0.7838, Accuracy: 74.86%, Test Loss: 0.7643, Test Accuracy: 74.74%\n",
      "Epoch [5/400], Loss: 0.7257, Accuracy: 75.85%, Test Loss: 0.7186, Test Accuracy: 75.75%\n",
      "Epoch [6/400], Loss: 0.6856, Accuracy: 76.81%, Test Loss: 0.6866, Test Accuracy: 76.52%\n",
      "Epoch [7/400], Loss: 0.6567, Accuracy: 77.65%, Test Loss: 0.6612, Test Accuracy: 77.19%\n",
      "Epoch [8/400], Loss: 0.6331, Accuracy: 78.34%, Test Loss: 0.6417, Test Accuracy: 77.49%\n",
      "Epoch [9/400], Loss: 0.6143, Accuracy: 78.93%, Test Loss: 0.6254, Test Accuracy: 78.24%\n",
      "Epoch [10/400], Loss: 0.5985, Accuracy: 79.49%, Test Loss: 0.6107, Test Accuracy: 78.61%\n",
      "Epoch [11/400], Loss: 0.5845, Accuracy: 79.91%, Test Loss: 0.5987, Test Accuracy: 79.00%\n",
      "Epoch [12/400], Loss: 0.5723, Accuracy: 80.32%, Test Loss: 0.5883, Test Accuracy: 79.52%\n",
      "Epoch [13/400], Loss: 0.5620, Accuracy: 80.58%, Test Loss: 0.5789, Test Accuracy: 79.64%\n",
      "Epoch [14/400], Loss: 0.5525, Accuracy: 80.98%, Test Loss: 0.5705, Test Accuracy: 80.04%\n",
      "Epoch [15/400], Loss: 0.5435, Accuracy: 81.23%, Test Loss: 0.5627, Test Accuracy: 80.25%\n",
      "Epoch [16/400], Loss: 0.5363, Accuracy: 81.45%, Test Loss: 0.5569, Test Accuracy: 80.44%\n",
      "Epoch [17/400], Loss: 0.5292, Accuracy: 81.71%, Test Loss: 0.5501, Test Accuracy: 80.71%\n",
      "Epoch [18/400], Loss: 0.5230, Accuracy: 81.96%, Test Loss: 0.5453, Test Accuracy: 80.79%\n",
      "Epoch [19/400], Loss: 0.5173, Accuracy: 82.11%, Test Loss: 0.5397, Test Accuracy: 80.99%\n",
      "Epoch [20/400], Loss: 0.5114, Accuracy: 82.25%, Test Loss: 0.5351, Test Accuracy: 81.12%\n",
      "Epoch [21/400], Loss: 0.5070, Accuracy: 82.42%, Test Loss: 0.5299, Test Accuracy: 81.20%\n",
      "Epoch [22/400], Loss: 0.5018, Accuracy: 82.60%, Test Loss: 0.5259, Test Accuracy: 81.30%\n",
      "Epoch [23/400], Loss: 0.4979, Accuracy: 82.77%, Test Loss: 0.5224, Test Accuracy: 81.49%\n",
      "Epoch [24/400], Loss: 0.4937, Accuracy: 82.91%, Test Loss: 0.5187, Test Accuracy: 81.62%\n",
      "Epoch [25/400], Loss: 0.4893, Accuracy: 82.95%, Test Loss: 0.5152, Test Accuracy: 81.72%\n",
      "Epoch [26/400], Loss: 0.4861, Accuracy: 83.13%, Test Loss: 0.5122, Test Accuracy: 81.72%\n",
      "Epoch [27/400], Loss: 0.4824, Accuracy: 83.29%, Test Loss: 0.5099, Test Accuracy: 81.84%\n",
      "Epoch [28/400], Loss: 0.4791, Accuracy: 83.36%, Test Loss: 0.5063, Test Accuracy: 81.91%\n",
      "Epoch [29/400], Loss: 0.4757, Accuracy: 83.50%, Test Loss: 0.5038, Test Accuracy: 82.22%\n",
      "Epoch [30/400], Loss: 0.4729, Accuracy: 83.61%, Test Loss: 0.5008, Test Accuracy: 82.11%\n",
      "Epoch [31/400], Loss: 0.4700, Accuracy: 83.65%, Test Loss: 0.4991, Test Accuracy: 82.02%\n",
      "Epoch [32/400], Loss: 0.4672, Accuracy: 83.72%, Test Loss: 0.4965, Test Accuracy: 82.12%\n",
      "Epoch [33/400], Loss: 0.4650, Accuracy: 83.85%, Test Loss: 0.4937, Test Accuracy: 82.25%\n",
      "Epoch [34/400], Loss: 0.4623, Accuracy: 83.88%, Test Loss: 0.4914, Test Accuracy: 82.46%\n",
      "Epoch [35/400], Loss: 0.4600, Accuracy: 83.99%, Test Loss: 0.4891, Test Accuracy: 82.44%\n",
      "Epoch [36/400], Loss: 0.4575, Accuracy: 84.06%, Test Loss: 0.4869, Test Accuracy: 82.47%\n",
      "Epoch [37/400], Loss: 0.4552, Accuracy: 84.13%, Test Loss: 0.4857, Test Accuracy: 82.55%\n",
      "Epoch [38/400], Loss: 0.4529, Accuracy: 84.20%, Test Loss: 0.4839, Test Accuracy: 82.62%\n",
      "Epoch [39/400], Loss: 0.4508, Accuracy: 84.34%, Test Loss: 0.4820, Test Accuracy: 82.56%\n",
      "Epoch [40/400], Loss: 0.4489, Accuracy: 84.36%, Test Loss: 0.4807, Test Accuracy: 82.54%\n",
      "Epoch [41/400], Loss: 0.4469, Accuracy: 84.44%, Test Loss: 0.4789, Test Accuracy: 82.92%\n",
      "Epoch [42/400], Loss: 0.4449, Accuracy: 84.48%, Test Loss: 0.4764, Test Accuracy: 82.99%\n",
      "Epoch [43/400], Loss: 0.4428, Accuracy: 84.55%, Test Loss: 0.4745, Test Accuracy: 82.99%\n",
      "Epoch [44/400], Loss: 0.4413, Accuracy: 84.62%, Test Loss: 0.4726, Test Accuracy: 83.09%\n",
      "Epoch [45/400], Loss: 0.4396, Accuracy: 84.67%, Test Loss: 0.4715, Test Accuracy: 83.11%\n",
      "Epoch [46/400], Loss: 0.4378, Accuracy: 84.69%, Test Loss: 0.4707, Test Accuracy: 83.03%\n",
      "Epoch [47/400], Loss: 0.4360, Accuracy: 84.77%, Test Loss: 0.4684, Test Accuracy: 83.27%\n",
      "Epoch [48/400], Loss: 0.4341, Accuracy: 84.83%, Test Loss: 0.4667, Test Accuracy: 83.23%\n",
      "Epoch [49/400], Loss: 0.4323, Accuracy: 84.90%, Test Loss: 0.4653, Test Accuracy: 83.41%\n",
      "Epoch [50/400], Loss: 0.4314, Accuracy: 84.95%, Test Loss: 0.4642, Test Accuracy: 83.46%\n",
      "Epoch [51/400], Loss: 0.4295, Accuracy: 85.00%, Test Loss: 0.4626, Test Accuracy: 83.56%\n",
      "Epoch [52/400], Loss: 0.4284, Accuracy: 85.07%, Test Loss: 0.4611, Test Accuracy: 83.55%\n",
      "Epoch [53/400], Loss: 0.4267, Accuracy: 85.12%, Test Loss: 0.4600, Test Accuracy: 83.50%\n",
      "Epoch [54/400], Loss: 0.4253, Accuracy: 85.16%, Test Loss: 0.4586, Test Accuracy: 83.65%\n",
      "Epoch [55/400], Loss: 0.4241, Accuracy: 85.18%, Test Loss: 0.4576, Test Accuracy: 83.60%\n",
      "Epoch [56/400], Loss: 0.4224, Accuracy: 85.24%, Test Loss: 0.4569, Test Accuracy: 83.60%\n",
      "Epoch [57/400], Loss: 0.4212, Accuracy: 85.30%, Test Loss: 0.4552, Test Accuracy: 83.78%\n",
      "Epoch [58/400], Loss: 0.4197, Accuracy: 85.31%, Test Loss: 0.4544, Test Accuracy: 83.65%\n",
      "Epoch [59/400], Loss: 0.4184, Accuracy: 85.42%, Test Loss: 0.4533, Test Accuracy: 83.74%\n",
      "Epoch [60/400], Loss: 0.4171, Accuracy: 85.44%, Test Loss: 0.4516, Test Accuracy: 83.81%\n",
      "Epoch [61/400], Loss: 0.4162, Accuracy: 85.48%, Test Loss: 0.4504, Test Accuracy: 83.96%\n",
      "Epoch [62/400], Loss: 0.4145, Accuracy: 85.54%, Test Loss: 0.4505, Test Accuracy: 83.89%\n",
      "Epoch [63/400], Loss: 0.4135, Accuracy: 85.56%, Test Loss: 0.4484, Test Accuracy: 83.97%\n",
      "Epoch [64/400], Loss: 0.4125, Accuracy: 85.60%, Test Loss: 0.4479, Test Accuracy: 83.99%\n",
      "Epoch [65/400], Loss: 0.4110, Accuracy: 85.61%, Test Loss: 0.4461, Test Accuracy: 84.03%\n",
      "Epoch [66/400], Loss: 0.4100, Accuracy: 85.66%, Test Loss: 0.4453, Test Accuracy: 84.10%\n",
      "Epoch [67/400], Loss: 0.4091, Accuracy: 85.72%, Test Loss: 0.4445, Test Accuracy: 84.10%\n",
      "Epoch [68/400], Loss: 0.4080, Accuracy: 85.78%, Test Loss: 0.4435, Test Accuracy: 84.09%\n",
      "Epoch [69/400], Loss: 0.4068, Accuracy: 85.76%, Test Loss: 0.4423, Test Accuracy: 84.20%\n",
      "Epoch [70/400], Loss: 0.4058, Accuracy: 85.81%, Test Loss: 0.4424, Test Accuracy: 84.18%\n",
      "Epoch [71/400], Loss: 0.4049, Accuracy: 85.88%, Test Loss: 0.4410, Test Accuracy: 84.20%\n",
      "Epoch [72/400], Loss: 0.4033, Accuracy: 85.89%, Test Loss: 0.4396, Test Accuracy: 84.27%\n",
      "Epoch [73/400], Loss: 0.4026, Accuracy: 85.91%, Test Loss: 0.4390, Test Accuracy: 84.24%\n",
      "Epoch [74/400], Loss: 0.4012, Accuracy: 85.99%, Test Loss: 0.4381, Test Accuracy: 84.31%\n",
      "Epoch [75/400], Loss: 0.4002, Accuracy: 86.02%, Test Loss: 0.4370, Test Accuracy: 84.34%\n",
      "Epoch [76/400], Loss: 0.3996, Accuracy: 86.05%, Test Loss: 0.4362, Test Accuracy: 84.41%\n",
      "Epoch [77/400], Loss: 0.3986, Accuracy: 86.08%, Test Loss: 0.4357, Test Accuracy: 84.33%\n",
      "Epoch [78/400], Loss: 0.3973, Accuracy: 86.10%, Test Loss: 0.4353, Test Accuracy: 84.52%\n",
      "Epoch [79/400], Loss: 0.3966, Accuracy: 86.11%, Test Loss: 0.4336, Test Accuracy: 84.34%\n",
      "Epoch [80/400], Loss: 0.3959, Accuracy: 86.22%, Test Loss: 0.4334, Test Accuracy: 84.40%\n",
      "Epoch [81/400], Loss: 0.3953, Accuracy: 86.21%, Test Loss: 0.4321, Test Accuracy: 84.46%\n",
      "Epoch [82/400], Loss: 0.3939, Accuracy: 86.23%, Test Loss: 0.4313, Test Accuracy: 84.53%\n",
      "Epoch [83/400], Loss: 0.3929, Accuracy: 86.27%, Test Loss: 0.4304, Test Accuracy: 84.58%\n",
      "Epoch [84/400], Loss: 0.3916, Accuracy: 86.33%, Test Loss: 0.4297, Test Accuracy: 84.59%\n",
      "Epoch [85/400], Loss: 0.3912, Accuracy: 86.26%, Test Loss: 0.4289, Test Accuracy: 84.59%\n",
      "Epoch [86/400], Loss: 0.3899, Accuracy: 86.35%, Test Loss: 0.4283, Test Accuracy: 84.69%\n",
      "Epoch [87/400], Loss: 0.3895, Accuracy: 86.40%, Test Loss: 0.4274, Test Accuracy: 84.69%\n",
      "Epoch [88/400], Loss: 0.3882, Accuracy: 86.44%, Test Loss: 0.4273, Test Accuracy: 84.65%\n",
      "Epoch [89/400], Loss: 0.3876, Accuracy: 86.46%, Test Loss: 0.4266, Test Accuracy: 84.70%\n",
      "Epoch [90/400], Loss: 0.3867, Accuracy: 86.51%, Test Loss: 0.4252, Test Accuracy: 84.65%\n",
      "Epoch [91/400], Loss: 0.3863, Accuracy: 86.53%, Test Loss: 0.4248, Test Accuracy: 84.87%\n",
      "Epoch [92/400], Loss: 0.3851, Accuracy: 86.56%, Test Loss: 0.4244, Test Accuracy: 84.67%\n",
      "Epoch [93/400], Loss: 0.3845, Accuracy: 86.50%, Test Loss: 0.4231, Test Accuracy: 84.66%\n",
      "Epoch [94/400], Loss: 0.3837, Accuracy: 86.57%, Test Loss: 0.4225, Test Accuracy: 84.75%\n",
      "Epoch [95/400], Loss: 0.3830, Accuracy: 86.63%, Test Loss: 0.4220, Test Accuracy: 84.75%\n",
      "Epoch [96/400], Loss: 0.3818, Accuracy: 86.69%, Test Loss: 0.4217, Test Accuracy: 84.76%\n",
      "Epoch [97/400], Loss: 0.3813, Accuracy: 86.65%, Test Loss: 0.4214, Test Accuracy: 84.83%\n",
      "Epoch [98/400], Loss: 0.3808, Accuracy: 86.69%, Test Loss: 0.4207, Test Accuracy: 84.88%\n",
      "Epoch [99/400], Loss: 0.3799, Accuracy: 86.71%, Test Loss: 0.4198, Test Accuracy: 84.90%\n",
      "Epoch [100/400], Loss: 0.3792, Accuracy: 86.73%, Test Loss: 0.4185, Test Accuracy: 84.94%\n",
      "Epoch [101/400], Loss: 0.3782, Accuracy: 86.80%, Test Loss: 0.4180, Test Accuracy: 84.88%\n",
      "Epoch [102/400], Loss: 0.3774, Accuracy: 86.75%, Test Loss: 0.4181, Test Accuracy: 84.95%\n",
      "Epoch [103/400], Loss: 0.3772, Accuracy: 86.81%, Test Loss: 0.4171, Test Accuracy: 85.04%\n",
      "Epoch [104/400], Loss: 0.3761, Accuracy: 86.80%, Test Loss: 0.4167, Test Accuracy: 85.01%\n",
      "Epoch [105/400], Loss: 0.3753, Accuracy: 86.88%, Test Loss: 0.4156, Test Accuracy: 85.05%\n",
      "Epoch [106/400], Loss: 0.3745, Accuracy: 86.93%, Test Loss: 0.4154, Test Accuracy: 85.08%\n",
      "Epoch [107/400], Loss: 0.3738, Accuracy: 86.95%, Test Loss: 0.4146, Test Accuracy: 85.12%\n",
      "Epoch [108/400], Loss: 0.3726, Accuracy: 86.97%, Test Loss: 0.4141, Test Accuracy: 85.12%\n",
      "Epoch [109/400], Loss: 0.3728, Accuracy: 86.99%, Test Loss: 0.4136, Test Accuracy: 85.10%\n",
      "Epoch [110/400], Loss: 0.3722, Accuracy: 87.01%, Test Loss: 0.4129, Test Accuracy: 85.08%\n",
      "Epoch [111/400], Loss: 0.3713, Accuracy: 87.02%, Test Loss: 0.4129, Test Accuracy: 85.01%\n",
      "Epoch [112/400], Loss: 0.3702, Accuracy: 87.04%, Test Loss: 0.4118, Test Accuracy: 85.12%\n",
      "Epoch [113/400], Loss: 0.3697, Accuracy: 87.08%, Test Loss: 0.4114, Test Accuracy: 85.24%\n",
      "Epoch [114/400], Loss: 0.3692, Accuracy: 87.11%, Test Loss: 0.4108, Test Accuracy: 85.13%\n",
      "Epoch [115/400], Loss: 0.3683, Accuracy: 87.11%, Test Loss: 0.4103, Test Accuracy: 85.30%\n",
      "Epoch [116/400], Loss: 0.3682, Accuracy: 87.12%, Test Loss: 0.4098, Test Accuracy: 85.16%\n",
      "Epoch [117/400], Loss: 0.3671, Accuracy: 87.09%, Test Loss: 0.4091, Test Accuracy: 85.27%\n",
      "Epoch [118/400], Loss: 0.3665, Accuracy: 87.18%, Test Loss: 0.4091, Test Accuracy: 85.29%\n",
      "Epoch [119/400], Loss: 0.3658, Accuracy: 87.21%, Test Loss: 0.4084, Test Accuracy: 85.32%\n",
      "Epoch [120/400], Loss: 0.3653, Accuracy: 87.23%, Test Loss: 0.4080, Test Accuracy: 85.33%\n",
      "Epoch [121/400], Loss: 0.3648, Accuracy: 87.21%, Test Loss: 0.4070, Test Accuracy: 85.27%\n",
      "Epoch [122/400], Loss: 0.3640, Accuracy: 87.24%, Test Loss: 0.4071, Test Accuracy: 85.43%\n",
      "Epoch [123/400], Loss: 0.3635, Accuracy: 87.28%, Test Loss: 0.4062, Test Accuracy: 85.37%\n",
      "Epoch [124/400], Loss: 0.3626, Accuracy: 87.27%, Test Loss: 0.4055, Test Accuracy: 85.42%\n",
      "Epoch [125/400], Loss: 0.3621, Accuracy: 87.30%, Test Loss: 0.4061, Test Accuracy: 85.44%\n",
      "Epoch [126/400], Loss: 0.3616, Accuracy: 87.32%, Test Loss: 0.4049, Test Accuracy: 85.44%\n",
      "Epoch [127/400], Loss: 0.3608, Accuracy: 87.37%, Test Loss: 0.4048, Test Accuracy: 85.48%\n",
      "Epoch [128/400], Loss: 0.3603, Accuracy: 87.35%, Test Loss: 0.4037, Test Accuracy: 85.48%\n",
      "Epoch [129/400], Loss: 0.3597, Accuracy: 87.39%, Test Loss: 0.4044, Test Accuracy: 85.51%\n",
      "Epoch [130/400], Loss: 0.3593, Accuracy: 87.41%, Test Loss: 0.4033, Test Accuracy: 85.52%\n",
      "Epoch [131/400], Loss: 0.3586, Accuracy: 87.39%, Test Loss: 0.4026, Test Accuracy: 85.59%\n",
      "Epoch [132/400], Loss: 0.3580, Accuracy: 87.44%, Test Loss: 0.4017, Test Accuracy: 85.60%\n",
      "Epoch [133/400], Loss: 0.3573, Accuracy: 87.50%, Test Loss: 0.4018, Test Accuracy: 85.68%\n",
      "Epoch [134/400], Loss: 0.3572, Accuracy: 87.48%, Test Loss: 0.4019, Test Accuracy: 85.61%\n",
      "Epoch [135/400], Loss: 0.3563, Accuracy: 87.49%, Test Loss: 0.4017, Test Accuracy: 85.60%\n",
      "Epoch [136/400], Loss: 0.3558, Accuracy: 87.52%, Test Loss: 0.4003, Test Accuracy: 85.62%\n",
      "Epoch [137/400], Loss: 0.3549, Accuracy: 87.58%, Test Loss: 0.3999, Test Accuracy: 85.68%\n",
      "Epoch [138/400], Loss: 0.3545, Accuracy: 87.58%, Test Loss: 0.3996, Test Accuracy: 85.65%\n",
      "Epoch [139/400], Loss: 0.3540, Accuracy: 87.55%, Test Loss: 0.4005, Test Accuracy: 85.71%\n",
      "Epoch [140/400], Loss: 0.3533, Accuracy: 87.58%, Test Loss: 0.3988, Test Accuracy: 85.69%\n",
      "Epoch [141/400], Loss: 0.3526, Accuracy: 87.64%, Test Loss: 0.3981, Test Accuracy: 85.68%\n",
      "Epoch [142/400], Loss: 0.3524, Accuracy: 87.63%, Test Loss: 0.3980, Test Accuracy: 85.79%\n",
      "Epoch [143/400], Loss: 0.3517, Accuracy: 87.63%, Test Loss: 0.3978, Test Accuracy: 85.66%\n",
      "Epoch [144/400], Loss: 0.3515, Accuracy: 87.63%, Test Loss: 0.3970, Test Accuracy: 85.85%\n",
      "Epoch [145/400], Loss: 0.3508, Accuracy: 87.72%, Test Loss: 0.3968, Test Accuracy: 85.75%\n",
      "Epoch [146/400], Loss: 0.3503, Accuracy: 87.70%, Test Loss: 0.3965, Test Accuracy: 85.71%\n",
      "Epoch [147/400], Loss: 0.3497, Accuracy: 87.74%, Test Loss: 0.3954, Test Accuracy: 85.76%\n",
      "Epoch [148/400], Loss: 0.3489, Accuracy: 87.76%, Test Loss: 0.3955, Test Accuracy: 85.80%\n",
      "Epoch [149/400], Loss: 0.3484, Accuracy: 87.75%, Test Loss: 0.3951, Test Accuracy: 85.80%\n",
      "Epoch [150/400], Loss: 0.3479, Accuracy: 87.79%, Test Loss: 0.3950, Test Accuracy: 85.79%\n",
      "Epoch [151/400], Loss: 0.3475, Accuracy: 87.80%, Test Loss: 0.3954, Test Accuracy: 85.87%\n",
      "Epoch [152/400], Loss: 0.3471, Accuracy: 87.81%, Test Loss: 0.3937, Test Accuracy: 85.97%\n",
      "Epoch [153/400], Loss: 0.3468, Accuracy: 87.85%, Test Loss: 0.3935, Test Accuracy: 85.95%\n",
      "Epoch [154/400], Loss: 0.3465, Accuracy: 87.85%, Test Loss: 0.3932, Test Accuracy: 85.86%\n",
      "Epoch [155/400], Loss: 0.3451, Accuracy: 87.82%, Test Loss: 0.3928, Test Accuracy: 85.94%\n",
      "Epoch [156/400], Loss: 0.3451, Accuracy: 87.86%, Test Loss: 0.3923, Test Accuracy: 86.05%\n",
      "Epoch [157/400], Loss: 0.3446, Accuracy: 87.89%, Test Loss: 0.3918, Test Accuracy: 86.02%\n",
      "Epoch [158/400], Loss: 0.3439, Accuracy: 87.88%, Test Loss: 0.3917, Test Accuracy: 86.08%\n",
      "Epoch [159/400], Loss: 0.3438, Accuracy: 87.96%, Test Loss: 0.3910, Test Accuracy: 86.02%\n",
      "Epoch [160/400], Loss: 0.3431, Accuracy: 87.93%, Test Loss: 0.3908, Test Accuracy: 86.10%\n",
      "Epoch [161/400], Loss: 0.3426, Accuracy: 87.97%, Test Loss: 0.3908, Test Accuracy: 85.94%\n",
      "Epoch [162/400], Loss: 0.3424, Accuracy: 87.94%, Test Loss: 0.3909, Test Accuracy: 86.08%\n",
      "Epoch [163/400], Loss: 0.3418, Accuracy: 88.03%, Test Loss: 0.3897, Test Accuracy: 86.07%\n",
      "Epoch [164/400], Loss: 0.3411, Accuracy: 87.99%, Test Loss: 0.3894, Test Accuracy: 86.00%\n",
      "Epoch [165/400], Loss: 0.3412, Accuracy: 88.05%, Test Loss: 0.3892, Test Accuracy: 86.17%\n",
      "Epoch [166/400], Loss: 0.3401, Accuracy: 88.06%, Test Loss: 0.3884, Test Accuracy: 86.14%\n",
      "Epoch [167/400], Loss: 0.3401, Accuracy: 88.06%, Test Loss: 0.3881, Test Accuracy: 86.16%\n",
      "Epoch [168/400], Loss: 0.3392, Accuracy: 88.08%, Test Loss: 0.3880, Test Accuracy: 86.20%\n",
      "Epoch [169/400], Loss: 0.3388, Accuracy: 88.14%, Test Loss: 0.3883, Test Accuracy: 86.27%\n",
      "Epoch [170/400], Loss: 0.3387, Accuracy: 88.12%, Test Loss: 0.3873, Test Accuracy: 86.11%\n",
      "Epoch [171/400], Loss: 0.3380, Accuracy: 88.17%, Test Loss: 0.3875, Test Accuracy: 86.27%\n",
      "Epoch [172/400], Loss: 0.3372, Accuracy: 88.16%, Test Loss: 0.3868, Test Accuracy: 86.29%\n",
      "Epoch [173/400], Loss: 0.3370, Accuracy: 88.19%, Test Loss: 0.3864, Test Accuracy: 86.23%\n",
      "Epoch [174/400], Loss: 0.3368, Accuracy: 88.16%, Test Loss: 0.3865, Test Accuracy: 86.24%\n",
      "Epoch [175/400], Loss: 0.3362, Accuracy: 88.22%, Test Loss: 0.3863, Test Accuracy: 86.27%\n",
      "Epoch [176/400], Loss: 0.3359, Accuracy: 88.17%, Test Loss: 0.3856, Test Accuracy: 86.33%\n",
      "Epoch [177/400], Loss: 0.3354, Accuracy: 88.23%, Test Loss: 0.3850, Test Accuracy: 86.21%\n",
      "Epoch [178/400], Loss: 0.3352, Accuracy: 88.28%, Test Loss: 0.3849, Test Accuracy: 86.25%\n",
      "Epoch [179/400], Loss: 0.3344, Accuracy: 88.25%, Test Loss: 0.3850, Test Accuracy: 86.29%\n",
      "Epoch [180/400], Loss: 0.3339, Accuracy: 88.32%, Test Loss: 0.3842, Test Accuracy: 86.36%\n",
      "Epoch [181/400], Loss: 0.3333, Accuracy: 88.27%, Test Loss: 0.3840, Test Accuracy: 86.33%\n",
      "Epoch [182/400], Loss: 0.3329, Accuracy: 88.28%, Test Loss: 0.3839, Test Accuracy: 86.39%\n",
      "Epoch [183/400], Loss: 0.3328, Accuracy: 88.30%, Test Loss: 0.3831, Test Accuracy: 86.48%\n",
      "Epoch [184/400], Loss: 0.3324, Accuracy: 88.39%, Test Loss: 0.3835, Test Accuracy: 86.53%\n",
      "Epoch [185/400], Loss: 0.3320, Accuracy: 88.42%, Test Loss: 0.3827, Test Accuracy: 86.48%\n",
      "Epoch [186/400], Loss: 0.3310, Accuracy: 88.37%, Test Loss: 0.3826, Test Accuracy: 86.50%\n",
      "Epoch [187/400], Loss: 0.3310, Accuracy: 88.38%, Test Loss: 0.3825, Test Accuracy: 86.26%\n",
      "Epoch [188/400], Loss: 0.3304, Accuracy: 88.40%, Test Loss: 0.3819, Test Accuracy: 86.49%\n",
      "Epoch [189/400], Loss: 0.3302, Accuracy: 88.40%, Test Loss: 0.3815, Test Accuracy: 86.56%\n",
      "Epoch [190/400], Loss: 0.3293, Accuracy: 88.40%, Test Loss: 0.3813, Test Accuracy: 86.40%\n",
      "Epoch [191/400], Loss: 0.3293, Accuracy: 88.45%, Test Loss: 0.3810, Test Accuracy: 86.50%\n",
      "Epoch [192/400], Loss: 0.3288, Accuracy: 88.47%, Test Loss: 0.3809, Test Accuracy: 86.53%\n",
      "Epoch [193/400], Loss: 0.3282, Accuracy: 88.52%, Test Loss: 0.3804, Test Accuracy: 86.47%\n",
      "Epoch [194/400], Loss: 0.3278, Accuracy: 88.50%, Test Loss: 0.3808, Test Accuracy: 86.36%\n",
      "Epoch [195/400], Loss: 0.3276, Accuracy: 88.52%, Test Loss: 0.3805, Test Accuracy: 86.42%\n",
      "Epoch [196/400], Loss: 0.3273, Accuracy: 88.50%, Test Loss: 0.3795, Test Accuracy: 86.48%\n",
      "Epoch [197/400], Loss: 0.3268, Accuracy: 88.52%, Test Loss: 0.3793, Test Accuracy: 86.61%\n",
      "Epoch [198/400], Loss: 0.3267, Accuracy: 88.51%, Test Loss: 0.3788, Test Accuracy: 86.39%\n",
      "Epoch [199/400], Loss: 0.3258, Accuracy: 88.60%, Test Loss: 0.3784, Test Accuracy: 86.40%\n",
      "Epoch [200/400], Loss: 0.3254, Accuracy: 88.60%, Test Loss: 0.3781, Test Accuracy: 86.54%\n",
      "Epoch [201/400], Loss: 0.3253, Accuracy: 88.57%, Test Loss: 0.3782, Test Accuracy: 86.64%\n",
      "Epoch [202/400], Loss: 0.3247, Accuracy: 88.58%, Test Loss: 0.3779, Test Accuracy: 86.40%\n",
      "Epoch [203/400], Loss: 0.3248, Accuracy: 88.60%, Test Loss: 0.3771, Test Accuracy: 86.47%\n",
      "Epoch [204/400], Loss: 0.3239, Accuracy: 88.61%, Test Loss: 0.3770, Test Accuracy: 86.58%\n",
      "Epoch [205/400], Loss: 0.3235, Accuracy: 88.68%, Test Loss: 0.3776, Test Accuracy: 86.54%\n",
      "Epoch [206/400], Loss: 0.3231, Accuracy: 88.64%, Test Loss: 0.3770, Test Accuracy: 86.54%\n",
      "Epoch [207/400], Loss: 0.3228, Accuracy: 88.64%, Test Loss: 0.3761, Test Accuracy: 86.52%\n",
      "Epoch [208/400], Loss: 0.3220, Accuracy: 88.67%, Test Loss: 0.3771, Test Accuracy: 86.48%\n",
      "Epoch [209/400], Loss: 0.3221, Accuracy: 88.73%, Test Loss: 0.3754, Test Accuracy: 86.50%\n",
      "Epoch [210/400], Loss: 0.3219, Accuracy: 88.70%, Test Loss: 0.3754, Test Accuracy: 86.50%\n",
      "Epoch [211/400], Loss: 0.3211, Accuracy: 88.76%, Test Loss: 0.3751, Test Accuracy: 86.63%\n",
      "Epoch [212/400], Loss: 0.3208, Accuracy: 88.78%, Test Loss: 0.3750, Test Accuracy: 86.53%\n",
      "Epoch [213/400], Loss: 0.3205, Accuracy: 88.73%, Test Loss: 0.3745, Test Accuracy: 86.67%\n",
      "Epoch [214/400], Loss: 0.3200, Accuracy: 88.74%, Test Loss: 0.3752, Test Accuracy: 86.76%\n",
      "Epoch [215/400], Loss: 0.3199, Accuracy: 88.76%, Test Loss: 0.3759, Test Accuracy: 86.46%\n",
      "Epoch [216/400], Loss: 0.3194, Accuracy: 88.78%, Test Loss: 0.3742, Test Accuracy: 86.61%\n",
      "Epoch [217/400], Loss: 0.3190, Accuracy: 88.82%, Test Loss: 0.3737, Test Accuracy: 86.62%\n",
      "Epoch [218/400], Loss: 0.3185, Accuracy: 88.82%, Test Loss: 0.3735, Test Accuracy: 86.64%\n",
      "Epoch [219/400], Loss: 0.3181, Accuracy: 88.83%, Test Loss: 0.3735, Test Accuracy: 86.67%\n",
      "Epoch [220/400], Loss: 0.3174, Accuracy: 88.86%, Test Loss: 0.3730, Test Accuracy: 86.75%\n",
      "Epoch [221/400], Loss: 0.3175, Accuracy: 88.84%, Test Loss: 0.3730, Test Accuracy: 86.55%\n",
      "Epoch [222/400], Loss: 0.3171, Accuracy: 88.84%, Test Loss: 0.3725, Test Accuracy: 86.72%\n",
      "Epoch [223/400], Loss: 0.3168, Accuracy: 88.91%, Test Loss: 0.3721, Test Accuracy: 86.76%\n",
      "Epoch [224/400], Loss: 0.3166, Accuracy: 88.91%, Test Loss: 0.3719, Test Accuracy: 86.77%\n",
      "Epoch [225/400], Loss: 0.3161, Accuracy: 88.95%, Test Loss: 0.3721, Test Accuracy: 86.70%\n",
      "Epoch [226/400], Loss: 0.3156, Accuracy: 88.94%, Test Loss: 0.3715, Test Accuracy: 86.74%\n",
      "Epoch [227/400], Loss: 0.3154, Accuracy: 88.91%, Test Loss: 0.3711, Test Accuracy: 86.69%\n",
      "Epoch [228/400], Loss: 0.3148, Accuracy: 88.98%, Test Loss: 0.3707, Test Accuracy: 86.75%\n",
      "Epoch [229/400], Loss: 0.3147, Accuracy: 89.00%, Test Loss: 0.3707, Test Accuracy: 86.74%\n",
      "Epoch [230/400], Loss: 0.3143, Accuracy: 88.98%, Test Loss: 0.3703, Test Accuracy: 86.73%\n",
      "Epoch [231/400], Loss: 0.3137, Accuracy: 88.98%, Test Loss: 0.3710, Test Accuracy: 86.84%\n",
      "Epoch [232/400], Loss: 0.3132, Accuracy: 88.98%, Test Loss: 0.3698, Test Accuracy: 86.78%\n",
      "Epoch [233/400], Loss: 0.3131, Accuracy: 89.03%, Test Loss: 0.3699, Test Accuracy: 86.83%\n",
      "Epoch [234/400], Loss: 0.3127, Accuracy: 89.03%, Test Loss: 0.3698, Test Accuracy: 86.65%\n",
      "Epoch [235/400], Loss: 0.3126, Accuracy: 89.07%, Test Loss: 0.3697, Test Accuracy: 86.80%\n",
      "Epoch [236/400], Loss: 0.3121, Accuracy: 89.04%, Test Loss: 0.3689, Test Accuracy: 86.81%\n",
      "Epoch [237/400], Loss: 0.3114, Accuracy: 89.10%, Test Loss: 0.3691, Test Accuracy: 86.90%\n",
      "Epoch [238/400], Loss: 0.3113, Accuracy: 89.13%, Test Loss: 0.3687, Test Accuracy: 86.77%\n",
      "Epoch [239/400], Loss: 0.3110, Accuracy: 89.06%, Test Loss: 0.3685, Test Accuracy: 86.74%\n",
      "Epoch [240/400], Loss: 0.3107, Accuracy: 89.12%, Test Loss: 0.3685, Test Accuracy: 86.83%\n",
      "Epoch [241/400], Loss: 0.3101, Accuracy: 89.12%, Test Loss: 0.3680, Test Accuracy: 86.99%\n",
      "Epoch [242/400], Loss: 0.3100, Accuracy: 89.14%, Test Loss: 0.3684, Test Accuracy: 86.91%\n",
      "Epoch [243/400], Loss: 0.3098, Accuracy: 89.22%, Test Loss: 0.3674, Test Accuracy: 86.99%\n",
      "Epoch [244/400], Loss: 0.3092, Accuracy: 89.16%, Test Loss: 0.3676, Test Accuracy: 86.87%\n",
      "Epoch [245/400], Loss: 0.3090, Accuracy: 89.20%, Test Loss: 0.3672, Test Accuracy: 86.91%\n",
      "Epoch [246/400], Loss: 0.3084, Accuracy: 89.21%, Test Loss: 0.3674, Test Accuracy: 86.77%\n",
      "Epoch [247/400], Loss: 0.3079, Accuracy: 89.19%, Test Loss: 0.3663, Test Accuracy: 86.93%\n",
      "Epoch [248/400], Loss: 0.3077, Accuracy: 89.21%, Test Loss: 0.3674, Test Accuracy: 86.77%\n",
      "Epoch [249/400], Loss: 0.3075, Accuracy: 89.27%, Test Loss: 0.3664, Test Accuracy: 86.84%\n",
      "Epoch [250/400], Loss: 0.3073, Accuracy: 89.22%, Test Loss: 0.3662, Test Accuracy: 86.97%\n",
      "Epoch [251/400], Loss: 0.3072, Accuracy: 89.25%, Test Loss: 0.3668, Test Accuracy: 87.01%\n",
      "Epoch [252/400], Loss: 0.3065, Accuracy: 89.33%, Test Loss: 0.3656, Test Accuracy: 86.99%\n",
      "Epoch [253/400], Loss: 0.3063, Accuracy: 89.29%, Test Loss: 0.3655, Test Accuracy: 86.92%\n",
      "Epoch [254/400], Loss: 0.3058, Accuracy: 89.29%, Test Loss: 0.3654, Test Accuracy: 86.92%\n",
      "Epoch [255/400], Loss: 0.3053, Accuracy: 89.31%, Test Loss: 0.3654, Test Accuracy: 86.96%\n",
      "Epoch [256/400], Loss: 0.3052, Accuracy: 89.35%, Test Loss: 0.3649, Test Accuracy: 86.87%\n",
      "Epoch [257/400], Loss: 0.3048, Accuracy: 89.33%, Test Loss: 0.3651, Test Accuracy: 86.97%\n",
      "Epoch [258/400], Loss: 0.3046, Accuracy: 89.33%, Test Loss: 0.3642, Test Accuracy: 86.90%\n",
      "Epoch [259/400], Loss: 0.3045, Accuracy: 89.32%, Test Loss: 0.3640, Test Accuracy: 86.88%\n",
      "Epoch [260/400], Loss: 0.3036, Accuracy: 89.38%, Test Loss: 0.3641, Test Accuracy: 86.97%\n",
      "Epoch [261/400], Loss: 0.3036, Accuracy: 89.39%, Test Loss: 0.3633, Test Accuracy: 86.97%\n",
      "Epoch [262/400], Loss: 0.3030, Accuracy: 89.40%, Test Loss: 0.3646, Test Accuracy: 86.93%\n",
      "Epoch [263/400], Loss: 0.3030, Accuracy: 89.43%, Test Loss: 0.3632, Test Accuracy: 86.95%\n",
      "Epoch [264/400], Loss: 0.3025, Accuracy: 89.47%, Test Loss: 0.3632, Test Accuracy: 87.00%\n",
      "Epoch [265/400], Loss: 0.3021, Accuracy: 89.44%, Test Loss: 0.3628, Test Accuracy: 87.09%\n",
      "Epoch [266/400], Loss: 0.3019, Accuracy: 89.49%, Test Loss: 0.3626, Test Accuracy: 87.05%\n",
      "Epoch [267/400], Loss: 0.3017, Accuracy: 89.50%, Test Loss: 0.3633, Test Accuracy: 87.06%\n",
      "Epoch [268/400], Loss: 0.3014, Accuracy: 89.48%, Test Loss: 0.3631, Test Accuracy: 87.08%\n",
      "Epoch [269/400], Loss: 0.3007, Accuracy: 89.51%, Test Loss: 0.3624, Test Accuracy: 87.03%\n",
      "Epoch [270/400], Loss: 0.3007, Accuracy: 89.51%, Test Loss: 0.3619, Test Accuracy: 87.13%\n",
      "Epoch [271/400], Loss: 0.3005, Accuracy: 89.53%, Test Loss: 0.3620, Test Accuracy: 87.10%\n",
      "Epoch [272/400], Loss: 0.3001, Accuracy: 89.55%, Test Loss: 0.3612, Test Accuracy: 87.14%\n",
      "Epoch [273/400], Loss: 0.2997, Accuracy: 89.54%, Test Loss: 0.3615, Test Accuracy: 87.16%\n",
      "Epoch [274/400], Loss: 0.2990, Accuracy: 89.55%, Test Loss: 0.3615, Test Accuracy: 87.17%\n",
      "Epoch [275/400], Loss: 0.2991, Accuracy: 89.55%, Test Loss: 0.3606, Test Accuracy: 87.12%\n",
      "Epoch [276/400], Loss: 0.2984, Accuracy: 89.54%, Test Loss: 0.3608, Test Accuracy: 87.13%\n",
      "Epoch [277/400], Loss: 0.2987, Accuracy: 89.56%, Test Loss: 0.3603, Test Accuracy: 87.07%\n",
      "Epoch [278/400], Loss: 0.2981, Accuracy: 89.61%, Test Loss: 0.3604, Test Accuracy: 87.24%\n",
      "Epoch [279/400], Loss: 0.2977, Accuracy: 89.63%, Test Loss: 0.3614, Test Accuracy: 87.13%\n",
      "Epoch [280/400], Loss: 0.2975, Accuracy: 89.61%, Test Loss: 0.3607, Test Accuracy: 87.16%\n",
      "Epoch [281/400], Loss: 0.2972, Accuracy: 89.58%, Test Loss: 0.3596, Test Accuracy: 87.23%\n",
      "Epoch [282/400], Loss: 0.2970, Accuracy: 89.64%, Test Loss: 0.3598, Test Accuracy: 87.25%\n",
      "Epoch [283/400], Loss: 0.2966, Accuracy: 89.73%, Test Loss: 0.3597, Test Accuracy: 87.20%\n",
      "Epoch [284/400], Loss: 0.2966, Accuracy: 89.69%, Test Loss: 0.3596, Test Accuracy: 87.18%\n",
      "Epoch [285/400], Loss: 0.2959, Accuracy: 89.68%, Test Loss: 0.3590, Test Accuracy: 87.22%\n",
      "Epoch [286/400], Loss: 0.2952, Accuracy: 89.70%, Test Loss: 0.3592, Test Accuracy: 87.16%\n",
      "Epoch [287/400], Loss: 0.2952, Accuracy: 89.69%, Test Loss: 0.3589, Test Accuracy: 87.22%\n",
      "Epoch [288/400], Loss: 0.2949, Accuracy: 89.67%, Test Loss: 0.3581, Test Accuracy: 87.29%\n",
      "Epoch [289/400], Loss: 0.2946, Accuracy: 89.69%, Test Loss: 0.3591, Test Accuracy: 87.25%\n",
      "Epoch [290/400], Loss: 0.2946, Accuracy: 89.69%, Test Loss: 0.3577, Test Accuracy: 87.23%\n",
      "Epoch [291/400], Loss: 0.2939, Accuracy: 89.71%, Test Loss: 0.3578, Test Accuracy: 87.25%\n",
      "Epoch [292/400], Loss: 0.2935, Accuracy: 89.78%, Test Loss: 0.3578, Test Accuracy: 87.27%\n",
      "Epoch [293/400], Loss: 0.2932, Accuracy: 89.78%, Test Loss: 0.3577, Test Accuracy: 87.22%\n",
      "Epoch [294/400], Loss: 0.2928, Accuracy: 89.79%, Test Loss: 0.3572, Test Accuracy: 87.23%\n",
      "Epoch [295/400], Loss: 0.2926, Accuracy: 89.76%, Test Loss: 0.3581, Test Accuracy: 87.26%\n",
      "Epoch [296/400], Loss: 0.2926, Accuracy: 89.78%, Test Loss: 0.3567, Test Accuracy: 87.40%\n",
      "Epoch [297/400], Loss: 0.2923, Accuracy: 89.74%, Test Loss: 0.3569, Test Accuracy: 87.30%\n",
      "Epoch [298/400], Loss: 0.2919, Accuracy: 89.88%, Test Loss: 0.3564, Test Accuracy: 87.34%\n",
      "Epoch [299/400], Loss: 0.2920, Accuracy: 89.84%, Test Loss: 0.3566, Test Accuracy: 87.27%\n",
      "Epoch [300/400], Loss: 0.2913, Accuracy: 89.82%, Test Loss: 0.3562, Test Accuracy: 87.35%\n",
      "Epoch [301/400], Loss: 0.2910, Accuracy: 89.84%, Test Loss: 0.3560, Test Accuracy: 87.32%\n",
      "Epoch [302/400], Loss: 0.2906, Accuracy: 89.92%, Test Loss: 0.3561, Test Accuracy: 87.18%\n",
      "Epoch [303/400], Loss: 0.2907, Accuracy: 89.81%, Test Loss: 0.3559, Test Accuracy: 87.34%\n",
      "Epoch [304/400], Loss: 0.2908, Accuracy: 89.83%, Test Loss: 0.3552, Test Accuracy: 87.35%\n",
      "Epoch [305/400], Loss: 0.2897, Accuracy: 89.86%, Test Loss: 0.3550, Test Accuracy: 87.32%\n",
      "Epoch [306/400], Loss: 0.2895, Accuracy: 89.93%, Test Loss: 0.3554, Test Accuracy: 87.41%\n",
      "Epoch [307/400], Loss: 0.2893, Accuracy: 89.89%, Test Loss: 0.3548, Test Accuracy: 87.33%\n",
      "Epoch [308/400], Loss: 0.2887, Accuracy: 89.90%, Test Loss: 0.3546, Test Accuracy: 87.40%\n",
      "Epoch [309/400], Loss: 0.2885, Accuracy: 89.97%, Test Loss: 0.3553, Test Accuracy: 87.36%\n",
      "Epoch [310/400], Loss: 0.2889, Accuracy: 89.94%, Test Loss: 0.3546, Test Accuracy: 87.33%\n",
      "Epoch [311/400], Loss: 0.2881, Accuracy: 89.91%, Test Loss: 0.3549, Test Accuracy: 87.28%\n",
      "Epoch [312/400], Loss: 0.2873, Accuracy: 89.94%, Test Loss: 0.3546, Test Accuracy: 87.37%\n",
      "Epoch [313/400], Loss: 0.2881, Accuracy: 90.00%, Test Loss: 0.3538, Test Accuracy: 87.49%\n",
      "Epoch [314/400], Loss: 0.2870, Accuracy: 90.00%, Test Loss: 0.3538, Test Accuracy: 87.38%\n",
      "Epoch [315/400], Loss: 0.2867, Accuracy: 89.98%, Test Loss: 0.3540, Test Accuracy: 87.37%\n",
      "Epoch [316/400], Loss: 0.2865, Accuracy: 89.98%, Test Loss: 0.3534, Test Accuracy: 87.37%\n",
      "Epoch [317/400], Loss: 0.2864, Accuracy: 90.00%, Test Loss: 0.3532, Test Accuracy: 87.39%\n",
      "Epoch [318/400], Loss: 0.2859, Accuracy: 90.02%, Test Loss: 0.3535, Test Accuracy: 87.45%\n",
      "Epoch [319/400], Loss: 0.2857, Accuracy: 90.00%, Test Loss: 0.3527, Test Accuracy: 87.48%\n",
      "Epoch [320/400], Loss: 0.2856, Accuracy: 90.06%, Test Loss: 0.3536, Test Accuracy: 87.39%\n",
      "Epoch [321/400], Loss: 0.2852, Accuracy: 90.05%, Test Loss: 0.3527, Test Accuracy: 87.46%\n",
      "Epoch [322/400], Loss: 0.2853, Accuracy: 90.01%, Test Loss: 0.3525, Test Accuracy: 87.39%\n",
      "Epoch [323/400], Loss: 0.2848, Accuracy: 90.08%, Test Loss: 0.3524, Test Accuracy: 87.39%\n",
      "Epoch [324/400], Loss: 0.2845, Accuracy: 90.13%, Test Loss: 0.3522, Test Accuracy: 87.51%\n",
      "Epoch [325/400], Loss: 0.2840, Accuracy: 90.14%, Test Loss: 0.3520, Test Accuracy: 87.45%\n",
      "Epoch [326/400], Loss: 0.2838, Accuracy: 90.08%, Test Loss: 0.3519, Test Accuracy: 87.47%\n",
      "Epoch [327/400], Loss: 0.2834, Accuracy: 90.12%, Test Loss: 0.3527, Test Accuracy: 87.41%\n",
      "Epoch [328/400], Loss: 0.2831, Accuracy: 90.13%, Test Loss: 0.3515, Test Accuracy: 87.49%\n",
      "Epoch [329/400], Loss: 0.2829, Accuracy: 90.14%, Test Loss: 0.3520, Test Accuracy: 87.40%\n",
      "Epoch [330/400], Loss: 0.2829, Accuracy: 90.14%, Test Loss: 0.3514, Test Accuracy: 87.57%\n",
      "Epoch [331/400], Loss: 0.2828, Accuracy: 90.14%, Test Loss: 0.3517, Test Accuracy: 87.51%\n",
      "Epoch [332/400], Loss: 0.2823, Accuracy: 90.17%, Test Loss: 0.3509, Test Accuracy: 87.53%\n",
      "Epoch [333/400], Loss: 0.2821, Accuracy: 90.20%, Test Loss: 0.3516, Test Accuracy: 87.56%\n",
      "Epoch [334/400], Loss: 0.2816, Accuracy: 90.20%, Test Loss: 0.3505, Test Accuracy: 87.49%\n",
      "Epoch [335/400], Loss: 0.2814, Accuracy: 90.22%, Test Loss: 0.3505, Test Accuracy: 87.51%\n",
      "Epoch [336/400], Loss: 0.2812, Accuracy: 90.17%, Test Loss: 0.3508, Test Accuracy: 87.49%\n",
      "Epoch [337/400], Loss: 0.2805, Accuracy: 90.15%, Test Loss: 0.3503, Test Accuracy: 87.53%\n",
      "Epoch [338/400], Loss: 0.2808, Accuracy: 90.20%, Test Loss: 0.3499, Test Accuracy: 87.61%\n",
      "Epoch [339/400], Loss: 0.2804, Accuracy: 90.24%, Test Loss: 0.3503, Test Accuracy: 87.51%\n",
      "Epoch [340/400], Loss: 0.2799, Accuracy: 90.23%, Test Loss: 0.3497, Test Accuracy: 87.50%\n",
      "Epoch [341/400], Loss: 0.2799, Accuracy: 90.20%, Test Loss: 0.3497, Test Accuracy: 87.45%\n",
      "Epoch [342/400], Loss: 0.2795, Accuracy: 90.26%, Test Loss: 0.3500, Test Accuracy: 87.54%\n",
      "Epoch [343/400], Loss: 0.2788, Accuracy: 90.24%, Test Loss: 0.3496, Test Accuracy: 87.55%\n",
      "Epoch [344/400], Loss: 0.2787, Accuracy: 90.30%, Test Loss: 0.3490, Test Accuracy: 87.56%\n",
      "Epoch [345/400], Loss: 0.2788, Accuracy: 90.28%, Test Loss: 0.3488, Test Accuracy: 87.68%\n",
      "Epoch [346/400], Loss: 0.2782, Accuracy: 90.32%, Test Loss: 0.3493, Test Accuracy: 87.52%\n",
      "Epoch [347/400], Loss: 0.2783, Accuracy: 90.33%, Test Loss: 0.3494, Test Accuracy: 87.57%\n",
      "Epoch [348/400], Loss: 0.2776, Accuracy: 90.31%, Test Loss: 0.3489, Test Accuracy: 87.68%\n",
      "Epoch [349/400], Loss: 0.2774, Accuracy: 90.32%, Test Loss: 0.3493, Test Accuracy: 87.47%\n",
      "Epoch [350/400], Loss: 0.2775, Accuracy: 90.36%, Test Loss: 0.3484, Test Accuracy: 87.58%\n",
      "Epoch [351/400], Loss: 0.2770, Accuracy: 90.35%, Test Loss: 0.3483, Test Accuracy: 87.53%\n",
      "Epoch [352/400], Loss: 0.2767, Accuracy: 90.37%, Test Loss: 0.3479, Test Accuracy: 87.56%\n",
      "Epoch [353/400], Loss: 0.2764, Accuracy: 90.41%, Test Loss: 0.3481, Test Accuracy: 87.67%\n",
      "Epoch [354/400], Loss: 0.2760, Accuracy: 90.40%, Test Loss: 0.3477, Test Accuracy: 87.69%\n",
      "Epoch [355/400], Loss: 0.2760, Accuracy: 90.42%, Test Loss: 0.3480, Test Accuracy: 87.57%\n",
      "Epoch [356/400], Loss: 0.2757, Accuracy: 90.39%, Test Loss: 0.3476, Test Accuracy: 87.61%\n",
      "Epoch [357/400], Loss: 0.2754, Accuracy: 90.41%, Test Loss: 0.3477, Test Accuracy: 87.61%\n",
      "Epoch [358/400], Loss: 0.2756, Accuracy: 90.42%, Test Loss: 0.3473, Test Accuracy: 87.56%\n",
      "Epoch [359/400], Loss: 0.2749, Accuracy: 90.47%, Test Loss: 0.3474, Test Accuracy: 87.60%\n",
      "Epoch [360/400], Loss: 0.2747, Accuracy: 90.45%, Test Loss: 0.3478, Test Accuracy: 87.61%\n",
      "Epoch [361/400], Loss: 0.2745, Accuracy: 90.45%, Test Loss: 0.3465, Test Accuracy: 87.71%\n",
      "Epoch [362/400], Loss: 0.2745, Accuracy: 90.48%, Test Loss: 0.3462, Test Accuracy: 87.69%\n",
      "Epoch [363/400], Loss: 0.2738, Accuracy: 90.45%, Test Loss: 0.3463, Test Accuracy: 87.71%\n",
      "Epoch [364/400], Loss: 0.2737, Accuracy: 90.53%, Test Loss: 0.3464, Test Accuracy: 87.53%\n",
      "Epoch [365/400], Loss: 0.2735, Accuracy: 90.51%, Test Loss: 0.3456, Test Accuracy: 87.74%\n",
      "Epoch [366/400], Loss: 0.2730, Accuracy: 90.55%, Test Loss: 0.3456, Test Accuracy: 87.63%\n",
      "Epoch [367/400], Loss: 0.2730, Accuracy: 90.50%, Test Loss: 0.3456, Test Accuracy: 87.64%\n",
      "Epoch [368/400], Loss: 0.2726, Accuracy: 90.57%, Test Loss: 0.3452, Test Accuracy: 87.71%\n",
      "Epoch [369/400], Loss: 0.2726, Accuracy: 90.54%, Test Loss: 0.3450, Test Accuracy: 87.84%\n",
      "Epoch [370/400], Loss: 0.2720, Accuracy: 90.54%, Test Loss: 0.3455, Test Accuracy: 87.67%\n",
      "Epoch [371/400], Loss: 0.2721, Accuracy: 90.58%, Test Loss: 0.3456, Test Accuracy: 87.65%\n",
      "Epoch [372/400], Loss: 0.2717, Accuracy: 90.57%, Test Loss: 0.3455, Test Accuracy: 87.69%\n",
      "Epoch [373/400], Loss: 0.2712, Accuracy: 90.57%, Test Loss: 0.3452, Test Accuracy: 87.77%\n",
      "Epoch [374/400], Loss: 0.2709, Accuracy: 90.57%, Test Loss: 0.3450, Test Accuracy: 87.77%\n",
      "Epoch [375/400], Loss: 0.2710, Accuracy: 90.60%, Test Loss: 0.3448, Test Accuracy: 87.60%\n",
      "Epoch [376/400], Loss: 0.2708, Accuracy: 90.59%, Test Loss: 0.3441, Test Accuracy: 87.72%\n",
      "Epoch [377/400], Loss: 0.2706, Accuracy: 90.61%, Test Loss: 0.3454, Test Accuracy: 87.75%\n",
      "Epoch [378/400], Loss: 0.2701, Accuracy: 90.63%, Test Loss: 0.3445, Test Accuracy: 87.74%\n",
      "Epoch [379/400], Loss: 0.2699, Accuracy: 90.61%, Test Loss: 0.3439, Test Accuracy: 87.64%\n",
      "Epoch [380/400], Loss: 0.2695, Accuracy: 90.64%, Test Loss: 0.3438, Test Accuracy: 87.77%\n",
      "Epoch [381/400], Loss: 0.2695, Accuracy: 90.65%, Test Loss: 0.3437, Test Accuracy: 87.77%\n",
      "Epoch [382/400], Loss: 0.2694, Accuracy: 90.64%, Test Loss: 0.3433, Test Accuracy: 87.67%\n",
      "Epoch [383/400], Loss: 0.2685, Accuracy: 90.65%, Test Loss: 0.3434, Test Accuracy: 87.75%\n",
      "Epoch [384/400], Loss: 0.2685, Accuracy: 90.69%, Test Loss: 0.3431, Test Accuracy: 87.74%\n",
      "Epoch [385/400], Loss: 0.2687, Accuracy: 90.70%, Test Loss: 0.3434, Test Accuracy: 87.67%\n",
      "Epoch [386/400], Loss: 0.2683, Accuracy: 90.70%, Test Loss: 0.3435, Test Accuracy: 87.73%\n",
      "Epoch [387/400], Loss: 0.2681, Accuracy: 90.69%, Test Loss: 0.3431, Test Accuracy: 87.89%\n",
      "Epoch [388/400], Loss: 0.2678, Accuracy: 90.76%, Test Loss: 0.3431, Test Accuracy: 87.73%\n",
      "Epoch [389/400], Loss: 0.2671, Accuracy: 90.75%, Test Loss: 0.3431, Test Accuracy: 87.74%\n",
      "Epoch [390/400], Loss: 0.2669, Accuracy: 90.72%, Test Loss: 0.3438, Test Accuracy: 87.76%\n",
      "Epoch [391/400], Loss: 0.2672, Accuracy: 90.71%, Test Loss: 0.3441, Test Accuracy: 87.81%\n",
      "Epoch [392/400], Loss: 0.2665, Accuracy: 90.75%, Test Loss: 0.3427, Test Accuracy: 87.82%\n",
      "Epoch [393/400], Loss: 0.2664, Accuracy: 90.78%, Test Loss: 0.3420, Test Accuracy: 87.81%\n",
      "Epoch [394/400], Loss: 0.2662, Accuracy: 90.75%, Test Loss: 0.3423, Test Accuracy: 87.79%\n",
      "Epoch [395/400], Loss: 0.2657, Accuracy: 90.80%, Test Loss: 0.3427, Test Accuracy: 87.74%\n",
      "Epoch [396/400], Loss: 0.2656, Accuracy: 90.78%, Test Loss: 0.3415, Test Accuracy: 87.80%\n",
      "Epoch [397/400], Loss: 0.2654, Accuracy: 90.81%, Test Loss: 0.3423, Test Accuracy: 87.78%\n",
      "Epoch [398/400], Loss: 0.2649, Accuracy: 90.80%, Test Loss: 0.3415, Test Accuracy: 87.90%\n",
      "Epoch [399/400], Loss: 0.2649, Accuracy: 90.81%, Test Loss: 0.3413, Test Accuracy: 87.86%\n",
      "Epoch [400/400], Loss: 0.2645, Accuracy: 90.83%, Test Loss: 0.3414, Test Accuracy: 87.89%\n"
     ]
    }
   ],
   "source": [
    "# train\n",
    "for epoch in range(max_epoch):\n",
    "    running_loss = 0.0\n",
    "    running_correct = 0   # to track number of correct predictions\n",
    "    total = 0             # to track total number of samples\n",
    "\n",
    "    for i, (inputs, labels) in enumerate(trainloader, 0):\n",
    "        # Move inputs and labels to the device\n",
    "        inputs, labels = inputs.to(device), labels.to(device)\n",
    "\n",
    "        # Zero the parameter gradients\n",
    "        optimizer.zero_grad()\n",
    "\n",
    "        # Forward pass\n",
    "        outputs = model(inputs)\n",
    "        loss = criterion(outputs, labels)\n",
    "        running_loss += loss.item()\n",
    "\n",
    "        # Determine class predictions and track accuracy\n",
    "        _, predicted = torch.max(outputs.data, 1)\n",
    "        total += labels.size(0)\n",
    "        running_correct += (predicted == labels).sum().item()\n",
    "\n",
    "        # Backward pass and optimization\n",
    "        loss.backward()\n",
    "        optimizer.step()        \n",
    "\n",
    "    epoch_accuracy = 100 * running_correct / total\n",
    "    epoch_loss = running_loss / (i + 1)\n",
    "    test_loss, test_accuracy = evaluate(model, testloader, criterion)\n",
    "    print(f\"Epoch [{epoch + 1}/{max_epoch}], Loss: {epoch_loss:.4f}, Accuracy: {epoch_accuracy:.2f}%, Test Loss: {test_loss:.4f}, Test Accuracy: {test_accuracy:.2f}%\")\n",
    "    \n",
    "    # save for plot\n",
    "    train_losses.append(epoch_loss)\n",
    "    train_accuracies.append(epoch_accuracy)\n",
    "    test_losses.append(test_loss)\n",
    "    test_accuracies.append(test_accuracy)"
   ]
  },
  {
   "cell_type": "code",
   "execution_count": null,
   "metadata": {
    "id": "QKFbl4unF_6t"
   },
   "outputs": [],
   "source": []
  },
  {
   "cell_type": "code",
   "execution_count": 11,
   "metadata": {
    "id": "AwIj3vrnF_8_"
   },
   "outputs": [
    {
     "data": {
      "text/plain": [
       "<matplotlib.legend.Legend at 0x7f2d80ef00d0>"
      ]
     },
     "execution_count": 11,
     "metadata": {},
     "output_type": "execute_result"
    },
    {
     "data": {
      "image/png": "[encoded data removed]",
      "text/plain": [
       "<Figure size 640x480 with 1 Axes>"
      ]
     },
     "metadata": {},
     "output_type": "display_data"
    }
   ],
   "source": [
    "import matplotlib.pyplot as plt\n",
    "\n",
    "plt.plot(train_losses, label='train_losses')\n",
    "plt.plot(test_losses, label='test_losses')\n",
    "plt.legend()"
   ]
  },
  {
   "cell_type": "code",
   "execution_count": 12,
   "metadata": {
    "id": "eh3iDa8lF__H"
   },
   "outputs": [
    {
     "data": {
      "text/plain": [
       "<matplotlib.legend.Legend at 0x7f2d80d67310>"
      ]
     },
     "execution_count": 12,
     "metadata": {},
     "output_type": "execute_result"
    },
    {
     "data": {
      "image/png": "[encoded data removed]",
      "text/plain": [
       "<Figure size 640x480 with 1 Axes>"
      ]
     },
     "metadata": {},
     "output_type": "display_data"
    }
   ],
   "source": [
    "import matplotlib.pyplot as plt\n",
    "\n",
    "plt.plot(train_accuracies, label='train_accuracy')\n",
    "plt.plot(test_accuracies, label='test_accuracy')\n",
    "plt.legend()"
   ]
  },
  {
   "cell_type": "code",
   "execution_count": null,
   "metadata": {},
   "outputs": [],
   "source": []
  },
  {
   "cell_type": "code",
   "execution_count": 13,
   "metadata": {},
   "outputs": [
    {
     "data": {
      "text/plain": [
       "<matplotlib.legend.Legend at 0x7f2d6c1067d0>"
      ]
     },
     "execution_count": 13,
     "metadata": {},
     "output_type": "execute_result"
    }
   ],
   "source": [
    "import matplotlib.pyplot as plt\n",
    "%matplotlib qt\n",
    "\n",
    "plt.plot(train_losses, label='train_losses')\n",
    "plt.plot(test_losses, label='test_losses')\n",
    "plt.legend()"
   ]
  },
  {
   "cell_type": "code",
   "execution_count": 14,
   "metadata": {},
   "outputs": [
    {
     "data": {
      "text/plain": [
       "<matplotlib.legend.Legend at 0x7f2d14cae6e0>"
      ]
     },
     "execution_count": 14,
     "metadata": {},
     "output_type": "execute_result"
    }
   ],
   "source": [
    "import matplotlib.pyplot as plt\n",
    "%matplotlib qt\n",
    "\n",
    "plt.plot(train_accuracies, label='train_accuracy')\n",
    "plt.plot(test_accuracies, label='test_accuracy')\n",
    "plt.legend()"
   ]
  },
  {
   "cell_type": "code",
   "execution_count": null,
   "metadata": {},
   "outputs": [],
   "source": []
  }
 ],
 "metadata": {
  "accelerator": "GPU",
  "colab": {
   "gpuType": "T4",
   "provenance": []
  },
  "kernelspec": {
   "display_name": "Python 3 (ipykernel)",
   "language": "python",
   "name": "python3"
  },
  "language_info": {
   "codemirror_mode": {
    "name": "ipython",
    "version": 3
   },
   "file_extension": ".py",
   "mimetype": "text/x-python",
   "name": "python",
   "nbconvert_exporter": "python",
   "pygments_lexer": "ipython3",
   "version": "3.9.18"
  }
 },
 "nbformat": 4,
 "nbformat_minor": 4
}
