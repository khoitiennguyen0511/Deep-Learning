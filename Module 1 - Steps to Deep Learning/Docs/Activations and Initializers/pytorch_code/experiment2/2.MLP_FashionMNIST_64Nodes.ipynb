{
 "cells": [
  {
   "cell_type": "code",
   "execution_count": 1,
   "metadata": {},
   "outputs": [],
   "source": [
    "import torch\n",
    "import torch.nn as nn\n",
    "import torch.optim as optim\n",
    "import torchvision\n",
    "import torchvision.transforms as transforms\n",
    "\n",
    "# Check if GPU is available\n",
    "device = torch.device(\"cuda:0\" if torch.cuda.is_available() else \"cpu\")"
   ]
  },
  {
   "cell_type": "code",
   "execution_count": null,
   "metadata": {},
   "outputs": [],
   "source": []
  },
  {
   "cell_type": "markdown",
   "metadata": {},
   "source": [
    "#### Data"
   ]
  },
  {
   "cell_type": "code",
   "execution_count": 2,
   "metadata": {},
   "outputs": [],
   "source": [
    "# Load CFashionMNIST dataset\n",
    "transform = transforms.Compose([transforms.ToTensor(), transforms.Normalize((0.5,), (0.5,))])\n",
    "\n",
    "trainset = torchvision.datasets.FashionMNIST(root='data', train=True, download=True, transform=transform)\n",
    "trainloader = torch.utils.data.DataLoader(trainset, batch_size=1024, num_workers=10, shuffle=True)\n",
    "\n",
    "testset = torchvision.datasets.FashionMNIST(root='data', train=False, download=True, transform=transform)\n",
    "testloader = torch.utils.data.DataLoader(testset, batch_size=1024, num_workers=10, shuffle=False)"
   ]
  },
  {
   "cell_type": "code",
   "execution_count": 3,
   "metadata": {},
   "outputs": [
    {
     "data": {
      "image/png": "[encoded data removed]",
      "text/plain": [
       "<Figure size 640x480 with 1 Axes>"
      ]
     },
     "metadata": {},
     "output_type": "display_data"
    }
   ],
   "source": [
    "import matplotlib.pyplot as plt\n",
    "import numpy as np\n",
    "\n",
    "# Function to display the images\n",
    "def imshow(img):\n",
    "    img = img*0.5 + 0.5\n",
    "    np_img = img.numpy()\n",
    "    plt.imshow(np.transpose(np_img, (1, 2, 0)))\n",
    "    plt.show()\n",
    "\n",
    "for i, (images, labels) in enumerate(trainloader, 0):\n",
    "    # Plot some images\n",
    "    imshow(torchvision.utils.make_grid(images[:8]))  # Display 8 images from the batch\n",
    "    break"
   ]
  },
  {
   "cell_type": "code",
   "execution_count": null,
   "metadata": {},
   "outputs": [],
   "source": []
  },
  {
   "cell_type": "markdown",
   "metadata": {},
   "source": [
    "#### Model"
   ]
  },
  {
   "cell_type": "code",
   "execution_count": 4,
   "metadata": {},
   "outputs": [
    {
     "name": "stdout",
     "output_type": "stream",
     "text": [
      "Sequential(\n",
      "  (0): Flatten(start_dim=1, end_dim=-1)\n",
      "  (1): Linear(in_features=784, out_features=64, bias=True)\n",
      "  (2): ReLU()\n",
      "  (3): Linear(in_features=64, out_features=10, bias=True)\n",
      ")\n"
     ]
    }
   ],
   "source": [
    "model = nn.Sequential(\n",
    "    nn.Flatten(), \n",
    "    nn.Linear(784, 64),\n",
    "    nn.ReLU(),\n",
    "    nn.Linear(64, 10)\n",
    ")\n",
    "model = model.to(device)\n",
    "\n",
    "print(model)"
   ]
  },
  {
   "cell_type": "code",
   "execution_count": 5,
   "metadata": {},
   "outputs": [
    {
     "name": "stdout",
     "output_type": "stream",
     "text": [
      "torch.Size([5, 10])\n"
     ]
    }
   ],
   "source": [
    "# Generating a random tensor\n",
    "input_tensor = torch.rand(5, 28, 28).to(device)\n",
    "\n",
    "# Feeding the tensor into the model\n",
    "output = model(input_tensor)\n",
    "print(output.shape)"
   ]
  },
  {
   "cell_type": "code",
   "execution_count": null,
   "metadata": {},
   "outputs": [],
   "source": []
  },
  {
   "cell_type": "markdown",
   "metadata": {},
   "source": [
    "#### Loss, Optimizer, and Evaluation Function"
   ]
  },
  {
   "cell_type": "code",
   "execution_count": 6,
   "metadata": {},
   "outputs": [],
   "source": [
    "criterion = nn.CrossEntropyLoss()\n",
    "optimizer = optim.SGD(model.parameters(), lr=0.01)"
   ]
  },
  {
   "cell_type": "code",
   "execution_count": 7,
   "metadata": {},
   "outputs": [],
   "source": [
    "# Function to compute loss and accuracy for test set\n",
    "def evaluate(model, testloader, criterion):\n",
    "    model.eval()\n",
    "    test_loss = 0.0\n",
    "    correct = 0\n",
    "    total = 0\n",
    "    with torch.no_grad():\n",
    "        for images, labels in testloader:\n",
    "            # Move inputs and labels to the device\n",
    "            images, labels = images.to(device), labels.to(device)\n",
    "\n",
    "            outputs = model(images)\n",
    "            loss = criterion(outputs, labels)\n",
    "            test_loss += loss.item()\n",
    "            \n",
    "            _, predicted = torch.max(outputs.data, 1)\n",
    "            total += labels.size(0)\n",
    "            correct += (predicted == labels).sum().item()\n",
    "\n",
    "    accuracy = 100 * correct / total\n",
    "    test_loss = test_loss / len(testloader)\n",
    "    return test_loss, accuracy"
   ]
  },
  {
   "cell_type": "code",
   "execution_count": 8,
   "metadata": {},
   "outputs": [
    {
     "name": "stdout",
     "output_type": "stream",
     "text": [
      "test_loss: 2.3147723197937013\n",
      "test_accuracy: 12.67\n"
     ]
    }
   ],
   "source": [
    "test_loss, test_accuracy = evaluate(model, testloader, criterion)\n",
    "print(f'test_loss: {test_loss}')\n",
    "print(f'test_accuracy: {test_accuracy}')"
   ]
  },
  {
   "cell_type": "code",
   "execution_count": null,
   "metadata": {},
   "outputs": [],
   "source": []
  },
  {
   "cell_type": "markdown",
   "metadata": {},
   "source": [
    "#### Train"
   ]
  },
  {
   "cell_type": "code",
   "execution_count": 9,
   "metadata": {},
   "outputs": [],
   "source": [
    "# some parameter\n",
    "train_losses = []\n",
    "train_accuracies = []\n",
    "test_losses = []\n",
    "test_accuracies = []\n",
    "max_epoch = 400"
   ]
  },
  {
   "cell_type": "code",
   "execution_count": 10,
   "metadata": {
    "colab": {
     "base_uri": "https://localhost:8080/"
    },
    "id": "tYwXeSOOF_4Z",
    "outputId": "a4c62a4a-267f-4101-ce96-662cc23cdbe0"
   },
   "outputs": [
    {
     "name": "stdout",
     "output_type": "stream",
     "text": [
      "Epoch [1/400], Loss: 1.9187, Accuracy: 45.90%, Test Loss: 1.5615, Test Accuracy: 60.23%\n",
      "Epoch [2/400], Loss: 1.3087, Accuracy: 67.04%, Test Loss: 1.1175, Test Accuracy: 70.00%\n",
      "Epoch [3/400], Loss: 1.0023, Accuracy: 71.83%, Test Loss: 0.9254, Test Accuracy: 72.00%\n",
      "Epoch [4/400], Loss: 0.8631, Accuracy: 73.39%, Test Loss: 0.8296, Test Accuracy: 73.32%\n",
      "Epoch [5/400], Loss: 0.7858, Accuracy: 74.46%, Test Loss: 0.7712, Test Accuracy: 74.32%\n",
      "Epoch [6/400], Loss: 0.7364, Accuracy: 75.29%, Test Loss: 0.7315, Test Accuracy: 74.62%\n",
      "Epoch [7/400], Loss: 0.7011, Accuracy: 76.00%, Test Loss: 0.7023, Test Accuracy: 75.33%\n",
      "Epoch [8/400], Loss: 0.6734, Accuracy: 76.72%, Test Loss: 0.6786, Test Accuracy: 76.12%\n",
      "Epoch [9/400], Loss: 0.6512, Accuracy: 77.41%, Test Loss: 0.6599, Test Accuracy: 76.56%\n",
      "Epoch [10/400], Loss: 0.6336, Accuracy: 77.89%, Test Loss: 0.6436, Test Accuracy: 77.13%\n",
      "Epoch [11/400], Loss: 0.6177, Accuracy: 78.44%, Test Loss: 0.6297, Test Accuracy: 77.53%\n",
      "Epoch [12/400], Loss: 0.6040, Accuracy: 78.93%, Test Loss: 0.6175, Test Accuracy: 78.21%\n",
      "Epoch [13/400], Loss: 0.5916, Accuracy: 79.37%, Test Loss: 0.6068, Test Accuracy: 78.59%\n",
      "Epoch [14/400], Loss: 0.5810, Accuracy: 79.76%, Test Loss: 0.5971, Test Accuracy: 78.82%\n",
      "Epoch [15/400], Loss: 0.5716, Accuracy: 80.09%, Test Loss: 0.5881, Test Accuracy: 79.23%\n",
      "Epoch [16/400], Loss: 0.5626, Accuracy: 80.34%, Test Loss: 0.5804, Test Accuracy: 79.48%\n",
      "Epoch [17/400], Loss: 0.5550, Accuracy: 80.55%, Test Loss: 0.5730, Test Accuracy: 79.65%\n",
      "Epoch [18/400], Loss: 0.5475, Accuracy: 80.87%, Test Loss: 0.5665, Test Accuracy: 79.93%\n",
      "Epoch [19/400], Loss: 0.5406, Accuracy: 81.09%, Test Loss: 0.5609, Test Accuracy: 80.18%\n",
      "Epoch [20/400], Loss: 0.5348, Accuracy: 81.29%, Test Loss: 0.5557, Test Accuracy: 80.24%\n",
      "Epoch [21/400], Loss: 0.5285, Accuracy: 81.49%, Test Loss: 0.5503, Test Accuracy: 80.53%\n",
      "Epoch [22/400], Loss: 0.5235, Accuracy: 81.69%, Test Loss: 0.5456, Test Accuracy: 80.68%\n",
      "Epoch [23/400], Loss: 0.5184, Accuracy: 81.86%, Test Loss: 0.5411, Test Accuracy: 80.81%\n",
      "Epoch [24/400], Loss: 0.5144, Accuracy: 82.02%, Test Loss: 0.5376, Test Accuracy: 80.89%\n",
      "Epoch [25/400], Loss: 0.5100, Accuracy: 82.17%, Test Loss: 0.5341, Test Accuracy: 81.07%\n",
      "Epoch [26/400], Loss: 0.5056, Accuracy: 82.34%, Test Loss: 0.5300, Test Accuracy: 81.06%\n",
      "Epoch [27/400], Loss: 0.5022, Accuracy: 82.43%, Test Loss: 0.5266, Test Accuracy: 81.22%\n",
      "Epoch [28/400], Loss: 0.4983, Accuracy: 82.61%, Test Loss: 0.5239, Test Accuracy: 81.32%\n",
      "Epoch [29/400], Loss: 0.4953, Accuracy: 82.60%, Test Loss: 0.5205, Test Accuracy: 81.35%\n",
      "Epoch [30/400], Loss: 0.4921, Accuracy: 82.75%, Test Loss: 0.5192, Test Accuracy: 81.40%\n",
      "Epoch [31/400], Loss: 0.4892, Accuracy: 82.86%, Test Loss: 0.5153, Test Accuracy: 81.64%\n",
      "Epoch [32/400], Loss: 0.4867, Accuracy: 82.97%, Test Loss: 0.5127, Test Accuracy: 81.75%\n",
      "Epoch [33/400], Loss: 0.4833, Accuracy: 83.07%, Test Loss: 0.5100, Test Accuracy: 81.89%\n",
      "Epoch [34/400], Loss: 0.4809, Accuracy: 83.18%, Test Loss: 0.5082, Test Accuracy: 81.91%\n",
      "Epoch [35/400], Loss: 0.4783, Accuracy: 83.22%, Test Loss: 0.5057, Test Accuracy: 82.16%\n",
      "Epoch [36/400], Loss: 0.4760, Accuracy: 83.28%, Test Loss: 0.5038, Test Accuracy: 82.21%\n",
      "Epoch [37/400], Loss: 0.4735, Accuracy: 83.38%, Test Loss: 0.5023, Test Accuracy: 82.10%\n",
      "Epoch [38/400], Loss: 0.4708, Accuracy: 83.44%, Test Loss: 0.4999, Test Accuracy: 81.92%\n",
      "Epoch [39/400], Loss: 0.4689, Accuracy: 83.59%, Test Loss: 0.4979, Test Accuracy: 82.18%\n",
      "Epoch [40/400], Loss: 0.4671, Accuracy: 83.58%, Test Loss: 0.4961, Test Accuracy: 82.23%\n",
      "Epoch [41/400], Loss: 0.4646, Accuracy: 83.71%, Test Loss: 0.4945, Test Accuracy: 82.25%\n",
      "Epoch [42/400], Loss: 0.4628, Accuracy: 83.78%, Test Loss: 0.4928, Test Accuracy: 82.39%\n",
      "Epoch [43/400], Loss: 0.4609, Accuracy: 83.83%, Test Loss: 0.4917, Test Accuracy: 82.37%\n",
      "Epoch [44/400], Loss: 0.4593, Accuracy: 83.84%, Test Loss: 0.4897, Test Accuracy: 82.63%\n",
      "Epoch [45/400], Loss: 0.4575, Accuracy: 83.97%, Test Loss: 0.4882, Test Accuracy: 82.53%\n",
      "Epoch [46/400], Loss: 0.4561, Accuracy: 83.99%, Test Loss: 0.4869, Test Accuracy: 82.58%\n",
      "Epoch [47/400], Loss: 0.4542, Accuracy: 84.06%, Test Loss: 0.4852, Test Accuracy: 82.70%\n",
      "Epoch [48/400], Loss: 0.4528, Accuracy: 84.11%, Test Loss: 0.4836, Test Accuracy: 82.67%\n",
      "Epoch [49/400], Loss: 0.4508, Accuracy: 84.23%, Test Loss: 0.4825, Test Accuracy: 82.69%\n",
      "Epoch [50/400], Loss: 0.4496, Accuracy: 84.25%, Test Loss: 0.4812, Test Accuracy: 82.81%\n",
      "Epoch [51/400], Loss: 0.4480, Accuracy: 84.26%, Test Loss: 0.4797, Test Accuracy: 82.81%\n",
      "Epoch [52/400], Loss: 0.4464, Accuracy: 84.30%, Test Loss: 0.4782, Test Accuracy: 82.90%\n",
      "Epoch [53/400], Loss: 0.4453, Accuracy: 84.43%, Test Loss: 0.4778, Test Accuracy: 82.82%\n",
      "Epoch [54/400], Loss: 0.4436, Accuracy: 84.44%, Test Loss: 0.4761, Test Accuracy: 82.86%\n",
      "Epoch [55/400], Loss: 0.4423, Accuracy: 84.46%, Test Loss: 0.4747, Test Accuracy: 82.94%\n",
      "Epoch [56/400], Loss: 0.4412, Accuracy: 84.53%, Test Loss: 0.4734, Test Accuracy: 83.01%\n",
      "Epoch [57/400], Loss: 0.4402, Accuracy: 84.65%, Test Loss: 0.4725, Test Accuracy: 83.08%\n",
      "Epoch [58/400], Loss: 0.4387, Accuracy: 84.63%, Test Loss: 0.4722, Test Accuracy: 82.95%\n",
      "Epoch [59/400], Loss: 0.4378, Accuracy: 84.71%, Test Loss: 0.4700, Test Accuracy: 83.10%\n",
      "Epoch [60/400], Loss: 0.4362, Accuracy: 84.71%, Test Loss: 0.4694, Test Accuracy: 83.23%\n",
      "Epoch [61/400], Loss: 0.4347, Accuracy: 84.79%, Test Loss: 0.4680, Test Accuracy: 83.18%\n",
      "Epoch [62/400], Loss: 0.4337, Accuracy: 84.82%, Test Loss: 0.4673, Test Accuracy: 83.21%\n",
      "Epoch [63/400], Loss: 0.4327, Accuracy: 84.79%, Test Loss: 0.4659, Test Accuracy: 83.34%\n",
      "Epoch [64/400], Loss: 0.4315, Accuracy: 84.87%, Test Loss: 0.4650, Test Accuracy: 83.37%\n",
      "Epoch [65/400], Loss: 0.4308, Accuracy: 84.98%, Test Loss: 0.4643, Test Accuracy: 83.38%\n",
      "Epoch [66/400], Loss: 0.4291, Accuracy: 84.92%, Test Loss: 0.4632, Test Accuracy: 83.43%\n",
      "Epoch [67/400], Loss: 0.4284, Accuracy: 85.02%, Test Loss: 0.4621, Test Accuracy: 83.46%\n",
      "Epoch [68/400], Loss: 0.4275, Accuracy: 85.03%, Test Loss: 0.4614, Test Accuracy: 83.31%\n",
      "Epoch [69/400], Loss: 0.4259, Accuracy: 85.07%, Test Loss: 0.4611, Test Accuracy: 83.50%\n",
      "Epoch [70/400], Loss: 0.4250, Accuracy: 85.12%, Test Loss: 0.4597, Test Accuracy: 83.40%\n",
      "Epoch [71/400], Loss: 0.4240, Accuracy: 85.15%, Test Loss: 0.4590, Test Accuracy: 83.45%\n",
      "Epoch [72/400], Loss: 0.4233, Accuracy: 85.17%, Test Loss: 0.4581, Test Accuracy: 83.63%\n",
      "Epoch [73/400], Loss: 0.4222, Accuracy: 85.19%, Test Loss: 0.4577, Test Accuracy: 83.58%\n",
      "Epoch [74/400], Loss: 0.4214, Accuracy: 85.25%, Test Loss: 0.4561, Test Accuracy: 83.61%\n",
      "Epoch [75/400], Loss: 0.4203, Accuracy: 85.25%, Test Loss: 0.4554, Test Accuracy: 83.60%\n",
      "Epoch [76/400], Loss: 0.4193, Accuracy: 85.31%, Test Loss: 0.4546, Test Accuracy: 83.59%\n",
      "Epoch [77/400], Loss: 0.4182, Accuracy: 85.34%, Test Loss: 0.4540, Test Accuracy: 83.58%\n",
      "Epoch [78/400], Loss: 0.4176, Accuracy: 85.41%, Test Loss: 0.4531, Test Accuracy: 83.57%\n",
      "Epoch [79/400], Loss: 0.4167, Accuracy: 85.42%, Test Loss: 0.4522, Test Accuracy: 83.87%\n",
      "Epoch [80/400], Loss: 0.4155, Accuracy: 85.40%, Test Loss: 0.4510, Test Accuracy: 83.76%\n",
      "Epoch [81/400], Loss: 0.4146, Accuracy: 85.47%, Test Loss: 0.4510, Test Accuracy: 83.67%\n",
      "Epoch [82/400], Loss: 0.4142, Accuracy: 85.52%, Test Loss: 0.4498, Test Accuracy: 83.95%\n",
      "Epoch [83/400], Loss: 0.4132, Accuracy: 85.53%, Test Loss: 0.4491, Test Accuracy: 83.92%\n",
      "Epoch [84/400], Loss: 0.4120, Accuracy: 85.58%, Test Loss: 0.4484, Test Accuracy: 83.97%\n",
      "Epoch [85/400], Loss: 0.4120, Accuracy: 85.58%, Test Loss: 0.4481, Test Accuracy: 84.00%\n",
      "Epoch [86/400], Loss: 0.4106, Accuracy: 85.58%, Test Loss: 0.4471, Test Accuracy: 83.83%\n",
      "Epoch [87/400], Loss: 0.4103, Accuracy: 85.63%, Test Loss: 0.4466, Test Accuracy: 83.89%\n",
      "Epoch [88/400], Loss: 0.4092, Accuracy: 85.68%, Test Loss: 0.4459, Test Accuracy: 83.97%\n",
      "Epoch [89/400], Loss: 0.4085, Accuracy: 85.71%, Test Loss: 0.4451, Test Accuracy: 83.97%\n",
      "Epoch [90/400], Loss: 0.4073, Accuracy: 85.77%, Test Loss: 0.4442, Test Accuracy: 84.08%\n",
      "Epoch [91/400], Loss: 0.4068, Accuracy: 85.72%, Test Loss: 0.4443, Test Accuracy: 84.03%\n",
      "Epoch [92/400], Loss: 0.4062, Accuracy: 85.77%, Test Loss: 0.4432, Test Accuracy: 84.14%\n",
      "Epoch [93/400], Loss: 0.4049, Accuracy: 85.81%, Test Loss: 0.4425, Test Accuracy: 84.20%\n",
      "Epoch [94/400], Loss: 0.4043, Accuracy: 85.80%, Test Loss: 0.4418, Test Accuracy: 84.04%\n",
      "Epoch [95/400], Loss: 0.4041, Accuracy: 85.83%, Test Loss: 0.4414, Test Accuracy: 84.18%\n",
      "Epoch [96/400], Loss: 0.4028, Accuracy: 85.87%, Test Loss: 0.4405, Test Accuracy: 84.21%\n",
      "Epoch [97/400], Loss: 0.4025, Accuracy: 85.92%, Test Loss: 0.4405, Test Accuracy: 84.25%\n",
      "Epoch [98/400], Loss: 0.4021, Accuracy: 85.89%, Test Loss: 0.4398, Test Accuracy: 84.23%\n",
      "Epoch [99/400], Loss: 0.4009, Accuracy: 85.97%, Test Loss: 0.4395, Test Accuracy: 84.20%\n",
      "Epoch [100/400], Loss: 0.4003, Accuracy: 86.02%, Test Loss: 0.4379, Test Accuracy: 84.30%\n",
      "Epoch [101/400], Loss: 0.3995, Accuracy: 86.00%, Test Loss: 0.4378, Test Accuracy: 84.26%\n",
      "Epoch [102/400], Loss: 0.3993, Accuracy: 86.03%, Test Loss: 0.4371, Test Accuracy: 84.37%\n",
      "Epoch [103/400], Loss: 0.3982, Accuracy: 86.09%, Test Loss: 0.4363, Test Accuracy: 84.48%\n",
      "Epoch [104/400], Loss: 0.3976, Accuracy: 86.05%, Test Loss: 0.4358, Test Accuracy: 84.35%\n",
      "Epoch [105/400], Loss: 0.3970, Accuracy: 86.09%, Test Loss: 0.4355, Test Accuracy: 84.34%\n",
      "Epoch [106/400], Loss: 0.3965, Accuracy: 86.14%, Test Loss: 0.4350, Test Accuracy: 84.37%\n",
      "Epoch [107/400], Loss: 0.3955, Accuracy: 86.12%, Test Loss: 0.4346, Test Accuracy: 84.37%\n",
      "Epoch [108/400], Loss: 0.3949, Accuracy: 86.18%, Test Loss: 0.4343, Test Accuracy: 84.34%\n",
      "Epoch [109/400], Loss: 0.3946, Accuracy: 86.19%, Test Loss: 0.4342, Test Accuracy: 84.33%\n",
      "Epoch [110/400], Loss: 0.3936, Accuracy: 86.18%, Test Loss: 0.4325, Test Accuracy: 84.51%\n",
      "Epoch [111/400], Loss: 0.3932, Accuracy: 86.32%, Test Loss: 0.4327, Test Accuracy: 84.47%\n",
      "Epoch [112/400], Loss: 0.3923, Accuracy: 86.19%, Test Loss: 0.4318, Test Accuracy: 84.45%\n",
      "Epoch [113/400], Loss: 0.3920, Accuracy: 86.27%, Test Loss: 0.4320, Test Accuracy: 84.34%\n",
      "Epoch [114/400], Loss: 0.3912, Accuracy: 86.29%, Test Loss: 0.4308, Test Accuracy: 84.51%\n",
      "Epoch [115/400], Loss: 0.3905, Accuracy: 86.28%, Test Loss: 0.4301, Test Accuracy: 84.56%\n",
      "Epoch [116/400], Loss: 0.3899, Accuracy: 86.32%, Test Loss: 0.4297, Test Accuracy: 84.55%\n",
      "Epoch [117/400], Loss: 0.3892, Accuracy: 86.34%, Test Loss: 0.4290, Test Accuracy: 84.54%\n",
      "Epoch [118/400], Loss: 0.3886, Accuracy: 86.35%, Test Loss: 0.4291, Test Accuracy: 84.51%\n",
      "Epoch [119/400], Loss: 0.3878, Accuracy: 86.34%, Test Loss: 0.4285, Test Accuracy: 84.54%\n",
      "Epoch [120/400], Loss: 0.3880, Accuracy: 86.39%, Test Loss: 0.4280, Test Accuracy: 84.56%\n",
      "Epoch [121/400], Loss: 0.3870, Accuracy: 86.40%, Test Loss: 0.4274, Test Accuracy: 84.63%\n",
      "Epoch [122/400], Loss: 0.3864, Accuracy: 86.41%, Test Loss: 0.4270, Test Accuracy: 84.61%\n",
      "Epoch [123/400], Loss: 0.3860, Accuracy: 86.44%, Test Loss: 0.4269, Test Accuracy: 84.60%\n",
      "Epoch [124/400], Loss: 0.3854, Accuracy: 86.45%, Test Loss: 0.4258, Test Accuracy: 84.70%\n",
      "Epoch [125/400], Loss: 0.3848, Accuracy: 86.47%, Test Loss: 0.4256, Test Accuracy: 84.66%\n",
      "Epoch [126/400], Loss: 0.3848, Accuracy: 86.51%, Test Loss: 0.4258, Test Accuracy: 84.69%\n",
      "Epoch [127/400], Loss: 0.3836, Accuracy: 86.56%, Test Loss: 0.4246, Test Accuracy: 84.70%\n",
      "Epoch [128/400], Loss: 0.3829, Accuracy: 86.55%, Test Loss: 0.4246, Test Accuracy: 84.61%\n",
      "Epoch [129/400], Loss: 0.3821, Accuracy: 86.57%, Test Loss: 0.4237, Test Accuracy: 84.74%\n",
      "Epoch [130/400], Loss: 0.3817, Accuracy: 86.60%, Test Loss: 0.4234, Test Accuracy: 84.71%\n",
      "Epoch [131/400], Loss: 0.3817, Accuracy: 86.59%, Test Loss: 0.4230, Test Accuracy: 84.80%\n",
      "Epoch [132/400], Loss: 0.3806, Accuracy: 86.63%, Test Loss: 0.4253, Test Accuracy: 84.57%\n",
      "Epoch [133/400], Loss: 0.3805, Accuracy: 86.66%, Test Loss: 0.4222, Test Accuracy: 84.69%\n",
      "Epoch [134/400], Loss: 0.3799, Accuracy: 86.64%, Test Loss: 0.4223, Test Accuracy: 84.76%\n",
      "Epoch [135/400], Loss: 0.3799, Accuracy: 86.69%, Test Loss: 0.4212, Test Accuracy: 84.76%\n",
      "Epoch [136/400], Loss: 0.3787, Accuracy: 86.67%, Test Loss: 0.4208, Test Accuracy: 84.72%\n",
      "Epoch [137/400], Loss: 0.3784, Accuracy: 86.69%, Test Loss: 0.4205, Test Accuracy: 84.76%\n",
      "Epoch [138/400], Loss: 0.3778, Accuracy: 86.78%, Test Loss: 0.4204, Test Accuracy: 84.80%\n",
      "Epoch [139/400], Loss: 0.3771, Accuracy: 86.74%, Test Loss: 0.4197, Test Accuracy: 84.78%\n",
      "Epoch [140/400], Loss: 0.3771, Accuracy: 86.75%, Test Loss: 0.4191, Test Accuracy: 84.85%\n",
      "Epoch [141/400], Loss: 0.3763, Accuracy: 86.83%, Test Loss: 0.4196, Test Accuracy: 84.89%\n",
      "Epoch [142/400], Loss: 0.3762, Accuracy: 86.80%, Test Loss: 0.4185, Test Accuracy: 85.01%\n",
      "Epoch [143/400], Loss: 0.3754, Accuracy: 86.82%, Test Loss: 0.4184, Test Accuracy: 84.88%\n",
      "Epoch [144/400], Loss: 0.3754, Accuracy: 86.85%, Test Loss: 0.4180, Test Accuracy: 84.93%\n",
      "Epoch [145/400], Loss: 0.3746, Accuracy: 86.79%, Test Loss: 0.4178, Test Accuracy: 84.92%\n",
      "Epoch [146/400], Loss: 0.3738, Accuracy: 86.93%, Test Loss: 0.4170, Test Accuracy: 84.90%\n",
      "Epoch [147/400], Loss: 0.3741, Accuracy: 86.91%, Test Loss: 0.4168, Test Accuracy: 84.86%\n",
      "Epoch [148/400], Loss: 0.3734, Accuracy: 86.93%, Test Loss: 0.4163, Test Accuracy: 84.97%\n",
      "Epoch [149/400], Loss: 0.3725, Accuracy: 86.93%, Test Loss: 0.4160, Test Accuracy: 84.96%\n",
      "Epoch [150/400], Loss: 0.3723, Accuracy: 86.95%, Test Loss: 0.4165, Test Accuracy: 84.97%\n",
      "Epoch [151/400], Loss: 0.3718, Accuracy: 86.98%, Test Loss: 0.4154, Test Accuracy: 84.94%\n",
      "Epoch [152/400], Loss: 0.3711, Accuracy: 86.98%, Test Loss: 0.4148, Test Accuracy: 84.94%\n",
      "Epoch [153/400], Loss: 0.3708, Accuracy: 87.03%, Test Loss: 0.4143, Test Accuracy: 85.13%\n",
      "Epoch [154/400], Loss: 0.3703, Accuracy: 87.02%, Test Loss: 0.4152, Test Accuracy: 85.03%\n",
      "Epoch [155/400], Loss: 0.3698, Accuracy: 87.03%, Test Loss: 0.4134, Test Accuracy: 85.02%\n",
      "Epoch [156/400], Loss: 0.3692, Accuracy: 87.06%, Test Loss: 0.4133, Test Accuracy: 85.11%\n",
      "Epoch [157/400], Loss: 0.3688, Accuracy: 87.06%, Test Loss: 0.4130, Test Accuracy: 84.97%\n",
      "Epoch [158/400], Loss: 0.3685, Accuracy: 87.08%, Test Loss: 0.4125, Test Accuracy: 85.08%\n",
      "Epoch [159/400], Loss: 0.3681, Accuracy: 87.12%, Test Loss: 0.4126, Test Accuracy: 85.05%\n",
      "Epoch [160/400], Loss: 0.3677, Accuracy: 87.15%, Test Loss: 0.4117, Test Accuracy: 85.13%\n",
      "Epoch [161/400], Loss: 0.3671, Accuracy: 87.13%, Test Loss: 0.4115, Test Accuracy: 85.23%\n",
      "Epoch [162/400], Loss: 0.3667, Accuracy: 87.17%, Test Loss: 0.4113, Test Accuracy: 85.18%\n",
      "Epoch [163/400], Loss: 0.3665, Accuracy: 87.12%, Test Loss: 0.4115, Test Accuracy: 85.15%\n",
      "Epoch [164/400], Loss: 0.3659, Accuracy: 87.17%, Test Loss: 0.4112, Test Accuracy: 85.28%\n",
      "Epoch [165/400], Loss: 0.3657, Accuracy: 87.19%, Test Loss: 0.4103, Test Accuracy: 85.18%\n",
      "Epoch [166/400], Loss: 0.3654, Accuracy: 87.25%, Test Loss: 0.4102, Test Accuracy: 85.26%\n",
      "Epoch [167/400], Loss: 0.3644, Accuracy: 87.19%, Test Loss: 0.4096, Test Accuracy: 85.23%\n",
      "Epoch [168/400], Loss: 0.3643, Accuracy: 87.24%, Test Loss: 0.4102, Test Accuracy: 85.22%\n",
      "Epoch [169/400], Loss: 0.3635, Accuracy: 87.25%, Test Loss: 0.4089, Test Accuracy: 85.42%\n",
      "Epoch [170/400], Loss: 0.3633, Accuracy: 87.30%, Test Loss: 0.4089, Test Accuracy: 85.37%\n",
      "Epoch [171/400], Loss: 0.3633, Accuracy: 87.33%, Test Loss: 0.4084, Test Accuracy: 85.34%\n",
      "Epoch [172/400], Loss: 0.3626, Accuracy: 87.28%, Test Loss: 0.4082, Test Accuracy: 85.29%\n",
      "Epoch [173/400], Loss: 0.3623, Accuracy: 87.32%, Test Loss: 0.4074, Test Accuracy: 85.33%\n",
      "Epoch [174/400], Loss: 0.3618, Accuracy: 87.30%, Test Loss: 0.4075, Test Accuracy: 85.25%\n",
      "Epoch [175/400], Loss: 0.3614, Accuracy: 87.31%, Test Loss: 0.4070, Test Accuracy: 85.29%\n",
      "Epoch [176/400], Loss: 0.3609, Accuracy: 87.31%, Test Loss: 0.4067, Test Accuracy: 85.35%\n",
      "Epoch [177/400], Loss: 0.3611, Accuracy: 87.39%, Test Loss: 0.4065, Test Accuracy: 85.45%\n",
      "Epoch [178/400], Loss: 0.3603, Accuracy: 87.35%, Test Loss: 0.4068, Test Accuracy: 85.11%\n",
      "Epoch [179/400], Loss: 0.3598, Accuracy: 87.40%, Test Loss: 0.4065, Test Accuracy: 85.34%\n",
      "Epoch [180/400], Loss: 0.3597, Accuracy: 87.41%, Test Loss: 0.4057, Test Accuracy: 85.32%\n",
      "Epoch [181/400], Loss: 0.3590, Accuracy: 87.41%, Test Loss: 0.4053, Test Accuracy: 85.50%\n",
      "Epoch [182/400], Loss: 0.3586, Accuracy: 87.45%, Test Loss: 0.4050, Test Accuracy: 85.29%\n",
      "Epoch [183/400], Loss: 0.3588, Accuracy: 87.42%, Test Loss: 0.4045, Test Accuracy: 85.50%\n",
      "Epoch [184/400], Loss: 0.3577, Accuracy: 87.44%, Test Loss: 0.4041, Test Accuracy: 85.49%\n",
      "Epoch [185/400], Loss: 0.3577, Accuracy: 87.46%, Test Loss: 0.4044, Test Accuracy: 85.50%\n",
      "Epoch [186/400], Loss: 0.3572, Accuracy: 87.46%, Test Loss: 0.4037, Test Accuracy: 85.46%\n",
      "Epoch [187/400], Loss: 0.3567, Accuracy: 87.53%, Test Loss: 0.4034, Test Accuracy: 85.49%\n",
      "Epoch [188/400], Loss: 0.3564, Accuracy: 87.51%, Test Loss: 0.4031, Test Accuracy: 85.51%\n",
      "Epoch [189/400], Loss: 0.3561, Accuracy: 87.53%, Test Loss: 0.4034, Test Accuracy: 85.56%\n",
      "Epoch [190/400], Loss: 0.3564, Accuracy: 87.53%, Test Loss: 0.4032, Test Accuracy: 85.42%\n",
      "Epoch [191/400], Loss: 0.3551, Accuracy: 87.55%, Test Loss: 0.4025, Test Accuracy: 85.58%\n",
      "Epoch [192/400], Loss: 0.3550, Accuracy: 87.58%, Test Loss: 0.4026, Test Accuracy: 85.42%\n",
      "Epoch [193/400], Loss: 0.3546, Accuracy: 87.58%, Test Loss: 0.4018, Test Accuracy: 85.46%\n",
      "Epoch [194/400], Loss: 0.3544, Accuracy: 87.59%, Test Loss: 0.4017, Test Accuracy: 85.53%\n",
      "Epoch [195/400], Loss: 0.3538, Accuracy: 87.60%, Test Loss: 0.4012, Test Accuracy: 85.44%\n",
      "Epoch [196/400], Loss: 0.3531, Accuracy: 87.60%, Test Loss: 0.4019, Test Accuracy: 85.55%\n",
      "Epoch [197/400], Loss: 0.3526, Accuracy: 87.64%, Test Loss: 0.4011, Test Accuracy: 85.54%\n",
      "Epoch [198/400], Loss: 0.3529, Accuracy: 87.60%, Test Loss: 0.4009, Test Accuracy: 85.53%\n",
      "Epoch [199/400], Loss: 0.3522, Accuracy: 87.69%, Test Loss: 0.4004, Test Accuracy: 85.53%\n",
      "Epoch [200/400], Loss: 0.3519, Accuracy: 87.68%, Test Loss: 0.4006, Test Accuracy: 85.73%\n",
      "Epoch [201/400], Loss: 0.3518, Accuracy: 87.77%, Test Loss: 0.3999, Test Accuracy: 85.52%\n",
      "Epoch [202/400], Loss: 0.3516, Accuracy: 87.72%, Test Loss: 0.3997, Test Accuracy: 85.54%\n",
      "Epoch [203/400], Loss: 0.3506, Accuracy: 87.71%, Test Loss: 0.3992, Test Accuracy: 85.59%\n",
      "Epoch [204/400], Loss: 0.3508, Accuracy: 87.74%, Test Loss: 0.3991, Test Accuracy: 85.72%\n",
      "Epoch [205/400], Loss: 0.3502, Accuracy: 87.72%, Test Loss: 0.3987, Test Accuracy: 85.59%\n",
      "Epoch [206/400], Loss: 0.3500, Accuracy: 87.76%, Test Loss: 0.3985, Test Accuracy: 85.64%\n",
      "Epoch [207/400], Loss: 0.3492, Accuracy: 87.79%, Test Loss: 0.3980, Test Accuracy: 85.65%\n",
      "Epoch [208/400], Loss: 0.3491, Accuracy: 87.75%, Test Loss: 0.3981, Test Accuracy: 85.84%\n",
      "Epoch [209/400], Loss: 0.3488, Accuracy: 87.83%, Test Loss: 0.3977, Test Accuracy: 85.72%\n",
      "Epoch [210/400], Loss: 0.3485, Accuracy: 87.84%, Test Loss: 0.3978, Test Accuracy: 85.80%\n",
      "Epoch [211/400], Loss: 0.3480, Accuracy: 87.81%, Test Loss: 0.3970, Test Accuracy: 85.77%\n",
      "Epoch [212/400], Loss: 0.3479, Accuracy: 87.92%, Test Loss: 0.3964, Test Accuracy: 85.74%\n",
      "Epoch [213/400], Loss: 0.3475, Accuracy: 87.87%, Test Loss: 0.3968, Test Accuracy: 85.82%\n",
      "Epoch [214/400], Loss: 0.3472, Accuracy: 87.84%, Test Loss: 0.3962, Test Accuracy: 85.72%\n",
      "Epoch [215/400], Loss: 0.3469, Accuracy: 87.87%, Test Loss: 0.3966, Test Accuracy: 85.84%\n",
      "Epoch [216/400], Loss: 0.3467, Accuracy: 87.89%, Test Loss: 0.3955, Test Accuracy: 85.75%\n",
      "Epoch [217/400], Loss: 0.3463, Accuracy: 87.89%, Test Loss: 0.3960, Test Accuracy: 85.71%\n",
      "Epoch [218/400], Loss: 0.3457, Accuracy: 87.89%, Test Loss: 0.3956, Test Accuracy: 85.70%\n",
      "Epoch [219/400], Loss: 0.3457, Accuracy: 87.97%, Test Loss: 0.3953, Test Accuracy: 85.76%\n",
      "Epoch [220/400], Loss: 0.3454, Accuracy: 87.92%, Test Loss: 0.3956, Test Accuracy: 85.78%\n",
      "Epoch [221/400], Loss: 0.3449, Accuracy: 87.98%, Test Loss: 0.3953, Test Accuracy: 85.92%\n",
      "Epoch [222/400], Loss: 0.3444, Accuracy: 87.97%, Test Loss: 0.3946, Test Accuracy: 85.78%\n",
      "Epoch [223/400], Loss: 0.3439, Accuracy: 88.00%, Test Loss: 0.3953, Test Accuracy: 85.91%\n",
      "Epoch [224/400], Loss: 0.3437, Accuracy: 88.00%, Test Loss: 0.3943, Test Accuracy: 85.78%\n",
      "Epoch [225/400], Loss: 0.3442, Accuracy: 88.00%, Test Loss: 0.3946, Test Accuracy: 85.74%\n",
      "Epoch [226/400], Loss: 0.3430, Accuracy: 88.05%, Test Loss: 0.3938, Test Accuracy: 85.79%\n",
      "Epoch [227/400], Loss: 0.3429, Accuracy: 88.03%, Test Loss: 0.3931, Test Accuracy: 85.86%\n",
      "Epoch [228/400], Loss: 0.3429, Accuracy: 88.03%, Test Loss: 0.3929, Test Accuracy: 85.90%\n",
      "Epoch [229/400], Loss: 0.3419, Accuracy: 88.05%, Test Loss: 0.3926, Test Accuracy: 85.89%\n",
      "Epoch [230/400], Loss: 0.3419, Accuracy: 88.02%, Test Loss: 0.3928, Test Accuracy: 85.92%\n",
      "Epoch [231/400], Loss: 0.3421, Accuracy: 88.07%, Test Loss: 0.3924, Test Accuracy: 85.95%\n",
      "Epoch [232/400], Loss: 0.3413, Accuracy: 88.06%, Test Loss: 0.3924, Test Accuracy: 85.96%\n",
      "Epoch [233/400], Loss: 0.3409, Accuracy: 88.11%, Test Loss: 0.3917, Test Accuracy: 85.83%\n",
      "Epoch [234/400], Loss: 0.3404, Accuracy: 88.11%, Test Loss: 0.3941, Test Accuracy: 85.89%\n",
      "Epoch [235/400], Loss: 0.3404, Accuracy: 88.14%, Test Loss: 0.3912, Test Accuracy: 85.99%\n",
      "Epoch [236/400], Loss: 0.3400, Accuracy: 88.14%, Test Loss: 0.3915, Test Accuracy: 85.95%\n",
      "Epoch [237/400], Loss: 0.3392, Accuracy: 88.14%, Test Loss: 0.3913, Test Accuracy: 86.13%\n",
      "Epoch [238/400], Loss: 0.3396, Accuracy: 88.15%, Test Loss: 0.3907, Test Accuracy: 86.08%\n",
      "Epoch [239/400], Loss: 0.3390, Accuracy: 88.15%, Test Loss: 0.3904, Test Accuracy: 86.03%\n",
      "Epoch [240/400], Loss: 0.3389, Accuracy: 88.17%, Test Loss: 0.3904, Test Accuracy: 86.11%\n",
      "Epoch [241/400], Loss: 0.3383, Accuracy: 88.19%, Test Loss: 0.3907, Test Accuracy: 86.06%\n",
      "Epoch [242/400], Loss: 0.3382, Accuracy: 88.19%, Test Loss: 0.3906, Test Accuracy: 85.86%\n",
      "Epoch [243/400], Loss: 0.3377, Accuracy: 88.21%, Test Loss: 0.3895, Test Accuracy: 86.06%\n",
      "Epoch [244/400], Loss: 0.3374, Accuracy: 88.19%, Test Loss: 0.3894, Test Accuracy: 86.18%\n",
      "Epoch [245/400], Loss: 0.3371, Accuracy: 88.21%, Test Loss: 0.3891, Test Accuracy: 86.10%\n",
      "Epoch [246/400], Loss: 0.3370, Accuracy: 88.23%, Test Loss: 0.3889, Test Accuracy: 86.18%\n",
      "Epoch [247/400], Loss: 0.3368, Accuracy: 88.27%, Test Loss: 0.3885, Test Accuracy: 86.16%\n",
      "Epoch [248/400], Loss: 0.3364, Accuracy: 88.22%, Test Loss: 0.3889, Test Accuracy: 86.06%\n",
      "Epoch [249/400], Loss: 0.3360, Accuracy: 88.29%, Test Loss: 0.3892, Test Accuracy: 86.24%\n",
      "Epoch [250/400], Loss: 0.3362, Accuracy: 88.27%, Test Loss: 0.3887, Test Accuracy: 86.13%\n",
      "Epoch [251/400], Loss: 0.3354, Accuracy: 88.35%, Test Loss: 0.3880, Test Accuracy: 86.20%\n",
      "Epoch [252/400], Loss: 0.3349, Accuracy: 88.32%, Test Loss: 0.3876, Test Accuracy: 86.29%\n",
      "Epoch [253/400], Loss: 0.3348, Accuracy: 88.35%, Test Loss: 0.3879, Test Accuracy: 86.19%\n",
      "Epoch [254/400], Loss: 0.3349, Accuracy: 88.28%, Test Loss: 0.3884, Test Accuracy: 86.07%\n",
      "Epoch [255/400], Loss: 0.3344, Accuracy: 88.34%, Test Loss: 0.3874, Test Accuracy: 86.15%\n",
      "Epoch [256/400], Loss: 0.3342, Accuracy: 88.30%, Test Loss: 0.3874, Test Accuracy: 86.30%\n",
      "Epoch [257/400], Loss: 0.3338, Accuracy: 88.39%, Test Loss: 0.3874, Test Accuracy: 86.22%\n",
      "Epoch [258/400], Loss: 0.3334, Accuracy: 88.40%, Test Loss: 0.3868, Test Accuracy: 86.23%\n",
      "Epoch [259/400], Loss: 0.3330, Accuracy: 88.38%, Test Loss: 0.3865, Test Accuracy: 86.20%\n",
      "Epoch [260/400], Loss: 0.3329, Accuracy: 88.38%, Test Loss: 0.3863, Test Accuracy: 86.37%\n",
      "Epoch [261/400], Loss: 0.3325, Accuracy: 88.44%, Test Loss: 0.3862, Test Accuracy: 86.27%\n",
      "Epoch [262/400], Loss: 0.3322, Accuracy: 88.40%, Test Loss: 0.3859, Test Accuracy: 86.22%\n",
      "Epoch [263/400], Loss: 0.3322, Accuracy: 88.46%, Test Loss: 0.3861, Test Accuracy: 86.23%\n",
      "Epoch [264/400], Loss: 0.3315, Accuracy: 88.40%, Test Loss: 0.3857, Test Accuracy: 86.28%\n",
      "Epoch [265/400], Loss: 0.3318, Accuracy: 88.45%, Test Loss: 0.3857, Test Accuracy: 86.25%\n",
      "Epoch [266/400], Loss: 0.3309, Accuracy: 88.42%, Test Loss: 0.3857, Test Accuracy: 86.31%\n",
      "Epoch [267/400], Loss: 0.3308, Accuracy: 88.47%, Test Loss: 0.3858, Test Accuracy: 86.30%\n",
      "Epoch [268/400], Loss: 0.3306, Accuracy: 88.44%, Test Loss: 0.3849, Test Accuracy: 86.35%\n",
      "Epoch [269/400], Loss: 0.3301, Accuracy: 88.51%, Test Loss: 0.3852, Test Accuracy: 86.37%\n",
      "Epoch [270/400], Loss: 0.3302, Accuracy: 88.50%, Test Loss: 0.3847, Test Accuracy: 86.41%\n",
      "Epoch [271/400], Loss: 0.3295, Accuracy: 88.54%, Test Loss: 0.3841, Test Accuracy: 86.28%\n",
      "Epoch [272/400], Loss: 0.3294, Accuracy: 88.49%, Test Loss: 0.3851, Test Accuracy: 86.25%\n",
      "Epoch [273/400], Loss: 0.3290, Accuracy: 88.54%, Test Loss: 0.3841, Test Accuracy: 86.34%\n",
      "Epoch [274/400], Loss: 0.3292, Accuracy: 88.56%, Test Loss: 0.3840, Test Accuracy: 86.32%\n",
      "Epoch [275/400], Loss: 0.3284, Accuracy: 88.52%, Test Loss: 0.3834, Test Accuracy: 86.47%\n",
      "Epoch [276/400], Loss: 0.3283, Accuracy: 88.58%, Test Loss: 0.3835, Test Accuracy: 86.40%\n",
      "Epoch [277/400], Loss: 0.3280, Accuracy: 88.56%, Test Loss: 0.3840, Test Accuracy: 86.36%\n",
      "Epoch [278/400], Loss: 0.3277, Accuracy: 88.55%, Test Loss: 0.3832, Test Accuracy: 86.41%\n",
      "Epoch [279/400], Loss: 0.3278, Accuracy: 88.61%, Test Loss: 0.3831, Test Accuracy: 86.48%\n",
      "Epoch [280/400], Loss: 0.3273, Accuracy: 88.58%, Test Loss: 0.3831, Test Accuracy: 86.47%\n",
      "Epoch [281/400], Loss: 0.3269, Accuracy: 88.55%, Test Loss: 0.3833, Test Accuracy: 86.45%\n",
      "Epoch [282/400], Loss: 0.3264, Accuracy: 88.63%, Test Loss: 0.3822, Test Accuracy: 86.41%\n",
      "Epoch [283/400], Loss: 0.3263, Accuracy: 88.65%, Test Loss: 0.3823, Test Accuracy: 86.26%\n",
      "Epoch [284/400], Loss: 0.3259, Accuracy: 88.61%, Test Loss: 0.3828, Test Accuracy: 86.36%\n",
      "Epoch [285/400], Loss: 0.3260, Accuracy: 88.65%, Test Loss: 0.3822, Test Accuracy: 86.49%\n",
      "Epoch [286/400], Loss: 0.3256, Accuracy: 88.63%, Test Loss: 0.3819, Test Accuracy: 86.44%\n",
      "Epoch [287/400], Loss: 0.3253, Accuracy: 88.71%, Test Loss: 0.3818, Test Accuracy: 86.49%\n",
      "Epoch [288/400], Loss: 0.3250, Accuracy: 88.66%, Test Loss: 0.3817, Test Accuracy: 86.46%\n",
      "Epoch [289/400], Loss: 0.3246, Accuracy: 88.66%, Test Loss: 0.3817, Test Accuracy: 86.38%\n",
      "Epoch [290/400], Loss: 0.3243, Accuracy: 88.67%, Test Loss: 0.3819, Test Accuracy: 86.62%\n",
      "Epoch [291/400], Loss: 0.3244, Accuracy: 88.75%, Test Loss: 0.3814, Test Accuracy: 86.53%\n",
      "Epoch [292/400], Loss: 0.3241, Accuracy: 88.66%, Test Loss: 0.3809, Test Accuracy: 86.54%\n",
      "Epoch [293/400], Loss: 0.3241, Accuracy: 88.72%, Test Loss: 0.3811, Test Accuracy: 86.34%\n",
      "Epoch [294/400], Loss: 0.3240, Accuracy: 88.73%, Test Loss: 0.3807, Test Accuracy: 86.51%\n",
      "Epoch [295/400], Loss: 0.3232, Accuracy: 88.74%, Test Loss: 0.3814, Test Accuracy: 86.44%\n",
      "Epoch [296/400], Loss: 0.3228, Accuracy: 88.71%, Test Loss: 0.3803, Test Accuracy: 86.43%\n",
      "Epoch [297/400], Loss: 0.3227, Accuracy: 88.72%, Test Loss: 0.3806, Test Accuracy: 86.59%\n",
      "Epoch [298/400], Loss: 0.3226, Accuracy: 88.71%, Test Loss: 0.3803, Test Accuracy: 86.40%\n",
      "Epoch [299/400], Loss: 0.3225, Accuracy: 88.80%, Test Loss: 0.3798, Test Accuracy: 86.48%\n",
      "Epoch [300/400], Loss: 0.3222, Accuracy: 88.78%, Test Loss: 0.3794, Test Accuracy: 86.58%\n",
      "Epoch [301/400], Loss: 0.3218, Accuracy: 88.78%, Test Loss: 0.3792, Test Accuracy: 86.66%\n",
      "Epoch [302/400], Loss: 0.3215, Accuracy: 88.79%, Test Loss: 0.3794, Test Accuracy: 86.58%\n",
      "Epoch [303/400], Loss: 0.3214, Accuracy: 88.83%, Test Loss: 0.3791, Test Accuracy: 86.61%\n",
      "Epoch [304/400], Loss: 0.3212, Accuracy: 88.80%, Test Loss: 0.3787, Test Accuracy: 86.50%\n",
      "Epoch [305/400], Loss: 0.3212, Accuracy: 88.79%, Test Loss: 0.3791, Test Accuracy: 86.63%\n",
      "Epoch [306/400], Loss: 0.3208, Accuracy: 88.83%, Test Loss: 0.3785, Test Accuracy: 86.68%\n",
      "Epoch [307/400], Loss: 0.3202, Accuracy: 88.85%, Test Loss: 0.3783, Test Accuracy: 86.60%\n",
      "Epoch [308/400], Loss: 0.3199, Accuracy: 88.82%, Test Loss: 0.3800, Test Accuracy: 86.52%\n",
      "Epoch [309/400], Loss: 0.3199, Accuracy: 88.85%, Test Loss: 0.3783, Test Accuracy: 86.64%\n",
      "Epoch [310/400], Loss: 0.3194, Accuracy: 88.89%, Test Loss: 0.3787, Test Accuracy: 86.62%\n",
      "Epoch [311/400], Loss: 0.3193, Accuracy: 88.88%, Test Loss: 0.3778, Test Accuracy: 86.50%\n",
      "Epoch [312/400], Loss: 0.3190, Accuracy: 88.85%, Test Loss: 0.3776, Test Accuracy: 86.61%\n",
      "Epoch [313/400], Loss: 0.3187, Accuracy: 88.87%, Test Loss: 0.3773, Test Accuracy: 86.47%\n",
      "Epoch [314/400], Loss: 0.3184, Accuracy: 88.86%, Test Loss: 0.3772, Test Accuracy: 86.59%\n",
      "Epoch [315/400], Loss: 0.3182, Accuracy: 88.88%, Test Loss: 0.3772, Test Accuracy: 86.48%\n",
      "Epoch [316/400], Loss: 0.3180, Accuracy: 88.91%, Test Loss: 0.3771, Test Accuracy: 86.57%\n",
      "Epoch [317/400], Loss: 0.3175, Accuracy: 88.91%, Test Loss: 0.3780, Test Accuracy: 86.59%\n",
      "Epoch [318/400], Loss: 0.3180, Accuracy: 88.93%, Test Loss: 0.3768, Test Accuracy: 86.67%\n",
      "Epoch [319/400], Loss: 0.3171, Accuracy: 88.91%, Test Loss: 0.3769, Test Accuracy: 86.69%\n",
      "Epoch [320/400], Loss: 0.3169, Accuracy: 88.94%, Test Loss: 0.3769, Test Accuracy: 86.72%\n",
      "Epoch [321/400], Loss: 0.3169, Accuracy: 88.94%, Test Loss: 0.3770, Test Accuracy: 86.66%\n",
      "Epoch [322/400], Loss: 0.3162, Accuracy: 88.97%, Test Loss: 0.3761, Test Accuracy: 86.56%\n",
      "Epoch [323/400], Loss: 0.3162, Accuracy: 88.97%, Test Loss: 0.3761, Test Accuracy: 86.64%\n",
      "Epoch [324/400], Loss: 0.3165, Accuracy: 88.97%, Test Loss: 0.3767, Test Accuracy: 86.68%\n",
      "Epoch [325/400], Loss: 0.3158, Accuracy: 89.02%, Test Loss: 0.3762, Test Accuracy: 86.63%\n",
      "Epoch [326/400], Loss: 0.3156, Accuracy: 89.02%, Test Loss: 0.3759, Test Accuracy: 86.70%\n",
      "Epoch [327/400], Loss: 0.3154, Accuracy: 88.98%, Test Loss: 0.3756, Test Accuracy: 86.75%\n",
      "Epoch [328/400], Loss: 0.3153, Accuracy: 89.02%, Test Loss: 0.3757, Test Accuracy: 86.71%\n",
      "Epoch [329/400], Loss: 0.3152, Accuracy: 89.00%, Test Loss: 0.3753, Test Accuracy: 86.59%\n",
      "Epoch [330/400], Loss: 0.3147, Accuracy: 89.02%, Test Loss: 0.3753, Test Accuracy: 86.80%\n",
      "Epoch [331/400], Loss: 0.3150, Accuracy: 89.08%, Test Loss: 0.3749, Test Accuracy: 86.61%\n",
      "Epoch [332/400], Loss: 0.3142, Accuracy: 89.02%, Test Loss: 0.3748, Test Accuracy: 86.68%\n",
      "Epoch [333/400], Loss: 0.3143, Accuracy: 89.03%, Test Loss: 0.3750, Test Accuracy: 86.53%\n",
      "Epoch [334/400], Loss: 0.3135, Accuracy: 89.06%, Test Loss: 0.3745, Test Accuracy: 86.68%\n",
      "Epoch [335/400], Loss: 0.3136, Accuracy: 89.06%, Test Loss: 0.3748, Test Accuracy: 86.86%\n",
      "Epoch [336/400], Loss: 0.3132, Accuracy: 89.04%, Test Loss: 0.3740, Test Accuracy: 86.59%\n",
      "Epoch [337/400], Loss: 0.3131, Accuracy: 89.04%, Test Loss: 0.3745, Test Accuracy: 86.78%\n",
      "Epoch [338/400], Loss: 0.3127, Accuracy: 89.07%, Test Loss: 0.3738, Test Accuracy: 86.68%\n",
      "Epoch [339/400], Loss: 0.3128, Accuracy: 89.09%, Test Loss: 0.3747, Test Accuracy: 86.73%\n",
      "Epoch [340/400], Loss: 0.3126, Accuracy: 89.06%, Test Loss: 0.3734, Test Accuracy: 86.70%\n",
      "Epoch [341/400], Loss: 0.3123, Accuracy: 89.11%, Test Loss: 0.3738, Test Accuracy: 86.76%\n",
      "Epoch [342/400], Loss: 0.3116, Accuracy: 89.12%, Test Loss: 0.3737, Test Accuracy: 86.81%\n",
      "Epoch [343/400], Loss: 0.3121, Accuracy: 89.06%, Test Loss: 0.3738, Test Accuracy: 86.85%\n",
      "Epoch [344/400], Loss: 0.3114, Accuracy: 89.14%, Test Loss: 0.3732, Test Accuracy: 86.76%\n",
      "Epoch [345/400], Loss: 0.3115, Accuracy: 89.12%, Test Loss: 0.3732, Test Accuracy: 86.82%\n",
      "Epoch [346/400], Loss: 0.3111, Accuracy: 89.12%, Test Loss: 0.3730, Test Accuracy: 86.73%\n",
      "Epoch [347/400], Loss: 0.3107, Accuracy: 89.17%, Test Loss: 0.3731, Test Accuracy: 86.70%\n",
      "Epoch [348/400], Loss: 0.3104, Accuracy: 89.19%, Test Loss: 0.3727, Test Accuracy: 86.86%\n",
      "Epoch [349/400], Loss: 0.3107, Accuracy: 89.12%, Test Loss: 0.3729, Test Accuracy: 86.72%\n",
      "Epoch [350/400], Loss: 0.3103, Accuracy: 89.16%, Test Loss: 0.3723, Test Accuracy: 86.73%\n",
      "Epoch [351/400], Loss: 0.3097, Accuracy: 89.17%, Test Loss: 0.3746, Test Accuracy: 86.70%\n",
      "Epoch [352/400], Loss: 0.3097, Accuracy: 89.25%, Test Loss: 0.3723, Test Accuracy: 86.74%\n",
      "Epoch [353/400], Loss: 0.3094, Accuracy: 89.19%, Test Loss: 0.3722, Test Accuracy: 86.86%\n",
      "Epoch [354/400], Loss: 0.3093, Accuracy: 89.19%, Test Loss: 0.3721, Test Accuracy: 86.62%\n",
      "Epoch [355/400], Loss: 0.3090, Accuracy: 89.21%, Test Loss: 0.3720, Test Accuracy: 86.86%\n",
      "Epoch [356/400], Loss: 0.3088, Accuracy: 89.24%, Test Loss: 0.3728, Test Accuracy: 86.89%\n",
      "Epoch [357/400], Loss: 0.3083, Accuracy: 89.23%, Test Loss: 0.3718, Test Accuracy: 86.72%\n",
      "Epoch [358/400], Loss: 0.3085, Accuracy: 89.21%, Test Loss: 0.3718, Test Accuracy: 86.89%\n",
      "Epoch [359/400], Loss: 0.3081, Accuracy: 89.19%, Test Loss: 0.3710, Test Accuracy: 86.80%\n",
      "Epoch [360/400], Loss: 0.3075, Accuracy: 89.25%, Test Loss: 0.3715, Test Accuracy: 86.76%\n",
      "Epoch [361/400], Loss: 0.3075, Accuracy: 89.27%, Test Loss: 0.3715, Test Accuracy: 86.85%\n",
      "Epoch [362/400], Loss: 0.3077, Accuracy: 89.29%, Test Loss: 0.3713, Test Accuracy: 86.83%\n",
      "Epoch [363/400], Loss: 0.3070, Accuracy: 89.26%, Test Loss: 0.3712, Test Accuracy: 86.75%\n",
      "Epoch [364/400], Loss: 0.3071, Accuracy: 89.24%, Test Loss: 0.3711, Test Accuracy: 86.85%\n",
      "Epoch [365/400], Loss: 0.3070, Accuracy: 89.31%, Test Loss: 0.3708, Test Accuracy: 86.85%\n",
      "Epoch [366/400], Loss: 0.3068, Accuracy: 89.33%, Test Loss: 0.3708, Test Accuracy: 86.79%\n",
      "Epoch [367/400], Loss: 0.3066, Accuracy: 89.32%, Test Loss: 0.3709, Test Accuracy: 86.76%\n",
      "Epoch [368/400], Loss: 0.3070, Accuracy: 89.32%, Test Loss: 0.3707, Test Accuracy: 86.71%\n",
      "Epoch [369/400], Loss: 0.3060, Accuracy: 89.32%, Test Loss: 0.3701, Test Accuracy: 86.85%\n",
      "Epoch [370/400], Loss: 0.3057, Accuracy: 89.36%, Test Loss: 0.3699, Test Accuracy: 86.82%\n",
      "Epoch [371/400], Loss: 0.3056, Accuracy: 89.33%, Test Loss: 0.3706, Test Accuracy: 86.81%\n",
      "Epoch [372/400], Loss: 0.3050, Accuracy: 89.33%, Test Loss: 0.3711, Test Accuracy: 86.70%\n",
      "Epoch [373/400], Loss: 0.3053, Accuracy: 89.33%, Test Loss: 0.3703, Test Accuracy: 86.63%\n",
      "Epoch [374/400], Loss: 0.3053, Accuracy: 89.28%, Test Loss: 0.3708, Test Accuracy: 86.81%\n",
      "Epoch [375/400], Loss: 0.3049, Accuracy: 89.34%, Test Loss: 0.3699, Test Accuracy: 86.98%\n",
      "Epoch [376/400], Loss: 0.3044, Accuracy: 89.34%, Test Loss: 0.3695, Test Accuracy: 86.89%\n",
      "Epoch [377/400], Loss: 0.3044, Accuracy: 89.38%, Test Loss: 0.3694, Test Accuracy: 86.82%\n",
      "Epoch [378/400], Loss: 0.3043, Accuracy: 89.43%, Test Loss: 0.3691, Test Accuracy: 86.79%\n",
      "Epoch [379/400], Loss: 0.3039, Accuracy: 89.42%, Test Loss: 0.3688, Test Accuracy: 86.86%\n",
      "Epoch [380/400], Loss: 0.3038, Accuracy: 89.41%, Test Loss: 0.3686, Test Accuracy: 86.75%\n",
      "Epoch [381/400], Loss: 0.3035, Accuracy: 89.40%, Test Loss: 0.3690, Test Accuracy: 86.83%\n",
      "Epoch [382/400], Loss: 0.3032, Accuracy: 89.42%, Test Loss: 0.3685, Test Accuracy: 86.66%\n",
      "Epoch [383/400], Loss: 0.3032, Accuracy: 89.41%, Test Loss: 0.3694, Test Accuracy: 86.76%\n",
      "Epoch [384/400], Loss: 0.3030, Accuracy: 89.41%, Test Loss: 0.3688, Test Accuracy: 87.03%\n",
      "Epoch [385/400], Loss: 0.3026, Accuracy: 89.40%, Test Loss: 0.3686, Test Accuracy: 86.95%\n",
      "Epoch [386/400], Loss: 0.3024, Accuracy: 89.42%, Test Loss: 0.3681, Test Accuracy: 86.84%\n",
      "Epoch [387/400], Loss: 0.3021, Accuracy: 89.44%, Test Loss: 0.3680, Test Accuracy: 86.81%\n",
      "Epoch [388/400], Loss: 0.3017, Accuracy: 89.46%, Test Loss: 0.3689, Test Accuracy: 86.97%\n",
      "Epoch [389/400], Loss: 0.3017, Accuracy: 89.49%, Test Loss: 0.3685, Test Accuracy: 86.79%\n",
      "Epoch [390/400], Loss: 0.3016, Accuracy: 89.49%, Test Loss: 0.3684, Test Accuracy: 86.86%\n",
      "Epoch [391/400], Loss: 0.3011, Accuracy: 89.49%, Test Loss: 0.3682, Test Accuracy: 86.93%\n",
      "Epoch [392/400], Loss: 0.3012, Accuracy: 89.48%, Test Loss: 0.3680, Test Accuracy: 86.88%\n",
      "Epoch [393/400], Loss: 0.3010, Accuracy: 89.54%, Test Loss: 0.3678, Test Accuracy: 86.89%\n",
      "Epoch [394/400], Loss: 0.3011, Accuracy: 89.53%, Test Loss: 0.3675, Test Accuracy: 86.93%\n",
      "Epoch [395/400], Loss: 0.3009, Accuracy: 89.54%, Test Loss: 0.3676, Test Accuracy: 86.87%\n",
      "Epoch [396/400], Loss: 0.3006, Accuracy: 89.54%, Test Loss: 0.3676, Test Accuracy: 86.95%\n",
      "Epoch [397/400], Loss: 0.2999, Accuracy: 89.52%, Test Loss: 0.3673, Test Accuracy: 86.94%\n",
      "Epoch [398/400], Loss: 0.3001, Accuracy: 89.53%, Test Loss: 0.3669, Test Accuracy: 87.02%\n",
      "Epoch [399/400], Loss: 0.2999, Accuracy: 89.58%, Test Loss: 0.3671, Test Accuracy: 86.89%\n",
      "Epoch [400/400], Loss: 0.2994, Accuracy: 89.53%, Test Loss: 0.3670, Test Accuracy: 86.96%\n"
     ]
    }
   ],
   "source": [
    "# train\n",
    "for epoch in range(max_epoch):\n",
    "    running_loss = 0.0\n",
    "    running_correct = 0   # to track number of correct predictions\n",
    "    total = 0             # to track total number of samples\n",
    "\n",
    "    for i, (inputs, labels) in enumerate(trainloader, 0):\n",
    "        # Move inputs and labels to the device\n",
    "        inputs, labels = inputs.to(device), labels.to(device)\n",
    "\n",
    "        # Zero the parameter gradients\n",
    "        optimizer.zero_grad()\n",
    "\n",
    "        # Forward pass\n",
    "        outputs = model(inputs)\n",
    "        loss = criterion(outputs, labels)\n",
    "        running_loss += loss.item()\n",
    "\n",
    "        # Determine class predictions and track accuracy\n",
    "        _, predicted = torch.max(outputs.data, 1)\n",
    "        total += labels.size(0)\n",
    "        running_correct += (predicted == labels).sum().item()\n",
    "\n",
    "        # Backward pass and optimization\n",
    "        loss.backward()\n",
    "        optimizer.step()        \n",
    "\n",
    "    epoch_accuracy = 100 * running_correct / total\n",
    "    epoch_loss = running_loss / (i + 1)\n",
    "    test_loss, test_accuracy = evaluate(model, testloader, criterion)\n",
    "    print(f\"Epoch [{epoch + 1}/{max_epoch}], Loss: {epoch_loss:.4f}, Accuracy: {epoch_accuracy:.2f}%, Test Loss: {test_loss:.4f}, Test Accuracy: {test_accuracy:.2f}%\")\n",
    "    \n",
    "    # save for plot\n",
    "    train_losses.append(epoch_loss)\n",
    "    train_accuracies.append(epoch_accuracy)\n",
    "    test_losses.append(test_loss)\n",
    "    test_accuracies.append(test_accuracy)"
   ]
  },
  {
   "cell_type": "code",
   "execution_count": null,
   "metadata": {
    "id": "QKFbl4unF_6t"
   },
   "outputs": [],
   "source": []
  },
  {
   "cell_type": "code",
   "execution_count": 11,
   "metadata": {
    "id": "AwIj3vrnF_8_"
   },
   "outputs": [
    {
     "data": {
      "text/plain": [
       "<matplotlib.legend.Legend at 0x7f8c5c0b3ee0>"
      ]
     },
     "execution_count": 11,
     "metadata": {},
     "output_type": "execute_result"
    },
    {
     "data": {
      "image/png": "[encoded data removed]",
      "text/plain": [
       "<Figure size 640x480 with 1 Axes>"
      ]
     },
     "metadata": {},
     "output_type": "display_data"
    }
   ],
   "source": [
    "import matplotlib.pyplot as plt\n",
    "\n",
    "plt.plot(train_losses, label='train_losses')\n",
    "plt.plot(test_losses, label='test_losses')\n",
    "plt.legend()"
   ]
  },
  {
   "cell_type": "code",
   "execution_count": 12,
   "metadata": {
    "id": "eh3iDa8lF__H"
   },
   "outputs": [
    {
     "data": {
      "text/plain": [
       "<matplotlib.legend.Legend at 0x7f8c5525ea10>"
      ]
     },
     "execution_count": 12,
     "metadata": {},
     "output_type": "execute_result"
    },
    {
     "data": {
      "image/png": "[encoded data removed]",
      "text/plain": [
       "<Figure size 640x480 with 1 Axes>"
      ]
     },
     "metadata": {},
     "output_type": "display_data"
    }
   ],
   "source": [
    "import matplotlib.pyplot as plt\n",
    "\n",
    "plt.plot(train_accuracies, label='train_accuracy')\n",
    "plt.plot(test_accuracies, label='test_accuracy')\n",
    "plt.legend()"
   ]
  },
  {
   "cell_type": "code",
   "execution_count": null,
   "metadata": {},
   "outputs": [],
   "source": []
  },
  {
   "cell_type": "code",
   "execution_count": 13,
   "metadata": {},
   "outputs": [
    {
     "data": {
      "text/plain": [
       "<matplotlib.legend.Legend at 0x7f8c4535ece0>"
      ]
     },
     "execution_count": 13,
     "metadata": {},
     "output_type": "execute_result"
    }
   ],
   "source": [
    "import matplotlib.pyplot as plt\n",
    "%matplotlib qt\n",
    "\n",
    "plt.plot(train_losses, label='train_losses')\n",
    "plt.plot(test_losses, label='test_losses')\n",
    "plt.legend()"
   ]
  },
  {
   "cell_type": "code",
   "execution_count": 14,
   "metadata": {},
   "outputs": [
    {
     "data": {
      "text/plain": [
       "<matplotlib.legend.Legend at 0x7f8bea17a710>"
      ]
     },
     "execution_count": 14,
     "metadata": {},
     "output_type": "execute_result"
    }
   ],
   "source": [
    "import matplotlib.pyplot as plt\n",
    "%matplotlib qt\n",
    "\n",
    "plt.plot(train_accuracies, label='train_accuracy')\n",
    "plt.plot(test_accuracies, label='test_accuracy')\n",
    "plt.legend()"
   ]
  },
  {
   "cell_type": "code",
   "execution_count": null,
   "metadata": {},
   "outputs": [],
   "source": []
  }
 ],
 "metadata": {
  "accelerator": "GPU",
  "colab": {
   "gpuType": "T4",
   "provenance": []
  },
  "kernelspec": {
   "display_name": "Python 3 (ipykernel)",
   "language": "python",
   "name": "python3"
  },
  "language_info": {
   "codemirror_mode": {
    "name": "ipython",
    "version": 3
   },
   "file_extension": ".py",
   "mimetype": "text/x-python",
   "name": "python",
   "nbconvert_exporter": "python",
   "pygments_lexer": "ipython3",
   "version": "3.9.18"
  }
 },
 "nbformat": 4,
 "nbformat_minor": 4
}
