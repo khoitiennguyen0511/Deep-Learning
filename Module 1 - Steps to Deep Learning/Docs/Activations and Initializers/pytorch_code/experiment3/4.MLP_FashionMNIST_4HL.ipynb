{
 "cells": [
  {
   "cell_type": "code",
   "execution_count": 1,
   "metadata": {},
   "outputs": [],
   "source": [
    "import torch\n",
    "import torch.nn as nn\n",
    "import torch.optim as optim\n",
    "import torchvision\n",
    "import torchvision.transforms as transforms\n",
    "\n",
    "# Check if GPU is available\n",
    "device = torch.device(\"cuda:0\" if torch.cuda.is_available() else \"cpu\")"
   ]
  },
  {
   "cell_type": "code",
   "execution_count": null,
   "metadata": {},
   "outputs": [],
   "source": []
  },
  {
   "cell_type": "markdown",
   "metadata": {},
   "source": [
    "#### Data"
   ]
  },
  {
   "cell_type": "code",
   "execution_count": 2,
   "metadata": {},
   "outputs": [],
   "source": [
    "# Load CFashionMNIST dataset\n",
    "transform = transforms.Compose([transforms.ToTensor(), transforms.Normalize((0.5,), (0.5,))])\n",
    "\n",
    "trainset = torchvision.datasets.FashionMNIST(root='data', train=True, download=True, transform=transform)\n",
    "trainloader = torch.utils.data.DataLoader(trainset, batch_size=1024, num_workers=10, shuffle=True)\n",
    "\n",
    "testset = torchvision.datasets.FashionMNIST(root='data', train=False, download=True, transform=transform)\n",
    "testloader = torch.utils.data.DataLoader(testset, batch_size=1024, num_workers=10, shuffle=False)"
   ]
  },
  {
   "cell_type": "code",
   "execution_count": 3,
   "metadata": {},
   "outputs": [
    {
     "data": {
      "image/png": "[encoded data removed]",
      "text/plain": [
       "<Figure size 640x480 with 1 Axes>"
      ]
     },
     "metadata": {},
     "output_type": "display_data"
    }
   ],
   "source": [
    "import matplotlib.pyplot as plt\n",
    "import numpy as np\n",
    "\n",
    "# Function to display the images\n",
    "def imshow(img):\n",
    "    img = img*0.5 + 0.5\n",
    "    np_img = img.numpy()\n",
    "    plt.imshow(np.transpose(np_img, (1, 2, 0)))\n",
    "    plt.show()\n",
    "\n",
    "for i, (images, labels) in enumerate(trainloader, 0):\n",
    "    # Plot some images\n",
    "    imshow(torchvision.utils.make_grid(images[:8]))  # Display 8 images from the batch\n",
    "    break"
   ]
  },
  {
   "cell_type": "code",
   "execution_count": null,
   "metadata": {},
   "outputs": [],
   "source": []
  },
  {
   "cell_type": "markdown",
   "metadata": {},
   "source": [
    "#### Model"
   ]
  },
  {
   "cell_type": "code",
   "execution_count": 4,
   "metadata": {},
   "outputs": [
    {
     "name": "stdout",
     "output_type": "stream",
     "text": [
      "Sequential(\n",
      "  (0): Flatten(start_dim=1, end_dim=-1)\n",
      "  (1): Linear(in_features=784, out_features=256, bias=True)\n",
      "  (2): ReLU()\n",
      "  (3): Linear(in_features=256, out_features=256, bias=True)\n",
      "  (4): ReLU()\n",
      "  (5): Linear(in_features=256, out_features=256, bias=True)\n",
      "  (6): ReLU()\n",
      "  (7): Linear(in_features=256, out_features=256, bias=True)\n",
      "  (8): ReLU()\n",
      "  (9): Linear(in_features=256, out_features=10, bias=True)\n",
      ")\n"
     ]
    }
   ],
   "source": [
    "model = nn.Sequential(\n",
    "    nn.Flatten(), \n",
    "    nn.Linear(784, 256),\n",
    "    nn.ReLU(),\n",
    "    nn.Linear(256, 256),\n",
    "    nn.ReLU(),\n",
    "    nn.Linear(256, 256),\n",
    "    nn.ReLU(),\n",
    "    nn.Linear(256, 256),\n",
    "    nn.ReLU(),\n",
    "    nn.Linear(256, 10)\n",
    ")\n",
    "model = model.to(device)\n",
    "\n",
    "print(model)"
   ]
  },
  {
   "cell_type": "code",
   "execution_count": 5,
   "metadata": {},
   "outputs": [
    {
     "name": "stdout",
     "output_type": "stream",
     "text": [
      "torch.Size([5, 10])\n"
     ]
    }
   ],
   "source": [
    "# Generating a random tensor\n",
    "input_tensor = torch.rand(5, 28, 28).to(device)\n",
    "\n",
    "# Feeding the tensor into the model\n",
    "output = model(input_tensor)\n",
    "print(output.shape)"
   ]
  },
  {
   "cell_type": "code",
   "execution_count": null,
   "metadata": {},
   "outputs": [],
   "source": []
  },
  {
   "cell_type": "markdown",
   "metadata": {},
   "source": [
    "#### Loss, Optimizer, and Evaluation Function"
   ]
  },
  {
   "cell_type": "code",
   "execution_count": 6,
   "metadata": {},
   "outputs": [],
   "source": [
    "criterion = nn.CrossEntropyLoss()\n",
    "optimizer = optim.SGD(model.parameters(), lr=0.01)"
   ]
  },
  {
   "cell_type": "code",
   "execution_count": 7,
   "metadata": {},
   "outputs": [],
   "source": [
    "# Function to compute loss and accuracy for test set\n",
    "def evaluate(model, testloader, criterion):\n",
    "    model.eval()\n",
    "    test_loss = 0.0\n",
    "    correct = 0\n",
    "    total = 0\n",
    "    with torch.no_grad():\n",
    "        for images, labels in testloader:\n",
    "            # Move inputs and labels to the device\n",
    "            images, labels = images.to(device), labels.to(device)\n",
    "\n",
    "            outputs = model(images)\n",
    "            loss = criterion(outputs, labels)\n",
    "            test_loss += loss.item()\n",
    "            \n",
    "            _, predicted = torch.max(outputs.data, 1)\n",
    "            total += labels.size(0)\n",
    "            correct += (predicted == labels).sum().item()\n",
    "\n",
    "    accuracy = 100 * correct / total\n",
    "    test_loss = test_loss / len(testloader)\n",
    "    return test_loss, accuracy"
   ]
  },
  {
   "cell_type": "code",
   "execution_count": 8,
   "metadata": {},
   "outputs": [
    {
     "name": "stdout",
     "output_type": "stream",
     "text": [
      "test_loss: 2.303524971008301\n",
      "test_accuracy: 14.68\n"
     ]
    }
   ],
   "source": [
    "test_loss, test_accuracy = evaluate(model, testloader, criterion)\n",
    "print(f'test_loss: {test_loss}')\n",
    "print(f'test_accuracy: {test_accuracy}')"
   ]
  },
  {
   "cell_type": "code",
   "execution_count": null,
   "metadata": {},
   "outputs": [],
   "source": []
  },
  {
   "cell_type": "markdown",
   "metadata": {},
   "source": [
    "#### Train"
   ]
  },
  {
   "cell_type": "code",
   "execution_count": 9,
   "metadata": {},
   "outputs": [],
   "source": [
    "# some parameter\n",
    "train_losses = []\n",
    "train_accuracies = []\n",
    "test_losses = []\n",
    "test_accuracies = []\n",
    "max_epoch = 400"
   ]
  },
  {
   "cell_type": "code",
   "execution_count": 10,
   "metadata": {
    "colab": {
     "base_uri": "https://localhost:8080/"
    },
    "id": "tYwXeSOOF_4Z",
    "outputId": "a4c62a4a-267f-4101-ce96-662cc23cdbe0"
   },
   "outputs": [
    {
     "name": "stdout",
     "output_type": "stream",
     "text": [
      "Epoch [1/400], Loss: 2.3004, Accuracy: 18.67%, Test Loss: 2.2971, Test Accuracy: 20.50%\n",
      "Epoch [2/400], Loss: 2.2935, Accuracy: 21.50%, Test Loss: 2.2897, Test Accuracy: 22.50%\n",
      "Epoch [3/400], Loss: 2.2852, Accuracy: 26.93%, Test Loss: 2.2801, Test Accuracy: 31.88%\n",
      "Epoch [4/400], Loss: 2.2737, Accuracy: 33.95%, Test Loss: 2.2661, Test Accuracy: 35.52%\n",
      "Epoch [5/400], Loss: 2.2556, Accuracy: 36.11%, Test Loss: 2.2426, Test Accuracy: 36.54%\n",
      "Epoch [6/400], Loss: 2.2233, Accuracy: 36.11%, Test Loss: 2.1983, Test Accuracy: 36.50%\n",
      "Epoch [7/400], Loss: 2.1583, Accuracy: 35.83%, Test Loss: 2.1050, Test Accuracy: 35.79%\n",
      "Epoch [8/400], Loss: 2.0242, Accuracy: 35.12%, Test Loss: 1.9252, Test Accuracy: 33.93%\n",
      "Epoch [9/400], Loss: 1.8116, Accuracy: 33.81%, Test Loss: 1.6976, Test Accuracy: 36.45%\n",
      "Epoch [10/400], Loss: 1.5968, Accuracy: 42.83%, Test Loss: 1.4995, Test Accuracy: 50.94%\n",
      "Epoch [11/400], Loss: 1.4012, Accuracy: 52.52%, Test Loss: 1.3052, Test Accuracy: 55.35%\n",
      "Epoch [12/400], Loss: 1.2142, Accuracy: 57.72%, Test Loss: 1.1357, Test Accuracy: 60.05%\n",
      "Epoch [13/400], Loss: 1.0671, Accuracy: 61.38%, Test Loss: 1.0154, Test Accuracy: 63.14%\n",
      "Epoch [14/400], Loss: 0.9675, Accuracy: 64.28%, Test Loss: 0.9380, Test Accuracy: 65.77%\n",
      "Epoch [15/400], Loss: 0.9007, Accuracy: 66.34%, Test Loss: 0.8825, Test Accuracy: 67.95%\n",
      "Epoch [16/400], Loss: 0.8533, Accuracy: 68.77%, Test Loss: 0.8435, Test Accuracy: 68.16%\n",
      "Epoch [17/400], Loss: 0.8166, Accuracy: 70.51%, Test Loss: 0.8112, Test Accuracy: 71.33%\n",
      "Epoch [18/400], Loss: 0.7864, Accuracy: 71.75%, Test Loss: 0.7855, Test Accuracy: 71.55%\n",
      "Epoch [19/400], Loss: 0.7613, Accuracy: 72.33%, Test Loss: 0.7637, Test Accuracy: 71.59%\n",
      "Epoch [20/400], Loss: 0.7406, Accuracy: 72.86%, Test Loss: 0.7442, Test Accuracy: 72.97%\n",
      "Epoch [21/400], Loss: 0.7218, Accuracy: 73.34%, Test Loss: 0.7289, Test Accuracy: 72.92%\n",
      "Epoch [22/400], Loss: 0.7061, Accuracy: 73.66%, Test Loss: 0.7126, Test Accuracy: 73.82%\n",
      "Epoch [23/400], Loss: 0.6915, Accuracy: 74.19%, Test Loss: 0.7027, Test Accuracy: 73.57%\n",
      "Epoch [24/400], Loss: 0.6785, Accuracy: 74.63%, Test Loss: 0.6898, Test Accuracy: 74.64%\n",
      "Epoch [25/400], Loss: 0.6665, Accuracy: 74.98%, Test Loss: 0.6779, Test Accuracy: 74.90%\n",
      "Epoch [26/400], Loss: 0.6549, Accuracy: 75.47%, Test Loss: 0.6680, Test Accuracy: 75.21%\n",
      "Epoch [27/400], Loss: 0.6430, Accuracy: 75.97%, Test Loss: 0.6591, Test Accuracy: 75.24%\n",
      "Epoch [28/400], Loss: 0.6333, Accuracy: 76.43%, Test Loss: 0.6487, Test Accuracy: 75.90%\n",
      "Epoch [29/400], Loss: 0.6240, Accuracy: 76.83%, Test Loss: 0.6390, Test Accuracy: 76.38%\n",
      "Epoch [30/400], Loss: 0.6147, Accuracy: 77.25%, Test Loss: 0.6330, Test Accuracy: 76.82%\n",
      "Epoch [31/400], Loss: 0.6059, Accuracy: 77.63%, Test Loss: 0.6257, Test Accuracy: 76.95%\n",
      "Epoch [32/400], Loss: 0.5979, Accuracy: 78.08%, Test Loss: 0.6217, Test Accuracy: 77.04%\n",
      "Epoch [33/400], Loss: 0.5900, Accuracy: 78.44%, Test Loss: 0.6128, Test Accuracy: 77.51%\n",
      "Epoch [34/400], Loss: 0.5833, Accuracy: 78.78%, Test Loss: 0.6045, Test Accuracy: 77.83%\n",
      "Epoch [35/400], Loss: 0.5758, Accuracy: 79.06%, Test Loss: 0.6063, Test Accuracy: 78.00%\n",
      "Epoch [36/400], Loss: 0.5697, Accuracy: 79.38%, Test Loss: 0.5965, Test Accuracy: 78.35%\n",
      "Epoch [37/400], Loss: 0.5635, Accuracy: 79.71%, Test Loss: 0.5847, Test Accuracy: 78.66%\n",
      "Epoch [38/400], Loss: 0.5579, Accuracy: 79.91%, Test Loss: 0.5813, Test Accuracy: 78.84%\n",
      "Epoch [39/400], Loss: 0.5514, Accuracy: 80.14%, Test Loss: 0.5732, Test Accuracy: 79.21%\n",
      "Epoch [40/400], Loss: 0.5463, Accuracy: 80.42%, Test Loss: 0.5711, Test Accuracy: 79.35%\n",
      "Epoch [41/400], Loss: 0.5402, Accuracy: 80.63%, Test Loss: 0.5665, Test Accuracy: 79.78%\n",
      "Epoch [42/400], Loss: 0.5365, Accuracy: 80.77%, Test Loss: 0.5603, Test Accuracy: 80.00%\n",
      "Epoch [43/400], Loss: 0.5310, Accuracy: 80.88%, Test Loss: 0.5594, Test Accuracy: 79.98%\n",
      "Epoch [44/400], Loss: 0.5266, Accuracy: 81.16%, Test Loss: 0.5551, Test Accuracy: 79.94%\n",
      "Epoch [45/400], Loss: 0.5223, Accuracy: 81.33%, Test Loss: 0.5484, Test Accuracy: 80.56%\n",
      "Epoch [46/400], Loss: 0.5171, Accuracy: 81.51%, Test Loss: 0.5472, Test Accuracy: 80.55%\n",
      "Epoch [47/400], Loss: 0.5136, Accuracy: 81.75%, Test Loss: 0.5406, Test Accuracy: 80.53%\n",
      "Epoch [48/400], Loss: 0.5102, Accuracy: 81.87%, Test Loss: 0.5400, Test Accuracy: 80.74%\n",
      "Epoch [49/400], Loss: 0.5064, Accuracy: 81.95%, Test Loss: 0.5385, Test Accuracy: 80.81%\n",
      "Epoch [50/400], Loss: 0.5019, Accuracy: 82.05%, Test Loss: 0.5353, Test Accuracy: 80.92%\n",
      "Epoch [51/400], Loss: 0.4983, Accuracy: 82.32%, Test Loss: 0.5365, Test Accuracy: 80.65%\n",
      "Epoch [52/400], Loss: 0.4955, Accuracy: 82.34%, Test Loss: 0.5246, Test Accuracy: 81.06%\n",
      "Epoch [53/400], Loss: 0.4904, Accuracy: 82.61%, Test Loss: 0.5219, Test Accuracy: 81.45%\n",
      "Epoch [54/400], Loss: 0.4889, Accuracy: 82.69%, Test Loss: 0.5176, Test Accuracy: 81.61%\n",
      "Epoch [55/400], Loss: 0.4856, Accuracy: 82.70%, Test Loss: 0.5163, Test Accuracy: 81.69%\n",
      "Epoch [56/400], Loss: 0.4813, Accuracy: 82.91%, Test Loss: 0.5141, Test Accuracy: 81.78%\n",
      "Epoch [57/400], Loss: 0.4796, Accuracy: 83.00%, Test Loss: 0.5111, Test Accuracy: 81.68%\n",
      "Epoch [58/400], Loss: 0.4753, Accuracy: 83.04%, Test Loss: 0.5079, Test Accuracy: 81.81%\n",
      "Epoch [59/400], Loss: 0.4721, Accuracy: 83.25%, Test Loss: 0.5074, Test Accuracy: 81.89%\n",
      "Epoch [60/400], Loss: 0.4696, Accuracy: 83.38%, Test Loss: 0.5099, Test Accuracy: 81.69%\n",
      "Epoch [61/400], Loss: 0.4674, Accuracy: 83.30%, Test Loss: 0.5156, Test Accuracy: 81.64%\n",
      "Epoch [62/400], Loss: 0.4636, Accuracy: 83.46%, Test Loss: 0.5004, Test Accuracy: 82.02%\n",
      "Epoch [63/400], Loss: 0.4615, Accuracy: 83.54%, Test Loss: 0.4983, Test Accuracy: 82.04%\n",
      "Epoch [64/400], Loss: 0.4594, Accuracy: 83.72%, Test Loss: 0.4956, Test Accuracy: 82.36%\n",
      "Epoch [65/400], Loss: 0.4568, Accuracy: 83.74%, Test Loss: 0.4923, Test Accuracy: 82.63%\n",
      "Epoch [66/400], Loss: 0.4543, Accuracy: 83.89%, Test Loss: 0.4904, Test Accuracy: 82.73%\n",
      "Epoch [67/400], Loss: 0.4543, Accuracy: 83.85%, Test Loss: 0.4974, Test Accuracy: 82.35%\n",
      "Epoch [68/400], Loss: 0.4505, Accuracy: 83.91%, Test Loss: 0.4845, Test Accuracy: 82.60%\n",
      "Epoch [69/400], Loss: 0.4483, Accuracy: 83.96%, Test Loss: 0.4840, Test Accuracy: 82.94%\n",
      "Epoch [70/400], Loss: 0.4467, Accuracy: 84.06%, Test Loss: 0.4800, Test Accuracy: 82.98%\n",
      "Epoch [71/400], Loss: 0.4432, Accuracy: 84.28%, Test Loss: 0.4861, Test Accuracy: 82.33%\n",
      "Epoch [72/400], Loss: 0.4417, Accuracy: 84.33%, Test Loss: 0.4823, Test Accuracy: 82.64%\n",
      "Epoch [73/400], Loss: 0.4381, Accuracy: 84.42%, Test Loss: 0.4793, Test Accuracy: 83.03%\n",
      "Epoch [74/400], Loss: 0.4370, Accuracy: 84.53%, Test Loss: 0.4741, Test Accuracy: 83.18%\n",
      "Epoch [75/400], Loss: 0.4370, Accuracy: 84.51%, Test Loss: 0.4922, Test Accuracy: 82.35%\n",
      "Epoch [76/400], Loss: 0.4329, Accuracy: 84.61%, Test Loss: 0.4684, Test Accuracy: 83.34%\n",
      "Epoch [77/400], Loss: 0.4324, Accuracy: 84.64%, Test Loss: 0.4681, Test Accuracy: 83.36%\n",
      "Epoch [78/400], Loss: 0.4285, Accuracy: 84.77%, Test Loss: 0.4647, Test Accuracy: 83.48%\n",
      "Epoch [79/400], Loss: 0.4275, Accuracy: 84.72%, Test Loss: 0.4662, Test Accuracy: 83.44%\n",
      "Epoch [80/400], Loss: 0.4247, Accuracy: 84.97%, Test Loss: 0.4827, Test Accuracy: 82.90%\n",
      "Epoch [81/400], Loss: 0.4265, Accuracy: 84.73%, Test Loss: 0.4669, Test Accuracy: 83.41%\n",
      "Epoch [82/400], Loss: 0.4247, Accuracy: 84.81%, Test Loss: 0.4628, Test Accuracy: 83.27%\n",
      "Epoch [83/400], Loss: 0.4185, Accuracy: 85.11%, Test Loss: 0.4577, Test Accuracy: 83.78%\n",
      "Epoch [84/400], Loss: 0.4169, Accuracy: 85.19%, Test Loss: 0.4558, Test Accuracy: 83.78%\n",
      "Epoch [85/400], Loss: 0.4201, Accuracy: 85.02%, Test Loss: 0.4570, Test Accuracy: 83.72%\n",
      "Epoch [86/400], Loss: 0.4128, Accuracy: 85.28%, Test Loss: 0.4518, Test Accuracy: 83.97%\n",
      "Epoch [87/400], Loss: 0.4112, Accuracy: 85.37%, Test Loss: 0.4653, Test Accuracy: 83.48%\n",
      "Epoch [88/400], Loss: 0.4117, Accuracy: 85.22%, Test Loss: 0.4970, Test Accuracy: 81.83%\n",
      "Epoch [89/400], Loss: 0.4145, Accuracy: 85.17%, Test Loss: 0.4563, Test Accuracy: 83.64%\n",
      "Epoch [90/400], Loss: 0.4112, Accuracy: 85.27%, Test Loss: 0.4804, Test Accuracy: 83.20%\n",
      "Epoch [91/400], Loss: 0.4107, Accuracy: 85.37%, Test Loss: 0.4479, Test Accuracy: 83.96%\n",
      "Epoch [92/400], Loss: 0.4054, Accuracy: 85.55%, Test Loss: 0.4510, Test Accuracy: 84.01%\n",
      "Epoch [93/400], Loss: 0.4056, Accuracy: 85.48%, Test Loss: 0.4466, Test Accuracy: 84.18%\n",
      "Epoch [94/400], Loss: 0.4022, Accuracy: 85.72%, Test Loss: 0.4438, Test Accuracy: 84.19%\n",
      "Epoch [95/400], Loss: 0.4029, Accuracy: 85.58%, Test Loss: 0.4683, Test Accuracy: 83.55%\n",
      "Epoch [96/400], Loss: 0.4028, Accuracy: 85.51%, Test Loss: 0.4442, Test Accuracy: 84.16%\n",
      "Epoch [97/400], Loss: 0.3978, Accuracy: 85.78%, Test Loss: 0.4488, Test Accuracy: 83.94%\n",
      "Epoch [98/400], Loss: 0.3948, Accuracy: 85.89%, Test Loss: 0.4381, Test Accuracy: 84.40%\n",
      "Epoch [99/400], Loss: 0.3949, Accuracy: 85.87%, Test Loss: 0.4423, Test Accuracy: 84.10%\n",
      "Epoch [100/400], Loss: 0.3946, Accuracy: 85.86%, Test Loss: 0.4401, Test Accuracy: 84.27%\n",
      "Epoch [101/400], Loss: 0.3960, Accuracy: 85.73%, Test Loss: 0.4334, Test Accuracy: 84.59%\n",
      "Epoch [102/400], Loss: 0.3960, Accuracy: 85.79%, Test Loss: 0.4370, Test Accuracy: 84.21%\n",
      "Epoch [103/400], Loss: 0.3895, Accuracy: 86.08%, Test Loss: 0.4296, Test Accuracy: 84.62%\n",
      "Epoch [104/400], Loss: 0.3862, Accuracy: 86.18%, Test Loss: 0.4293, Test Accuracy: 84.76%\n",
      "Epoch [105/400], Loss: 0.3875, Accuracy: 86.04%, Test Loss: 0.4287, Test Accuracy: 84.60%\n",
      "Epoch [106/400], Loss: 0.3874, Accuracy: 86.14%, Test Loss: 0.4263, Test Accuracy: 84.97%\n",
      "Epoch [107/400], Loss: 0.3887, Accuracy: 85.93%, Test Loss: 0.4346, Test Accuracy: 84.63%\n",
      "Epoch [108/400], Loss: 0.3874, Accuracy: 86.04%, Test Loss: 0.4503, Test Accuracy: 83.98%\n",
      "Epoch [109/400], Loss: 0.3865, Accuracy: 86.06%, Test Loss: 0.4257, Test Accuracy: 84.84%\n",
      "Epoch [110/400], Loss: 0.3878, Accuracy: 86.05%, Test Loss: 0.4264, Test Accuracy: 84.85%\n",
      "Epoch [111/400], Loss: 0.3797, Accuracy: 86.45%, Test Loss: 0.4227, Test Accuracy: 85.08%\n",
      "Epoch [112/400], Loss: 0.3770, Accuracy: 86.45%, Test Loss: 0.4323, Test Accuracy: 84.73%\n",
      "Epoch [113/400], Loss: 0.3769, Accuracy: 86.40%, Test Loss: 0.4203, Test Accuracy: 85.26%\n",
      "Epoch [114/400], Loss: 0.3747, Accuracy: 86.50%, Test Loss: 0.4232, Test Accuracy: 84.98%\n",
      "Epoch [115/400], Loss: 0.3734, Accuracy: 86.49%, Test Loss: 0.4285, Test Accuracy: 84.79%\n",
      "Epoch [116/400], Loss: 0.3734, Accuracy: 86.56%, Test Loss: 0.4161, Test Accuracy: 85.05%\n",
      "Epoch [117/400], Loss: 0.3755, Accuracy: 86.53%, Test Loss: 0.4198, Test Accuracy: 85.09%\n",
      "Epoch [118/400], Loss: 0.3693, Accuracy: 86.70%, Test Loss: 0.4217, Test Accuracy: 85.13%\n",
      "Epoch [119/400], Loss: 0.3776, Accuracy: 86.34%, Test Loss: 0.4277, Test Accuracy: 84.59%\n",
      "Epoch [120/400], Loss: 0.3698, Accuracy: 86.68%, Test Loss: 0.4431, Test Accuracy: 84.35%\n",
      "Epoch [121/400], Loss: 0.3674, Accuracy: 86.76%, Test Loss: 0.4162, Test Accuracy: 85.35%\n",
      "Epoch [122/400], Loss: 0.3661, Accuracy: 86.85%, Test Loss: 0.4184, Test Accuracy: 85.19%\n",
      "Epoch [123/400], Loss: 0.3650, Accuracy: 86.86%, Test Loss: 0.4122, Test Accuracy: 85.28%\n",
      "Epoch [124/400], Loss: 0.3664, Accuracy: 86.80%, Test Loss: 0.4228, Test Accuracy: 85.03%\n",
      "Epoch [125/400], Loss: 0.3638, Accuracy: 87.00%, Test Loss: 0.4104, Test Accuracy: 85.36%\n",
      "Epoch [126/400], Loss: 0.3604, Accuracy: 87.09%, Test Loss: 0.4105, Test Accuracy: 84.97%\n",
      "Epoch [127/400], Loss: 0.3606, Accuracy: 87.00%, Test Loss: 0.4220, Test Accuracy: 85.04%\n",
      "Epoch [128/400], Loss: 0.3714, Accuracy: 86.59%, Test Loss: 0.4123, Test Accuracy: 85.45%\n",
      "Epoch [129/400], Loss: 0.3570, Accuracy: 87.18%, Test Loss: 0.4184, Test Accuracy: 84.96%\n",
      "Epoch [130/400], Loss: 0.3564, Accuracy: 87.17%, Test Loss: 0.4064, Test Accuracy: 85.57%\n",
      "Epoch [131/400], Loss: 0.3578, Accuracy: 87.14%, Test Loss: 0.4036, Test Accuracy: 85.64%\n",
      "Epoch [132/400], Loss: 0.3603, Accuracy: 87.03%, Test Loss: 0.4099, Test Accuracy: 85.29%\n",
      "Epoch [133/400], Loss: 0.3576, Accuracy: 87.18%, Test Loss: 0.4540, Test Accuracy: 83.33%\n",
      "Epoch [134/400], Loss: 0.3546, Accuracy: 87.20%, Test Loss: 0.4011, Test Accuracy: 85.77%\n",
      "Epoch [135/400], Loss: 0.3558, Accuracy: 87.22%, Test Loss: 0.4176, Test Accuracy: 85.36%\n",
      "Epoch [136/400], Loss: 0.3508, Accuracy: 87.35%, Test Loss: 0.3982, Test Accuracy: 86.01%\n",
      "Epoch [137/400], Loss: 0.3552, Accuracy: 87.27%, Test Loss: 0.3997, Test Accuracy: 85.63%\n",
      "Epoch [138/400], Loss: 0.3490, Accuracy: 87.37%, Test Loss: 0.3978, Test Accuracy: 85.75%\n",
      "Epoch [139/400], Loss: 0.3517, Accuracy: 87.28%, Test Loss: 0.4008, Test Accuracy: 85.53%\n",
      "Epoch [140/400], Loss: 0.3486, Accuracy: 87.50%, Test Loss: 0.3965, Test Accuracy: 85.91%\n",
      "Epoch [141/400], Loss: 0.3479, Accuracy: 87.49%, Test Loss: 0.3955, Test Accuracy: 85.95%\n",
      "Epoch [142/400], Loss: 0.3491, Accuracy: 87.40%, Test Loss: 0.4042, Test Accuracy: 85.53%\n",
      "Epoch [143/400], Loss: 0.3494, Accuracy: 87.37%, Test Loss: 0.4473, Test Accuracy: 84.07%\n",
      "Epoch [144/400], Loss: 0.3642, Accuracy: 86.67%, Test Loss: 0.4051, Test Accuracy: 85.85%\n",
      "Epoch [145/400], Loss: 0.3431, Accuracy: 87.62%, Test Loss: 0.3986, Test Accuracy: 85.54%\n",
      "Epoch [146/400], Loss: 0.3468, Accuracy: 87.36%, Test Loss: 0.3946, Test Accuracy: 86.01%\n",
      "Epoch [147/400], Loss: 0.3467, Accuracy: 87.44%, Test Loss: 0.3907, Test Accuracy: 86.01%\n",
      "Epoch [148/400], Loss: 0.3407, Accuracy: 87.73%, Test Loss: 0.3905, Test Accuracy: 86.03%\n",
      "Epoch [149/400], Loss: 0.3396, Accuracy: 87.78%, Test Loss: 0.3899, Test Accuracy: 86.11%\n",
      "Epoch [150/400], Loss: 0.3361, Accuracy: 87.93%, Test Loss: 0.3910, Test Accuracy: 86.04%\n",
      "Epoch [151/400], Loss: 0.3393, Accuracy: 87.78%, Test Loss: 0.3903, Test Accuracy: 86.01%\n",
      "Epoch [152/400], Loss: 0.3372, Accuracy: 87.94%, Test Loss: 0.4278, Test Accuracy: 84.37%\n",
      "Epoch [153/400], Loss: 0.3546, Accuracy: 87.18%, Test Loss: 0.4023, Test Accuracy: 85.75%\n",
      "Epoch [154/400], Loss: 0.3428, Accuracy: 87.53%, Test Loss: 0.3914, Test Accuracy: 85.88%\n",
      "Epoch [155/400], Loss: 0.3307, Accuracy: 88.09%, Test Loss: 0.3895, Test Accuracy: 86.26%\n",
      "Epoch [156/400], Loss: 0.3357, Accuracy: 87.88%, Test Loss: 0.4031, Test Accuracy: 85.72%\n",
      "Epoch [157/400], Loss: 0.3473, Accuracy: 87.40%, Test Loss: 0.3860, Test Accuracy: 86.11%\n",
      "Epoch [158/400], Loss: 0.3292, Accuracy: 88.15%, Test Loss: 0.3892, Test Accuracy: 86.39%\n",
      "Epoch [159/400], Loss: 0.3289, Accuracy: 88.20%, Test Loss: 0.4006, Test Accuracy: 86.00%\n",
      "Epoch [160/400], Loss: 0.3346, Accuracy: 87.86%, Test Loss: 0.3973, Test Accuracy: 85.70%\n",
      "Epoch [161/400], Loss: 0.3282, Accuracy: 88.19%, Test Loss: 0.3862, Test Accuracy: 86.15%\n",
      "Epoch [162/400], Loss: 0.3327, Accuracy: 87.95%, Test Loss: 0.3831, Test Accuracy: 86.33%\n",
      "Epoch [163/400], Loss: 0.3301, Accuracy: 88.10%, Test Loss: 0.3813, Test Accuracy: 86.61%\n",
      "Epoch [164/400], Loss: 0.3244, Accuracy: 88.29%, Test Loss: 0.3916, Test Accuracy: 85.79%\n",
      "Epoch [165/400], Loss: 0.3256, Accuracy: 88.30%, Test Loss: 0.3814, Test Accuracy: 86.43%\n",
      "Epoch [166/400], Loss: 0.3333, Accuracy: 87.93%, Test Loss: 0.3862, Test Accuracy: 86.35%\n",
      "Epoch [167/400], Loss: 0.3236, Accuracy: 88.33%, Test Loss: 0.3799, Test Accuracy: 86.50%\n",
      "Epoch [168/400], Loss: 0.3341, Accuracy: 87.77%, Test Loss: 0.4622, Test Accuracy: 83.98%\n",
      "Epoch [169/400], Loss: 0.3265, Accuracy: 88.20%, Test Loss: 0.3912, Test Accuracy: 86.17%\n",
      "Epoch [170/400], Loss: 0.3211, Accuracy: 88.42%, Test Loss: 0.4033, Test Accuracy: 85.72%\n",
      "Epoch [171/400], Loss: 0.3212, Accuracy: 88.45%, Test Loss: 0.3870, Test Accuracy: 86.25%\n",
      "Epoch [172/400], Loss: 0.3168, Accuracy: 88.58%, Test Loss: 0.3901, Test Accuracy: 86.09%\n",
      "Epoch [173/400], Loss: 0.3178, Accuracy: 88.50%, Test Loss: 0.3872, Test Accuracy: 86.28%\n",
      "Epoch [174/400], Loss: 0.3263, Accuracy: 88.20%, Test Loss: 0.4044, Test Accuracy: 85.78%\n",
      "Epoch [175/400], Loss: 0.3198, Accuracy: 88.36%, Test Loss: 0.3763, Test Accuracy: 86.59%\n",
      "Epoch [176/400], Loss: 0.3181, Accuracy: 88.53%, Test Loss: 0.3877, Test Accuracy: 86.34%\n",
      "Epoch [177/400], Loss: 0.3255, Accuracy: 88.22%, Test Loss: 0.3761, Test Accuracy: 86.85%\n",
      "Epoch [178/400], Loss: 0.3146, Accuracy: 88.67%, Test Loss: 0.3784, Test Accuracy: 86.76%\n",
      "Epoch [179/400], Loss: 0.3191, Accuracy: 88.42%, Test Loss: 0.3759, Test Accuracy: 86.82%\n",
      "Epoch [180/400], Loss: 0.3165, Accuracy: 88.63%, Test Loss: 0.4016, Test Accuracy: 85.92%\n",
      "Epoch [181/400], Loss: 0.3167, Accuracy: 88.61%, Test Loss: 0.3735, Test Accuracy: 86.97%\n",
      "Epoch [182/400], Loss: 0.3237, Accuracy: 88.31%, Test Loss: 0.3882, Test Accuracy: 86.12%\n",
      "Epoch [183/400], Loss: 0.3212, Accuracy: 88.31%, Test Loss: 0.3849, Test Accuracy: 86.32%\n",
      "Epoch [184/400], Loss: 0.3105, Accuracy: 88.77%, Test Loss: 0.3738, Test Accuracy: 86.67%\n",
      "Epoch [185/400], Loss: 0.3096, Accuracy: 88.83%, Test Loss: 0.3813, Test Accuracy: 86.34%\n",
      "Epoch [186/400], Loss: 0.3134, Accuracy: 88.57%, Test Loss: 0.3797, Test Accuracy: 86.56%\n",
      "Epoch [187/400], Loss: 0.3107, Accuracy: 88.70%, Test Loss: 0.3710, Test Accuracy: 86.89%\n",
      "Epoch [188/400], Loss: 0.3114, Accuracy: 88.80%, Test Loss: 0.3704, Test Accuracy: 86.76%\n",
      "Epoch [189/400], Loss: 0.3097, Accuracy: 88.83%, Test Loss: 0.4500, Test Accuracy: 83.68%\n",
      "Epoch [190/400], Loss: 0.3285, Accuracy: 88.05%, Test Loss: 0.3687, Test Accuracy: 86.87%\n",
      "Epoch [191/400], Loss: 0.3088, Accuracy: 88.89%, Test Loss: 0.3710, Test Accuracy: 86.82%\n",
      "Epoch [192/400], Loss: 0.3115, Accuracy: 88.79%, Test Loss: 0.4054, Test Accuracy: 85.61%\n",
      "Epoch [193/400], Loss: 0.3105, Accuracy: 88.75%, Test Loss: 0.3787, Test Accuracy: 86.65%\n",
      "Epoch [194/400], Loss: 0.3041, Accuracy: 89.04%, Test Loss: 0.3797, Test Accuracy: 86.36%\n",
      "Epoch [195/400], Loss: 0.3024, Accuracy: 89.14%, Test Loss: 0.3667, Test Accuracy: 86.89%\n",
      "Epoch [196/400], Loss: 0.3001, Accuracy: 89.19%, Test Loss: 0.3686, Test Accuracy: 86.77%\n",
      "Epoch [197/400], Loss: 0.3113, Accuracy: 88.67%, Test Loss: 0.4401, Test Accuracy: 84.43%\n",
      "Epoch [198/400], Loss: 0.3075, Accuracy: 88.87%, Test Loss: 0.3904, Test Accuracy: 86.13%\n",
      "Epoch [199/400], Loss: 0.3013, Accuracy: 89.10%, Test Loss: 0.3671, Test Accuracy: 87.04%\n",
      "Epoch [200/400], Loss: 0.2993, Accuracy: 89.15%, Test Loss: 0.3709, Test Accuracy: 86.81%\n",
      "Epoch [201/400], Loss: 0.2984, Accuracy: 89.23%, Test Loss: 0.3785, Test Accuracy: 86.71%\n",
      "Epoch [202/400], Loss: 0.2989, Accuracy: 89.18%, Test Loss: 0.3983, Test Accuracy: 85.62%\n",
      "Epoch [203/400], Loss: 0.2997, Accuracy: 89.15%, Test Loss: 0.3747, Test Accuracy: 86.77%\n",
      "Epoch [204/400], Loss: 0.2994, Accuracy: 89.14%, Test Loss: 0.3642, Test Accuracy: 86.97%\n",
      "Epoch [205/400], Loss: 0.2971, Accuracy: 89.28%, Test Loss: 0.4444, Test Accuracy: 83.93%\n",
      "Epoch [206/400], Loss: 0.3072, Accuracy: 88.80%, Test Loss: 0.3649, Test Accuracy: 87.07%\n",
      "Epoch [207/400], Loss: 0.2993, Accuracy: 89.25%, Test Loss: 0.3645, Test Accuracy: 87.12%\n",
      "Epoch [208/400], Loss: 0.2962, Accuracy: 89.30%, Test Loss: 0.3674, Test Accuracy: 86.86%\n",
      "Epoch [209/400], Loss: 0.2977, Accuracy: 89.32%, Test Loss: 0.3764, Test Accuracy: 86.55%\n",
      "Epoch [210/400], Loss: 0.3002, Accuracy: 89.16%, Test Loss: 0.3868, Test Accuracy: 86.14%\n",
      "Epoch [211/400], Loss: 0.2969, Accuracy: 89.35%, Test Loss: 0.3680, Test Accuracy: 86.98%\n",
      "Epoch [212/400], Loss: 0.2984, Accuracy: 89.20%, Test Loss: 0.3678, Test Accuracy: 86.94%\n",
      "Epoch [213/400], Loss: 0.2936, Accuracy: 89.44%, Test Loss: 0.3614, Test Accuracy: 87.20%\n",
      "Epoch [214/400], Loss: 0.2901, Accuracy: 89.50%, Test Loss: 0.3753, Test Accuracy: 86.52%\n",
      "Epoch [215/400], Loss: 0.2916, Accuracy: 89.50%, Test Loss: 0.3709, Test Accuracy: 86.76%\n",
      "Epoch [216/400], Loss: 0.2935, Accuracy: 89.31%, Test Loss: 0.3733, Test Accuracy: 86.72%\n",
      "Epoch [217/400], Loss: 0.2885, Accuracy: 89.50%, Test Loss: 0.3601, Test Accuracy: 87.32%\n",
      "Epoch [218/400], Loss: 0.3598, Accuracy: 87.75%, Test Loss: 0.3590, Test Accuracy: 87.15%\n",
      "Epoch [219/400], Loss: 0.2871, Accuracy: 89.64%, Test Loss: 0.3601, Test Accuracy: 87.05%\n",
      "Epoch [220/400], Loss: 0.2853, Accuracy: 89.76%, Test Loss: 0.3730, Test Accuracy: 86.62%\n",
      "Epoch [221/400], Loss: 0.2863, Accuracy: 89.76%, Test Loss: 0.3673, Test Accuracy: 87.05%\n",
      "Epoch [222/400], Loss: 0.2836, Accuracy: 89.66%, Test Loss: 0.3687, Test Accuracy: 86.98%\n",
      "Epoch [223/400], Loss: 0.2910, Accuracy: 89.47%, Test Loss: 0.3574, Test Accuracy: 87.44%\n",
      "Epoch [224/400], Loss: 0.2851, Accuracy: 89.70%, Test Loss: 0.3631, Test Accuracy: 86.91%\n",
      "Epoch [225/400], Loss: 0.2844, Accuracy: 89.76%, Test Loss: 0.3605, Test Accuracy: 87.20%\n",
      "Epoch [226/400], Loss: 0.2837, Accuracy: 89.74%, Test Loss: 0.3729, Test Accuracy: 86.66%\n",
      "Epoch [227/400], Loss: 0.2885, Accuracy: 89.51%, Test Loss: 0.3752, Test Accuracy: 86.62%\n",
      "Epoch [228/400], Loss: 0.2866, Accuracy: 89.59%, Test Loss: 0.3690, Test Accuracy: 86.92%\n",
      "Epoch [229/400], Loss: 0.2928, Accuracy: 89.39%, Test Loss: 0.3810, Test Accuracy: 86.38%\n",
      "Epoch [230/400], Loss: 0.2831, Accuracy: 89.67%, Test Loss: 0.3626, Test Accuracy: 87.10%\n",
      "Epoch [231/400], Loss: 0.2801, Accuracy: 89.90%, Test Loss: 0.3734, Test Accuracy: 86.69%\n",
      "Epoch [232/400], Loss: 0.3265, Accuracy: 88.39%, Test Loss: 0.3683, Test Accuracy: 86.73%\n",
      "Epoch [233/400], Loss: 0.2822, Accuracy: 89.89%, Test Loss: 0.3573, Test Accuracy: 87.35%\n",
      "Epoch [234/400], Loss: 0.2812, Accuracy: 89.84%, Test Loss: 0.3591, Test Accuracy: 87.10%\n",
      "Epoch [235/400], Loss: 0.2793, Accuracy: 89.91%, Test Loss: 0.3582, Test Accuracy: 87.22%\n",
      "Epoch [236/400], Loss: 0.2827, Accuracy: 89.71%, Test Loss: 0.3548, Test Accuracy: 87.43%\n",
      "Epoch [237/400], Loss: 0.2810, Accuracy: 89.83%, Test Loss: 0.3528, Test Accuracy: 87.47%\n",
      "Epoch [238/400], Loss: 0.2838, Accuracy: 89.75%, Test Loss: 0.3579, Test Accuracy: 87.30%\n",
      "Epoch [239/400], Loss: 0.2813, Accuracy: 89.84%, Test Loss: 0.3610, Test Accuracy: 87.32%\n",
      "Epoch [240/400], Loss: 0.2746, Accuracy: 90.08%, Test Loss: 0.3862, Test Accuracy: 86.36%\n",
      "Epoch [241/400], Loss: 0.2751, Accuracy: 90.02%, Test Loss: 0.3584, Test Accuracy: 87.27%\n",
      "Epoch [242/400], Loss: 0.2746, Accuracy: 90.10%, Test Loss: 0.3608, Test Accuracy: 87.21%\n",
      "Epoch [243/400], Loss: 0.2750, Accuracy: 90.09%, Test Loss: 0.3760, Test Accuracy: 86.84%\n",
      "Epoch [244/400], Loss: 0.2829, Accuracy: 89.69%, Test Loss: 0.3571, Test Accuracy: 87.21%\n",
      "Epoch [245/400], Loss: 0.2711, Accuracy: 90.28%, Test Loss: 0.3660, Test Accuracy: 86.98%\n",
      "Epoch [246/400], Loss: 0.2773, Accuracy: 89.95%, Test Loss: 0.3715, Test Accuracy: 86.78%\n",
      "Epoch [247/400], Loss: 0.3031, Accuracy: 89.12%, Test Loss: 0.3581, Test Accuracy: 87.28%\n",
      "Epoch [248/400], Loss: 0.2704, Accuracy: 90.27%, Test Loss: 0.3602, Test Accuracy: 87.22%\n",
      "Epoch [249/400], Loss: 0.2694, Accuracy: 90.35%, Test Loss: 0.3586, Test Accuracy: 87.34%\n",
      "Epoch [250/400], Loss: 0.2689, Accuracy: 90.25%, Test Loss: 0.3551, Test Accuracy: 87.39%\n",
      "Epoch [251/400], Loss: 0.2705, Accuracy: 90.25%, Test Loss: 0.3709, Test Accuracy: 86.67%\n",
      "Epoch [252/400], Loss: 0.2707, Accuracy: 90.24%, Test Loss: 0.3740, Test Accuracy: 86.57%\n",
      "Epoch [253/400], Loss: 0.2693, Accuracy: 90.26%, Test Loss: 0.3545, Test Accuracy: 87.39%\n",
      "Epoch [254/400], Loss: 0.2824, Accuracy: 89.78%, Test Loss: 0.8567, Test Accuracy: 72.91%\n",
      "Epoch [255/400], Loss: 0.3179, Accuracy: 89.02%, Test Loss: 0.3591, Test Accuracy: 87.23%\n",
      "Epoch [256/400], Loss: 0.2632, Accuracy: 90.53%, Test Loss: 0.3722, Test Accuracy: 86.83%\n",
      "Epoch [257/400], Loss: 0.2660, Accuracy: 90.42%, Test Loss: 0.3504, Test Accuracy: 87.55%\n",
      "Epoch [258/400], Loss: 0.2666, Accuracy: 90.42%, Test Loss: 0.3891, Test Accuracy: 86.55%\n",
      "Epoch [259/400], Loss: 0.2693, Accuracy: 90.30%, Test Loss: 0.3573, Test Accuracy: 87.28%\n",
      "Epoch [260/400], Loss: 0.2646, Accuracy: 90.42%, Test Loss: 0.3486, Test Accuracy: 87.62%\n",
      "Epoch [261/400], Loss: 0.2657, Accuracy: 90.30%, Test Loss: 0.3495, Test Accuracy: 87.60%\n",
      "Epoch [262/400], Loss: 0.2658, Accuracy: 90.38%, Test Loss: 0.3570, Test Accuracy: 87.51%\n",
      "Epoch [263/400], Loss: 0.3045, Accuracy: 89.24%, Test Loss: 0.3561, Test Accuracy: 87.27%\n",
      "Epoch [264/400], Loss: 0.2627, Accuracy: 90.55%, Test Loss: 0.3489, Test Accuracy: 87.73%\n",
      "Epoch [265/400], Loss: 0.2615, Accuracy: 90.53%, Test Loss: 0.3591, Test Accuracy: 87.36%\n",
      "Epoch [266/400], Loss: 0.2739, Accuracy: 90.02%, Test Loss: 0.3526, Test Accuracy: 87.38%\n",
      "Epoch [267/400], Loss: 0.2594, Accuracy: 90.60%, Test Loss: 0.3675, Test Accuracy: 86.57%\n",
      "Epoch [268/400], Loss: 0.2628, Accuracy: 90.48%, Test Loss: 0.3592, Test Accuracy: 87.44%\n",
      "Epoch [269/400], Loss: 0.2653, Accuracy: 90.38%, Test Loss: 0.3931, Test Accuracy: 85.91%\n",
      "Epoch [270/400], Loss: 0.2596, Accuracy: 90.65%, Test Loss: 0.3547, Test Accuracy: 87.38%\n",
      "Epoch [271/400], Loss: 0.2620, Accuracy: 90.60%, Test Loss: 0.3516, Test Accuracy: 87.53%\n",
      "Epoch [272/400], Loss: 0.2606, Accuracy: 90.58%, Test Loss: 0.3720, Test Accuracy: 86.70%\n",
      "Epoch [273/400], Loss: 0.2686, Accuracy: 90.22%, Test Loss: 0.4244, Test Accuracy: 84.75%\n",
      "Epoch [274/400], Loss: 0.2694, Accuracy: 90.28%, Test Loss: 0.3455, Test Accuracy: 87.71%\n",
      "Epoch [275/400], Loss: 0.2547, Accuracy: 90.83%, Test Loss: 0.3513, Test Accuracy: 87.58%\n",
      "Epoch [276/400], Loss: 0.2676, Accuracy: 90.18%, Test Loss: 0.3520, Test Accuracy: 87.69%\n",
      "Epoch [277/400], Loss: 0.2572, Accuracy: 90.72%, Test Loss: 0.3495, Test Accuracy: 87.52%\n",
      "Epoch [278/400], Loss: 0.2541, Accuracy: 90.82%, Test Loss: 0.3535, Test Accuracy: 87.72%\n",
      "Epoch [279/400], Loss: 0.2576, Accuracy: 90.63%, Test Loss: 0.3530, Test Accuracy: 87.56%\n",
      "Epoch [280/400], Loss: 0.2582, Accuracy: 90.60%, Test Loss: 0.3486, Test Accuracy: 87.73%\n",
      "Epoch [281/400], Loss: 0.2618, Accuracy: 90.43%, Test Loss: 0.3425, Test Accuracy: 87.83%\n",
      "Epoch [282/400], Loss: 0.2672, Accuracy: 90.36%, Test Loss: 0.3478, Test Accuracy: 87.67%\n",
      "Epoch [283/400], Loss: 0.2560, Accuracy: 90.67%, Test Loss: 0.3624, Test Accuracy: 87.13%\n",
      "Epoch [284/400], Loss: 0.2543, Accuracy: 90.78%, Test Loss: 0.3488, Test Accuracy: 87.66%\n",
      "Epoch [285/400], Loss: 0.2552, Accuracy: 90.81%, Test Loss: 0.3534, Test Accuracy: 87.35%\n",
      "Epoch [286/400], Loss: 0.2589, Accuracy: 90.65%, Test Loss: 0.3632, Test Accuracy: 87.26%\n",
      "Epoch [287/400], Loss: 0.2540, Accuracy: 90.72%, Test Loss: 0.3462, Test Accuracy: 87.72%\n",
      "Epoch [288/400], Loss: 0.2474, Accuracy: 91.11%, Test Loss: 0.3622, Test Accuracy: 86.90%\n",
      "Epoch [289/400], Loss: 0.2506, Accuracy: 90.90%, Test Loss: 0.3451, Test Accuracy: 87.81%\n",
      "Epoch [290/400], Loss: 0.2628, Accuracy: 90.44%, Test Loss: 0.3431, Test Accuracy: 87.86%\n",
      "Epoch [291/400], Loss: 0.2486, Accuracy: 91.01%, Test Loss: 0.3576, Test Accuracy: 87.43%\n",
      "Epoch [292/400], Loss: 0.3035, Accuracy: 89.52%, Test Loss: 0.3538, Test Accuracy: 87.19%\n",
      "Epoch [293/400], Loss: 0.2470, Accuracy: 91.13%, Test Loss: 0.3424, Test Accuracy: 87.72%\n",
      "Epoch [294/400], Loss: 0.2462, Accuracy: 91.11%, Test Loss: 0.3663, Test Accuracy: 87.10%\n",
      "Epoch [295/400], Loss: 0.2494, Accuracy: 90.96%, Test Loss: 0.3453, Test Accuracy: 87.76%\n",
      "Epoch [296/400], Loss: 0.2571, Accuracy: 90.63%, Test Loss: 0.3610, Test Accuracy: 87.12%\n",
      "Epoch [297/400], Loss: 0.2481, Accuracy: 91.07%, Test Loss: 0.3646, Test Accuracy: 86.92%\n",
      "Epoch [298/400], Loss: 0.2548, Accuracy: 90.69%, Test Loss: 0.3482, Test Accuracy: 87.44%\n",
      "Epoch [299/400], Loss: 0.2701, Accuracy: 90.34%, Test Loss: 0.4390, Test Accuracy: 85.15%\n",
      "Epoch [300/400], Loss: 0.2513, Accuracy: 90.89%, Test Loss: 0.3477, Test Accuracy: 87.72%\n",
      "Epoch [301/400], Loss: 0.2408, Accuracy: 91.38%, Test Loss: 0.3416, Test Accuracy: 87.81%\n",
      "Epoch [302/400], Loss: 0.2446, Accuracy: 91.14%, Test Loss: 0.3412, Test Accuracy: 87.93%\n",
      "Epoch [303/400], Loss: 0.2518, Accuracy: 90.89%, Test Loss: 0.3427, Test Accuracy: 87.92%\n",
      "Epoch [304/400], Loss: 0.2606, Accuracy: 90.57%, Test Loss: 0.3450, Test Accuracy: 87.78%\n",
      "Epoch [305/400], Loss: 0.2456, Accuracy: 91.15%, Test Loss: 0.3637, Test Accuracy: 87.05%\n",
      "Epoch [306/400], Loss: 0.2473, Accuracy: 91.13%, Test Loss: 0.3418, Test Accuracy: 87.91%\n",
      "Epoch [307/400], Loss: 0.2420, Accuracy: 91.23%, Test Loss: 0.3585, Test Accuracy: 86.91%\n",
      "Epoch [308/400], Loss: 0.2462, Accuracy: 91.12%, Test Loss: 0.3487, Test Accuracy: 87.62%\n",
      "Epoch [309/400], Loss: 0.2455, Accuracy: 90.96%, Test Loss: 0.3560, Test Accuracy: 87.15%\n",
      "Epoch [310/400], Loss: 0.2378, Accuracy: 91.43%, Test Loss: 0.3496, Test Accuracy: 87.78%\n",
      "Epoch [311/400], Loss: 0.2503, Accuracy: 90.93%, Test Loss: 0.3660, Test Accuracy: 86.90%\n",
      "Epoch [312/400], Loss: 0.2429, Accuracy: 91.20%, Test Loss: 0.3450, Test Accuracy: 87.67%\n",
      "Epoch [313/400], Loss: 0.2565, Accuracy: 90.54%, Test Loss: 0.3468, Test Accuracy: 87.82%\n",
      "Epoch [314/400], Loss: 0.2378, Accuracy: 91.37%, Test Loss: 0.3508, Test Accuracy: 87.56%\n",
      "Epoch [315/400], Loss: 0.2357, Accuracy: 91.44%, Test Loss: 0.3596, Test Accuracy: 87.31%\n",
      "Epoch [316/400], Loss: 0.2543, Accuracy: 90.71%, Test Loss: 0.3470, Test Accuracy: 87.54%\n",
      "Epoch [317/400], Loss: 0.2956, Accuracy: 89.70%, Test Loss: 0.3444, Test Accuracy: 87.78%\n",
      "Epoch [318/400], Loss: 0.2401, Accuracy: 91.30%, Test Loss: 0.3628, Test Accuracy: 87.00%\n",
      "Epoch [319/400], Loss: 0.2352, Accuracy: 91.57%, Test Loss: 0.3448, Test Accuracy: 87.81%\n",
      "Epoch [320/400], Loss: 0.2345, Accuracy: 91.55%, Test Loss: 0.3549, Test Accuracy: 87.62%\n",
      "Epoch [321/400], Loss: 0.2409, Accuracy: 91.26%, Test Loss: 0.3600, Test Accuracy: 87.01%\n",
      "Epoch [322/400], Loss: 0.2357, Accuracy: 91.45%, Test Loss: 0.3629, Test Accuracy: 87.01%\n",
      "Epoch [323/400], Loss: 0.2457, Accuracy: 91.03%, Test Loss: 0.3466, Test Accuracy: 87.75%\n",
      "Epoch [324/400], Loss: 0.2366, Accuracy: 91.45%, Test Loss: 0.3444, Test Accuracy: 87.57%\n",
      "Epoch [325/400], Loss: 0.2915, Accuracy: 89.89%, Test Loss: 0.3402, Test Accuracy: 87.87%\n",
      "Epoch [326/400], Loss: 0.2310, Accuracy: 91.68%, Test Loss: 0.3413, Test Accuracy: 87.91%\n",
      "Epoch [327/400], Loss: 0.2350, Accuracy: 91.40%, Test Loss: 0.3378, Test Accuracy: 88.12%\n",
      "Epoch [328/400], Loss: 0.2356, Accuracy: 91.48%, Test Loss: 0.3780, Test Accuracy: 86.81%\n",
      "Epoch [329/400], Loss: 0.2334, Accuracy: 91.50%, Test Loss: 0.3413, Test Accuracy: 87.87%\n",
      "Epoch [330/400], Loss: 0.2304, Accuracy: 91.63%, Test Loss: 0.3478, Test Accuracy: 87.65%\n",
      "Epoch [331/400], Loss: 0.2298, Accuracy: 91.69%, Test Loss: 0.3443, Test Accuracy: 87.77%\n",
      "Epoch [332/400], Loss: 0.2316, Accuracy: 91.61%, Test Loss: 0.3645, Test Accuracy: 87.44%\n",
      "Epoch [333/400], Loss: 0.2326, Accuracy: 91.53%, Test Loss: 0.3405, Test Accuracy: 88.06%\n",
      "Epoch [334/400], Loss: 0.2332, Accuracy: 91.58%, Test Loss: 0.4456, Test Accuracy: 84.42%\n",
      "Epoch [335/400], Loss: 0.2420, Accuracy: 91.09%, Test Loss: 0.3616, Test Accuracy: 87.02%\n",
      "Epoch [336/400], Loss: 0.2322, Accuracy: 91.65%, Test Loss: 0.4008, Test Accuracy: 85.90%\n",
      "Epoch [337/400], Loss: 0.2347, Accuracy: 91.51%, Test Loss: 0.3537, Test Accuracy: 87.68%\n",
      "Epoch [338/400], Loss: 0.2331, Accuracy: 91.59%, Test Loss: 0.4410, Test Accuracy: 84.45%\n",
      "Epoch [339/400], Loss: 0.2844, Accuracy: 90.24%, Test Loss: 0.3392, Test Accuracy: 88.00%\n",
      "Epoch [340/400], Loss: 0.2258, Accuracy: 91.80%, Test Loss: 0.3454, Test Accuracy: 87.87%\n",
      "Epoch [341/400], Loss: 0.2258, Accuracy: 91.79%, Test Loss: 0.3446, Test Accuracy: 87.96%\n",
      "Epoch [342/400], Loss: 0.2273, Accuracy: 91.78%, Test Loss: 0.3636, Test Accuracy: 87.21%\n",
      "Epoch [343/400], Loss: 0.2311, Accuracy: 91.54%, Test Loss: 0.4222, Test Accuracy: 85.38%\n",
      "Epoch [344/400], Loss: 0.2318, Accuracy: 91.56%, Test Loss: 0.3530, Test Accuracy: 87.44%\n",
      "Epoch [345/400], Loss: 0.2283, Accuracy: 91.68%, Test Loss: 0.3419, Test Accuracy: 88.12%\n",
      "Epoch [346/400], Loss: 0.2293, Accuracy: 91.77%, Test Loss: 0.3741, Test Accuracy: 86.79%\n",
      "Epoch [347/400], Loss: 0.2262, Accuracy: 91.88%, Test Loss: 0.3362, Test Accuracy: 88.02%\n",
      "Epoch [348/400], Loss: 0.2266, Accuracy: 91.67%, Test Loss: 0.3760, Test Accuracy: 86.56%\n",
      "Epoch [349/400], Loss: 0.2341, Accuracy: 91.45%, Test Loss: 0.4949, Test Accuracy: 83.51%\n",
      "Epoch [350/400], Loss: 0.2493, Accuracy: 91.12%, Test Loss: 0.3368, Test Accuracy: 87.99%\n",
      "Epoch [351/400], Loss: 0.2278, Accuracy: 91.73%, Test Loss: 0.3526, Test Accuracy: 87.77%\n",
      "Epoch [352/400], Loss: 0.2322, Accuracy: 91.57%, Test Loss: 0.3651, Test Accuracy: 86.90%\n",
      "Epoch [353/400], Loss: 0.2201, Accuracy: 92.01%, Test Loss: 0.3441, Test Accuracy: 87.56%\n",
      "Epoch [354/400], Loss: 0.2270, Accuracy: 91.70%, Test Loss: 0.3622, Test Accuracy: 87.26%\n",
      "Epoch [355/400], Loss: 0.2665, Accuracy: 90.49%, Test Loss: 0.3392, Test Accuracy: 88.06%\n",
      "Epoch [356/400], Loss: 0.2192, Accuracy: 92.16%, Test Loss: 0.3568, Test Accuracy: 87.37%\n",
      "Epoch [357/400], Loss: 0.2270, Accuracy: 91.72%, Test Loss: 0.3378, Test Accuracy: 88.16%\n",
      "Epoch [358/400], Loss: 0.2143, Accuracy: 92.33%, Test Loss: 0.3603, Test Accuracy: 87.22%\n",
      "Epoch [359/400], Loss: 0.2192, Accuracy: 92.03%, Test Loss: 0.3366, Test Accuracy: 88.18%\n",
      "Epoch [360/400], Loss: 0.2326, Accuracy: 91.57%, Test Loss: 0.3521, Test Accuracy: 87.64%\n",
      "Epoch [361/400], Loss: 0.2205, Accuracy: 92.00%, Test Loss: 0.3365, Test Accuracy: 88.21%\n",
      "Epoch [362/400], Loss: 0.2160, Accuracy: 92.23%, Test Loss: 0.3519, Test Accuracy: 87.36%\n",
      "Epoch [363/400], Loss: 0.2193, Accuracy: 92.06%, Test Loss: 0.3387, Test Accuracy: 88.13%\n",
      "Epoch [364/400], Loss: 0.2193, Accuracy: 92.08%, Test Loss: 0.3728, Test Accuracy: 86.84%\n",
      "Epoch [365/400], Loss: 0.2336, Accuracy: 91.50%, Test Loss: 0.4692, Test Accuracy: 84.00%\n",
      "Epoch [366/400], Loss: 0.2709, Accuracy: 90.71%, Test Loss: 0.3348, Test Accuracy: 88.25%\n",
      "Epoch [367/400], Loss: 0.2164, Accuracy: 92.20%, Test Loss: 0.3658, Test Accuracy: 87.33%\n",
      "Epoch [368/400], Loss: 0.2087, Accuracy: 92.57%, Test Loss: 0.3373, Test Accuracy: 88.09%\n",
      "Epoch [369/400], Loss: 0.2144, Accuracy: 92.32%, Test Loss: 0.3445, Test Accuracy: 87.60%\n",
      "Epoch [370/400], Loss: 0.2560, Accuracy: 90.85%, Test Loss: 0.3372, Test Accuracy: 87.93%\n",
      "Epoch [371/400], Loss: 0.2143, Accuracy: 92.32%, Test Loss: 0.3828, Test Accuracy: 86.65%\n",
      "Epoch [372/400], Loss: 0.2180, Accuracy: 92.13%, Test Loss: 0.3487, Test Accuracy: 87.73%\n",
      "Epoch [373/400], Loss: 0.2115, Accuracy: 92.34%, Test Loss: 0.3433, Test Accuracy: 87.91%\n",
      "Epoch [374/400], Loss: 0.2181, Accuracy: 92.09%, Test Loss: 0.3485, Test Accuracy: 87.59%\n",
      "Epoch [375/400], Loss: 0.2129, Accuracy: 92.39%, Test Loss: 0.3567, Test Accuracy: 87.33%\n",
      "Epoch [376/400], Loss: 0.2262, Accuracy: 91.71%, Test Loss: 0.3368, Test Accuracy: 88.05%\n",
      "Epoch [377/400], Loss: 0.2118, Accuracy: 92.36%, Test Loss: 0.3348, Test Accuracy: 88.20%\n",
      "Epoch [378/400], Loss: 0.2138, Accuracy: 92.22%, Test Loss: 0.3348, Test Accuracy: 88.39%\n",
      "Epoch [379/400], Loss: 0.2133, Accuracy: 92.30%, Test Loss: 0.3354, Test Accuracy: 88.19%\n",
      "Epoch [380/400], Loss: 0.2126, Accuracy: 92.31%, Test Loss: 0.3370, Test Accuracy: 88.25%\n",
      "Epoch [381/400], Loss: 0.2101, Accuracy: 92.40%, Test Loss: 0.3404, Test Accuracy: 88.04%\n",
      "Epoch [382/400], Loss: 0.2118, Accuracy: 92.31%, Test Loss: 0.3531, Test Accuracy: 87.63%\n",
      "Epoch [383/400], Loss: 0.2119, Accuracy: 92.39%, Test Loss: 0.3387, Test Accuracy: 88.00%\n",
      "Epoch [384/400], Loss: 0.2135, Accuracy: 92.28%, Test Loss: 0.3380, Test Accuracy: 88.10%\n",
      "Epoch [385/400], Loss: 0.2652, Accuracy: 90.66%, Test Loss: 0.3847, Test Accuracy: 86.37%\n",
      "Epoch [386/400], Loss: 0.2064, Accuracy: 92.61%, Test Loss: 0.3314, Test Accuracy: 88.45%\n",
      "Epoch [387/400], Loss: 0.2464, Accuracy: 91.15%, Test Loss: 0.3380, Test Accuracy: 88.22%\n",
      "Epoch [388/400], Loss: 0.2059, Accuracy: 92.73%, Test Loss: 0.3502, Test Accuracy: 87.60%\n",
      "Epoch [389/400], Loss: 0.2019, Accuracy: 92.72%, Test Loss: 0.3339, Test Accuracy: 88.37%\n",
      "Epoch [390/400], Loss: 0.2074, Accuracy: 92.51%, Test Loss: 0.3347, Test Accuracy: 88.04%\n",
      "Epoch [391/400], Loss: 0.2150, Accuracy: 92.17%, Test Loss: 0.3475, Test Accuracy: 87.62%\n",
      "Epoch [392/400], Loss: 0.2112, Accuracy: 92.28%, Test Loss: 0.3430, Test Accuracy: 87.94%\n",
      "Epoch [393/400], Loss: 0.1997, Accuracy: 92.89%, Test Loss: 0.3732, Test Accuracy: 86.86%\n",
      "Epoch [394/400], Loss: 0.2883, Accuracy: 90.81%, Test Loss: 0.3879, Test Accuracy: 86.31%\n",
      "Epoch [395/400], Loss: 0.2155, Accuracy: 92.31%, Test Loss: 0.3429, Test Accuracy: 87.79%\n",
      "Epoch [396/400], Loss: 0.2030, Accuracy: 92.72%, Test Loss: 0.3378, Test Accuracy: 88.00%\n",
      "Epoch [397/400], Loss: 0.2045, Accuracy: 92.64%, Test Loss: 0.3374, Test Accuracy: 87.99%\n",
      "Epoch [398/400], Loss: 0.2027, Accuracy: 92.72%, Test Loss: 0.3580, Test Accuracy: 87.25%\n",
      "Epoch [399/400], Loss: 0.2000, Accuracy: 92.89%, Test Loss: 0.3429, Test Accuracy: 87.73%\n",
      "Epoch [400/400], Loss: 0.2081, Accuracy: 92.39%, Test Loss: 0.3375, Test Accuracy: 88.15%\n"
     ]
    }
   ],
   "source": [
    "# train\n",
    "for epoch in range(max_epoch):\n",
    "    running_loss = 0.0\n",
    "    running_correct = 0   # to track number of correct predictions\n",
    "    total = 0             # to track total number of samples\n",
    "\n",
    "    for i, (inputs, labels) in enumerate(trainloader, 0):\n",
    "        # Move inputs and labels to the device\n",
    "        inputs, labels = inputs.to(device), labels.to(device)\n",
    "\n",
    "        # Zero the parameter gradients\n",
    "        optimizer.zero_grad()\n",
    "\n",
    "        # Forward pass\n",
    "        outputs = model(inputs)\n",
    "        loss = criterion(outputs, labels)\n",
    "        running_loss += loss.item()\n",
    "\n",
    "        # Determine class predictions and track accuracy\n",
    "        _, predicted = torch.max(outputs.data, 1)\n",
    "        total += labels.size(0)\n",
    "        running_correct += (predicted == labels).sum().item()\n",
    "\n",
    "        # Backward pass and optimization\n",
    "        loss.backward()\n",
    "        optimizer.step()        \n",
    "\n",
    "    epoch_accuracy = 100 * running_correct / total\n",
    "    epoch_loss = running_loss / (i + 1)\n",
    "    test_loss, test_accuracy = evaluate(model, testloader, criterion)\n",
    "    print(f\"Epoch [{epoch + 1}/{max_epoch}], Loss: {epoch_loss:.4f}, Accuracy: {epoch_accuracy:.2f}%, Test Loss: {test_loss:.4f}, Test Accuracy: {test_accuracy:.2f}%\")\n",
    "    \n",
    "    # save for plot\n",
    "    train_losses.append(epoch_loss)\n",
    "    train_accuracies.append(epoch_accuracy)\n",
    "    test_losses.append(test_loss)\n",
    "    test_accuracies.append(test_accuracy)"
   ]
  },
  {
   "cell_type": "code",
   "execution_count": null,
   "metadata": {
    "id": "QKFbl4unF_6t"
   },
   "outputs": [],
   "source": []
  },
  {
   "cell_type": "code",
   "execution_count": 11,
   "metadata": {
    "id": "AwIj3vrnF_8_"
   },
   "outputs": [
    {
     "data": {
      "text/plain": [
       "<matplotlib.legend.Legend at 0x7f8a7cf041c0>"
      ]
     },
     "execution_count": 11,
     "metadata": {},
     "output_type": "execute_result"
    },
    {
     "data": {
      "image/png": "[encoded data removed]",
      "text/plain": [
       "<Figure size 640x480 with 1 Axes>"
      ]
     },
     "metadata": {},
     "output_type": "display_data"
    }
   ],
   "source": [
    "import matplotlib.pyplot as plt\n",
    "\n",
    "plt.plot(train_losses, label='train_losses')\n",
    "plt.plot(test_losses, label='test_losses')\n",
    "plt.legend()"
   ]
  },
  {
   "cell_type": "code",
   "execution_count": 12,
   "metadata": {
    "id": "eh3iDa8lF__H"
   },
   "outputs": [
    {
     "data": {
      "text/plain": [
       "<matplotlib.legend.Legend at 0x7f8a7cd62410>"
      ]
     },
     "execution_count": 12,
     "metadata": {},
     "output_type": "execute_result"
    },
    {
     "data": {
      "image/png": "[encoded data removed]",
      "text/plain": [
       "<Figure size 640x480 with 1 Axes>"
      ]
     },
     "metadata": {},
     "output_type": "display_data"
    }
   ],
   "source": [
    "import matplotlib.pyplot as plt\n",
    "\n",
    "plt.plot(train_accuracies, label='train_accuracy')\n",
    "plt.plot(test_accuracies, label='test_accuracy')\n",
    "plt.legend()"
   ]
  },
  {
   "cell_type": "code",
   "execution_count": null,
   "metadata": {},
   "outputs": [],
   "source": []
  },
  {
   "cell_type": "code",
   "execution_count": 13,
   "metadata": {},
   "outputs": [
    {
     "data": {
      "text/plain": [
       "<matplotlib.legend.Legend at 0x7f8a700f3c40>"
      ]
     },
     "execution_count": 13,
     "metadata": {},
     "output_type": "execute_result"
    }
   ],
   "source": [
    "import matplotlib.pyplot as plt\n",
    "%matplotlib qt\n",
    "\n",
    "plt.plot(train_losses, label='train_losses')\n",
    "plt.plot(test_losses, label='test_losses')\n",
    "plt.legend()"
   ]
  },
  {
   "cell_type": "code",
   "execution_count": 14,
   "metadata": {},
   "outputs": [
    {
     "data": {
      "text/plain": [
       "<matplotlib.legend.Legend at 0x7f89f5111960>"
      ]
     },
     "execution_count": 14,
     "metadata": {},
     "output_type": "execute_result"
    }
   ],
   "source": [
    "import matplotlib.pyplot as plt\n",
    "%matplotlib qt\n",
    "\n",
    "plt.plot(train_accuracies, label='train_accuracy')\n",
    "plt.plot(test_accuracies, label='test_accuracy')\n",
    "plt.legend()"
   ]
  },
  {
   "cell_type": "code",
   "execution_count": null,
   "metadata": {},
   "outputs": [],
   "source": []
  }
 ],
 "metadata": {
  "accelerator": "GPU",
  "colab": {
   "gpuType": "T4",
   "provenance": []
  },
  "kernelspec": {
   "display_name": "Python 3 (ipykernel)",
   "language": "python",
   "name": "python3"
  },
  "language_info": {
   "codemirror_mode": {
    "name": "ipython",
    "version": 3
   },
   "file_extension": ".py",
   "mimetype": "text/x-python",
   "name": "python",
   "nbconvert_exporter": "python",
   "pygments_lexer": "ipython3",
   "version": "3.9.18"
  }
 },
 "nbformat": 4,
 "nbformat_minor": 4
}
