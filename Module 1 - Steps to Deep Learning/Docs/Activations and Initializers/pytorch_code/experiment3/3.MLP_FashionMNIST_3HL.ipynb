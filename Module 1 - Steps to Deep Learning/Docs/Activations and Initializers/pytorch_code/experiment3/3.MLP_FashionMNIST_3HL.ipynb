{
 "cells": [
  {
   "cell_type": "code",
   "execution_count": 1,
   "metadata": {},
   "outputs": [],
   "source": [
    "import torch\n",
    "import torch.nn as nn\n",
    "import torch.optim as optim\n",
    "import torchvision\n",
    "import torchvision.transforms as transforms\n",
    "\n",
    "# Check if GPU is available\n",
    "device = torch.device(\"cuda:0\" if torch.cuda.is_available() else \"cpu\")"
   ]
  },
  {
   "cell_type": "code",
   "execution_count": null,
   "metadata": {},
   "outputs": [],
   "source": []
  },
  {
   "cell_type": "markdown",
   "metadata": {},
   "source": [
    "#### Data"
   ]
  },
  {
   "cell_type": "code",
   "execution_count": 2,
   "metadata": {},
   "outputs": [],
   "source": [
    "# Load CFashionMNIST dataset\n",
    "transform = transforms.Compose([transforms.ToTensor(), transforms.Normalize((0.5,), (0.5,))])\n",
    "\n",
    "trainset = torchvision.datasets.FashionMNIST(root='data', train=True, download=True, transform=transform)\n",
    "trainloader = torch.utils.data.DataLoader(trainset, batch_size=1024, num_workers=10, shuffle=True)\n",
    "\n",
    "testset = torchvision.datasets.FashionMNIST(root='data', train=False, download=True, transform=transform)\n",
    "testloader = torch.utils.data.DataLoader(testset, batch_size=1024, num_workers=10, shuffle=False)"
   ]
  },
  {
   "cell_type": "code",
   "execution_count": 3,
   "metadata": {},
   "outputs": [
    {
     "data": {
      "image/png": "[encoded data removed]",
      "text/plain": [
       "<Figure size 640x480 with 1 Axes>"
      ]
     },
     "metadata": {},
     "output_type": "display_data"
    }
   ],
   "source": [
    "import matplotlib.pyplot as plt\n",
    "import numpy as np\n",
    "\n",
    "# Function to display the images\n",
    "def imshow(img):\n",
    "    img = img*0.5 + 0.5\n",
    "    np_img = img.numpy()\n",
    "    plt.imshow(np.transpose(np_img, (1, 2, 0)))\n",
    "    plt.show()\n",
    "\n",
    "for i, (images, labels) in enumerate(trainloader, 0):\n",
    "    # Plot some images\n",
    "    imshow(torchvision.utils.make_grid(images[:8]))  # Display 8 images from the batch\n",
    "    break"
   ]
  },
  {
   "cell_type": "code",
   "execution_count": null,
   "metadata": {},
   "outputs": [],
   "source": []
  },
  {
   "cell_type": "markdown",
   "metadata": {},
   "source": [
    "#### Model"
   ]
  },
  {
   "cell_type": "code",
   "execution_count": 4,
   "metadata": {},
   "outputs": [
    {
     "name": "stdout",
     "output_type": "stream",
     "text": [
      "Sequential(\n",
      "  (0): Flatten(start_dim=1, end_dim=-1)\n",
      "  (1): Linear(in_features=784, out_features=256, bias=True)\n",
      "  (2): ReLU()\n",
      "  (3): Linear(in_features=256, out_features=256, bias=True)\n",
      "  (4): ReLU()\n",
      "  (5): Linear(in_features=256, out_features=256, bias=True)\n",
      "  (6): ReLU()\n",
      "  (7): Linear(in_features=256, out_features=10, bias=True)\n",
      ")\n"
     ]
    }
   ],
   "source": [
    "model = nn.Sequential(\n",
    "    nn.Flatten(), \n",
    "    nn.Linear(784, 256),\n",
    "    nn.ReLU(),\n",
    "    nn.Linear(256, 256),\n",
    "    nn.ReLU(),\n",
    "    nn.Linear(256, 256),\n",
    "    nn.ReLU(),\n",
    "    nn.Linear(256, 10)\n",
    ")\n",
    "model = model.to(device)\n",
    "\n",
    "print(model)"
   ]
  },
  {
   "cell_type": "code",
   "execution_count": 5,
   "metadata": {},
   "outputs": [
    {
     "name": "stdout",
     "output_type": "stream",
     "text": [
      "torch.Size([5, 10])\n"
     ]
    }
   ],
   "source": [
    "# Generating a random tensor\n",
    "input_tensor = torch.rand(5, 28, 28).to(device)\n",
    "\n",
    "# Feeding the tensor into the model\n",
    "output = model(input_tensor)\n",
    "print(output.shape)"
   ]
  },
  {
   "cell_type": "code",
   "execution_count": null,
   "metadata": {},
   "outputs": [],
   "source": []
  },
  {
   "cell_type": "markdown",
   "metadata": {},
   "source": [
    "#### Loss, Optimizer, and Evaluation Function"
   ]
  },
  {
   "cell_type": "code",
   "execution_count": 6,
   "metadata": {},
   "outputs": [],
   "source": [
    "criterion = nn.CrossEntropyLoss()\n",
    "optimizer = optim.SGD(model.parameters(), lr=0.01)"
   ]
  },
  {
   "cell_type": "code",
   "execution_count": 7,
   "metadata": {},
   "outputs": [],
   "source": [
    "# Function to compute loss and accuracy for test set\n",
    "def evaluate(model, testloader, criterion):\n",
    "    model.eval()\n",
    "    test_loss = 0.0\n",
    "    correct = 0\n",
    "    total = 0\n",
    "    with torch.no_grad():\n",
    "        for images, labels in testloader:\n",
    "            # Move inputs and labels to the device\n",
    "            images, labels = images.to(device), labels.to(device)\n",
    "\n",
    "            outputs = model(images)\n",
    "            loss = criterion(outputs, labels)\n",
    "            test_loss += loss.item()\n",
    "            \n",
    "            _, predicted = torch.max(outputs.data, 1)\n",
    "            total += labels.size(0)\n",
    "            correct += (predicted == labels).sum().item()\n",
    "\n",
    "    accuracy = 100 * correct / total\n",
    "    test_loss = test_loss / len(testloader)\n",
    "    return test_loss, accuracy"
   ]
  },
  {
   "cell_type": "code",
   "execution_count": 8,
   "metadata": {},
   "outputs": [
    {
     "name": "stdout",
     "output_type": "stream",
     "text": [
      "test_loss: 2.305495762825012\n",
      "test_accuracy: 8.06\n"
     ]
    }
   ],
   "source": [
    "test_loss, test_accuracy = evaluate(model, testloader, criterion)\n",
    "print(f'test_loss: {test_loss}')\n",
    "print(f'test_accuracy: {test_accuracy}')"
   ]
  },
  {
   "cell_type": "code",
   "execution_count": null,
   "metadata": {},
   "outputs": [],
   "source": []
  },
  {
   "cell_type": "markdown",
   "metadata": {},
   "source": [
    "#### Train"
   ]
  },
  {
   "cell_type": "code",
   "execution_count": 9,
   "metadata": {},
   "outputs": [],
   "source": [
    "# some parameter\n",
    "train_losses = []\n",
    "train_accuracies = []\n",
    "test_losses = []\n",
    "test_accuracies = []\n",
    "max_epoch = 400"
   ]
  },
  {
   "cell_type": "code",
   "execution_count": 10,
   "metadata": {
    "colab": {
     "base_uri": "https://localhost:8080/"
    },
    "id": "tYwXeSOOF_4Z",
    "outputId": "a4c62a4a-267f-4101-ce96-662cc23cdbe0"
   },
   "outputs": [
    {
     "name": "stdout",
     "output_type": "stream",
     "text": [
      "Epoch [1/400], Loss: 2.2844, Accuracy: 18.76%, Test Loss: 2.2613, Test Accuracy: 32.75%\n",
      "Epoch [2/400], Loss: 2.2308, Accuracy: 36.73%, Test Loss: 2.1930, Test Accuracy: 39.15%\n",
      "Epoch [3/400], Loss: 2.1317, Accuracy: 41.54%, Test Loss: 2.0517, Test Accuracy: 42.73%\n",
      "Epoch [4/400], Loss: 1.9287, Accuracy: 43.60%, Test Loss: 1.7861, Test Accuracy: 45.30%\n",
      "Epoch [5/400], Loss: 1.6280, Accuracy: 50.66%, Test Loss: 1.4751, Test Accuracy: 54.51%\n",
      "Epoch [6/400], Loss: 1.3395, Accuracy: 59.80%, Test Loss: 1.2265, Test Accuracy: 63.06%\n",
      "Epoch [7/400], Loss: 1.1336, Accuracy: 64.99%, Test Loss: 1.0649, Test Accuracy: 66.16%\n",
      "Epoch [8/400], Loss: 0.9997, Accuracy: 67.65%, Test Loss: 0.9583, Test Accuracy: 67.71%\n",
      "Epoch [9/400], Loss: 0.9083, Accuracy: 69.60%, Test Loss: 0.8836, Test Accuracy: 70.13%\n",
      "Epoch [10/400], Loss: 0.8417, Accuracy: 71.22%, Test Loss: 0.8281, Test Accuracy: 71.66%\n",
      "Epoch [11/400], Loss: 0.7915, Accuracy: 72.43%, Test Loss: 0.7846, Test Accuracy: 72.28%\n",
      "Epoch [12/400], Loss: 0.7521, Accuracy: 73.28%, Test Loss: 0.7513, Test Accuracy: 72.96%\n",
      "Epoch [13/400], Loss: 0.7216, Accuracy: 73.90%, Test Loss: 0.7258, Test Accuracy: 73.34%\n",
      "Epoch [14/400], Loss: 0.6979, Accuracy: 74.38%, Test Loss: 0.7042, Test Accuracy: 74.23%\n",
      "Epoch [15/400], Loss: 0.6772, Accuracy: 74.89%, Test Loss: 0.6900, Test Accuracy: 74.52%\n",
      "Epoch [16/400], Loss: 0.6616, Accuracy: 75.38%, Test Loss: 0.6715, Test Accuracy: 74.78%\n",
      "Epoch [17/400], Loss: 0.6470, Accuracy: 75.81%, Test Loss: 0.6598, Test Accuracy: 75.26%\n",
      "Epoch [18/400], Loss: 0.6340, Accuracy: 76.24%, Test Loss: 0.6480, Test Accuracy: 75.76%\n",
      "Epoch [19/400], Loss: 0.6221, Accuracy: 76.78%, Test Loss: 0.6382, Test Accuracy: 76.27%\n",
      "Epoch [20/400], Loss: 0.6118, Accuracy: 77.30%, Test Loss: 0.6273, Test Accuracy: 76.36%\n",
      "Epoch [21/400], Loss: 0.6021, Accuracy: 77.74%, Test Loss: 0.6203, Test Accuracy: 76.84%\n",
      "Epoch [22/400], Loss: 0.5933, Accuracy: 78.24%, Test Loss: 0.6126, Test Accuracy: 77.01%\n",
      "Epoch [23/400], Loss: 0.5841, Accuracy: 78.67%, Test Loss: 0.6030, Test Accuracy: 77.83%\n",
      "Epoch [24/400], Loss: 0.5764, Accuracy: 79.00%, Test Loss: 0.5963, Test Accuracy: 78.24%\n",
      "Epoch [25/400], Loss: 0.5682, Accuracy: 79.36%, Test Loss: 0.5874, Test Accuracy: 78.41%\n",
      "Epoch [26/400], Loss: 0.5610, Accuracy: 79.68%, Test Loss: 0.5805, Test Accuracy: 78.80%\n",
      "Epoch [27/400], Loss: 0.5535, Accuracy: 80.01%, Test Loss: 0.5749, Test Accuracy: 78.90%\n",
      "Epoch [28/400], Loss: 0.5473, Accuracy: 80.31%, Test Loss: 0.5686, Test Accuracy: 79.34%\n",
      "Epoch [29/400], Loss: 0.5408, Accuracy: 80.61%, Test Loss: 0.5632, Test Accuracy: 79.54%\n",
      "Epoch [30/400], Loss: 0.5347, Accuracy: 80.91%, Test Loss: 0.5573, Test Accuracy: 79.76%\n",
      "Epoch [31/400], Loss: 0.5287, Accuracy: 81.13%, Test Loss: 0.5524, Test Accuracy: 79.92%\n",
      "Epoch [32/400], Loss: 0.5233, Accuracy: 81.36%, Test Loss: 0.5485, Test Accuracy: 80.13%\n",
      "Epoch [33/400], Loss: 0.5180, Accuracy: 81.56%, Test Loss: 0.5430, Test Accuracy: 80.31%\n",
      "Epoch [34/400], Loss: 0.5129, Accuracy: 81.74%, Test Loss: 0.5375, Test Accuracy: 80.61%\n",
      "Epoch [35/400], Loss: 0.5081, Accuracy: 81.98%, Test Loss: 0.5333, Test Accuracy: 80.52%\n",
      "Epoch [36/400], Loss: 0.5038, Accuracy: 82.17%, Test Loss: 0.5304, Test Accuracy: 80.90%\n",
      "Epoch [37/400], Loss: 0.4990, Accuracy: 82.31%, Test Loss: 0.5250, Test Accuracy: 80.89%\n",
      "Epoch [38/400], Loss: 0.4944, Accuracy: 82.51%, Test Loss: 0.5228, Test Accuracy: 80.91%\n",
      "Epoch [39/400], Loss: 0.4905, Accuracy: 82.63%, Test Loss: 0.5200, Test Accuracy: 81.23%\n",
      "Epoch [40/400], Loss: 0.4866, Accuracy: 82.73%, Test Loss: 0.5149, Test Accuracy: 81.37%\n",
      "Epoch [41/400], Loss: 0.4830, Accuracy: 82.94%, Test Loss: 0.5120, Test Accuracy: 81.24%\n",
      "Epoch [42/400], Loss: 0.4793, Accuracy: 82.99%, Test Loss: 0.5092, Test Accuracy: 81.41%\n",
      "Epoch [43/400], Loss: 0.4761, Accuracy: 83.14%, Test Loss: 0.5057, Test Accuracy: 81.69%\n",
      "Epoch [44/400], Loss: 0.4726, Accuracy: 83.29%, Test Loss: 0.5022, Test Accuracy: 81.76%\n",
      "Epoch [45/400], Loss: 0.4693, Accuracy: 83.33%, Test Loss: 0.5027, Test Accuracy: 81.75%\n",
      "Epoch [46/400], Loss: 0.4669, Accuracy: 83.52%, Test Loss: 0.4968, Test Accuracy: 81.91%\n",
      "Epoch [47/400], Loss: 0.4636, Accuracy: 83.61%, Test Loss: 0.4969, Test Accuracy: 82.19%\n",
      "Epoch [48/400], Loss: 0.4610, Accuracy: 83.78%, Test Loss: 0.4921, Test Accuracy: 82.14%\n",
      "Epoch [49/400], Loss: 0.4581, Accuracy: 83.83%, Test Loss: 0.4901, Test Accuracy: 82.08%\n",
      "Epoch [50/400], Loss: 0.4555, Accuracy: 83.89%, Test Loss: 0.4885, Test Accuracy: 82.35%\n",
      "Epoch [51/400], Loss: 0.4536, Accuracy: 83.99%, Test Loss: 0.4865, Test Accuracy: 82.15%\n",
      "Epoch [52/400], Loss: 0.4507, Accuracy: 84.04%, Test Loss: 0.4840, Test Accuracy: 82.49%\n",
      "Epoch [53/400], Loss: 0.4489, Accuracy: 84.20%, Test Loss: 0.4833, Test Accuracy: 82.48%\n",
      "Epoch [54/400], Loss: 0.4463, Accuracy: 84.25%, Test Loss: 0.4804, Test Accuracy: 82.75%\n",
      "Epoch [55/400], Loss: 0.4443, Accuracy: 84.28%, Test Loss: 0.4784, Test Accuracy: 82.82%\n",
      "Epoch [56/400], Loss: 0.4424, Accuracy: 84.35%, Test Loss: 0.4808, Test Accuracy: 82.59%\n",
      "Epoch [57/400], Loss: 0.4402, Accuracy: 84.42%, Test Loss: 0.4751, Test Accuracy: 82.92%\n",
      "Epoch [58/400], Loss: 0.4383, Accuracy: 84.53%, Test Loss: 0.4746, Test Accuracy: 82.91%\n",
      "Epoch [59/400], Loss: 0.4360, Accuracy: 84.55%, Test Loss: 0.4727, Test Accuracy: 82.84%\n",
      "Epoch [60/400], Loss: 0.4344, Accuracy: 84.68%, Test Loss: 0.4703, Test Accuracy: 82.99%\n",
      "Epoch [61/400], Loss: 0.4325, Accuracy: 84.69%, Test Loss: 0.4718, Test Accuracy: 82.80%\n",
      "Epoch [62/400], Loss: 0.4309, Accuracy: 84.71%, Test Loss: 0.4674, Test Accuracy: 83.07%\n",
      "Epoch [63/400], Loss: 0.4292, Accuracy: 84.85%, Test Loss: 0.4703, Test Accuracy: 83.06%\n",
      "Epoch [64/400], Loss: 0.4271, Accuracy: 84.92%, Test Loss: 0.4646, Test Accuracy: 83.23%\n",
      "Epoch [65/400], Loss: 0.4259, Accuracy: 85.01%, Test Loss: 0.4620, Test Accuracy: 83.40%\n",
      "Epoch [66/400], Loss: 0.4238, Accuracy: 84.99%, Test Loss: 0.4622, Test Accuracy: 83.32%\n",
      "Epoch [67/400], Loss: 0.4222, Accuracy: 85.09%, Test Loss: 0.4624, Test Accuracy: 83.16%\n",
      "Epoch [68/400], Loss: 0.4210, Accuracy: 85.11%, Test Loss: 0.4590, Test Accuracy: 83.56%\n",
      "Epoch [69/400], Loss: 0.4191, Accuracy: 85.19%, Test Loss: 0.4571, Test Accuracy: 83.45%\n",
      "Epoch [70/400], Loss: 0.4175, Accuracy: 85.21%, Test Loss: 0.4569, Test Accuracy: 83.67%\n",
      "Epoch [71/400], Loss: 0.4162, Accuracy: 85.22%, Test Loss: 0.4540, Test Accuracy: 83.56%\n",
      "Epoch [72/400], Loss: 0.4146, Accuracy: 85.35%, Test Loss: 0.4545, Test Accuracy: 83.55%\n",
      "Epoch [73/400], Loss: 0.4136, Accuracy: 85.41%, Test Loss: 0.4536, Test Accuracy: 83.58%\n",
      "Epoch [74/400], Loss: 0.4127, Accuracy: 85.49%, Test Loss: 0.4523, Test Accuracy: 83.59%\n",
      "Epoch [75/400], Loss: 0.4111, Accuracy: 85.43%, Test Loss: 0.4499, Test Accuracy: 83.72%\n",
      "Epoch [76/400], Loss: 0.4093, Accuracy: 85.47%, Test Loss: 0.4492, Test Accuracy: 83.83%\n",
      "Epoch [77/400], Loss: 0.4078, Accuracy: 85.51%, Test Loss: 0.4473, Test Accuracy: 83.66%\n",
      "Epoch [78/400], Loss: 0.4062, Accuracy: 85.63%, Test Loss: 0.4504, Test Accuracy: 84.06%\n",
      "Epoch [79/400], Loss: 0.4052, Accuracy: 85.70%, Test Loss: 0.4447, Test Accuracy: 84.07%\n",
      "Epoch [80/400], Loss: 0.4041, Accuracy: 85.67%, Test Loss: 0.4446, Test Accuracy: 83.98%\n",
      "Epoch [81/400], Loss: 0.4034, Accuracy: 85.64%, Test Loss: 0.4446, Test Accuracy: 84.03%\n",
      "Epoch [82/400], Loss: 0.4016, Accuracy: 85.87%, Test Loss: 0.4408, Test Accuracy: 84.17%\n",
      "Epoch [83/400], Loss: 0.4003, Accuracy: 85.82%, Test Loss: 0.4421, Test Accuracy: 83.87%\n",
      "Epoch [84/400], Loss: 0.3989, Accuracy: 85.84%, Test Loss: 0.4414, Test Accuracy: 84.19%\n",
      "Epoch [85/400], Loss: 0.3980, Accuracy: 85.96%, Test Loss: 0.4432, Test Accuracy: 84.32%\n",
      "Epoch [86/400], Loss: 0.3968, Accuracy: 85.97%, Test Loss: 0.4384, Test Accuracy: 84.12%\n",
      "Epoch [87/400], Loss: 0.3962, Accuracy: 85.98%, Test Loss: 0.4406, Test Accuracy: 84.29%\n",
      "Epoch [88/400], Loss: 0.3947, Accuracy: 86.00%, Test Loss: 0.4383, Test Accuracy: 84.28%\n",
      "Epoch [89/400], Loss: 0.3935, Accuracy: 86.17%, Test Loss: 0.4361, Test Accuracy: 84.31%\n",
      "Epoch [90/400], Loss: 0.3924, Accuracy: 86.16%, Test Loss: 0.4381, Test Accuracy: 84.45%\n",
      "Epoch [91/400], Loss: 0.3911, Accuracy: 86.13%, Test Loss: 0.4373, Test Accuracy: 84.45%\n",
      "Epoch [92/400], Loss: 0.3903, Accuracy: 86.16%, Test Loss: 0.4326, Test Accuracy: 84.57%\n",
      "Epoch [93/400], Loss: 0.3886, Accuracy: 86.27%, Test Loss: 0.4303, Test Accuracy: 84.56%\n",
      "Epoch [94/400], Loss: 0.3877, Accuracy: 86.31%, Test Loss: 0.4296, Test Accuracy: 84.53%\n",
      "Epoch [95/400], Loss: 0.3865, Accuracy: 86.33%, Test Loss: 0.4313, Test Accuracy: 84.63%\n",
      "Epoch [96/400], Loss: 0.3858, Accuracy: 86.32%, Test Loss: 0.4291, Test Accuracy: 84.63%\n",
      "Epoch [97/400], Loss: 0.3848, Accuracy: 86.34%, Test Loss: 0.4279, Test Accuracy: 84.69%\n",
      "Epoch [98/400], Loss: 0.3835, Accuracy: 86.39%, Test Loss: 0.4261, Test Accuracy: 84.79%\n",
      "Epoch [99/400], Loss: 0.3824, Accuracy: 86.50%, Test Loss: 0.4295, Test Accuracy: 84.77%\n",
      "Epoch [100/400], Loss: 0.3824, Accuracy: 86.41%, Test Loss: 0.4301, Test Accuracy: 84.81%\n",
      "Epoch [101/400], Loss: 0.3807, Accuracy: 86.60%, Test Loss: 0.4240, Test Accuracy: 84.82%\n",
      "Epoch [102/400], Loss: 0.3791, Accuracy: 86.56%, Test Loss: 0.4243, Test Accuracy: 84.90%\n",
      "Epoch [103/400], Loss: 0.3788, Accuracy: 86.58%, Test Loss: 0.4219, Test Accuracy: 84.77%\n",
      "Epoch [104/400], Loss: 0.3775, Accuracy: 86.63%, Test Loss: 0.4258, Test Accuracy: 84.94%\n",
      "Epoch [105/400], Loss: 0.3777, Accuracy: 86.62%, Test Loss: 0.4212, Test Accuracy: 84.96%\n",
      "Epoch [106/400], Loss: 0.3761, Accuracy: 86.72%, Test Loss: 0.4260, Test Accuracy: 84.73%\n",
      "Epoch [107/400], Loss: 0.3753, Accuracy: 86.66%, Test Loss: 0.4192, Test Accuracy: 84.98%\n",
      "Epoch [108/400], Loss: 0.3735, Accuracy: 86.71%, Test Loss: 0.4195, Test Accuracy: 84.98%\n",
      "Epoch [109/400], Loss: 0.3728, Accuracy: 86.81%, Test Loss: 0.4222, Test Accuracy: 85.06%\n",
      "Epoch [110/400], Loss: 0.3726, Accuracy: 86.82%, Test Loss: 0.4163, Test Accuracy: 85.11%\n",
      "Epoch [111/400], Loss: 0.3710, Accuracy: 86.92%, Test Loss: 0.4155, Test Accuracy: 85.08%\n",
      "Epoch [112/400], Loss: 0.3701, Accuracy: 86.85%, Test Loss: 0.4177, Test Accuracy: 84.99%\n",
      "Epoch [113/400], Loss: 0.3690, Accuracy: 86.96%, Test Loss: 0.4165, Test Accuracy: 85.30%\n",
      "Epoch [114/400], Loss: 0.3675, Accuracy: 87.04%, Test Loss: 0.4201, Test Accuracy: 85.20%\n",
      "Epoch [115/400], Loss: 0.3676, Accuracy: 86.95%, Test Loss: 0.4125, Test Accuracy: 85.28%\n",
      "Epoch [116/400], Loss: 0.3671, Accuracy: 86.98%, Test Loss: 0.4156, Test Accuracy: 85.29%\n",
      "Epoch [117/400], Loss: 0.3661, Accuracy: 86.99%, Test Loss: 0.4109, Test Accuracy: 85.51%\n",
      "Epoch [118/400], Loss: 0.3644, Accuracy: 87.07%, Test Loss: 0.4142, Test Accuracy: 85.27%\n",
      "Epoch [119/400], Loss: 0.3633, Accuracy: 87.11%, Test Loss: 0.4116, Test Accuracy: 85.39%\n",
      "Epoch [120/400], Loss: 0.3634, Accuracy: 87.13%, Test Loss: 0.4104, Test Accuracy: 85.46%\n",
      "Epoch [121/400], Loss: 0.3620, Accuracy: 87.21%, Test Loss: 0.4085, Test Accuracy: 85.48%\n",
      "Epoch [122/400], Loss: 0.3608, Accuracy: 87.23%, Test Loss: 0.4073, Test Accuracy: 85.39%\n",
      "Epoch [123/400], Loss: 0.3607, Accuracy: 87.27%, Test Loss: 0.4119, Test Accuracy: 85.14%\n",
      "Epoch [124/400], Loss: 0.3601, Accuracy: 87.30%, Test Loss: 0.4058, Test Accuracy: 85.62%\n",
      "Epoch [125/400], Loss: 0.3584, Accuracy: 87.28%, Test Loss: 0.4056, Test Accuracy: 85.62%\n",
      "Epoch [126/400], Loss: 0.3579, Accuracy: 87.29%, Test Loss: 0.4055, Test Accuracy: 85.50%\n",
      "Epoch [127/400], Loss: 0.3562, Accuracy: 87.36%, Test Loss: 0.4053, Test Accuracy: 85.46%\n",
      "Epoch [128/400], Loss: 0.3566, Accuracy: 87.33%, Test Loss: 0.4069, Test Accuracy: 85.59%\n",
      "Epoch [129/400], Loss: 0.3560, Accuracy: 87.42%, Test Loss: 0.4092, Test Accuracy: 85.65%\n",
      "Epoch [130/400], Loss: 0.3537, Accuracy: 87.51%, Test Loss: 0.4029, Test Accuracy: 85.63%\n",
      "Epoch [131/400], Loss: 0.3525, Accuracy: 87.51%, Test Loss: 0.4041, Test Accuracy: 85.62%\n",
      "Epoch [132/400], Loss: 0.3533, Accuracy: 87.50%, Test Loss: 0.4042, Test Accuracy: 85.71%\n",
      "Epoch [133/400], Loss: 0.3524, Accuracy: 87.49%, Test Loss: 0.4046, Test Accuracy: 85.44%\n",
      "Epoch [134/400], Loss: 0.3510, Accuracy: 87.66%, Test Loss: 0.4051, Test Accuracy: 85.57%\n",
      "Epoch [135/400], Loss: 0.3512, Accuracy: 87.52%, Test Loss: 0.4002, Test Accuracy: 85.82%\n",
      "Epoch [136/400], Loss: 0.3508, Accuracy: 87.50%, Test Loss: 0.4044, Test Accuracy: 85.55%\n",
      "Epoch [137/400], Loss: 0.3487, Accuracy: 87.66%, Test Loss: 0.4092, Test Accuracy: 85.61%\n",
      "Epoch [138/400], Loss: 0.3485, Accuracy: 87.67%, Test Loss: 0.4008, Test Accuracy: 85.69%\n",
      "Epoch [139/400], Loss: 0.3474, Accuracy: 87.75%, Test Loss: 0.4048, Test Accuracy: 85.76%\n",
      "Epoch [140/400], Loss: 0.3485, Accuracy: 87.61%, Test Loss: 0.3969, Test Accuracy: 86.07%\n",
      "Epoch [141/400], Loss: 0.3464, Accuracy: 87.78%, Test Loss: 0.3997, Test Accuracy: 85.70%\n",
      "Epoch [142/400], Loss: 0.3456, Accuracy: 87.75%, Test Loss: 0.4062, Test Accuracy: 85.36%\n",
      "Epoch [143/400], Loss: 0.3448, Accuracy: 87.69%, Test Loss: 0.3948, Test Accuracy: 85.96%\n",
      "Epoch [144/400], Loss: 0.3441, Accuracy: 87.75%, Test Loss: 0.3953, Test Accuracy: 86.16%\n",
      "Epoch [145/400], Loss: 0.3440, Accuracy: 87.77%, Test Loss: 0.4049, Test Accuracy: 85.64%\n",
      "Epoch [146/400], Loss: 0.3419, Accuracy: 87.86%, Test Loss: 0.3927, Test Accuracy: 85.98%\n",
      "Epoch [147/400], Loss: 0.3419, Accuracy: 87.91%, Test Loss: 0.3969, Test Accuracy: 85.69%\n",
      "Epoch [148/400], Loss: 0.3408, Accuracy: 88.00%, Test Loss: 0.3994, Test Accuracy: 85.82%\n",
      "Epoch [149/400], Loss: 0.3411, Accuracy: 87.85%, Test Loss: 0.4009, Test Accuracy: 85.55%\n",
      "Epoch [150/400], Loss: 0.3400, Accuracy: 87.96%, Test Loss: 0.3904, Test Accuracy: 86.24%\n",
      "Epoch [151/400], Loss: 0.3383, Accuracy: 88.00%, Test Loss: 0.3918, Test Accuracy: 86.04%\n",
      "Epoch [152/400], Loss: 0.3370, Accuracy: 88.07%, Test Loss: 0.3904, Test Accuracy: 86.07%\n",
      "Epoch [153/400], Loss: 0.3376, Accuracy: 88.04%, Test Loss: 0.3897, Test Accuracy: 86.17%\n",
      "Epoch [154/400], Loss: 0.3364, Accuracy: 88.06%, Test Loss: 0.3879, Test Accuracy: 86.29%\n",
      "Epoch [155/400], Loss: 0.3350, Accuracy: 88.19%, Test Loss: 0.3870, Test Accuracy: 86.24%\n",
      "Epoch [156/400], Loss: 0.3355, Accuracy: 88.14%, Test Loss: 0.3895, Test Accuracy: 86.28%\n",
      "Epoch [157/400], Loss: 0.3339, Accuracy: 88.15%, Test Loss: 0.3905, Test Accuracy: 86.06%\n",
      "Epoch [158/400], Loss: 0.3332, Accuracy: 88.21%, Test Loss: 0.3874, Test Accuracy: 86.10%\n",
      "Epoch [159/400], Loss: 0.3328, Accuracy: 88.24%, Test Loss: 0.3894, Test Accuracy: 86.29%\n",
      "Epoch [160/400], Loss: 0.3313, Accuracy: 88.28%, Test Loss: 0.3870, Test Accuracy: 86.33%\n",
      "Epoch [161/400], Loss: 0.3316, Accuracy: 88.26%, Test Loss: 0.4334, Test Accuracy: 84.81%\n",
      "Epoch [162/400], Loss: 0.3308, Accuracy: 88.31%, Test Loss: 0.3855, Test Accuracy: 86.41%\n",
      "Epoch [163/400], Loss: 0.3331, Accuracy: 88.18%, Test Loss: 0.3888, Test Accuracy: 86.37%\n",
      "Epoch [164/400], Loss: 0.3298, Accuracy: 88.33%, Test Loss: 0.3851, Test Accuracy: 86.29%\n",
      "Epoch [165/400], Loss: 0.3295, Accuracy: 88.28%, Test Loss: 0.3823, Test Accuracy: 86.40%\n",
      "Epoch [166/400], Loss: 0.3280, Accuracy: 88.36%, Test Loss: 0.3891, Test Accuracy: 86.25%\n",
      "Epoch [167/400], Loss: 0.3278, Accuracy: 88.48%, Test Loss: 0.3840, Test Accuracy: 86.39%\n",
      "Epoch [168/400], Loss: 0.3270, Accuracy: 88.47%, Test Loss: 0.3819, Test Accuracy: 86.53%\n",
      "Epoch [169/400], Loss: 0.3253, Accuracy: 88.50%, Test Loss: 0.3916, Test Accuracy: 86.03%\n",
      "Epoch [170/400], Loss: 0.3250, Accuracy: 88.47%, Test Loss: 0.3840, Test Accuracy: 86.48%\n",
      "Epoch [171/400], Loss: 0.3252, Accuracy: 88.52%, Test Loss: 0.3870, Test Accuracy: 86.36%\n",
      "Epoch [172/400], Loss: 0.3245, Accuracy: 88.55%, Test Loss: 0.3903, Test Accuracy: 86.06%\n",
      "Epoch [173/400], Loss: 0.3257, Accuracy: 88.49%, Test Loss: 0.3818, Test Accuracy: 86.53%\n",
      "Epoch [174/400], Loss: 0.3227, Accuracy: 88.59%, Test Loss: 0.3861, Test Accuracy: 86.00%\n",
      "Epoch [175/400], Loss: 0.3213, Accuracy: 88.64%, Test Loss: 0.3979, Test Accuracy: 85.75%\n",
      "Epoch [176/400], Loss: 0.3218, Accuracy: 88.63%, Test Loss: 0.3788, Test Accuracy: 86.51%\n",
      "Epoch [177/400], Loss: 0.3204, Accuracy: 88.66%, Test Loss: 0.3774, Test Accuracy: 86.48%\n",
      "Epoch [178/400], Loss: 0.3203, Accuracy: 88.68%, Test Loss: 0.3760, Test Accuracy: 86.56%\n",
      "Epoch [179/400], Loss: 0.3196, Accuracy: 88.74%, Test Loss: 0.3798, Test Accuracy: 86.35%\n",
      "Epoch [180/400], Loss: 0.3203, Accuracy: 88.69%, Test Loss: 0.3761, Test Accuracy: 86.56%\n",
      "Epoch [181/400], Loss: 0.3181, Accuracy: 88.78%, Test Loss: 0.3777, Test Accuracy: 86.59%\n",
      "Epoch [182/400], Loss: 0.3181, Accuracy: 88.68%, Test Loss: 0.3924, Test Accuracy: 86.28%\n",
      "Epoch [183/400], Loss: 0.3175, Accuracy: 88.74%, Test Loss: 0.3750, Test Accuracy: 86.58%\n",
      "Epoch [184/400], Loss: 0.3167, Accuracy: 88.80%, Test Loss: 0.3752, Test Accuracy: 86.73%\n",
      "Epoch [185/400], Loss: 0.3167, Accuracy: 88.83%, Test Loss: 0.3789, Test Accuracy: 86.81%\n",
      "Epoch [186/400], Loss: 0.3148, Accuracy: 88.80%, Test Loss: 0.3767, Test Accuracy: 86.58%\n",
      "Epoch [187/400], Loss: 0.3173, Accuracy: 88.81%, Test Loss: 0.3723, Test Accuracy: 86.76%\n",
      "Epoch [188/400], Loss: 0.3136, Accuracy: 88.89%, Test Loss: 0.3731, Test Accuracy: 86.68%\n",
      "Epoch [189/400], Loss: 0.3143, Accuracy: 88.94%, Test Loss: 0.3758, Test Accuracy: 86.57%\n",
      "Epoch [190/400], Loss: 0.3151, Accuracy: 88.72%, Test Loss: 0.3728, Test Accuracy: 86.80%\n",
      "Epoch [191/400], Loss: 0.3135, Accuracy: 88.88%, Test Loss: 0.3803, Test Accuracy: 86.41%\n",
      "Epoch [192/400], Loss: 0.3160, Accuracy: 88.78%, Test Loss: 0.3833, Test Accuracy: 86.61%\n",
      "Epoch [193/400], Loss: 0.3136, Accuracy: 88.93%, Test Loss: 0.3710, Test Accuracy: 86.76%\n",
      "Epoch [194/400], Loss: 0.3097, Accuracy: 89.06%, Test Loss: 0.3698, Test Accuracy: 86.84%\n",
      "Epoch [195/400], Loss: 0.3107, Accuracy: 88.97%, Test Loss: 0.3698, Test Accuracy: 86.97%\n",
      "Epoch [196/400], Loss: 0.3071, Accuracy: 89.19%, Test Loss: 0.3716, Test Accuracy: 86.76%\n",
      "Epoch [197/400], Loss: 0.3110, Accuracy: 88.96%, Test Loss: 0.3696, Test Accuracy: 86.89%\n",
      "Epoch [198/400], Loss: 0.3083, Accuracy: 89.12%, Test Loss: 0.3699, Test Accuracy: 86.91%\n",
      "Epoch [199/400], Loss: 0.3084, Accuracy: 89.03%, Test Loss: 0.3691, Test Accuracy: 86.89%\n",
      "Epoch [200/400], Loss: 0.3063, Accuracy: 89.20%, Test Loss: 0.3687, Test Accuracy: 86.84%\n",
      "Epoch [201/400], Loss: 0.3048, Accuracy: 89.20%, Test Loss: 0.3674, Test Accuracy: 86.88%\n",
      "Epoch [202/400], Loss: 0.3084, Accuracy: 89.02%, Test Loss: 0.3671, Test Accuracy: 86.92%\n",
      "Epoch [203/400], Loss: 0.3088, Accuracy: 89.00%, Test Loss: 0.3856, Test Accuracy: 86.30%\n",
      "Epoch [204/400], Loss: 0.3124, Accuracy: 88.83%, Test Loss: 0.4414, Test Accuracy: 84.36%\n",
      "Epoch [205/400], Loss: 0.3033, Accuracy: 89.28%, Test Loss: 0.3682, Test Accuracy: 86.70%\n",
      "Epoch [206/400], Loss: 0.3053, Accuracy: 89.19%, Test Loss: 0.3673, Test Accuracy: 87.10%\n",
      "Epoch [207/400], Loss: 0.3046, Accuracy: 89.21%, Test Loss: 0.3658, Test Accuracy: 87.01%\n",
      "Epoch [208/400], Loss: 0.3031, Accuracy: 89.30%, Test Loss: 0.3718, Test Accuracy: 86.90%\n",
      "Epoch [209/400], Loss: 0.3083, Accuracy: 89.09%, Test Loss: 0.3719, Test Accuracy: 86.89%\n",
      "Epoch [210/400], Loss: 0.3013, Accuracy: 89.35%, Test Loss: 0.3631, Test Accuracy: 86.97%\n",
      "Epoch [211/400], Loss: 0.3041, Accuracy: 89.20%, Test Loss: 0.3671, Test Accuracy: 86.78%\n",
      "Epoch [212/400], Loss: 0.3005, Accuracy: 89.36%, Test Loss: 0.3657, Test Accuracy: 87.08%\n",
      "Epoch [213/400], Loss: 0.2985, Accuracy: 89.45%, Test Loss: 0.3797, Test Accuracy: 86.85%\n",
      "Epoch [214/400], Loss: 0.3009, Accuracy: 89.33%, Test Loss: 0.3663, Test Accuracy: 86.95%\n",
      "Epoch [215/400], Loss: 0.2979, Accuracy: 89.45%, Test Loss: 0.3670, Test Accuracy: 86.98%\n",
      "Epoch [216/400], Loss: 0.2988, Accuracy: 89.39%, Test Loss: 0.3682, Test Accuracy: 87.01%\n",
      "Epoch [217/400], Loss: 0.2999, Accuracy: 89.39%, Test Loss: 0.3633, Test Accuracy: 87.36%\n",
      "Epoch [218/400], Loss: 0.2985, Accuracy: 89.39%, Test Loss: 0.3747, Test Accuracy: 86.51%\n",
      "Epoch [219/400], Loss: 0.2967, Accuracy: 89.50%, Test Loss: 0.3649, Test Accuracy: 87.01%\n",
      "Epoch [220/400], Loss: 0.2975, Accuracy: 89.47%, Test Loss: 0.3642, Test Accuracy: 87.42%\n",
      "Epoch [221/400], Loss: 0.2948, Accuracy: 89.52%, Test Loss: 0.3688, Test Accuracy: 86.99%\n",
      "Epoch [222/400], Loss: 0.2958, Accuracy: 89.50%, Test Loss: 0.3645, Test Accuracy: 86.86%\n",
      "Epoch [223/400], Loss: 0.2952, Accuracy: 89.47%, Test Loss: 0.3734, Test Accuracy: 86.31%\n",
      "Epoch [224/400], Loss: 0.2943, Accuracy: 89.60%, Test Loss: 0.3618, Test Accuracy: 87.25%\n",
      "Epoch [225/400], Loss: 0.2913, Accuracy: 89.78%, Test Loss: 0.3664, Test Accuracy: 87.14%\n",
      "Epoch [226/400], Loss: 0.2917, Accuracy: 89.67%, Test Loss: 0.3600, Test Accuracy: 87.28%\n",
      "Epoch [227/400], Loss: 0.3035, Accuracy: 89.11%, Test Loss: 0.3589, Test Accuracy: 87.14%\n",
      "Epoch [228/400], Loss: 0.2894, Accuracy: 89.78%, Test Loss: 0.3617, Test Accuracy: 86.95%\n",
      "Epoch [229/400], Loss: 0.2932, Accuracy: 89.66%, Test Loss: 0.3625, Test Accuracy: 87.12%\n",
      "Epoch [230/400], Loss: 0.2944, Accuracy: 89.44%, Test Loss: 0.3763, Test Accuracy: 86.90%\n",
      "Epoch [231/400], Loss: 0.2949, Accuracy: 89.47%, Test Loss: 0.3643, Test Accuracy: 86.88%\n",
      "Epoch [232/400], Loss: 0.2915, Accuracy: 89.62%, Test Loss: 0.3633, Test Accuracy: 86.86%\n",
      "Epoch [233/400], Loss: 0.2917, Accuracy: 89.63%, Test Loss: 0.3664, Test Accuracy: 87.16%\n",
      "Epoch [234/400], Loss: 0.2896, Accuracy: 89.74%, Test Loss: 0.3647, Test Accuracy: 87.19%\n",
      "Epoch [235/400], Loss: 0.2867, Accuracy: 89.81%, Test Loss: 0.3621, Test Accuracy: 87.00%\n",
      "Epoch [236/400], Loss: 0.2859, Accuracy: 89.88%, Test Loss: 0.3624, Test Accuracy: 87.27%\n",
      "Epoch [237/400], Loss: 0.2948, Accuracy: 89.50%, Test Loss: 0.3647, Test Accuracy: 86.86%\n",
      "Epoch [238/400], Loss: 0.2850, Accuracy: 89.93%, Test Loss: 0.3649, Test Accuracy: 86.94%\n",
      "Epoch [239/400], Loss: 0.2850, Accuracy: 89.99%, Test Loss: 0.3571, Test Accuracy: 87.36%\n",
      "Epoch [240/400], Loss: 0.2838, Accuracy: 89.97%, Test Loss: 0.3549, Test Accuracy: 87.45%\n",
      "Epoch [241/400], Loss: 0.2835, Accuracy: 89.99%, Test Loss: 0.3551, Test Accuracy: 87.32%\n",
      "Epoch [242/400], Loss: 0.2836, Accuracy: 89.95%, Test Loss: 0.3605, Test Accuracy: 87.08%\n",
      "Epoch [243/400], Loss: 0.2808, Accuracy: 90.16%, Test Loss: 0.3547, Test Accuracy: 87.51%\n",
      "Epoch [244/400], Loss: 0.2852, Accuracy: 89.86%, Test Loss: 0.3682, Test Accuracy: 86.79%\n",
      "Epoch [245/400], Loss: 0.2909, Accuracy: 89.57%, Test Loss: 0.3740, Test Accuracy: 87.03%\n",
      "Epoch [246/400], Loss: 0.2824, Accuracy: 89.91%, Test Loss: 0.3600, Test Accuracy: 87.26%\n",
      "Epoch [247/400], Loss: 0.2840, Accuracy: 89.98%, Test Loss: 0.3573, Test Accuracy: 87.57%\n",
      "Epoch [248/400], Loss: 0.2794, Accuracy: 90.08%, Test Loss: 0.3617, Test Accuracy: 87.38%\n",
      "Epoch [249/400], Loss: 0.2840, Accuracy: 89.89%, Test Loss: 0.3597, Test Accuracy: 87.41%\n",
      "Epoch [250/400], Loss: 0.2818, Accuracy: 90.02%, Test Loss: 0.3565, Test Accuracy: 87.36%\n",
      "Epoch [251/400], Loss: 0.2830, Accuracy: 89.93%, Test Loss: 0.3797, Test Accuracy: 86.35%\n",
      "Epoch [252/400], Loss: 0.2786, Accuracy: 90.11%, Test Loss: 0.3544, Test Accuracy: 87.26%\n",
      "Epoch [253/400], Loss: 0.2876, Accuracy: 89.73%, Test Loss: 0.3793, Test Accuracy: 86.76%\n",
      "Epoch [254/400], Loss: 0.2772, Accuracy: 90.21%, Test Loss: 0.3522, Test Accuracy: 87.36%\n",
      "Epoch [255/400], Loss: 0.2758, Accuracy: 90.33%, Test Loss: 0.3604, Test Accuracy: 87.50%\n",
      "Epoch [256/400], Loss: 0.2775, Accuracy: 90.09%, Test Loss: 0.3537, Test Accuracy: 87.38%\n",
      "Epoch [257/400], Loss: 0.2759, Accuracy: 90.23%, Test Loss: 0.3548, Test Accuracy: 87.53%\n",
      "Epoch [258/400], Loss: 0.2789, Accuracy: 90.06%, Test Loss: 0.3507, Test Accuracy: 87.39%\n",
      "Epoch [259/400], Loss: 0.2747, Accuracy: 90.31%, Test Loss: 0.3609, Test Accuracy: 87.14%\n",
      "Epoch [260/400], Loss: 0.2746, Accuracy: 90.23%, Test Loss: 0.3536, Test Accuracy: 87.24%\n",
      "Epoch [261/400], Loss: 0.2765, Accuracy: 90.16%, Test Loss: 0.3593, Test Accuracy: 87.45%\n",
      "Epoch [262/400], Loss: 0.2802, Accuracy: 89.98%, Test Loss: 0.3559, Test Accuracy: 87.51%\n",
      "Epoch [263/400], Loss: 0.2796, Accuracy: 90.06%, Test Loss: 0.3531, Test Accuracy: 87.57%\n",
      "Epoch [264/400], Loss: 0.2752, Accuracy: 90.24%, Test Loss: 0.3676, Test Accuracy: 87.17%\n",
      "Epoch [265/400], Loss: 0.2767, Accuracy: 90.19%, Test Loss: 0.3487, Test Accuracy: 87.59%\n",
      "Epoch [266/400], Loss: 0.2731, Accuracy: 90.26%, Test Loss: 0.3487, Test Accuracy: 87.75%\n",
      "Epoch [267/400], Loss: 0.2705, Accuracy: 90.40%, Test Loss: 0.3686, Test Accuracy: 87.06%\n",
      "Epoch [268/400], Loss: 0.2725, Accuracy: 90.34%, Test Loss: 0.3562, Test Accuracy: 87.28%\n",
      "Epoch [269/400], Loss: 0.2702, Accuracy: 90.47%, Test Loss: 0.3502, Test Accuracy: 87.48%\n",
      "Epoch [270/400], Loss: 0.2707, Accuracy: 90.28%, Test Loss: 0.3485, Test Accuracy: 87.61%\n",
      "Epoch [271/400], Loss: 0.2679, Accuracy: 90.54%, Test Loss: 0.3493, Test Accuracy: 87.53%\n",
      "Epoch [272/400], Loss: 0.2709, Accuracy: 90.37%, Test Loss: 0.3504, Test Accuracy: 87.67%\n",
      "Epoch [273/400], Loss: 0.2727, Accuracy: 90.27%, Test Loss: 0.3540, Test Accuracy: 87.70%\n",
      "Epoch [274/400], Loss: 0.2743, Accuracy: 90.28%, Test Loss: 0.3536, Test Accuracy: 87.76%\n",
      "Epoch [275/400], Loss: 0.2718, Accuracy: 90.34%, Test Loss: 0.3540, Test Accuracy: 87.41%\n",
      "Epoch [276/400], Loss: 0.2694, Accuracy: 90.52%, Test Loss: 0.3520, Test Accuracy: 87.43%\n",
      "Epoch [277/400], Loss: 0.2694, Accuracy: 90.44%, Test Loss: 0.3491, Test Accuracy: 87.60%\n",
      "Epoch [278/400], Loss: 0.2647, Accuracy: 90.67%, Test Loss: 0.3531, Test Accuracy: 87.34%\n",
      "Epoch [279/400], Loss: 0.2704, Accuracy: 90.36%, Test Loss: 0.3714, Test Accuracy: 86.75%\n",
      "Epoch [280/400], Loss: 0.2902, Accuracy: 89.50%, Test Loss: 0.3473, Test Accuracy: 87.68%\n",
      "Epoch [281/400], Loss: 0.2664, Accuracy: 90.56%, Test Loss: 0.3489, Test Accuracy: 87.47%\n",
      "Epoch [282/400], Loss: 0.2671, Accuracy: 90.57%, Test Loss: 0.3477, Test Accuracy: 87.51%\n",
      "Epoch [283/400], Loss: 0.2647, Accuracy: 90.68%, Test Loss: 0.3530, Test Accuracy: 87.29%\n",
      "Epoch [284/400], Loss: 0.2694, Accuracy: 90.42%, Test Loss: 0.3554, Test Accuracy: 87.30%\n",
      "Epoch [285/400], Loss: 0.2618, Accuracy: 90.74%, Test Loss: 0.3519, Test Accuracy: 87.45%\n",
      "Epoch [286/400], Loss: 0.2652, Accuracy: 90.57%, Test Loss: 0.3706, Test Accuracy: 87.08%\n",
      "Epoch [287/400], Loss: 0.2657, Accuracy: 90.59%, Test Loss: 0.3483, Test Accuracy: 87.63%\n",
      "Epoch [288/400], Loss: 0.2610, Accuracy: 90.70%, Test Loss: 0.3551, Test Accuracy: 87.60%\n",
      "Epoch [289/400], Loss: 0.2675, Accuracy: 90.53%, Test Loss: 0.3550, Test Accuracy: 87.36%\n",
      "Epoch [290/400], Loss: 0.2624, Accuracy: 90.69%, Test Loss: 0.3426, Test Accuracy: 87.73%\n",
      "Epoch [291/400], Loss: 0.2626, Accuracy: 90.65%, Test Loss: 0.3427, Test Accuracy: 87.85%\n",
      "Epoch [292/400], Loss: 0.2590, Accuracy: 90.86%, Test Loss: 0.3528, Test Accuracy: 87.44%\n",
      "Epoch [293/400], Loss: 0.2631, Accuracy: 90.65%, Test Loss: 0.3551, Test Accuracy: 87.33%\n",
      "Epoch [294/400], Loss: 0.2579, Accuracy: 90.85%, Test Loss: 0.3483, Test Accuracy: 87.70%\n",
      "Epoch [295/400], Loss: 0.2605, Accuracy: 90.68%, Test Loss: 0.3606, Test Accuracy: 87.08%\n",
      "Epoch [296/400], Loss: 0.2567, Accuracy: 90.94%, Test Loss: 0.3480, Test Accuracy: 87.84%\n",
      "Epoch [297/400], Loss: 0.2595, Accuracy: 90.73%, Test Loss: 0.3613, Test Accuracy: 87.06%\n",
      "Epoch [298/400], Loss: 0.2630, Accuracy: 90.60%, Test Loss: 0.3447, Test Accuracy: 87.79%\n",
      "Epoch [299/400], Loss: 0.2610, Accuracy: 90.70%, Test Loss: 0.3477, Test Accuracy: 87.62%\n",
      "Epoch [300/400], Loss: 0.2614, Accuracy: 90.71%, Test Loss: 0.3632, Test Accuracy: 87.26%\n",
      "Epoch [301/400], Loss: 0.2564, Accuracy: 90.92%, Test Loss: 0.3407, Test Accuracy: 88.02%\n",
      "Epoch [302/400], Loss: 0.2543, Accuracy: 90.97%, Test Loss: 0.3432, Test Accuracy: 87.97%\n",
      "Epoch [303/400], Loss: 0.2604, Accuracy: 90.72%, Test Loss: 0.3613, Test Accuracy: 87.45%\n",
      "Epoch [304/400], Loss: 0.2552, Accuracy: 91.00%, Test Loss: 0.3501, Test Accuracy: 87.67%\n",
      "Epoch [305/400], Loss: 0.2578, Accuracy: 90.78%, Test Loss: 0.3446, Test Accuracy: 88.01%\n",
      "Epoch [306/400], Loss: 0.2497, Accuracy: 91.19%, Test Loss: 0.3407, Test Accuracy: 88.00%\n",
      "Epoch [307/400], Loss: 0.2542, Accuracy: 90.99%, Test Loss: 0.3422, Test Accuracy: 87.91%\n",
      "Epoch [308/400], Loss: 0.2671, Accuracy: 90.56%, Test Loss: 0.3684, Test Accuracy: 86.95%\n",
      "Epoch [309/400], Loss: 0.2676, Accuracy: 90.43%, Test Loss: 0.3624, Test Accuracy: 87.44%\n",
      "Epoch [310/400], Loss: 0.2520, Accuracy: 91.09%, Test Loss: 0.3554, Test Accuracy: 87.62%\n",
      "Epoch [311/400], Loss: 0.2542, Accuracy: 90.96%, Test Loss: 0.3435, Test Accuracy: 87.90%\n",
      "Epoch [312/400], Loss: 0.2483, Accuracy: 91.18%, Test Loss: 0.3485, Test Accuracy: 87.72%\n",
      "Epoch [313/400], Loss: 0.2548, Accuracy: 90.94%, Test Loss: 0.3467, Test Accuracy: 87.79%\n",
      "Epoch [314/400], Loss: 0.2494, Accuracy: 91.12%, Test Loss: 0.3864, Test Accuracy: 86.74%\n",
      "Epoch [315/400], Loss: 0.2529, Accuracy: 90.95%, Test Loss: 0.3574, Test Accuracy: 87.41%\n",
      "Epoch [316/400], Loss: 0.2561, Accuracy: 90.76%, Test Loss: 0.3477, Test Accuracy: 87.81%\n",
      "Epoch [317/400], Loss: 0.2495, Accuracy: 91.09%, Test Loss: 0.3389, Test Accuracy: 88.02%\n",
      "Epoch [318/400], Loss: 0.2490, Accuracy: 91.16%, Test Loss: 0.3556, Test Accuracy: 87.37%\n",
      "Epoch [319/400], Loss: 0.2479, Accuracy: 91.27%, Test Loss: 0.3394, Test Accuracy: 88.12%\n",
      "Epoch [320/400], Loss: 0.2490, Accuracy: 91.15%, Test Loss: 0.3431, Test Accuracy: 88.07%\n",
      "Epoch [321/400], Loss: 0.2458, Accuracy: 91.40%, Test Loss: 0.3599, Test Accuracy: 87.50%\n",
      "Epoch [322/400], Loss: 0.2624, Accuracy: 90.56%, Test Loss: 0.3606, Test Accuracy: 87.43%\n",
      "Epoch [323/400], Loss: 0.2593, Accuracy: 90.64%, Test Loss: 0.3635, Test Accuracy: 87.19%\n",
      "Epoch [324/400], Loss: 0.2459, Accuracy: 91.28%, Test Loss: 0.3519, Test Accuracy: 87.43%\n",
      "Epoch [325/400], Loss: 0.2457, Accuracy: 91.28%, Test Loss: 0.3517, Test Accuracy: 87.84%\n",
      "Epoch [326/400], Loss: 0.2436, Accuracy: 91.35%, Test Loss: 0.3499, Test Accuracy: 87.61%\n",
      "Epoch [327/400], Loss: 0.2474, Accuracy: 91.21%, Test Loss: 0.3411, Test Accuracy: 88.08%\n",
      "Epoch [328/400], Loss: 0.2469, Accuracy: 91.24%, Test Loss: 0.3469, Test Accuracy: 87.92%\n",
      "Epoch [329/400], Loss: 0.2525, Accuracy: 90.87%, Test Loss: 0.3469, Test Accuracy: 88.06%\n",
      "Epoch [330/400], Loss: 0.2555, Accuracy: 90.84%, Test Loss: 0.3393, Test Accuracy: 88.02%\n",
      "Epoch [331/400], Loss: 0.2452, Accuracy: 91.20%, Test Loss: 0.3387, Test Accuracy: 88.16%\n",
      "Epoch [332/400], Loss: 0.2495, Accuracy: 91.11%, Test Loss: 0.3702, Test Accuracy: 87.36%\n",
      "Epoch [333/400], Loss: 0.2406, Accuracy: 91.48%, Test Loss: 0.3422, Test Accuracy: 88.10%\n",
      "Epoch [334/400], Loss: 0.2401, Accuracy: 91.51%, Test Loss: 0.3393, Test Accuracy: 88.09%\n",
      "Epoch [335/400], Loss: 0.2775, Accuracy: 90.23%, Test Loss: 0.3473, Test Accuracy: 87.81%\n",
      "Epoch [336/400], Loss: 0.2421, Accuracy: 91.39%, Test Loss: 0.3402, Test Accuracy: 88.17%\n",
      "Epoch [337/400], Loss: 0.2386, Accuracy: 91.59%, Test Loss: 0.3527, Test Accuracy: 87.67%\n",
      "Epoch [338/400], Loss: 0.2404, Accuracy: 91.44%, Test Loss: 0.3358, Test Accuracy: 88.39%\n",
      "Epoch [339/400], Loss: 0.2440, Accuracy: 91.34%, Test Loss: 0.3380, Test Accuracy: 88.15%\n",
      "Epoch [340/400], Loss: 0.2425, Accuracy: 91.39%, Test Loss: 0.3522, Test Accuracy: 87.42%\n",
      "Epoch [341/400], Loss: 0.2455, Accuracy: 91.22%, Test Loss: 0.3387, Test Accuracy: 88.20%\n",
      "Epoch [342/400], Loss: 0.2415, Accuracy: 91.41%, Test Loss: 0.3394, Test Accuracy: 87.93%\n",
      "Epoch [343/400], Loss: 0.2363, Accuracy: 91.60%, Test Loss: 0.3376, Test Accuracy: 88.34%\n",
      "Epoch [344/400], Loss: 0.2473, Accuracy: 91.20%, Test Loss: 0.3394, Test Accuracy: 88.11%\n",
      "Epoch [345/400], Loss: 0.2366, Accuracy: 91.55%, Test Loss: 0.3392, Test Accuracy: 87.99%\n",
      "Epoch [346/400], Loss: 0.2383, Accuracy: 91.50%, Test Loss: 0.3634, Test Accuracy: 87.07%\n",
      "Epoch [347/400], Loss: 0.2415, Accuracy: 91.36%, Test Loss: 0.3570, Test Accuracy: 87.31%\n",
      "Epoch [348/400], Loss: 0.2349, Accuracy: 91.63%, Test Loss: 0.3423, Test Accuracy: 88.20%\n",
      "Epoch [349/400], Loss: 0.2431, Accuracy: 91.25%, Test Loss: 0.3597, Test Accuracy: 87.36%\n",
      "Epoch [350/400], Loss: 0.2323, Accuracy: 91.80%, Test Loss: 0.3359, Test Accuracy: 88.28%\n",
      "Epoch [351/400], Loss: 0.2360, Accuracy: 91.68%, Test Loss: 0.3484, Test Accuracy: 87.61%\n",
      "Epoch [352/400], Loss: 0.2516, Accuracy: 91.01%, Test Loss: 0.3447, Test Accuracy: 87.89%\n",
      "Epoch [353/400], Loss: 0.2334, Accuracy: 91.61%, Test Loss: 0.3407, Test Accuracy: 88.31%\n",
      "Epoch [354/400], Loss: 0.2373, Accuracy: 91.61%, Test Loss: 0.3358, Test Accuracy: 88.16%\n",
      "Epoch [355/400], Loss: 0.2378, Accuracy: 91.47%, Test Loss: 0.3760, Test Accuracy: 86.97%\n",
      "Epoch [356/400], Loss: 0.2336, Accuracy: 91.72%, Test Loss: 0.3773, Test Accuracy: 86.65%\n",
      "Epoch [357/400], Loss: 0.2621, Accuracy: 90.60%, Test Loss: 0.3359, Test Accuracy: 88.17%\n",
      "Epoch [358/400], Loss: 0.2342, Accuracy: 91.81%, Test Loss: 0.3448, Test Accuracy: 88.04%\n",
      "Epoch [359/400], Loss: 0.2298, Accuracy: 91.86%, Test Loss: 0.3337, Test Accuracy: 88.31%\n",
      "Epoch [360/400], Loss: 0.2330, Accuracy: 91.73%, Test Loss: 0.3340, Test Accuracy: 88.24%\n",
      "Epoch [361/400], Loss: 0.2292, Accuracy: 91.98%, Test Loss: 0.3342, Test Accuracy: 88.32%\n",
      "Epoch [362/400], Loss: 0.2315, Accuracy: 91.84%, Test Loss: 0.3373, Test Accuracy: 88.38%\n",
      "Epoch [363/400], Loss: 0.2338, Accuracy: 91.64%, Test Loss: 0.3420, Test Accuracy: 88.00%\n",
      "Epoch [364/400], Loss: 0.2271, Accuracy: 92.00%, Test Loss: 0.3370, Test Accuracy: 88.18%\n",
      "Epoch [365/400], Loss: 0.2360, Accuracy: 91.50%, Test Loss: 0.3397, Test Accuracy: 88.01%\n",
      "Epoch [366/400], Loss: 0.2302, Accuracy: 91.86%, Test Loss: 0.3468, Test Accuracy: 87.98%\n",
      "Epoch [367/400], Loss: 0.2345, Accuracy: 91.72%, Test Loss: 0.3540, Test Accuracy: 87.63%\n",
      "Epoch [368/400], Loss: 0.2460, Accuracy: 91.12%, Test Loss: 0.3527, Test Accuracy: 87.65%\n",
      "Epoch [369/400], Loss: 0.2292, Accuracy: 91.84%, Test Loss: 0.3352, Test Accuracy: 88.27%\n",
      "Epoch [370/400], Loss: 0.2604, Accuracy: 90.65%, Test Loss: 0.3402, Test Accuracy: 88.44%\n",
      "Epoch [371/400], Loss: 0.2253, Accuracy: 92.05%, Test Loss: 0.3344, Test Accuracy: 88.37%\n",
      "Epoch [372/400], Loss: 0.2300, Accuracy: 91.87%, Test Loss: 0.3751, Test Accuracy: 86.89%\n",
      "Epoch [373/400], Loss: 0.2324, Accuracy: 91.75%, Test Loss: 0.3479, Test Accuracy: 88.08%\n",
      "Epoch [374/400], Loss: 0.2260, Accuracy: 92.06%, Test Loss: 0.3403, Test Accuracy: 88.42%\n",
      "Epoch [375/400], Loss: 0.2351, Accuracy: 91.67%, Test Loss: 0.3322, Test Accuracy: 88.60%\n",
      "Epoch [376/400], Loss: 0.2222, Accuracy: 92.12%, Test Loss: 0.3382, Test Accuracy: 88.08%\n",
      "Epoch [377/400], Loss: 0.2257, Accuracy: 91.99%, Test Loss: 0.3502, Test Accuracy: 87.85%\n",
      "Epoch [378/400], Loss: 0.2248, Accuracy: 92.00%, Test Loss: 0.3337, Test Accuracy: 88.41%\n",
      "Epoch [379/400], Loss: 0.2209, Accuracy: 92.26%, Test Loss: 0.3737, Test Accuracy: 86.88%\n",
      "Epoch [380/400], Loss: 0.2246, Accuracy: 91.99%, Test Loss: 0.3401, Test Accuracy: 88.28%\n",
      "Epoch [381/400], Loss: 0.2393, Accuracy: 91.40%, Test Loss: 0.3446, Test Accuracy: 87.98%\n",
      "Epoch [382/400], Loss: 0.2272, Accuracy: 91.99%, Test Loss: 0.3384, Test Accuracy: 88.21%\n",
      "Epoch [383/400], Loss: 0.2251, Accuracy: 92.02%, Test Loss: 0.3524, Test Accuracy: 87.77%\n",
      "Epoch [384/400], Loss: 0.2309, Accuracy: 91.65%, Test Loss: 0.3427, Test Accuracy: 88.05%\n",
      "Epoch [385/400], Loss: 0.2253, Accuracy: 91.95%, Test Loss: 0.3363, Test Accuracy: 88.12%\n",
      "Epoch [386/400], Loss: 0.2212, Accuracy: 92.22%, Test Loss: 0.3380, Test Accuracy: 88.12%\n",
      "Epoch [387/400], Loss: 0.2244, Accuracy: 92.03%, Test Loss: 0.3464, Test Accuracy: 87.99%\n",
      "Epoch [388/400], Loss: 0.2241, Accuracy: 92.05%, Test Loss: 0.3936, Test Accuracy: 86.42%\n",
      "Epoch [389/400], Loss: 0.2224, Accuracy: 92.08%, Test Loss: 0.3484, Test Accuracy: 88.07%\n",
      "Epoch [390/400], Loss: 0.2226, Accuracy: 92.09%, Test Loss: 0.3973, Test Accuracy: 86.55%\n",
      "Epoch [391/400], Loss: 0.2323, Accuracy: 91.75%, Test Loss: 0.3377, Test Accuracy: 88.28%\n",
      "Epoch [392/400], Loss: 0.2204, Accuracy: 92.20%, Test Loss: 0.3375, Test Accuracy: 88.09%\n",
      "Epoch [393/400], Loss: 0.2193, Accuracy: 92.30%, Test Loss: 0.3371, Test Accuracy: 88.12%\n",
      "Epoch [394/400], Loss: 0.2170, Accuracy: 92.41%, Test Loss: 0.3307, Test Accuracy: 88.57%\n",
      "Epoch [395/400], Loss: 0.2202, Accuracy: 92.11%, Test Loss: 0.3377, Test Accuracy: 88.22%\n",
      "Epoch [396/400], Loss: 0.2362, Accuracy: 91.52%, Test Loss: 0.3376, Test Accuracy: 88.49%\n",
      "Epoch [397/400], Loss: 0.2202, Accuracy: 92.12%, Test Loss: 0.3367, Test Accuracy: 88.24%\n",
      "Epoch [398/400], Loss: 0.2154, Accuracy: 92.46%, Test Loss: 0.3499, Test Accuracy: 87.78%\n",
      "Epoch [399/400], Loss: 0.2350, Accuracy: 91.51%, Test Loss: 0.3487, Test Accuracy: 87.98%\n",
      "Epoch [400/400], Loss: 0.2247, Accuracy: 91.92%, Test Loss: 0.3560, Test Accuracy: 87.68%\n"
     ]
    }
   ],
   "source": [
    "# train\n",
    "for epoch in range(max_epoch):\n",
    "    running_loss = 0.0\n",
    "    running_correct = 0   # to track number of correct predictions\n",
    "    total = 0             # to track total number of samples\n",
    "\n",
    "    for i, (inputs, labels) in enumerate(trainloader, 0):\n",
    "        # Move inputs and labels to the device\n",
    "        inputs, labels = inputs.to(device), labels.to(device)\n",
    "\n",
    "        # Zero the parameter gradients\n",
    "        optimizer.zero_grad()\n",
    "\n",
    "        # Forward pass\n",
    "        outputs = model(inputs)\n",
    "        loss = criterion(outputs, labels)\n",
    "        running_loss += loss.item()\n",
    "\n",
    "        # Determine class predictions and track accuracy\n",
    "        _, predicted = torch.max(outputs.data, 1)\n",
    "        total += labels.size(0)\n",
    "        running_correct += (predicted == labels).sum().item()\n",
    "\n",
    "        # Backward pass and optimization\n",
    "        loss.backward()\n",
    "        optimizer.step()        \n",
    "\n",
    "    epoch_accuracy = 100 * running_correct / total\n",
    "    epoch_loss = running_loss / (i + 1)\n",
    "    test_loss, test_accuracy = evaluate(model, testloader, criterion)\n",
    "    print(f\"Epoch [{epoch + 1}/{max_epoch}], Loss: {epoch_loss:.4f}, Accuracy: {epoch_accuracy:.2f}%, Test Loss: {test_loss:.4f}, Test Accuracy: {test_accuracy:.2f}%\")\n",
    "    \n",
    "    # save for plot\n",
    "    train_losses.append(epoch_loss)\n",
    "    train_accuracies.append(epoch_accuracy)\n",
    "    test_losses.append(test_loss)\n",
    "    test_accuracies.append(test_accuracy)"
   ]
  },
  {
   "cell_type": "code",
   "execution_count": null,
   "metadata": {
    "id": "QKFbl4unF_6t"
   },
   "outputs": [],
   "source": []
  },
  {
   "cell_type": "code",
   "execution_count": 11,
   "metadata": {
    "id": "AwIj3vrnF_8_"
   },
   "outputs": [
    {
     "data": {
      "text/plain": [
       "<matplotlib.legend.Legend at 0x7f6af7c5bfd0>"
      ]
     },
     "execution_count": 11,
     "metadata": {},
     "output_type": "execute_result"
    },
    {
     "data": {
      "image/png": "[encoded data removed]",
      "text/plain": [
       "<Figure size 640x480 with 1 Axes>"
      ]
     },
     "metadata": {},
     "output_type": "display_data"
    }
   ],
   "source": [
    "import matplotlib.pyplot as plt\n",
    "\n",
    "plt.plot(train_losses, label='train_losses')\n",
    "plt.plot(test_losses, label='test_losses')\n",
    "plt.legend()"
   ]
  },
  {
   "cell_type": "code",
   "execution_count": 12,
   "metadata": {
    "id": "eh3iDa8lF__H"
   },
   "outputs": [
    {
     "data": {
      "text/plain": [
       "<matplotlib.legend.Legend at 0x7f6acf8935b0>"
      ]
     },
     "execution_count": 12,
     "metadata": {},
     "output_type": "execute_result"
    },
    {
     "data": {
      "image/png": "[encoded data removed]",
      "text/plain": [
       "<Figure size 640x480 with 1 Axes>"
      ]
     },
     "metadata": {},
     "output_type": "display_data"
    }
   ],
   "source": [
    "import matplotlib.pyplot as plt\n",
    "\n",
    "plt.plot(train_accuracies, label='train_accuracy')\n",
    "plt.plot(test_accuracies, label='test_accuracy')\n",
    "plt.legend()"
   ]
  },
  {
   "cell_type": "code",
   "execution_count": null,
   "metadata": {},
   "outputs": [],
   "source": []
  },
  {
   "cell_type": "code",
   "execution_count": 13,
   "metadata": {},
   "outputs": [
    {
     "data": {
      "text/plain": [
       "<matplotlib.legend.Legend at 0x7f6acc373640>"
      ]
     },
     "execution_count": 13,
     "metadata": {},
     "output_type": "execute_result"
    }
   ],
   "source": [
    "import matplotlib.pyplot as plt\n",
    "%matplotlib qt\n",
    "\n",
    "plt.plot(train_losses, label='train_losses')\n",
    "plt.plot(test_losses, label='test_losses')\n",
    "plt.legend()"
   ]
  },
  {
   "cell_type": "code",
   "execution_count": 14,
   "metadata": {},
   "outputs": [
    {
     "data": {
      "text/plain": [
       "<matplotlib.legend.Legend at 0x7f6a4bc72470>"
      ]
     },
     "execution_count": 14,
     "metadata": {},
     "output_type": "execute_result"
    }
   ],
   "source": [
    "import matplotlib.pyplot as plt\n",
    "%matplotlib qt\n",
    "\n",
    "plt.plot(train_accuracies, label='train_accuracy')\n",
    "plt.plot(test_accuracies, label='test_accuracy')\n",
    "plt.legend()"
   ]
  },
  {
   "cell_type": "code",
   "execution_count": null,
   "metadata": {},
   "outputs": [],
   "source": []
  }
 ],
 "metadata": {
  "accelerator": "GPU",
  "colab": {
   "gpuType": "T4",
   "provenance": []
  },
  "kernelspec": {
   "display_name": "Python 3 (ipykernel)",
   "language": "python",
   "name": "python3"
  },
  "language_info": {
   "codemirror_mode": {
    "name": "ipython",
    "version": 3
   },
   "file_extension": ".py",
   "mimetype": "text/x-python",
   "name": "python",
   "nbconvert_exporter": "python",
   "pygments_lexer": "ipython3",
   "version": "3.9.18"
  }
 },
 "nbformat": 4,
 "nbformat_minor": 4
}
