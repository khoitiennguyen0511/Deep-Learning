{
 "cells": [
  {
   "cell_type": "code",
   "execution_count": 1,
   "metadata": {},
   "outputs": [],
   "source": [
    "import torch\n",
    "import torch.nn as nn\n",
    "import torch.optim as optim\n",
    "import torchvision\n",
    "import torchvision.transforms as transforms\n",
    "\n",
    "# Check if GPU is available\n",
    "device = torch.device(\"cuda:0\" if torch.cuda.is_available() else \"cpu\")"
   ]
  },
  {
   "cell_type": "code",
   "execution_count": null,
   "metadata": {},
   "outputs": [],
   "source": []
  },
  {
   "cell_type": "markdown",
   "metadata": {},
   "source": [
    "#### Data"
   ]
  },
  {
   "cell_type": "code",
   "execution_count": 2,
   "metadata": {},
   "outputs": [],
   "source": [
    "# Load CFashionMNIST dataset\n",
    "transform = transforms.Compose([transforms.ToTensor(), transforms.Normalize((0.5,), (0.5,))])\n",
    "\n",
    "trainset = torchvision.datasets.FashionMNIST(root='data', train=True, download=True, transform=transform)\n",
    "trainloader = torch.utils.data.DataLoader(trainset, batch_size=1024, num_workers=10, shuffle=True)\n",
    "\n",
    "testset = torchvision.datasets.FashionMNIST(root='data', train=False, download=True, transform=transform)\n",
    "testloader = torch.utils.data.DataLoader(testset, batch_size=1024, num_workers=10, shuffle=False)"
   ]
  },
  {
   "cell_type": "code",
   "execution_count": 3,
   "metadata": {},
   "outputs": [
    {
     "data": {
      "image/png": "[encoded data removed]",
      "text/plain": [
       "<Figure size 640x480 with 1 Axes>"
      ]
     },
     "metadata": {},
     "output_type": "display_data"
    }
   ],
   "source": [
    "import matplotlib.pyplot as plt\n",
    "import numpy as np\n",
    "\n",
    "# Function to display the images\n",
    "def imshow(img):\n",
    "    img = img*0.5 + 0.5\n",
    "    np_img = img.numpy()\n",
    "    plt.imshow(np.transpose(np_img, (1, 2, 0)))\n",
    "    plt.show()\n",
    "\n",
    "for i, (images, labels) in enumerate(trainloader, 0):\n",
    "    # Plot some images\n",
    "    imshow(torchvision.utils.make_grid(images[:8]))  # Display 8 images from the batch\n",
    "    break"
   ]
  },
  {
   "cell_type": "code",
   "execution_count": null,
   "metadata": {},
   "outputs": [],
   "source": []
  },
  {
   "cell_type": "markdown",
   "metadata": {},
   "source": [
    "#### Model"
   ]
  },
  {
   "cell_type": "code",
   "execution_count": 6,
   "metadata": {},
   "outputs": [
    {
     "name": "stdout",
     "output_type": "stream",
     "text": [
      "Sequential(\n",
      "  (0): Flatten(start_dim=1, end_dim=-1)\n",
      "  (1): Linear(in_features=784, out_features=256, bias=True)\n",
      "  (2): ReLU()\n",
      "  (3): Linear(in_features=256, out_features=256, bias=True)\n",
      "  (4): ReLU()\n",
      "  (5): Linear(in_features=256, out_features=10, bias=True)\n",
      ")\n"
     ]
    }
   ],
   "source": [
    "model = nn.Sequential(\n",
    "    nn.Flatten(), \n",
    "    nn.Linear(784, 256),\n",
    "    nn.ReLU(),\n",
    "    nn.Linear(256, 256),\n",
    "    nn.ReLU(),\n",
    "    nn.Linear(256, 10)\n",
    ")\n",
    "model = model.to(device)\n",
    "\n",
    "print(model)"
   ]
  },
  {
   "cell_type": "code",
   "execution_count": 7,
   "metadata": {},
   "outputs": [
    {
     "name": "stdout",
     "output_type": "stream",
     "text": [
      "torch.Size([5, 10])\n"
     ]
    }
   ],
   "source": [
    "# Generating a random tensor\n",
    "input_tensor = torch.rand(5, 28, 28).to(device)\n",
    "\n",
    "# Feeding the tensor into the model\n",
    "output = model(input_tensor)\n",
    "print(output.shape)"
   ]
  },
  {
   "cell_type": "code",
   "execution_count": null,
   "metadata": {},
   "outputs": [],
   "source": []
  },
  {
   "cell_type": "markdown",
   "metadata": {},
   "source": [
    "#### Loss, Optimizer, and Evaluation Function"
   ]
  },
  {
   "cell_type": "code",
   "execution_count": 8,
   "metadata": {},
   "outputs": [],
   "source": [
    "criterion = nn.CrossEntropyLoss()\n",
    "optimizer = optim.SGD(model.parameters(), lr=0.01)"
   ]
  },
  {
   "cell_type": "code",
   "execution_count": 9,
   "metadata": {},
   "outputs": [],
   "source": [
    "# Function to compute loss and accuracy for test set\n",
    "def evaluate(model, testloader, criterion):\n",
    "    model.eval()\n",
    "    test_loss = 0.0\n",
    "    correct = 0\n",
    "    total = 0\n",
    "    with torch.no_grad():\n",
    "        for images, labels in testloader:\n",
    "            # Move inputs and labels to the device\n",
    "            images, labels = images.to(device), labels.to(device)\n",
    "\n",
    "            outputs = model(images)\n",
    "            loss = criterion(outputs, labels)\n",
    "            test_loss += loss.item()\n",
    "            \n",
    "            _, predicted = torch.max(outputs.data, 1)\n",
    "            total += labels.size(0)\n",
    "            correct += (predicted == labels).sum().item()\n",
    "\n",
    "    accuracy = 100 * correct / total\n",
    "    test_loss = test_loss / len(testloader)\n",
    "    return test_loss, accuracy"
   ]
  },
  {
   "cell_type": "code",
   "execution_count": 10,
   "metadata": {},
   "outputs": [
    {
     "name": "stdout",
     "output_type": "stream",
     "text": [
      "test_loss: 2.305897831916809\n",
      "test_accuracy: 9.21\n"
     ]
    }
   ],
   "source": [
    "test_loss, test_accuracy = evaluate(model, testloader, criterion)\n",
    "print(f'test_loss: {test_loss}')\n",
    "print(f'test_accuracy: {test_accuracy}')"
   ]
  },
  {
   "cell_type": "code",
   "execution_count": null,
   "metadata": {},
   "outputs": [],
   "source": []
  },
  {
   "cell_type": "markdown",
   "metadata": {},
   "source": [
    "#### Train"
   ]
  },
  {
   "cell_type": "code",
   "execution_count": 11,
   "metadata": {},
   "outputs": [],
   "source": [
    "# some parameter\n",
    "train_losses = []\n",
    "train_accuracies = []\n",
    "test_losses = []\n",
    "test_accuracies = []\n",
    "max_epoch = 400"
   ]
  },
  {
   "cell_type": "code",
   "execution_count": 12,
   "metadata": {
    "colab": {
     "base_uri": "https://localhost:8080/"
    },
    "id": "tYwXeSOOF_4Z",
    "outputId": "a4c62a4a-267f-4101-ce96-662cc23cdbe0"
   },
   "outputs": [
    {
     "name": "stdout",
     "output_type": "stream",
     "text": [
      "Epoch [1/400], Loss: 2.1935, Accuracy: 32.75%, Test Loss: 2.0568, Test Accuracy: 46.43%\n",
      "Epoch [2/400], Loss: 1.8682, Accuracy: 48.52%, Test Loss: 1.6624, Test Accuracy: 54.60%\n",
      "Epoch [3/400], Loss: 1.4747, Accuracy: 60.73%, Test Loss: 1.3097, Test Accuracy: 65.80%\n",
      "Epoch [4/400], Loss: 1.1827, Accuracy: 68.62%, Test Loss: 1.0828, Test Accuracy: 70.10%\n",
      "Epoch [5/400], Loss: 1.0001, Accuracy: 71.38%, Test Loss: 0.9430, Test Accuracy: 71.42%\n",
      "Epoch [6/400], Loss: 0.8852, Accuracy: 72.86%, Test Loss: 0.8526, Test Accuracy: 73.01%\n",
      "Epoch [7/400], Loss: 0.8090, Accuracy: 73.87%, Test Loss: 0.7919, Test Accuracy: 73.58%\n",
      "Epoch [8/400], Loss: 0.7560, Accuracy: 74.58%, Test Loss: 0.7483, Test Accuracy: 74.30%\n",
      "Epoch [9/400], Loss: 0.7170, Accuracy: 75.22%, Test Loss: 0.7163, Test Accuracy: 75.21%\n",
      "Epoch [10/400], Loss: 0.6872, Accuracy: 75.81%, Test Loss: 0.6907, Test Accuracy: 75.56%\n",
      "Epoch [11/400], Loss: 0.6640, Accuracy: 76.36%, Test Loss: 0.6701, Test Accuracy: 75.97%\n",
      "Epoch [12/400], Loss: 0.6444, Accuracy: 76.97%, Test Loss: 0.6531, Test Accuracy: 76.36%\n",
      "Epoch [13/400], Loss: 0.6277, Accuracy: 77.47%, Test Loss: 0.6384, Test Accuracy: 76.82%\n",
      "Epoch [14/400], Loss: 0.6131, Accuracy: 77.96%, Test Loss: 0.6249, Test Accuracy: 77.24%\n",
      "Epoch [15/400], Loss: 0.6005, Accuracy: 78.45%, Test Loss: 0.6139, Test Accuracy: 77.51%\n",
      "Epoch [16/400], Loss: 0.5889, Accuracy: 78.84%, Test Loss: 0.6030, Test Accuracy: 77.91%\n",
      "Epoch [17/400], Loss: 0.5787, Accuracy: 79.21%, Test Loss: 0.5937, Test Accuracy: 78.35%\n",
      "Epoch [18/400], Loss: 0.5693, Accuracy: 79.61%, Test Loss: 0.5853, Test Accuracy: 78.61%\n",
      "Epoch [19/400], Loss: 0.5602, Accuracy: 79.98%, Test Loss: 0.5767, Test Accuracy: 78.88%\n",
      "Epoch [20/400], Loss: 0.5521, Accuracy: 80.25%, Test Loss: 0.5710, Test Accuracy: 79.14%\n",
      "Epoch [21/400], Loss: 0.5450, Accuracy: 80.56%, Test Loss: 0.5627, Test Accuracy: 79.53%\n",
      "Epoch [22/400], Loss: 0.5379, Accuracy: 80.84%, Test Loss: 0.5576, Test Accuracy: 79.82%\n",
      "Epoch [23/400], Loss: 0.5312, Accuracy: 81.11%, Test Loss: 0.5508, Test Accuracy: 79.96%\n",
      "Epoch [24/400], Loss: 0.5256, Accuracy: 81.28%, Test Loss: 0.5454, Test Accuracy: 80.34%\n",
      "Epoch [25/400], Loss: 0.5200, Accuracy: 81.53%, Test Loss: 0.5406, Test Accuracy: 80.69%\n",
      "Epoch [26/400], Loss: 0.5147, Accuracy: 81.78%, Test Loss: 0.5359, Test Accuracy: 80.76%\n",
      "Epoch [27/400], Loss: 0.5099, Accuracy: 81.92%, Test Loss: 0.5333, Test Accuracy: 80.59%\n",
      "Epoch [28/400], Loss: 0.5050, Accuracy: 82.06%, Test Loss: 0.5286, Test Accuracy: 80.99%\n",
      "Epoch [29/400], Loss: 0.5009, Accuracy: 82.27%, Test Loss: 0.5239, Test Accuracy: 81.21%\n",
      "Epoch [30/400], Loss: 0.4970, Accuracy: 82.40%, Test Loss: 0.5201, Test Accuracy: 81.01%\n",
      "Epoch [31/400], Loss: 0.4928, Accuracy: 82.62%, Test Loss: 0.5173, Test Accuracy: 81.18%\n",
      "Epoch [32/400], Loss: 0.4893, Accuracy: 82.68%, Test Loss: 0.5136, Test Accuracy: 81.49%\n",
      "Epoch [33/400], Loss: 0.4857, Accuracy: 82.82%, Test Loss: 0.5107, Test Accuracy: 81.51%\n",
      "Epoch [34/400], Loss: 0.4820, Accuracy: 83.02%, Test Loss: 0.5078, Test Accuracy: 81.58%\n",
      "Epoch [35/400], Loss: 0.4786, Accuracy: 83.09%, Test Loss: 0.5054, Test Accuracy: 81.61%\n",
      "Epoch [36/400], Loss: 0.4754, Accuracy: 83.27%, Test Loss: 0.5025, Test Accuracy: 81.91%\n",
      "Epoch [37/400], Loss: 0.4728, Accuracy: 83.31%, Test Loss: 0.4998, Test Accuracy: 81.88%\n",
      "Epoch [38/400], Loss: 0.4700, Accuracy: 83.37%, Test Loss: 0.4970, Test Accuracy: 82.12%\n",
      "Epoch [39/400], Loss: 0.4671, Accuracy: 83.51%, Test Loss: 0.4955, Test Accuracy: 82.05%\n",
      "Epoch [40/400], Loss: 0.4647, Accuracy: 83.58%, Test Loss: 0.4928, Test Accuracy: 82.18%\n",
      "Epoch [41/400], Loss: 0.4619, Accuracy: 83.70%, Test Loss: 0.4916, Test Accuracy: 82.26%\n",
      "Epoch [42/400], Loss: 0.4594, Accuracy: 83.77%, Test Loss: 0.4878, Test Accuracy: 82.37%\n",
      "Epoch [43/400], Loss: 0.4574, Accuracy: 83.88%, Test Loss: 0.4862, Test Accuracy: 82.40%\n",
      "Epoch [44/400], Loss: 0.4550, Accuracy: 83.96%, Test Loss: 0.4849, Test Accuracy: 82.55%\n",
      "Epoch [45/400], Loss: 0.4530, Accuracy: 84.00%, Test Loss: 0.4828, Test Accuracy: 82.49%\n",
      "Epoch [46/400], Loss: 0.4503, Accuracy: 84.13%, Test Loss: 0.4812, Test Accuracy: 82.56%\n",
      "Epoch [47/400], Loss: 0.4486, Accuracy: 84.16%, Test Loss: 0.4794, Test Accuracy: 82.72%\n",
      "Epoch [48/400], Loss: 0.4458, Accuracy: 84.28%, Test Loss: 0.4767, Test Accuracy: 82.88%\n",
      "Epoch [49/400], Loss: 0.4440, Accuracy: 84.35%, Test Loss: 0.4751, Test Accuracy: 82.97%\n",
      "Epoch [50/400], Loss: 0.4421, Accuracy: 84.41%, Test Loss: 0.4750, Test Accuracy: 82.87%\n",
      "Epoch [51/400], Loss: 0.4402, Accuracy: 84.52%, Test Loss: 0.4728, Test Accuracy: 82.91%\n",
      "Epoch [52/400], Loss: 0.4384, Accuracy: 84.54%, Test Loss: 0.4711, Test Accuracy: 83.03%\n",
      "Epoch [53/400], Loss: 0.4367, Accuracy: 84.61%, Test Loss: 0.4694, Test Accuracy: 83.14%\n",
      "Epoch [54/400], Loss: 0.4349, Accuracy: 84.67%, Test Loss: 0.4670, Test Accuracy: 83.40%\n",
      "Epoch [55/400], Loss: 0.4332, Accuracy: 84.71%, Test Loss: 0.4669, Test Accuracy: 83.30%\n",
      "Epoch [56/400], Loss: 0.4314, Accuracy: 84.73%, Test Loss: 0.4645, Test Accuracy: 83.36%\n",
      "Epoch [57/400], Loss: 0.4296, Accuracy: 84.79%, Test Loss: 0.4629, Test Accuracy: 83.39%\n",
      "Epoch [58/400], Loss: 0.4286, Accuracy: 84.85%, Test Loss: 0.4616, Test Accuracy: 83.50%\n",
      "Epoch [59/400], Loss: 0.4269, Accuracy: 84.88%, Test Loss: 0.4607, Test Accuracy: 83.55%\n",
      "Epoch [60/400], Loss: 0.4250, Accuracy: 85.00%, Test Loss: 0.4591, Test Accuracy: 83.53%\n",
      "Epoch [61/400], Loss: 0.4238, Accuracy: 85.07%, Test Loss: 0.4578, Test Accuracy: 83.61%\n",
      "Epoch [62/400], Loss: 0.4227, Accuracy: 85.09%, Test Loss: 0.4570, Test Accuracy: 83.67%\n",
      "Epoch [63/400], Loss: 0.4206, Accuracy: 85.11%, Test Loss: 0.4552, Test Accuracy: 83.76%\n",
      "Epoch [64/400], Loss: 0.4195, Accuracy: 85.18%, Test Loss: 0.4537, Test Accuracy: 83.77%\n",
      "Epoch [65/400], Loss: 0.4177, Accuracy: 85.25%, Test Loss: 0.4530, Test Accuracy: 83.80%\n",
      "Epoch [66/400], Loss: 0.4164, Accuracy: 85.28%, Test Loss: 0.4516, Test Accuracy: 83.83%\n",
      "Epoch [67/400], Loss: 0.4154, Accuracy: 85.36%, Test Loss: 0.4518, Test Accuracy: 83.84%\n",
      "Epoch [68/400], Loss: 0.4139, Accuracy: 85.38%, Test Loss: 0.4499, Test Accuracy: 84.03%\n",
      "Epoch [69/400], Loss: 0.4130, Accuracy: 85.41%, Test Loss: 0.4485, Test Accuracy: 83.97%\n",
      "Epoch [70/400], Loss: 0.4117, Accuracy: 85.50%, Test Loss: 0.4478, Test Accuracy: 83.77%\n",
      "Epoch [71/400], Loss: 0.4103, Accuracy: 85.52%, Test Loss: 0.4481, Test Accuracy: 83.92%\n",
      "Epoch [72/400], Loss: 0.4090, Accuracy: 85.59%, Test Loss: 0.4463, Test Accuracy: 84.05%\n",
      "Epoch [73/400], Loss: 0.4077, Accuracy: 85.55%, Test Loss: 0.4454, Test Accuracy: 83.99%\n",
      "Epoch [74/400], Loss: 0.4065, Accuracy: 85.68%, Test Loss: 0.4445, Test Accuracy: 84.04%\n",
      "Epoch [75/400], Loss: 0.4051, Accuracy: 85.70%, Test Loss: 0.4424, Test Accuracy: 84.08%\n",
      "Epoch [76/400], Loss: 0.4042, Accuracy: 85.72%, Test Loss: 0.4410, Test Accuracy: 84.21%\n",
      "Epoch [77/400], Loss: 0.4035, Accuracy: 85.75%, Test Loss: 0.4412, Test Accuracy: 84.37%\n",
      "Epoch [78/400], Loss: 0.4019, Accuracy: 85.82%, Test Loss: 0.4403, Test Accuracy: 84.26%\n",
      "Epoch [79/400], Loss: 0.4008, Accuracy: 85.83%, Test Loss: 0.4384, Test Accuracy: 84.41%\n",
      "Epoch [80/400], Loss: 0.3992, Accuracy: 85.87%, Test Loss: 0.4377, Test Accuracy: 84.36%\n",
      "Epoch [81/400], Loss: 0.3986, Accuracy: 85.93%, Test Loss: 0.4359, Test Accuracy: 84.51%\n",
      "Epoch [82/400], Loss: 0.3975, Accuracy: 85.93%, Test Loss: 0.4360, Test Accuracy: 84.31%\n",
      "Epoch [83/400], Loss: 0.3960, Accuracy: 85.99%, Test Loss: 0.4342, Test Accuracy: 84.55%\n",
      "Epoch [84/400], Loss: 0.3950, Accuracy: 86.06%, Test Loss: 0.4345, Test Accuracy: 84.50%\n",
      "Epoch [85/400], Loss: 0.3943, Accuracy: 86.08%, Test Loss: 0.4326, Test Accuracy: 84.73%\n",
      "Epoch [86/400], Loss: 0.3928, Accuracy: 86.12%, Test Loss: 0.4318, Test Accuracy: 84.79%\n",
      "Epoch [87/400], Loss: 0.3926, Accuracy: 86.13%, Test Loss: 0.4322, Test Accuracy: 84.60%\n",
      "Epoch [88/400], Loss: 0.3908, Accuracy: 86.17%, Test Loss: 0.4314, Test Accuracy: 84.61%\n",
      "Epoch [89/400], Loss: 0.3901, Accuracy: 86.22%, Test Loss: 0.4289, Test Accuracy: 84.79%\n",
      "Epoch [90/400], Loss: 0.3896, Accuracy: 86.22%, Test Loss: 0.4322, Test Accuracy: 84.81%\n",
      "Epoch [91/400], Loss: 0.3884, Accuracy: 86.26%, Test Loss: 0.4284, Test Accuracy: 84.69%\n",
      "Epoch [92/400], Loss: 0.3876, Accuracy: 86.35%, Test Loss: 0.4266, Test Accuracy: 84.93%\n",
      "Epoch [93/400], Loss: 0.3865, Accuracy: 86.37%, Test Loss: 0.4270, Test Accuracy: 84.75%\n",
      "Epoch [94/400], Loss: 0.3858, Accuracy: 86.42%, Test Loss: 0.4249, Test Accuracy: 84.98%\n",
      "Epoch [95/400], Loss: 0.3845, Accuracy: 86.44%, Test Loss: 0.4262, Test Accuracy: 84.92%\n",
      "Epoch [96/400], Loss: 0.3843, Accuracy: 86.41%, Test Loss: 0.4239, Test Accuracy: 84.92%\n",
      "Epoch [97/400], Loss: 0.3830, Accuracy: 86.47%, Test Loss: 0.4242, Test Accuracy: 84.84%\n",
      "Epoch [98/400], Loss: 0.3819, Accuracy: 86.47%, Test Loss: 0.4224, Test Accuracy: 85.12%\n",
      "Epoch [99/400], Loss: 0.3810, Accuracy: 86.50%, Test Loss: 0.4217, Test Accuracy: 85.16%\n",
      "Epoch [100/400], Loss: 0.3799, Accuracy: 86.56%, Test Loss: 0.4206, Test Accuracy: 85.02%\n",
      "Epoch [101/400], Loss: 0.3795, Accuracy: 86.57%, Test Loss: 0.4213, Test Accuracy: 85.07%\n",
      "Epoch [102/400], Loss: 0.3782, Accuracy: 86.61%, Test Loss: 0.4200, Test Accuracy: 85.04%\n",
      "Epoch [103/400], Loss: 0.3778, Accuracy: 86.66%, Test Loss: 0.4192, Test Accuracy: 85.19%\n",
      "Epoch [104/400], Loss: 0.3766, Accuracy: 86.69%, Test Loss: 0.4196, Test Accuracy: 85.24%\n",
      "Epoch [105/400], Loss: 0.3757, Accuracy: 86.68%, Test Loss: 0.4179, Test Accuracy: 84.96%\n",
      "Epoch [106/400], Loss: 0.3752, Accuracy: 86.69%, Test Loss: 0.4171, Test Accuracy: 85.15%\n",
      "Epoch [107/400], Loss: 0.3742, Accuracy: 86.80%, Test Loss: 0.4190, Test Accuracy: 84.86%\n",
      "Epoch [108/400], Loss: 0.3740, Accuracy: 86.74%, Test Loss: 0.4172, Test Accuracy: 84.92%\n",
      "Epoch [109/400], Loss: 0.3726, Accuracy: 86.83%, Test Loss: 0.4148, Test Accuracy: 85.11%\n",
      "Epoch [110/400], Loss: 0.3720, Accuracy: 86.82%, Test Loss: 0.4151, Test Accuracy: 85.23%\n",
      "Epoch [111/400], Loss: 0.3711, Accuracy: 86.86%, Test Loss: 0.4139, Test Accuracy: 85.39%\n",
      "Epoch [112/400], Loss: 0.3703, Accuracy: 86.92%, Test Loss: 0.4139, Test Accuracy: 85.20%\n",
      "Epoch [113/400], Loss: 0.3697, Accuracy: 86.95%, Test Loss: 0.4123, Test Accuracy: 85.38%\n",
      "Epoch [114/400], Loss: 0.3691, Accuracy: 86.94%, Test Loss: 0.4117, Test Accuracy: 85.32%\n",
      "Epoch [115/400], Loss: 0.3683, Accuracy: 87.03%, Test Loss: 0.4117, Test Accuracy: 85.27%\n",
      "Epoch [116/400], Loss: 0.3676, Accuracy: 87.01%, Test Loss: 0.4111, Test Accuracy: 85.23%\n",
      "Epoch [117/400], Loss: 0.3668, Accuracy: 87.10%, Test Loss: 0.4124, Test Accuracy: 85.19%\n",
      "Epoch [118/400], Loss: 0.3657, Accuracy: 87.09%, Test Loss: 0.4094, Test Accuracy: 85.41%\n",
      "Epoch [119/400], Loss: 0.3650, Accuracy: 87.10%, Test Loss: 0.4094, Test Accuracy: 85.56%\n",
      "Epoch [120/400], Loss: 0.3646, Accuracy: 87.10%, Test Loss: 0.4087, Test Accuracy: 85.41%\n",
      "Epoch [121/400], Loss: 0.3638, Accuracy: 87.10%, Test Loss: 0.4109, Test Accuracy: 85.22%\n",
      "Epoch [122/400], Loss: 0.3631, Accuracy: 87.18%, Test Loss: 0.4071, Test Accuracy: 85.42%\n",
      "Epoch [123/400], Loss: 0.3625, Accuracy: 87.23%, Test Loss: 0.4078, Test Accuracy: 85.37%\n",
      "Epoch [124/400], Loss: 0.3617, Accuracy: 87.23%, Test Loss: 0.4082, Test Accuracy: 85.28%\n",
      "Epoch [125/400], Loss: 0.3608, Accuracy: 87.23%, Test Loss: 0.4052, Test Accuracy: 85.57%\n",
      "Epoch [126/400], Loss: 0.3604, Accuracy: 87.35%, Test Loss: 0.4056, Test Accuracy: 85.40%\n",
      "Epoch [127/400], Loss: 0.3592, Accuracy: 87.30%, Test Loss: 0.4048, Test Accuracy: 85.49%\n",
      "Epoch [128/400], Loss: 0.3588, Accuracy: 87.32%, Test Loss: 0.4051, Test Accuracy: 85.60%\n",
      "Epoch [129/400], Loss: 0.3588, Accuracy: 87.36%, Test Loss: 0.4058, Test Accuracy: 85.56%\n",
      "Epoch [130/400], Loss: 0.3578, Accuracy: 87.40%, Test Loss: 0.4031, Test Accuracy: 85.68%\n",
      "Epoch [131/400], Loss: 0.3568, Accuracy: 87.39%, Test Loss: 0.4031, Test Accuracy: 85.78%\n",
      "Epoch [132/400], Loss: 0.3562, Accuracy: 87.42%, Test Loss: 0.4022, Test Accuracy: 85.78%\n",
      "Epoch [133/400], Loss: 0.3556, Accuracy: 87.46%, Test Loss: 0.4054, Test Accuracy: 85.53%\n",
      "Epoch [134/400], Loss: 0.3547, Accuracy: 87.44%, Test Loss: 0.4011, Test Accuracy: 85.79%\n",
      "Epoch [135/400], Loss: 0.3545, Accuracy: 87.48%, Test Loss: 0.4014, Test Accuracy: 85.65%\n",
      "Epoch [136/400], Loss: 0.3537, Accuracy: 87.50%, Test Loss: 0.4007, Test Accuracy: 85.79%\n",
      "Epoch [137/400], Loss: 0.3535, Accuracy: 87.54%, Test Loss: 0.4000, Test Accuracy: 85.96%\n",
      "Epoch [138/400], Loss: 0.3523, Accuracy: 87.56%, Test Loss: 0.4008, Test Accuracy: 85.58%\n",
      "Epoch [139/400], Loss: 0.3519, Accuracy: 87.56%, Test Loss: 0.3986, Test Accuracy: 85.82%\n",
      "Epoch [140/400], Loss: 0.3511, Accuracy: 87.63%, Test Loss: 0.3984, Test Accuracy: 85.89%\n",
      "Epoch [141/400], Loss: 0.3507, Accuracy: 87.58%, Test Loss: 0.3984, Test Accuracy: 85.78%\n",
      "Epoch [142/400], Loss: 0.3502, Accuracy: 87.58%, Test Loss: 0.3971, Test Accuracy: 85.85%\n",
      "Epoch [143/400], Loss: 0.3494, Accuracy: 87.61%, Test Loss: 0.3977, Test Accuracy: 85.80%\n",
      "Epoch [144/400], Loss: 0.3486, Accuracy: 87.66%, Test Loss: 0.3969, Test Accuracy: 85.90%\n",
      "Epoch [145/400], Loss: 0.3485, Accuracy: 87.64%, Test Loss: 0.3963, Test Accuracy: 85.91%\n",
      "Epoch [146/400], Loss: 0.3480, Accuracy: 87.72%, Test Loss: 0.3949, Test Accuracy: 86.10%\n",
      "Epoch [147/400], Loss: 0.3468, Accuracy: 87.70%, Test Loss: 0.3946, Test Accuracy: 86.05%\n",
      "Epoch [148/400], Loss: 0.3464, Accuracy: 87.74%, Test Loss: 0.3951, Test Accuracy: 86.07%\n",
      "Epoch [149/400], Loss: 0.3457, Accuracy: 87.74%, Test Loss: 0.3936, Test Accuracy: 86.05%\n",
      "Epoch [150/400], Loss: 0.3449, Accuracy: 87.78%, Test Loss: 0.3931, Test Accuracy: 86.08%\n",
      "Epoch [151/400], Loss: 0.3443, Accuracy: 87.79%, Test Loss: 0.3937, Test Accuracy: 86.10%\n",
      "Epoch [152/400], Loss: 0.3440, Accuracy: 87.86%, Test Loss: 0.3922, Test Accuracy: 85.99%\n",
      "Epoch [153/400], Loss: 0.3430, Accuracy: 87.90%, Test Loss: 0.3922, Test Accuracy: 85.92%\n",
      "Epoch [154/400], Loss: 0.3425, Accuracy: 87.90%, Test Loss: 0.3928, Test Accuracy: 86.02%\n",
      "Epoch [155/400], Loss: 0.3428, Accuracy: 87.89%, Test Loss: 0.3924, Test Accuracy: 86.07%\n",
      "Epoch [156/400], Loss: 0.3417, Accuracy: 87.98%, Test Loss: 0.3908, Test Accuracy: 86.08%\n",
      "Epoch [157/400], Loss: 0.3407, Accuracy: 87.94%, Test Loss: 0.3918, Test Accuracy: 86.06%\n",
      "Epoch [158/400], Loss: 0.3405, Accuracy: 88.00%, Test Loss: 0.3910, Test Accuracy: 86.19%\n",
      "Epoch [159/400], Loss: 0.3397, Accuracy: 88.00%, Test Loss: 0.3916, Test Accuracy: 86.14%\n",
      "Epoch [160/400], Loss: 0.3392, Accuracy: 88.04%, Test Loss: 0.3908, Test Accuracy: 86.16%\n",
      "Epoch [161/400], Loss: 0.3390, Accuracy: 88.07%, Test Loss: 0.3906, Test Accuracy: 86.12%\n",
      "Epoch [162/400], Loss: 0.3385, Accuracy: 88.07%, Test Loss: 0.3879, Test Accuracy: 86.20%\n",
      "Epoch [163/400], Loss: 0.3380, Accuracy: 88.08%, Test Loss: 0.3891, Test Accuracy: 86.18%\n",
      "Epoch [164/400], Loss: 0.3375, Accuracy: 88.15%, Test Loss: 0.3900, Test Accuracy: 85.99%\n",
      "Epoch [165/400], Loss: 0.3371, Accuracy: 88.08%, Test Loss: 0.3878, Test Accuracy: 86.29%\n",
      "Epoch [166/400], Loss: 0.3358, Accuracy: 88.14%, Test Loss: 0.3863, Test Accuracy: 86.30%\n",
      "Epoch [167/400], Loss: 0.3358, Accuracy: 88.22%, Test Loss: 0.3861, Test Accuracy: 86.37%\n",
      "Epoch [168/400], Loss: 0.3353, Accuracy: 88.11%, Test Loss: 0.3856, Test Accuracy: 86.29%\n",
      "Epoch [169/400], Loss: 0.3344, Accuracy: 88.18%, Test Loss: 0.3854, Test Accuracy: 86.25%\n",
      "Epoch [170/400], Loss: 0.3346, Accuracy: 88.20%, Test Loss: 0.3851, Test Accuracy: 86.32%\n",
      "Epoch [171/400], Loss: 0.3334, Accuracy: 88.24%, Test Loss: 0.3845, Test Accuracy: 86.45%\n",
      "Epoch [172/400], Loss: 0.3328, Accuracy: 88.24%, Test Loss: 0.3880, Test Accuracy: 86.29%\n",
      "Epoch [173/400], Loss: 0.3322, Accuracy: 88.23%, Test Loss: 0.3845, Test Accuracy: 86.39%\n",
      "Epoch [174/400], Loss: 0.3320, Accuracy: 88.30%, Test Loss: 0.3835, Test Accuracy: 86.38%\n",
      "Epoch [175/400], Loss: 0.3316, Accuracy: 88.30%, Test Loss: 0.3844, Test Accuracy: 86.46%\n",
      "Epoch [176/400], Loss: 0.3307, Accuracy: 88.38%, Test Loss: 0.3838, Test Accuracy: 86.47%\n",
      "Epoch [177/400], Loss: 0.3304, Accuracy: 88.36%, Test Loss: 0.3835, Test Accuracy: 86.41%\n",
      "Epoch [178/400], Loss: 0.3299, Accuracy: 88.33%, Test Loss: 0.3844, Test Accuracy: 86.29%\n",
      "Epoch [179/400], Loss: 0.3295, Accuracy: 88.34%, Test Loss: 0.3827, Test Accuracy: 86.43%\n",
      "Epoch [180/400], Loss: 0.3287, Accuracy: 88.40%, Test Loss: 0.3861, Test Accuracy: 86.43%\n",
      "Epoch [181/400], Loss: 0.3283, Accuracy: 88.42%, Test Loss: 0.3833, Test Accuracy: 86.46%\n",
      "Epoch [182/400], Loss: 0.3277, Accuracy: 88.47%, Test Loss: 0.3807, Test Accuracy: 86.58%\n",
      "Epoch [183/400], Loss: 0.3268, Accuracy: 88.50%, Test Loss: 0.3805, Test Accuracy: 86.64%\n",
      "Epoch [184/400], Loss: 0.3263, Accuracy: 88.40%, Test Loss: 0.3797, Test Accuracy: 86.67%\n",
      "Epoch [185/400], Loss: 0.3265, Accuracy: 88.45%, Test Loss: 0.3804, Test Accuracy: 86.40%\n",
      "Epoch [186/400], Loss: 0.3259, Accuracy: 88.54%, Test Loss: 0.3793, Test Accuracy: 86.64%\n",
      "Epoch [187/400], Loss: 0.3251, Accuracy: 88.56%, Test Loss: 0.3797, Test Accuracy: 86.43%\n",
      "Epoch [188/400], Loss: 0.3245, Accuracy: 88.56%, Test Loss: 0.3784, Test Accuracy: 86.66%\n",
      "Epoch [189/400], Loss: 0.3238, Accuracy: 88.57%, Test Loss: 0.3836, Test Accuracy: 86.30%\n",
      "Epoch [190/400], Loss: 0.3236, Accuracy: 88.56%, Test Loss: 0.3784, Test Accuracy: 86.50%\n",
      "Epoch [191/400], Loss: 0.3233, Accuracy: 88.61%, Test Loss: 0.3792, Test Accuracy: 86.54%\n",
      "Epoch [192/400], Loss: 0.3234, Accuracy: 88.58%, Test Loss: 0.3772, Test Accuracy: 86.73%\n",
      "Epoch [193/400], Loss: 0.3222, Accuracy: 88.64%, Test Loss: 0.3783, Test Accuracy: 86.60%\n",
      "Epoch [194/400], Loss: 0.3217, Accuracy: 88.65%, Test Loss: 0.3794, Test Accuracy: 86.64%\n",
      "Epoch [195/400], Loss: 0.3218, Accuracy: 88.69%, Test Loss: 0.3762, Test Accuracy: 86.79%\n",
      "Epoch [196/400], Loss: 0.3211, Accuracy: 88.72%, Test Loss: 0.3766, Test Accuracy: 86.74%\n",
      "Epoch [197/400], Loss: 0.3201, Accuracy: 88.67%, Test Loss: 0.3763, Test Accuracy: 86.76%\n",
      "Epoch [198/400], Loss: 0.3202, Accuracy: 88.66%, Test Loss: 0.3764, Test Accuracy: 86.60%\n",
      "Epoch [199/400], Loss: 0.3194, Accuracy: 88.71%, Test Loss: 0.3756, Test Accuracy: 86.84%\n",
      "Epoch [200/400], Loss: 0.3188, Accuracy: 88.70%, Test Loss: 0.3745, Test Accuracy: 86.84%\n",
      "Epoch [201/400], Loss: 0.3188, Accuracy: 88.73%, Test Loss: 0.3745, Test Accuracy: 86.85%\n",
      "Epoch [202/400], Loss: 0.3179, Accuracy: 88.76%, Test Loss: 0.3741, Test Accuracy: 86.71%\n",
      "Epoch [203/400], Loss: 0.3175, Accuracy: 88.80%, Test Loss: 0.3757, Test Accuracy: 86.66%\n",
      "Epoch [204/400], Loss: 0.3173, Accuracy: 88.78%, Test Loss: 0.3735, Test Accuracy: 86.85%\n",
      "Epoch [205/400], Loss: 0.3166, Accuracy: 88.83%, Test Loss: 0.3730, Test Accuracy: 86.79%\n",
      "Epoch [206/400], Loss: 0.3159, Accuracy: 88.88%, Test Loss: 0.3733, Test Accuracy: 86.91%\n",
      "Epoch [207/400], Loss: 0.3160, Accuracy: 88.87%, Test Loss: 0.3743, Test Accuracy: 86.75%\n",
      "Epoch [208/400], Loss: 0.3153, Accuracy: 88.91%, Test Loss: 0.3730, Test Accuracy: 86.73%\n",
      "Epoch [209/400], Loss: 0.3149, Accuracy: 88.90%, Test Loss: 0.3719, Test Accuracy: 86.76%\n",
      "Epoch [210/400], Loss: 0.3144, Accuracy: 88.94%, Test Loss: 0.3740, Test Accuracy: 86.74%\n",
      "Epoch [211/400], Loss: 0.3138, Accuracy: 88.97%, Test Loss: 0.3721, Test Accuracy: 86.89%\n",
      "Epoch [212/400], Loss: 0.3134, Accuracy: 88.93%, Test Loss: 0.3710, Test Accuracy: 86.82%\n",
      "Epoch [213/400], Loss: 0.3131, Accuracy: 88.97%, Test Loss: 0.3721, Test Accuracy: 86.84%\n",
      "Epoch [214/400], Loss: 0.3122, Accuracy: 88.96%, Test Loss: 0.3702, Test Accuracy: 87.05%\n",
      "Epoch [215/400], Loss: 0.3125, Accuracy: 88.99%, Test Loss: 0.3723, Test Accuracy: 86.80%\n",
      "Epoch [216/400], Loss: 0.3113, Accuracy: 89.01%, Test Loss: 0.3724, Test Accuracy: 86.94%\n",
      "Epoch [217/400], Loss: 0.3115, Accuracy: 88.99%, Test Loss: 0.3709, Test Accuracy: 86.84%\n",
      "Epoch [218/400], Loss: 0.3106, Accuracy: 89.12%, Test Loss: 0.3745, Test Accuracy: 86.86%\n",
      "Epoch [219/400], Loss: 0.3103, Accuracy: 89.06%, Test Loss: 0.3721, Test Accuracy: 86.98%\n",
      "Epoch [220/400], Loss: 0.3099, Accuracy: 89.09%, Test Loss: 0.3699, Test Accuracy: 86.90%\n",
      "Epoch [221/400], Loss: 0.3093, Accuracy: 89.12%, Test Loss: 0.3695, Test Accuracy: 87.13%\n",
      "Epoch [222/400], Loss: 0.3092, Accuracy: 89.11%, Test Loss: 0.3684, Test Accuracy: 86.88%\n",
      "Epoch [223/400], Loss: 0.3083, Accuracy: 89.16%, Test Loss: 0.3693, Test Accuracy: 87.00%\n",
      "Epoch [224/400], Loss: 0.3081, Accuracy: 89.13%, Test Loss: 0.3689, Test Accuracy: 86.84%\n",
      "Epoch [225/400], Loss: 0.3074, Accuracy: 89.13%, Test Loss: 0.3729, Test Accuracy: 86.55%\n",
      "Epoch [226/400], Loss: 0.3075, Accuracy: 89.14%, Test Loss: 0.3705, Test Accuracy: 87.15%\n",
      "Epoch [227/400], Loss: 0.3068, Accuracy: 89.13%, Test Loss: 0.3675, Test Accuracy: 87.10%\n",
      "Epoch [228/400], Loss: 0.3062, Accuracy: 89.22%, Test Loss: 0.3705, Test Accuracy: 86.77%\n",
      "Epoch [229/400], Loss: 0.3057, Accuracy: 89.23%, Test Loss: 0.3686, Test Accuracy: 86.91%\n",
      "Epoch [230/400], Loss: 0.3056, Accuracy: 89.19%, Test Loss: 0.3684, Test Accuracy: 86.98%\n",
      "Epoch [231/400], Loss: 0.3052, Accuracy: 89.25%, Test Loss: 0.3678, Test Accuracy: 87.09%\n",
      "Epoch [232/400], Loss: 0.3049, Accuracy: 89.33%, Test Loss: 0.3665, Test Accuracy: 87.08%\n",
      "Epoch [233/400], Loss: 0.3041, Accuracy: 89.27%, Test Loss: 0.3658, Test Accuracy: 87.05%\n",
      "Epoch [234/400], Loss: 0.3036, Accuracy: 89.26%, Test Loss: 0.3653, Test Accuracy: 87.00%\n",
      "Epoch [235/400], Loss: 0.3035, Accuracy: 89.33%, Test Loss: 0.3654, Test Accuracy: 86.85%\n",
      "Epoch [236/400], Loss: 0.3031, Accuracy: 89.30%, Test Loss: 0.3647, Test Accuracy: 87.13%\n",
      "Epoch [237/400], Loss: 0.3028, Accuracy: 89.36%, Test Loss: 0.3650, Test Accuracy: 87.15%\n",
      "Epoch [238/400], Loss: 0.3020, Accuracy: 89.42%, Test Loss: 0.3654, Test Accuracy: 86.83%\n",
      "Epoch [239/400], Loss: 0.3014, Accuracy: 89.35%, Test Loss: 0.3645, Test Accuracy: 86.88%\n",
      "Epoch [240/400], Loss: 0.3011, Accuracy: 89.41%, Test Loss: 0.3636, Test Accuracy: 87.01%\n",
      "Epoch [241/400], Loss: 0.3013, Accuracy: 89.38%, Test Loss: 0.3642, Test Accuracy: 87.12%\n",
      "Epoch [242/400], Loss: 0.2996, Accuracy: 89.45%, Test Loss: 0.3639, Test Accuracy: 87.19%\n",
      "Epoch [243/400], Loss: 0.3006, Accuracy: 89.45%, Test Loss: 0.3684, Test Accuracy: 87.10%\n",
      "Epoch [244/400], Loss: 0.2993, Accuracy: 89.46%, Test Loss: 0.3621, Test Accuracy: 87.07%\n",
      "Epoch [245/400], Loss: 0.2995, Accuracy: 89.38%, Test Loss: 0.3630, Test Accuracy: 87.12%\n",
      "Epoch [246/400], Loss: 0.2990, Accuracy: 89.45%, Test Loss: 0.3636, Test Accuracy: 86.94%\n",
      "Epoch [247/400], Loss: 0.2987, Accuracy: 89.48%, Test Loss: 0.3640, Test Accuracy: 86.79%\n",
      "Epoch [248/400], Loss: 0.2978, Accuracy: 89.53%, Test Loss: 0.3621, Test Accuracy: 86.95%\n",
      "Epoch [249/400], Loss: 0.2977, Accuracy: 89.51%, Test Loss: 0.3627, Test Accuracy: 87.17%\n",
      "Epoch [250/400], Loss: 0.2970, Accuracy: 89.55%, Test Loss: 0.3612, Test Accuracy: 87.37%\n",
      "Epoch [251/400], Loss: 0.2968, Accuracy: 89.59%, Test Loss: 0.3616, Test Accuracy: 87.12%\n",
      "Epoch [252/400], Loss: 0.2958, Accuracy: 89.57%, Test Loss: 0.3597, Test Accuracy: 87.10%\n",
      "Epoch [253/400], Loss: 0.2959, Accuracy: 89.56%, Test Loss: 0.3600, Test Accuracy: 87.23%\n",
      "Epoch [254/400], Loss: 0.2954, Accuracy: 89.58%, Test Loss: 0.3598, Test Accuracy: 87.27%\n",
      "Epoch [255/400], Loss: 0.2947, Accuracy: 89.66%, Test Loss: 0.3619, Test Accuracy: 87.27%\n",
      "Epoch [256/400], Loss: 0.2944, Accuracy: 89.61%, Test Loss: 0.3614, Test Accuracy: 87.33%\n",
      "Epoch [257/400], Loss: 0.2942, Accuracy: 89.63%, Test Loss: 0.3591, Test Accuracy: 87.33%\n",
      "Epoch [258/400], Loss: 0.2931, Accuracy: 89.67%, Test Loss: 0.3606, Test Accuracy: 87.43%\n",
      "Epoch [259/400], Loss: 0.2937, Accuracy: 89.63%, Test Loss: 0.3597, Test Accuracy: 87.16%\n",
      "Epoch [260/400], Loss: 0.2928, Accuracy: 89.69%, Test Loss: 0.3610, Test Accuracy: 87.29%\n",
      "Epoch [261/400], Loss: 0.2926, Accuracy: 89.78%, Test Loss: 0.3596, Test Accuracy: 87.22%\n",
      "Epoch [262/400], Loss: 0.2919, Accuracy: 89.71%, Test Loss: 0.3591, Test Accuracy: 87.35%\n",
      "Epoch [263/400], Loss: 0.2916, Accuracy: 89.71%, Test Loss: 0.3598, Test Accuracy: 87.37%\n",
      "Epoch [264/400], Loss: 0.2913, Accuracy: 89.73%, Test Loss: 0.3636, Test Accuracy: 87.12%\n",
      "Epoch [265/400], Loss: 0.2912, Accuracy: 89.75%, Test Loss: 0.3574, Test Accuracy: 87.38%\n",
      "Epoch [266/400], Loss: 0.2899, Accuracy: 89.81%, Test Loss: 0.3578, Test Accuracy: 87.31%\n",
      "Epoch [267/400], Loss: 0.2900, Accuracy: 89.81%, Test Loss: 0.3595, Test Accuracy: 87.27%\n",
      "Epoch [268/400], Loss: 0.2902, Accuracy: 89.81%, Test Loss: 0.3566, Test Accuracy: 87.40%\n",
      "Epoch [269/400], Loss: 0.2891, Accuracy: 89.81%, Test Loss: 0.3581, Test Accuracy: 87.34%\n",
      "Epoch [270/400], Loss: 0.2888, Accuracy: 89.82%, Test Loss: 0.3554, Test Accuracy: 87.49%\n",
      "Epoch [271/400], Loss: 0.2881, Accuracy: 89.86%, Test Loss: 0.3586, Test Accuracy: 87.23%\n",
      "Epoch [272/400], Loss: 0.2885, Accuracy: 89.79%, Test Loss: 0.3577, Test Accuracy: 87.08%\n",
      "Epoch [273/400], Loss: 0.2875, Accuracy: 89.86%, Test Loss: 0.3567, Test Accuracy: 87.40%\n",
      "Epoch [274/400], Loss: 0.2880, Accuracy: 89.84%, Test Loss: 0.3582, Test Accuracy: 87.41%\n",
      "Epoch [275/400], Loss: 0.2867, Accuracy: 89.81%, Test Loss: 0.3552, Test Accuracy: 87.42%\n",
      "Epoch [276/400], Loss: 0.2865, Accuracy: 89.91%, Test Loss: 0.3560, Test Accuracy: 87.55%\n",
      "Epoch [277/400], Loss: 0.2864, Accuracy: 89.86%, Test Loss: 0.3543, Test Accuracy: 87.45%\n",
      "Epoch [278/400], Loss: 0.2857, Accuracy: 89.87%, Test Loss: 0.3571, Test Accuracy: 87.49%\n",
      "Epoch [279/400], Loss: 0.2855, Accuracy: 89.90%, Test Loss: 0.3551, Test Accuracy: 87.47%\n",
      "Epoch [280/400], Loss: 0.2847, Accuracy: 90.01%, Test Loss: 0.3555, Test Accuracy: 87.27%\n",
      "Epoch [281/400], Loss: 0.2845, Accuracy: 89.96%, Test Loss: 0.3534, Test Accuracy: 87.38%\n",
      "Epoch [282/400], Loss: 0.2842, Accuracy: 89.93%, Test Loss: 0.3534, Test Accuracy: 87.47%\n",
      "Epoch [283/400], Loss: 0.2835, Accuracy: 90.03%, Test Loss: 0.3558, Test Accuracy: 87.34%\n",
      "Epoch [284/400], Loss: 0.2830, Accuracy: 90.09%, Test Loss: 0.3552, Test Accuracy: 87.46%\n",
      "Epoch [285/400], Loss: 0.2826, Accuracy: 90.04%, Test Loss: 0.3538, Test Accuracy: 87.26%\n",
      "Epoch [286/400], Loss: 0.2829, Accuracy: 90.04%, Test Loss: 0.3547, Test Accuracy: 87.30%\n",
      "Epoch [287/400], Loss: 0.2818, Accuracy: 90.07%, Test Loss: 0.3518, Test Accuracy: 87.62%\n",
      "Epoch [288/400], Loss: 0.2818, Accuracy: 90.05%, Test Loss: 0.3542, Test Accuracy: 87.38%\n",
      "Epoch [289/400], Loss: 0.2819, Accuracy: 90.08%, Test Loss: 0.3531, Test Accuracy: 87.60%\n",
      "Epoch [290/400], Loss: 0.2811, Accuracy: 90.11%, Test Loss: 0.3514, Test Accuracy: 87.50%\n",
      "Epoch [291/400], Loss: 0.2808, Accuracy: 90.15%, Test Loss: 0.3540, Test Accuracy: 87.56%\n",
      "Epoch [292/400], Loss: 0.2803, Accuracy: 90.15%, Test Loss: 0.3521, Test Accuracy: 87.62%\n",
      "Epoch [293/400], Loss: 0.2797, Accuracy: 90.17%, Test Loss: 0.3530, Test Accuracy: 87.60%\n",
      "Epoch [294/400], Loss: 0.2798, Accuracy: 90.08%, Test Loss: 0.3519, Test Accuracy: 87.63%\n",
      "Epoch [295/400], Loss: 0.2791, Accuracy: 90.13%, Test Loss: 0.3508, Test Accuracy: 87.53%\n",
      "Epoch [296/400], Loss: 0.2790, Accuracy: 90.15%, Test Loss: 0.3518, Test Accuracy: 87.60%\n",
      "Epoch [297/400], Loss: 0.2782, Accuracy: 90.14%, Test Loss: 0.3516, Test Accuracy: 87.35%\n",
      "Epoch [298/400], Loss: 0.2778, Accuracy: 90.19%, Test Loss: 0.3546, Test Accuracy: 87.56%\n",
      "Epoch [299/400], Loss: 0.2774, Accuracy: 90.23%, Test Loss: 0.3522, Test Accuracy: 87.49%\n",
      "Epoch [300/400], Loss: 0.2773, Accuracy: 90.26%, Test Loss: 0.3499, Test Accuracy: 87.51%\n",
      "Epoch [301/400], Loss: 0.2773, Accuracy: 90.22%, Test Loss: 0.3509, Test Accuracy: 87.57%\n",
      "Epoch [302/400], Loss: 0.2765, Accuracy: 90.23%, Test Loss: 0.3536, Test Accuracy: 87.40%\n",
      "Epoch [303/400], Loss: 0.2760, Accuracy: 90.25%, Test Loss: 0.3492, Test Accuracy: 87.62%\n",
      "Epoch [304/400], Loss: 0.2760, Accuracy: 90.28%, Test Loss: 0.3499, Test Accuracy: 87.54%\n",
      "Epoch [305/400], Loss: 0.2760, Accuracy: 90.33%, Test Loss: 0.3506, Test Accuracy: 87.59%\n",
      "Epoch [306/400], Loss: 0.2748, Accuracy: 90.35%, Test Loss: 0.3490, Test Accuracy: 87.64%\n",
      "Epoch [307/400], Loss: 0.2743, Accuracy: 90.34%, Test Loss: 0.3484, Test Accuracy: 87.62%\n",
      "Epoch [308/400], Loss: 0.2741, Accuracy: 90.35%, Test Loss: 0.3498, Test Accuracy: 87.60%\n",
      "Epoch [309/400], Loss: 0.2743, Accuracy: 90.31%, Test Loss: 0.3531, Test Accuracy: 87.41%\n",
      "Epoch [310/400], Loss: 0.2733, Accuracy: 90.42%, Test Loss: 0.3485, Test Accuracy: 87.61%\n",
      "Epoch [311/400], Loss: 0.2731, Accuracy: 90.36%, Test Loss: 0.3481, Test Accuracy: 87.66%\n",
      "Epoch [312/400], Loss: 0.2726, Accuracy: 90.42%, Test Loss: 0.3483, Test Accuracy: 87.71%\n",
      "Epoch [313/400], Loss: 0.2725, Accuracy: 90.38%, Test Loss: 0.3482, Test Accuracy: 87.49%\n",
      "Epoch [314/400], Loss: 0.2722, Accuracy: 90.44%, Test Loss: 0.3484, Test Accuracy: 87.59%\n",
      "Epoch [315/400], Loss: 0.2716, Accuracy: 90.41%, Test Loss: 0.3500, Test Accuracy: 87.55%\n",
      "Epoch [316/400], Loss: 0.2714, Accuracy: 90.47%, Test Loss: 0.3490, Test Accuracy: 87.72%\n",
      "Epoch [317/400], Loss: 0.2707, Accuracy: 90.48%, Test Loss: 0.3477, Test Accuracy: 87.72%\n",
      "Epoch [318/400], Loss: 0.2707, Accuracy: 90.50%, Test Loss: 0.3475, Test Accuracy: 87.68%\n",
      "Epoch [319/400], Loss: 0.2703, Accuracy: 90.45%, Test Loss: 0.3489, Test Accuracy: 87.59%\n",
      "Epoch [320/400], Loss: 0.2706, Accuracy: 90.49%, Test Loss: 0.3485, Test Accuracy: 87.45%\n",
      "Epoch [321/400], Loss: 0.2694, Accuracy: 90.53%, Test Loss: 0.3479, Test Accuracy: 87.62%\n",
      "Epoch [322/400], Loss: 0.2687, Accuracy: 90.56%, Test Loss: 0.3525, Test Accuracy: 87.41%\n",
      "Epoch [323/400], Loss: 0.2684, Accuracy: 90.58%, Test Loss: 0.3465, Test Accuracy: 87.75%\n",
      "Epoch [324/400], Loss: 0.2682, Accuracy: 90.57%, Test Loss: 0.3502, Test Accuracy: 87.72%\n",
      "Epoch [325/400], Loss: 0.2682, Accuracy: 90.55%, Test Loss: 0.3468, Test Accuracy: 87.84%\n",
      "Epoch [326/400], Loss: 0.2672, Accuracy: 90.64%, Test Loss: 0.3468, Test Accuracy: 87.76%\n",
      "Epoch [327/400], Loss: 0.2682, Accuracy: 90.57%, Test Loss: 0.3463, Test Accuracy: 87.69%\n",
      "Epoch [328/400], Loss: 0.2670, Accuracy: 90.61%, Test Loss: 0.3454, Test Accuracy: 87.70%\n",
      "Epoch [329/400], Loss: 0.2668, Accuracy: 90.56%, Test Loss: 0.3450, Test Accuracy: 87.72%\n",
      "Epoch [330/400], Loss: 0.2664, Accuracy: 90.65%, Test Loss: 0.3445, Test Accuracy: 87.72%\n",
      "Epoch [331/400], Loss: 0.2653, Accuracy: 90.76%, Test Loss: 0.3450, Test Accuracy: 87.78%\n",
      "Epoch [332/400], Loss: 0.2665, Accuracy: 90.69%, Test Loss: 0.3447, Test Accuracy: 87.76%\n",
      "Epoch [333/400], Loss: 0.2652, Accuracy: 90.67%, Test Loss: 0.3485, Test Accuracy: 87.63%\n",
      "Epoch [334/400], Loss: 0.2651, Accuracy: 90.70%, Test Loss: 0.3468, Test Accuracy: 87.59%\n",
      "Epoch [335/400], Loss: 0.2647, Accuracy: 90.68%, Test Loss: 0.3462, Test Accuracy: 87.67%\n",
      "Epoch [336/400], Loss: 0.2641, Accuracy: 90.74%, Test Loss: 0.3515, Test Accuracy: 87.44%\n",
      "Epoch [337/400], Loss: 0.2634, Accuracy: 90.64%, Test Loss: 0.3445, Test Accuracy: 87.76%\n",
      "Epoch [338/400], Loss: 0.2644, Accuracy: 90.70%, Test Loss: 0.3436, Test Accuracy: 87.76%\n",
      "Epoch [339/400], Loss: 0.2623, Accuracy: 90.82%, Test Loss: 0.3472, Test Accuracy: 87.81%\n",
      "Epoch [340/400], Loss: 0.2628, Accuracy: 90.72%, Test Loss: 0.3436, Test Accuracy: 87.85%\n",
      "Epoch [341/400], Loss: 0.2624, Accuracy: 90.83%, Test Loss: 0.3450, Test Accuracy: 87.64%\n",
      "Epoch [342/400], Loss: 0.2622, Accuracy: 90.83%, Test Loss: 0.3428, Test Accuracy: 87.92%\n",
      "Epoch [343/400], Loss: 0.2619, Accuracy: 90.74%, Test Loss: 0.3432, Test Accuracy: 87.92%\n",
      "Epoch [344/400], Loss: 0.2616, Accuracy: 90.77%, Test Loss: 0.3421, Test Accuracy: 87.79%\n",
      "Epoch [345/400], Loss: 0.2607, Accuracy: 90.85%, Test Loss: 0.3447, Test Accuracy: 87.82%\n",
      "Epoch [346/400], Loss: 0.2603, Accuracy: 90.80%, Test Loss: 0.3450, Test Accuracy: 87.84%\n",
      "Epoch [347/400], Loss: 0.2604, Accuracy: 90.84%, Test Loss: 0.3425, Test Accuracy: 87.82%\n",
      "Epoch [348/400], Loss: 0.2599, Accuracy: 90.81%, Test Loss: 0.3434, Test Accuracy: 87.74%\n",
      "Epoch [349/400], Loss: 0.2592, Accuracy: 90.84%, Test Loss: 0.3450, Test Accuracy: 87.86%\n",
      "Epoch [350/400], Loss: 0.2592, Accuracy: 90.94%, Test Loss: 0.3456, Test Accuracy: 87.78%\n",
      "Epoch [351/400], Loss: 0.2587, Accuracy: 90.96%, Test Loss: 0.3424, Test Accuracy: 87.84%\n",
      "Epoch [352/400], Loss: 0.2588, Accuracy: 90.93%, Test Loss: 0.3420, Test Accuracy: 87.85%\n",
      "Epoch [353/400], Loss: 0.2584, Accuracy: 90.92%, Test Loss: 0.3417, Test Accuracy: 87.86%\n",
      "Epoch [354/400], Loss: 0.2573, Accuracy: 90.99%, Test Loss: 0.3407, Test Accuracy: 87.95%\n",
      "Epoch [355/400], Loss: 0.2580, Accuracy: 91.00%, Test Loss: 0.3433, Test Accuracy: 87.86%\n",
      "Epoch [356/400], Loss: 0.2566, Accuracy: 91.06%, Test Loss: 0.3526, Test Accuracy: 87.54%\n",
      "Epoch [357/400], Loss: 0.2580, Accuracy: 90.95%, Test Loss: 0.3404, Test Accuracy: 87.93%\n",
      "Epoch [358/400], Loss: 0.2570, Accuracy: 91.00%, Test Loss: 0.3419, Test Accuracy: 87.91%\n",
      "Epoch [359/400], Loss: 0.2558, Accuracy: 91.04%, Test Loss: 0.3403, Test Accuracy: 87.89%\n",
      "Epoch [360/400], Loss: 0.2565, Accuracy: 91.06%, Test Loss: 0.3417, Test Accuracy: 87.83%\n",
      "Epoch [361/400], Loss: 0.2562, Accuracy: 90.99%, Test Loss: 0.3438, Test Accuracy: 87.79%\n",
      "Epoch [362/400], Loss: 0.2559, Accuracy: 90.99%, Test Loss: 0.3404, Test Accuracy: 87.91%\n",
      "Epoch [363/400], Loss: 0.2542, Accuracy: 91.09%, Test Loss: 0.3400, Test Accuracy: 87.98%\n",
      "Epoch [364/400], Loss: 0.2551, Accuracy: 91.03%, Test Loss: 0.3394, Test Accuracy: 87.92%\n",
      "Epoch [365/400], Loss: 0.2542, Accuracy: 91.05%, Test Loss: 0.3411, Test Accuracy: 87.80%\n",
      "Epoch [366/400], Loss: 0.2533, Accuracy: 91.13%, Test Loss: 0.3405, Test Accuracy: 88.03%\n",
      "Epoch [367/400], Loss: 0.2541, Accuracy: 91.05%, Test Loss: 0.3410, Test Accuracy: 87.65%\n",
      "Epoch [368/400], Loss: 0.2533, Accuracy: 91.10%, Test Loss: 0.3446, Test Accuracy: 87.73%\n",
      "Epoch [369/400], Loss: 0.2530, Accuracy: 91.12%, Test Loss: 0.3405, Test Accuracy: 87.79%\n",
      "Epoch [370/400], Loss: 0.2521, Accuracy: 91.14%, Test Loss: 0.3398, Test Accuracy: 87.82%\n",
      "Epoch [371/400], Loss: 0.2522, Accuracy: 91.16%, Test Loss: 0.3410, Test Accuracy: 87.93%\n",
      "Epoch [372/400], Loss: 0.2519, Accuracy: 91.17%, Test Loss: 0.3445, Test Accuracy: 87.70%\n",
      "Epoch [373/400], Loss: 0.2526, Accuracy: 91.16%, Test Loss: 0.3390, Test Accuracy: 87.91%\n",
      "Epoch [374/400], Loss: 0.2517, Accuracy: 91.16%, Test Loss: 0.3391, Test Accuracy: 87.95%\n",
      "Epoch [375/400], Loss: 0.2502, Accuracy: 91.28%, Test Loss: 0.3387, Test Accuracy: 87.94%\n",
      "Epoch [376/400], Loss: 0.2512, Accuracy: 91.24%, Test Loss: 0.3400, Test Accuracy: 87.84%\n",
      "Epoch [377/400], Loss: 0.2506, Accuracy: 91.30%, Test Loss: 0.3419, Test Accuracy: 87.78%\n",
      "Epoch [378/400], Loss: 0.2496, Accuracy: 91.24%, Test Loss: 0.3414, Test Accuracy: 87.82%\n",
      "Epoch [379/400], Loss: 0.2502, Accuracy: 91.27%, Test Loss: 0.3399, Test Accuracy: 87.78%\n",
      "Epoch [380/400], Loss: 0.2492, Accuracy: 91.28%, Test Loss: 0.3381, Test Accuracy: 87.98%\n",
      "Epoch [381/400], Loss: 0.2486, Accuracy: 91.36%, Test Loss: 0.3395, Test Accuracy: 88.05%\n",
      "Epoch [382/400], Loss: 0.2488, Accuracy: 91.33%, Test Loss: 0.3392, Test Accuracy: 87.92%\n",
      "Epoch [383/400], Loss: 0.2490, Accuracy: 91.25%, Test Loss: 0.3400, Test Accuracy: 87.99%\n",
      "Epoch [384/400], Loss: 0.2474, Accuracy: 91.32%, Test Loss: 0.3388, Test Accuracy: 87.79%\n",
      "Epoch [385/400], Loss: 0.2474, Accuracy: 91.34%, Test Loss: 0.3439, Test Accuracy: 87.65%\n",
      "Epoch [386/400], Loss: 0.2476, Accuracy: 91.31%, Test Loss: 0.3378, Test Accuracy: 88.09%\n",
      "Epoch [387/400], Loss: 0.2465, Accuracy: 91.43%, Test Loss: 0.3420, Test Accuracy: 87.69%\n",
      "Epoch [388/400], Loss: 0.2464, Accuracy: 91.37%, Test Loss: 0.3383, Test Accuracy: 87.91%\n",
      "Epoch [389/400], Loss: 0.2452, Accuracy: 91.44%, Test Loss: 0.3427, Test Accuracy: 87.57%\n",
      "Epoch [390/400], Loss: 0.2453, Accuracy: 91.50%, Test Loss: 0.3427, Test Accuracy: 87.77%\n",
      "Epoch [391/400], Loss: 0.2450, Accuracy: 91.44%, Test Loss: 0.3373, Test Accuracy: 87.98%\n",
      "Epoch [392/400], Loss: 0.2457, Accuracy: 91.42%, Test Loss: 0.3398, Test Accuracy: 87.77%\n",
      "Epoch [393/400], Loss: 0.2457, Accuracy: 91.45%, Test Loss: 0.3415, Test Accuracy: 87.71%\n",
      "Epoch [394/400], Loss: 0.2449, Accuracy: 91.46%, Test Loss: 0.3375, Test Accuracy: 88.03%\n",
      "Epoch [395/400], Loss: 0.2441, Accuracy: 91.54%, Test Loss: 0.3382, Test Accuracy: 88.05%\n",
      "Epoch [396/400], Loss: 0.2445, Accuracy: 91.52%, Test Loss: 0.3363, Test Accuracy: 88.09%\n",
      "Epoch [397/400], Loss: 0.2434, Accuracy: 91.55%, Test Loss: 0.3360, Test Accuracy: 88.07%\n",
      "Epoch [398/400], Loss: 0.2428, Accuracy: 91.55%, Test Loss: 0.3365, Test Accuracy: 88.01%\n",
      "Epoch [399/400], Loss: 0.2434, Accuracy: 91.64%, Test Loss: 0.3368, Test Accuracy: 87.93%\n",
      "Epoch [400/400], Loss: 0.2416, Accuracy: 91.68%, Test Loss: 0.3359, Test Accuracy: 88.17%\n"
     ]
    }
   ],
   "source": [
    "# train\n",
    "for epoch in range(max_epoch):\n",
    "    running_loss = 0.0\n",
    "    running_correct = 0   # to track number of correct predictions\n",
    "    total = 0             # to track total number of samples\n",
    "\n",
    "    for i, (inputs, labels) in enumerate(trainloader, 0):\n",
    "        # Move inputs and labels to the device\n",
    "        inputs, labels = inputs.to(device), labels.to(device)\n",
    "\n",
    "        # Zero the parameter gradients\n",
    "        optimizer.zero_grad()\n",
    "\n",
    "        # Forward pass\n",
    "        outputs = model(inputs)\n",
    "        loss = criterion(outputs, labels)\n",
    "        running_loss += loss.item()\n",
    "\n",
    "        # Determine class predictions and track accuracy\n",
    "        _, predicted = torch.max(outputs.data, 1)\n",
    "        total += labels.size(0)\n",
    "        running_correct += (predicted == labels).sum().item()\n",
    "\n",
    "        # Backward pass and optimization\n",
    "        loss.backward()\n",
    "        optimizer.step()        \n",
    "\n",
    "    epoch_accuracy = 100 * running_correct / total\n",
    "    epoch_loss = running_loss / (i + 1)\n",
    "    test_loss, test_accuracy = evaluate(model, testloader, criterion)\n",
    "    print(f\"Epoch [{epoch + 1}/{max_epoch}], Loss: {epoch_loss:.4f}, Accuracy: {epoch_accuracy:.2f}%, Test Loss: {test_loss:.4f}, Test Accuracy: {test_accuracy:.2f}%\")\n",
    "    \n",
    "    # save for plot\n",
    "    train_losses.append(epoch_loss)\n",
    "    train_accuracies.append(epoch_accuracy)\n",
    "    test_losses.append(test_loss)\n",
    "    test_accuracies.append(test_accuracy)"
   ]
  },
  {
   "cell_type": "code",
   "execution_count": null,
   "metadata": {
    "id": "QKFbl4unF_6t"
   },
   "outputs": [],
   "source": []
  },
  {
   "cell_type": "code",
   "execution_count": 13,
   "metadata": {
    "id": "AwIj3vrnF_8_"
   },
   "outputs": [
    {
     "data": {
      "text/plain": [
       "<matplotlib.legend.Legend at 0x7f46d03721a0>"
      ]
     },
     "execution_count": 13,
     "metadata": {},
     "output_type": "execute_result"
    },
    {
     "data": {
      "image/png": "[encoded data removed]",
      "text/plain": [
       "<Figure size 640x480 with 1 Axes>"
      ]
     },
     "metadata": {},
     "output_type": "display_data"
    }
   ],
   "source": [
    "import matplotlib.pyplot as plt\n",
    "\n",
    "plt.plot(train_losses, label='train_losses')\n",
    "plt.plot(test_losses, label='test_losses')\n",
    "plt.legend()"
   ]
  },
  {
   "cell_type": "code",
   "execution_count": 14,
   "metadata": {
    "id": "eh3iDa8lF__H"
   },
   "outputs": [
    {
     "data": {
      "text/plain": [
       "<matplotlib.legend.Legend at 0x7f46bf36b190>"
      ]
     },
     "execution_count": 14,
     "metadata": {},
     "output_type": "execute_result"
    },
    {
     "data": {
      "image/png": "[encoded data removed]",
      "text/plain": [
       "<Figure size 640x480 with 1 Axes>"
      ]
     },
     "metadata": {},
     "output_type": "display_data"
    }
   ],
   "source": [
    "import matplotlib.pyplot as plt\n",
    "\n",
    "plt.plot(train_accuracies, label='train_accuracy')\n",
    "plt.plot(test_accuracies, label='test_accuracy')\n",
    "plt.legend()"
   ]
  },
  {
   "cell_type": "code",
   "execution_count": null,
   "metadata": {},
   "outputs": [],
   "source": []
  },
  {
   "cell_type": "code",
   "execution_count": 15,
   "metadata": {},
   "outputs": [
    {
     "data": {
      "text/plain": [
       "<matplotlib.legend.Legend at 0x7f469bbddd20>"
      ]
     },
     "execution_count": 15,
     "metadata": {},
     "output_type": "execute_result"
    }
   ],
   "source": [
    "import matplotlib.pyplot as plt\n",
    "%matplotlib qt\n",
    "\n",
    "plt.plot(train_losses, label='train_losses')\n",
    "plt.plot(test_losses, label='test_losses')\n",
    "plt.legend()"
   ]
  },
  {
   "cell_type": "code",
   "execution_count": 16,
   "metadata": {},
   "outputs": [
    {
     "data": {
      "text/plain": [
       "<matplotlib.legend.Legend at 0x7f469bc876a0>"
      ]
     },
     "execution_count": 16,
     "metadata": {},
     "output_type": "execute_result"
    }
   ],
   "source": [
    "import matplotlib.pyplot as plt\n",
    "%matplotlib qt\n",
    "\n",
    "plt.plot(train_accuracies, label='train_accuracy')\n",
    "plt.plot(test_accuracies, label='test_accuracy')\n",
    "plt.legend()"
   ]
  },
  {
   "cell_type": "code",
   "execution_count": null,
   "metadata": {},
   "outputs": [],
   "source": []
  }
 ],
 "metadata": {
  "accelerator": "GPU",
  "colab": {
   "gpuType": "T4",
   "provenance": []
  },
  "kernelspec": {
   "display_name": "Python 3 (ipykernel)",
   "language": "python",
   "name": "python3"
  },
  "language_info": {
   "codemirror_mode": {
    "name": "ipython",
    "version": 3
   },
   "file_extension": ".py",
   "mimetype": "text/x-python",
   "name": "python",
   "nbconvert_exporter": "python",
   "pygments_lexer": "ipython3",
   "version": "3.9.18"
  }
 },
 "nbformat": 4,
 "nbformat_minor": 4
}
