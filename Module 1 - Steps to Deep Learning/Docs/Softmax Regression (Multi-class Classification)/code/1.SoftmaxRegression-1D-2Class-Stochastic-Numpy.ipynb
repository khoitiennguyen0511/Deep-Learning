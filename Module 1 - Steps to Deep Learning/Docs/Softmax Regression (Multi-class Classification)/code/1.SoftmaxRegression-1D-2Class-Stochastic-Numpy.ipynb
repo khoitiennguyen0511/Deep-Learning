{
 "cells": [
  {
   "cell_type": "code",
   "execution_count": null,
   "metadata": {},
   "outputs": [],
   "source": [
    "import numpy as np\n",
    "import matplotlib.pyplot as plt\n",
    "\n",
    "iris = np.genfromtxt('iris_1D_2c.csv', \n",
    "                     dtype=None, \n",
    "                     delimiter=',', \n",
    "                     skip_header=1) \n",
    "X = iris[:, 0:1]\n",
    "y = iris[:, 1]\n",
    "\n",
    "# change data type\n",
    "y = y.astype('uint8')\n",
    "\n",
    "print('X:\\n', X)\n",
    "print('y:\\n', y)\n",
    "\n",
    "plt.figure(figsize=(8, 4))\n",
    "plt.scatter(X[y == 0][:, 0], y[y == 0], color='b', label='0')\n",
    "plt.scatter(X[y == 1][:, 0], y[y == 1], color='r', label='1')\n",
    "plt.legend()\n",
    "plt.show()"
   ]
  },
  {
   "cell_type": "code",
   "execution_count": null,
   "metadata": {},
   "outputs": [],
   "source": []
  },
  {
   "cell_type": "code",
   "execution_count": null,
   "metadata": {},
   "outputs": [],
   "source": [
    "N = 6 # numbers of samples\n",
    "k = 2 # number of classes\n",
    "\n",
    "# one_hot\n",
    "import numpy as np\n",
    "\n",
    "def convert_one_hot(y, k):  \n",
    "    one_hot = np.zeros((len(y), k))\n",
    "    one_hot[np.arange(len(y)), y] = 1\n",
    "    return one_hot\n",
    "\n",
    "y_one_hot = convert_one_hot(y, k)\n",
    "print('y_one_hot\\n', y_one_hot)\n",
    "\n",
    "intercept = np.ones((X.shape[0], 1))\n",
    "X = np.concatenate((intercept, X), axis=1)\n",
    "print('X\\n', X)"
   ]
  },
  {
   "cell_type": "code",
   "execution_count": null,
   "metadata": {},
   "outputs": [],
   "source": []
  },
  {
   "cell_type": "code",
   "execution_count": null,
   "metadata": {},
   "outputs": [],
   "source": [
    "# initialize parameters\n",
    "theta = np.array([[0.1, 0.05], \n",
    "                  [0.2, -0.1]])\n",
    "print('theta:\\n', theta)"
   ]
  },
  {
   "cell_type": "code",
   "execution_count": null,
   "metadata": {},
   "outputs": [],
   "source": []
  },
  {
   "cell_type": "code",
   "execution_count": null,
   "metadata": {},
   "outputs": [],
   "source": [
    "# some parameters\n",
    "learning_rate = 0.1\n",
    "losses = []\n",
    "max_epoch = 1\n",
    "\n",
    "for epoch in range(max_epoch):\n",
    "    for i in range(N): \n",
    "        xi = X[i]\n",
    "        yi = y_one_hot[i]\n",
    "        \n",
    "        xi = xi.reshape((2,1))\n",
    "        yi = yi.reshape((2,1))\n",
    "        \n",
    "        # compute z\n",
    "        z = theta.T.dot(xi)        \n",
    "                \n",
    "        # compute y_hat\n",
    "        exp_z = np.exp(z)\n",
    "        y_hat = exp_z / np.sum(exp_z, axis=0)\n",
    "        \n",
    "        # compute the loss\n",
    "        loss = -np.log(yi.T.dot(y_hat))\n",
    "        losses.append(loss[0])\n",
    "        \n",
    "        # compute the gradient dz\n",
    "        dz = y_hat - yi\n",
    "        \n",
    "        # compute dtheta\n",
    "        dtheta = xi.dot(dz.T)\n",
    "        \n",
    "        # update\n",
    "        theta = theta - learning_rate*dtheta  \n",
    "        break"
   ]
  },
  {
   "cell_type": "code",
   "execution_count": null,
   "metadata": {},
   "outputs": [],
   "source": [
    "print(theta)"
   ]
  },
  {
   "cell_type": "code",
   "execution_count": null,
   "metadata": {},
   "outputs": [],
   "source": []
  },
  {
   "cell_type": "markdown",
   "metadata": {},
   "source": [
    "## One Cell"
   ]
  },
  {
   "cell_type": "code",
   "execution_count": 5,
   "metadata": {},
   "outputs": [
    {
     "name": "stdout",
     "output_type": "stream",
     "text": [
      "xi: [[1. ]\n",
      " [1.4]]\n",
      "yi: [[1.]\n",
      " [0.]]\n",
      "z: [[ 0.38]\n",
      " [-0.09]]\n",
      "loss: [[0.48550921]]\n",
      "[[ 0.13846162  0.01153838]\n",
      " [ 0.25384627 -0.15384627]]\n"
     ]
    }
   ],
   "source": [
    "import numpy as np\n",
    "import matplotlib.pyplot as plt\n",
    "\n",
    "def convert_one_hot(y, k):  \n",
    "    one_hot = np.zeros((len(y), k))\n",
    "    one_hot[np.arange(len(y)), y] = 1\n",
    "    return one_hot\n",
    "\n",
    "iris = np.genfromtxt('iris_1D_2c.csv', \n",
    "                     dtype=None, \n",
    "                     delimiter=',', \n",
    "                     skip_header=1) \n",
    "X = iris[:, 0:1]\n",
    "y = iris[:, 1]\n",
    "y = y.astype('uint8')\n",
    "\n",
    "N = 6 # numbers of samples\n",
    "k = 2 # number of classes\n",
    "\n",
    "y_one_hot = convert_one_hot(y, k)\n",
    "intercept = np.ones((X.shape[0], 1))\n",
    "X = np.concatenate((intercept, X), axis=1)\n",
    "\n",
    "theta = np.array([[0.1, 0.05], \n",
    "                  [0.2, -0.1]])\n",
    "\n",
    "# some parameters\n",
    "learning_rate = 0.1\n",
    "max_epoch = 1\n",
    "\n",
    "for epoch in range(max_epoch):\n",
    "    for i in range(N): \n",
    "        xi = X[i]\n",
    "        yi = y_one_hot[i]\n",
    "        \n",
    "        xi = xi.reshape((2,1))\n",
    "        yi = yi.reshape((2,1))\n",
    "        \n",
    "        print(f'xi: {xi}')\n",
    "        print(f'yi: {yi}')        \n",
    "        \n",
    "        # compute z\n",
    "        z = theta.T.dot(xi) \n",
    "        print(f'z: {z}') \n",
    "                \n",
    "        # compute y_hat\n",
    "        exp_z = np.exp(z)\n",
    "        y_hat = exp_z / np.sum(exp_z, axis=0)\n",
    "        \n",
    "        # compute the loss\n",
    "        loss = -np.log(yi.T.dot(y_hat))\n",
    "        print(f'loss: {loss}')\n",
    "        \n",
    "        # compute the gradient dz\n",
    "        dz = y_hat - yi\n",
    "        \n",
    "        # compute dtheta\n",
    "        dtheta = xi.dot(dz.T)\n",
    "        \n",
    "        # update\n",
    "        theta = theta - learning_rate*dtheta  \n",
    "        break\n",
    "\n",
    "print(theta)"
   ]
  },
  {
   "cell_type": "code",
   "execution_count": null,
   "metadata": {},
   "outputs": [],
   "source": []
  },
  {
   "cell_type": "code",
   "execution_count": null,
   "metadata": {},
   "outputs": [],
   "source": []
  }
 ],
 "metadata": {
  "kernelspec": {
   "display_name": "Python 3 (ipykernel)",
   "language": "python",
   "name": "python3"
  },
  "language_info": {
   "codemirror_mode": {
    "name": "ipython",
    "version": 3
   },
   "file_extension": ".py",
   "mimetype": "text/x-python",
   "name": "python",
   "nbconvert_exporter": "python",
   "pygments_lexer": "ipython3",
   "version": "3.9.18"
  }
 },
 "nbformat": 4,
 "nbformat_minor": 4
}
