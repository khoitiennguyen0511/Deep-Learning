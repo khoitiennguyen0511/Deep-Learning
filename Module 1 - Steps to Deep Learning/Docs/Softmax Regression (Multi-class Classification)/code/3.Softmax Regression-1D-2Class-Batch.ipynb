{
 "cells": [
  {
   "cell_type": "code",
   "execution_count": 1,
   "metadata": {},
   "outputs": [
    {
     "name": "stdout",
     "output_type": "stream",
     "text": [
      "X:\n",
      " [[1.4]\n",
      " [1.3]\n",
      " [1.5]\n",
      " [4.5]\n",
      " [4.1]\n",
      " [4.6]]\n",
      "y:\n",
      " [0 0 0 1 1 1]\n"
     ]
    },
    {
     "data": {
      "image/png": "[encoded data removed]",
      "text/plain": [
       "<Figure size 800x400 with 1 Axes>"
      ]
     },
     "metadata": {},
     "output_type": "display_data"
    }
   ],
   "source": [
    "import numpy as np\n",
    "import matplotlib.pyplot as plt\n",
    "from sklearn import preprocessing\n",
    "\n",
    "iris = np.genfromtxt('iris_1D_2c.csv', dtype=None, delimiter=',', skip_header=1) \n",
    "X = iris[:, 0:1]\n",
    "y = iris[:, 1]\n",
    "\n",
    "# change data type\n",
    "y = y.astype('uint8')\n",
    "\n",
    "print('X:\\n', X)\n",
    "print('y:\\n', y)\n",
    "\n",
    "plt.figure(figsize=(8, 4))\n",
    "plt.scatter(X[y == 0][:, 0], y[y == 0], color='b', label='0')\n",
    "plt.scatter(X[y == 1][:, 0], y[y == 1], color='r', label='1')\n",
    "plt.legend()\n",
    "plt.show()"
   ]
  },
  {
   "cell_type": "code",
   "execution_count": null,
   "metadata": {},
   "outputs": [],
   "source": []
  },
  {
   "cell_type": "code",
   "execution_count": 2,
   "metadata": {},
   "outputs": [
    {
     "name": "stdout",
     "output_type": "stream",
     "text": [
      "[[1. 0.]\n",
      " [1. 0.]\n",
      " [1. 0.]\n",
      " [0. 1.]\n",
      " [0. 1.]\n",
      " [0. 1.]]\n",
      "[[1.  1.4]\n",
      " [1.  1.3]\n",
      " [1.  1.5]\n",
      " [1.  4.5]\n",
      " [1.  4.1]\n",
      " [1.  4.6]]\n"
     ]
    }
   ],
   "source": [
    "N = 6\n",
    "k = 2\n",
    "\n",
    "# one_hot\n",
    "import numpy as np\n",
    "\n",
    "def convert_one_hot(y, k):  \n",
    "    one_hot = np.zeros((len(y), k))\n",
    "    one_hot[np.arange(len(y)), y] = 1\n",
    "    return one_hot\n",
    "\n",
    "y_one_hot = convert_one_hot(y, k)\n",
    "print(y_one_hot)\n",
    "\n",
    "intercept = np.ones((X.shape[0], 1))\n",
    "X = np.concatenate((intercept, X), axis=1)\n",
    "print(X)"
   ]
  },
  {
   "cell_type": "code",
   "execution_count": null,
   "metadata": {},
   "outputs": [],
   "source": []
  },
  {
   "cell_type": "code",
   "execution_count": 12,
   "metadata": {},
   "outputs": [
    {
     "name": "stdout",
     "output_type": "stream",
     "text": [
      "theta:\n",
      " [[ 0.1   0.05]\n",
      " [ 0.2  -0.1 ]]\n",
      "loss: 1.0411729169458368\n",
      "[[-0.02376371  0.17376371]\n",
      " [-0.69155806  0.79155806]]\n"
     ]
    }
   ],
   "source": [
    "# some parameters\n",
    "learning_rate = 0.1\n",
    "losses = []\n",
    "max_epoch = 1\n",
    "\n",
    "# initialize parameters\n",
    "theta = np.array([[0.1, 0.05], \n",
    "                  [0.2, -0.1]])\n",
    "print('theta:\\n', theta)\n",
    "\n",
    "for epoch in range(max_epoch):\n",
    "    # compute z\n",
    "    z = X.dot(theta)    \n",
    "\n",
    "    # compute y_hat\n",
    "    exp_z = np.exp(z)    \n",
    "    y_hat = exp_z / np.sum(exp_z, axis=1, keepdims=True)\n",
    "\n",
    "    # compute the loss\n",
    "    loss = -np.log(np.sum(y_hat*y_one_hot, axis=1))\n",
    "    print(f'loss: {np.sum(loss)/6}')\n",
    "    losses.append(np.sum(loss))\n",
    "\n",
    "    # compute the gradient dz\n",
    "    dz = y_hat - y_one_hot\n",
    "\n",
    "    # compute dtheta\n",
    "    dtheta = X.T.dot(dz)\n",
    "\n",
    "    # update\n",
    "    theta = theta - learning_rate*dtheta\n",
    "\n",
    "print(theta)"
   ]
  },
  {
   "cell_type": "code",
   "execution_count": null,
   "metadata": {},
   "outputs": [],
   "source": []
  },
  {
   "cell_type": "code",
   "execution_count": 11,
   "metadata": {},
   "outputs": [
    {
     "data": {
      "image/png": "[encoded data removed]",
      "text/plain": [
       "<Figure size 640x480 with 1 Axes>"
      ]
     },
     "metadata": {},
     "output_type": "display_data"
    }
   ],
   "source": [
    "x_axis = range(len(losses))\n",
    "plt.plot(x_axis, losses, color=\"r\")\n",
    "plt.show()"
   ]
  },
  {
   "cell_type": "code",
   "execution_count": null,
   "metadata": {},
   "outputs": [],
   "source": []
  },
  {
   "cell_type": "code",
   "execution_count": 12,
   "metadata": {},
   "outputs": [
    {
     "name": "stdout",
     "output_type": "stream",
     "text": [
      "[[ 3.08858244 -2.93858244]\n",
      " [-1.08487655  1.18487655]]\n"
     ]
    }
   ],
   "source": [
    "print(theta)"
   ]
  },
  {
   "cell_type": "code",
   "execution_count": null,
   "metadata": {},
   "outputs": [],
   "source": []
  },
  {
   "cell_type": "code",
   "execution_count": null,
   "metadata": {},
   "outputs": [],
   "source": []
  },
  {
   "cell_type": "code",
   "execution_count": 13,
   "metadata": {},
   "outputs": [
    {
     "name": "stdout",
     "output_type": "stream",
     "text": [
      "[[0.94529338 0.05470662]\n",
      " [0.95591232 0.04408768]\n",
      " [0.9322979  0.0677021 ]\n",
      " [0.01496852 0.98503148]\n",
      " [0.03630488 0.96369512]\n",
      " [0.01196539 0.98803461]]\n"
     ]
    }
   ],
   "source": [
    "z = X.dot(theta)    \n",
    "exp_z = np.exp(z)\n",
    "y_hat = exp_z / np.sum(exp_z, axis=1, keepdims=True)\n",
    "print(y_hat)"
   ]
  },
  {
   "cell_type": "code",
   "execution_count": 14,
   "metadata": {},
   "outputs": [
    {
     "name": "stdout",
     "output_type": "stream",
     "text": [
      "[0 0 0 1 1 1]\n"
     ]
    }
   ],
   "source": [
    "predicted_class = np.argmax(y_hat, axis=1)\n",
    "print(predicted_class)"
   ]
  },
  {
   "cell_type": "code",
   "execution_count": null,
   "metadata": {},
   "outputs": [],
   "source": []
  }
 ],
 "metadata": {
  "kernelspec": {
   "display_name": "Python 3 (ipykernel)",
   "language": "python",
   "name": "python3"
  },
  "language_info": {
   "codemirror_mode": {
    "name": "ipython",
    "version": 3
   },
   "file_extension": ".py",
   "mimetype": "text/x-python",
   "name": "python",
   "nbconvert_exporter": "python",
   "pygments_lexer": "ipython3",
   "version": "3.9.18"
  }
 },
 "nbformat": 4,
 "nbformat_minor": 4
}
