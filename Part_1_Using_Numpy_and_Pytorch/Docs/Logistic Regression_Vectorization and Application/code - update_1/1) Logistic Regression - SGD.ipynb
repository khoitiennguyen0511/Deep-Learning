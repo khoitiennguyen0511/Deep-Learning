{
 "cells": [
  {
   "cell_type": "code",
   "execution_count": 1,
   "metadata": {},
   "outputs": [
    {
     "name": "stdout",
     "output_type": "stream",
     "text": [
      "X_b (100, 5)\n",
      "y (100,)\n",
      "N 100\n"
     ]
    }
   ],
   "source": [
    "import numpy as np\n",
    "import matplotlib.pyplot as plt\n",
    "\n",
    "iris = np.genfromtxt('iris_full.csv', dtype=None, delimiter=',', skip_header=1) \n",
    "X = iris[:, :4]\n",
    "y = iris[:, 4]\n",
    "\n",
    "N = X.shape[0] # 100\n",
    "indices = np.random.permutation(N)\n",
    "X = X[indices]\n",
    "y = y[indices]\n",
    "\n",
    "intercept = np.ones((X.shape[0], 1))\n",
    "X_b = np.concatenate((intercept, X), axis=1)\n",
    "\n",
    "print('X_b', X_b.shape)\n",
    "print('y', y.shape)\n",
    "print('N', N)"
   ]
  },
  {
   "cell_type": "code",
   "execution_count": null,
   "metadata": {},
   "outputs": [],
   "source": []
  },
  {
   "cell_type": "code",
   "execution_count": 2,
   "metadata": {},
   "outputs": [],
   "source": [
    "def sigmoid_function(z):\n",
    "    return 1 / (1 + np.exp(-z))\n",
    "\n",
    "def loss_function(y_hat, y):\n",
    "    return (-y*np.log(y_hat) - (1 - y)*np.log(1 - y_hat))\n",
    "\n",
    "def predict(x, theta):    \n",
    "    z = np.dot(x, theta)\n",
    "    y_hat = sigmoid_function(z)\n",
    "    \n",
    "    return y_hat"
   ]
  },
  {
   "cell_type": "code",
   "execution_count": null,
   "metadata": {},
   "outputs": [],
   "source": []
  },
  {
   "cell_type": "code",
   "execution_count": 3,
   "metadata": {},
   "outputs": [],
   "source": [
    "lr = 0.01\n",
    "num_iter = 100\n",
    "\n",
    "theta = np.array([0.1, 0.3, 0.1, 0.2, -0.1])\n",
    "\n",
    "losses = []\n",
    "preds   = []\n",
    "accuracies = []\n",
    "\n",
    "\n",
    "for epoch in range(num_iter):\n",
    "    for i in range(0, N):\n",
    "        xi = X_b[i:i+1]\n",
    "        yi = y[i:i+1]\n",
    "        \n",
    "        # compute output\n",
    "        y_hat = predict(xi, theta)\n",
    "\n",
    "        # compute loss\n",
    "        loss = loss_function(y_hat, yi)\n",
    "\n",
    "        # compute mean of gradient\n",
    "        gradient = np.dot(xi.T, (y_hat - yi))\n",
    "\n",
    "        # update\n",
    "        theta = theta - lr*gradient  \n",
    "\n",
    "        #===============================\n",
    "        # loss\n",
    "        losses.append(loss)"
   ]
  },
  {
   "cell_type": "code",
   "execution_count": null,
   "metadata": {},
   "outputs": [],
   "source": []
  },
  {
   "cell_type": "code",
   "execution_count": 4,
   "metadata": {},
   "outputs": [
    {
     "data": {
      "image/png": "[encoded data removed]",
      "text/plain": [
       "<Figure size 640x480 with 1 Axes>"
      ]
     },
     "metadata": {},
     "output_type": "display_data"
    }
   ],
   "source": [
    "import matplotlib.pyplot as plt\n",
    "\n",
    "plt.plot(losses)\n",
    "plt.show()"
   ]
  },
  {
   "cell_type": "code",
   "execution_count": null,
   "metadata": {},
   "outputs": [],
   "source": []
  },
  {
   "cell_type": "code",
   "execution_count": 5,
   "metadata": {},
   "outputs": [
    {
     "data": {
      "text/plain": [
       "array([-0.30376981, -0.5378514 , -2.04773661,  3.10710918,  1.21546643])"
      ]
     },
     "execution_count": 5,
     "metadata": {},
     "output_type": "execute_result"
    }
   ],
   "source": [
    "theta"
   ]
  },
  {
   "cell_type": "code",
   "execution_count": 6,
   "metadata": {},
   "outputs": [],
   "source": [
    "# compute acc\n",
    "preds = []\n",
    "for i in range(0, N):\n",
    "    xi = X_b[i:i+1]\n",
    "    yi = y[i:i+1]\n",
    "    \n",
    "    y_hat = predict(xi, theta).round()    \n",
    "    preds.append(y_hat[0])"
   ]
  },
  {
   "cell_type": "code",
   "execution_count": 8,
   "metadata": {},
   "outputs": [
    {
     "name": "stdout",
     "output_type": "stream",
     "text": [
      "1.0\n"
     ]
    }
   ],
   "source": [
    "acc = (preds == y).mean()\n",
    "print(acc)"
   ]
  },
  {
   "cell_type": "code",
   "execution_count": null,
   "metadata": {},
   "outputs": [],
   "source": []
  }
 ],
 "metadata": {
  "kernelspec": {
   "display_name": "Python 3 (ipykernel)",
   "language": "python",
   "name": "python3"
  },
  "language_info": {
   "codemirror_mode": {
    "name": "ipython",
    "version": 3
   },
   "file_extension": ".py",
   "mimetype": "text/x-python",
   "name": "python",
   "nbconvert_exporter": "python",
   "pygments_lexer": "ipython3",
   "version": "3.9.18"
  }
 },
 "nbformat": 4,
 "nbformat_minor": 4
}
